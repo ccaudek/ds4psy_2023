{
 "cells": [
  {
   "attachments": {},
   "cell_type": "markdown",
   "metadata": {},
   "source": [
    "(discr_distr_notebook)=\n",
    "# Distribuzioni di v.c. discrete"
   ]
  },
  {
   "attachments": {},
   "cell_type": "markdown",
   "metadata": {},
   "source": [
    "In questo capitolo, esamineremo le principali distribuzioni di probabilità delle variabili casuali discrete. Per esempio, un esperimento casuale che può dare luogo a solo due possibili esiti (successo, insuccesso) è modellabile con una variabile casuale di Bernoulli. Una sequenza di prove di Bernoulli costituisce un processo Bernoulliano. Il numero di successi dopo $n$ prove di Bernoulli corrisponde a una variabile casuale che segue la legge binomiale. La distribuzione binomiale risulta da un insieme di prove di Bernoulli solo se il numero totale $n$ è fisso per disegno. Se il numero di prove è esso stesso una variabile casuale, allora il numero di successi nella corrispondente sequenza di prove bernoulliane segue la distribuzione di Poisson. Concluderemo questo capitolo con la distribuzione discreta uniforme, che assegna la stessa probabilità a ciascun valore in un intervallo finito.\n",
    "\n",
    "## Una prova Bernoulliana\n",
    "\n",
    "Se un esperimento casuale ha solo due esiti possibili, allora le repliche indipendenti di questo esperimento sono chiamate \"prove Bernoulliane\" (il lancio di una moneta è il tipico esempio).\n",
    "\n",
    "```{admonition} Definizione\n",
    "Viene detta variabile di Bernoulli una variabile casuale discreta $Y = \\{0, 1\\}$ con la seguente distribuzione di probabilità:\n",
    "\n",
    "$$\n",
    "P(Y \\mid \\theta) =\n",
    "  \\begin{cases}\n",
    "    \\theta     & \\text{se $Y = 1$}, \\\\\n",
    "    1 - \\theta & \\text{se $Y = 0$},\n",
    "  \\end{cases}\n",
    "$$\n",
    "\n",
    "con $0 \\leq \\theta \\leq 1$. Convenzionalmente l'evento $\\{Y = 1\\}$ con probabilità $\\theta$ viene chiamato \"successo\" mentre l'evento $\\{Y = 0\\}$ con probabilità $1-\\theta$ viene chiamato \"insuccesso\".\n",
    "```\n",
    "\n",
    "Applicando l'operatore di valore atteso e di varianza, otteniamo\n",
    "\n",
    "$$\n",
    "\\begin{align}\n",
    "\\mathbb{E}(Y) &= 0 \\cdot P(Y=0) + 1 \\cdot P(Y=1) = \\theta, \\\\\n",
    "\\mathbb{V}(Y) &= (0 - \\theta)^2 \\cdot P(Y=0) + (1 - \\theta)^2 \\cdot P(Y=1) = \\theta(1-\\theta).\n",
    "\\end{align}\n",
    "$$ (eq-ev-var-bern)\n",
    "\n",
    "Scriviamo $Y \\sim Bernoulli(\\theta)$ per indicare che la variabile casuale $Y$ ha una distribuzione Bernoulliana di parametro $\\theta$.\n",
    "\n",
    "Nel caso del lancio di una moneta equilibrata la variabile casuale di Bernoulli assume i valori $0$ e $1$. La distribuzione di massa di probabilità è pari a $\\frac{1}{2}$ in corrispondenza di entrambi i valori. La funzione di distribuzione vale $\\frac{1}{2}$ per $Y = 0$ e $1$ per $Y = 1$."
   ]
  },
  {
   "attachments": {},
   "cell_type": "markdown",
   "metadata": {},
   "source": [
    "## Una sequenza di prove Bernoulliane\n",
    "\n",
    "La distribuzione binomiale rappresenta la distribuzione di probabilità discreta degli eventi in cui una variabile casuale di Bernoulli viene ripetuta per un numero fisso di volte $n$, ciascuna con la stessa probabilità di successo $\\theta$. La distribuzione binomiale è quindi caratterizzata dall'elenco di tutti i possibili numeri di successi $Y = {0, 1, 2, \\dots, n}$ che possono essere osservati in queste $n$ prove indipendenti, a ciascuno dei quali è associata una relativa probabilità.\n",
    "\n",
    "La distribuzione binomiale è utilizzata per modellare diversi esperimenti, come ad esempio il risultato di una serie di lanci di una stessa moneta o il numero di successi in una serie di estrazioni da un'urna con reintroduzione. È importante notare che la distribuzione binomiale è in realtà una famiglia di distribuzioni, in quanto le probabilità variano al variare dei parametri $\\theta$ e $n$.\n",
    "\n",
    "```{admonition} Definizione\n",
    "La probabilità di ottenere $y$ successi e $n-y$ insuccessi in $n$ prove Bernoulliane è data dalla distribuzione binomiale:\n",
    "\n",
    "$$\n",
    "\\begin{align}\n",
    "P(Y=y) &= \\binom{n}{y} \\theta^{y} (1-\\theta)^{n-y} \\notag \\\\\n",
    "&= \\frac{n!}{y!(n-y)!} \\theta^{y} (1-\\theta)^{n-y}, \n",
    "\\end{align}\n",
    "$$ (eq-binomialdistribution)\n",
    "\n",
    "dove $n$ = numero di prove Bernoulliane, $\\theta$ = probabilità di successo in ciascuna prova e $y$ = numero di successi.\n",
    "```\n",
    "\n",
    "L'eq. {eq}`eq-binomialdistribution` può essere derivata nel modo seguente. Indichiamo con $S$ il successo e con $I$ l'insuccesso di ciascuna prova. Una sequenza di $n$ prove Bernoulliane darà come esito una sequenza di $n$ elementi $S$ e $I$. Ad esempio, una sequenza che contiene $y$ successi è la seguente:\n",
    "\n",
    "$$\n",
    "\\overbrace{SS\\dots S}^\\text{$y$ volte} \\overbrace{II\\dots I}^\\text{$n-y$ volte}\n",
    "$$\n",
    "\n",
    "Essendo $\\theta$ la probabilità di $S$ e $1-\\theta$ la probabilità di $I$, la probabilità di ottenere la specifica sequenza riportata sopra è\n",
    "\n",
    "$$\n",
    "\\begin{equation}\n",
    "\\overbrace{\\theta \\theta\\dots \\theta}^\\text{$y$ volte} \\overbrace{(1-\\theta)(1-\\theta)\\dots (1-\\theta)}^\\text{$n-y$ volte} = \\theta^y \\cdot (1-\\theta)^{n-y}.\n",
    "\\end{equation}\n",
    "$$ (eq-demo-bino-kernel)\n",
    "\n",
    "Non siamo però interessati alla probabilità di una *specifica* sequenza di $S$ e $I$ ma, bensì, alla probabilità di osservare una *qualsiasi* sequenza di $y$ successi in $n$ prove. In altre parole, vogliamo la probabilità dell'unione di tutti gli eventi corrispondenti a $y$ successi in $n$ prove.\n",
    "\n",
    "È immediato notare che una qualsiasi altra sequenza contenente esattamente $y$ successi avrà sempre come probabilità $\\theta^y \\cdot (1-\\theta)^{n-y}$: il prodotto infatti resta costante anche se cambia l'ordine dei fattori.[^022_discr_rv_distr-1] Per trovare il risultato cercato dobbiamo moltiplicare l'eq. {eq}`eq-demo-bino-kernel` per il numero di sequenze possibili di $y$ successi in $n$ prove.\n",
    "\n",
    "Il numero di sequenze che contengono esattamente $y$ successi in $n$ prove. La risposta è fornita dal coefficiente binomiale:\n",
    "\n",
    "$$\n",
    "\\binom{n}{y} = \\frac{n!}{y!(n-y)!},\n",
    "$$ (eq-binomial-coefficient)\n",
    "\n",
    "dove il simbolo $n!$ si legge $n$ fattoriale ed è uguale al prodotto di $n$ numeri interi decrescenti a partire da $n$. Per definizione $0! = 1$.\n",
    "\n",
    "Essendo la probabilità dell'unione di $K$ elementi incompatibili uguale alla somma delle loro rispettive probabilità, e dato che le sequenze di $y$ successi in $n$ prove hanno tutte la stessa probabilità, per trovare la formula della distributione binomiale {eq}`eq-binomialdistribution` è sufficiente moltiplicare l'eq. {eq}`eq-demo-bino-kernel` per la {eq}`eq-binomial-coefficient`.\n",
    "\n",
    "[^022_discr_rv_distr-1]: Viene detta *scambiabilità* la proprietà per cui l'ordine con cui compiamo le osservazioni è irrilevante per l'assegnazione delle probabilità."
   ]
  },
  {
   "attachments": {},
   "cell_type": "markdown",
   "metadata": {},
   "source": [
    "Importiamo i pacchetti che ci servono."
   ]
  },
  {
   "cell_type": "code",
   "execution_count": 1,
   "metadata": {},
   "outputs": [],
   "source": [
    "import numpy as np\n",
    "import matplotlib.pyplot as plt\n",
    "import scipy.stats as st\n",
    "import seaborn as sns\n",
    "import pandas as pd\n",
    "from scipy.constants import golden"
   ]
  },
  {
   "cell_type": "code",
   "execution_count": 2,
   "metadata": {},
   "outputs": [],
   "source": [
    "%matplotlib inline\n",
    "sns.set_theme(\n",
    "    context=\"paper\",\n",
    "    style=\"darkgrid\",\n",
    "    palette=\"colorblind\",\n",
    "    rc={\"figure.figsize\": (5.0, 5.0 / golden)},\n",
    ")\n",
    "SEED = 12345\n",
    "rng = np.random.default_rng(SEED)"
   ]
  },
  {
   "attachments": {},
   "cell_type": "markdown",
   "metadata": {},
   "source": [
    "**scipy** contiene funzioni analitiche per una vasta gamma di distribuzioni e funzioni di massa di probabilità; le potete trovare [qui](https://docs.scipy.org/doc/scipy/reference/stats.html). Per la binomiale, useremo `scipy.stats.binom`. "
   ]
  },
  {
   "attachments": {},
   "cell_type": "markdown",
   "metadata": {},
   "source": [
    "Esistono due modi per usare `scipy` per la binomiale. È possibile prima dichiarare un oggetto che corrisponde ad una variabile casuale, ad esempio `rv = binom(n, theta)`, e poi chiamare `rv.pmf(y)`. Oppure si può usare la chiamata `binom.pmf(y, n, theta)`. Usiamo il secondo metodo."
   ]
  },
  {
   "cell_type": "code",
   "execution_count": 3,
   "metadata": {},
   "outputs": [
    {
     "name": "stdout",
     "output_type": "stream",
     "text": [
      "0 1 2 3 4 5 6 7 8 9 10 11 12 13 14\n"
     ]
    }
   ],
   "source": [
    "n = 20\n",
    "theta = 0.3\n",
    "y = np.arange(0, 15)\n",
    "print(*y)"
   ]
  },
  {
   "attachments": {},
   "cell_type": "markdown",
   "metadata": {},
   "source": [
    "Trovo le probabilità associate a 0, 1, ..., 14 successi in 20 prove con $p$ = 0.3."
   ]
  },
  {
   "cell_type": "code",
   "execution_count": 4,
   "metadata": {},
   "outputs": [
    {
     "data": {
      "text/plain": [
       "array([0.00079792, 0.00683934, 0.02784587, 0.07160367, 0.13042097,\n",
       "       0.17886305, 0.19163898, 0.16426199, 0.11439674, 0.06536957,\n",
       "       0.03081708, 0.01200665, 0.00385928, 0.00101783, 0.00021811])"
      ]
     },
     "execution_count": 4,
     "metadata": {},
     "output_type": "execute_result"
    }
   ],
   "source": [
    "st.binom.pmf(y, n, theta)"
   ]
  },
  {
   "attachments": {},
   "cell_type": "markdown",
   "metadata": {},
   "source": [
    "Rappresento graficamente la funzione di massa di probabilità."
   ]
  },
  {
   "cell_type": "code",
   "execution_count": 8,
   "metadata": {},
   "outputs": [
    {
     "data": {
      "text/plain": [
       "(0.0, 0.20122093189111467)"
      ]
     },
     "execution_count": 8,
     "metadata": {},
     "output_type": "execute_result"
    },
    {
     "data": {
      "image/png": "[encoded data removed]",
      "text/plain": [
       "<Figure size 500x309.017 with 1 Axes>"
      ]
     },
     "metadata": {},
     "output_type": "display_data"
    }
   ],
   "source": [
    "fig, ax = plt.subplots()\n",
    "ax.plot(y, st.binom.pmf(y, n, theta), \"bo\", ms=8)\n",
    "ax.vlines(y, 0, st.binom.pmf(y, n, theta), colors=\"b\", linestyles=\"-\", lw=1)\n",
    "ax.set_title(f\"Funzione di massa binomiale: $n$={n}, $\\\\theta$={theta}\", loc=\"left\")\n",
    "ax.set_xlabel(\"y\")\n",
    "ax.set_ylabel(\"Probabilità\")\n",
    "ax.set_xlim(0, None)\n",
    "ax.set_ylim(0, None)"
   ]
  },
  {
   "attachments": {},
   "cell_type": "markdown",
   "metadata": {},
   "source": [
    "Per fare un altro esempio, mostriamo qui la distribuzione di probabilità di alcune distribuzioni binomiali, per due valori di $n$ e $\\theta$, è fornita nella figura seguente."
   ]
  },
  {
   "cell_type": "code",
   "execution_count": 10,
   "metadata": {},
   "outputs": [
    {
     "data": {
      "image/png": "[encoded data removed]",
      "text/plain": [
       "<Figure size 500x309.017 with 1 Axes>"
      ]
     },
     "metadata": {},
     "output_type": "display_data"
    }
   ],
   "source": [
    "for theta in range(3, 10, 3):\n",
    "    y = np.arange(0, 25)\n",
    "    binom = st.binom.pmf(y, 20, 0.1*theta)\n",
    "    plt.plot(y, binom, '-o', label=\"theta = {:f}\".format(0.1*theta))\n",
    "    plt.xlabel('Numero y di successi')\n",
    "    plt.ylabel('Probabilità')\n",
    "    plt.title(\"Distribuzione binomiale al variare di $\\\\theta$\")"
   ]
  },
  {
   "attachments": {},
   "cell_type": "markdown",
   "metadata": {},
   "source": [
    "Esaminiamo più attentamente l'uso di `st.binom.pmf`. Usando l'eq. {eq}`eq-binomialdistribution`,  troviamo, ad esempio, la probabilità di $y = 2$ successi in $n = 4$ prove Bernoulliane indipendenti con $\\theta = 0.2$.\n",
    "\n",
    "$$\n",
    "\\begin{aligned}\n",
    "P(Y=2) &= \\frac{4!}{2!(4-2)!} 0.2^{2} (1-0.2)^{4-2} \\notag  \\\\\n",
    " &= \\frac{4 \\cdot 3 \\cdot 2 \\cdot 1}{(2 \\cdot 1)(2 \\cdot 1)}\n",
    "0.2^{2} 0.8^{2} = 0.1536. \\notag\n",
    "\\end{aligned}\n",
    "$$\n",
    "\n",
    "Ripetendo i calcoli per i valori $y = 0, \\dots, 4$ troviamo la distribuzione binomiale di parametri $n = 4$ e $\\theta = 0.2$:\n",
    "\n",
    "|  y  | P(Y = y) |\n",
    "|:---:|:--------:|\n",
    "|  0  |  0.4096  |\n",
    "|  1  |  0.4096  |\n",
    "|  2  |  0.1536  |\n",
    "|  3  |  0.0256  |\n",
    "|  4  |  0.0016  |\n",
    "| sum |   1.0    |\n",
    "\n",
    "Ora usiamo `st.binom.pmf`."
   ]
  },
  {
   "cell_type": "code",
   "execution_count": 13,
   "metadata": {},
   "outputs": [
    {
     "name": "stdout",
     "output_type": "stream",
     "text": [
      "0 1 2 3 4\n"
     ]
    }
   ],
   "source": [
    "n = 4\n",
    "theta = 0.2\n",
    "y = np.arange(0, n+1)"
   ]
  },
  {
   "cell_type": "code",
   "execution_count": 14,
   "metadata": {},
   "outputs": [
    {
     "name": "stdout",
     "output_type": "stream",
     "text": [
      "[0.4096 0.4096 0.1536 0.0256 0.0016]\n"
     ]
    }
   ],
   "source": [
    "binomial_pmf = st.binom.pmf(y, n, theta)\n",
    "print(binomial_pmf)"
   ]
  },
  {
   "attachments": {},
   "cell_type": "markdown",
   "metadata": {},
   "source": [
    "Consideriamo un altro esempio. Lanciando $5$ volte una moneta onesta, qual è la probabilità che esca testa almeno tre volte?"
   ]
  },
  {
   "cell_type": "code",
   "execution_count": 15,
   "metadata": {},
   "outputs": [
    {
     "data": {
      "text/plain": [
       "0.49999999999999983"
      ]
     },
     "execution_count": 15,
     "metadata": {},
     "output_type": "execute_result"
    }
   ],
   "source": [
    "st.binom.pmf(3, n=5, p=0.5) + st.binom.pmf(4, n=5, p=0.5) +  st.binom.pmf(5, n=5, p=0.5)"
   ]
  },
  {
   "cell_type": "code",
   "execution_count": 16,
   "metadata": {},
   "outputs": [
    {
     "data": {
      "text/plain": [
       "0.49999999999999983"
      ]
     },
     "execution_count": 16,
     "metadata": {},
     "output_type": "execute_result"
    }
   ],
   "source": [
    "np.sum([st.binom.pmf(k, n=5, p=0.5) for k in range(3, 6)])"
   ]
  },
  {
   "attachments": {},
   "cell_type": "markdown",
   "metadata": {},
   "source": [
    "Più facilmente, si trova la risposta usando la funzione di ripartizione `binom.cdf`."
   ]
  },
  {
   "cell_type": "code",
   "execution_count": 17,
   "metadata": {},
   "outputs": [
    {
     "data": {
      "text/plain": [
       "0.5"
      ]
     },
     "execution_count": 17,
     "metadata": {},
     "output_type": "execute_result"
    }
   ],
   "source": [
    "1 - st.binom.cdf(2, n=5, p=0.5)"
   ]
  },
  {
   "attachments": {},
   "cell_type": "markdown",
   "metadata": {},
   "source": [
    "Rappresentiamo graficamente la funzione di distribuzione per una Binomiale di ordine $n$ = 5 e $\\theta$ = 0.5."
   ]
  },
  {
   "cell_type": "code",
   "execution_count": 20,
   "metadata": {},
   "outputs": [
    {
     "data": {
      "text/plain": [
       "Text(0, 0.5, 'Probabilità')"
      ]
     },
     "execution_count": 20,
     "metadata": {},
     "output_type": "execute_result"
    },
    {
     "data": {
      "image/png": "[encoded data removed]",
      "text/plain": [
       "<Figure size 500x309.017 with 1 Axes>"
      ]
     },
     "metadata": {},
     "output_type": "display_data"
    }
   ],
   "source": [
    "_, ax = plt.subplots()\n",
    "ax.plot(y, st.binom.cdf(y, n=n, p=theta))\n",
    "ax.scatter(y, st.binom.cdf(y, n=n, p=theta))\n",
    "ax.axhline(1, color=\"k\", alpha=0.7, linestyle=\"-.\", lw=1)\n",
    "ax.set_title(f\"Funzione di ripartizione binomiale: $n$={5}, $\\\\theta$={theta}\", loc=\"left\")\n",
    "ax.set_xlabel(\"y\")\n",
    "ax.set_ylabel(\"Probabilità\")"
   ]
  },
  {
   "attachments": {},
   "cell_type": "markdown",
   "metadata": {},
   "source": [
    "Resta da capire come generare una sequenza casuale di valori da una distribuzione Binomiale. Per fare questo, prima definiamo una variabile casuale Binomiale con determinati parametri. Per esempio, definiamo una Binomiale di ordine $n$ = 5 e $p$ = 0.5."
   ]
  },
  {
   "cell_type": "code",
   "execution_count": 14,
   "metadata": {},
   "outputs": [],
   "source": [
    "n = 5\n",
    "p = 0.5\n",
    "rv = st.binom(n, p)"
   ]
  },
  {
   "attachments": {},
   "cell_type": "markdown",
   "metadata": {},
   "source": [
    "Possiamo poi esaminare un certo numero di realizzazioni di questa variabile casuale mediante il metodo `rvs`. Per esempio, consideriamo 30 realizzazioni della v.c. `rv`.  "
   ]
  },
  {
   "cell_type": "code",
   "execution_count": 15,
   "metadata": {},
   "outputs": [
    {
     "name": "stdout",
     "output_type": "stream",
     "text": [
      "1 3 1 2 4 4 2 2 1 3 4 3 0 3 1 1 4 3 2 4 1 4 2 2 4 4 5 3 4 2\n"
     ]
    }
   ],
   "source": [
    "x = rv.rvs(30)\n",
    "print(*x)"
   ]
  },
  {
   "attachments": {},
   "cell_type": "markdown",
   "metadata": {},
   "source": [
    "### Valore atteso e deviazione standard\n",
    "\n",
    "La media (numero atteso di successi in $n$ prove) e la deviazione standard di una distribuzione binomiale si trovano nel modo seguente:\n",
    "\n",
    "$$\n",
    "\\begin{align}\n",
    "\\mu    &= n\\theta,  \\notag \\\\\n",
    "\\sigma &= \\sqrt{n\\theta(1-\\theta)}.\n",
    "\\end{align}\n",
    "$$ (eq-mean-var-binomial)\n",
    "\n",
    "```{admonition} Dimostrazione\n",
    "Essendo $Y$ la somma di $n$ prove Bernoulliane indipendenti $Y_i$, è facile vedere che\n",
    "\n",
    "$$\n",
    "\\begin{align}\n",
    "\\mathbb{E}(Y) &= \\mathbb{E}\\left( \\sum_{i=1}^n Y_i \\right) = \\sum_{i=1}^n \\mathbb{E}(Y_i) = n\\theta, \\\\\n",
    "\\mathbb{V}(Y) &= \\mathbb{V} \\left( \\sum_{i=1}^n Y_i \\right) = \\sum_{i=1}^n \\mathbb{V}(Y_i) = n \\theta (1-\\theta).\n",
    "\\end{align}\n",
    "$$\n",
    "```"
   ]
  },
  {
   "attachments": {},
   "cell_type": "markdown",
   "metadata": {},
   "source": [
    "Si trovino il valore atteso e la varianza del lancio di quattro monete con probabilità di successo pari a $\\theta = 0.2$.\n",
    "\n",
    "Il valore atteso è $\\mu = n \\theta = 4 \\cdot 0.2 = 0.8.$ Ciò significa che, se l'esperimento casuale venisse ripetuto infinite volte, l'esito testa verrebbe osservato un numero medio di volte pari a 0.8. La varianza è $n \\theta (1-\\theta) = 4 \\cdot 0.2 \\cdot (1 - 0.2) = 0.64$."
   ]
  },
  {
   "attachments": {},
   "cell_type": "markdown",
   "metadata": {},
   "source": [
    "## Distribuzione discreta uniforme\n",
    "\n",
    "Abbiamo già introdotto la distribuzione uniforme in precedenza. Ricordiamo che una distribuzione discreta uniforme è una distribuzione di probabilità discreta che è uniforme su un insieme, ovvero che attribuisce ad ogni elemento dell'insieme discreto e finito $S$ su cui è definita la stessa probabilità $p$ di verificarsi.\n",
    "\n",
    "Si consideri una variabile casuale discreta $X$ con supporto $1, 2, \\dots, N$. Un esperimento casuale in cui si verifica questa distribuzione è la scelta casuale di un intero compreso tra 1 e $N$ inclusi. Sia $X$ il numero scelto. La condizione di normalizzazione implica che\n",
    "\n",
    "$$\n",
    "\\sum_{i=1}^N P(X_i) = \\sum_{i=1}^N P = Np = 1.\n",
    "$$\n",
    "\n",
    "Allora\n",
    "\n",
    "$$\n",
    "P(X = x) = \\frac{1}{N}, \n",
    "$$\n",
    "\n",
    "dove $N$ è il numero dei possibili eventi.\n",
    "\n",
    "Il valore atteso di $X$ è\n",
    "\n",
    "$$\n",
    "\\mathbb{E}(X) = \\sum_{x=1}^N x f_X(x) = \\sum_{x=1}^N x \\frac{1}{N} = \\frac{1}{N} (1 + 2 + \\dots + N) = \\frac{N+1}{2},\n",
    "$$\n",
    "\n",
    "dove abbiamo utilizzato l'identità $1+2+···+N = N(N+1)/2$.\n",
    "\n",
    "Per trovare la varianza, prima calcoliamo\n",
    "\n",
    "$$\n",
    "\\mathbb{E}(X^2) = \\frac{1}{N} \\sum_{x=1}^N x^2,\n",
    "$$ \n",
    "\n",
    "e poi troviamo\n",
    "\n",
    "$$\n",
    "\\mathbb{V}(X) = \\mathbb{E}(X^2) - \\left[\\mathbb{E}(X)\\right]^2.\n",
    "$$"
   ]
  },
  {
   "attachments": {},
   "cell_type": "markdown",
   "metadata": {},
   "source": [
    "## Distribuzione beta-binomiale\n",
    "\n",
    "La distribuzione beta-binomiale di parametri $N$, $\\alpha$ e $\\beta$ è una distribuzione discreta con una funzione di massa di probabilità uguale a\n",
    "\n",
    "$$\n",
    "BetaBinomial(y \\mid N, \\alpha, \\beta) = \\binom{N}{y} \\frac{B(y + \\alpha, N-y+\\beta)}{B(\\alpha, \\beta)},\n",
    "$$ (eq-beta-binom-formula)\n",
    "\n",
    "dove la funzione beta è $B(u, v) = \\frac{\\Gamma(u)\\Gamma(v)}{\\Gamma(u+v)}$.\n",
    "\n",
    "## Commenti e considerazioni finali\n",
    "\n",
    "La distribuzione binomiale è una distribuzione di probabilità discreta che descrive il numero di successi in un processo di Bernoulli, ovvero la variabile aleatoria $Y = Y_1 + \\dots + Y_n$ che somma $n$ variabili casuali indipendenti di uguale distribuzione di Bernoulli $\\mathcal{B}(\\theta)$, ognuna delle quali può fornire due soli risultati: il successo con probabilità $\\theta$ e l'insuccesso con probabilità $1 - \\theta$.\n",
    "\n",
    "La distribuzione binomiale è molto importante per le sue molte applicazioni. Nelle presenti dispense dedicate all'analisi bayesiana, è importante perché costituisce il fondamento del caso più semplice dell'*aggiornamento bayesiano*, ovvero il caso Beta-Binomiale. Il modello Beta-Binomiale fornisce un esempio paradigmatico dell'approccio bayesiano all'inferenza e sarà trattato in maniera analitica nei capitoli successivi. È dunque importante che le proprietà della distribuzione binomiale risultino ben chiare.\n",
    "\n",
    "## Watermark"
   ]
  },
  {
   "cell_type": "code",
   "execution_count": null,
   "metadata": {},
   "outputs": [],
   "source": [
    "%load_ext watermark\n",
    "%watermark -n -u -v -iv -w -p pytensor"
   ]
  }
 ],
 "metadata": {
  "kernelspec": {
   "display_name": "Python 3",
   "language": "python",
   "name": "python3"
  },
  "language_info": {
   "codemirror_mode": {
    "name": "ipython",
    "version": 3
   },
   "file_extension": ".py",
   "mimetype": "text/x-python",
   "name": "python",
   "nbconvert_exporter": "python",
   "pygments_lexer": "ipython3",
   "version": "3.10.9"
  },
  "orig_nbformat": 4,
  "vscode": {
   "interpreter": {
    "hash": "2fb22ef73048ab480306a3a8971dd9d9ae74918bef9be9e93ea3e01644b9825e"
   }
  }
 },
 "nbformat": 4,
 "nbformat_minor": 2
}
