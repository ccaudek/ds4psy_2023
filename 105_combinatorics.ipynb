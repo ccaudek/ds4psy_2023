{
 "cells": [
  {
   "attachments": {},
   "cell_type": "markdown",
   "metadata": {},
   "source": [
    "(combinatorics-notebook)=\n",
    "# Calcolo combinatorio"
   ]
  },
  {
   "attachments": {},
   "cell_type": "markdown",
   "metadata": {},
   "source": [
    "Il calcolo combinatorio si pone il problema di determinare il numero dei\n",
    "modi mediante i quali possono essere associati, secondo prefissate regole,\n",
    "gli elementi di uno stesso insieme o di più insiemi. Alcuni dei problemi del calcolo delle probabilità per essere risolti richiedono l'utilizzo dei metodi del calcolo combinatorio. \n",
    "\n",
    "In questo capitolo verranno discussi alcuni concetti del calcolo combinatorio. In particolare, verranno introdotti il principio del prodotto, il principio della somma e il modello dell'urna. Verranno inoltre descritte le nozioni di permutazione semplice, disposizione semplice e di combinazione semplice."
   ]
  },
  {
   "cell_type": "code",
   "execution_count": 19,
   "metadata": {},
   "outputs": [],
   "source": [
    "import numpy as np\n",
    "import pandas as pd\n",
    "import itertools as it\n",
    "import math\n",
    "import matplotlib.pyplot as plt\n",
    "import seaborn as sns\n",
    "from scipy.constants import golden"
   ]
  },
  {
   "cell_type": "code",
   "execution_count": 2,
   "metadata": {},
   "outputs": [],
   "source": [
    "%matplotlib inline\n",
    "sns.set_theme(\n",
    "    context=\"paper\",\n",
    "    style=\"darkgrid\",\n",
    "    palette=\"colorblind\",\n",
    "    rc={'figure.figsize': (5.0, 5.0/golden)},\n",
    ")\n",
    "SEED = 123456\n",
    "rng = np.random.default_rng(SEED)"
   ]
  },
  {
   "attachments": {},
   "cell_type": "markdown",
   "metadata": {},
   "source": [
    "## Principio del prodotto\n",
    "I metodi di base del calcolo combinatorio applicano due principi: la regola del prodotto e la regola della somma. Consideriamo il principio del prodotto.\n",
    "\n",
    "In generale, una scelta può essere fatta in più passi, poniamo $k$. Supponiamo che per ogni $i = 1, \\dots, k$ la scelta da compiere all'$i$-mo passo possa essere fatta in $n_i$ modi. Il principio del prodotto dice che allora il numero totale di possibili scelte è il prodotto\n",
    "\n",
    "$$\n",
    "n_{\\text{tot}} = n_1 \\cdot  n_2 \\cdots n_{k-1} \\cdot n_k.\n",
    "$$\n",
    "\n",
    "**Esempio 1.** In Minnesota le targhe delle automobili sono costituite da tre lettere (da A a Z) seguite da tre numeri (da 0 a 9). Qual è la proporzione di targhe che iniziano con GZN?\n",
    "\n",
    "La soluzione è data dal numero di targhe che iniziano con GZN diviso per il numero totale di targhe possibili. \n",
    "\n",
    "Il numero totale di targe è $26 \\cdot 26 \\cdot 26 \\cdot 10 \\cdot 10 \\cdot 10 = 17,576,000$. Per calcolare il numero di targhe che iniziano con GZN, consideriamo le targhe che hanno la forma GZN \\_ \\_ \\_. Per i tre simboli mancanti ci sono $10 \\cdot 10 \\cdot 10$ possibilità. Dunque la proporzione cercata è \n",
    "\n",
    "$$\n",
    "10^3/(26^3 \\cdot 10^3) = 1/26^3 = 0.0000569.\n",
    "$$"
   ]
  },
  {
   "cell_type": "code",
   "execution_count": 51,
   "metadata": {},
   "outputs": [
    {
     "data": {
      "text/plain": [
       "5.689576695493855e-05"
      ]
     },
     "execution_count": 51,
     "metadata": {},
     "output_type": "execute_result"
    }
   ],
   "source": [
    "10**3 / (26**3 * 10**3)"
   ]
  },
  {
   "attachments": {},
   "cell_type": "markdown",
   "metadata": {},
   "source": [
    "## Principio della somma\n",
    "Se un evento può accadere in $\\vert S_1\\vert$ modi, un secondo evento può accadere in $\\vert S_2\\vert$ modi, $\\dots$, un ultimo evento può accadere in  $\\vert S_k\\vert$ modi,  vi sono $\\vert S_1\\vert + \\vert S_2\\vert + \\dots + \\vert S_{k-1}\\vert + \\vert S_k\\vert$ modi in cui uno dei $k$ eventi può accadere. In altri termini, se i sottoinsiemi $S_1, \\dots, S_k$, costituiscono una partizione di $S$, allora\n",
    "\n",
    "$$\n",
    "\\vert S_1 \\cup S_2 \\cup \\dots \\cup S_{k-1} \\cup S_k \\vert = \\vert S_1\\vert + \\vert S_2\\vert + \\dots + \\vert S_{k-1}\\vert + \\vert S_k\\vert.\n",
    "$$\n",
    "\n",
    "**Esempio 2.** L'urna $A$ contiene $5$ palline numerate da $1$ a $5$, l'urna $B$ contiene $6$ palline numerate da $6$ a $11$, l'urna $C$ contiene $3$ palline numerate da $12$ a $14$ e l'urna $D$ contiene $2$ palline numerate $15$ e $16$. Quanti insiemi composti da due palline, ciascuna estratta da un'urna differente, si possono formare?\n",
    "\n",
    "Per la regola del prodotto, si possono formare: $30$ insiemi di tipo $AB$ (una pallina estratta dall'urna $A$ e una estratta dall'urna $B$), $15$ di tipo $AC$, $10$ di tipo $AD$, $18$ di tipo $BC$, $12$ di tipo $BD$ e $6$ di tipo $CD$. Per la regola della somma, il numero di insiemi distinti che si possono formare con due palline provenienti dalle quattro urne è $30 + 15 + 10 + 18 + 12 + 6 = 91$.\n",
    "\n",
    "## Il modello dell'urna\n",
    "I problemi del calcolo combinatorio sono spesso assimilabili ad estrazioni di palline da urne che diventano così schemi o modelli delle corrispondenti situazioni considerate. Si definisce *modello dell'urna* la  procedura per cui, da un'urna contenente $n$ palline, si estraggono a caso $k$ palline. Le palline possono essere tutte diverse, oppure alcune palline possono essere tra loro indistinguibili. Fra le possibili modalità di estrazione hanno speciale interesse\n",
    "\n",
    "- l'*estrazione Bernoulliana* di $k$ palline ottenuta estraendo, una dopo l'altra, $k$ palline e rimettendo ogni volta nell'urna la pallina estratta;\n",
    "- l'*estrazione senza ripetizione* di $k$ palline ottenuta estraendo, una dopo l'altra, $k$ palline senza rimetterle nell'urna;\n",
    "- l'*estrazione in blocco* di $k$ palline ottenuta estraendo $k$ palline simultaneamente.\n",
    "\n",
    "Per esempio, nel caso di campioni di ampiezza 2 estratti da un'urna con tre elementi $\\{1, 2, 3\\}$, abbiamo i seguenti quattro casi:\n",
    "\n",
    "- campionamento con reimmissione tenendo conto dell'ordine di estrazione: $\\{1,  1\\}, \\{2,  1\\}, \\{3,  1\\}, \\{1,  2\\}, \\{2,  2\\}, \\{3,  2\\}, \\{1,  3\\}, \\{2,  3\\}, \\{3,  3\\}$;\n",
    "- campionamento con reimmissione senza tenere conto dell'ordine di estrazione: $\\{1,  1\\}, \\{1,  2\\}, \\{1,  3\\}, \\{2,  2\\}, \\{2,  3\\}, \\{3,  3\\}$;\n",
    "- campionamento senza reimmissione tenendo conto dell'ordine di estrazione:\n",
    "$\\{1,  2\\}, \\{2,  1\\}, \\{1,  3\\}, \\{3,  1\\}, \\{2,  3\\}, \\{3,  2\\}$;\n",
    "- campionamento senza reimmissione e senza tenere conto dell'ordine di estrazione: $\\{1 , 2\\}, \\{1,  3\\}, \\{2, 3\\}$.\n",
    "\n",
    "\n",
    "## Permutazioni semplici\n",
    "Una *permutazione semplice* di elementi diversi tra loro è il risultato di uno scambio dell'ordine degli elementi di un insieme. Le permutazioni semplici si indicano con il simbolo $P_{n}$. Il modello dell'urna è quello di $n$ estrazioni senza rimessa da un'urna che contiene $n$ palline diverse. Il numero delle permutazioni semplici di $n$ elementi distinti è uguale a\n",
    "\n",
    "$$\n",
    "P_n = n!\n",
    "$$ (eq-permsem)\n",
    "\n",
    "dove il simbolo $n!$ si legge $n$ fattoriale ed è uguale al prodotto di $n$ numeri interi decrescenti a partire da $n$. Per definizione $0! = 1$.\n",
    "\n",
    "**Esempio 3.** Consideriamo l'insieme: $A = \\{a, b, c\\}$. Calcoliamo il numero di permutazioni semplici.\n",
    "\n",
    "Le permutazioni semplici di $A$ sono: $\\{a, b, c\\}$, $\\{a, c, b\\}$, $\\{b, c, a\\}$, $\\{b, a, c\\}$, $\\{c, a, b\\}$, $\\{c, b, a\\}$, ovvero 6. Applichiamo l'eq. {ref}`eq-permsem`:\n",
    "\n",
    "$$\n",
    "P_n = P_3 = 3! = 3 \\cdot 2 \\cdot 1 = 6.\n",
    "$$"
   ]
  },
  {
   "attachments": {},
   "cell_type": "markdown",
   "metadata": {},
   "source": [
    "Lo strumento principale che usiamo in Python per trovare le permutazioni di un insieme è una libreria specificamente progettata per iterare sugli oggetti in modi diversi, ovvero `itertools`. Importiamo le librerie necessarie."
   ]
  },
  {
   "attachments": {},
   "cell_type": "markdown",
   "metadata": {},
   "source": [
    "Con `itertools.permutations()` generiamo le permutazioni. Per visualizzare il risultato dobbiamo trasformarlo in una tupla:"
   ]
  },
  {
   "cell_type": "code",
   "execution_count": 3,
   "metadata": {},
   "outputs": [
    {
     "name": "stdout",
     "output_type": "stream",
     "text": [
      "{'A', 'B', 'C'}\n"
     ]
    }
   ],
   "source": [
    "A = {'A','B','C'}\n",
    "print(A)"
   ]
  },
  {
   "cell_type": "code",
   "execution_count": 4,
   "metadata": {},
   "outputs": [
    {
     "data": {
      "text/plain": [
       "(('A', 'B', 'C'),\n",
       " ('A', 'C', 'B'),\n",
       " ('B', 'A', 'C'),\n",
       " ('B', 'C', 'A'),\n",
       " ('C', 'A', 'B'),\n",
       " ('C', 'B', 'A'))"
      ]
     },
     "execution_count": 4,
     "metadata": {},
     "output_type": "execute_result"
    }
   ],
   "source": [
    "permutations = it.permutations(A)\n",
    "tuple(permutations)"
   ]
  },
  {
   "attachments": {},
   "cell_type": "markdown",
   "metadata": {},
   "source": [
    "Lo stesso risultato si ottiene con"
   ]
  },
  {
   "cell_type": "code",
   "execution_count": 5,
   "metadata": {},
   "outputs": [
    {
     "data": {
      "text/plain": [
       "(('A', 'B', 'C'),\n",
       " ('A', 'C', 'B'),\n",
       " ('B', 'A', 'C'),\n",
       " ('B', 'C', 'A'),\n",
       " ('C', 'A', 'B'),\n",
       " ('C', 'B', 'A'))"
      ]
     },
     "execution_count": 5,
     "metadata": {},
     "output_type": "execute_result"
    }
   ],
   "source": [
    "permutations = it.permutations(\"ABC\")\n",
    "permutations = tuple(permutations)\n",
    "permutations"
   ]
  },
  {
   "attachments": {},
   "cell_type": "markdown",
   "metadata": {},
   "source": [
    "Possiamo ora contare quanti elementi ci sono nella tupla usando la funzione `len()`: "
   ]
  },
  {
   "cell_type": "code",
   "execution_count": 6,
   "metadata": {},
   "outputs": [
    {
     "data": {
      "text/plain": [
       "6"
      ]
     },
     "execution_count": 6,
     "metadata": {},
     "output_type": "execute_result"
    }
   ],
   "source": [
    "len(permutations)"
   ]
  },
  {
   "attachments": {},
   "cell_type": "markdown",
   "metadata": {},
   "source": [
    "Oppure, possiamo appliare la formula {eq}`eq-permsem` mediante la funzione `factorial()` contenuta nella libreria `math` di Numpy:"
   ]
  },
  {
   "cell_type": "code",
   "execution_count": 7,
   "metadata": {},
   "outputs": [
    {
     "data": {
      "text/plain": [
       "6"
      ]
     },
     "execution_count": 7,
     "metadata": {},
     "output_type": "execute_result"
    }
   ],
   "source": [
    "np.math.factorial(3)"
   ]
  },
  {
   "attachments": {},
   "cell_type": "markdown",
   "metadata": {},
   "source": [
    "**Esempio 4.** Gli anagrammi  sono  le permutazioni che si ottengono da una parola variando l'ordine delle lettere. Le permutazioni semplici si applicano al caso di parole costituite da lettere tutte diverse tra loro. Ad esempio, con la parola  NUMERO si ottengono $P_6 = 6! = 6\\cdot5\\cdot4\\cdot3\\cdot2\\cdot1 = 720$ anagrammi. "
   ]
  },
  {
   "cell_type": "code",
   "execution_count": 8,
   "metadata": {},
   "outputs": [
    {
     "data": {
      "text/plain": [
       "(('N', 'U', 'M', 'E', 'R', 'O'),\n",
       " ('N', 'U', 'M', 'E', 'O', 'R'),\n",
       " ('N', 'U', 'M', 'R', 'E', 'O'),\n",
       " ('N', 'U', 'M', 'R', 'O', 'E'),\n",
       " ('N', 'U', 'M', 'O', 'E', 'R'),\n",
       " ('N', 'U', 'M', 'O', 'R', 'E'),\n",
       " ('N', 'U', 'E', 'M', 'R', 'O'),\n",
       " ('N', 'U', 'E', 'M', 'O', 'R'),\n",
       " ('N', 'U', 'E', 'R', 'M', 'O'),\n",
       " ('N', 'U', 'E', 'R', 'O', 'M'),\n",
       " ('N', 'U', 'E', 'O', 'M', 'R'),\n",
       " ('N', 'U', 'E', 'O', 'R', 'M'),\n",
       " ('N', 'U', 'R', 'M', 'E', 'O'),\n",
       " ('N', 'U', 'R', 'M', 'O', 'E'),\n",
       " ('N', 'U', 'R', 'E', 'M', 'O'),\n",
       " ('N', 'U', 'R', 'E', 'O', 'M'),\n",
       " ('N', 'U', 'R', 'O', 'M', 'E'),\n",
       " ('N', 'U', 'R', 'O', 'E', 'M'),\n",
       " ('N', 'U', 'O', 'M', 'E', 'R'),\n",
       " ('N', 'U', 'O', 'M', 'R', 'E'),\n",
       " ('N', 'U', 'O', 'E', 'M', 'R'),\n",
       " ('N', 'U', 'O', 'E', 'R', 'M'),\n",
       " ('N', 'U', 'O', 'R', 'M', 'E'),\n",
       " ('N', 'U', 'O', 'R', 'E', 'M'),\n",
       " ('N', 'M', 'U', 'E', 'R', 'O'),\n",
       " ('N', 'M', 'U', 'E', 'O', 'R'),\n",
       " ('N', 'M', 'U', 'R', 'E', 'O'),\n",
       " ('N', 'M', 'U', 'R', 'O', 'E'),\n",
       " ('N', 'M', 'U', 'O', 'E', 'R'),\n",
       " ('N', 'M', 'U', 'O', 'R', 'E'),\n",
       " ('N', 'M', 'E', 'U', 'R', 'O'),\n",
       " ('N', 'M', 'E', 'U', 'O', 'R'),\n",
       " ('N', 'M', 'E', 'R', 'U', 'O'),\n",
       " ('N', 'M', 'E', 'R', 'O', 'U'),\n",
       " ('N', 'M', 'E', 'O', 'U', 'R'),\n",
       " ('N', 'M', 'E', 'O', 'R', 'U'),\n",
       " ('N', 'M', 'R', 'U', 'E', 'O'),\n",
       " ('N', 'M', 'R', 'U', 'O', 'E'),\n",
       " ('N', 'M', 'R', 'E', 'U', 'O'),\n",
       " ('N', 'M', 'R', 'E', 'O', 'U'),\n",
       " ('N', 'M', 'R', 'O', 'U', 'E'),\n",
       " ('N', 'M', 'R', 'O', 'E', 'U'),\n",
       " ('N', 'M', 'O', 'U', 'E', 'R'),\n",
       " ('N', 'M', 'O', 'U', 'R', 'E'),\n",
       " ('N', 'M', 'O', 'E', 'U', 'R'),\n",
       " ('N', 'M', 'O', 'E', 'R', 'U'),\n",
       " ('N', 'M', 'O', 'R', 'U', 'E'),\n",
       " ('N', 'M', 'O', 'R', 'E', 'U'),\n",
       " ('N', 'E', 'U', 'M', 'R', 'O'),\n",
       " ('N', 'E', 'U', 'M', 'O', 'R'),\n",
       " ('N', 'E', 'U', 'R', 'M', 'O'),\n",
       " ('N', 'E', 'U', 'R', 'O', 'M'),\n",
       " ('N', 'E', 'U', 'O', 'M', 'R'),\n",
       " ('N', 'E', 'U', 'O', 'R', 'M'),\n",
       " ('N', 'E', 'M', 'U', 'R', 'O'),\n",
       " ('N', 'E', 'M', 'U', 'O', 'R'),\n",
       " ('N', 'E', 'M', 'R', 'U', 'O'),\n",
       " ('N', 'E', 'M', 'R', 'O', 'U'),\n",
       " ('N', 'E', 'M', 'O', 'U', 'R'),\n",
       " ('N', 'E', 'M', 'O', 'R', 'U'),\n",
       " ('N', 'E', 'R', 'U', 'M', 'O'),\n",
       " ('N', 'E', 'R', 'U', 'O', 'M'),\n",
       " ('N', 'E', 'R', 'M', 'U', 'O'),\n",
       " ('N', 'E', 'R', 'M', 'O', 'U'),\n",
       " ('N', 'E', 'R', 'O', 'U', 'M'),\n",
       " ('N', 'E', 'R', 'O', 'M', 'U'),\n",
       " ('N', 'E', 'O', 'U', 'M', 'R'),\n",
       " ('N', 'E', 'O', 'U', 'R', 'M'),\n",
       " ('N', 'E', 'O', 'M', 'U', 'R'),\n",
       " ('N', 'E', 'O', 'M', 'R', 'U'),\n",
       " ('N', 'E', 'O', 'R', 'U', 'M'),\n",
       " ('N', 'E', 'O', 'R', 'M', 'U'),\n",
       " ('N', 'R', 'U', 'M', 'E', 'O'),\n",
       " ('N', 'R', 'U', 'M', 'O', 'E'),\n",
       " ('N', 'R', 'U', 'E', 'M', 'O'),\n",
       " ('N', 'R', 'U', 'E', 'O', 'M'),\n",
       " ('N', 'R', 'U', 'O', 'M', 'E'),\n",
       " ('N', 'R', 'U', 'O', 'E', 'M'),\n",
       " ('N', 'R', 'M', 'U', 'E', 'O'),\n",
       " ('N', 'R', 'M', 'U', 'O', 'E'),\n",
       " ('N', 'R', 'M', 'E', 'U', 'O'),\n",
       " ('N', 'R', 'M', 'E', 'O', 'U'),\n",
       " ('N', 'R', 'M', 'O', 'U', 'E'),\n",
       " ('N', 'R', 'M', 'O', 'E', 'U'),\n",
       " ('N', 'R', 'E', 'U', 'M', 'O'),\n",
       " ('N', 'R', 'E', 'U', 'O', 'M'),\n",
       " ('N', 'R', 'E', 'M', 'U', 'O'),\n",
       " ('N', 'R', 'E', 'M', 'O', 'U'),\n",
       " ('N', 'R', 'E', 'O', 'U', 'M'),\n",
       " ('N', 'R', 'E', 'O', 'M', 'U'),\n",
       " ('N', 'R', 'O', 'U', 'M', 'E'),\n",
       " ('N', 'R', 'O', 'U', 'E', 'M'),\n",
       " ('N', 'R', 'O', 'M', 'U', 'E'),\n",
       " ('N', 'R', 'O', 'M', 'E', 'U'),\n",
       " ('N', 'R', 'O', 'E', 'U', 'M'),\n",
       " ('N', 'R', 'O', 'E', 'M', 'U'),\n",
       " ('N', 'O', 'U', 'M', 'E', 'R'),\n",
       " ('N', 'O', 'U', 'M', 'R', 'E'),\n",
       " ('N', 'O', 'U', 'E', 'M', 'R'),\n",
       " ('N', 'O', 'U', 'E', 'R', 'M'),\n",
       " ('N', 'O', 'U', 'R', 'M', 'E'),\n",
       " ('N', 'O', 'U', 'R', 'E', 'M'),\n",
       " ('N', 'O', 'M', 'U', 'E', 'R'),\n",
       " ('N', 'O', 'M', 'U', 'R', 'E'),\n",
       " ('N', 'O', 'M', 'E', 'U', 'R'),\n",
       " ('N', 'O', 'M', 'E', 'R', 'U'),\n",
       " ('N', 'O', 'M', 'R', 'U', 'E'),\n",
       " ('N', 'O', 'M', 'R', 'E', 'U'),\n",
       " ('N', 'O', 'E', 'U', 'M', 'R'),\n",
       " ('N', 'O', 'E', 'U', 'R', 'M'),\n",
       " ('N', 'O', 'E', 'M', 'U', 'R'),\n",
       " ('N', 'O', 'E', 'M', 'R', 'U'),\n",
       " ('N', 'O', 'E', 'R', 'U', 'M'),\n",
       " ('N', 'O', 'E', 'R', 'M', 'U'),\n",
       " ('N', 'O', 'R', 'U', 'M', 'E'),\n",
       " ('N', 'O', 'R', 'U', 'E', 'M'),\n",
       " ('N', 'O', 'R', 'M', 'U', 'E'),\n",
       " ('N', 'O', 'R', 'M', 'E', 'U'),\n",
       " ('N', 'O', 'R', 'E', 'U', 'M'),\n",
       " ('N', 'O', 'R', 'E', 'M', 'U'),\n",
       " ('U', 'N', 'M', 'E', 'R', 'O'),\n",
       " ('U', 'N', 'M', 'E', 'O', 'R'),\n",
       " ('U', 'N', 'M', 'R', 'E', 'O'),\n",
       " ('U', 'N', 'M', 'R', 'O', 'E'),\n",
       " ('U', 'N', 'M', 'O', 'E', 'R'),\n",
       " ('U', 'N', 'M', 'O', 'R', 'E'),\n",
       " ('U', 'N', 'E', 'M', 'R', 'O'),\n",
       " ('U', 'N', 'E', 'M', 'O', 'R'),\n",
       " ('U', 'N', 'E', 'R', 'M', 'O'),\n",
       " ('U', 'N', 'E', 'R', 'O', 'M'),\n",
       " ('U', 'N', 'E', 'O', 'M', 'R'),\n",
       " ('U', 'N', 'E', 'O', 'R', 'M'),\n",
       " ('U', 'N', 'R', 'M', 'E', 'O'),\n",
       " ('U', 'N', 'R', 'M', 'O', 'E'),\n",
       " ('U', 'N', 'R', 'E', 'M', 'O'),\n",
       " ('U', 'N', 'R', 'E', 'O', 'M'),\n",
       " ('U', 'N', 'R', 'O', 'M', 'E'),\n",
       " ('U', 'N', 'R', 'O', 'E', 'M'),\n",
       " ('U', 'N', 'O', 'M', 'E', 'R'),\n",
       " ('U', 'N', 'O', 'M', 'R', 'E'),\n",
       " ('U', 'N', 'O', 'E', 'M', 'R'),\n",
       " ('U', 'N', 'O', 'E', 'R', 'M'),\n",
       " ('U', 'N', 'O', 'R', 'M', 'E'),\n",
       " ('U', 'N', 'O', 'R', 'E', 'M'),\n",
       " ('U', 'M', 'N', 'E', 'R', 'O'),\n",
       " ('U', 'M', 'N', 'E', 'O', 'R'),\n",
       " ('U', 'M', 'N', 'R', 'E', 'O'),\n",
       " ('U', 'M', 'N', 'R', 'O', 'E'),\n",
       " ('U', 'M', 'N', 'O', 'E', 'R'),\n",
       " ('U', 'M', 'N', 'O', 'R', 'E'),\n",
       " ('U', 'M', 'E', 'N', 'R', 'O'),\n",
       " ('U', 'M', 'E', 'N', 'O', 'R'),\n",
       " ('U', 'M', 'E', 'R', 'N', 'O'),\n",
       " ('U', 'M', 'E', 'R', 'O', 'N'),\n",
       " ('U', 'M', 'E', 'O', 'N', 'R'),\n",
       " ('U', 'M', 'E', 'O', 'R', 'N'),\n",
       " ('U', 'M', 'R', 'N', 'E', 'O'),\n",
       " ('U', 'M', 'R', 'N', 'O', 'E'),\n",
       " ('U', 'M', 'R', 'E', 'N', 'O'),\n",
       " ('U', 'M', 'R', 'E', 'O', 'N'),\n",
       " ('U', 'M', 'R', 'O', 'N', 'E'),\n",
       " ('U', 'M', 'R', 'O', 'E', 'N'),\n",
       " ('U', 'M', 'O', 'N', 'E', 'R'),\n",
       " ('U', 'M', 'O', 'N', 'R', 'E'),\n",
       " ('U', 'M', 'O', 'E', 'N', 'R'),\n",
       " ('U', 'M', 'O', 'E', 'R', 'N'),\n",
       " ('U', 'M', 'O', 'R', 'N', 'E'),\n",
       " ('U', 'M', 'O', 'R', 'E', 'N'),\n",
       " ('U', 'E', 'N', 'M', 'R', 'O'),\n",
       " ('U', 'E', 'N', 'M', 'O', 'R'),\n",
       " ('U', 'E', 'N', 'R', 'M', 'O'),\n",
       " ('U', 'E', 'N', 'R', 'O', 'M'),\n",
       " ('U', 'E', 'N', 'O', 'M', 'R'),\n",
       " ('U', 'E', 'N', 'O', 'R', 'M'),\n",
       " ('U', 'E', 'M', 'N', 'R', 'O'),\n",
       " ('U', 'E', 'M', 'N', 'O', 'R'),\n",
       " ('U', 'E', 'M', 'R', 'N', 'O'),\n",
       " ('U', 'E', 'M', 'R', 'O', 'N'),\n",
       " ('U', 'E', 'M', 'O', 'N', 'R'),\n",
       " ('U', 'E', 'M', 'O', 'R', 'N'),\n",
       " ('U', 'E', 'R', 'N', 'M', 'O'),\n",
       " ('U', 'E', 'R', 'N', 'O', 'M'),\n",
       " ('U', 'E', 'R', 'M', 'N', 'O'),\n",
       " ('U', 'E', 'R', 'M', 'O', 'N'),\n",
       " ('U', 'E', 'R', 'O', 'N', 'M'),\n",
       " ('U', 'E', 'R', 'O', 'M', 'N'),\n",
       " ('U', 'E', 'O', 'N', 'M', 'R'),\n",
       " ('U', 'E', 'O', 'N', 'R', 'M'),\n",
       " ('U', 'E', 'O', 'M', 'N', 'R'),\n",
       " ('U', 'E', 'O', 'M', 'R', 'N'),\n",
       " ('U', 'E', 'O', 'R', 'N', 'M'),\n",
       " ('U', 'E', 'O', 'R', 'M', 'N'),\n",
       " ('U', 'R', 'N', 'M', 'E', 'O'),\n",
       " ('U', 'R', 'N', 'M', 'O', 'E'),\n",
       " ('U', 'R', 'N', 'E', 'M', 'O'),\n",
       " ('U', 'R', 'N', 'E', 'O', 'M'),\n",
       " ('U', 'R', 'N', 'O', 'M', 'E'),\n",
       " ('U', 'R', 'N', 'O', 'E', 'M'),\n",
       " ('U', 'R', 'M', 'N', 'E', 'O'),\n",
       " ('U', 'R', 'M', 'N', 'O', 'E'),\n",
       " ('U', 'R', 'M', 'E', 'N', 'O'),\n",
       " ('U', 'R', 'M', 'E', 'O', 'N'),\n",
       " ('U', 'R', 'M', 'O', 'N', 'E'),\n",
       " ('U', 'R', 'M', 'O', 'E', 'N'),\n",
       " ('U', 'R', 'E', 'N', 'M', 'O'),\n",
       " ('U', 'R', 'E', 'N', 'O', 'M'),\n",
       " ('U', 'R', 'E', 'M', 'N', 'O'),\n",
       " ('U', 'R', 'E', 'M', 'O', 'N'),\n",
       " ('U', 'R', 'E', 'O', 'N', 'M'),\n",
       " ('U', 'R', 'E', 'O', 'M', 'N'),\n",
       " ('U', 'R', 'O', 'N', 'M', 'E'),\n",
       " ('U', 'R', 'O', 'N', 'E', 'M'),\n",
       " ('U', 'R', 'O', 'M', 'N', 'E'),\n",
       " ('U', 'R', 'O', 'M', 'E', 'N'),\n",
       " ('U', 'R', 'O', 'E', 'N', 'M'),\n",
       " ('U', 'R', 'O', 'E', 'M', 'N'),\n",
       " ('U', 'O', 'N', 'M', 'E', 'R'),\n",
       " ('U', 'O', 'N', 'M', 'R', 'E'),\n",
       " ('U', 'O', 'N', 'E', 'M', 'R'),\n",
       " ('U', 'O', 'N', 'E', 'R', 'M'),\n",
       " ('U', 'O', 'N', 'R', 'M', 'E'),\n",
       " ('U', 'O', 'N', 'R', 'E', 'M'),\n",
       " ('U', 'O', 'M', 'N', 'E', 'R'),\n",
       " ('U', 'O', 'M', 'N', 'R', 'E'),\n",
       " ('U', 'O', 'M', 'E', 'N', 'R'),\n",
       " ('U', 'O', 'M', 'E', 'R', 'N'),\n",
       " ('U', 'O', 'M', 'R', 'N', 'E'),\n",
       " ('U', 'O', 'M', 'R', 'E', 'N'),\n",
       " ('U', 'O', 'E', 'N', 'M', 'R'),\n",
       " ('U', 'O', 'E', 'N', 'R', 'M'),\n",
       " ('U', 'O', 'E', 'M', 'N', 'R'),\n",
       " ('U', 'O', 'E', 'M', 'R', 'N'),\n",
       " ('U', 'O', 'E', 'R', 'N', 'M'),\n",
       " ('U', 'O', 'E', 'R', 'M', 'N'),\n",
       " ('U', 'O', 'R', 'N', 'M', 'E'),\n",
       " ('U', 'O', 'R', 'N', 'E', 'M'),\n",
       " ('U', 'O', 'R', 'M', 'N', 'E'),\n",
       " ('U', 'O', 'R', 'M', 'E', 'N'),\n",
       " ('U', 'O', 'R', 'E', 'N', 'M'),\n",
       " ('U', 'O', 'R', 'E', 'M', 'N'),\n",
       " ('M', 'N', 'U', 'E', 'R', 'O'),\n",
       " ('M', 'N', 'U', 'E', 'O', 'R'),\n",
       " ('M', 'N', 'U', 'R', 'E', 'O'),\n",
       " ('M', 'N', 'U', 'R', 'O', 'E'),\n",
       " ('M', 'N', 'U', 'O', 'E', 'R'),\n",
       " ('M', 'N', 'U', 'O', 'R', 'E'),\n",
       " ('M', 'N', 'E', 'U', 'R', 'O'),\n",
       " ('M', 'N', 'E', 'U', 'O', 'R'),\n",
       " ('M', 'N', 'E', 'R', 'U', 'O'),\n",
       " ('M', 'N', 'E', 'R', 'O', 'U'),\n",
       " ('M', 'N', 'E', 'O', 'U', 'R'),\n",
       " ('M', 'N', 'E', 'O', 'R', 'U'),\n",
       " ('M', 'N', 'R', 'U', 'E', 'O'),\n",
       " ('M', 'N', 'R', 'U', 'O', 'E'),\n",
       " ('M', 'N', 'R', 'E', 'U', 'O'),\n",
       " ('M', 'N', 'R', 'E', 'O', 'U'),\n",
       " ('M', 'N', 'R', 'O', 'U', 'E'),\n",
       " ('M', 'N', 'R', 'O', 'E', 'U'),\n",
       " ('M', 'N', 'O', 'U', 'E', 'R'),\n",
       " ('M', 'N', 'O', 'U', 'R', 'E'),\n",
       " ('M', 'N', 'O', 'E', 'U', 'R'),\n",
       " ('M', 'N', 'O', 'E', 'R', 'U'),\n",
       " ('M', 'N', 'O', 'R', 'U', 'E'),\n",
       " ('M', 'N', 'O', 'R', 'E', 'U'),\n",
       " ('M', 'U', 'N', 'E', 'R', 'O'),\n",
       " ('M', 'U', 'N', 'E', 'O', 'R'),\n",
       " ('M', 'U', 'N', 'R', 'E', 'O'),\n",
       " ('M', 'U', 'N', 'R', 'O', 'E'),\n",
       " ('M', 'U', 'N', 'O', 'E', 'R'),\n",
       " ('M', 'U', 'N', 'O', 'R', 'E'),\n",
       " ('M', 'U', 'E', 'N', 'R', 'O'),\n",
       " ('M', 'U', 'E', 'N', 'O', 'R'),\n",
       " ('M', 'U', 'E', 'R', 'N', 'O'),\n",
       " ('M', 'U', 'E', 'R', 'O', 'N'),\n",
       " ('M', 'U', 'E', 'O', 'N', 'R'),\n",
       " ('M', 'U', 'E', 'O', 'R', 'N'),\n",
       " ('M', 'U', 'R', 'N', 'E', 'O'),\n",
       " ('M', 'U', 'R', 'N', 'O', 'E'),\n",
       " ('M', 'U', 'R', 'E', 'N', 'O'),\n",
       " ('M', 'U', 'R', 'E', 'O', 'N'),\n",
       " ('M', 'U', 'R', 'O', 'N', 'E'),\n",
       " ('M', 'U', 'R', 'O', 'E', 'N'),\n",
       " ('M', 'U', 'O', 'N', 'E', 'R'),\n",
       " ('M', 'U', 'O', 'N', 'R', 'E'),\n",
       " ('M', 'U', 'O', 'E', 'N', 'R'),\n",
       " ('M', 'U', 'O', 'E', 'R', 'N'),\n",
       " ('M', 'U', 'O', 'R', 'N', 'E'),\n",
       " ('M', 'U', 'O', 'R', 'E', 'N'),\n",
       " ('M', 'E', 'N', 'U', 'R', 'O'),\n",
       " ('M', 'E', 'N', 'U', 'O', 'R'),\n",
       " ('M', 'E', 'N', 'R', 'U', 'O'),\n",
       " ('M', 'E', 'N', 'R', 'O', 'U'),\n",
       " ('M', 'E', 'N', 'O', 'U', 'R'),\n",
       " ('M', 'E', 'N', 'O', 'R', 'U'),\n",
       " ('M', 'E', 'U', 'N', 'R', 'O'),\n",
       " ('M', 'E', 'U', 'N', 'O', 'R'),\n",
       " ('M', 'E', 'U', 'R', 'N', 'O'),\n",
       " ('M', 'E', 'U', 'R', 'O', 'N'),\n",
       " ('M', 'E', 'U', 'O', 'N', 'R'),\n",
       " ('M', 'E', 'U', 'O', 'R', 'N'),\n",
       " ('M', 'E', 'R', 'N', 'U', 'O'),\n",
       " ('M', 'E', 'R', 'N', 'O', 'U'),\n",
       " ('M', 'E', 'R', 'U', 'N', 'O'),\n",
       " ('M', 'E', 'R', 'U', 'O', 'N'),\n",
       " ('M', 'E', 'R', 'O', 'N', 'U'),\n",
       " ('M', 'E', 'R', 'O', 'U', 'N'),\n",
       " ('M', 'E', 'O', 'N', 'U', 'R'),\n",
       " ('M', 'E', 'O', 'N', 'R', 'U'),\n",
       " ('M', 'E', 'O', 'U', 'N', 'R'),\n",
       " ('M', 'E', 'O', 'U', 'R', 'N'),\n",
       " ('M', 'E', 'O', 'R', 'N', 'U'),\n",
       " ('M', 'E', 'O', 'R', 'U', 'N'),\n",
       " ('M', 'R', 'N', 'U', 'E', 'O'),\n",
       " ('M', 'R', 'N', 'U', 'O', 'E'),\n",
       " ('M', 'R', 'N', 'E', 'U', 'O'),\n",
       " ('M', 'R', 'N', 'E', 'O', 'U'),\n",
       " ('M', 'R', 'N', 'O', 'U', 'E'),\n",
       " ('M', 'R', 'N', 'O', 'E', 'U'),\n",
       " ('M', 'R', 'U', 'N', 'E', 'O'),\n",
       " ('M', 'R', 'U', 'N', 'O', 'E'),\n",
       " ('M', 'R', 'U', 'E', 'N', 'O'),\n",
       " ('M', 'R', 'U', 'E', 'O', 'N'),\n",
       " ('M', 'R', 'U', 'O', 'N', 'E'),\n",
       " ('M', 'R', 'U', 'O', 'E', 'N'),\n",
       " ('M', 'R', 'E', 'N', 'U', 'O'),\n",
       " ('M', 'R', 'E', 'N', 'O', 'U'),\n",
       " ('M', 'R', 'E', 'U', 'N', 'O'),\n",
       " ('M', 'R', 'E', 'U', 'O', 'N'),\n",
       " ('M', 'R', 'E', 'O', 'N', 'U'),\n",
       " ('M', 'R', 'E', 'O', 'U', 'N'),\n",
       " ('M', 'R', 'O', 'N', 'U', 'E'),\n",
       " ('M', 'R', 'O', 'N', 'E', 'U'),\n",
       " ('M', 'R', 'O', 'U', 'N', 'E'),\n",
       " ('M', 'R', 'O', 'U', 'E', 'N'),\n",
       " ('M', 'R', 'O', 'E', 'N', 'U'),\n",
       " ('M', 'R', 'O', 'E', 'U', 'N'),\n",
       " ('M', 'O', 'N', 'U', 'E', 'R'),\n",
       " ('M', 'O', 'N', 'U', 'R', 'E'),\n",
       " ('M', 'O', 'N', 'E', 'U', 'R'),\n",
       " ('M', 'O', 'N', 'E', 'R', 'U'),\n",
       " ('M', 'O', 'N', 'R', 'U', 'E'),\n",
       " ('M', 'O', 'N', 'R', 'E', 'U'),\n",
       " ('M', 'O', 'U', 'N', 'E', 'R'),\n",
       " ('M', 'O', 'U', 'N', 'R', 'E'),\n",
       " ('M', 'O', 'U', 'E', 'N', 'R'),\n",
       " ('M', 'O', 'U', 'E', 'R', 'N'),\n",
       " ('M', 'O', 'U', 'R', 'N', 'E'),\n",
       " ('M', 'O', 'U', 'R', 'E', 'N'),\n",
       " ('M', 'O', 'E', 'N', 'U', 'R'),\n",
       " ('M', 'O', 'E', 'N', 'R', 'U'),\n",
       " ('M', 'O', 'E', 'U', 'N', 'R'),\n",
       " ('M', 'O', 'E', 'U', 'R', 'N'),\n",
       " ('M', 'O', 'E', 'R', 'N', 'U'),\n",
       " ('M', 'O', 'E', 'R', 'U', 'N'),\n",
       " ('M', 'O', 'R', 'N', 'U', 'E'),\n",
       " ('M', 'O', 'R', 'N', 'E', 'U'),\n",
       " ('M', 'O', 'R', 'U', 'N', 'E'),\n",
       " ('M', 'O', 'R', 'U', 'E', 'N'),\n",
       " ('M', 'O', 'R', 'E', 'N', 'U'),\n",
       " ('M', 'O', 'R', 'E', 'U', 'N'),\n",
       " ('E', 'N', 'U', 'M', 'R', 'O'),\n",
       " ('E', 'N', 'U', 'M', 'O', 'R'),\n",
       " ('E', 'N', 'U', 'R', 'M', 'O'),\n",
       " ('E', 'N', 'U', 'R', 'O', 'M'),\n",
       " ('E', 'N', 'U', 'O', 'M', 'R'),\n",
       " ('E', 'N', 'U', 'O', 'R', 'M'),\n",
       " ('E', 'N', 'M', 'U', 'R', 'O'),\n",
       " ('E', 'N', 'M', 'U', 'O', 'R'),\n",
       " ('E', 'N', 'M', 'R', 'U', 'O'),\n",
       " ('E', 'N', 'M', 'R', 'O', 'U'),\n",
       " ('E', 'N', 'M', 'O', 'U', 'R'),\n",
       " ('E', 'N', 'M', 'O', 'R', 'U'),\n",
       " ('E', 'N', 'R', 'U', 'M', 'O'),\n",
       " ('E', 'N', 'R', 'U', 'O', 'M'),\n",
       " ('E', 'N', 'R', 'M', 'U', 'O'),\n",
       " ('E', 'N', 'R', 'M', 'O', 'U'),\n",
       " ('E', 'N', 'R', 'O', 'U', 'M'),\n",
       " ('E', 'N', 'R', 'O', 'M', 'U'),\n",
       " ('E', 'N', 'O', 'U', 'M', 'R'),\n",
       " ('E', 'N', 'O', 'U', 'R', 'M'),\n",
       " ('E', 'N', 'O', 'M', 'U', 'R'),\n",
       " ('E', 'N', 'O', 'M', 'R', 'U'),\n",
       " ('E', 'N', 'O', 'R', 'U', 'M'),\n",
       " ('E', 'N', 'O', 'R', 'M', 'U'),\n",
       " ('E', 'U', 'N', 'M', 'R', 'O'),\n",
       " ('E', 'U', 'N', 'M', 'O', 'R'),\n",
       " ('E', 'U', 'N', 'R', 'M', 'O'),\n",
       " ('E', 'U', 'N', 'R', 'O', 'M'),\n",
       " ('E', 'U', 'N', 'O', 'M', 'R'),\n",
       " ('E', 'U', 'N', 'O', 'R', 'M'),\n",
       " ('E', 'U', 'M', 'N', 'R', 'O'),\n",
       " ('E', 'U', 'M', 'N', 'O', 'R'),\n",
       " ('E', 'U', 'M', 'R', 'N', 'O'),\n",
       " ('E', 'U', 'M', 'R', 'O', 'N'),\n",
       " ('E', 'U', 'M', 'O', 'N', 'R'),\n",
       " ('E', 'U', 'M', 'O', 'R', 'N'),\n",
       " ('E', 'U', 'R', 'N', 'M', 'O'),\n",
       " ('E', 'U', 'R', 'N', 'O', 'M'),\n",
       " ('E', 'U', 'R', 'M', 'N', 'O'),\n",
       " ('E', 'U', 'R', 'M', 'O', 'N'),\n",
       " ('E', 'U', 'R', 'O', 'N', 'M'),\n",
       " ('E', 'U', 'R', 'O', 'M', 'N'),\n",
       " ('E', 'U', 'O', 'N', 'M', 'R'),\n",
       " ('E', 'U', 'O', 'N', 'R', 'M'),\n",
       " ('E', 'U', 'O', 'M', 'N', 'R'),\n",
       " ('E', 'U', 'O', 'M', 'R', 'N'),\n",
       " ('E', 'U', 'O', 'R', 'N', 'M'),\n",
       " ('E', 'U', 'O', 'R', 'M', 'N'),\n",
       " ('E', 'M', 'N', 'U', 'R', 'O'),\n",
       " ('E', 'M', 'N', 'U', 'O', 'R'),\n",
       " ('E', 'M', 'N', 'R', 'U', 'O'),\n",
       " ('E', 'M', 'N', 'R', 'O', 'U'),\n",
       " ('E', 'M', 'N', 'O', 'U', 'R'),\n",
       " ('E', 'M', 'N', 'O', 'R', 'U'),\n",
       " ('E', 'M', 'U', 'N', 'R', 'O'),\n",
       " ('E', 'M', 'U', 'N', 'O', 'R'),\n",
       " ('E', 'M', 'U', 'R', 'N', 'O'),\n",
       " ('E', 'M', 'U', 'R', 'O', 'N'),\n",
       " ('E', 'M', 'U', 'O', 'N', 'R'),\n",
       " ('E', 'M', 'U', 'O', 'R', 'N'),\n",
       " ('E', 'M', 'R', 'N', 'U', 'O'),\n",
       " ('E', 'M', 'R', 'N', 'O', 'U'),\n",
       " ('E', 'M', 'R', 'U', 'N', 'O'),\n",
       " ('E', 'M', 'R', 'U', 'O', 'N'),\n",
       " ('E', 'M', 'R', 'O', 'N', 'U'),\n",
       " ('E', 'M', 'R', 'O', 'U', 'N'),\n",
       " ('E', 'M', 'O', 'N', 'U', 'R'),\n",
       " ('E', 'M', 'O', 'N', 'R', 'U'),\n",
       " ('E', 'M', 'O', 'U', 'N', 'R'),\n",
       " ('E', 'M', 'O', 'U', 'R', 'N'),\n",
       " ('E', 'M', 'O', 'R', 'N', 'U'),\n",
       " ('E', 'M', 'O', 'R', 'U', 'N'),\n",
       " ('E', 'R', 'N', 'U', 'M', 'O'),\n",
       " ('E', 'R', 'N', 'U', 'O', 'M'),\n",
       " ('E', 'R', 'N', 'M', 'U', 'O'),\n",
       " ('E', 'R', 'N', 'M', 'O', 'U'),\n",
       " ('E', 'R', 'N', 'O', 'U', 'M'),\n",
       " ('E', 'R', 'N', 'O', 'M', 'U'),\n",
       " ('E', 'R', 'U', 'N', 'M', 'O'),\n",
       " ('E', 'R', 'U', 'N', 'O', 'M'),\n",
       " ('E', 'R', 'U', 'M', 'N', 'O'),\n",
       " ('E', 'R', 'U', 'M', 'O', 'N'),\n",
       " ('E', 'R', 'U', 'O', 'N', 'M'),\n",
       " ('E', 'R', 'U', 'O', 'M', 'N'),\n",
       " ('E', 'R', 'M', 'N', 'U', 'O'),\n",
       " ('E', 'R', 'M', 'N', 'O', 'U'),\n",
       " ('E', 'R', 'M', 'U', 'N', 'O'),\n",
       " ('E', 'R', 'M', 'U', 'O', 'N'),\n",
       " ('E', 'R', 'M', 'O', 'N', 'U'),\n",
       " ('E', 'R', 'M', 'O', 'U', 'N'),\n",
       " ('E', 'R', 'O', 'N', 'U', 'M'),\n",
       " ('E', 'R', 'O', 'N', 'M', 'U'),\n",
       " ('E', 'R', 'O', 'U', 'N', 'M'),\n",
       " ('E', 'R', 'O', 'U', 'M', 'N'),\n",
       " ('E', 'R', 'O', 'M', 'N', 'U'),\n",
       " ('E', 'R', 'O', 'M', 'U', 'N'),\n",
       " ('E', 'O', 'N', 'U', 'M', 'R'),\n",
       " ('E', 'O', 'N', 'U', 'R', 'M'),\n",
       " ('E', 'O', 'N', 'M', 'U', 'R'),\n",
       " ('E', 'O', 'N', 'M', 'R', 'U'),\n",
       " ('E', 'O', 'N', 'R', 'U', 'M'),\n",
       " ('E', 'O', 'N', 'R', 'M', 'U'),\n",
       " ('E', 'O', 'U', 'N', 'M', 'R'),\n",
       " ('E', 'O', 'U', 'N', 'R', 'M'),\n",
       " ('E', 'O', 'U', 'M', 'N', 'R'),\n",
       " ('E', 'O', 'U', 'M', 'R', 'N'),\n",
       " ('E', 'O', 'U', 'R', 'N', 'M'),\n",
       " ('E', 'O', 'U', 'R', 'M', 'N'),\n",
       " ('E', 'O', 'M', 'N', 'U', 'R'),\n",
       " ('E', 'O', 'M', 'N', 'R', 'U'),\n",
       " ('E', 'O', 'M', 'U', 'N', 'R'),\n",
       " ('E', 'O', 'M', 'U', 'R', 'N'),\n",
       " ('E', 'O', 'M', 'R', 'N', 'U'),\n",
       " ('E', 'O', 'M', 'R', 'U', 'N'),\n",
       " ('E', 'O', 'R', 'N', 'U', 'M'),\n",
       " ('E', 'O', 'R', 'N', 'M', 'U'),\n",
       " ('E', 'O', 'R', 'U', 'N', 'M'),\n",
       " ('E', 'O', 'R', 'U', 'M', 'N'),\n",
       " ('E', 'O', 'R', 'M', 'N', 'U'),\n",
       " ('E', 'O', 'R', 'M', 'U', 'N'),\n",
       " ('R', 'N', 'U', 'M', 'E', 'O'),\n",
       " ('R', 'N', 'U', 'M', 'O', 'E'),\n",
       " ('R', 'N', 'U', 'E', 'M', 'O'),\n",
       " ('R', 'N', 'U', 'E', 'O', 'M'),\n",
       " ('R', 'N', 'U', 'O', 'M', 'E'),\n",
       " ('R', 'N', 'U', 'O', 'E', 'M'),\n",
       " ('R', 'N', 'M', 'U', 'E', 'O'),\n",
       " ('R', 'N', 'M', 'U', 'O', 'E'),\n",
       " ('R', 'N', 'M', 'E', 'U', 'O'),\n",
       " ('R', 'N', 'M', 'E', 'O', 'U'),\n",
       " ('R', 'N', 'M', 'O', 'U', 'E'),\n",
       " ('R', 'N', 'M', 'O', 'E', 'U'),\n",
       " ('R', 'N', 'E', 'U', 'M', 'O'),\n",
       " ('R', 'N', 'E', 'U', 'O', 'M'),\n",
       " ('R', 'N', 'E', 'M', 'U', 'O'),\n",
       " ('R', 'N', 'E', 'M', 'O', 'U'),\n",
       " ('R', 'N', 'E', 'O', 'U', 'M'),\n",
       " ('R', 'N', 'E', 'O', 'M', 'U'),\n",
       " ('R', 'N', 'O', 'U', 'M', 'E'),\n",
       " ('R', 'N', 'O', 'U', 'E', 'M'),\n",
       " ('R', 'N', 'O', 'M', 'U', 'E'),\n",
       " ('R', 'N', 'O', 'M', 'E', 'U'),\n",
       " ('R', 'N', 'O', 'E', 'U', 'M'),\n",
       " ('R', 'N', 'O', 'E', 'M', 'U'),\n",
       " ('R', 'U', 'N', 'M', 'E', 'O'),\n",
       " ('R', 'U', 'N', 'M', 'O', 'E'),\n",
       " ('R', 'U', 'N', 'E', 'M', 'O'),\n",
       " ('R', 'U', 'N', 'E', 'O', 'M'),\n",
       " ('R', 'U', 'N', 'O', 'M', 'E'),\n",
       " ('R', 'U', 'N', 'O', 'E', 'M'),\n",
       " ('R', 'U', 'M', 'N', 'E', 'O'),\n",
       " ('R', 'U', 'M', 'N', 'O', 'E'),\n",
       " ('R', 'U', 'M', 'E', 'N', 'O'),\n",
       " ('R', 'U', 'M', 'E', 'O', 'N'),\n",
       " ('R', 'U', 'M', 'O', 'N', 'E'),\n",
       " ('R', 'U', 'M', 'O', 'E', 'N'),\n",
       " ('R', 'U', 'E', 'N', 'M', 'O'),\n",
       " ('R', 'U', 'E', 'N', 'O', 'M'),\n",
       " ('R', 'U', 'E', 'M', 'N', 'O'),\n",
       " ('R', 'U', 'E', 'M', 'O', 'N'),\n",
       " ('R', 'U', 'E', 'O', 'N', 'M'),\n",
       " ('R', 'U', 'E', 'O', 'M', 'N'),\n",
       " ('R', 'U', 'O', 'N', 'M', 'E'),\n",
       " ('R', 'U', 'O', 'N', 'E', 'M'),\n",
       " ('R', 'U', 'O', 'M', 'N', 'E'),\n",
       " ('R', 'U', 'O', 'M', 'E', 'N'),\n",
       " ('R', 'U', 'O', 'E', 'N', 'M'),\n",
       " ('R', 'U', 'O', 'E', 'M', 'N'),\n",
       " ('R', 'M', 'N', 'U', 'E', 'O'),\n",
       " ('R', 'M', 'N', 'U', 'O', 'E'),\n",
       " ('R', 'M', 'N', 'E', 'U', 'O'),\n",
       " ('R', 'M', 'N', 'E', 'O', 'U'),\n",
       " ('R', 'M', 'N', 'O', 'U', 'E'),\n",
       " ('R', 'M', 'N', 'O', 'E', 'U'),\n",
       " ('R', 'M', 'U', 'N', 'E', 'O'),\n",
       " ('R', 'M', 'U', 'N', 'O', 'E'),\n",
       " ('R', 'M', 'U', 'E', 'N', 'O'),\n",
       " ('R', 'M', 'U', 'E', 'O', 'N'),\n",
       " ('R', 'M', 'U', 'O', 'N', 'E'),\n",
       " ('R', 'M', 'U', 'O', 'E', 'N'),\n",
       " ('R', 'M', 'E', 'N', 'U', 'O'),\n",
       " ('R', 'M', 'E', 'N', 'O', 'U'),\n",
       " ('R', 'M', 'E', 'U', 'N', 'O'),\n",
       " ('R', 'M', 'E', 'U', 'O', 'N'),\n",
       " ('R', 'M', 'E', 'O', 'N', 'U'),\n",
       " ('R', 'M', 'E', 'O', 'U', 'N'),\n",
       " ('R', 'M', 'O', 'N', 'U', 'E'),\n",
       " ('R', 'M', 'O', 'N', 'E', 'U'),\n",
       " ('R', 'M', 'O', 'U', 'N', 'E'),\n",
       " ('R', 'M', 'O', 'U', 'E', 'N'),\n",
       " ('R', 'M', 'O', 'E', 'N', 'U'),\n",
       " ('R', 'M', 'O', 'E', 'U', 'N'),\n",
       " ('R', 'E', 'N', 'U', 'M', 'O'),\n",
       " ('R', 'E', 'N', 'U', 'O', 'M'),\n",
       " ('R', 'E', 'N', 'M', 'U', 'O'),\n",
       " ('R', 'E', 'N', 'M', 'O', 'U'),\n",
       " ('R', 'E', 'N', 'O', 'U', 'M'),\n",
       " ('R', 'E', 'N', 'O', 'M', 'U'),\n",
       " ('R', 'E', 'U', 'N', 'M', 'O'),\n",
       " ('R', 'E', 'U', 'N', 'O', 'M'),\n",
       " ('R', 'E', 'U', 'M', 'N', 'O'),\n",
       " ('R', 'E', 'U', 'M', 'O', 'N'),\n",
       " ('R', 'E', 'U', 'O', 'N', 'M'),\n",
       " ('R', 'E', 'U', 'O', 'M', 'N'),\n",
       " ('R', 'E', 'M', 'N', 'U', 'O'),\n",
       " ('R', 'E', 'M', 'N', 'O', 'U'),\n",
       " ('R', 'E', 'M', 'U', 'N', 'O'),\n",
       " ('R', 'E', 'M', 'U', 'O', 'N'),\n",
       " ('R', 'E', 'M', 'O', 'N', 'U'),\n",
       " ('R', 'E', 'M', 'O', 'U', 'N'),\n",
       " ('R', 'E', 'O', 'N', 'U', 'M'),\n",
       " ('R', 'E', 'O', 'N', 'M', 'U'),\n",
       " ('R', 'E', 'O', 'U', 'N', 'M'),\n",
       " ('R', 'E', 'O', 'U', 'M', 'N'),\n",
       " ('R', 'E', 'O', 'M', 'N', 'U'),\n",
       " ('R', 'E', 'O', 'M', 'U', 'N'),\n",
       " ('R', 'O', 'N', 'U', 'M', 'E'),\n",
       " ('R', 'O', 'N', 'U', 'E', 'M'),\n",
       " ('R', 'O', 'N', 'M', 'U', 'E'),\n",
       " ('R', 'O', 'N', 'M', 'E', 'U'),\n",
       " ('R', 'O', 'N', 'E', 'U', 'M'),\n",
       " ('R', 'O', 'N', 'E', 'M', 'U'),\n",
       " ('R', 'O', 'U', 'N', 'M', 'E'),\n",
       " ('R', 'O', 'U', 'N', 'E', 'M'),\n",
       " ('R', 'O', 'U', 'M', 'N', 'E'),\n",
       " ('R', 'O', 'U', 'M', 'E', 'N'),\n",
       " ('R', 'O', 'U', 'E', 'N', 'M'),\n",
       " ('R', 'O', 'U', 'E', 'M', 'N'),\n",
       " ('R', 'O', 'M', 'N', 'U', 'E'),\n",
       " ('R', 'O', 'M', 'N', 'E', 'U'),\n",
       " ('R', 'O', 'M', 'U', 'N', 'E'),\n",
       " ('R', 'O', 'M', 'U', 'E', 'N'),\n",
       " ('R', 'O', 'M', 'E', 'N', 'U'),\n",
       " ('R', 'O', 'M', 'E', 'U', 'N'),\n",
       " ('R', 'O', 'E', 'N', 'U', 'M'),\n",
       " ('R', 'O', 'E', 'N', 'M', 'U'),\n",
       " ('R', 'O', 'E', 'U', 'N', 'M'),\n",
       " ('R', 'O', 'E', 'U', 'M', 'N'),\n",
       " ('R', 'O', 'E', 'M', 'N', 'U'),\n",
       " ('R', 'O', 'E', 'M', 'U', 'N'),\n",
       " ('O', 'N', 'U', 'M', 'E', 'R'),\n",
       " ('O', 'N', 'U', 'M', 'R', 'E'),\n",
       " ('O', 'N', 'U', 'E', 'M', 'R'),\n",
       " ('O', 'N', 'U', 'E', 'R', 'M'),\n",
       " ('O', 'N', 'U', 'R', 'M', 'E'),\n",
       " ('O', 'N', 'U', 'R', 'E', 'M'),\n",
       " ('O', 'N', 'M', 'U', 'E', 'R'),\n",
       " ('O', 'N', 'M', 'U', 'R', 'E'),\n",
       " ('O', 'N', 'M', 'E', 'U', 'R'),\n",
       " ('O', 'N', 'M', 'E', 'R', 'U'),\n",
       " ('O', 'N', 'M', 'R', 'U', 'E'),\n",
       " ('O', 'N', 'M', 'R', 'E', 'U'),\n",
       " ('O', 'N', 'E', 'U', 'M', 'R'),\n",
       " ('O', 'N', 'E', 'U', 'R', 'M'),\n",
       " ('O', 'N', 'E', 'M', 'U', 'R'),\n",
       " ('O', 'N', 'E', 'M', 'R', 'U'),\n",
       " ('O', 'N', 'E', 'R', 'U', 'M'),\n",
       " ('O', 'N', 'E', 'R', 'M', 'U'),\n",
       " ('O', 'N', 'R', 'U', 'M', 'E'),\n",
       " ('O', 'N', 'R', 'U', 'E', 'M'),\n",
       " ('O', 'N', 'R', 'M', 'U', 'E'),\n",
       " ('O', 'N', 'R', 'M', 'E', 'U'),\n",
       " ('O', 'N', 'R', 'E', 'U', 'M'),\n",
       " ('O', 'N', 'R', 'E', 'M', 'U'),\n",
       " ('O', 'U', 'N', 'M', 'E', 'R'),\n",
       " ('O', 'U', 'N', 'M', 'R', 'E'),\n",
       " ('O', 'U', 'N', 'E', 'M', 'R'),\n",
       " ('O', 'U', 'N', 'E', 'R', 'M'),\n",
       " ('O', 'U', 'N', 'R', 'M', 'E'),\n",
       " ('O', 'U', 'N', 'R', 'E', 'M'),\n",
       " ('O', 'U', 'M', 'N', 'E', 'R'),\n",
       " ('O', 'U', 'M', 'N', 'R', 'E'),\n",
       " ('O', 'U', 'M', 'E', 'N', 'R'),\n",
       " ('O', 'U', 'M', 'E', 'R', 'N'),\n",
       " ('O', 'U', 'M', 'R', 'N', 'E'),\n",
       " ('O', 'U', 'M', 'R', 'E', 'N'),\n",
       " ('O', 'U', 'E', 'N', 'M', 'R'),\n",
       " ('O', 'U', 'E', 'N', 'R', 'M'),\n",
       " ('O', 'U', 'E', 'M', 'N', 'R'),\n",
       " ('O', 'U', 'E', 'M', 'R', 'N'),\n",
       " ('O', 'U', 'E', 'R', 'N', 'M'),\n",
       " ('O', 'U', 'E', 'R', 'M', 'N'),\n",
       " ('O', 'U', 'R', 'N', 'M', 'E'),\n",
       " ('O', 'U', 'R', 'N', 'E', 'M'),\n",
       " ('O', 'U', 'R', 'M', 'N', 'E'),\n",
       " ('O', 'U', 'R', 'M', 'E', 'N'),\n",
       " ('O', 'U', 'R', 'E', 'N', 'M'),\n",
       " ('O', 'U', 'R', 'E', 'M', 'N'),\n",
       " ('O', 'M', 'N', 'U', 'E', 'R'),\n",
       " ('O', 'M', 'N', 'U', 'R', 'E'),\n",
       " ('O', 'M', 'N', 'E', 'U', 'R'),\n",
       " ('O', 'M', 'N', 'E', 'R', 'U'),\n",
       " ('O', 'M', 'N', 'R', 'U', 'E'),\n",
       " ('O', 'M', 'N', 'R', 'E', 'U'),\n",
       " ('O', 'M', 'U', 'N', 'E', 'R'),\n",
       " ('O', 'M', 'U', 'N', 'R', 'E'),\n",
       " ('O', 'M', 'U', 'E', 'N', 'R'),\n",
       " ('O', 'M', 'U', 'E', 'R', 'N'),\n",
       " ('O', 'M', 'U', 'R', 'N', 'E'),\n",
       " ('O', 'M', 'U', 'R', 'E', 'N'),\n",
       " ('O', 'M', 'E', 'N', 'U', 'R'),\n",
       " ('O', 'M', 'E', 'N', 'R', 'U'),\n",
       " ('O', 'M', 'E', 'U', 'N', 'R'),\n",
       " ('O', 'M', 'E', 'U', 'R', 'N'),\n",
       " ('O', 'M', 'E', 'R', 'N', 'U'),\n",
       " ('O', 'M', 'E', 'R', 'U', 'N'),\n",
       " ('O', 'M', 'R', 'N', 'U', 'E'),\n",
       " ('O', 'M', 'R', 'N', 'E', 'U'),\n",
       " ('O', 'M', 'R', 'U', 'N', 'E'),\n",
       " ('O', 'M', 'R', 'U', 'E', 'N'),\n",
       " ('O', 'M', 'R', 'E', 'N', 'U'),\n",
       " ('O', 'M', 'R', 'E', 'U', 'N'),\n",
       " ('O', 'E', 'N', 'U', 'M', 'R'),\n",
       " ('O', 'E', 'N', 'U', 'R', 'M'),\n",
       " ('O', 'E', 'N', 'M', 'U', 'R'),\n",
       " ('O', 'E', 'N', 'M', 'R', 'U'),\n",
       " ('O', 'E', 'N', 'R', 'U', 'M'),\n",
       " ('O', 'E', 'N', 'R', 'M', 'U'),\n",
       " ('O', 'E', 'U', 'N', 'M', 'R'),\n",
       " ('O', 'E', 'U', 'N', 'R', 'M'),\n",
       " ('O', 'E', 'U', 'M', 'N', 'R'),\n",
       " ('O', 'E', 'U', 'M', 'R', 'N'),\n",
       " ('O', 'E', 'U', 'R', 'N', 'M'),\n",
       " ('O', 'E', 'U', 'R', 'M', 'N'),\n",
       " ('O', 'E', 'M', 'N', 'U', 'R'),\n",
       " ('O', 'E', 'M', 'N', 'R', 'U'),\n",
       " ('O', 'E', 'M', 'U', 'N', 'R'),\n",
       " ('O', 'E', 'M', 'U', 'R', 'N'),\n",
       " ('O', 'E', 'M', 'R', 'N', 'U'),\n",
       " ('O', 'E', 'M', 'R', 'U', 'N'),\n",
       " ('O', 'E', 'R', 'N', 'U', 'M'),\n",
       " ('O', 'E', 'R', 'N', 'M', 'U'),\n",
       " ('O', 'E', 'R', 'U', 'N', 'M'),\n",
       " ('O', 'E', 'R', 'U', 'M', 'N'),\n",
       " ('O', 'E', 'R', 'M', 'N', 'U'),\n",
       " ('O', 'E', 'R', 'M', 'U', 'N'),\n",
       " ('O', 'R', 'N', 'U', 'M', 'E'),\n",
       " ('O', 'R', 'N', 'U', 'E', 'M'),\n",
       " ('O', 'R', 'N', 'M', 'U', 'E'),\n",
       " ('O', 'R', 'N', 'M', 'E', 'U'),\n",
       " ('O', 'R', 'N', 'E', 'U', 'M'),\n",
       " ('O', 'R', 'N', 'E', 'M', 'U'),\n",
       " ('O', 'R', 'U', 'N', 'M', 'E'),\n",
       " ('O', 'R', 'U', 'N', 'E', 'M'),\n",
       " ('O', 'R', 'U', 'M', 'N', 'E'),\n",
       " ('O', 'R', 'U', 'M', 'E', 'N'),\n",
       " ('O', 'R', 'U', 'E', 'N', 'M'),\n",
       " ('O', 'R', 'U', 'E', 'M', 'N'),\n",
       " ('O', 'R', 'M', 'N', 'U', 'E'),\n",
       " ('O', 'R', 'M', 'N', 'E', 'U'),\n",
       " ('O', 'R', 'M', 'U', 'N', 'E'),\n",
       " ('O', 'R', 'M', 'U', 'E', 'N'),\n",
       " ('O', 'R', 'M', 'E', 'N', 'U'),\n",
       " ('O', 'R', 'M', 'E', 'U', 'N'),\n",
       " ('O', 'R', 'E', 'N', 'U', 'M'),\n",
       " ('O', 'R', 'E', 'N', 'M', 'U'),\n",
       " ('O', 'R', 'E', 'U', 'N', 'M'),\n",
       " ('O', 'R', 'E', 'U', 'M', 'N'),\n",
       " ('O', 'R', 'E', 'M', 'N', 'U'),\n",
       " ('O', 'R', 'E', 'M', 'U', 'N'))"
      ]
     },
     "execution_count": 8,
     "metadata": {},
     "output_type": "execute_result"
    }
   ],
   "source": [
    "permutations = it.permutations(\"NUMERO\")\n",
    "permutations = tuple(permutations)\n",
    "permutations[1:10]"
   ]
  },
  {
   "cell_type": "code",
   "execution_count": 9,
   "metadata": {},
   "outputs": [
    {
     "data": {
      "text/plain": [
       "720"
      ]
     },
     "execution_count": 9,
     "metadata": {},
     "output_type": "execute_result"
    }
   ],
   "source": [
    "len(permutations)"
   ]
  },
  {
   "cell_type": "code",
   "execution_count": 10,
   "metadata": {},
   "outputs": [
    {
     "data": {
      "text/plain": [
       "720"
      ]
     },
     "execution_count": 10,
     "metadata": {},
     "output_type": "execute_result"
    }
   ],
   "source": [
    "np.math.factorial(6)"
   ]
  },
  {
   "attachments": {},
   "cell_type": "markdown",
   "metadata": {},
   "source": [
    "**Esempio 5.** Un altro esempio riguarda i giochi di carte. Ci sono 52! $\\approx 8 \\times 10^{67}$ modi di ordinare un mazzo di carte da poker; questo numero è \"quasi\" grande come il numero di atomi dell'universo che si stima essere uguale a circa $10^{80}$."
   ]
  },
  {
   "cell_type": "code",
   "execution_count": 11,
   "metadata": {},
   "outputs": [
    {
     "data": {
      "text/plain": [
       "80658175170943878571660636856403766975289505440883277824000000000000"
      ]
     },
     "execution_count": 11,
     "metadata": {},
     "output_type": "execute_result"
    }
   ],
   "source": [
    "np.math.factorial(52)"
   ]
  },
  {
   "attachments": {},
   "cell_type": "markdown",
   "metadata": {},
   "source": [
    "## Disposizioni semplici\n",
    "\n",
    "Le *disposizioni semplici* sono tutti i sottoinsiemi ordinati di $k$ elementi distinti selezioni tra $n$ elementi distinti, con $k \\leq n$. Le disposizioni semplici della classe $k$ si indicano con  $D_{n,k}$. Il modello dell'urna è quello dell'estrazione senza rimessa di $k < n$ palline da un'urna che contiene $n$ palline diverse. \n",
    "\n",
    "Il numero delle disposizioni semplici di $n$ elementi distinti della classe $k$ è uguale a\n",
    "\n",
    "$$\n",
    "D_{n,k} = \\frac{n!}{(n-k)!}.\n",
    "$$ (eq_disp_simple)\n",
    "\n",
    "**Esempio 6.** Consideriamo l'insieme: $A = \\{a, b, c\\}$. Qual è il numero di disposizioni semplici di classe 2?\n",
    "\n",
    "Le disposizioni semplici di classe 2 sono:\n",
    "\n",
    "$\\{a, b\\}$, $\\{b, a\\}$, $\\{a, c\\}$, $\\{c, a\\}$, $\\{b, c\\}$, $\\{c, b\\}$, ovvero 6. \n",
    "\n",
    "Ovvero\n",
    "\n",
    "$$\n",
    "D_{n,k} = \\frac{n!}{(n-k)!} = 3 \\cdot 2 = 6.\n",
    "$$ (eq_combinations)"
   ]
  },
  {
   "attachments": {},
   "cell_type": "markdown",
   "metadata": {},
   "source": [
    "Possiamo trovare il risultato con la seguente istruzione:"
   ]
  },
  {
   "cell_type": "code",
   "execution_count": 12,
   "metadata": {},
   "outputs": [
    {
     "data": {
      "text/plain": [
       "(('A', 'B'), ('A', 'C'), ('B', 'A'), ('B', 'C'), ('C', 'A'), ('C', 'B'))"
      ]
     },
     "execution_count": 12,
     "metadata": {},
     "output_type": "execute_result"
    }
   ],
   "source": [
    "tuple(it.permutations(\"ABC\", 2))"
   ]
  },
  {
   "cell_type": "code",
   "execution_count": 13,
   "metadata": {},
   "outputs": [
    {
     "data": {
      "text/plain": [
       "6"
      ]
     },
     "execution_count": 13,
     "metadata": {},
     "output_type": "execute_result"
    }
   ],
   "source": [
    "res = tuple(it.permutations(\"ABC\", 2))\n",
    "len(res)"
   ]
  },
  {
   "attachments": {},
   "cell_type": "markdown",
   "metadata": {},
   "source": [
    "Oppure possiamo implementare l'eq. {eq}`eq_disp_simple`:"
   ]
  },
  {
   "cell_type": "code",
   "execution_count": 14,
   "metadata": {},
   "outputs": [
    {
     "data": {
      "text/plain": [
       "6.0"
      ]
     },
     "execution_count": 14,
     "metadata": {},
     "output_type": "execute_result"
    }
   ],
   "source": [
    "def simple_disp(n, k):\n",
    "    return np.math.factorial(n) / np.math.factorial(n - k)\n",
    "\n",
    "\n",
    "simple_disp(3, 2)"
   ]
  },
  {
   "attachments": {},
   "cell_type": "markdown",
   "metadata": {},
   "source": [
    "(combinazione-semplice-section)=\n",
    "## Combinazioni semplici\n",
    "\n",
    "Le *combinazioni semplici* sono tutti i sottoinsiemi di $k$ elementi distinti selezioni tra $n$ elementi distinti, con $k \\leq n$ e nell'ipotesi che l'ordine con cui gli elementi si susseguono sia irrilevante. Le combinazioni semplici della classe $k$ si indicano con il simbolo $C_{n,k}$. Il modello dell'urna è quello dell'estrazione senza reimmissione di $k$ palline da un'urna che contiene $n$ palline distinte tra loro: non c'è la ripetizione di elementi né un ordine di estrazione.\n",
    "\n",
    "Le combinazioni semplici differiscono dalle disposizioni semplici per il fatto che le disposizioni semplici tengono conto dell'ordine di estrazione mentre nelle combinazioni semplici si considerano distinti solo i raggruppamenti che differiscono almeno per un elemento. Gli elementi di ciascuna combinazione di $k$ oggetti possono essere ordinati tra loro in $k!$ modi diversi, per cui il numero delle combinazioni semplici è dato dal numero di disposizioni semplici $D_{n,k}$ diviso per il numero di permutazioni semplici $P_k$ dei $k$ elementi, come indicato nell'eq. {eq}`eq_combsemp`. Il numero delle combinazioni semplici di $n$ elementi distinti della classe $k$ è uguale a\n",
    "\n",
    "$$\n",
    "C_{n,k} = \\frac{D_{n,k}}{P_k} = \\frac{n!}{k!(n-k)!}.\n",
    "$$ (eq_combsemp)\n",
    "\n",
    "Il numero delle combinazioni semplici $C_{n,k}$ è spesso indicato con il simbolo $\\binom{n}{k}$ che si legge ``$n$ su $k$'' e viene detto *coefficiente binomiale*. \n",
    "\n",
    "**Esempio 7.** Per l'insieme $A = \\{a, b, c\\}$ si trovino le combinazioni semplici di classe 2.\n",
    "\n",
    "Le combinazioni semplici dell'insieme $A$ sono \n",
    "$\\{a, b\\}$, $\\{a, c\\}$, $\\{b, c\\}$, ovvero 3. Applichiamo l'eq. {eq}`eq_combsemp`:\n",
    "\n",
    "$$\n",
    "C_{n,k} = \\binom{n}{k} = \\binom{3}{2} = 3.\n",
    "$$\n"
   ]
  },
  {
   "attachments": {},
   "cell_type": "markdown",
   "metadata": {},
   "source": [
    "Usiamo `itertools`:"
   ]
  },
  {
   "cell_type": "code",
   "execution_count": 15,
   "metadata": {},
   "outputs": [
    {
     "data": {
      "text/plain": [
       "(('A', 'B'), ('A', 'C'), ('B', 'C'))"
      ]
     },
     "execution_count": 15,
     "metadata": {},
     "output_type": "execute_result"
    }
   ],
   "source": [
    "c_nk = tuple(it.combinations(\"ABC\", 2))\n",
    "c_nk"
   ]
  },
  {
   "cell_type": "code",
   "execution_count": 16,
   "metadata": {},
   "outputs": [
    {
     "data": {
      "text/plain": [
       "3"
      ]
     },
     "execution_count": 16,
     "metadata": {},
     "output_type": "execute_result"
    }
   ],
   "source": [
    "len(c_nk)"
   ]
  },
  {
   "attachments": {},
   "cell_type": "markdown",
   "metadata": {},
   "source": [
    "La soluzione si trova anche usando la funzione `comb()` della libreria `math`."
   ]
  },
  {
   "cell_type": "code",
   "execution_count": 18,
   "metadata": {},
   "outputs": [
    {
     "ename": "NameError",
     "evalue": "name 'math' is not defined",
     "output_type": "error",
     "traceback": [
      "\u001b[0;31m---------------------------------------------------------------------------\u001b[0m",
      "\u001b[0;31mNameError\u001b[0m                                 Traceback (most recent call last)",
      "Cell \u001b[0;32mIn[18], line 1\u001b[0m\n\u001b[0;32m----> 1\u001b[0m math\u001b[39m.\u001b[39mcomb(\u001b[39m3\u001b[39m, \u001b[39m2\u001b[39m)\n",
      "\u001b[0;31mNameError\u001b[0m: name 'math' is not defined"
     ]
    }
   ],
   "source": [
    "math.comb(3, 2)"
   ]
  },
  {
   "attachments": {},
   "cell_type": "markdown",
   "metadata": {},
   "source": [
    "Oppure usando la funzione `comb()` della libreria `scipy.special`."
   ]
  },
  {
   "cell_type": "code",
   "execution_count": 8,
   "metadata": {},
   "outputs": [
    {
     "data": {
      "text/plain": [
       "10.0"
      ]
     },
     "execution_count": 8,
     "metadata": {},
     "output_type": "execute_result"
    }
   ],
   "source": [
    "import scipy.special as sp\n",
    "\n",
    "sp.comb(5, 2)"
   ]
  },
  {
   "attachments": {},
   "cell_type": "markdown",
   "metadata": {},
   "source": [
    "**Esempio 8.** Quanti gruppi di 2 si possono formare con 5 individui? "
   ]
  },
  {
   "cell_type": "code",
   "execution_count": 4,
   "metadata": {},
   "outputs": [
    {
     "data": {
      "text/plain": [
       "((0, 1),\n",
       " (0, 2),\n",
       " (0, 3),\n",
       " (0, 4),\n",
       " (1, 2),\n",
       " (1, 3),\n",
       " (1, 4),\n",
       " (2, 3),\n",
       " (2, 4),\n",
       " (3, 4))"
      ]
     },
     "execution_count": 4,
     "metadata": {},
     "output_type": "execute_result"
    }
   ],
   "source": [
    "c_nk = tuple(it.combinations(range(5), 2))\n",
    "c_nk"
   ]
  },
  {
   "cell_type": "code",
   "execution_count": 5,
   "metadata": {},
   "outputs": [
    {
     "data": {
      "text/plain": [
       "10"
      ]
     },
     "execution_count": 5,
     "metadata": {},
     "output_type": "execute_result"
    }
   ],
   "source": [
    "len(c_nk)"
   ]
  },
  {
   "attachments": {},
   "cell_type": "markdown",
   "metadata": {},
   "source": [
    "ovvero"
   ]
  },
  {
   "cell_type": "code",
   "execution_count": 7,
   "metadata": {},
   "outputs": [
    {
     "data": {
      "text/plain": [
       "10"
      ]
     },
     "execution_count": 7,
     "metadata": {},
     "output_type": "execute_result"
    }
   ],
   "source": [
    "math.comb(5, 2)"
   ]
  },
  {
   "cell_type": "markdown",
   "metadata": {},
   "source": [
    "## Watermark"
   ]
  },
  {
   "cell_type": "code",
   "execution_count": null,
   "metadata": {},
   "outputs": [],
   "source": [
    "%load_ext watermark\n",
    "%watermark -n -u -v -iv -w"
   ]
  }
 ],
 "metadata": {
  "kernelspec": {
   "display_name": "pymc",
   "language": "python",
   "name": "python3"
  },
  "language_info": {
   "codemirror_mode": {
    "name": "ipython",
    "version": 3
   },
   "file_extension": ".py",
   "mimetype": "text/x-python",
   "name": "python",
   "nbconvert_exporter": "python",
   "pygments_lexer": "ipython3",
   "version": "3.10.9"
  },
  "orig_nbformat": 4,
  "vscode": {
   "interpreter": {
    "hash": "cbb367cc0128e23b7454d788d5a4229ca1f9848fd2e857f4797fbd26ab3b0776"
   }
  }
 },
 "nbformat": 4,
 "nbformat_minor": 2
}
