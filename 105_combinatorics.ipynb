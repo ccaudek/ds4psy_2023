{
 "cells": [
  {
   "attachments": {},
   "cell_type": "markdown",
   "metadata": {},
   "source": [
    "(combinatorics-notebook)=\n",
    "# Calcolo combinatorio"
   ]
  },
  {
   "attachments": {},
   "cell_type": "markdown",
   "metadata": {},
   "source": [
    "## Introduzione\n",
    "Il calcolo combinatorio si pone il problema di determinare il numero dei\n",
    "modi mediante i quali possono essere associati, secondo prefissate regole,\n",
    "gli elementi di uno stesso insieme o di più insiemi. Alcuni dei problemi del calcolo delle probabilità per essere risolti richiedono l'utilizzo dei metodi del calcolo combinatorio. \n",
    "\n",
    "In questo capitolo verranno discussi alcuni concetti del calcolo combinatorio. In particolare, verranno introdotti il principio del prodotto, il principio della somma e il modello dell'urna. Verranno inoltre descritte le nozioni di permutazione semplice, disposizione semplice e di combinazione semplice."
   ]
  },
  {
   "attachments": {},
   "cell_type": "markdown",
   "metadata": {},
   "source": [
    "## Principio del prodotto\n",
    "I metodi di base del calcolo combinatorio applicano due principi: la regola del prodotto e la regola della somma. Consideriamo il principio del prodotto.\n",
    "\n",
    "In generale, una scelta può essere fatta in più passi, poniamo $k$. Supponiamo che per ogni $i = 1, \\dots, k$ la scelta da compiere all'$i$-mo passo possa essere fatta in $n_i$ modi. Il principio del prodotto dice che allora il numero totale di possibili scelte è il prodotto\n",
    "\n",
    "$$\n",
    "n_{\\text{tot}} = n_1 \\cdot  n_2 \\cdots n_{k-1} \\cdot n_k.\n",
    "$$\n",
    "\n",
    "**Esempio 1.** In Minnesota le targhe delle automobili sono costituite da tre lettere (da A a Z) seguite da tre numeri (da 0 a 9). Qual è la proporzione di targhe che iniziano con GZN?\n",
    "\n",
    "La soluzione è data dal numero di targhe che iniziano con GZN diviso per il numero totale di targhe possibili. \n",
    "\n",
    "Il numero totale di targe è $26 \\cdot 26 \\cdot 26 \\cdot 10 \\cdot 10 \\cdot 10 = 17,576,000$. Per calcolare il numero di targhe che iniziano con GZN, consideriamo le targhe che hanno la forma GZN \\_ \\_ \\_. Per i tre simboli mancanti ci sono $10 \\cdot 10 \\cdot 10$ possibilità. Dunque la proporzione cercata è \n",
    "\n",
    "$$\n",
    "10^3/(26^3 \\cdot 10^3) = 1/26^3 = 0.0000569.\n",
    "$$"
   ]
  },
  {
   "cell_type": "code",
   "execution_count": 51,
   "metadata": {},
   "outputs": [
    {
     "data": {
      "text/plain": [
       "5.689576695493855e-05"
      ]
     },
     "execution_count": 51,
     "metadata": {},
     "output_type": "execute_result"
    }
   ],
   "source": [
    "10**3 / (26**3 * 10**3)"
   ]
  },
  {
   "attachments": {},
   "cell_type": "markdown",
   "metadata": {},
   "source": [
    "## Principio della somma\n",
    "Se un evento può accadere in $\\vert S_1\\vert$ modi, un secondo evento può accadere in $\\vert S_2\\vert$ modi, $\\dots$, un ultimo evento può accadere in  $\\vert S_k\\vert$ modi,  vi sono $\\vert S_1\\vert + \\vert S_2\\vert + \\dots + \\vert S_{k-1}\\vert + \\vert S_k\\vert$ modi in cui uno dei $k$ eventi può accadere. In altri termini, se i sottoinsiemi $S_1, \\dots, S_k$, costituiscono una partizione di $S$, allora\n",
    "\n",
    "$$\n",
    "\\vert S_1 \\cup S_2 \\cup \\dots \\cup S_{k-1} \\cup S_k \\vert = \\vert S_1\\vert + \\vert S_2\\vert + \\dots + \\vert S_{k-1}\\vert + \\vert S_k\\vert.\n",
    "$$\n",
    "\n",
    "**Esempio 2.** L'urna $A$ contiene $5$ palline numerate da $1$ a $5$, l'urna $B$ contiene $6$ palline numerate da $6$ a $11$, l'urna $C$ contiene $3$ palline numerate da $12$ a $14$ e l'urna $D$ contiene $2$ palline numerate $15$ e $16$. Quanti insiemi composti da due palline, ciascuna estratta da un'urna differente, si possono formare?\n",
    "\n",
    "Per la regola del prodotto, si possono formare: $30$ insiemi di tipo $AB$ (una pallina estratta dall'urna $A$ e una estratta dall'urna $B$), $15$ di tipo $AC$, $10$ di tipo $AD$, $18$ di tipo $BC$, $12$ di tipo $BD$ e $6$ di tipo $CD$. Per la regola della somma, il numero di insiemi distinti che si possono formare con due palline provenienti dalle quattro urne è $30 + 15 + 10 + 18 + 12 + 6 = 91$.\n",
    "\n",
    "## Il modello dell'urna\n",
    "I problemi del calcolo combinatorio sono spesso assimilabili ad estrazioni di palline da urne che diventano così schemi o modelli delle corrispondenti situazioni considerate. Si definisce *modello dell'urna* la  procedura per cui, da un'urna contenente $n$ palline, si estraggono a caso $k$ palline. Le palline possono essere tutte diverse, oppure alcune palline possono essere tra loro indistinguibili. Fra le possibili modalità di estrazione hanno speciale interesse\n",
    "\n",
    "- l'*estrazione Bernoulliana* di $k$ palline ottenuta estraendo, una dopo l'altra, $k$ palline e rimettendo ogni volta nell'urna la pallina estratta;\n",
    "- l'*estrazione senza ripetizione* di $k$ palline ottenuta estraendo, una dopo l'altra, $k$ palline senza rimetterle nell'urna;\n",
    "- l'*estrazione in blocco* di $k$ palline ottenuta estraendo $k$ palline simultaneamente.\n",
    "\n",
    "Per esempio, nel caso di campioni di ampiezza 2 estratti da un'urna con tre elementi $\\{1, 2, 3\\}$, abbiamo i seguenti quattro casi:\n",
    "\n",
    "- campionamento con reimmissione tenendo conto dell'ordine di estrazione: $\\{1,  1\\}, \\{2,  1\\}, \\{3,  1\\}, \\{1,  2\\}, \\{2,  2\\}, \\{3,  2\\}, \\{1,  3\\}, \\{2,  3\\}, \\{3,  3\\}$;\n",
    "- campionamento con reimmissione senza tenere conto dell'ordine di estrazione: $\\{1,  1\\}, \\{1,  2\\}, \\{1,  3\\}, \\{2,  2\\}, \\{2,  3\\}, \\{3,  3\\}$;\n",
    "- campionamento senza reimmissione tenendo conto dell'ordine di estrazione:\n",
    "$\\{1,  2\\}, \\{2,  1\\}, \\{1,  3\\}, \\{3,  1\\}, \\{2,  3\\}, \\{3,  2\\}$;\n",
    "- campionamento senza reimmissione e senza tenere conto dell'ordine di estrazione: $\\{1 , 2\\}, \\{1,  3\\}, \\{2, 3\\}$.\n",
    "\n",
    "\n",
    "## Permutazioni semplici\n",
    "Una *permutazione semplice* di elementi diversi tra loro è il risultato di uno scambio dell'ordine degli elementi di un insieme. Le permutazioni semplici si indicano con il simbolo $P_{n}$. Il modello dell'urna è quello di $n$ estrazioni senza rimessa da un'urna che contiene $n$ palline diverse. Il numero delle permutazioni semplici di $n$ elementi distinti è uguale a\n",
    "\n",
    "$$\n",
    "P_n = n!\n",
    "$$ (eq_permsem)\n",
    "\n",
    "dove il simbolo $n!$ si legge $n$ fattoriale ed è uguale al prodotto di $n$ numeri interi decrescenti a partire da $n$. Per definizione $0! = 1$.\n",
    "\n",
    "**Esempio 3.** Consideriamo l'insieme: $A = \\{a, b, c\\}$. Calcoliamo il numero di permutazioni semplici.\n",
    "\n",
    "Le permutazioni semplici di $A$ sono: $\\{a, b, c\\}$, $\\{a, c, b\\}$, $\\{b, c, a\\}$, $\\{b, a, c\\}$, $\\{c, a, b\\}$, $\\{c, b, a\\}$, ovvero 6. Applichiamo l'eq. {ref}`eq_permsem`:\n",
    "\n",
    "$$\n",
    "P_n = P_3 = 3! = 3 \\cdot 2 \\cdot 1 = 6.\n",
    "$$"
   ]
  },
  {
   "attachments": {},
   "cell_type": "markdown",
   "metadata": {},
   "source": [
    "Lo strumento principale che usiamo in Python per trovare le permutazioni di un insieme è una libreria specificamente progettata per iterare sugli oggetti in modi diversi, ovvero `itertools`. Importiamo le librerie necessarie."
   ]
  },
  {
   "cell_type": "code",
   "execution_count": null,
   "metadata": {},
   "outputs": [],
   "source": [
    "import numpy as np\n",
    "import pandas as pd\n",
    "import itertools as it\n",
    "import math\n",
    "import matplotlib.pyplot as plt\n",
    "import seaborn as sns\n",
    "from scipy.constants import golden"
   ]
  },
  {
   "cell_type": "code",
   "execution_count": null,
   "metadata": {},
   "outputs": [],
   "source": [
    "%matplotlib inline\n",
    "%load_ext nb_black\n",
    "SEED = 12345\n",
    "rng = np.random.default_rng(SEED)\n",
    "sns.set_theme()\n",
    "sns.set_palette(\"colorblind\")\n",
    "plt.rc('figure', figsize=(5.0, 5.0/golden))"
   ]
  },
  {
   "attachments": {},
   "cell_type": "markdown",
   "metadata": {},
   "source": [
    "Con `itertools.permutations()` generiamo le permutazioni. Per visualizzare il risultato dobbiamo trasformarlo in una tupla:"
   ]
  },
  {
   "cell_type": "code",
   "execution_count": 43,
   "metadata": {},
   "outputs": [
    {
     "data": {
      "text/plain": [
       "(('A', 'B', 'C'),\n",
       " ('A', 'C', 'B'),\n",
       " ('B', 'A', 'C'),\n",
       " ('B', 'C', 'A'),\n",
       " ('C', 'A', 'B'),\n",
       " ('C', 'B', 'A'))"
      ]
     },
     "execution_count": 43,
     "metadata": {},
     "output_type": "execute_result"
    }
   ],
   "source": [
    "permutations = it.permutations('ABC')\n",
    "permutations = tuple(permutations)\n",
    "permutations"
   ]
  },
  {
   "attachments": {},
   "cell_type": "markdown",
   "metadata": {},
   "source": [
    "Possiamo ora contare quanti elementi ci sono nella tupla usando la funzione `len()`: "
   ]
  },
  {
   "cell_type": "code",
   "execution_count": 44,
   "metadata": {},
   "outputs": [
    {
     "data": {
      "text/plain": [
       "6"
      ]
     },
     "execution_count": 44,
     "metadata": {},
     "output_type": "execute_result"
    }
   ],
   "source": [
    "len(permutations)"
   ]
  },
  {
   "attachments": {},
   "cell_type": "markdown",
   "metadata": {},
   "source": [
    "Oppure, applicando direttamente la formula {eq}`eq_permsem` possiamo usare la funzione `factorial()` contenuta nella libreria `math` di Numpy:"
   ]
  },
  {
   "cell_type": "code",
   "execution_count": 23,
   "metadata": {},
   "outputs": [
    {
     "data": {
      "text/plain": [
       "6"
      ]
     },
     "execution_count": 23,
     "metadata": {},
     "output_type": "execute_result"
    }
   ],
   "source": [
    "np.math.factorial(3)"
   ]
  },
  {
   "attachments": {},
   "cell_type": "markdown",
   "metadata": {},
   "source": [
    "**Esempio 4.** Un altro esempio è costituito dagli anagrammi. Gli anagrammi  sono  le permutazioni che si ottengono da una parola variando l'ordine delle lettere. Le permutazioni semplici si applicano al caso di parole costituite da lettere tutte diverse tra loro. Ad esempio, con la parola  NUMERO si ottengono $P_6 = 6! = 6\\cdot5\\cdot4\\cdot3\\cdot2\\cdot1 = 720$ anagrammi. "
   ]
  },
  {
   "cell_type": "code",
   "execution_count": 60,
   "metadata": {},
   "outputs": [
    {
     "data": {
      "text/plain": [
       "(('N', 'U', 'M', 'E', 'R', 'O'),\n",
       " ('N', 'U', 'M', 'E', 'O', 'R'),\n",
       " ('N', 'U', 'M', 'R', 'E', 'O'),\n",
       " ('N', 'U', 'M', 'R', 'O', 'E'),\n",
       " ('N', 'U', 'M', 'O', 'E', 'R'))"
      ]
     },
     "execution_count": 60,
     "metadata": {},
     "output_type": "execute_result"
    }
   ],
   "source": [
    "permutations = it.permutations('NUMERO')\n",
    "permutations = tuple(permutations)\n",
    "permutations[0:5]"
   ]
  },
  {
   "cell_type": "code",
   "execution_count": 61,
   "metadata": {},
   "outputs": [
    {
     "data": {
      "text/plain": [
       "720"
      ]
     },
     "execution_count": 61,
     "metadata": {},
     "output_type": "execute_result"
    }
   ],
   "source": [
    "len(permutations)"
   ]
  },
  {
   "attachments": {},
   "cell_type": "markdown",
   "metadata": {},
   "source": [
    "Oppure, applichiamo direttamente la formula {eq}`eq_permsem`:"
   ]
  },
  {
   "cell_type": "code",
   "execution_count": 3,
   "metadata": {},
   "outputs": [
    {
     "data": {
      "text/plain": [
       "720"
      ]
     },
     "execution_count": 3,
     "metadata": {},
     "output_type": "execute_result"
    }
   ],
   "source": [
    "np.math.factorial(6)"
   ]
  },
  {
   "attachments": {},
   "cell_type": "markdown",
   "metadata": {},
   "source": [
    "**Esempio 5.** Un altro esempio riguarda i giochi di carte. Ci sono 52! $\\approx 8 \\times 10^{67}$ modi di ordinare un mazzo di carte da poker; questo numero è ``quasi'' grande come il numero di atomi dell'universo che si stima essere uguale a circa $10^{80}$."
   ]
  },
  {
   "cell_type": "code",
   "execution_count": 4,
   "metadata": {},
   "outputs": [
    {
     "data": {
      "text/plain": [
       "80658175170943878571660636856403766975289505440883277824000000000000"
      ]
     },
     "execution_count": 4,
     "metadata": {},
     "output_type": "execute_result"
    }
   ],
   "source": [
    "np.math.factorial(52)"
   ]
  },
  {
   "attachments": {},
   "cell_type": "markdown",
   "metadata": {},
   "source": [
    "## Disposizioni semplici\n",
    " \n",
    "Supponiamo di voler selezionare una sequenza di $k$ oggetti da un insieme di $n$ e che l'ordine degli oggetti abbia importanza. Si chiamano *disposizioni semplici* di $n$ elementi distinti presi a $k$ a $k$  (o disposizioni della classe $k$) tutti i raggruppamenti che si possono formare con gli oggetti dati in modo che qualsiasi raggruppamento ne contenga $k$ tutti distinti tra loro (ovvero, senza ripetizione) e che due raggruppamenti differiscano tra loro per qualche oggetto oppure per l'ordine secondo il quale gli oggetti si susseguono. Le disposizioni semplici della classe $k$ si indicano con  $D_{n,k}$. \n",
    "\n",
    "Il modello dell'urna è quello dell'estrazione senza rimessa di $k < n$ palline da un'urna che contiene $n$ palline diverse. \n",
    "\n",
    "Il numero delle disposizioni semplici di $n$ elementi distinti della classe $k$ è uguale a\n",
    "\n",
    "$$\n",
    "D_{n,k} = \\frac{n!}{(n-k)!}.\n",
    "$$ (eq_disp_simple)\n",
    "\n",
    "**Esempio 6.** Consideriamo l'insieme: $A = \\{a, b, c\\}$. Qual è il numero di disposizioni semplici di classe 2?\n",
    "\n",
    "Le disposizioni semplici di classe 2 sono:\n",
    "\n",
    "$\\{a, b\\}$, $\\{b, a\\}$, $\\{a, c\\}$, $\\{c, a\\}$, $\\{b, c\\}$, $\\{c, b\\}$, ovvero 6. \n",
    "\n",
    "Ovvero\n",
    "\n",
    "$$\n",
    "D_{n,k} = \\frac{n!}{(n-k)!} = 3 \\cdot 2 = 6.\n",
    "$$ (eq_combinations)"
   ]
  },
  {
   "attachments": {},
   "cell_type": "markdown",
   "metadata": {},
   "source": [
    "Possiamo trovare il risultato con la seguente istruzione:"
   ]
  },
  {
   "cell_type": "code",
   "execution_count": 36,
   "metadata": {},
   "outputs": [
    {
     "data": {
      "text/plain": [
       "(('A', 'B'), ('A', 'C'), ('B', 'A'), ('B', 'C'), ('C', 'A'), ('C', 'B'))"
      ]
     },
     "execution_count": 36,
     "metadata": {},
     "output_type": "execute_result"
    }
   ],
   "source": [
    "tuple(it.permutations('ABC', 2))"
   ]
  },
  {
   "cell_type": "code",
   "execution_count": 37,
   "metadata": {},
   "outputs": [
    {
     "data": {
      "text/plain": [
       "6"
      ]
     },
     "execution_count": 37,
     "metadata": {},
     "output_type": "execute_result"
    }
   ],
   "source": [
    "res = tuple(it.permutations('ABC', 2))\n",
    "len(res)"
   ]
  },
  {
   "attachments": {},
   "cell_type": "markdown",
   "metadata": {},
   "source": [
    "Oppure possiamo implementare l'eq. {eq}`eq_disp_simple`:"
   ]
  },
  {
   "cell_type": "code",
   "execution_count": 45,
   "metadata": {},
   "outputs": [
    {
     "data": {
      "text/plain": [
       "6.0"
      ]
     },
     "execution_count": 45,
     "metadata": {},
     "output_type": "execute_result"
    }
   ],
   "source": [
    "def simple_disp(n, k):\n",
    "    return np.math.factorial(n) / np.math.factorial(n - k)\n",
    "\n",
    "simple_disp(3, 2)"
   ]
  },
  {
   "attachments": {},
   "cell_type": "markdown",
   "metadata": {},
   "source": [
    "## Combinazioni semplici\n",
    "Le *combinazioni semplici* di $n$ elementi a $k$ a $k$ ($k \\leq n$) sono tutti i sottoinsiemi di $k$ elementi di un dato insieme di $n$ elementi, tutti distinti tra loro. Le combinazioni semplici della classe $k$ si indicano con il simbolo $C_{n,k}$. Il modello dell'urna è quello dell'estrazione senza reimmissione di $k$ palline da un'urna che contiene $n$ palline distinte tra loro: non c'è la ripetizione di elementi né un ordine di estrazione.\n",
    "\n",
    "Le combinazioni semplici differiscono dalle disposizioni semplici per il fatto che le disposizioni semplici tengono conto dell'ordine di estrazione mentre nelle combinazioni semplici si considerano distinti solo i raggruppamenti che differiscono almeno per un elemento. Gli elementi di ciascuna combinazione di $k$ oggetti possono essere ordinati tra loro in $k!$ modi diversi, per cui il numero delle combinazioni semplici è dato dal numero di disposizioni semplici $D_{n,k}$ diviso per il numero di permutazioni semplici $P_k$ dei $k$ elementi, come indicato nell'eq. {eq}`eq_combsemp`. Il numero delle combinazioni semplici di $n$ elementi distinti della classe $k$ è uguale a\n",
    "\n",
    "$$\n",
    "C_{n,k} = \\frac{D_{n,k}}{P_k} = \\frac{n!}{k!(n-k)!}.\n",
    "$$ (eq_combsemp)\n",
    "\n",
    "Il numero delle combinazioni semplici $C_{n,k}$ è spesso indicato con il\n",
    "simbolo $\\binom{n}{k}$ che si legge ``$n$ su $k$'' e viene detto *coefficiente binomiale*. \n",
    "\n",
    "**Esempio 7.** Per l'insieme $A = \\{a, b, c\\}$ si trovino le combinazioni semplici di classe 2.\n",
    "\n",
    "Le combinazioni semplici dell'insieme $A$ sono \n",
    "$\\{a, b\\}$, $\\{a, c\\}$, $\\{b, c\\}$, ovvero 3. Applichiamo l'eq. {eq}`eq_combsemp`:\n",
    "\n",
    "$$\n",
    "C_{n,k} = \\binom{n}{k} = \\binom{3}{2} = 3.\n",
    "$$\n"
   ]
  },
  {
   "attachments": {},
   "cell_type": "markdown",
   "metadata": {},
   "source": [
    "Usiamo `itertools`:"
   ]
  },
  {
   "cell_type": "code",
   "execution_count": 49,
   "metadata": {},
   "outputs": [
    {
     "data": {
      "text/plain": [
       "(('A', 'B'), ('A', 'C'), ('B', 'C'))"
      ]
     },
     "execution_count": 49,
     "metadata": {},
     "output_type": "execute_result"
    }
   ],
   "source": [
    "c_nk = tuple(it.combinations('ABC', 2))\n",
    "c_nk"
   ]
  },
  {
   "cell_type": "code",
   "execution_count": 50,
   "metadata": {},
   "outputs": [
    {
     "data": {
      "text/plain": [
       "3"
      ]
     },
     "execution_count": 50,
     "metadata": {},
     "output_type": "execute_result"
    }
   ],
   "source": [
    "len(c_nk)"
   ]
  },
  {
   "attachments": {},
   "cell_type": "markdown",
   "metadata": {},
   "source": [
    "La soluzione si trova anche usando la funzione `comb()` della libreria `math`:"
   ]
  },
  {
   "cell_type": "code",
   "execution_count": 52,
   "metadata": {},
   "outputs": [
    {
     "data": {
      "text/plain": [
       "3"
      ]
     },
     "execution_count": 52,
     "metadata": {},
     "output_type": "execute_result"
    }
   ],
   "source": [
    "math.comb(3, 2)"
   ]
  },
  {
   "attachments": {},
   "cell_type": "markdown",
   "metadata": {},
   "source": [
    "**Esempio 8.** Quanti gruppi di 4 si possono formare con 20 individui? "
   ]
  },
  {
   "cell_type": "code",
   "execution_count": 59,
   "metadata": {},
   "outputs": [
    {
     "data": {
      "text/plain": [
       "((0, 1, 2, 3), (0, 1, 2, 4), (0, 1, 2, 5), (0, 1, 2, 6), (0, 1, 2, 7))"
      ]
     },
     "execution_count": 59,
     "metadata": {},
     "output_type": "execute_result"
    }
   ],
   "source": [
    "c_nk = tuple(it.combinations(range(20), 4))\n",
    "c_nk[0:5]"
   ]
  },
  {
   "cell_type": "code",
   "execution_count": 54,
   "metadata": {},
   "outputs": [
    {
     "data": {
      "text/plain": [
       "4845"
      ]
     },
     "execution_count": 54,
     "metadata": {},
     "output_type": "execute_result"
    }
   ],
   "source": [
    "len(c_nk)"
   ]
  },
  {
   "attachments": {},
   "cell_type": "markdown",
   "metadata": {},
   "source": [
    "ovvero"
   ]
  },
  {
   "cell_type": "code",
   "execution_count": 56,
   "metadata": {},
   "outputs": [
    {
     "data": {
      "text/plain": [
       "4845"
      ]
     },
     "execution_count": 56,
     "metadata": {},
     "output_type": "execute_result"
    }
   ],
   "source": [
    "math.comb(20, 4)"
   ]
  },
  {
   "attachments": {},
   "cell_type": "markdown",
   "metadata": {},
   "source": [
    "## Anticipazione\n",
    "\n",
    "Aggiungo due esempi aggiuntivi. Con questi semplici esempi useremo il calcolo combinatorio per anticipare il concetto di \"probabilità\" che verrà sviluppato nel capitolo successivo.\n",
    "\n",
    "**Esempio 9.** Consideriamo l'esperimento casuale corrispondente al lancio di un dado bilanciato a sei facce. L'insieme di tutti i risultati possibili si dice \"spazio campione\" dell'esperimento casuale."
   ]
  },
  {
   "cell_type": "code",
   "execution_count": 106,
   "metadata": {},
   "outputs": [
    {
     "name": "stdout",
     "output_type": "stream",
     "text": [
      "[1, 2, 3, 4, 5, 6]\n"
     ]
    }
   ],
   "source": [
    "sample = [dice1 for dice1 in range(1,7)]\n",
    "print(sample)"
   ]
  },
  {
   "attachments": {},
   "cell_type": "markdown",
   "metadata": {},
   "source": [
    "Definisco l'evento 'risultato minore di 4':"
   ]
  },
  {
   "cell_type": "code",
   "execution_count": 107,
   "metadata": {},
   "outputs": [
    {
     "name": "stdout",
     "output_type": "stream",
     "text": [
      "[1, 2, 3]\n"
     ]
    }
   ],
   "source": [
    "event = [roll for roll in sample if roll < 4]\n",
    "print(event)"
   ]
  },
  {
   "attachments": {},
   "cell_type": "markdown",
   "metadata": {},
   "source": [
    "Calcolo la probabilità di ottenere un numero minore di 4 quando lancio un dado bilanciato."
   ]
  },
  {
   "cell_type": "code",
   "execution_count": 3,
   "metadata": {},
   "outputs": [
    {
     "name": "stdout",
     "output_type": "stream",
     "text": [
      "3 / 6\n"
     ]
    }
   ],
   "source": [
    "print(len(event), \"/\", len(sample))"
   ]
  },
  {
   "attachments": {},
   "cell_type": "markdown",
   "metadata": {},
   "source": [
    "Il precedente esercizio illustra il tipo di procedura che si usa negli esercizi che chiedono di trovare la probabilità di un evento utilizzando il calcolo combinatorio. Quello che abbiamo fatto (in un caso in cui non era ovviamente necessario usare Python per trovare la soluzione) è stato di contare il numero di punti dello spazio campione (`len(sample)`) e il numero di punti dello spazio campione che soddisfano la condizione enunciata dal problema (`len(event)`). Il rapporto ci dà quello che chiamiamo *probabilità*. \n",
    "\n",
    "**Esempio 10.** Consideriamo il lancio di due dadi bilanciati a quattro facce numerate 1, 2, 3, 4. Creo lo spazio campione di questo esperimento casuale. "
   ]
  },
  {
   "cell_type": "code",
   "execution_count": 125,
   "metadata": {},
   "outputs": [
    {
     "data": {
      "text/plain": [
       "[(1, 1),\n",
       " (1, 2),\n",
       " (1, 3),\n",
       " (1, 4),\n",
       " (2, 1),\n",
       " (2, 2),\n",
       " (2, 3),\n",
       " (2, 4),\n",
       " (3, 1),\n",
       " (3, 2),\n",
       " (3, 3),\n",
       " (3, 4),\n",
       " (4, 1),\n",
       " (4, 2),\n",
       " (4, 3),\n",
       " (4, 4)]"
      ]
     },
     "execution_count": 125,
     "metadata": {},
     "output_type": "execute_result"
    },
    {
     "data": {
      "application/javascript": "\n            setTimeout(function() {\n                var nbb_cell_id = 125;\n                var nbb_unformatted_code = \"die_rolls = list(it.product(range(1, 5), repeat=2))\\ndie_rolls\";\n                var nbb_formatted_code = \"die_rolls = list(it.product(range(1, 5), repeat=2))\\ndie_rolls\";\n                var nbb_cells = Jupyter.notebook.get_cells();\n                for (var i = 0; i < nbb_cells.length; ++i) {\n                    if (nbb_cells[i].input_prompt_number == nbb_cell_id) {\n                        if (nbb_cells[i].get_text() == nbb_unformatted_code) {\n                             nbb_cells[i].set_text(nbb_formatted_code);\n                        }\n                        break;\n                    }\n                }\n            }, 500);\n            ",
      "text/plain": [
       "<IPython.core.display.Javascript object>"
      ]
     },
     "metadata": {},
     "output_type": "display_data"
    }
   ],
   "source": [
    "die_rolls = list(it.product(range(1, 5), repeat=2))\n",
    "die_rolls"
   ]
  },
  {
   "attachments": {},
   "cell_type": "markdown",
   "metadata": {},
   "source": [
    "In questo esperimento casuale sono interessato alla somma dei punti ottenuti dai due dadi. La somma dei punti può assumere sette valori possibili:"
   ]
  },
  {
   "cell_type": "code",
   "execution_count": 126,
   "metadata": {},
   "outputs": [
    {
     "data": {
      "text/plain": [
       "array([2, 3, 4, 5, 6, 7, 8])"
      ]
     },
     "execution_count": 126,
     "metadata": {},
     "output_type": "execute_result"
    },
    {
     "data": {
      "application/javascript": "\n            setTimeout(function() {\n                var nbb_cell_id = 126;\n                var nbb_unformatted_code = \"results = np.arange(2, 9)\\nresults\";\n                var nbb_formatted_code = \"results = np.arange(2, 9)\\nresults\";\n                var nbb_cells = Jupyter.notebook.get_cells();\n                for (var i = 0; i < nbb_cells.length; ++i) {\n                    if (nbb_cells[i].input_prompt_number == nbb_cell_id) {\n                        if (nbb_cells[i].get_text() == nbb_unformatted_code) {\n                             nbb_cells[i].set_text(nbb_formatted_code);\n                        }\n                        break;\n                    }\n                }\n            }, 500);\n            ",
      "text/plain": [
       "<IPython.core.display.Javascript object>"
      ]
     },
     "metadata": {},
     "output_type": "display_data"
    }
   ],
   "source": [
    "results = np.arange(2, 9)\n",
    "results"
   ]
  },
  {
   "attachments": {},
   "cell_type": "markdown",
   "metadata": {},
   "source": [
    "Mi pongo la seguente domanda: in quanti modi diversi posso ottenere ciascuno dei possibili sette valori elencati sopra? Il valore 2 si trova solo in un punto dello spazio campione, (1, 1); il valore 3 si trova solo in due punti dello spazio campione: (1, 2), (2, 1); eccetera. Nel caso di uno spazio campione piccolo (16 elementi nel caso presente) possiamo fare questi calcoli a mano. Ma quando lo spazio campione è più grande, questo non è possibile. Usiamo dunque Python per trovare la soluzione."
   ]
  },
  {
   "cell_type": "code",
   "execution_count": 127,
   "metadata": {},
   "outputs": [
    {
     "data": {
      "text/plain": [
       "array([1, 2, 3, 4, 3, 2, 1])"
      ]
     },
     "execution_count": 127,
     "metadata": {},
     "output_type": "execute_result"
    },
    {
     "data": {
      "application/javascript": "\n            setTimeout(function() {\n                var nbb_cell_id = 127;\n                var nbb_unformatted_code = \"sum(sum(rol)==results for rol in die_rolls)\";\n                var nbb_formatted_code = \"sum(sum(rol) == results for rol in die_rolls)\";\n                var nbb_cells = Jupyter.notebook.get_cells();\n                for (var i = 0; i < nbb_cells.length; ++i) {\n                    if (nbb_cells[i].input_prompt_number == nbb_cell_id) {\n                        if (nbb_cells[i].get_text() == nbb_unformatted_code) {\n                             nbb_cells[i].set_text(nbb_formatted_code);\n                        }\n                        break;\n                    }\n                }\n            }, 500);\n            ",
      "text/plain": [
       "<IPython.core.display.Javascript object>"
      ]
     },
     "metadata": {},
     "output_type": "display_data"
    }
   ],
   "source": [
    "sum(sum(rol)==results for rol in die_rolls)\n"
   ]
  },
  {
   "attachments": {},
   "cell_type": "markdown",
   "metadata": {},
   "source": [
    "Esaminiamo la seguente *list comprehension*:"
   ]
  },
  {
   "cell_type": "code",
   "execution_count": 129,
   "metadata": {},
   "outputs": [
    {
     "data": {
      "text/plain": [
       "[array([ True, False, False, False, False, False, False]),\n",
       " array([False,  True, False, False, False, False, False]),\n",
       " array([False, False,  True, False, False, False, False]),\n",
       " array([False, False, False,  True, False, False, False]),\n",
       " array([False,  True, False, False, False, False, False]),\n",
       " array([False, False,  True, False, False, False, False]),\n",
       " array([False, False, False,  True, False, False, False]),\n",
       " array([False, False, False, False,  True, False, False]),\n",
       " array([False, False,  True, False, False, False, False]),\n",
       " array([False, False, False,  True, False, False, False]),\n",
       " array([False, False, False, False,  True, False, False]),\n",
       " array([False, False, False, False, False,  True, False]),\n",
       " array([False, False, False,  True, False, False, False]),\n",
       " array([False, False, False, False,  True, False, False]),\n",
       " array([False, False, False, False, False,  True, False]),\n",
       " array([False, False, False, False, False, False,  True])]"
      ]
     },
     "execution_count": 129,
     "metadata": {},
     "output_type": "execute_result"
    },
    {
     "data": {
      "application/javascript": "\n            setTimeout(function() {\n                var nbb_cell_id = 129;\n                var nbb_unformatted_code = \"[sum(rol) == results for rol in die_rolls]\";\n                var nbb_formatted_code = \"[sum(rol) == results for rol in die_rolls]\";\n                var nbb_cells = Jupyter.notebook.get_cells();\n                for (var i = 0; i < nbb_cells.length; ++i) {\n                    if (nbb_cells[i].input_prompt_number == nbb_cell_id) {\n                        if (nbb_cells[i].get_text() == nbb_unformatted_code) {\n                             nbb_cells[i].set_text(nbb_formatted_code);\n                        }\n                        break;\n                    }\n                }\n            }, 500);\n            ",
      "text/plain": [
       "<IPython.core.display.Javascript object>"
      ]
     },
     "metadata": {},
     "output_type": "display_data"
    }
   ],
   "source": [
    "[sum(rol) == results for rol in die_rolls]"
   ]
  },
  {
   "attachments": {},
   "cell_type": "markdown",
   "metadata": {},
   "source": [
    "L'istruzione `for rol in die_rolls` significa \"considera ciascuno degli elementi (`rol`) della lista `die_rolls`\". Ciascuno dei 16 elementi di `die_rolls` è una lista di due elementi (i punti dei due dadi). La lista `die_rolls` elenca dunque tutti i risultati possibili dell'esperimento casuale, ovvero tutti i 16 punti dello  *spazio campione*.\n",
    "\n",
    "L'espressione `sum(rol)` applica il metodo `sum()` a ciascun elemento (coppia di valori) della lista `die_rolls`. \n",
    "\n",
    "La condizione logica `sum(rol) == results` si chiede se ciascuno dei possibili risultati prodotti da `sum(rol)` sia uguale a ciascuno dei valori elencati in `results` (i possibi valori della somma dei lanci di due dadi). Questa condizione logica viene testata per tutti i possibili punti dello spazio campione (16) e per tutti i possibili risultati (7), come indicato dai valori booleani stampati sopra. \n",
    "\n",
    "Ci chiediamo, in ciascuno dei punti campione dello spazio campione se la condizione logica (somma uguale a uno dei valori possibili elencati in `results`) viene soddisfatta. La somma dei valori `True` ci dice in quanti punti dello spazio campione la somma assume ciascuno dei valori che abbiamo elencato. Se dividiamo ciascuno dei valori [1, 2, 3, 4, 3, 2, 1] per 16 (il numero totale di punti dello spazio campione), otteniamo la *probabilità* che la variabile \"somma\" ottenga il valore 2, il valore 3, ecc. Vedremo nel capitolo {ref}`intro_prob_notebook` che l'insieme di queste probabilità cosituisce quella che viene chiamata una distribuzione di massa di probabilità di una variabile casuale discreta (nel nostro caso, la somma dei punti prodotti dal lancio dei due dadi).\n",
    "\n",
    "È facile applicare questo metodo a casi più complessi. Per esempio, nel caso di due dadi bilanciati a sei facce otteniamo:"
   ]
  },
  {
   "cell_type": "code",
   "execution_count": 110,
   "metadata": {},
   "outputs": [
    {
     "data": {
      "text/plain": [
       "array([1, 2, 3, 4, 5, 6, 5, 4, 3, 2, 1])"
      ]
     },
     "execution_count": 110,
     "metadata": {},
     "output_type": "execute_result"
    }
   ],
   "source": [
    "die_rolls = list(it.product(range(1, 7), repeat=2))\n",
    "results = np.arange(2, 13)\n",
    "sum(sum(rol)==results for rol in die_rolls)"
   ]
  },
  {
   "cell_type": "markdown",
   "metadata": {},
   "source": [
    "La distribuzione di probabilità si trova dividendo per 36:"
   ]
  },
  {
   "cell_type": "code",
   "execution_count": 112,
   "metadata": {},
   "outputs": [
    {
     "data": {
      "text/plain": [
       "array([0.02777778, 0.05555556, 0.08333333, 0.11111111, 0.13888889,\n",
       "       0.16666667, 0.13888889, 0.11111111, 0.08333333, 0.05555556,\n",
       "       0.02777778])"
      ]
     },
     "execution_count": 112,
     "metadata": {},
     "output_type": "execute_result"
    }
   ],
   "source": [
    "prob = sum(sum(rol)==results for rol in die_rolls) / len(die_rolls)\n",
    "prob"
   ]
  },
  {
   "cell_type": "code",
   "execution_count": 123,
   "metadata": {},
   "outputs": [
    {
     "data": {
      "image/png": "[encoded data removed]",
      "text/plain": [
       "<Figure size 500x309.017 with 1 Axes>"
      ]
     },
     "metadata": {},
     "output_type": "display_data"
    },
    {
     "data": {
      "application/javascript": "\n            setTimeout(function() {\n                var nbb_cell_id = 123;\n                var nbb_unformatted_code = \"fig, ax = plt.subplots()\\n_ = plt.bar(results, prob)\\nplt.xlabel('Somma dei lanci di due dadi')\\nplt.ylabel('Probabilit\\u00e0')\\nplt.show()\";\n                var nbb_formatted_code = \"fig, ax = plt.subplots()\\n_ = plt.bar(results, prob)\\nplt.xlabel(\\\"Somma dei lanci di due dadi\\\")\\nplt.ylabel(\\\"Probabilit\\u00e0\\\")\\nplt.show()\";\n                var nbb_cells = Jupyter.notebook.get_cells();\n                for (var i = 0; i < nbb_cells.length; ++i) {\n                    if (nbb_cells[i].input_prompt_number == nbb_cell_id) {\n                        if (nbb_cells[i].get_text() == nbb_unformatted_code) {\n                             nbb_cells[i].set_text(nbb_formatted_code);\n                        }\n                        break;\n                    }\n                }\n            }, 500);\n            ",
      "text/plain": [
       "<IPython.core.display.Javascript object>"
      ]
     },
     "metadata": {},
     "output_type": "display_data"
    }
   ],
   "source": [
    "fig, ax = plt.subplots()\n",
    "_ = plt.bar(results, prob)\n",
    "plt.xlabel('Somma dei lanci di due dadi')\n",
    "plt.ylabel('Probabilità')\n",
    "plt.show()"
   ]
  },
  {
   "cell_type": "markdown",
   "metadata": {},
   "source": [
    "## Watermark"
   ]
  },
  {
   "cell_type": "code",
   "execution_count": null,
   "metadata": {},
   "outputs": [],
   "source": [
    "%load_ext watermark\n",
    "%watermark -n -u -v -iv -w"
   ]
  }
 ],
 "metadata": {
  "kernelspec": {
   "display_name": "pymc",
   "language": "python",
   "name": "python3"
  },
  "language_info": {
   "codemirror_mode": {
    "name": "ipython",
    "version": 3
   },
   "file_extension": ".py",
   "mimetype": "text/x-python",
   "name": "python",
   "nbconvert_exporter": "python",
   "pygments_lexer": "ipython3",
   "version": "3.10.8 (main, Nov 24 2022, 08:09:04) [Clang 14.0.6 ]"
  },
  "orig_nbformat": 4,
  "vscode": {
   "interpreter": {
    "hash": "030ae53b1150d0ca6a72bb4a7a0454cbd9dab0eb2818ba119bbca0111e46e432"
   }
  }
 },
 "nbformat": 4,
 "nbformat_minor": 2
}
