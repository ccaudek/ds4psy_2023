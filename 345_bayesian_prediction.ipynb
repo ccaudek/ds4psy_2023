{
 "cells": [
  {
   "attachments": {},
   "cell_type": "markdown",
   "metadata": {},
   "source": [
    "(bayesian_prediction_notebook)=\n",
    "# La predizione bayesiana \n",
    "\n",
    "Oltre ad una sintesi della distribuzione a posteriori attraverso il computo di indici caratteristici e alla verifica di ipotesi, un altro compito dell'analisi bayesiana è la predizione di nuovi dati futuri. Dopo aver osservato i dati di un campione e dopo avere ricavato le distribuzioni a posteriori dei parametri, è infatti possibile ottenere delle indicazioni sulle proprietà di dati futuri. L'uso più immediato della stima della distribuzione dei possibili valori futuri della variabile di esito è la verifica del modello in esame. Infatti, il modo più diretto per testare un modello è quello di utilizzare il modello corrente per fare previsioni sui possibili dati futuri per poi confrontare i dati predetti con i dati che sono stati effettivamente osservati nel campione corrente. Questa pratica va sotto il nome di *controllo predittivo a posteriori*. In questo capitolo ci focalizzeremo sul problema della predizione bayesiana esaminando il caso più semplice, ovvero lo schema beta-binomiale. In seguito estenderemo questa discussione al caso generale.\n",
    "\n",
    "## La distribuzione predittiva a posteriori\n",
    "\n",
    "Una volta costruita la distribuzione a posteriori del parametro o dei parametri sconosciuti, potremmo essere interessati a utilizzare il modello bayesiano allo scopo di prevedere la probabilità di risultati futuri basandoci sui dati già osservati. Questo tipo di analisi inferenziale va sotto il nome di *analisi predittiva*.\n",
    "\n",
    "L'esempio che considereremo qui nei dettagli riguarda il caso beta-binomiale, nel quale la distribuzione a priori per il parametro ignoto $\\theta$ (ovvero, la probabilità di successo) è una distribuzione Beta, la verosimiglianza è binomiale e i dati sono costituiti dal numero $y$ di successi in $n$ prove Bernoulliane indipendenti. Nell'esempio che discuteremo useremo un'altra volta i dati del campione di pazienti clinici depressi di @zetschefuture2019. Supponendo di volere esaminare in futuro altri $m$ pazienti clinici, ci chiediamo: quanti di essi manifesteranno una depressione grave?\n",
    "\n",
    "Siamo dunque interessati a predire i risultati che si potrebbero osservare in nuovi campioni di $m = 30$ osservazioni. Denotiamo con $\\tilde{y}$ la manifestazione della variabile casuale $\\tilde{Y}$. In un nuovo campione di $m$ osservazioni, $\\tilde{y}$ assumerà il valore $\\tilde{y}_1$ (ad es., 12), in un altro campione assumerà il valore $\\tilde{y}_2$ (ad es., 23), e così via. Siamo interessati a descrivere la probabilità che $\\tilde{y}$ assuma i valori $0, 1, 2, \\dots, 29, 30$. Tale distribuzione (in questo caso) di massa di probabilità si chiama *distribuzione predittiva a posteriori* $p(\\tilde{Y} = \\tilde{y} \\mid Y = y)$ e corrisponde alla probabilità assegnata a ciascuno dei possibili valori $\\tilde{y}$ ($0, 1, 2, \\dots, 29, 30$) nei possibili campioni futuri di $m$ osservazioni.\n",
    "\n",
    "In questo Capitolo ci porremo il problema di trovare la distribuzione predittiva a posteriori nel caso beta-binomiale. Considereremo tre metodi diversi:\n",
    "\n",
    "-   la soluzione analitica,\n",
    "-   i risultati di una simulazione,\n",
    "-   il campionamento MCMC.\n",
    "\n",
    "I tre metodi producono risultati equivalenti. In seguito useremo il metodo MCMC perché ci consente di trovare facilmente la risposta cercata, anche quando una soluzione analitica non è disponibile.\n",
    "\n",
    "## Soluzione analitica\n",
    "\n",
    "Nel caso dell'esempio in discussione, la distribuzione di $\\tilde{Y}$ dipende da $\\theta$ e ciò che sappiamo di $\\theta$ è sintetizzato nella distribuzione a posteriori $p(\\theta \\mid y)$. Usando la regola della catena, possiamo scrivere la distribuzione congiunta di $\\tilde{y}$ e $\\theta$ nel modo seguente\n",
    "\n",
    "$$\n",
    "p(\\tilde{y}, \\theta \\mid y) = p(\\tilde{y} \\mid \\theta, y) p(\\theta \\mid y).\n",
    "$$\n",
    "\n",
    "Assumendo che le osservazioni future $\\tilde{y}$ e passate $y$ siano condizionalmente indipendenti dato $\\theta$, l'espressione precedente può essere scritta come\n",
    "\n",
    "$$\n",
    "p(\\tilde{y}, \\theta \\mid y) = p(\\tilde{y} \\mid \\theta) p(\\theta \\mid y).\n",
    "$$\n",
    "\n",
    "La distribuzione predittiva a posteriori viene ottenuta dalla distribuzione congiunta di $\\tilde{y}$ e $\\theta$ integrando rispetto a $\\theta$:\n",
    "\n",
    "$$\n",
    "p(\\tilde{y} \\mid y) = \\int_{\\theta} p(\\tilde{y} \\mid \\theta) p(\\theta \\mid y) \\,\\operatorname {d}\\!\\theta.\n",
    "$$ (eq-post-pred-distr)\n",
    "\n",
    "Nel caso dello schema beta-binomiale, la funzione $p(\\tilde{y} \\mid \\theta)$ è binomiale di parametri $m$ e $\\theta$, e la distribuzione a posteriori $p(\\theta \\mid y)$ è una $Beta(\\alpha + y, \\beta + n - y)$. Risolvendo l'integrale otteniamo:\n",
    "\n",
    "$$\n",
    "\\begin{align}\n",
    "p(\\tilde{y} \\mid y) &= \\int_0^1 p(\\tilde{y} \\mid \\theta)\n",
    "p(\\theta \\mid y)\\,\\operatorname {d}\\!\\theta \\notag\\\\\n",
    " &= \\int_0^1 \\begin{pmatrix}m\\\\\\tilde{y}\\end{pmatrix}\n",
    " \\theta^{\\tilde{y}}\n",
    "(1-\\theta)^{m-\\tilde{y}} \\, Beta(a+y,b+n-y) \\, d\\theta \\notag\\\\\n",
    "&= \\begin{pmatrix}{m}\\\\\\tilde{y}\\end{pmatrix} \\int_0^1 \\theta^{\\tilde{y}}\n",
    "(1-\\theta)^{m-\\tilde{y}} \\frac{1}{B(a+y, b+n-y)}\\theta^{a+y-1}(1-\\theta)^{b+n-y-1}\\notag\\\\\n",
    "&= \\begin{pmatrix}{ m }\\\\\\tilde{y}\\end{pmatrix} \\frac{1}{B(a+y, b+n-y)}\\int_0^1 \\theta^{\\tilde{y}+a+y-1}(1-\\theta)^{m-\\tilde{y}+b+n-y-1}\\notag\\\\\n",
    "&= \\begin{pmatrix}{ m }\\\\\\tilde{y}\\end{pmatrix} \\frac{B(\\tilde{y}+a+y,b+n-y+m-\\tilde{y})}{B(a+y, b+n-y)} \\; .\n",
    "\\end{align}\n",
    "$$ (eq-post-yprime-an-sol-betabin)\n",
    "\n",
    "In conclusione, per lo schema beta-binomiale, la distribuzione predittiva a posteriori corrisponde ad una distribuzione di probabilità discreta chiamata *distribuzione beta-binomiale* di parametri $m$, $\\alpha+y$ e $\\beta+n-y$.\n",
    "\n",
    "$$\n",
    "f(\\tilde{y} \\mid y) = \\binom{m}{\\tilde{y}} \\frac{B(a+ y + \\tilde{y}, b + n - y + m - \\tilde{y})}{B(a+y, b+n-y)},\n",
    "$$ (eq-beta-binomial-distr)\n",
    "\n",
    "Nell'esempio relativo allo studio di @zetschefuture2019, la verosimiglianza è binomiale, i dati sono costituiti da 23 successi su 30 prove e la distribuzione a priori su $\\theta$ è $(Beta)(2, 10)$. Di conseguenza, la distribuzione a posteriori è $(Beta)(25, 17)$. Vogliamo calcolare la distribuzione predittiva a posteriori per un nuovo campione, poniamo, di $m = 30$ osservazioni (ma, in generale, $m$ può essere diverso da $n$).\n",
    "\n",
    "In base all'eq. {eq}`eq-beta-binomial-distr` sappiamo che la distribuzione predittiva a posteriori è una distribuzione beta-binomiale di parametri $m$, $\\alpha+y$ e $\\beta+n-y$, dove $m$ è il numero di prove nel nuovo campione, $\\alpha$ e $\\beta$ sono i parametri della distribuzione a priori, e $y$ e $n$ sono le proprietà del campione corrente. Nel caso dell'esempio in discussione, $m = 30$, $\\alpha = 2 + 23 = 25$, $\\beta = 10 + 30 - 23 = 17$. "
   ]
  },
  {
   "cell_type": "code",
   "execution_count": 1,
   "metadata": {},
   "outputs": [],
   "source": [
    "import matplotlib.pyplot as plt\n",
    "import numpy as np\n",
    "import pandas as pd\n",
    "import scipy as sc\n",
    "import statistics\n",
    "import arviz as az\n",
    "import seaborn as sns\n",
    "from scipy.stats import betabinom, beta, binom\n",
    "from scipy.constants import golden\n",
    "import warnings\n",
    "warnings.filterwarnings('ignore')\n",
    "warnings.simplefilter('ignore')"
   ]
  },
  {
   "cell_type": "code",
   "execution_count": 2,
   "metadata": {},
   "outputs": [],
   "source": [
    "%matplotlib inline\n",
    "plt.rc('figure', figsize=(5.0, 5.0/golden))\n",
    "sns.set_theme()\n",
    "sns.set_palette(\"colorblind\")\n",
    "SEED = 42\n",
    "rng = np.random.default_rng(SEED)"
   ]
  },
  {
   "cell_type": "code",
   "execution_count": 8,
   "metadata": {},
   "outputs": [
    {
     "data": {
      "image/png": "[encoded data removed]",
      "text/plain": [
       "<Figure size 500x309.017 with 1 Axes>"
      ]
     },
     "metadata": {},
     "output_type": "display_data"
    }
   ],
   "source": [
    "n = 30\n",
    "a = 25\n",
    "b = 17\n",
    "\n",
    "x = np.arange(0, 30)\n",
    "plt.plot(x, betabinom.pmf(x, n, a, b), 'bo', ms=8, label='betabinom pmf')\n",
    "plt.vlines(x, 0, betabinom.pmf(x, n, a, b), colors='b', lw=5, alpha=0.5);"
   ]
  },
  {
   "attachments": {},
   "cell_type": "markdown",
   "metadata": {},
   "source": [
    "La distribuzione predittiva a posteriori illustrata nella figura precedente ci dice qual è la credibilità relativa di osservare $0, 1, \\dots, 30$ successi su $m = 30$ prove in un futuro campione di osservazioni, alla luce dei dati che abbiamo osservato nel campione corrente (23 successi in 30 prove) e tenuto conto delle nostre opinioni a priori sulla plausibilità dei possibili valori $\\theta$ (ovvero, $Beta(2, 10)$).\n",
    "\n",
    "Esaminando la distribuzione predittiva notiamo che, nei possibili campioni futuri di 30 osservazioni, il valore $\\tilde{y}$ più plausibile è 18. Tuttavia, $\\tilde{y}$ può assumere anche altri valori e la distribuzione predittiva ci informa sulla *credibilità relativa* di ciascuno dei possibili valori futuri $\\tilde{y}$ -- nel presente esempio, $\\tilde{y}$ corrisponde al numero di pazienti clinici (su 30) che manifestano una depressione grave.\n",
    "\n",
    "È desiderabile costruire un intervallo che contiene le realizzazioni $\\tilde{y}$ ad un livello specificato di probabilità. Supponiamo che il livello di probabilità richiesto sia 0.89. L'intervallo si costruisce aggiungendo valori $\\tilde{y}$ all'intervallo (partendo da quello con la probabilità maggiore) fino a che il contenuto di probabilità dell'insieme eccede la soglia richiesta, nel caso present di 0.89.\n",
    "\n",
    "Sulla base delle informazioni disponibili, possiamo dunque prevedere, con un livello di certezza soggettiva che eccede la soglia di 0.91, che in un futuro campione di 30 soggetti clinici depressi, il numero di pazienti con depressione grave sarà compreso tra 12 e 23.\n",
    "\n",
    "$$\n",
    "P(12 \\leq \\tilde{y} \\leq 23) = 0.9145.\n",
    "$$"
   ]
  },
  {
   "cell_type": "code",
   "execution_count": 4,
   "metadata": {},
   "outputs": [
    {
     "data": {
      "text/plain": [
       "0.9152884954868495"
      ]
     },
     "execution_count": 4,
     "metadata": {},
     "output_type": "execute_result"
    }
   ],
   "source": [
    "x_set = np.arange(12,24)\n",
    "betabinom.pmf(x_set, n, a, b).sum()"
   ]
  },
  {
   "attachments": {},
   "cell_type": "markdown",
   "metadata": {},
   "source": [
    "In conclusione, per il caso beta-binomiale, possiamo dire che la predizione bayesiana di una nuova osservazione futura è la realizzazione di una distribuzione beta-binomiale di parametri $m$, $\\alpha + y$, e $\\beta + n - y$, dove $m$ è il numero di prove nel nuovo campione, $\\alpha$ e $\\beta$ sono i parametri della distribuzione a priori, e $y$ e $n$ sono le caratteristiche del campione.\n",
    "\n",
    "## La distribuzione predittiva a posteriori mediante simulazione\n",
    "\n",
    "In situazioni dove è difficile derivare l'esatta distribuzione predittiva a posteriori è possibile ottenere un campione casuale di valori della distribuzione predittiva posteriori mediante simulazione. Facciamo un esempio riferito al caso che stiamo discutendo. È possibile svolgere la simulazione richiesta in due fasi. Supponiamo di volere ottenere un campione casuale di $n$ osservazioni dalla distribuzione predittiva a posteriori. A tal fine dobbiamo (1) estrarre $n$ valori a caso del parametro $\\theta$ dalla distribuzione a posteriori $p(\\theta \\mid y)$: (2) con tali valori del parametro $\\theta$ generiamo $n$ valori casuali $\\tilde{y}$; a tal fine usiamo il modello binomiale di parametri $m$ e $\\theta_i$ (con $i = 1, \\dots, n$). Otteniamo così $n$ realizzazioni casuali di $n$ distribuzioni binomiali aventi i parametri specificati sopra.\n",
    "\n",
    "Vediamo come si fa in pratica. Per l'esempio che stiamo discutendo, la distribuzione a posteriori è una $Beta(25, 17)$. Estraiamo 100,000 valori a caso da tale distribuzione e ne stampiamo i primi 10:"
   ]
  },
  {
   "cell_type": "code",
   "execution_count": 5,
   "metadata": {},
   "outputs": [
    {
     "name": "stdout",
     "output_type": "stream",
     "text": [
      "0.7413496242562254 0.5834826613847893 0.5572030235521689 0.6368930595734968 0.5749644043525947 0.5487254719095255 0.5967839997763181 0.5895976707419692 0.5766730497790263 0.636654787480037\n"
     ]
    }
   ],
   "source": [
    "nrep=100000\n",
    "theta = beta.rvs(a, b, size=nrep)\n",
    "print(*theta[0:10])"
   ]
  },
  {
   "attachments": {},
   "cell_type": "markdown",
   "metadata": {},
   "source": [
    "Per ciascuno di questi 100,000 valori $\\theta$ estraggo a caso un valore dalla distribuzione binomiale di parametri $n = 30$ e probabilità $\\theta$. Stampo qui di seguito i primi 10 valori così trovati."
   ]
  },
  {
   "cell_type": "code",
   "execution_count": 6,
   "metadata": {},
   "outputs": [
    {
     "name": "stdout",
     "output_type": "stream",
     "text": [
      "24 14 15 18 18 21 15 16 19 16\n"
     ]
    }
   ],
   "source": [
    "pred_y_sim = [binom.rvs(n=30, p=th, size=1) for th in theta]\n",
    "pred_y_sim = np.concatenate(pred_y_sim)\n",
    "print(*pred_y_sim[0:10])"
   ]
  },
  {
   "attachments": {},
   "cell_type": "markdown",
   "metadata": {},
   "source": [
    "L'insieme dei valori `pred_y_sim` costituisce un campione casuale dalla distribuzione predittiva a posteriori. Qui di seguito è mostrata una figura che riporta i risultati della simulazione (l'istogramma dei valori `pred_y_sim`). All'istogramma sono sovrapposti i punti della corretta distribuzione a posteriori corrispondente ad una distribuzione Beta-Binomiale di parametri n = 30, a = 25, b = 17. Si noti la corrispondenza tra i valori ottenuti e i valori teorici."
   ]
  },
  {
   "cell_type": "code",
   "execution_count": 9,
   "metadata": {},
   "outputs": [
    {
     "data": {
      "image/png": "[encoded data removed]",
      "text/plain": [
       "<Figure size 500x309.017 with 1 Axes>"
      ]
     },
     "metadata": {},
     "output_type": "display_data"
    }
   ],
   "source": [
    "counts = plt.hist(pred_y_sim, bins=np.arange(0,31), density=True)\n",
    "_ = plt.plot(x, betabinom.pmf(x, n, a, b), 'bx', ms=4, label='betabinom pmf')"
   ]
  },
  {
   "attachments": {},
   "cell_type": "markdown",
   "metadata": {},
   "source": [
    "## La distribuzione predittiva a posteriori mediante MCMC\n",
    "\n",
    "Il metodo basato su simulazione che abbiamo discusso sopra si basa sulla stessa logica che i metodi MCMC usano per ottenere un'approssimazione della distribuzione predittiva a posteriori. Mediante i metodi MCMC, le stime delle possibili osservazioni future $p(\\tilde{y} \\mid y)$, chiamate $p(y^{rep} \\mid y)$, si ottengono nel modo seguente:\n",
    "\n",
    "-   campionare $\\theta_i \\sim p(\\theta \\mid y)$, ovvero scegliere un valore a caso del parametro dalla distribuzione a posteriori;\n",
    "-   campionare $y^{rep} \\sim p(y^{rep} \\mid \\theta_i)$, ovvero scegliere un'osservazione a caso dalla funzione di verosimiglianza condizionata al valore del parametro definito nel passo precedente.\n",
    "\n",
    "Se i due passaggi descritti sopra vengono ripetuti un numero sufficiente di volte, l'istogramma risultante approssimerà la distribuzione predittiva a posteriori che, in alcuni casi, può essere ottenuta per via analitica (come nell'esempio presente).\n",
    "\n",
    "### Posterior predictive checks\n",
    "\n",
    "La distribuzione predittiva a posteriori viene utilizzata per eseguire i cosiddetti *controlli predittivi a posteriori* (*Posterior Predictive Checks*, PPC). Nella distribuzione predittiva a posteriori, viene generato un campione di dati possibili futuri utilizzando le proprietà del modello adattato. È ovvio che tali dati possibili futuri devono almento essere coerenti con i dati del campione presente. I PPC eseguono un confronto grafico tra $p(y^{rep} \\mid y)$ e i dati osservati $y$: confrontando visivamente gli aspetti chiave dei dati previsti futuri $y^{rep}$ e dei dati osservati $y$ è possibile determinare se il modello è adeguato.\n",
    "\n",
    "Oltre al confronto visivo tra le distribuzioni $p(y)$ e $p(y^{rep})$ è anche possibile un confronto tra la distribuzione di varie statistiche descrittive, i cui valori sono calcolati su diversi campioni $y^{rep}$, e le corrispondenti statistiche calcolate sui dati osservati. Vengono solitamente considerate statistiche descrittive quali la media, la varianza, la deviazione standard, il minimo o il massimo, ma sono possibili confronti di questo tipo per qualunque altra statistica.\n",
    "\n",
    "## Distribuzione predittiva a priori\n",
    "\n",
    "Nella sezione precedente abbiamo visto come la distribuzione predittiva viene usata per generare nuovi dati previsti futuri. Più precisamente, mediante l'eq. {eq}`eq-post-pred-distr` abbiamo descritto la nostra incertezza sulla distribuzione di future osservazioni di dati, data la distribuzione a posteriori di $\\theta$, ovvero tenendo conto della scelta del modello e della stima dei parametri mediante i dati osservati.\n",
    "\n",
    "$$\n",
    "p(\\tilde{y} \\mid y) = \\int_{\\theta} p(\\tilde{y} \\mid \\theta) p(\\theta \\mid y) \\,\\operatorname {d}\\!\\theta\\notag\n",
    "$$\n",
    "\n",
    "Si noti che, nell'eq. {eq}`eq-post-pred-distr`, $\\tilde{y}$ è condizionato da $y$ ma non da ciò che è incognito, ovvero $\\theta$. La distribuzione predittiva a posteriori è ottenuta mediante marginalizzazione sopra i parametri incogniti $\\theta$.\n",
    "\n",
    "In un modello bayesiano dove $\\theta$ ha una distribuzione a priori $p(\\theta)$ e per $y$ possiamo definire la funzione di verosimiglianza $p(y \\mid \\theta)$ possiamo scrivere la distribuzione congiunta $p(y, \\theta)$ come il prodotto della verosimiglianza e della distribuzione a priori:\n",
    "\n",
    "$$\n",
    "p(y, \\theta) = p(y \\mid \\theta)p(\\theta).\n",
    "$$\n",
    "\n",
    "Una rappresentazione alternativa della distribuzione congiunta $p(y, \\theta)$ è\n",
    "\n",
    "$$\n",
    "p(y, \\theta) = p(\\theta \\mid y)p(y).\n",
    "$$\n",
    "\n",
    "Il primo termine in questo prodotto, la densità $p(\\theta \\mid y)$, è la densità a posteriori di $\\theta$ date le osservazioni $y$. Il secondo termine in questo prodotto, $p(y)$, è la *distribuzione predittiva a priori* che rappresenta la distribuzione dei dati futuri previsti dal modello prima di avere osservato il campione $y$. Se risulta che i dati osservati $y$ non sono coerenti con la distribuzione predittiva a priori, ciò significa che il modello bayesiano non è specificato correttamente. In altre parole, questo ci dice che, in base al modello bayesiano che abbiamo formulato, è improbabile che si verifichino i dati che sono stati effettivamente osservati. Ovviamente, questo vuol dire che il modello è inadeguato.\n",
    "\n",
    "La distribuzione predittiva a priori può essere ricavata facilmente se l'inferenza bayesiana viene svolta mediante i metodi MCMC. Anche la distribuzione predittiva a priori viene usata per verificare l'adeguatezza della formulazione del modello.\n",
    "\n",
    "Nella discussione dell'analisi dei dati di {cite}`zetsche_2019future`, la $Beta(2, 10)$ è stata utilizzata quale distribuzione a priori solo per evidenziare le proprietà dell'aggiornamento bayesiano (ovvero, la differenza tra distribuzione a priori e distribuzione a posteriori). Se calcoliamo la distribuzione predittiva a priori ci rendiamo facilmente conto che la $Beta(2, 10)$ non è una buona scelta per i dati considerati: è più opportuno scegliere una $Beta(2, 2)$.\n",
    "\n",
    "## Watermark"
   ]
  },
  {
   "cell_type": "code",
   "execution_count": null,
   "metadata": {},
   "outputs": [],
   "source": [
    "%load_ext watermark\n",
    "%watermark -n -u -v -iv -w"
   ]
  }
 ],
 "metadata": {
  "kernelspec": {
   "display_name": "pymc",
   "language": "python",
   "name": "python3"
  },
  "language_info": {
   "codemirror_mode": {
    "name": "ipython",
    "version": 3
   },
   "file_extension": ".py",
   "mimetype": "text/x-python",
   "name": "python",
   "nbconvert_exporter": "python",
   "pygments_lexer": "ipython3",
   "version": "3.10.8"
  },
  "orig_nbformat": 4,
  "vscode": {
   "interpreter": {
    "hash": "030ae53b1150d0ca6a72bb4a7a0454cbd9dab0eb2818ba119bbca0111e46e432"
   }
  }
 },
 "nbformat": 4,
 "nbformat_minor": 2
}
