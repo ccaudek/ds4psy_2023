{
 "cells": [
  {
   "attachments": {},
   "cell_type": "markdown",
   "metadata": {},
   "source": [
    "(calculus-appendix)=\n",
    "# Per liberarvi dai terrori preliminari \n",
    "\n",
    "Fornisco qui la traduzione del primo capitolo di [Calculus made easy](https://calculusmadeeasy.org/1.html).\n",
    "\n",
    "Il terrore preliminare, che impedisce alla maggior parte dei ragazzi di quinta anche solo di tentare di imparare l'analisi, può essere abolito una volta per tutte semplicemente affermando qual è il significato -- in termini di buon senso -- dei due simboli principali che sono usati nell'analisi matematica.\n",
    "\n",
    "Questi terribili simboli sono:\n",
    "\n",
    "1.  $d$ che significa semplicemente \"un po' di\". Quindi $\\operatorname{d}\\!x$ significa un po' di $x$; o $\\operatorname{d}\\!u$ significa un po' di $u$. I matematici pensano che sia più educato dire \"un elemento di\" invece di \"un po' di\". Fai come ti pare. Ma scoprirai che questi piccoli pezzi (o elementi) possono essere considerati indefinitamente piccoli.\n",
    "\n",
    "2.  $\\int$ che è semplicemente una S allungata, e può essere chiamata (se volete) \"la somma di\". Quindi $\\int \\operatorname{d}\\!x$ significa la somma di tutti i pezzettini di $x$; oppure $\\int \\operatorname{d}\\!t$ significa la somma di tutti i pezzettini di $t$. I matematici chiamano questo simbolo \"l'integrale di\". Ora qualsiasi sciocco può vedere che se $x$ è considerato come composto da tanti piccoli pezzetti, ognuno dei quali è chiamato $\\operatorname{d}\\!x$, se li sommi tutti insieme ottieni la somma di tutti i $\\operatorname{d}\\!x$, (che è la stessa cosa dell'insieme di $x$). La parola \"integrale\" significa semplicemente \"il tutto\". Se pensi alla durata di un'ora, puoi (se vuoi) pensarla come suddivisa in 3600 piccoli pezzetti chiamati secondi. L'insieme dei 3600 pezzetti sommati fa un'ora. Quando vedrete un'espressione che inizia con questo simbolo terrificante, d'ora in poi saprete che è stato messo lì semplicemente per darvi l'istruzione che ora dovete eseguire (se potete) l'operazione di sommare tutti i piccoli pezzetti che sono indicati dai simboli che seguono.\n",
    "\n",
    "È tutto."
   ]
  },
  {
   "attachments": {},
   "cell_type": "markdown",
   "metadata": {},
   "source": [
    "Verifichiamo con una simulazione. Importiamo le librerie necessarie."
   ]
  },
  {
   "cell_type": "code",
   "execution_count": 36,
   "metadata": {},
   "outputs": [],
   "source": [
    "# Dependencies\n",
    "import numpy as np\n",
    "import scipy.integrate as integrate\n",
    "import matplotlib.pyplot as plt\n",
    "import seaborn as sns\n",
    "import arviz as az\n",
    "from scipy.constants import pi\n",
    "from scipy.constants import golden\n"
   ]
  },
  {
   "cell_type": "code",
   "execution_count": 39,
   "metadata": {},
   "outputs": [],
   "source": [
    "%matplotlib inline\n",
    "SEED = 12345\n",
    "rng = np.random.default_rng(SEED)\n",
    "sns.set_theme(style=\"darkgrid\")\n",
    "plt.style.use('tableau-colorblind10')\n",
    "_ = plt.rc('figure', figsize=(5.0, 5.0/golden))"
   ]
  },
  {
   "attachments": {},
   "cell_type": "markdown",
   "metadata": {},
   "source": [
    "Nella cella seguente definisco la funzione di densità gaussiana:\n",
    "\n",
    "$$\n",
    "f(x; \\mu, \\sigma) = {1 \\over {\\sigma\\sqrt{2\\pi} }} \\exp \\left\\{-\\frac{(x - \\mu)^2}{2 \\sigma^2} \\right\\}.\n",
    "$$ \n"
   ]
  },
  {
   "cell_type": "code",
   "execution_count": 33,
   "metadata": {},
   "outputs": [],
   "source": [
    "def gaussian(x, mu, sigma):\n",
    "    return (\n",
    "        1 / (sigma * np.sqrt(2 * pi)) * np.exp((-1 * (x - mu) ** 2) / (2 * sigma**2))\n",
    "    )\n"
   ]
  },
  {
   "attachments": {},
   "cell_type": "markdown",
   "metadata": {},
   "source": [
    "Definisco i parametri della funzione e creo un grande numero di valori $x$ nell'intervallo [-10, 10]. Il vettore `fx` contiene l'ordinata della funzione per ciascuno dei punti `x_range` che sono stati definiti."
   ]
  },
  {
   "cell_type": "code",
   "execution_count": 34,
   "metadata": {},
   "outputs": [],
   "source": [
    "mu = 0\n",
    "sigma = 1\n",
    "# Define bounds of integral\n",
    "a = -10\n",
    "b = 10\n",
    "n = 10000\n",
    "# Generate function values\n",
    "x_range = np.linspace(a, b, n)\n",
    "fx = gaussian(x_range, mu, sigma)\n"
   ]
  },
  {
   "cell_type": "code",
   "execution_count": 40,
   "metadata": {},
   "outputs": [
    {
     "data": {
      "text/plain": [
       "[<matplotlib.lines.Line2D at 0x7f9998ce7370>]"
      ]
     },
     "execution_count": 40,
     "metadata": {},
     "output_type": "execute_result"
    },
    {
     "data": {
      "image/png": "[encoded data removed]",
      "text/plain": [
       "<Figure size 500x309.017 with 1 Axes>"
      ]
     },
     "metadata": {},
     "output_type": "display_data"
    }
   ],
   "source": [
    "plt.plot(x_range, fx, \"b-\")"
   ]
  },
  {
   "attachments": {},
   "cell_type": "markdown",
   "metadata": {},
   "source": [
    "Creo ora una funzione che *approssima* l'integrale facendo semplicemente la somma dei prodotti dell'ordinata della funzione moltiplicati per $\\Delta x$, ovvero, nel caso presente, 20 / 10000. "
   ]
  },
  {
   "cell_type": "code",
   "execution_count": 17,
   "metadata": {},
   "outputs": [],
   "source": [
    "def integral_approximation(f, a, b, n):\n",
    "    delta = (b - a) / n\n",
    "    return np.sum(delta * f)\n"
   ]
  },
  {
   "attachments": {},
   "cell_type": "markdown",
   "metadata": {},
   "source": [
    "Sappiamo che la funzione di densità ha un'area unitaria. Usiamo la funzione precedente per calcolare l'intergrale della funzione nell'intervallo [-10, 10]."
   ]
  },
  {
   "cell_type": "code",
   "execution_count": 18,
   "metadata": {},
   "outputs": [
    {
     "data": {
      "text/plain": [
       "0.9999000000000001"
      ]
     },
     "execution_count": 18,
     "metadata": {},
     "output_type": "execute_result"
    }
   ],
   "source": [
    "approx = integral_approximation(fx, a, b, n)\n",
    "approx"
   ]
  },
  {
   "attachments": {},
   "cell_type": "markdown",
   "metadata": {},
   "source": [
    "Usiamo ora l'approssimazione di SciPy."
   ]
  },
  {
   "cell_type": "code",
   "execution_count": 19,
   "metadata": {},
   "outputs": [
    {
     "data": {
      "text/plain": [
       "(1.0, 8.671029987439099e-10)"
      ]
     },
     "execution_count": 19,
     "metadata": {},
     "output_type": "execute_result"
    }
   ],
   "source": [
    "# Scipy approximation\n",
    "integrate.quad(\n",
    "    lambda x: 1 / (sigma * np.sqrt(2 * pi)) * np.exp((-1 * (x - mu) ** 2) / (2 * sigma**2)),\n",
    "    a,\n",
    "    b,\n",
    ")\n"
   ]
  },
  {
   "attachments": {},
   "cell_type": "markdown",
   "metadata": {},
   "source": [
    "Sappiamo che il 95% dell'area della Normale standardizzata è compreso nell'intervallo [-1.96, 1.96]. Usiamo prima la nostra approssimazione:"
   ]
  },
  {
   "cell_type": "code",
   "execution_count": 20,
   "metadata": {},
   "outputs": [
    {
     "data": {
      "text/plain": [
       "0.9499321151989195"
      ]
     },
     "execution_count": 20,
     "metadata": {},
     "output_type": "execute_result"
    }
   ],
   "source": [
    "a = -1.96\n",
    "b = 1.96\n",
    "n = 10000\n",
    "x_range = np.linspace(a, b, n)\n",
    "fx = gaussian(x_range, mu, sigma)\n",
    "\n",
    "# Our integral approximation function\n",
    "def integral_approximation(f, a, b, n):\n",
    "    delta = (b - a) / n\n",
    "    return  np.sum(delta * f)\n",
    "\n",
    "approx = integral_approximation(fx, a, b, n)\n",
    "approx"
   ]
  },
  {
   "attachments": {},
   "cell_type": "markdown",
   "metadata": {},
   "source": [
    "Confrontiamo il risultato con quello ottenuto con SciPy."
   ]
  },
  {
   "cell_type": "code",
   "execution_count": 21,
   "metadata": {},
   "outputs": [
    {
     "data": {
      "text/plain": [
       "(0.9500042097035591, 1.0474096492701335e-11)"
      ]
     },
     "execution_count": 21,
     "metadata": {},
     "output_type": "execute_result"
    }
   ],
   "source": [
    "# Scipy approximation\n",
    "integrate.quad(\n",
    "    lambda x: 1 / (sigma * np.sqrt(2 * pi)) * np.exp((-1 * (x - mu) ** 2) / (2 * sigma**2)),\n",
    "    a,\n",
    "    b,\n",
    ")"
   ]
  },
  {
   "attachments": {},
   "cell_type": "markdown",
   "metadata": {},
   "source": [
    "## Watermark"
   ]
  },
  {
   "cell_type": "code",
   "execution_count": null,
   "metadata": {},
   "outputs": [],
   "source": [
    "%load_ext watermark\n",
    "%watermark -n -u -v -iv -w"
   ]
  }
 ],
 "metadata": {
  "kernelspec": {
   "display_name": "pymc",
   "language": "python",
   "name": "python3"
  },
  "language_info": {
   "codemirror_mode": {
    "name": "ipython",
    "version": 3
   },
   "file_extension": ".py",
   "mimetype": "text/x-python",
   "name": "python",
   "nbconvert_exporter": "python",
   "pygments_lexer": "ipython3",
   "version": "3.10.9"
  },
  "orig_nbformat": 4,
  "vscode": {
   "interpreter": {
    "hash": "cbb367cc0128e23b7454d788d5a4229ca1f9848fd2e857f4797fbd26ab3b0776"
   }
  }
 },
 "nbformat": 4,
 "nbformat_minor": 2
}
