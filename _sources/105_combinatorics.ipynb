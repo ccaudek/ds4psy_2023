{
 "cells": [
  {
   "attachments": {},
   "cell_type": "markdown",
   "metadata": {},
   "source": [
    "<a target=\"_blank\" rel=\"noopener noreferrer\" href=\"https://colab.research.google.com/github/ccaudek/ds4psy_2023/blob/main/105_combinatorics.ipynb\">![Open In Colab](https://colab.research.google.com/assets/colab-badge.svg)</a>\n",
    "\n",
    "\n",
    "(combinatorics-notebook)=\n",
    "# Calcolo combinatorio"
   ]
  },
  {
   "attachments": {},
   "cell_type": "markdown",
   "metadata": {},
   "source": [
    "Il calcolo combinatorio si pone il problema di determinare il numero dei modi mediante i quali gli elementi di uno stesso insieme o di più insiemi possono essere associati, seguendo regole prestabilite. Alcuni dei problemi del calcolo delle probabilità per essere risolti richiedono l'utilizzo dei metodi del calcolo combinatorio. \n",
    "\n",
    "In questo capitolo verranno discussi alcuni concetti del calcolo combinatorio. In particolare, verranno introdotti il principio del prodotto, il principio della somma e il modello dell'urna. Verranno inoltre descritte le nozioni di permutazione semplice, disposizione semplice e di combinazione semplice."
   ]
  },
  {
   "cell_type": "code",
   "execution_count": 12,
   "metadata": {},
   "outputs": [],
   "source": [
    "import numpy as np\n",
    "import pandas as pd\n",
    "import itertools as it\n",
    "import math\n",
    "import matplotlib.pyplot as plt\n",
    "import seaborn as sns\n",
    "from scipy.constants import golden"
   ]
  },
  {
   "cell_type": "code",
   "execution_count": 3,
   "metadata": {},
   "outputs": [],
   "source": [
    "%matplotlib inline\n",
    "sns.set_theme(\n",
    "    context=\"paper\",\n",
    "    style=\"darkgrid\",\n",
    "    palette=\"colorblind\",\n",
    "    rc={'figure.figsize': (5.0, 5.0/golden)},\n",
    ")\n",
    "SEED = 123456\n",
    "rng = np.random.default_rng(SEED)"
   ]
  },
  {
   "attachments": {},
   "cell_type": "markdown",
   "metadata": {},
   "source": [
    "## Principio del prodotto\n",
    "I metodi di base del calcolo combinatorio applicano due principi: la regola del prodotto e la regola della somma. Consideriamo il principio del prodotto.\n",
    "\n",
    "In generale, una scelta può essere effettuata in più fasi, ad esempio $k$. Supponiamo che per ogni $i = 1, \\dots, k$ la scelta da compiere al $i$-esimo stadio possa essere effettuata in $n_i$ modi. Secondo il principio del prodotto, il numero totale di possibili scelte è dato dal prodotto dei singoli numeri, ovvero:\n",
    "\n",
    "$$\n",
    "n_{\\text{tot}} = n_1 \\cdot  n_2 \\cdots n_{k-1} \\cdot n_k.\n",
    "$$\n",
    "\n",
    "**Esempio 1.** Ho a disposizione 2 paia di scarpe, 3 paia di pantaloni e 5 magliette. In quanti modi diversi mi\n",
    "posso vestire? \n",
    "\n",
    "$$\n",
    "2 \\cdot 3 \\cdot 5 = 30\n",
    "$$\n",
    "\n",
    "**Esempio 2.** In Minnesota le targhe delle automobili sono costituite da tre lettere (da A a Z) seguite da tre numeri (da 0 a 9). Qual è la proporzione di targhe che iniziano con GZN?\n",
    "\n",
    "La soluzione è data dal numero di targhe che iniziano con GZN diviso per il numero totale di targhe possibili. \n",
    "\n",
    "Il numero totale di targe è $26 \\cdot 26 \\cdot 26 \\cdot 10 \\cdot 10 \\cdot 10 = 17,576,000$. Per calcolare il numero di targhe che iniziano con GZN, consideriamo le targhe che hanno la forma GZN \\_ \\_ \\_. Per i tre simboli mancanti ci sono $10 \\cdot 10 \\cdot 10$ possibilità. Dunque la proporzione cercata è \n",
    "\n",
    "$$\n",
    "10^3/(26^3 \\cdot 10^3) = 1/26^3 = 0.0000569.\n",
    "$$"
   ]
  },
  {
   "cell_type": "code",
   "execution_count": 51,
   "metadata": {},
   "outputs": [
    {
     "data": {
      "text/plain": [
       "5.689576695493855e-05"
      ]
     },
     "execution_count": 51,
     "metadata": {},
     "output_type": "execute_result"
    }
   ],
   "source": [
    "10**3 / (26**3 * 10**3)"
   ]
  },
  {
   "attachments": {},
   "cell_type": "markdown",
   "metadata": {},
   "source": [
    "## Principio della somma\n",
    "\n",
    "Il principio della somma afferma che se un insieme può essere suddiviso in due o più sottoinsiemi disgiunti, allora il numero totale di elementi nell'insieme è dato dalla somma dei numeri di elementi in ciascun sottoinsieme.\n",
    "\n",
    "In altre parole, se si vuole determinare il numero totale di modi in cui è possibile realizzare un certo evento, e questo evento può essere realizzato in modo esclusivo in modo A oppure B, allora il numero totale di modi in cui è possibile realizzare l'evento è dato dalla somma dei modi in cui può essere realizzato in modo A e dei modi in cui può essere realizzato in modo B.\n",
    "\n",
    "Ad esempio, se si vuole determinare il numero totale di modi in cui è possibile scegliere un dolce da una tavola con due tipi di dolci (ad esempio torta e biscotti), il principio della somma afferma che il numero totale di modi è dato dalla somma del numero di modi in cui è possibile scegliere la torta e del numero di modi in cui è possibile scegliere i biscotti.\n",
    "\n",
    "**Esempio 3.** L'urna $A$ contiene $5$ palline numerate da $1$ a $5$, l'urna $B$ contiene $6$ palline numerate da $6$ a $11$, l'urna $C$ contiene $3$ palline numerate da $12$ a $14$ e l'urna $D$ contiene $2$ palline numerate $15$ e $16$. Quanti insiemi composti da due palline, ciascuna estratta da un'urna differente, si possono formare?\n",
    "\n",
    "Il numero di insiemi di tipo $AB$ è dato dal prodotto delle palline che possono essere estratte dall'urna $A$ (5) e da quelle che possono essere estratte dall'urna $B$ (6), ovvero $5 \\cdot 6 = 30$. In modo analogo, si ottengono 15 insiemi di tipo $AC$, 10 di tipo $AD$, 18 di tipo $BC$, 12 di tipo $BD$, 6 di tipo $CD$. Quindi, per la regola della somma, il numero totale di insiemi distinti che si possono formare con due palline provenienti dalle quattro urne è dato dalla somma di questi valori, ovvero $30 + 15 + 10 + 18 + 12 + 6 = 91$. Pertanto, ci sono 91 insiemi composti da due palline, ciascuna estratta da un'urna differente, che si possono formare.\n",
    "\n",
    "In conclusione, il principio del prodotto e il principio della somma sono due concetti fondamentali del calcolo combinatorio. In generale, il principio del prodotto si applica quando si tratta di eventi *indipendenti che si verificano in successione*, mentre il principio della somma si applica quando si tratta di eventi *mutuamente esclusivi* (cioè non possono accadere contemporaneamente) e si cerca di calcolare il numero totale di possibili risultati.\n",
    "\n",
    "## Il modello dell'urna\n",
    "\n",
    "I problemi di combinatoria spesso coinvolgono l'estrazione di palline da urne, le quali rappresentano dei modelli delle corrispondenti situazioni considerate. Una procedura comune per rappresentare queste situazioni è il modello dell'urna, che consiste nell'estrazione di $k$ palline da un'urna contenente $n$ palline. Le palline possono essere tutte diverse, oppure alcune palline possono essere indistinguibili tra loro. Tra le possibili modalità di estrazione, sono particolarmente importanti:\n",
    "\n",
    "- L'*estrazione Bernoulliana* di $k$ palline, che si ottiene estraendo una pallina alla volta e rimettendola nell'urna dopo ogni estrazione;\n",
    "- L'*estrazione senza ripetizione* di $k$ palline, che si ottiene estraendo una pallina alla volta senza rimetterla nell'urna dopo l'estrazione;\n",
    "- L'*estrazione in blocco* di $k$ palline, che si ottiene estraendo $k$ palline contemporaneamente.\n",
    "\n",
    "Per esempio, nel caso di campioni di ampiezza 2 estratti da un'urna con tre elementi $\\{1, 2, 3\\}$, abbiamo i seguenti quattro casi:\n",
    "\n",
    "- campionamento con reimmissione tenendo conto dell'ordine di estrazione: $\\{1,  1\\}, \\{2,  1\\}, \\{3,  1\\}, \\{1,  2\\}, \\{2,  2\\}, \\{3,  2\\}, \\{1,  3\\}, \\{2,  3\\}, \\{3,  3\\}$;\n",
    "- campionamento con reimmissione senza tenere conto dell'ordine di estrazione: $\\{1,  1\\}, \\{1,  2\\}, \\{1,  3\\}, \\{2,  2\\}, \\{2,  3\\}, \\{3,  3\\}$;\n",
    "- campionamento senza reimmissione tenendo conto dell'ordine di estrazione:\n",
    "$\\{1,  2\\}, \\{2,  1\\}, \\{1,  3\\}, \\{3,  1\\}, \\{2,  3\\}, \\{3,  2\\}$;\n",
    "- campionamento senza reimmissione e senza tenere conto dell'ordine di estrazione: $\\{1 , 2\\}, \\{1,  3\\}, \\{2, 3\\}$.\n",
    "\n",
    "## Permutazioni semplici\n",
    "\n",
    "Le permutazioni semplici sono il risultato di uno scambio dell'ordine degli elementi di un insieme che contiene elementi distinti tra loro. Queste permutazioni sono indicate con il simbolo $P_n$, e il numero di permutazioni semplici di $n$ elementi distinti è pari al fattoriale di $n$, cioè $n!$, come espresso dall'eq. {eq}`eq-permsem`:\n",
    "\n",
    "$$\n",
    "P_n = n!\n",
    "$$ (eq-permsem)\n",
    "\n",
    "dove il simbolo $n!$ si legge $n$ fattoriale ed è uguale al prodotto di $n$ numeri interi decrescenti da $n$ fino a 1. Per definizione, il fattoriale di 0 è 1.\n",
    "\n",
    "Il numero di permutazioni di $n$ elementi distinti può essere visto come l'estrazione senza rimessa di $n$ elementi diversi da un'urna contenente gli $n$ oggetti. Questo ci consente di applicare il principio del prodotto, il quale afferma che il numero di modi in cui è possibile combinare o disporre un insieme di oggetti è dato dal prodotto del numero di scelte possibili per ciascuna categoria di oggetti. Nel caso delle permutazioni, il principio del prodotto si applica nel seguente modo: se abbiamo $n$ oggetti distinti da disporre in un ordine particolare, il numero di permutazioni possibili è dato dal prodotto del numero di scelte possibili per la prima posizione, per la seconda posizione, per la terza posizione, e così via, fino alla $n$-esima posizione.\n",
    "\n",
    "**Esempio 4.** Consideriamo l'insieme: $A = \\{a, b, c\\}$. Calcoliamo il numero di permutazioni semplici.\n",
    "\n",
    "Le permutazioni semplici di $A$ sono: $\\{a, b, c\\}$, $\\{a, c, b\\}$, $\\{b, c, a\\}$, $\\{b, a, c\\}$, $\\{c, a, b\\}$, $\\{c, b, a\\}$, ovvero 6. Applichiamo l'eq. {ref}`eq-permsem`:\n",
    "\n",
    "$$\n",
    "P_n = P_3 = 3! = 3 \\cdot 2 \\cdot 1 = 6.\n",
    "$$"
   ]
  },
  {
   "attachments": {},
   "cell_type": "markdown",
   "metadata": {},
   "source": [
    "Lo strumento principale che usiamo in Python per trovare le permutazioni di un insieme è una libreria specificamente progettata per iterare sugli oggetti in modi diversi, ovvero `itertools`. Con `itertools.permutations()` generiamo le permutazioni. "
   ]
  },
  {
   "cell_type": "code",
   "execution_count": 3,
   "metadata": {},
   "outputs": [
    {
     "name": "stdout",
     "output_type": "stream",
     "text": [
      "{'A', 'B', 'C'}\n"
     ]
    }
   ],
   "source": [
    "A = {\"A\", \"B\", \"C\"}\n",
    "print(A)\n"
   ]
  },
  {
   "cell_type": "code",
   "execution_count": 4,
   "metadata": {},
   "outputs": [
    {
     "data": {
      "text/plain": [
       "(('A', 'B', 'C'),\n",
       " ('A', 'C', 'B'),\n",
       " ('B', 'A', 'C'),\n",
       " ('B', 'C', 'A'),\n",
       " ('C', 'A', 'B'),\n",
       " ('C', 'B', 'A'))"
      ]
     },
     "execution_count": 4,
     "metadata": {},
     "output_type": "execute_result"
    }
   ],
   "source": [
    "permutations = it.permutations(A)"
   ]
  },
  {
   "attachments": {},
   "cell_type": "markdown",
   "metadata": {},
   "source": [
    "Per visualizzare il risultato dobbiamo trasformarlo in una tupla:"
   ]
  },
  {
   "cell_type": "code",
   "execution_count": null,
   "metadata": {},
   "outputs": [],
   "source": [
    "tuple(permutations)"
   ]
  },
  {
   "attachments": {},
   "cell_type": "markdown",
   "metadata": {},
   "source": [
    "Lo stesso risultato si ottiene con"
   ]
  },
  {
   "cell_type": "code",
   "execution_count": 5,
   "metadata": {},
   "outputs": [
    {
     "data": {
      "text/plain": [
       "(('A', 'B', 'C'),\n",
       " ('A', 'C', 'B'),\n",
       " ('B', 'A', 'C'),\n",
       " ('B', 'C', 'A'),\n",
       " ('C', 'A', 'B'),\n",
       " ('C', 'B', 'A'))"
      ]
     },
     "execution_count": 5,
     "metadata": {},
     "output_type": "execute_result"
    }
   ],
   "source": [
    "permutations = it.permutations(\"ABC\")\n",
    "permutations = tuple(permutations)\n",
    "permutations"
   ]
  },
  {
   "attachments": {},
   "cell_type": "markdown",
   "metadata": {},
   "source": [
    "Possiamo ora contare quanti elementi ci sono nella tupla usando la funzione `len()`: "
   ]
  },
  {
   "cell_type": "code",
   "execution_count": 6,
   "metadata": {},
   "outputs": [
    {
     "data": {
      "text/plain": [
       "6"
      ]
     },
     "execution_count": 6,
     "metadata": {},
     "output_type": "execute_result"
    }
   ],
   "source": [
    "len(permutations)"
   ]
  },
  {
   "attachments": {},
   "cell_type": "markdown",
   "metadata": {},
   "source": [
    "Oppure, possiamo appliare la formula {eq}`eq-permsem` mediante la funzione `factorial()` contenuta nella libreria `math` di Numpy:"
   ]
  },
  {
   "cell_type": "code",
   "execution_count": 7,
   "metadata": {},
   "outputs": [
    {
     "data": {
      "text/plain": [
       "6"
      ]
     },
     "execution_count": 7,
     "metadata": {},
     "output_type": "execute_result"
    }
   ],
   "source": [
    "np.math.factorial(3)"
   ]
  },
  {
   "attachments": {},
   "cell_type": "markdown",
   "metadata": {},
   "source": [
    "**Esempio 5.** Gli anagrammi  sono  le permutazioni che si ottengono da una parola variando l'ordine delle lettere. Le permutazioni semplici si applicano al caso di parole costituite da lettere tutte diverse tra loro. Ad esempio, con la parola  NUMERO si ottengono $P_6 = 6! = 6\\cdot5\\cdot4\\cdot3\\cdot2\\cdot1 = 720$ anagrammi. "
   ]
  },
  {
   "cell_type": "code",
   "execution_count": null,
   "metadata": {},
   "outputs": [],
   "source": [
    "permutations = it.permutations(\"NUMERO\")\n",
    "permutations = tuple(permutations)\n",
    "permutations[1:10]"
   ]
  },
  {
   "cell_type": "code",
   "execution_count": 9,
   "metadata": {},
   "outputs": [
    {
     "data": {
      "text/plain": [
       "720"
      ]
     },
     "execution_count": 9,
     "metadata": {},
     "output_type": "execute_result"
    }
   ],
   "source": [
    "len(permutations)"
   ]
  },
  {
   "cell_type": "code",
   "execution_count": 10,
   "metadata": {},
   "outputs": [
    {
     "data": {
      "text/plain": [
       "720"
      ]
     },
     "execution_count": 10,
     "metadata": {},
     "output_type": "execute_result"
    }
   ],
   "source": [
    "np.math.factorial(6)"
   ]
  },
  {
   "attachments": {},
   "cell_type": "markdown",
   "metadata": {},
   "source": [
    "**Esempio 6.** Un altro esempio riguarda i giochi di carte. Ci sono 52! $\\approx 8 \\times 10^{67}$ modi di ordinare un mazzo di carte da poker; questo numero è \"quasi\" grande come il numero di atomi dell'universo che si stima essere uguale a circa $10^{80}$."
   ]
  },
  {
   "cell_type": "code",
   "execution_count": 11,
   "metadata": {},
   "outputs": [
    {
     "data": {
      "text/plain": [
       "80658175170943878571660636856403766975289505440883277824000000000000"
      ]
     },
     "execution_count": 11,
     "metadata": {},
     "output_type": "execute_result"
    }
   ],
   "source": [
    "np.math.factorial(52)"
   ]
  },
  {
   "cell_type": "code",
   "execution_count": 1,
   "metadata": {},
   "outputs": [
    {
     "ename": "NameError",
     "evalue": "name 'np' is not defined",
     "output_type": "error",
     "traceback": [
      "\u001b[0;31m---------------------------------------------------------------------------\u001b[0m",
      "\u001b[0;31mNameError\u001b[0m                                 Traceback (most recent call last)",
      "Cell \u001b[0;32mIn[1], line 1\u001b[0m\n\u001b[0;32m----> 1\u001b[0m \u001b[39mprint\u001b[39m(\u001b[39m\"\u001b[39m\u001b[39m{:.2e}\u001b[39;00m\u001b[39m\"\u001b[39m\u001b[39m.\u001b[39mformat(np\u001b[39m.\u001b[39mmath\u001b[39m.\u001b[39mfactorial(\u001b[39m52\u001b[39m)))\n",
      "\u001b[0;31mNameError\u001b[0m: name 'np' is not defined"
     ]
    }
   ],
   "source": [
    "print(\"{:.2e}\".format(np.math.factorial(52)))"
   ]
  },
  {
   "attachments": {},
   "cell_type": "markdown",
   "metadata": {},
   "source": [
    "**Esempio 7.** Le cifre 1, 2, 3, 4 e 5 sono disposte in ordine casuale per formare un numero di cinque cifre.\n",
    "\n",
    "- Quanti diversi numeri di cinque cifre possono essere formati?\n",
    "- Quanti diversi numeri di cinque cifre sono dispari?\n",
    "\n",
    "Iniziamo a creare una tupla con le cinque cifre:"
   ]
  },
  {
   "cell_type": "code",
   "execution_count": 4,
   "metadata": {},
   "outputs": [
    {
     "data": {
      "text/plain": [
       "(1, 2, 3, 4, 5)"
      ]
     },
     "execution_count": 4,
     "metadata": {},
     "output_type": "execute_result"
    }
   ],
   "source": [
    "tuple(range(1, 6))"
   ]
  },
  {
   "attachments": {},
   "cell_type": "markdown",
   "metadata": {},
   "source": [
    "Come in precedenza, possiamo usare `it.permutations()`:"
   ]
  },
  {
   "cell_type": "code",
   "execution_count": 7,
   "metadata": {},
   "outputs": [
    {
     "data": {
      "text/plain": [
       "((1, 2, 3, 5, 4),\n",
       " (1, 2, 4, 3, 5),\n",
       " (1, 2, 4, 5, 3),\n",
       " (1, 2, 5, 3, 4),\n",
       " (1, 2, 5, 4, 3),\n",
       " (1, 3, 2, 4, 5),\n",
       " (1, 3, 2, 5, 4),\n",
       " (1, 3, 4, 2, 5),\n",
       " (1, 3, 4, 5, 2))"
      ]
     },
     "execution_count": 7,
     "metadata": {},
     "output_type": "execute_result"
    }
   ],
   "source": [
    "permutations = it.permutations(range(1, 6))\n",
    "permutations = tuple(permutations)\n",
    "permutations[1:10]"
   ]
  },
  {
   "attachments": {},
   "cell_type": "markdown",
   "metadata": {},
   "source": [
    "Ci sono 120 permutazioni."
   ]
  },
  {
   "cell_type": "code",
   "execution_count": 8,
   "metadata": {},
   "outputs": [
    {
     "data": {
      "text/plain": [
       "120"
      ]
     },
     "execution_count": 8,
     "metadata": {},
     "output_type": "execute_result"
    }
   ],
   "source": [
    "len(permutations)"
   ]
  },
  {
   "attachments": {},
   "cell_type": "markdown",
   "metadata": {},
   "source": [
    "Per trovare i numeri dispari tra queste 120 permutazioni utilizziamo la funzione `sum()` in Python abbinato alle espressioni `for` e `in`. Accediamo al quinto elemento di una permutazione utilizzando la notazione `[4]` (il primo elemento è indicato con 0, quindi il quinto è 4):"
   ]
  },
  {
   "cell_type": "code",
   "execution_count": 9,
   "metadata": {},
   "outputs": [
    {
     "data": {
      "text/plain": [
       "72"
      ]
     },
     "execution_count": 9,
     "metadata": {},
     "output_type": "execute_result"
    }
   ],
   "source": [
    "sum(permutation[4] % 2 for permutation in permutations)"
   ]
  },
  {
   "attachments": {},
   "cell_type": "markdown",
   "metadata": {},
   "source": [
    "Possiamo controllare questo teoricamente: nel caso presente, ci sono tre possibili cifre dispari per l'ultima posizione di un numero di cinque cifre: 1, 3 e 5. Dopo aver scelto una di queste, le cifre rimanenti nelle prime quattro posizioni possono essere formate in 4! modi. Pertanto:"
   ]
  },
  {
   "cell_type": "code",
   "execution_count": 10,
   "metadata": {},
   "outputs": [
    {
     "data": {
      "text/plain": [
       "72"
      ]
     },
     "execution_count": 10,
     "metadata": {},
     "output_type": "execute_result"
    }
   ],
   "source": [
    "math.factorial(4) * 3"
   ]
  },
  {
   "attachments": {},
   "cell_type": "markdown",
   "metadata": {},
   "source": [
    "## Disposizioni semplici\n",
    "\n",
    "Le disposizioni semplici rappresentano tutti i modi in cui un insieme di oggetti può essere disposto in sequenza, tenendo conto dell'ordine in cui gli oggetti vengono scelti e senza permettere la scelta di un oggetto più di una volta.\n",
    "\n",
    "Quindi, se abbiamo un insieme di $n$ oggetti distinti e vogliamo selezionarne $k$ per formare una sequenza, le disposizioni semplici rappresentano tutti i sottoinsiemi di $k$ oggetti distinti che possono essere selezionati dall'insieme di $n$ oggetti distinti in modo tale che l'ordine in cui vengono selezionati sia importante.\n",
    "\n",
    "Ad esempio, se abbiamo l'insieme di oggetti ${a,b,c}$ e vogliamo selezionare due oggetti per formare una sequenza, le disposizioni semplici sarebbero: $ab$, $ba$, $ac$, $ca$, $bc$, $cb$. Nota che, in questo caso, l'ordine in cui gli oggetti vengono scelti è importante e ogni oggetto viene scelto una sola volta.\n",
    "\n",
    "Il numero di disposizioni semplici di $n$ elementi distinti della classe $k$ è indicato con $D_{n,k}$ e può essere calcolato dividendo il numero di permutazioni di $n$ oggetti distinti per il numero di permutazioni dei restanti $n-k$ oggetti distinti, poiché ogni disposizione semplice può essere ottenuta come una permutazione di un sottoinsieme di $k$ oggetti distinti.\n",
    "\n",
    "Quindi, il numero di disposizioni semplici di $n$ elementi distinti della classe $k$ è dato da\n",
    "\n",
    "$$\n",
    "D_{n,k} = \\frac{n!}{(n-k)!},\n",
    "$$ (eq_disp_simple)\n",
    "\n",
    "dove $n!$ rappresenta il numero di permutazioni di $n$ oggetti distinti e $(n-k)!$ rappresenta il numero di permutazioni dei restanti $n-k$ oggetti distinti.\n",
    "\n",
    "\n",
    "**Esempio 8.** Consideriamo l'insieme: $A = \\{a, b, c\\}$. Qual è il numero di disposizioni semplici di classe 2? Come abbiamo visto sopra, le disposizioni semplici di classe 2 sono $\\{a, b\\}$, $\\{b, a\\}$, $\\{a, c\\}$, $\\{c, a\\}$, $\\{b, c\\}$, $\\{c, b\\}$, ovvero 6. \n",
    "\n",
    "Applichiamo l'eq. {eq}`eq_disp_simple`:\n",
    "\n",
    "$$\n",
    "D_{n,k} = \\frac{n!}{(n-k)!} = 3 \\cdot 2 = 6.\n",
    "$$ "
   ]
  },
  {
   "attachments": {},
   "cell_type": "markdown",
   "metadata": {},
   "source": [
    "In maniera equivalente possiamo trovare il risultato usando `itertools.permutations(iterable, k)`. Tale istruzione ci consente di trovare il numero di permutazioni possibili di tutti i sottoinsiemi di $k$ elementi distinti, ovvero il numero di diverse sequenze ordinate che possiamo ottenere scegliendo $k$ oggetti dall'insieme."
   ]
  },
  {
   "cell_type": "code",
   "execution_count": 12,
   "metadata": {},
   "outputs": [
    {
     "data": {
      "text/plain": [
       "(('A', 'B'), ('A', 'C'), ('B', 'A'), ('B', 'C'), ('C', 'A'), ('C', 'B'))"
      ]
     },
     "execution_count": 12,
     "metadata": {},
     "output_type": "execute_result"
    }
   ],
   "source": [
    "tuple(it.permutations(\"ABC\", 2))"
   ]
  },
  {
   "cell_type": "code",
   "execution_count": 13,
   "metadata": {},
   "outputs": [
    {
     "data": {
      "text/plain": [
       "6"
      ]
     },
     "execution_count": 13,
     "metadata": {},
     "output_type": "execute_result"
    }
   ],
   "source": [
    "res = tuple(it.permutations(\"ABC\", 2))\n",
    "len(res)"
   ]
  },
  {
   "attachments": {},
   "cell_type": "markdown",
   "metadata": {},
   "source": [
    "Oppure possiamo implementare l'eq. {eq}`eq_disp_simple`:"
   ]
  },
  {
   "cell_type": "code",
   "execution_count": 14,
   "metadata": {},
   "outputs": [
    {
     "data": {
      "text/plain": [
       "6.0"
      ]
     },
     "execution_count": 14,
     "metadata": {},
     "output_type": "execute_result"
    }
   ],
   "source": [
    "def simple_disp(n, k):\n",
    "    return np.math.factorial(n) / np.math.factorial(n - k)\n",
    "\n",
    "\n",
    "simple_disp(3, 2)"
   ]
  },
  {
   "attachments": {},
   "cell_type": "markdown",
   "metadata": {},
   "source": [
    "(combinazione-semplice-section)=\n",
    "## Combinazioni semplici\n",
    "\n",
    "Le combinazioni semplici rappresentano il numero di modi in cui $k$ oggetti diversi possono essere scelti tra $n$ oggetti distinti, ma a differenza delle disposizioni semplici, non tiene conto dell'ordine in cui vengono scelti. In altre parole, le combinazioni semplici rappresentano tutti i possibili sottoinsiemi di $k$ elementi distinti scelti tra $n$ elementi distinti, senza considerare l'ordine di estrazione.\n",
    "\n",
    "Questo concetto può essere modellato attraverso l'estrazione senza reimmissione di $k$ oggetti da un'urna contenente $n$ oggetti differenti. Tuttavia, a differenza delle disposizioni semplici, le combinazioni semplici considerano distinti solo i raggruppamenti che differiscono almeno per un elemento.\n",
    "\n",
    "Gli elementi di ciascuna combinazione di $k$ oggetti possono essere ordinati tra loro in $k!$ modi diversi. Pertanto, il numero di combinazioni semplici è dato dal numero di disposizioni semplici $D_{n,k}$ diviso per il numero di permutazioni $P_k$ dei $k$ elementi.\n",
    "\n",
    "Il numero di combinazioni semplici $C_{n,k}$ è espresso dall'equazione \n",
    "\n",
    "$$\n",
    "C_{n,k} = \\frac{D_{n,k}}{P_k} = \\frac{n!}{k!(n-k)!},\n",
    "$$ (eq_combsemp)\n",
    "\n",
    "che è spesso indicata con il simbolo $\\binom{n}{k}$ e viene chiamato \"coefficiente binomiale\". In sintesi, le combinazioni semplici rappresentano il numero di sottoinsiemi di $k$ elementi distinti scelti da un insieme di $n$ elementi distinti senza considerare l'ordine di estrazione, e il numero di combinazioni semplici è dato dalla formula $\\binom{n}{k} = \\frac{n!}{k!(n-k)!}$.\n",
    "\n",
    "**Esempio 9.** Per l'insieme $A = \\{a, b, c\\}$ si trovino le combinazioni semplici di classe 2.\n",
    "\n",
    "Le combinazioni semplici dell'insieme $A$ sono \n",
    "$\\{a, b\\}$, $\\{a, c\\}$, $\\{b, c\\}$, ovvero 3. Applichiamo l'eq. {eq}`eq_combsemp`:\n",
    "\n",
    "$$\n",
    "C_{n,k} = \\binom{n}{k} = \\binom{3}{2} = 3.\n",
    "$$\n"
   ]
  },
  {
   "attachments": {},
   "cell_type": "markdown",
   "metadata": {},
   "source": [
    "Usiamo `itertools`:"
   ]
  },
  {
   "cell_type": "code",
   "execution_count": 13,
   "metadata": {},
   "outputs": [
    {
     "data": {
      "text/plain": [
       "(('A', 'B'), ('A', 'C'), ('B', 'C'))"
      ]
     },
     "execution_count": 13,
     "metadata": {},
     "output_type": "execute_result"
    }
   ],
   "source": [
    "c_nk = tuple(it.combinations(\"ABC\", 2))\n",
    "c_nk"
   ]
  },
  {
   "cell_type": "code",
   "execution_count": 14,
   "metadata": {},
   "outputs": [
    {
     "data": {
      "text/plain": [
       "3"
      ]
     },
     "execution_count": 14,
     "metadata": {},
     "output_type": "execute_result"
    }
   ],
   "source": [
    "len(c_nk)"
   ]
  },
  {
   "attachments": {},
   "cell_type": "markdown",
   "metadata": {},
   "source": [
    "La soluzione si trova anche usando la funzione `comb()` della libreria `math`."
   ]
  },
  {
   "cell_type": "code",
   "execution_count": 15,
   "metadata": {},
   "outputs": [
    {
     "data": {
      "text/plain": [
       "3"
      ]
     },
     "execution_count": 15,
     "metadata": {},
     "output_type": "execute_result"
    }
   ],
   "source": [
    "math.comb(3, 2)"
   ]
  },
  {
   "attachments": {},
   "cell_type": "markdown",
   "metadata": {},
   "source": [
    "Oppure usando la funzione `comb()` della libreria `scipy.special`."
   ]
  },
  {
   "cell_type": "code",
   "execution_count": 16,
   "metadata": {},
   "outputs": [
    {
     "data": {
      "text/plain": [
       "3.0"
      ]
     },
     "execution_count": 16,
     "metadata": {},
     "output_type": "execute_result"
    }
   ],
   "source": [
    "import scipy.special as sp\n",
    "\n",
    "sp.comb(3, 2)"
   ]
  },
  {
   "attachments": {},
   "cell_type": "markdown",
   "metadata": {},
   "source": [
    "**Esempio 10.** Quanti gruppi di 2 si possono formare con 5 individui? "
   ]
  },
  {
   "cell_type": "code",
   "execution_count": 4,
   "metadata": {},
   "outputs": [
    {
     "data": {
      "text/plain": [
       "((0, 1),\n",
       " (0, 2),\n",
       " (0, 3),\n",
       " (0, 4),\n",
       " (1, 2),\n",
       " (1, 3),\n",
       " (1, 4),\n",
       " (2, 3),\n",
       " (2, 4),\n",
       " (3, 4))"
      ]
     },
     "execution_count": 4,
     "metadata": {},
     "output_type": "execute_result"
    }
   ],
   "source": [
    "c_nk = tuple(it.combinations(range(5), 2))\n",
    "c_nk"
   ]
  },
  {
   "cell_type": "code",
   "execution_count": 5,
   "metadata": {},
   "outputs": [
    {
     "data": {
      "text/plain": [
       "10"
      ]
     },
     "execution_count": 5,
     "metadata": {},
     "output_type": "execute_result"
    }
   ],
   "source": [
    "len(c_nk)"
   ]
  },
  {
   "attachments": {},
   "cell_type": "markdown",
   "metadata": {},
   "source": [
    "ovvero"
   ]
  },
  {
   "cell_type": "code",
   "execution_count": 7,
   "metadata": {},
   "outputs": [
    {
     "data": {
      "text/plain": [
       "10"
      ]
     },
     "execution_count": 7,
     "metadata": {},
     "output_type": "execute_result"
    }
   ],
   "source": [
    "math.comb(5, 2)"
   ]
  },
  {
   "attachments": {},
   "cell_type": "markdown",
   "metadata": {},
   "source": [
    "**Esempio 11.** Ho un’associazione con 50 soci. Devo scegliere 5 membri che compongano il comitato direttivo.\n",
    "Quante possibili scelte? "
   ]
  },
  {
   "cell_type": "code",
   "execution_count": 17,
   "metadata": {},
   "outputs": [
    {
     "data": {
      "text/plain": [
       "2118760"
      ]
     },
     "execution_count": 17,
     "metadata": {},
     "output_type": "execute_result"
    }
   ],
   "source": [
    "math.comb(50, 5)"
   ]
  },
  {
   "attachments": {},
   "cell_type": "markdown",
   "metadata": {},
   "source": [
    "**Esempio 12.** Una gelateria offre 15 gusti di gelato differenti. Quante coppe diverse posso formare se ognuna\n",
    "contiene 3 gusti di gelato differenti tra loro? "
   ]
  },
  {
   "cell_type": "code",
   "execution_count": 19,
   "metadata": {},
   "outputs": [
    {
     "data": {
      "text/plain": [
       "455"
      ]
     },
     "execution_count": 19,
     "metadata": {},
     "output_type": "execute_result"
    }
   ],
   "source": [
    "math.comb(15, 3)"
   ]
  },
  {
   "attachments": {},
   "cell_type": "markdown",
   "metadata": {},
   "source": [
    "**Esempio 13.** Uno studente deve rispondere a 5 domande su 10. Solo 5 su 10. Quante possibili scelte ha? "
   ]
  },
  {
   "cell_type": "code",
   "execution_count": 21,
   "metadata": {},
   "outputs": [
    {
     "data": {
      "text/plain": [
       "252"
      ]
     },
     "execution_count": 21,
     "metadata": {},
     "output_type": "execute_result"
    }
   ],
   "source": [
    "math.comb(10, 5)"
   ]
  },
  {
   "attachments": {},
   "cell_type": "markdown",
   "metadata": {},
   "source": [
    "## Watermark"
   ]
  },
  {
   "cell_type": "code",
   "execution_count": null,
   "metadata": {},
   "outputs": [],
   "source": [
    "%load_ext watermark\n",
    "%watermark -n -u -v -iv -w"
   ]
  }
 ],
 "metadata": {
  "kernelspec": {
   "display_name": "pymc",
   "language": "python",
   "name": "python3"
  },
  "language_info": {
   "codemirror_mode": {
    "name": "ipython",
    "version": 3
   },
   "file_extension": ".py",
   "mimetype": "text/x-python",
   "name": "python",
   "nbconvert_exporter": "python",
   "pygments_lexer": "ipython3",
   "version": "3.11.0"
  },
  "orig_nbformat": 4,
  "vscode": {
   "interpreter": {
    "hash": "cbb367cc0128e23b7454d788d5a4229ca1f9848fd2e857f4797fbd26ab3b0776"
   }
  }
 },
 "nbformat": 4,
 "nbformat_minor": 2
}
