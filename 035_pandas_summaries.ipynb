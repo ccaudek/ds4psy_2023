{
 "cells": [
  {
   "attachments": {},
   "cell_type": "markdown",
   "metadata": {},
   "source": [
    "(summary_pandas_notebook)=\n",
    "# Esaminare il DataFrame"
   ]
  },
  {
   "cell_type": "code",
   "execution_count": 24,
   "metadata": {},
   "outputs": [],
   "source": [
    "import pandas as pd\n",
    "import numpy as np\n",
    "import statistics"
   ]
  },
  {
   "attachments": {},
   "cell_type": "markdown",
   "metadata": {},
   "source": [
    "Una volta importati i dati vogliamo esaminarli e riassumerli. Per fare un esempio, considereremo qui i dati *Palmer Archipelago (Antarctica) penguin*. Questi dati sono stati raccolti dal 2007 al 2009 da Kristen Gorman con il *Palmer Station Long Term Ecological Research Program*. Leggiamo i dati da un file csv in un DataFrame:"
   ]
  },
  {
   "cell_type": "code",
   "execution_count": 25,
   "metadata": {},
   "outputs": [
    {
     "data": {
      "text/plain": [
       "(344, 8)"
      ]
     },
     "execution_count": 25,
     "metadata": {},
     "output_type": "execute_result"
    }
   ],
   "source": [
    "df = pd.read_csv(\"data/penguins.csv\")\n",
    "df.shape"
   ]
  },
  {
   "attachments": {},
   "cell_type": "markdown",
   "metadata": {},
   "source": [
    "Esaminiamo i nomi delle colonne:"
   ]
  },
  {
   "cell_type": "code",
   "execution_count": 43,
   "metadata": {},
   "outputs": [
    {
     "name": "stdout",
     "output_type": "stream",
     "text": [
      "Index(['species', 'island', 'bill_length_mm', 'bill_depth_mm',\n",
      "       'flipper_length_mm', 'body_mass_g', 'sex', 'year'],\n",
      "      dtype='object')\n"
     ]
    }
   ],
   "source": [
    "df.columns"
   ]
  },
  {
   "attachments": {},
   "cell_type": "markdown",
   "metadata": {},
   "source": [
    "Questo è il significato delle colonne:\n",
    "\n",
    "- species: a factor denoting penguin type (Adélie, Chinstrap and Gentoo)\n",
    "- island: a factor denoting island in Palmer Archipelago, Antarctica (Biscoe, Dream or Torgersen)\n",
    "- bill_length_mm: a number denoting bill length (millimeters)\n",
    "- bill_depth_mm: a number denoting bill depth (millimeters)\n",
    "- flipper_length_mm: an integer denoting flipper length (millimeters)\n",
    "- body_mass_g: an integer denoting body mass (grams)\n",
    "- sex: a factor denoting sexuality (female, male)\n",
    "\n",
    "Esaminiamo il tipo dei dati:"
   ]
  },
  {
   "cell_type": "code",
   "execution_count": 27,
   "metadata": {},
   "outputs": [
    {
     "name": "stdout",
     "output_type": "stream",
     "text": [
      "<class 'pandas.core.frame.DataFrame'>\n",
      "RangeIndex: 344 entries, 0 to 343\n",
      "Data columns (total 8 columns):\n",
      " #   Column             Non-Null Count  Dtype  \n",
      "---  ------             --------------  -----  \n",
      " 0   species            344 non-null    object \n",
      " 1   island             344 non-null    object \n",
      " 2   bill_length_mm     342 non-null    float64\n",
      " 3   bill_depth_mm      342 non-null    float64\n",
      " 4   flipper_length_mm  342 non-null    float64\n",
      " 5   body_mass_g        342 non-null    float64\n",
      " 6   sex                333 non-null    object \n",
      " 7   year               344 non-null    int64  \n",
      "dtypes: float64(4), int64(1), object(3)\n",
      "memory usage: 21.6+ KB\n"
     ]
    }
   ],
   "source": [
    "df.info()"
   ]
  },
  {
   "attachments": {},
   "cell_type": "markdown",
   "metadata": {},
   "source": [
    "Notiamo che ci sono dei dati mancanti (si vede che c'è un numero diverso di dati mancanti nelle diverse colonne). Nel presente esercizio, eliminiamo tutte le righe che contengono almeno un dato mancante su qualche colonna. In generale questa non è una buona idea ma lo facciamo comunque qui per semplicità (poiché ci sono pochi dati mancanti)."
   ]
  },
  {
   "cell_type": "code",
   "execution_count": 28,
   "metadata": {},
   "outputs": [
    {
     "data": {
      "text/plain": [
       "species               0\n",
       "island                0\n",
       "bill_length_mm        2\n",
       "bill_depth_mm         2\n",
       "flipper_length_mm     2\n",
       "body_mass_g           2\n",
       "sex                  11\n",
       "year                  0\n",
       "dtype: int64"
      ]
     },
     "execution_count": 28,
     "metadata": {},
     "output_type": "execute_result"
    }
   ],
   "source": [
    "df.isnull().sum()"
   ]
  },
  {
   "cell_type": "code",
   "execution_count": 29,
   "metadata": {},
   "outputs": [
    {
     "data": {
      "text/plain": [
       "(333, 8)"
      ]
     },
     "execution_count": 29,
     "metadata": {},
     "output_type": "execute_result"
    }
   ],
   "source": [
    "df.dropna(inplace=True)\n",
    "df.shape"
   ]
  },
  {
   "attachments": {},
   "cell_type": "markdown",
   "metadata": {},
   "source": [
    "Abbiamo visto sopra come stabilire qual è il nome delle colonne. Con `.head()` e `.tail()` possiamo visualizzare le prime o le ultime righe del DataFrame. Oltre ai metodi elencati sopra, ci sono altri metodi che si applicano al DataFrame o alle sue colonne. Eccone alcuni:\n",
    "\n",
    "| Method | Description | Data types |\n",
    "| --- | --- | --- |\n",
    "| `count()` | The number of non-null observations | Any |\n",
    "| `nunique()` | The number of unique values | Any |\n",
    "| `sum()` | The total of the values | Numerical or Boolean |\n",
    "| `mean()` | The average of the values | Numerical or Boolean |\n",
    "| `median()` | The median of the values | Numerical |\n",
    "| `min()` | The minimum of the values | Numerical |\n",
    "| `idxmin()` | The index where the minimum values occurs | Numerical |\n",
    "| `max()` | The maximum of the values | Numerical |\n",
    "| `idxmax()` | The index where the maximum value occurs | Numerical |\n",
    "| `abs()` | The absolute values of the data | Numerical |\n",
    "| `std()` | The standard deviation | Numerical |\n",
    "| `var()` | The variance |  Numerical |\n",
    "| `cov()` | The covariance between two `Series`, or a covariance matrix for all column combinations in a `DataFrame` | Numerical |\n",
    "| `corr()` | The correlation between two `Series`, or a correlation matrix for all column combinations in a `DataFrame` | Numerical |\n",
    "| `quantile()` | Calculates a specific quantile | Numerical |\n",
    "| `cumsum()` | The cumulative sum | Numerical or Boolean |\n",
    "| `cummin()` | The cumulative minimum | Numerical |\n",
    "| `cummax()` | The cumulative maximum | Numerical |"
   ]
  },
  {
   "attachments": {},
   "cell_type": "markdown",
   "metadata": {},
   "source": [
    "Per esempio, possiamo stampare l'elenco delle modalità di una variabile:"
   ]
  },
  {
   "cell_type": "code",
   "execution_count": 30,
   "metadata": {},
   "outputs": [
    {
     "name": "stdout",
     "output_type": "stream",
     "text": [
      "['Torgersen' 'Biscoe' 'Dream']\n"
     ]
    }
   ],
   "source": [
    "print(df['island'].unique())"
   ]
  },
  {
   "attachments": {},
   "cell_type": "markdown",
   "metadata": {},
   "source": [
    "È semplice calcolare la media di una colonna:"
   ]
  },
  {
   "cell_type": "code",
   "execution_count": 31,
   "metadata": {},
   "outputs": [
    {
     "data": {
      "text/plain": [
       "17.164864864864867"
      ]
     },
     "execution_count": 31,
     "metadata": {},
     "output_type": "execute_result"
    }
   ],
   "source": [
    "df['bill_depth_mm'].mean()"
   ]
  },
  {
   "attachments": {},
   "cell_type": "markdown",
   "metadata": {},
   "source": [
    "Per la deviazione standard, pur essendoci il metodo `.std` che si applica ad un DataFrame (o alle sue colonne), forse è preferibile usare `numpy.std()` in quanto consente facilmente di specificare i gradi di libertà:"
   ]
  },
  {
   "cell_type": "code",
   "execution_count": 32,
   "metadata": {},
   "outputs": [
    {
     "data": {
      "text/plain": [
       "5.46866834264756"
      ]
     },
     "execution_count": 32,
     "metadata": {},
     "output_type": "execute_result"
    }
   ],
   "source": [
    "np.std(df['bill_length_mm'], ddof=1)"
   ]
  },
  {
   "attachments": {},
   "cell_type": "markdown",
   "metadata": {},
   "source": [
    "Il riepilogo di più valori in un unico indice va sotto il nome di \"aggregazione\" dei dati. Il metodo `aggregate()` può essere applicato ai DataFrame e restituisce un nuovo DataFrame più breve contenente solo i valori aggregati. Il primo argomento di `aggregate()` specifica quale funzione o quali funzioni devono essere utilizzate per aggregare i dati. Molte comuni funzioni di aggregazione sono disponibili nel modulo `statistics`:\n",
    "\n",
    "- `median()`: la mediana;\n",
    "- `mean()`: la media;\n",
    "- `stdev()`: la deviazione standard;\n",
    "\n",
    "Se vogliamo applicare più funzioni di aggregazione, allora è meglio raccogliere prima le funzioni in una lista e poi passare questa lista al metodo `aggregate()`. "
   ]
  },
  {
   "cell_type": "code",
   "execution_count": 33,
   "metadata": {},
   "outputs": [
    {
     "name": "stdout",
     "output_type": "stream",
     "text": [
      "          species     island  bill_length_mm  bill_depth_mm  \\\n",
      "min        Adelie     Biscoe       32.100000      13.100000   \n",
      "median  Chinstrap      Dream       44.500000      17.300000   \n",
      "mean          NaN        NaN       43.992793      17.164865   \n",
      "stdev         NaN        NaN        5.468668       1.969235   \n",
      "max        Gentoo  Torgersen       59.600000      21.500000   \n",
      "\n",
      "        flipper_length_mm  body_mass_g     sex         year  \n",
      "min            172.000000  2700.000000  female  2007.000000  \n",
      "median         197.000000  4050.000000    male  2008.000000  \n",
      "mean           200.966967  4207.057057     NaN  2008.042042  \n",
      "stdev           14.015765   805.215802     NaN     0.812944  \n",
      "max            231.000000  6300.000000    male  2009.000000  \n"
     ]
    },
    {
     "name": "stderr",
     "output_type": "stream",
     "text": [
      "/var/folders/hl/dt523djx7_q7xjrthzjpdvc40000gn/T/ipykernel_86150/1037272575.py:2: FutureWarning: ['species', 'island', 'sex'] did not aggregate successfully. If any error is raised this will raise in a future version of pandas. Drop these columns/ops to avoid this warning.\n",
      "  print(df.aggregate(summary_stats))\n"
     ]
    }
   ],
   "source": [
    "summary_stats = [min, statistics.median, statistics.mean, statistics.stdev, max]\n",
    "print(df.aggregate(summary_stats))"
   ]
  },
  {
   "attachments": {},
   "cell_type": "markdown",
   "metadata": {},
   "source": [
    "Si noti che pandas ha applicato le funzioni di riepilogo a ogni colonna, ma ci sono alcune colonne per le quali le statistiche riassuntive non possono calcolare, ovvero tutte le colonne che contengono stringhe anziché numeri. Di conseguenza, vediamo che alcuni dei risultati per tali colonne sono contrassegnati con \"NaN\". Questa è un'abbreviazione di \"Not a Number\", talvolta utilizzata nell'analisi dei dati per rappresentare valori mancanti o non definiti.\n",
    "\n",
    "La colonna `species` in `df` è una variabile a livello nominale. Recuperiamo l'elenco delle modalità:"
   ]
  },
  {
   "cell_type": "code",
   "execution_count": 34,
   "metadata": {},
   "outputs": [
    {
     "name": "stdout",
     "output_type": "stream",
     "text": [
      "Adelie       146\n",
      "Gentoo       119\n",
      "Chinstrap     68\n",
      "Name: species, dtype: int64\n"
     ]
    }
   ],
   "source": [
    "print(df['species'].value_counts())"
   ]
  },
  {
   "cell_type": "markdown",
   "metadata": {},
   "source": [
    "Se vogliamo trovare le frequenze relative possiamo impostare l'argomento `normalize=True`:"
   ]
  },
  {
   "cell_type": "code",
   "execution_count": 35,
   "metadata": {},
   "outputs": [
    {
     "name": "stdout",
     "output_type": "stream",
     "text": [
      "Adelie       0.438438\n",
      "Gentoo       0.357357\n",
      "Chinstrap    0.204204\n",
      "Name: species, dtype: float64\n"
     ]
    }
   ],
   "source": [
    "print(df['species'].value_counts(normalize=True))"
   ]
  },
  {
   "attachments": {},
   "cell_type": "markdown",
   "metadata": {},
   "source": [
    "## Ragruppare i dati con `.groupby()`\n",
    "\n",
    "Molto spesso vogliamo calcolare le statistiche descrittive separatamente per ciascun gruppo di osservazioni -- per esempio, nel caso presente, in base alla specie. Questo risultato si ottiene con il metodo `.groupby()`. Per esempio, ragruppiamo le osservazioni in funzione della specie per poi calcolare le statistiche descrittive definite in precedenza. "
   ]
  },
  {
   "cell_type": "code",
   "execution_count": 36,
   "metadata": {},
   "outputs": [
    {
     "name": "stdout",
     "output_type": "stream",
     "text": [
      "          bill_length_mm                                   bill_depth_mm  \\\n",
      "                     min median       mean     stdev   max           min   \n",
      "species                                                                    \n",
      "Adelie              32.1  38.85  38.823973  2.662597  46.0          15.5   \n",
      "Chinstrap           40.9  49.55  48.833824  3.339256  58.0          16.4   \n",
      "Gentoo              40.9  47.40  47.568067  3.106116  59.6          13.1   \n",
      "\n",
      "                                             ... body_mass_g          \\\n",
      "          median       mean     stdev   max  ...         min  median   \n",
      "species                                      ...                       \n",
      "Adelie     18.40  18.347260  1.219338  21.5  ...      2850.0  3700.0   \n",
      "Chinstrap  18.45  18.420588  1.135395  20.8  ...      2700.0  3700.0   \n",
      "Gentoo     15.00  14.996639  0.985998  17.3  ...      3950.0  5050.0   \n",
      "\n",
      "                                            year                       \\\n",
      "                  mean       stdev     max   min  median         mean   \n",
      "species                                                                 \n",
      "Adelie     3706.164384  458.620135  4775.0  2007  2008.0  2008.054795   \n",
      "Chinstrap  3733.088235  384.335081  4800.0  2007  2008.0  2007.970588   \n",
      "Gentoo     5092.436975  501.476154  6300.0  2007  2008.0  2008.067227   \n",
      "\n",
      "                           \n",
      "              stdev   max  \n",
      "species                    \n",
      "Adelie     0.811816  2009  \n",
      "Chinstrap  0.863360  2009  \n",
      "Gentoo     0.789025  2009  \n",
      "\n",
      "[3 rows x 25 columns]\n"
     ]
    },
    {
     "name": "stderr",
     "output_type": "stream",
     "text": [
      "/var/folders/hl/dt523djx7_q7xjrthzjpdvc40000gn/T/ipykernel_86150/1634414942.py:1: FutureWarning: ['island', 'sex'] did not aggregate successfully. If any error is raised this will raise in a future version of pandas. Drop these columns/ops to avoid this warning.\n",
      "  print(df.groupby(['species']).aggregate(summary_stats))\n"
     ]
    }
   ],
   "source": [
    "print(df.groupby(['species']).aggregate(summary_stats))"
   ]
  },
  {
   "attachments": {},
   "cell_type": "markdown",
   "metadata": {},
   "source": [
    "Qui sotto troviamo la media di due sole colonne per ciascuna specie."
   ]
  },
  {
   "cell_type": "code",
   "execution_count": 38,
   "metadata": {},
   "outputs": [
    {
     "data": {
      "text/html": [
       "<div>\n",
       "<style scoped>\n",
       "    .dataframe tbody tr th:only-of-type {\n",
       "        vertical-align: middle;\n",
       "    }\n",
       "\n",
       "    .dataframe tbody tr th {\n",
       "        vertical-align: top;\n",
       "    }\n",
       "\n",
       "    .dataframe thead th {\n",
       "        text-align: right;\n",
       "    }\n",
       "</style>\n",
       "<table border=\"1\" class=\"dataframe\">\n",
       "  <thead>\n",
       "    <tr style=\"text-align: right;\">\n",
       "      <th></th>\n",
       "      <th>body_mass_g</th>\n",
       "      <th>flipper_length_mm</th>\n",
       "    </tr>\n",
       "    <tr>\n",
       "      <th>species</th>\n",
       "      <th></th>\n",
       "      <th></th>\n",
       "    </tr>\n",
       "  </thead>\n",
       "  <tbody>\n",
       "    <tr>\n",
       "      <th>Adelie</th>\n",
       "      <td>3706.164384</td>\n",
       "      <td>190.102740</td>\n",
       "    </tr>\n",
       "    <tr>\n",
       "      <th>Chinstrap</th>\n",
       "      <td>3733.088235</td>\n",
       "      <td>195.823529</td>\n",
       "    </tr>\n",
       "    <tr>\n",
       "      <th>Gentoo</th>\n",
       "      <td>5092.436975</td>\n",
       "      <td>217.235294</td>\n",
       "    </tr>\n",
       "  </tbody>\n",
       "</table>\n",
       "</div>"
      ],
      "text/plain": [
       "           body_mass_g  flipper_length_mm\n",
       "species                                  \n",
       "Adelie     3706.164384         190.102740\n",
       "Chinstrap  3733.088235         195.823529\n",
       "Gentoo     5092.436975         217.235294"
      ]
     },
     "execution_count": 38,
     "metadata": {},
     "output_type": "execute_result"
    }
   ],
   "source": [
    "df.groupby(\"species\")[[\"body_mass_g\", \"flipper_length_mm\"]].mean()"
   ]
  },
  {
   "attachments": {},
   "cell_type": "markdown",
   "metadata": {},
   "source": [
    "Facciamo la stessa cosa per la deviazione standard."
   ]
  },
  {
   "cell_type": "code",
   "execution_count": 37,
   "metadata": {},
   "outputs": [
    {
     "data": {
      "text/html": [
       "<div>\n",
       "<style scoped>\n",
       "    .dataframe tbody tr th:only-of-type {\n",
       "        vertical-align: middle;\n",
       "    }\n",
       "\n",
       "    .dataframe tbody tr th {\n",
       "        vertical-align: top;\n",
       "    }\n",
       "\n",
       "    .dataframe thead th {\n",
       "        text-align: right;\n",
       "    }\n",
       "</style>\n",
       "<table border=\"1\" class=\"dataframe\">\n",
       "  <thead>\n",
       "    <tr style=\"text-align: right;\">\n",
       "      <th></th>\n",
       "      <th>body_mass_g</th>\n",
       "      <th>flipper_length_mm</th>\n",
       "    </tr>\n",
       "    <tr>\n",
       "      <th>species</th>\n",
       "      <th></th>\n",
       "      <th></th>\n",
       "    </tr>\n",
       "  </thead>\n",
       "  <tbody>\n",
       "    <tr>\n",
       "      <th>Adelie</th>\n",
       "      <td>458.620135</td>\n",
       "      <td>6.521825</td>\n",
       "    </tr>\n",
       "    <tr>\n",
       "      <th>Chinstrap</th>\n",
       "      <td>384.335081</td>\n",
       "      <td>7.131894</td>\n",
       "    </tr>\n",
       "    <tr>\n",
       "      <th>Gentoo</th>\n",
       "      <td>501.476154</td>\n",
       "      <td>6.585431</td>\n",
       "    </tr>\n",
       "  </tbody>\n",
       "</table>\n",
       "</div>"
      ],
      "text/plain": [
       "           body_mass_g  flipper_length_mm\n",
       "species                                  \n",
       "Adelie      458.620135           6.521825\n",
       "Chinstrap   384.335081           7.131894\n",
       "Gentoo      501.476154           6.585431"
      ]
     },
     "execution_count": 37,
     "metadata": {},
     "output_type": "execute_result"
    }
   ],
   "source": [
    "df.groupby(\"species\")[[\"body_mass_g\", \"flipper_length_mm\"]].std()"
   ]
  },
  {
   "attachments": {},
   "cell_type": "markdown",
   "metadata": {},
   "source": [
    "Oppure, in maniera un po' più elaborata:"
   ]
  },
  {
   "cell_type": "code",
   "execution_count": 40,
   "metadata": {},
   "outputs": [
    {
     "data": {
      "text/html": [
       "<div>\n",
       "<style scoped>\n",
       "    .dataframe tbody tr th:only-of-type {\n",
       "        vertical-align: middle;\n",
       "    }\n",
       "\n",
       "    .dataframe tbody tr th {\n",
       "        vertical-align: top;\n",
       "    }\n",
       "\n",
       "    .dataframe thead tr th {\n",
       "        text-align: left;\n",
       "    }\n",
       "\n",
       "    .dataframe thead tr:last-of-type th {\n",
       "        text-align: right;\n",
       "    }\n",
       "</style>\n",
       "<table border=\"1\" class=\"dataframe\">\n",
       "  <thead>\n",
       "    <tr>\n",
       "      <th></th>\n",
       "      <th colspan=\"3\" halign=\"left\">body_mass_g</th>\n",
       "      <th colspan=\"3\" halign=\"left\">flipper_length_mm</th>\n",
       "    </tr>\n",
       "    <tr>\n",
       "      <th></th>\n",
       "      <th>mean</th>\n",
       "      <th>std</th>\n",
       "      <th>count</th>\n",
       "      <th>mean</th>\n",
       "      <th>std</th>\n",
       "      <th>count</th>\n",
       "    </tr>\n",
       "    <tr>\n",
       "      <th>species</th>\n",
       "      <th></th>\n",
       "      <th></th>\n",
       "      <th></th>\n",
       "      <th></th>\n",
       "      <th></th>\n",
       "      <th></th>\n",
       "    </tr>\n",
       "  </thead>\n",
       "  <tbody>\n",
       "    <tr>\n",
       "      <th>Adelie</th>\n",
       "      <td>3706.164384</td>\n",
       "      <td>458.620135</td>\n",
       "      <td>146</td>\n",
       "      <td>190.102740</td>\n",
       "      <td>6.521825</td>\n",
       "      <td>146</td>\n",
       "    </tr>\n",
       "    <tr>\n",
       "      <th>Chinstrap</th>\n",
       "      <td>3733.088235</td>\n",
       "      <td>384.335081</td>\n",
       "      <td>68</td>\n",
       "      <td>195.823529</td>\n",
       "      <td>7.131894</td>\n",
       "      <td>68</td>\n",
       "    </tr>\n",
       "    <tr>\n",
       "      <th>Gentoo</th>\n",
       "      <td>5092.436975</td>\n",
       "      <td>501.476154</td>\n",
       "      <td>119</td>\n",
       "      <td>217.235294</td>\n",
       "      <td>6.585431</td>\n",
       "      <td>119</td>\n",
       "    </tr>\n",
       "  </tbody>\n",
       "</table>\n",
       "</div>"
      ],
      "text/plain": [
       "           body_mass_g                   flipper_length_mm                \n",
       "                  mean         std count              mean       std count\n",
       "species                                                                   \n",
       "Adelie     3706.164384  458.620135   146        190.102740  6.521825   146\n",
       "Chinstrap  3733.088235  384.335081    68        195.823529  7.131894    68\n",
       "Gentoo     5092.436975  501.476154   119        217.235294  6.585431   119"
      ]
     },
     "execution_count": 40,
     "metadata": {},
     "output_type": "execute_result"
    }
   ],
   "source": [
    "summary_stats = (df.loc[:, ['species', 'body_mass_g', 'flipper_length_mm']]\n",
    "                         .groupby('species')\n",
    "                         .aggregate(['mean', 'std', 'count']))\n",
    "summary_stats"
   ]
  },
  {
   "attachments": {},
   "cell_type": "markdown",
   "metadata": {},
   "source": [
    "Nell'istruzione precedente `df.loc[:, ['species', 'body_mass_g']]` seleziona tutte le righe (`:`) delle due colonne di interesse. L'istruzione `.groupby('species')` ragruppa le righe secondo le modalità della variabile `species`. Infine `.aggregate(['mean', 'std', 'count'])` applica i metodi statistici elencati a ciascun gruppo di righe. Con questa sintassi la sequenza delle operazioni da eseguire diventa molto intuitiva.\n",
    "\n",
    "È facile estendere l'esempio precedente a casi più complessi. Per esempio, possiamo analizzare simultaneamente i dati di più colonne, dopo avere ragruppato i dati in base alle modalità specificate da colonne multiple. Per l'esempio presente, calcolo le statistiche descrittive delle variabili `body_mass_g` e `bill_length_mm` separatamente per ciascuna isola e per ciascuna specie:"
   ]
  },
  {
   "cell_type": "code",
   "execution_count": 41,
   "metadata": {},
   "outputs": [
    {
     "data": {
      "text/html": [
       "<div>\n",
       "<style scoped>\n",
       "    .dataframe tbody tr th:only-of-type {\n",
       "        vertical-align: middle;\n",
       "    }\n",
       "\n",
       "    .dataframe tbody tr th {\n",
       "        vertical-align: top;\n",
       "    }\n",
       "\n",
       "    .dataframe thead tr th {\n",
       "        text-align: left;\n",
       "    }\n",
       "\n",
       "    .dataframe thead tr:last-of-type th {\n",
       "        text-align: right;\n",
       "    }\n",
       "</style>\n",
       "<table border=\"1\" class=\"dataframe\">\n",
       "  <thead>\n",
       "    <tr>\n",
       "      <th></th>\n",
       "      <th></th>\n",
       "      <th colspan=\"3\" halign=\"left\">body_mass_g</th>\n",
       "      <th colspan=\"3\" halign=\"left\">bill_length_mm</th>\n",
       "    </tr>\n",
       "    <tr>\n",
       "      <th></th>\n",
       "      <th></th>\n",
       "      <th>mean</th>\n",
       "      <th>std</th>\n",
       "      <th>count</th>\n",
       "      <th>mean</th>\n",
       "      <th>std</th>\n",
       "      <th>count</th>\n",
       "    </tr>\n",
       "    <tr>\n",
       "      <th>species</th>\n",
       "      <th>island</th>\n",
       "      <th></th>\n",
       "      <th></th>\n",
       "      <th></th>\n",
       "      <th></th>\n",
       "      <th></th>\n",
       "      <th></th>\n",
       "    </tr>\n",
       "  </thead>\n",
       "  <tbody>\n",
       "    <tr>\n",
       "      <th rowspan=\"3\" valign=\"top\">Adelie</th>\n",
       "      <th>Biscoe</th>\n",
       "      <td>3709.7</td>\n",
       "      <td>487.7</td>\n",
       "      <td>44</td>\n",
       "      <td>39.0</td>\n",
       "      <td>2.5</td>\n",
       "      <td>44</td>\n",
       "    </tr>\n",
       "    <tr>\n",
       "      <th>Dream</th>\n",
       "      <td>3701.4</td>\n",
       "      <td>448.8</td>\n",
       "      <td>55</td>\n",
       "      <td>38.5</td>\n",
       "      <td>2.5</td>\n",
       "      <td>55</td>\n",
       "    </tr>\n",
       "    <tr>\n",
       "      <th>Torgersen</th>\n",
       "      <td>3708.5</td>\n",
       "      <td>451.8</td>\n",
       "      <td>47</td>\n",
       "      <td>39.0</td>\n",
       "      <td>3.0</td>\n",
       "      <td>47</td>\n",
       "    </tr>\n",
       "    <tr>\n",
       "      <th>Chinstrap</th>\n",
       "      <th>Dream</th>\n",
       "      <td>3733.1</td>\n",
       "      <td>384.3</td>\n",
       "      <td>68</td>\n",
       "      <td>48.8</td>\n",
       "      <td>3.3</td>\n",
       "      <td>68</td>\n",
       "    </tr>\n",
       "    <tr>\n",
       "      <th>Gentoo</th>\n",
       "      <th>Biscoe</th>\n",
       "      <td>5092.4</td>\n",
       "      <td>501.5</td>\n",
       "      <td>119</td>\n",
       "      <td>47.6</td>\n",
       "      <td>3.1</td>\n",
       "      <td>119</td>\n",
       "    </tr>\n",
       "  </tbody>\n",
       "</table>\n",
       "</div>"
      ],
      "text/plain": [
       "                    body_mass_g              bill_length_mm           \n",
       "                           mean    std count           mean  std count\n",
       "species   island                                                      \n",
       "Adelie    Biscoe         3709.7  487.7    44           39.0  2.5    44\n",
       "          Dream          3701.4  448.8    55           38.5  2.5    55\n",
       "          Torgersen      3708.5  451.8    47           39.0  3.0    47\n",
       "Chinstrap Dream          3733.1  384.3    68           48.8  3.3    68\n",
       "Gentoo    Biscoe         5092.4  501.5   119           47.6  3.1   119"
      ]
     },
     "execution_count": 41,
     "metadata": {},
     "output_type": "execute_result"
    }
   ],
   "source": [
    "summary_stats = (df.loc[:, ['species', 'island', 'body_mass_g', 'bill_length_mm']]\n",
    "                         .groupby(['species', 'island'])\n",
    "                         .aggregate(['mean', 'std', 'count']))\n",
    "summary_stats.round(1)"
   ]
  },
  {
   "attachments": {},
   "cell_type": "markdown",
   "metadata": {},
   "source": [
    "## Watermark"
   ]
  },
  {
   "cell_type": "code",
   "execution_count": null,
   "metadata": {},
   "outputs": [],
   "source": [
    "%load_ext watermark\n",
    "%watermark -n -u -v -iv -w"
   ]
  }
 ],
 "metadata": {
  "kernelspec": {
   "display_name": "Python 3",
   "language": "python",
   "name": "python3"
  },
  "language_info": {
   "codemirror_mode": {
    "name": "ipython",
    "version": 3
   },
   "file_extension": ".py",
   "mimetype": "text/x-python",
   "name": "python",
   "nbconvert_exporter": "python",
   "pygments_lexer": "ipython3",
   "version": "3.8.10 (default, Jun  2 2021, 07:05:41) \n[Clang 12.0.5 (clang-1205.0.22.9)]"
  },
  "orig_nbformat": 4,
  "vscode": {
   "interpreter": {
    "hash": "c300c63927c1d487b2df0ca7f55d9699efd42c18a65d5b05a5383e492fa5764c"
   }
  }
 },
 "nbformat": 4,
 "nbformat_minor": 2
}
