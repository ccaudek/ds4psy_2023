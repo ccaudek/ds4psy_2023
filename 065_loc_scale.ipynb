{
 "cells": [
  {
   "attachments": {},
   "cell_type": "markdown",
   "id": "6649e8c4",
   "metadata": {},
   "source": [
    "(loc_scale_notebook)=\n",
    "# Indici di posizione e di scala"
   ]
  },
  {
   "attachments": {},
   "cell_type": "markdown",
   "id": "9316b2b9",
   "metadata": {},
   "source": [
    "L’analisi grafica esaminata in precedenza costituisce la base di\n",
    "partenza di qualsivoglia analisi quantitativa dei dati. Tramite\n",
    "opportune rappresentazioni grafiche possiamo individuare alcune\n",
    "caratteristiche importanti di una distribuzione: per esempio, è\n",
    "possibile capire se la distribuzione è simmetrica o asimmetrica; oppure\n",
    "se è unimodale o multimodale. Successivamente, è necessario calcolare\n",
    "degli indici numerici che descrivano in modo sintetico le\n",
    "caratteristiche di base dei dati. In questo capitolo verranno introdotti\n",
    "i principali indicatori della statistica descrittiva.\n",
    "\n",
    "## Indici di tendenza centrale\n",
    "\n",
    "Tra le misure di tendenza centrale, ovvero tra gli indici che ci\n",
    "informano sui valori attorno ai quali sono prevalentemente concentrati i\n",
    "dati di un campione, quella più comunemente usata è la media."
   ]
  },
  {
   "cell_type": "code",
   "execution_count": 1,
   "id": "6f5d5aa9",
   "metadata": {},
   "outputs": [],
   "source": [
    "import pandas as pd\n",
    "from matplotlib import pyplot as plt\n",
    "import seaborn as sns\n",
    "from scipy import stats\n",
    "import numpy as np\n",
    "from scipy.constants import golden"
   ]
  },
  {
   "cell_type": "code",
   "execution_count": 2,
   "id": "2cd342e8",
   "metadata": {},
   "outputs": [],
   "source": [
    "%matplotlib inline\n",
    "plt.rc('figure', figsize=(5.0, 5.0/golden))\n",
    "sns.set_theme()\n",
    "sns.set_palette(\"colorblind\")\n",
    "SEED = 12345\n",
    "rng = np.random.default_rng(SEED)"
   ]
  },
  {
   "attachments": {},
   "cell_type": "markdown",
   "id": "49535799",
   "metadata": {},
   "source": [
    "Per un’introduzione “soft” alla nozione di tendenza centrale di una\n",
    "distribuzione statistica si segua il\n",
    "[link](https://tinystats.github.io/teacups-giraffes-and-statistics/03_mean.html).\n",
    "\n",
    "### Media\n",
    "\n",
    "Tutti conosciamo la media aritmetica di $\\{x_1, x_2, \\dots, x_n\\}$,\n",
    "ovvero il numero reale $\\bar{x}$ definito da\n",
    "\n",
    "$$\n",
    "\\bar{x}=\\frac{1}{n}\\sum_{i=1}^n x_i.\n",
    "$$ (eq-mean)\n",
    "\n",
    "Nella @eq-mean ho usato la notazione delle sommatorie per descrivere una\n",
    "somma di valori. Questa notazione è molto usata in statistica e viene\n",
    "descritta in Appendice.\n",
    "\n",
    "La media gode della seguente importante proprietà: la somma degli scarti\n",
    "tra ciascuna modalità $x_i$ e la media aritmetica $\\bar{x}$ è nulla,\n",
    "cioè\n",
    "\n",
    "$$\n",
    "\\sum_{i=1}^n (x_i - \\bar{x}) = 0.\\notag\n",
    "$$ (eq-diffmeansumzero)\n",
    "\n",
    "Infatti,\n",
    "\n",
    "$$\n",
    "\\begin{aligned}\n",
    "\\sum_{i=1}^n (x_i - \\bar{x}) &= \\sum_i x_i - \\sum_i \\bar{x}\\notag\\\\\n",
    "&= \\sum_i x_i - n \\bar{x}\\notag\\\\\n",
    "&= \\sum_i x_i - \\sum_i x_i = 0.\\notag\n",
    "\\end{aligned}\n",
    "$$\n",
    "\n",
    "Ciò ci consente di pensare alla media come al baricentro della\n",
    "distribuzione.\n",
    "\n",
    "Un’altra proprietà della media è la seguente. La somma dei quadrati\n",
    "degli scarti tra ciascuna modalità $x_i$ e una costante arbitraria $a$,\n",
    "cioè\n",
    "\n",
    "$$\n",
    "\\varphi(a) = \\sum_{i=1}^n (x_i - a)^2,\\notag\n",
    "$$ (eq-minsq)\n",
    "\n",
    "è minima per $a = \\bar{x}$.\n",
    "\n",
    "Il concetto statistico di media ha suscitato molte battute. Per esempio,\n",
    "il fatto che, in media, ciascuno di noi ha un numero di gambe circa pari\n",
    "a 1.9999999. Oppure, il fatto che, in media, ciascuno di noi ha un\n",
    "testicolo. Ma la media ha altri problemi, oltre al fatto di ispirare\n",
    "battute simili alle precedenti. In particolare, dobbiamo notare che la\n",
    "media non è sempre l’indice che meglio rappresenta la tendenza centrale\n",
    "di una distribuzione. In particolare, ciò non accade quando la\n",
    "distribuzione è asimmetrica, o in presenza di valori anomali (*outlier*)\n",
    "In tali circostanze, la tendenza centrale della distribuzione è meglio\n",
    "rappresentata dalla mediana o dalla media spuntata (si veda più sotto).\n",
    "\n",
    "Per fare un esempio, calcoliamo la media dei valori BDI-II separatamente per ciascuno dei due\n",
    "gruppi di soggetti esaminati da {cite:t}`zetsche_2019future`."
   ]
  },
  {
   "cell_type": "code",
   "execution_count": 3,
   "id": "7abb23c9",
   "metadata": {},
   "outputs": [
    {
     "data": {
      "text/plain": [
       "(66, 3)"
      ]
     },
     "execution_count": 3,
     "metadata": {},
     "output_type": "execute_result"
    }
   ],
   "source": [
    "# Leggo i dati, seleziono le colonne appropriate, elimino i duplicati, rimuovo\n",
    "# il dato mancante.\n",
    "df = pd.read_csv(\"data/data.mood.csv\", index_col=0)\n",
    "df = df[[\"esm_id\", \"group\", \"bdi\"]]\n",
    "df = df.drop_duplicates(keep=\"first\")\n",
    "df = df[pd.notnull(df[\"bdi\"])]\n",
    "df.shape"
   ]
  },
  {
   "cell_type": "code",
   "execution_count": 4,
   "id": "f3b5bf49",
   "metadata": {},
   "outputs": [
    {
     "data": {
      "text/plain": [
       "group\n",
       "ctl    36\n",
       "mdd    30\n",
       "dtype: int64"
      ]
     },
     "execution_count": 4,
     "metadata": {},
     "output_type": "execute_result"
    }
   ],
   "source": [
    "df.groupby(\"group\").size()"
   ]
  },
  {
   "cell_type": "code",
   "execution_count": 5,
   "id": "084fdc9a",
   "metadata": {},
   "outputs": [
    {
     "data": {
      "image/png": "[encoded data removed]",
      "text/plain": [
       "<Figure size 500x309.017 with 1 Axes>"
      ]
     },
     "metadata": {},
     "output_type": "display_data"
    }
   ],
   "source": [
    "_ = sns.stripplot(x=\"bdi\", data=df, jitter=0.1, hue=\"group\", alpha=0.9)"
   ]
  },
  {
   "attachments": {},
   "cell_type": "markdown",
   "id": "d5c03af8",
   "metadata": {},
   "source": [
    "Calcolo ora le medie dei valori BDI-II nei due gruppi:"
   ]
  },
  {
   "cell_type": "code",
   "execution_count": 7,
   "id": "ee558672",
   "metadata": {},
   "outputs": [
    {
     "data": {
      "text/plain": [
       "group\n",
       "ctl     1.61\n",
       "mdd    30.93\n",
       "Name: bdi, dtype: float64"
      ]
     },
     "execution_count": 7,
     "metadata": {},
     "output_type": "execute_result"
    }
   ],
   "source": [
    "df.groupby(\"group\")[\"bdi\"].mean().round(2)"
   ]
  },
  {
   "attachments": {},
   "cell_type": "markdown",
   "id": "38d06352",
   "metadata": {},
   "source": [
    "In alternativa, posso usare il metodo `.describe()`:"
   ]
  },
  {
   "cell_type": "code",
   "execution_count": 8,
   "id": "dfb5ea96",
   "metadata": {},
   "outputs": [
    {
     "data": {
      "text/html": [
       "<div>\n",
       "<style scoped>\n",
       "    .dataframe tbody tr th:only-of-type {\n",
       "        vertical-align: middle;\n",
       "    }\n",
       "\n",
       "    .dataframe tbody tr th {\n",
       "        vertical-align: top;\n",
       "    }\n",
       "\n",
       "    .dataframe thead th {\n",
       "        text-align: right;\n",
       "    }\n",
       "</style>\n",
       "<table border=\"1\" class=\"dataframe\">\n",
       "  <thead>\n",
       "    <tr style=\"text-align: right;\">\n",
       "      <th></th>\n",
       "      <th>count</th>\n",
       "      <th>mean</th>\n",
       "      <th>std</th>\n",
       "      <th>min</th>\n",
       "      <th>25%</th>\n",
       "      <th>50%</th>\n",
       "      <th>75%</th>\n",
       "      <th>max</th>\n",
       "    </tr>\n",
       "    <tr>\n",
       "      <th>group</th>\n",
       "      <th></th>\n",
       "      <th></th>\n",
       "      <th></th>\n",
       "      <th></th>\n",
       "      <th></th>\n",
       "      <th></th>\n",
       "      <th></th>\n",
       "      <th></th>\n",
       "    </tr>\n",
       "  </thead>\n",
       "  <tbody>\n",
       "    <tr>\n",
       "      <th>ctl</th>\n",
       "      <td>36.0</td>\n",
       "      <td>1.6</td>\n",
       "      <td>2.7</td>\n",
       "      <td>0.0</td>\n",
       "      <td>0.0</td>\n",
       "      <td>1.0</td>\n",
       "      <td>2.0</td>\n",
       "      <td>12.0</td>\n",
       "    </tr>\n",
       "    <tr>\n",
       "      <th>mdd</th>\n",
       "      <td>30.0</td>\n",
       "      <td>30.9</td>\n",
       "      <td>6.6</td>\n",
       "      <td>19.0</td>\n",
       "      <td>26.0</td>\n",
       "      <td>30.0</td>\n",
       "      <td>35.0</td>\n",
       "      <td>44.0</td>\n",
       "    </tr>\n",
       "  </tbody>\n",
       "</table>\n",
       "</div>"
      ],
      "text/plain": [
       "       count  mean  std   min   25%   50%   75%   max\n",
       "group                                                \n",
       "ctl     36.0   1.6  2.7   0.0   0.0   1.0   2.0  12.0\n",
       "mdd     30.0  30.9  6.6  19.0  26.0  30.0  35.0  44.0"
      ]
     },
     "execution_count": 8,
     "metadata": {},
     "output_type": "execute_result"
    }
   ],
   "source": [
    "df.groupby(\"group\")[\"bdi\"].describe().round(1)"
   ]
  },
  {
   "attachments": {},
   "cell_type": "markdown",
   "id": "48935ec0",
   "metadata": {},
   "source": [
    "### Media spuntata\n",
    "\n",
    "La *media spuntata* $\\bar{x}_t$ (*trimmed mean*) non è altro che la\n",
    "media dei dati calcolata considerando solo il 90% (o altra percentuale)\n",
    "dei dati centrali. Per calcolare $\\bar{x}_t$ si ordinando i dati secondo\n",
    "una sequenza crescente, $x_1 \\leq x_2 \\leq x_3 \\leq \\dots \\leq x_n$, per\n",
    "poi eliminare il primo 5% e l’ultimo 5% dei dati della serie così\n",
    "ordinata. La media spuntata è data dalla media aritmetica dei dati\n",
    "rimanenti.\n",
    "\n",
    "Per fare un esempio, calcoliamo la media spuntata dei valori BDI-II per i due gruppi di\n",
    "soggetti esaminati da {cite:t}`zetsche_2019future` escludendo il 10% dei valori\n",
    "più estremi. "
   ]
  },
  {
   "cell_type": "code",
   "execution_count": 10,
   "id": "b26b1be9",
   "metadata": {},
   "outputs": [
    {
     "data": {
      "text/plain": [
       "30.625"
      ]
     },
     "execution_count": 10,
     "metadata": {},
     "output_type": "execute_result"
    }
   ],
   "source": [
    "bdi_mdd = df[df[\"group\"] == \"mdd\"].bdi\n",
    "stats.trim_mean(bdi_mdd, 0.10)"
   ]
  },
  {
   "cell_type": "code",
   "execution_count": 11,
   "id": "00eb0085",
   "metadata": {},
   "outputs": [
    {
     "data": {
      "text/plain": [
       "1.0"
      ]
     },
     "execution_count": 11,
     "metadata": {},
     "output_type": "execute_result"
    }
   ],
   "source": [
    "bdi_ctl = df[df[\"group\"] == \"ctl\"].bdi\n",
    "stats.trim_mean(bdi_ctl, 0.10)"
   ]
  },
  {
   "attachments": {},
   "cell_type": "markdown",
   "id": "22800a13",
   "metadata": {},
   "source": [
    "### Moda e mediana\n",
    "\n",
    "In precedenza abbiamo già incontrato altri due popolari indici di\n",
    "tendenza centrale: la *moda* (*Mo*), ovvero il valore centrale della\n",
    "classe con la frequenza massima (può succedere che una distribuzione\n",
    "abbia più mode; in tal caso si dice *multimodale* e questo operatore\n",
    "perde il suo significato di indice di tendenza centrale) e la *mediana*\n",
    "$\\tilde{x}$.\n",
    "\n",
    "Calcoliamo ora i quantili di ordine 0.10 e 0.90 dei valori BDI-II per\n",
    "i due gruppi di {cite:t}`zetsche_2019future`."
   ]
  },
  {
   "cell_type": "code",
   "execution_count": 12,
   "id": "4fd3e5d9",
   "metadata": {},
   "outputs": [
    {
     "data": {
      "text/html": [
       "<div>\n",
       "<style scoped>\n",
       "    .dataframe tbody tr th:only-of-type {\n",
       "        vertical-align: middle;\n",
       "    }\n",
       "\n",
       "    .dataframe tbody tr th {\n",
       "        vertical-align: top;\n",
       "    }\n",
       "\n",
       "    .dataframe thead tr th {\n",
       "        text-align: left;\n",
       "    }\n",
       "\n",
       "    .dataframe thead tr:last-of-type th {\n",
       "        text-align: right;\n",
       "    }\n",
       "</style>\n",
       "<table border=\"1\" class=\"dataframe\">\n",
       "  <thead>\n",
       "    <tr>\n",
       "      <th></th>\n",
       "      <th colspan=\"2\" halign=\"left\">bdi</th>\n",
       "    </tr>\n",
       "    <tr>\n",
       "      <th></th>\n",
       "      <th>q1</th>\n",
       "      <th>q3</th>\n",
       "    </tr>\n",
       "    <tr>\n",
       "      <th>group</th>\n",
       "      <th></th>\n",
       "      <th></th>\n",
       "    </tr>\n",
       "  </thead>\n",
       "  <tbody>\n",
       "    <tr>\n",
       "      <th>ctl</th>\n",
       "      <td>0.0</td>\n",
       "      <td>4.0</td>\n",
       "    </tr>\n",
       "    <tr>\n",
       "      <th>mdd</th>\n",
       "      <td>23.8</td>\n",
       "      <td>41.2</td>\n",
       "    </tr>\n",
       "  </tbody>\n",
       "</table>\n",
       "</div>"
      ],
      "text/plain": [
       "        bdi      \n",
       "         q1    q3\n",
       "group            \n",
       "ctl     0.0   4.0\n",
       "mdd    23.8  41.2"
      ]
     },
     "execution_count": 12,
     "metadata": {},
     "output_type": "execute_result"
    }
   ],
   "source": [
    "# Create functions to calculate 0.10 and 0.90 quantiles\n",
    "def q1(x):\n",
    "    return x.quantile(0.10)\n",
    "\n",
    "\n",
    "def q3(x):\n",
    "    return x.quantile(0.90)\n",
    "\n",
    "\n",
    "# Calculate quantiles by group\n",
    "vals = {\"bdi\": [q1, q3]}\n",
    "df.groupby(\"group\").aggregate(vals)"
   ]
  },
  {
   "attachments": {},
   "cell_type": "markdown",
   "id": "eaba2869",
   "metadata": {},
   "source": [
    "Si noti che solitamente i software restituiscono un valore *interpolato*\n",
    "del $p$-esimo quantile $q_p$ $(0 < p < 1)$, il quale viene calcolato\n",
    "mediante specifiche procedure. Il risultato fornito dai software,\n",
    "dunque, non sarà identico a quello trovato utilizzando la definizione\n",
    "non interpolata di quantile che abbiamo presentato in precedenza. Se,\n",
    "per qualche ragione, vogliamo conoscere l’algoritmo usato per la\n",
    "determinazione dei quantili interpolati, dobbiamo leggere la\n",
    "documentazione del software.\n",
    "\n",
    "## Indici di dispersione\n",
    "\n",
    "Le medie e gli indici di posizione descritti in precedenza forniscono\n",
    "delle sintesi dei dati che mettono in evidenza la tendenza centrale\n",
    "delle osservazioni. Tali indici, tuttavia, non considerano un aspetto\n",
    "importante della distribuzione dei dati, ovvero la variabilità dei\n",
    "valori numerici della variabile statistica. È dunque necessario\n",
    "sintetizzare la distribuzione di una variabile statistica oltre che con\n",
    "le misure di posizione anche tramite l’utilizzo di indicatori che\n",
    "valutino la dispersione delle unità statistice.\n",
    "\n",
    "Per un’introduzione “soft” al tema degli indici di dispersione si segua\n",
    "il\n",
    "[link](https://tinystats.github.io/teacups-giraffes-and-statistics/04_variance.html).\n",
    "\n",
    "### Indici basati sull’ordinamento dei dati\n",
    "\n",
    "È possibile calcolare degli indici di variabilità basati\n",
    "sull’ordinamento dei dati. L’indice più ovvio è l’*intervallo di\n",
    "variazione*, ovvero la distanza tra il valore massimo e il valore minimo\n",
    "di una distribuzione di modalità, mentre in precedenza abbiamo già\n",
    "incontrato la *differenza interquartile*. Questi due indici, però, hanno\n",
    "il limite di essere calcolati sulla base di due soli valori della\n",
    "distribuzione ($x_{\\text{max}}$ e $x_{\\text{min}}$, oppure $x_{0.25}$ e\n",
    "$x_{0.75}$). Pertanto non utilizzano tutte le informazioni che sono\n",
    "disponibili. Inoltre, l’intervallo di variazione ha il limite di essere\n",
    "pesantemente influenzato dalla presenza di valori anomali.\n",
    "\n",
    "### Varianza\n",
    "\n",
    "Dati i limiti delle statistiche precedenti è più comune misurare la\n",
    "variabilità di una variabile statistica come la dispersione dei dati\n",
    "attorno ad un indice di tendenza centrale. Infatti, la misura di\n",
    "variabilità di gran lunga più usata per valutare la variabilità di una\n",
    "variabile statistica è senza dubbio la varianza. La varianza\n",
    "\n",
    "$$\n",
    "\\begin{equation}\n",
    "S^2 = \\frac{1}{n} \\sum_{i=1}^n (x_i - \\bar{x})^2\n",
    "\\end{equation}\n",
    "$$ (eq-var-descr)\n",
    "\n",
    "è la media dei quadrati degli scarti $x_i - \\bar{x}$ tra ogni valore e\n",
    "la media della distribuzione.\n",
    "\n",
    "La varianza è una misura di dispersione più complessa di quelle\n",
    "esaminate in precedenza. È appropriata solo nel caso di distribuzioni\n",
    "simmetriche e, anch’essa, è fortemente influenzata dai valori anomali.\n",
    "Inoltre, è espressa in un’unità di misura che è il quadrato dell’unità\n",
    "di misura dei dati originari e quindi ad essa non può essere assegnata\n",
    "un’interpretazione intuitiva.\n",
    "\n",
    "Calcoliamo la varianza dei valori BDI-II per i dati di {cite:t}`zetsche_2019future`. Applicando l'eq. {eq}`eq-var-descr`, per tutto il campione abbiamo"
   ]
  },
  {
   "cell_type": "code",
   "execution_count": 27,
   "id": "d84b8699",
   "metadata": {},
   "outputs": [
    {
     "data": {
      "text/plain": [
       "236.23875114784224"
      ]
     },
     "execution_count": 27,
     "metadata": {},
     "output_type": "execute_result"
    }
   ],
   "source": [
    "sum((df[\"bdi\"] - np.mean(df[\"bdi\"])) ** 2) / len(df[\"bdi\"])"
   ]
  },
  {
   "attachments": {},
   "cell_type": "markdown",
   "id": "36e3a57a",
   "metadata": {},
   "source": [
    "Più semplicemente, possiamo usare la funzione `np.var()`:"
   ]
  },
  {
   "cell_type": "code",
   "execution_count": 29,
   "id": "16f5f8da",
   "metadata": {},
   "outputs": [
    {
     "data": {
      "text/plain": [
       "236.23875114784207"
      ]
     },
     "execution_count": 29,
     "metadata": {},
     "output_type": "execute_result"
    }
   ],
   "source": [
    "np.var(df[\"bdi\"])"
   ]
  },
  {
   "attachments": {},
   "cell_type": "markdown",
   "id": "67e69cb3",
   "metadata": {},
   "source": [
    "#### Stima della varianza della popolazione\n",
    "\n",
    "Si noti il denominatore della formula della varianza. Nell'eq.{eq}`eq-var-descr`\n",
    "ho usato $n$ (l’ampiezza campionaria, ovvero il numero di osservazioni\n",
    "del campione). In questo modo ottengo la varianza quale *statistica\n",
    "descrittiva* del campione. In alternativa, è possibile usare $n-1$ al\n",
    "denominatore:\n",
    "\n",
    "$$\n",
    "\\begin{equation}\n",
    "s^2 = \\frac{1}{n-1} \\sum_{i=1}^n (x_i - \\bar{x})^2\n",
    "\\end{equation}\n",
    "$$ (eq-var-stimatore)\n",
    "\n",
    "In questo secondo modo si trova la varianza quale *stimatore* della\n",
    "varianza della popolazione. Si può dimostrare che l’@eq-var-stimatore\n",
    "fornisce una stima corretta (ovvero, non distorta) della varianza della\n",
    "popolazione da cui abbiamo ottenuto il campione, mentre invece la\n",
    "@eq-var-descr fornisce (in media) una stima troppo piccola della\n",
    "varianza della popolazione. Si presti attenzione alla notazione: $S^2$\n",
    "per la varianza quale statistica descrittiva, $s^2$ per la varianza\n",
    "quale stimatore.\n",
    "\n",
    "Per illustrare il punto precedente svolgiamo una simulazione."
   ]
  },
  {
   "attachments": {},
   "cell_type": "markdown",
   "id": "faef88de",
   "metadata": {},
   "source": [
    "Estraggo un campione casuale di 10 osservazioni dalla popolazione del\n",
    "quoziente di intelligenza."
   ]
  },
  {
   "cell_type": "code",
   "execution_count": 23,
   "id": "b9375641",
   "metadata": {},
   "outputs": [
    {
     "name": "stdout",
     "output_type": "stream",
     "text": [
      "[ 92.05330378  92.73039294  95.77077133  82.70158264  86.92719913\n",
      "  93.32300637  96.81037032 106.61621404  93.92996301 117.29994044]\n"
     ]
    }
   ],
   "source": [
    "x = rng.normal(loc=100, scale=15, size=10)\n",
    "print(x)"
   ]
  },
  {
   "attachments": {},
   "cell_type": "markdown",
   "id": "a379691f",
   "metadata": {},
   "source": [
    "Calcolo la varianza con $n$ al denominatore. Si noti che la “vera”\n",
    "varianza del quoziente di intelligenza è $15^2$ = 225."
   ]
  },
  {
   "cell_type": "code",
   "execution_count": 12,
   "id": "ca74a27b",
   "metadata": {},
   "outputs": [
    {
     "data": {
      "text/plain": [
       "82.85077945332272"
      ]
     },
     "execution_count": 12,
     "metadata": {},
     "output_type": "execute_result"
    }
   ],
   "source": [
    "np.var(x)"
   ]
  },
  {
   "attachments": {},
   "cell_type": "markdown",
   "id": "5c5a3294",
   "metadata": {},
   "source": [
    "Consideriamo ora 10 campioni casuali del QI."
   ]
  },
  {
   "cell_type": "code",
   "execution_count": 31,
   "id": "a076381c",
   "metadata": {},
   "outputs": [],
   "source": [
    "mu = 100\n",
    "sigma = 15\n",
    "size = 4\n",
    "niter = 10\n",
    "random_samples = []\n",
    "\n",
    "for i in range(niter):\n",
    "    one_sample = rng.normal(loc=mu, scale=sigma, size=size)\n",
    "    random_samples.append(one_sample)"
   ]
  },
  {
   "attachments": {},
   "cell_type": "markdown",
   "id": "107fd4b2",
   "metadata": {},
   "source": [
    "Il primo campione è"
   ]
  },
  {
   "cell_type": "code",
   "execution_count": 15,
   "id": "a800f254",
   "metadata": {},
   "outputs": [
    {
     "data": {
      "text/plain": [
       "array([ 78.64262445, 118.95592687,  86.94007393,  96.11240148])"
      ]
     },
     "execution_count": 15,
     "metadata": {},
     "output_type": "execute_result"
    }
   ],
   "source": [
    "random_samples[0]"
   ]
  },
  {
   "attachments": {},
   "cell_type": "markdown",
   "id": "d5e1d7b9",
   "metadata": {},
   "source": [
    "Il decimo campione è"
   ]
  },
  {
   "cell_type": "code",
   "execution_count": null,
   "id": "82febd4c",
   "metadata": {},
   "outputs": [],
   "source": [
    "random_samples[9]"
   ]
  },
  {
   "attachments": {},
   "cell_type": "markdown",
   "id": "bc6b8e28",
   "metadata": {},
   "source": [
    "Stampiamo tutti e 10 i campioni."
   ]
  },
  {
   "cell_type": "code",
   "execution_count": 16,
   "id": "642d8f4c",
   "metadata": {},
   "outputs": [
    {
     "data": {
      "text/plain": [
       "array([[ 78.64262445, 118.95592687,  86.94007393,  96.11240148],\n",
       "       [ 98.86985039,  88.88673022,  79.48310947, 109.73339203],\n",
       "       [105.4158717 ,  70.70705405, 135.21114482, 114.52745359],\n",
       "       [ 88.60919229, 113.53297411,  92.9957024 ,  99.08965722],\n",
       "       [111.83266517,  81.149978  , 108.63786272, 120.98468492],\n",
       "       [119.83447091,  95.50452227, 113.54379012,  75.67625899],\n",
       "       [ 97.62716109, 106.74225898,  79.84598391,  98.77468614],\n",
       "       [125.87109898, 139.2723914 , 111.66042016, 112.42949793],\n",
       "       [ 85.6151753 ,  81.8591757 ,  78.8156198 , 108.12320245],\n",
       "       [111.27909093,  90.11859521,  81.56987522, 103.86336653]])"
      ]
     },
     "execution_count": 16,
     "metadata": {},
     "output_type": "execute_result"
    }
   ],
   "source": [
    "rs = np.array(random_samples)\n",
    "rs"
   ]
  },
  {
   "attachments": {},
   "cell_type": "markdown",
   "id": "f7c06045",
   "metadata": {},
   "source": [
    "Per ciascun campione (ovvero, per ciascuna riga della matrice\n",
    "precedente), calcoliamo la varianza usando $n$ al denominatore.\n",
    "Otteniamo così 10 stime della varianza della popolazione del QI."
   ]
  },
  {
   "cell_type": "code",
   "execution_count": 17,
   "id": "5cf6390c",
   "metadata": {},
   "outputs": [
    {
     "name": "stdout",
     "output_type": "stream",
     "text": [
      "[226.88601335 126.97599599 542.76884186  88.61260836 220.63907623\n",
      " 295.87449185  96.60998017 127.86050222 132.80934429 134.02475959]\n"
     ]
    }
   ],
   "source": [
    "x_var = np.var(rs, axis=1)  # applichiamo la funzione su ciascuna riga\n",
    "print(x_var)"
   ]
  },
  {
   "attachments": {},
   "cell_type": "markdown",
   "id": "d31c42c1",
   "metadata": {},
   "source": [
    "Ripetiamo ora la simulazione usando un numero di iterazioni maggiore."
   ]
  },
  {
   "cell_type": "code",
   "execution_count": 33,
   "id": "e63c1187",
   "metadata": {},
   "outputs": [],
   "source": [
    "mu = 100\n",
    "sigma = 15\n",
    "size = 4\n",
    "niter = 10000\n",
    "random_samples = []\n",
    "\n",
    "for i in range(niter):\n",
    "    one_sample = rng.normal(loc=mu, scale=sigma, size=size)\n",
    "    random_samples.append(one_sample)\n",
    "\n",
    "rs = np.array(random_samples)\n",
    "x_var = np.var(rs, axis=1)"
   ]
  },
  {
   "attachments": {},
   "cell_type": "markdown",
   "id": "4584fb15",
   "metadata": {},
   "source": [
    "Esaminiamo la distribuzione dei valori ottenuti."
   ]
  },
  {
   "cell_type": "code",
   "execution_count": 34,
   "id": "3e3059a8",
   "metadata": {},
   "outputs": [
    {
     "data": {
      "image/png": "[encoded data removed]",
      "text/plain": [
       "<Figure size 500x309.017 with 1 Axes>"
      ]
     },
     "metadata": {},
     "output_type": "display_data"
    }
   ],
   "source": [
    "_ = sns.histplot(x_var)"
   ]
  },
  {
   "attachments": {},
   "cell_type": "markdown",
   "id": "d49804a4",
   "metadata": {},
   "source": [
    "La stima più verosimile della varianza del QI è dato dalla media di\n",
    "questa distribuzione."
   ]
  },
  {
   "cell_type": "code",
   "execution_count": 35,
   "id": "c871ead1",
   "metadata": {},
   "outputs": [
    {
     "data": {
      "text/plain": [
       "168.30207939405307"
      ]
     },
     "execution_count": 35,
     "metadata": {},
     "output_type": "execute_result"
    }
   ],
   "source": [
    "np.mean(x_var)"
   ]
  },
  {
   "attachments": {},
   "cell_type": "markdown",
   "id": "cfa0fef7",
   "metadata": {},
   "source": [
    "Si noti che il valore medio della stima della varianza ottenuta con\n",
    "l'eq.{eq}`eq-var-descr` è troppo piccolo rispetto al valore corretto di\n",
    "$15^2 = 225$. Ripeto ora la simulazione usando la formula della varianza con $n-1$ al\n",
    "denominatore."
   ]
  },
  {
   "cell_type": "code",
   "execution_count": 50,
   "id": "68e19e67",
   "metadata": {},
   "outputs": [
    {
     "data": {
      "text/plain": [
       "222.76145265731117"
      ]
     },
     "execution_count": 50,
     "metadata": {},
     "output_type": "execute_result"
    }
   ],
   "source": [
    "mu = 100\n",
    "sigma = 15\n",
    "size = 4\n",
    "niter = 10000\n",
    "random_samples = []\n",
    "\n",
    "for i in range(niter):\n",
    "    one_sample = rng.normal(loc=mu, scale=sigma, size=size)\n",
    "    random_samples.append(one_sample)\n",
    "\n",
    "rs = np.array(random_samples)\n",
    "x_var = np.var(rs, ddof=1, axis=1)\n",
    "\n",
    "np.mean(x_var)"
   ]
  },
  {
   "attachments": {},
   "cell_type": "markdown",
   "id": "919df257",
   "metadata": {},
   "source": [
    "In questo secondo caso, il *valore atteso* della stima della varianza\n",
    "trovata con $n-1$ al denominatore è molto simile al valore corretto di\n",
    "225.\n",
    "\n",
    "### Precisione\n",
    "\n",
    "Si definisce *precisione* l’inverso della varianza:\n",
    "\n",
    "$$\n",
    "\\tau = \\frac{1}{\\sigma^2}.\n",
    "$$ (eq-precision)\n",
    "\n",
    "Alcuni ritengono che la precisione sia più “intuitiva” della varianza\n",
    "perché dice quanto sono concentrati i valori attorno alla media\n",
    "piuttosto che quanto sono dispersi. In altri termini, si potrebbe\n",
    "argomentare che siamo più interessati a quanto sia precisa una\n",
    "misurazione piuttosto che a quanto sia imprecisa. Più sono dispersi i\n",
    "valori attorno alla media (alta varianza), meno sono precisi (poca\n",
    "precisione); minore è la varianza, maggiore è la precisione.\n",
    "\n",
    "La precisione è uno dei due parametri naturali della distribuzione\n",
    "gaussiana. Nei termini della @eq-precision, la distribuzione gaussiana\n",
    "(si veda il Capitolo @distr-rv-cont) può essere espressa nel modo\n",
    "seguente\n",
    "\n",
    "$$\n",
    "{\\displaystyle f(y)=\\sqrt{\\frac{\\tau}{2\\pi}} e^{-{\\frac {1}{2}}\\tau\\left({y-\\mu }\\right)^{2}}},\n",
    "$$\n",
    "\n",
    "anziché come\n",
    "\n",
    "$$\n",
    "{\\displaystyle f(y)={\\frac {1}{\\sigma {\\sqrt {2\\pi }}}}e^{-{\\frac {1}{2}}\\left({\\frac {y-\\mu }{\\sigma }}\\right)^{2}}}.\n",
    "$$\n",
    "\n",
    "### Deviazione standard\n",
    "\n",
    "Dato che l’unità di misura della varianza coincide con il quadrato\n",
    "dell’unità di misura dei dati, la varianza è difficile da interpretare.\n",
    "Questo problema si può risolvere prendendo la radice quadrata della\n",
    "varianza, ottenendo così una misura espressa nell’unità di misura\n",
    "originaria dei dati. Una tale misura si chiama *deviazione standard* (o\n",
    "*scarto quadratico medio*, o *scarto tipo*)[1]:\n",
    "\n",
    "$$\n",
    "s^2 = \\sqrt{(n-1)^{-1} \\sum_{i=1}^n (x_i - \\bar{x})^2}\n",
    "$$ (eq-sd-stimatore)\n",
    "\n",
    "Quando tutte le osservazioni sono uguali, $s = 0$, altrimenti $s > 0$.\n",
    "\n",
    "```{admonition} Nota\n",
    "Il termine *standard deviation* è stato introdotto in statistica da\n",
    "Pearson nel 1894 assieme alla lettera greca $\\sigma$ che lo rappresenta.\n",
    "Il termine italiano “deviazione standard” ne è la traduzione più\n",
    "utilizzata nel linguaggio comune; il termine dell’[Ente Nazionale\n",
    "Italiano di\n",
    "Unificazione](https://it.wikipedia.org/wiki/Ente_nazionale_italiano_di_unificazione)\n",
    "è tuttavia “scarto tipo”, definito come la radice quadrata positiva\n",
    "della varianza.\n",
    "```\n",
    "\n",
    "Come nel caso della varianza, anche la deviazione standard $s$ dovrebbe\n",
    "essere usata soltanto quando la media è adeguata per descrivere il\n",
    "centro della distribuzione, ovvero, nel caso di distribuzioni\n",
    "simmetriche. Come nel caso della media $\\bar{x}$, anche la deviazione\n",
    "standard è fortemente influenzata dai dati anomali, ovvero dalla\n",
    "presenza di uno o di pochi dati che sono molto più distanti dalla media\n",
    "rispetto agli altri valori della distribuzione.\n",
    "\n",
    "Per fare un esempio, calcoliamo la deviazione standard per i valori BDI-II del campione di\n",
    "{cite:t}`zetsche_2019future`.\n",
    "\n",
    "Applicando l'eq. {eq}`eq-sd-stimatore`, per tutto il campione abbiamo"
   ]
  },
  {
   "cell_type": "code",
   "execution_count": 51,
   "id": "39892d7a",
   "metadata": {},
   "outputs": [
    {
     "data": {
      "text/plain": [
       "15.370060219395436"
      ]
     },
     "execution_count": 51,
     "metadata": {},
     "output_type": "execute_result"
    }
   ],
   "source": [
    "np.std(df.bdi)"
   ]
  },
  {
   "attachments": {},
   "cell_type": "markdown",
   "id": "b90a6b95",
   "metadata": {},
   "source": [
    "Per ciascun gruppo, abbiamo:"
   ]
  },
  {
   "cell_type": "code",
   "execution_count": 52,
   "id": "a8824979",
   "metadata": {},
   "outputs": [
    {
     "data": {
      "text/plain": [
       "group\n",
       "ctl    2.707427\n",
       "mdd    6.606858\n",
       "Name: bdi, dtype: float64"
      ]
     },
     "execution_count": 52,
     "metadata": {},
     "output_type": "execute_result"
    }
   ],
   "source": [
    "df.groupby(\"group\")[\"bdi\"].std()"
   ]
  },
  {
   "attachments": {},
   "cell_type": "markdown",
   "id": "2be26e5d",
   "metadata": {},
   "source": [
    "#### Interpretazione\n",
    "\n",
    "Alla deviazione standard può essere assegnata una semplice\n",
    "interpretazione: la deviazione standard è *simile* (ma non identica)\n",
    "allo scarto semplice medio campionario, ovvero alla media aritmetica dei\n",
    "valori assoluti degli scarti dalla media. La deviazione standard ci\n",
    "dice, dunque, quanto sono distanti, in media, le singole osservazioni\n",
    "dal centro della distribuzione. Un’interpretazione più precisa del\n",
    "significato dello scarto tipo è fornita nel paragrafo successivo.\n",
    "\n",
    "Si verifichi l’interpretazione della deviazione standard fornita sopra\n",
    "usando i valori BDI-II del campione di {cite:t}`zetsche_2019future`.\n",
    "\n",
    "Per questi dati la deviazione standard è"
   ]
  },
  {
   "cell_type": "code",
   "execution_count": 53,
   "id": "ba8c9505",
   "metadata": {},
   "outputs": [
    {
     "data": {
      "text/plain": [
       "15.370060219395436"
      ]
     },
     "execution_count": 53,
     "metadata": {},
     "output_type": "execute_result"
    }
   ],
   "source": [
    "np.std(df.bdi)"
   ]
  },
  {
   "attachments": {},
   "cell_type": "markdown",
   "id": "0ed80166",
   "metadata": {},
   "source": [
    "Lo scarto semplice medio campionario è"
   ]
  },
  {
   "cell_type": "code",
   "execution_count": 54,
   "id": "da48339f",
   "metadata": {},
   "outputs": [
    {
     "data": {
      "text/plain": [
       "14.539944903581269"
      ]
     },
     "execution_count": 54,
     "metadata": {},
     "output_type": "execute_result"
    }
   ],
   "source": [
    "np.mean(np.abs(df.bdi - np.mean(df.bdi)))"
   ]
  },
  {
   "attachments": {},
   "cell_type": "markdown",
   "id": "913bf080",
   "metadata": {},
   "source": [
    "### Deviazione mediana assoluta\n",
    "\n",
    "Una misura robusta della dispersione statistica di un campione è la\n",
    "*deviazione mediana assoluta* (*Median Absolute Deviation*, MAD)\n",
    "definita come la mediana del valore assoluto delle deviazioni dei dati\n",
    "dalla mediana, ovvero:\n",
    "\n",
    "$$\n",
    "{\\displaystyle \\operatorname {MAD} =\\operatorname {median} \\left(\\ \\left|X_{i}-\\operatorname {median} (X)\\right|\\ \\right)}\n",
    "$$ (eq-mad-def)\n",
    "\n",
    "Nel caso di una distribuzione dei dati unimodale simmetrica di forma\n",
    "campanulare (ovvero, normale) si ha che\n",
    "\n",
    "$$\n",
    "{\\displaystyle \\text{deviazione standard} \\approx 1.4826\\ \\operatorname {MAD} .\\,}\n",
    "$$\n",
    "\n",
    "Pertanto, solitamente i software restituiscono il valore MAD\n",
    "moltiplicato per una tale costante.\n",
    "\n",
    "I dati di {cite:t}`zetsche_2019future` seguono una distribuzione bimodale, per cui\n",
    "il vincolo precedente non si applica. Verifichiamo dunque il principio\n",
    "precedente usando un campione di dati estratto da una popolazione\n",
    "normale. Usiamo, ad esempio, la distribuzione $\\mathcal{N}(100, 15)$:"
   ]
  },
  {
   "cell_type": "code",
   "execution_count": 56,
   "id": "3fe5bc55",
   "metadata": {},
   "outputs": [
    {
     "data": {
      "text/plain": [
       "14.944719064806087"
      ]
     },
     "execution_count": 56,
     "metadata": {},
     "output_type": "execute_result"
    }
   ],
   "source": [
    "x = np.random.normal(loc=100, scale=15, size=10000)\n",
    "1.4826 * np.median(np.abs(x - np.median(x)))"
   ]
  },
  {
   "attachments": {},
   "cell_type": "markdown",
   "id": "03afb420-7657-4a26-be29-8d760c24719a",
   "metadata": {},
   "source": [
    "### Indici di variabilità relativi\n",
    "\n",
    "A volte può essere interessante effettuare un confronto fra due misure\n",
    "di variabilità di grandezze incommensurabili, ovvero di caratteri\n",
    "rilevati mediante differenti unità di misura. In questi casi, le misure\n",
    "di variabilità precedentemente descritte si rivelano inadeguate in\n",
    "quanto dipendono dall’unità di misura adottata. Diventa dunque\n",
    "necessario ricorrere a particolari numeri adimensionali detti *indici\n",
    "relativi di variabilità*. Il più importante di tali indici è il\n",
    "*coefficiente di variazione*, ovvero il numero puro\n",
    "\n",
    "$$\n",
    "C_v = \\frac{\\sigma}{\\bar{x}}\n",
    "$$ (eq-cv-def)\n",
    "\n",
    "ottenuto dal rapporto tra la deviazione standard e la media dei dati.\n",
    "\n",
    "Un altro indice relativo di variabilità è la differenza interquartile\n",
    "rapportata al primo quartile, oppure al terzo quartile, oppure alla\n",
    "mediana, cioè:\n",
    "\n",
    "$$\n",
    "\\frac{x_{0.75} - x_{0.25}}{x_{0.25}}, \\qquad \\frac{x_{0.75} - x_{0.25}}{x_{0.75}}, \\qquad \\frac{x_{0.75} - x_{0.25}}{x_{0.50}}.\n",
    "$$\n",
    "\n",
    "## Commenti e considerazioni finali\n",
    "\n",
    "Le statistiche descrittive ci forniscono degli indici sintetici che\n",
    "riassumono i dati, ovvero le nostre misurazioni dell’intera popolazione\n",
    "o di un campione estratto da una popolazione. Le statistiche descrittive\n",
    "comprendono gli indici di tendenza centrale e gli indici di dispersione.\n",
    "Gli indici di tendenza centrale includono la media, la mediana e la\n",
    "moda, mentre gli indici di dispersione includono la deviazione standard,\n",
    "la varianza, la curtosi e l’asimmetria (questi ultimi due indici sono\n",
    "definiti in relazione alla distribuzione Normale e verranno dunque\n",
    "discussi in quel contesto).\n",
    "\n",
    "## Watermark"
   ]
  },
  {
   "cell_type": "code",
   "execution_count": null,
   "id": "baa663c8",
   "metadata": {},
   "outputs": [],
   "source": [
    "%load_ext watermark\n",
    "%watermark -n -u -v -iv -w -p pytensor"
   ]
  }
 ],
 "metadata": {
  "kernelspec": {
   "display_name": "pymc",
   "language": "python",
   "name": "python3"
  },
  "language_info": {
   "codemirror_mode": {
    "name": "ipython",
    "version": 3
   },
   "file_extension": ".py",
   "mimetype": "text/x-python",
   "name": "python",
   "nbconvert_exporter": "python",
   "pygments_lexer": "ipython3",
   "version": "3.10.8 (main, Nov 24 2022, 08:09:04) [Clang 14.0.6 ]"
  },
  "vscode": {
   "interpreter": {
    "hash": "030ae53b1150d0ca6a72bb4a7a0454cbd9dab0eb2818ba119bbca0111e46e432"
   }
  }
 },
 "nbformat": 4,
 "nbformat_minor": 5
}
