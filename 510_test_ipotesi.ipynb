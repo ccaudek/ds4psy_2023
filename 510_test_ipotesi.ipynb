{
 "cells": [
  {
   "attachments": {},
   "cell_type": "markdown",
   "metadata": {},
   "source": [
    "(statistical-significance-notebook)=\n",
    "# Significatività statistica"
   ]
  },
  {
   "attachments": {},
   "cell_type": "markdown",
   "metadata": {},
   "source": [
    "Una regola decisionale comunemente usata, ma che la comunità statistica fortemente sconsiglia, è quella di considerare un risultato come stabile o reale se è “statisticamente significativo” e di considerare i risultati “non significativi” come rumorosi e da trattare con scetticismo. Per i motivi discussi in questo capitolo, è preferibile non concentrarsi sulla significatività statistica, ma il concetto è abbastanza importante nella statistica applicata da meritare di essere trattato qui.\n",
    "\n",
    "La significatività statistica è convenzionalmente definita come un $p$-valore inferiore a 0.05, relativo a qualche ipotesi nulla o valore pre-specificato che indicherebbe l’assenza di effetto, come discusso di seguito nel contesto del test di ipotesi. Ad esempio, nel capitolo precedente si è fatto riferimento all'esempio del QI, nel quale si può dire che i risultati sperimentali vengono considerati \"statisticamente significativi\" se la media campionaria è distante di almeno due errori standard da un valore atteso (ad esempio, 100). Al contrario, se il risultato sperimentale non si discosta in modo significativo dal valore atteso, viene considerato come qualcosa che \"non raggiunge la significatività statistica\".\n",
    "\n",
    "Più in generale, possiamo dire che, nel linguaggio frequentista, una stima si dice “non statisticamente significativa” se il suo valore osservato può essere ragionevolmente spiegato con una semplice variazione casuale.\n",
    "\n",
    "Il ragionamento frequentista si basa sull'idea che la probabilità di un evento sia data dalla sua frequenza relativa di occorrenza in una serie di eventi simili, all'aumentare del numero di eventi. Un esempio tipico è quello in cui vogliamo stabilire se una moneta è bilanciata o meno. Supponiamo di lanciare la moneta 20 volte, ottenendo 8 volte testa e 12 volte croce. L'obiettivo è determinare se questa proporzione di successi (testa) sia significativamente diversa dalla proporzione attesa (0.5) sotto l'ipotesi nulla di equilibrio.\n",
    "\n",
    "Per fare ciò, si calcola l'errore standard della proporzione di successi, che rappresenta la variabilità della statistica nell'universo dei campioni. Questo errore standard si calcola come la radice quadrata del prodotto tra la proporzione e la sua complementare, diviso per la dimensione del campione. Nel nostro esempio, l'errore standard è pari a 0.11. Si costruisce quindi un intervallo di confidenza al 95% per la proporzione di successi, che va da 0.18 a 0.62, aggiungendo e sottraendo due volte l'errore standard dalla proporzione osservata di 0.4.\n",
    "\n",
    "Se la proporzione di successi osservata fosse al di fuori di questo intervallo di confidenza, si potrebbe rifiutare l'ipotesi nulla di equilibrio e concludere che la differenza tra la proporzione osservata e quella attesa è \"statisticamente significativa\". Tuttavia, nel nostro esempio, la proporzione osservata si trova all'interno dell'intervallo di confidenza e quindi non possiamo rifiutare l'ipotesi nulla di equilibrio. In altre parole, si conclude che non c'è evidenza sufficiente per affermare che la moneta non sia equilibrata, sulla base di questo campione di 20 lanci.\n",
    "\n",
    "## Un esempio motivante\n",
    "\n",
    "Per approfondire il concetto di significatività statistica, prendiamo in considerazione uno studio condotto da {cite}`mehr_melodies` sul tema della musica. L'ascolto della musica è un'attività presente in tutte le fasi della vita, anche nell'infanzia, e può trasmettere informazioni relative all'appartenenza sociale, ad esempio attraverso le canzoni popolari. Gli autori si sono chiesti se la musica sia in grado di trasmettere messaggi di tipo sociale anche ai bambini molto piccoli, in particolare se i bambini di 5 mesi manifestassero una preferenza per individui sconosciuti che cantavano loro una canzone familiare, rispetto ad altri individui sconosciuti che cantavano una canzone simile, con le stesse parole e lo stesso ritmo, ma con una diversa melodia.\n",
    "\n",
    "{cite}`mehr_melodies` hanno scoperto che, in effetti, la preferenza dei bambini si manifestava solo quando la canzone test veniva cantata dai loro genitori nella fase di familiarizzazione, ma non quando la stessa canzone veniva cantata da un estraneo. Secondo gli autori, ciò dimostra che il significato sociale è l'elemento cruciale della preferenza dei bambini, non solo la familiarità con la canzone.\n",
    "\n",
    "### Domanda della ricerca e ipotesi statistiche\n",
    "\n",
    "La ricerca condotta da {cite}`mehr_melodies` si è focalizzata sull'indagine della capacità della musica di trasmettere messaggi sociali ai bambini molto piccoli. Tuttavia, l'ipotesi principale, così come molte altre ipotesi psicologiche, non possono essere valutate direttamente in termini quantitativi. Invece, i ricercatori devono formulare ipotesi statistiche che, pur non coincidendo con l'ipotesi della ricerca, possono essere esaminate in termini probabilistici.\n",
    "\n",
    "Per comprendere questo punto, prendiamo nuovamente in considerazione l'esempio dell'esperimento condotto da {cite}`mehr_melodies` sui bambini. Dopo la fase di familiarizzazione con la canzone test, i bambini partecipanti sono stati sottoposti a un esame in laboratorio, durante il quale sono stati mostrati loro due video-registrazioni. Il primo video mostrava un estraneo che cantava la canzone test, mentre il secondo mostrava un secondo individuo che cantava una canzone simile ma non familiare ai bambini. I ricercatori hanno misurato il tempo di fissazione dei bambini su ciascuna delle due video-registrazioni. Nel primo esperimento, la variabile dipendente era la media delle proporzioni di tempo di fissazione rivolta al video \"familiare\" rispetto al tempo di fissazione totale.\n",
    "\n",
    "Poiché nell'esperimento di {cite}`mehr_melodies`, così come in generale negli esperimenti psicologici, non è possibile valutare direttamente l'ipotesi della ricerca, è necessario stabilire una connessione tra l'ipotesi della ricerca e l'ipotesi statistica. Nel caso presente, ci sono tre possibili scenari da considerare:\n",
    "\n",
    "1. Se i bambini non mostrano alcuna preferenza tra i due tipi di video-registrazione, la media delle proporzioni di tempo di fissazione per la popolazione sarà uguale a $\\mu = 0,5$, in quanto i tempi di fissazione saranno uguali in media per le due video-registrazioni.\n",
    "2. Se gli autori della ricerca hanno ragione, i bambini preferiranno guardare il video con la canzone familiare rispetto a quello con la canzone non familiare. In questo caso, l'ipotesi statistica sarà $\\mu > 0,5$, dove $\\mu = 0,5$ rappresenta il livello di probabilità casuale.\n",
    "3. Una terza possibilità è che i bambini siano maggiormente attratti da una melodia non familiare. Questa ipotesi, contraria a quanto suggerito dagli autori della ricerca, si tradurrebbe nell'ipotesi statistica $\\mu < 0,5$.\n",
    "\n",
    "Le tre ipotesi precedenti sono esempi di ipotesi statistiche, che sono delle affermazioni riguardanti i valori di un parametro di un modello statistico. Nel caso dell'esperimento di {cite}`mehr_melodies`, il modello statistico riguarda la distribuzione delle proporzioni dei tempi di fissazione di una popolazione virtuale di infiniti bambini di sei mesi di età. Ogni bambino avrà una proporzione di tempi di fissazione diversa dagli altri bambini. Il modello statistico descritto dai ricercatori rappresenta la distribuzione dei possibili valori della proporzione del tempo di fissazione nei confronti del video \"familiare\". I dati raccolti dagli sperimentatori corrispondono alla media della proporzione del tempo di fissazione del video \"familiare\" e possono essere messi in relazione con il modello statistico.\n",
    "\n",
    "### Domanda della ricerca e ipotesi statistiche\n",
    "\n",
    "La distinzione tra ipotesi della ricerca e ipotesi statistiche è fondamentale nella procedura di test di ipotesi. L'ipotesi della ricerca è un'affermazione sulla natura dei fenomeni psicologici che si vuole testare, mentre l'ipotesi statistica riguarda il modello generativo dei dati, ovvero le caratteristiche della popolazione. Nel caso dell'esperimento di Mehr e colleghi, l'ipotesi della ricerca è che le preferenze sociali dei bambini siano influenzate dalla musica e, in particolare, dalla familiarità con i materiali musicali. L'ipotesi statistica, invece, è che la proporzione media del tempo di fissazione dei bambini nei confronti del video \"familiare\" sia maggiore di 0.5.\n",
    "\n",
    "I test di ipotesi vengono applicati alle ipotesi statistiche, non alle ipotesi della ricerca. Ciò significa che se l'esperimento non viene condotto nella maniera appropriata, il collegamento tra l'ipotesi statistica e la domanda della ricerca può essere spezzato. Ad esempio, se l'attore che canta la melodia familiare assomiglia ad uno dei genitori del bambino, mentre l'altro attore ha un aspetto molto diverso, allora potrebbe essere facile trovare evidenze a supporto dell'ipotesi statistica secondo cui la proporzione media del tempo di fissazione dei bambini nei confronti del video \"familiare\" è maggiore di 0.5, ma ciò non avrebbe nulla a che fare con la domanda della ricerca.\n",
    "\n",
    "## Ipotesi nulla e ipotesi alternativa\n",
    "\n",
    "Fino a qui il ragionamento è stato semplice: il ricercatore ha un’ipotesi a proposito dei fenomeni psicologici e a tale ipotesi di ricerca corrisponde un’ipotesi statistica che riguarda il meccanismo generativo dei dati. Se il fenomeno psicologico possiede le proprietà suggerite dall’ipotesi della ricerca, allora il ricercatore può aspettarsi che i dati osservati abbiano alcune specifiche caratteristiche. A questo punto, però, il ragionamento diventa contro-intuitivo perché non è possibile verificare direttamente l’ipotesi statistica che corrisponde alla domanda della ricerca.\n",
    "\n",
    "### Apagogia\n",
    "\n",
    "In linea di principio, non è possibile dimostrare direttamente la verità di una proposizione. Tuttavia, possiamo dimostrare la sua verità in modo indiretto, ovvero provando la falsità della sua proposizione complementare.\n",
    "\n",
    "L’esempio classico è il seguente. Consideriamo la seguente proposizione: “Tutti i cigni sono bianchi” (questo è l’esempio ornitologico preferito da Popper). L’osservazione di un numero qualsiasi di cigni bianchi non è sufficiente a dimostrare la verità di questa proposizione -- infatti, ci potrebbe essere da qualche parte un cigno non bianco che non abbiamo osservato (e infatti c'è). D’altra parte, invece, l’osservazione di un solo cigno che non sia bianco (ovvero, per esempio, l’osservazione di un cigno nero proveniente dall’Australia) può falsificare la proposizione considerata. Questa è la logica del falsificazionismo di Popper.\n",
    "\n",
    "Questo modo di pensare è stato trasferito nella procedura di test di ipotesi di stampo frequentista. Dato che non possiamo dimostrare vera l’ipotesi statistica associata alla domanda della ricerca, seguiamo il percorso opposto. Ovvero, ci poniamo l’obiettivo di dimostrare falso l’evento complementare a quello specificato dall’ipotesi statistica associata alla domanda della ricerca. L’ipotesi statistica che vorremmo falsificare si chiama “ipotesi nulla” e viene denotata con $H_0$. Nel caso dell’esempio che stiamo discutendo, l’ipotesi nulla è: $\\mu \\leq 0.5$. Si noti che l’ipotesi nulla include tutte le possibili ipotesi statistiche che si possono formulare (ovvero, $\\mu = 0.5$ e $\\mu < 0.5$), ad eccezione di quella che è associata all’ipotesi della ricerca (ovvero, $\\mu > 0.5$).\n",
    "\n",
    "In pratica, ciò che stiamo facendo è dividere tutti i possibili valori di $\\pi$ in due gruppi: quei valori che sono coerenti con l’ipotesi della ricerca (ovvero, i valori che specificano l’ipotesi alternativa, denotata con $H_1$) e quei valori che non sono coerenti con l’ipotesi della ricerca (ovvero, i valori che specificano l’ipotesi nulla).\n",
    "\n",
    "Avendo detto questo, la cosa importante da riconoscere è che l’obiettivo di un test di ipotesi frequentista non è quello di dimostrare che l’ipotesi alternativa è (probabilmente) vera; l’obiettivo è mostrare che l’ipotesi nulla è (probabilmente) falsa. La maggior parte delle persone ritiene che questo modo di ragionare sia piuttosto strano.\n",
    "\n",
    "### La similitudine del processo penale\n",
    "\n",
    "Un test di ipotesi è spesso comparato ad un processo penale, dove l'ipotesi nulla rappresenta l'imputato, il ricercatore il pubblico ministero, e il test statistico il giudice. Così come in un processo penale, anche in un test di ipotesi c'è una presunzione di innocenza, dove l'ipotesi nulla viene considerata vera a meno che il ricercatore non dimostri, con evidenza al di là di ogni ragionevole dubbio, che è falsa. Il ricercatore progetta l'esperimento in modo da massimizzare la possibilità che i dati producano una condanna dell'ipotesi nulla. Il test statistico, rappresentato dal giudice in questa metafora, stabilisce le regole che devono essere seguite per giungere al verdetto e tali regole sono pensate per proteggere l'ipotesi nulla. In particolare, sono studiate per garantire che la probabilità di una condanna sia bassa se l'ipotesi nulla è effettivamente vera. È importante sottolineare che l'ipotesi nulla deve essere protetta, poiché il ricercatore sta cercando di dimostrare che essa è falsa.\n",
    "\n",
    "## Due tipi di errori\n",
    "\n",
    "Prima di entrare nei dettagli su come viene costruito un test statistico è utile capire la logica su cui esso è basato. In precedenza abbiamo paragonato il test di ipotesi nulla ad un processo penale, ma ora dobbiamo essere più espliciti. Idealmente, vorremmo costruire il nostro test in modo da non commettere errori. Sfortunatamente, però, questo non è possibile: a volte il ricercatore è sfortunato e finisce per prendere la decisione sbagliata, anche se adotta un processo decisionale razionale. Ad esempio, può succedere che una moneta venga lanciata 10 volte di fila e produca testa tutte le 10 volte. Ciò sembra fornire una prova molto forte del fatto che la moneta è sbilanciata, ma c’è una possibilità su 1024 che ciò accada *anche se la moneta è equilibrata*. In altre parole, nella vita reale dobbiamo sempre accettare la possibilità che le nostre scelte siano sbagliate, anche quando sembrano ragionevoli. Di conseguenza, l’obiettivo dei test delle ipotesi statistiche non è quello di eliminare completamente gli errori (questo è impossibile), ma di ridurre gli errori al minimo.\n",
    "\n",
    "A questo punto, dobbiamo precisare meglio cosa intendiamo per “errori”. Iniziamo con il rendere esplicito quello che è ovvio: l’ipotesi nulla può essere vera o falsa, e il nostro test ci può condurre a rifiutare l’ipotesi nulla o a non rifiutarla. La decisione di rigettare o non rigettare l’ipotesi nulla ci espone dunque al rischio di commettere uno di due tipi di errore, come indicato nella figura seguente. L’errore di I tipo, denotato con $\\alpha$, è quello che commettiamo se rigettiamo l’ipotesi nulla quando essa è vera; l’errore di II tipo, denotato con $\\beta$, è quello che commettiamo se accettiamo l’ipotesi nulla mentre invece è vera l’ipotesi alternativa.\n",
    "\n",
    "```{image} images/tab_due_errori.png\n",
    ":height: 120px\n",
    ":align: center\n",
    "```\n",
    "\n",
    "### Errore di I tipo: la protezione dei diritti dell’imputato\n",
    "\n",
    "In precedenza abbiamo paragonato il test statistico ad un processo penale. Infatti, un processo penale richiede che si stabilisca la colpevolezza dell’imputato “oltre ogni ragionevole dubbio”. Le regole del processo penale sono state progettate per garantire che non ci sia (quasi) nessuna possibilità di condannare ingiustamente un imputato innocente: il processo penale è progettato (almeno in teoria) per proteggere i diritti dell’imputato. Detto in altri termini, il processo penale non mette sullo stesso piano i due tipi di errore che si possono commettere: punire un innocente o assolvere un colpevole. L’errore che consiste nel punire un innocente viene considerato assai più grave di quello che porta ad assolvere un colpevole.\n",
    "\n",
    "Un test statistico fa praticamente la stessa cosa: i test di ipotesi statistiche sono costruiti in modo tale da controllare la probabilità di un errore di I tipo, con l’obiettivo di mantenerla al di sotto di una certa soglia prefissata. Questa probabilità, denotata con $\\alpha$, viene chiamata “livello di significatività del test”. Usando parole diverse, possiamo dire che un test di ipotesi ha un livello di significatività $\\alpha$ se il tasso di errore di I tipo non è più grande di $\\alpha$. Per convenzione, i ricercatori fanno uso di tre diversi livelli $\\alpha$: 0.05, 0.01 e 0.001.\n",
    "\n",
    "### Errore di II tipo: l’asimmetria del giudizio\n",
    "\n",
    "Che dire del tasso di errore di II tipo? In realtà, vorremmo tenere anche quello sotto controllo e denotiamo la probabilità di un errore di II tipo con $\\beta$. Il livello d’errore $\\beta$ viene raramente discusso ed è molto più comune fare riferimento alla potenza del test, che è la probabilità dell’evento complementare, ovvero la probabilità con cui rifiutiamo l’ipotesi nulla quando è realmente falsa, ovvero $1-\\beta$. Un test viene detto “potente” quando è caratterizzato da un piccolo valore $\\beta$ pur mantenendo il livello $\\alpha$ sotto una piccola soglia di probabilità prefissata.\n",
    "\n",
    "Si noti l’asimmetria qui rivelata: i test di ipotesi sono progettati per garantire che il livello $\\alpha$ sia mantenuto sotto la soglia prefissata, ma non esiste alcuna corrispondente garanzia a proposito di $\\beta$. Sicuramente è preferibile che il tasso di errore di II tipo sia piccolo, e in generale i ricercatori cercano di progettare i loro esperimenti in maniera tale da avere una ragionevole potenza del test ($1 - \\beta$) – questo si ottiene utilizzando un campione sufficientemente grande – ma nella logica della costruzione del test di ipotesi questo aspetto è secondario rispetto alla necessità di controllare il tasso di errore di I tipo.\n",
    "\n",
    "## Come si costruisce un test di ipotesi?\n",
    "\n",
    "Ritorniamo all’esempio relativo allo studio di {cite}`mehr_melodies`. In questo caso, sulla base all’ipotesi della ricerca, l’ipotesi nulla può essere formulata come $H_0: \\mu \\leq 0.5$. Esaminando un campione di 32 bambini di età media pari a 5.6 mesi, {cite}`mehr_melodies` hanno scoperto che, in media, i bambini dirigevano lo sguardo verso il video “familiare” nel 59% del tempo totale di fissazione. Dunque, la media campionaria è $\\bar{X} = 0.59$ Questo è il valore campionario rilevante per il test dell’ipotesi nulla.\n",
    "\n",
    "Ingenuamente, potremmo pensare che, per decidere se $H_0$ sia falsa o meno, sia sufficiente confrontare la proporzione calcolata nel campione con il valore $\\pi$ specificato dall’ipotesi nulla. Nel caso presente, l’ipotesi nulla non specifica un unico valore $\\mu$ ma bensì un intervallo di valori: $[0, 0.5]$. I dati campionari specificano un valore $\\bar{X} = 0.56$, ovvero un valore che non è incluso nell’intervallo specificato da $H_0$. Questo è incoraggiante. Se invece avessimo osservato $\\bar{X} = 0.41$, per esempio, allora non ci sarebbe stato nient’altro da dire: se i dati osservati sono compatibili con $H_0$ non c’è bisogno di eseguire alcun test statistico – abbiamo già trovato la risposta alla domanda della ricerca.\n",
    "\n",
    "### La variabilità campionaria\n",
    "\n",
    "Nel caso dell’esperimento {cite}`mehr_melodies` che stiamo discutendo, $\\bar{X}$ non cade nell’intervallo specificato da $H_0$. Sulla base del valore osservato $\\bar{X} = 0.59$ possiamo dunque concludere che $H_0$ è falsa? Non così presto. Non è sufficiente trovare una differenza $\\bar{X} - \\mu$ nella direzione giusta (cioè positiva, nel nostro caso). È anche necessario tenere in considerazione il fenomeno della *variabilità campionaria*.\n",
    "\n",
    "Infatti, la media $\\bar{X}$ osservata in ogni singolo campione di ampiezza $n=32$ è una variabile aleatoria: in ciascun possibile campione di ampiezza 32 i bambini si comportano in maniera diversa e, di conseguenza, $\\bar{X}$ assumerà un valore diverso da campione a campione. Le statistiche campionarie – nel nostro caso la media $\\bar{X}$ – sono di necessità diverse dai parametri. Ciò a cui noi siamo interessati è la media della popolazione, ovvero $\\mu$, ma sfortunatamente conosciamo solo una sua realizzazione campionaria, ovvero $\\bar{X}$.\n",
    "\n",
    "Risulta dunque chiaro che la nostra decisione rispetto ad $H_0$ non può essere unicamente basata sulla differenza tra $\\bar{X} - \\mu$. Infatti, è ragionevole pensare che, indipendentemente dal fatto che l’ipotesi nulla sia vera o meno, in alcuni campioni la differenza $\\bar{X} - \\mu$ sarà positive mentre in altri campioni sarà negativa. Dobbiamo dunque trovare una procedura che riduca la possibilità di rifiutare $H_0$ *per effetto del caso soltanto*. Possiamo (e dobbiamo) fare di meglio che considerare unicamente la differenza $\\bar{X} - \\mu$.\n",
    "\n",
    "### Le distribuzioni delle statistiche test\n",
    "\n",
    "Il metodo seguito dall’approccio frequentista per affrontare questo problema è quello di costruire la distribuzione della statistica test $\\mathcal{G}_n$, rilevante per il test di $H_0$, *assumendo come vera l’ipotesi nulla*. Questo è il concetto più contro-intuitivo di tutta la procedura di test di ipotesi dell’approccio frequentista. Esaminiamolo più in dettaglio.\n",
    "\n",
    "È ovvio come calcolare la media delle proporzioni del tempo di fissazione in un singolo campione. Il problema è che tale media varia da campione a campione (fenomeno detto della *variabilità campionaria*). L’approccio frequentista affronta il problema di giungere ad una decisione rispetto ad $H_0$ *tenendo in considerazione* la variabilità campionaria nel modo seguente. Il punto di partenza è quello di descrivere le caratteristiche della distribuzione di tutti i possibili valori che la statistica test in esame (nel nostro caso, la media del campione, ovvero $\\bar{X}$) in tutti i infiniti possibili campioni di ampiezza $n$ (nel nostro caso $n$ = 32).\n",
    "\n",
    "È facile capire che, espresso in questi termini, il problema di stabilire quali sono le caratteristiche di tale distribuzione di medie campionarie non è risolvibile. Senza sapere nient’altro, non possiamo sapere come si distribuisce $\\bar{X}$ nell’universo dei campioni. Ricordiamo però che lo scopo della procedura di test statistici dell’approccio frequentista non è quello di verificare l’ipotesi alternativa: questo non è logicamente possibile. Invece, come suggerito dalla similitudine del processo penale all’ipotesi nulla, l’approccio frequentista si pone l’obiettivo di determinare se ci siano indizi sufficienti per “condannare” l’ipotesi nulla, ovvero, per rigettarla.\n",
    "\n",
    "In questa *reductio ad absurdum*, la “presunzione di innocenza” di $H_0$ corrisponde all’idea che dobbiamo assumere come vera l’ipotesi nulla, *fino a prova contraria*. Nell’esempio che stiamo discutendo, assumere come vera l’ipotesi nulla significa assumere che il parametro $\\mu$ (la media della popolazione) sia uguale a 0.5. Sulla base di questa assunzione è possibile costruire la distribuzione delle medie dei campioni di ampiezza 32.\n",
    "\n",
    "Per fare questo, {cite}`mehr_melodies` utilizzano (implicitamente) ad un famoso teorema della teoria della probabilità che possiamo descrivere nel modo seguente. Se estraiamo infiniti campioni di ampiezza 32 da una popolazione gaussiana di media $\\mu = 0.5$, allora le medie standardizzate di tali campioni seguiranno la distribuzione teorica di probabilità chiamata distribuzione $t$ di Student con 32 - 1 = 31 gradi di libertà. Ricordiamo che standardizzare una variabile significa sottrarre dai valori della variabile il suo valore atteso e dividere per la deviazione standard. Si può dimostrare che il valore atteso delle medie dei campioni è uguale alla media della popolazione. Nel caso presente, avremo che \n",
    "\n",
    "$$\n",
    "\\mathbb{E}(\\bar{X}) = \\mu_{\\bar{X}} = \\mu\n",
    "$$ \n",
    "\n",
    "e la standardizzazione si effettua mediante il rapporto \n",
    "\n",
    "$$\n",
    "T = \\frac{\\bar{X} - \\mu}{\\frac{s}{\\sqrt{n}}},\n",
    "$$ \n",
    "\n",
    "dove $\\bar{X}$ è la media del campione (nel nostro caso, 0.56), $s$ è la deviazione standard del campione (gli autori riportano $s$ = 0.179) e $n$ è l’ampiezza del campione (ovvero, $n$ = 32). In altre parole, la teoria della probabilità ci dice che la statistica $T$ si distribuisce come $t$ di Student con $\\nu = 31$ gradi di libertà. Il punto cruciale è che, se assumiamo come vera l’ipotesi nulla che fissa $\\mu = 0.5$, allora la distribuzione della statistica test $T$ risulta completamente determinata.\n",
    "\n",
    "L’approccio frequentista fa uso di un insieme teoremi della teoria della probabilità che descrivono la distribuzione di varie statistiche test. Abbiamo visto sopra la descrizione di un teorema che specifica la distribuzione della statistica test $T$. Un altro teorema specifica la distribuzione della statistica test che corrisponde alla differenze tra le medie di due campioni indipendenti; tale teorema viene utilizzato nella procedura statistica frequentista chiamata test sulla differenza tra le medie di due campioni indipendenti. Un altro teorema riguarda la distribuzione del rapporto tra la stima di una varianza $\\sigma^2$ basata sulla variabilità delle medie di diversi campioni e la stima della stessa varianza basata sulla variabilità entro i campioni; tale teorema sta alla base del test statistico chiamato ANOVA, o Analisi della varianza. Un altro teorema ancora specifica la distribuzione di una proporzione campionaria; tale teorema sta alla base del test statistico frequentista chiamato test di ipotesi per la proporzione. E così via.\n",
    "\n",
    "### Regioni di rifiuto e regioni di non rifiuto\n",
    "\n",
    "Conoscendo la distribuzione dei valori della statistica test (distribuzione che viene determinata *assumendo come vera* $H_0$) diventa poi possibile dividere l’insieme dei valori possibili di $\\mathcal{G}_n$ (il nome che abbiamo assegnato ad una generica statistica test) in due regioni: i valori che ci portano a rigettare $H_0$ (regione di rifiuto) e quelli che non ci consentono di rigettare $H_0$ (regione di non rifiuto). Come facciamo a decidere quanto è grande la regione di rifiuto di $H_0$? È semplice, basta collocare nella regione di rifiuto i valori estremi della statistica test $\\mathcal{G}_n$, ovvero quelli che sarebbe molto improbabile osservare se $H_0$ fosse vera. Questo è l’aspetto cruciale della procedura di test di ipotesi, perché così facendo possiamo definire la regione di rifiuto di $H_0$ come quell’intervallo di valori $\\mathcal{G}_n$ a cui è associata la probabilità $\\alpha$, ovvero la probabilità di commettere un errore di I tipo.\n",
    "\n",
    "### Quando rifiutare l’ipotesi nulla\n",
    "\n",
    "Supponiamo che la figura seguente rappresenti la distribuzione campionaria della statistica test $\\mathcal{G}_n$. \n",
    "\n",
    "```{image} images/test-ipotesi-1.png\n",
    ":height: 230px\n",
    ":align: center\n",
    "```\n",
    "\n",
    "Se i dati producono la statistica test $\\mathcal{G}_n^1$, non possiamo rifiutare l’ipotesi nulla $H_0$. Se invece i dati producono $\\mathcal{G}_n^2$ allora possiamo rifiutare l’ipotesi nulla in favore dell’ipotesi alternativa. Ci sono varie cose da notare.\n",
    "\n",
    "1.  La regione di rifiuto è costituita da valori lontani dal centro della distribuzione campionaria della statistica test, la quale è stata costruita assumendo come vera $H_0$.\n",
    "\n",
    "2.  La regione di rifiuto è situata nelle code della distribuzione. Vedremo in seguito anche degli esempi di regioni di rifiuto unilaterali.\n",
    "\n",
    "3.  In questa discussione, l’ipotesi alternativa non è menzionata. Rifiutiamo o non rifiutiamo $H_0$ basandoci unicamente sulla distribuzione campionaria $f(\\mathcal{G}_n \\mid H_0)$, cioè sulla probabilità della statistica test condizionata all’ipotesi nulla $H_0$. L’ipotesi alternativa $H_1$ viene presa in considerazione quando si sceglie dove posizionare la regione di rifiuto di $H_0$, ma formalmente non gioca alcun ruolo nel rigettare o meno $H_0$.\n",
    "\n",
    "\n",
    "### Specificazione delle regioni di rifiuto\n",
    "\n",
    "L’ipotesi alternativa $H_1$ può assumere forme diverse e ciò conduce a specificazioni diverse della regione di rifiuto $\\mathcal{R}$ di $H_0$. La regione di rifiuto $\\mathcal{R}$ dell’ipotesi nulla corrisponde ai valori collocati agli estremi della distribuzione secondo la direzione dell’ipotesi alternativa $H_1$.\n",
    "\n",
    "-   Se l’ipotesi alternativa è $H_1: \\theta \\neq \\theta_0$ (dove $\\theta$ è un generico parametro e $\\theta_0$ è uno specifico valore del parametro), allora le evidenze coerenti con l’ipotesi alternativa (e che portano al rigetto di $H_0$) sono contenute negli intervalli $[-\\infty, \\theta_0]$ e $[\\theta_0, +\\infty]$.\n",
    "\n",
    "-   Se l’ipotesi alternativa è $H_1: \\theta < \\theta_0$, allora le evidenze coerenti con l’ipotesi alternativa (e che portano al rigetto di $H_0$) sono contenute nell’intervallo $[-\\infty, \\theta_0]$ e l’intera regione di rifiuto $\\mathcal{R}$ è collocata nella coda di sinistra della distribuzione.\n",
    "\n",
    "-   Se l’ipotesi alternativa è $H_1: \\theta > \\theta_0$, allora le evidenze coerenti con l’ipotesi alternativa (e che portano al rigetto di $H_0$) sono contenute nell’intervallo $[\\theta_0, \\infty]$ e l’intera regione di rifiuto $\\mathcal{R}$ è collocata nella coda di destra della distribuzione.\n",
    "\n",
    "Si chiamano *valori critici* i valori che delimitano la regione di rifiuto $\\mathcal{R}$ in un test unilaterale e i valori che delimitano le regioni di rifiuto $\\mathcal{R}$ in un test bilaterale. In un test bidirezionale, i valori critici lasciano in ciascuna delle due code della distribuzione della statistica test una probabilità pari a $\\alpha/2$; in un test unidirezionale lasciano una probabilità pari ad $\\alpha$ in una sola coda. Il risultato di un test si dice *statisticamente significativo* quando il valore della statistica test ricade nella regione di rifiuto $\\mathcal{R}$.\n",
    "\n",
    "Supponiamo che $f(\\mathcal{G}_n \\mid H_0) = \\mathcal{N}(100, 15)$ descriva la distribuzione della statistica test $x$. Supponiamo inoltre che la regione di rifiuto sia posta nella coda di destra e che il livello di significatività sia $\\alpha = 0.05$. Si trovi il valore critico che delimita la regione di rifiuto di $H_0$.\n",
    "\n",
    "Usando `scipy` la risposta è 124.67. "
   ]
  },
  {
   "cell_type": "code",
   "execution_count": 3,
   "metadata": {},
   "outputs": [
    {
     "data": {
      "text/plain": [
       "124.67280440427209"
      ]
     },
     "execution_count": 3,
     "metadata": {},
     "output_type": "execute_result"
    }
   ],
   "source": [
    "from scipy.stats import norm\n",
    "\n",
    "norm.ppf(0.95, 100, 15)"
   ]
  },
  {
   "attachments": {},
   "cell_type": "markdown",
   "metadata": {},
   "source": [
    "La distribuzione $\\mathcal{N}(100, 15)$ è mostrata nella figura seguente. La regione di rifiuto è indicata dall’area ombreggiata.\n",
    "\n",
    "```{image} images/test-ipotesi-2.png\n",
    ":height: 230px\n",
    ":align: center\n",
    "```\n",
    "\n",
    "Supponiamo ora che $f(\\mathcal{G}_n \\mid H_0) = \\mathcal{N}(100, 15)$ descriva la distribuzione della statistica test $\\mathcal{G}_n$. Supponiamo inoltre che la regione di rifiuto sia ora posta nella coda di sinistra e che il livello di significatività sia $\\alpha = 0.01$. In tali condizioni, il valore critico che delimita la regione di rifiuto di $H_0$ è 134.89. "
   ]
  },
  {
   "cell_type": "code",
   "execution_count": 4,
   "metadata": {},
   "outputs": [
    {
     "data": {
      "text/plain": [
       "134.8952181106126"
      ]
     },
     "execution_count": 4,
     "metadata": {},
     "output_type": "execute_result"
    }
   ],
   "source": [
    "norm.ppf(1-0.01, 100, 15)"
   ]
  },
  {
   "attachments": {},
   "cell_type": "markdown",
   "metadata": {},
   "source": [
    "\n",
    "In un ultimo esempio, supponiamo che $f(\\mathcal{G}_n \\mid H_0) = \\mathcal{N}(100, 15)$ descriva la distribuzione della statistica test $\\mathcal{G}_n$. In questo caso, poniamo una la regione di rifiuto bilaterale con un livello di significatività pari a $\\alpha = 0.05$. Troviamo i valori critici che delimitano la regione di rifiuto di $H_0$."
   ]
  },
  {
   "cell_type": "code",
   "execution_count": 13,
   "metadata": {},
   "outputs": [
    {
     "name": "stdout",
     "output_type": "stream",
     "text": [
      "70.60054023189917 129.39945976810083\n"
     ]
    }
   ],
   "source": [
    "l_inf = norm.ppf(0.025, 100, 15)\n",
    "l_sup = norm.ppf(0.975, 100, 15)\n",
    "print(l_inf, l_sup)"
   ]
  },
  {
   "attachments": {},
   "cell_type": "markdown",
   "metadata": {},
   "source": [
    "### La decisione statistica\n",
    "\n",
    "Il processo di decisione statistica viene descritto da von Mises (1964) nel modo seguente:\n",
    "\n",
    "> Controllare (*checking*) o saggiare (*testing*) ha la forma seguente: se il “risultato osservato” ha una ‘piccola’ probabilità subordinatamente all’ipotesi assunta, respingiamo l’ipotesi. (p. 441)\n",
    "\n",
    "Ovviamente l’ipotesi a cui von Mises fa riferimento, la cui validità è solo ipotetica, è l’ipotesi nulla.\n",
    "\n",
    "In pratica, possiamo decidere se rigettare o meno l’ipotesi nulla in due modi: determinando se la statistica test $\\mathcal{G}_n$ cade o meno nella regione di rifiuto (come abbiamo descritto sopra) o confrontando il valore-$p$ con $\\alpha$ – i due metodi sono equivalenti.\n",
    "\n",
    "Il *valore-p* rappresenta la probabilità di osservare un valore della statistica test $\\mathcal{G}_n$ pari a quello effettivamente osservato, o maggiore, quanto l’ipotesi nulla è vera. Se il valore-$p$ è *minore* del livello di significatività $\\alpha$, allora la statistica test cade nella regione di rifiuto di $H_0$ e ciò conduce al rifiuto dell’ipotesi nulla. Tali concetti sono riassunti nella tabella seguente.\n",
    "\n",
    "```{image} images/decisione_statistica.png\n",
    ":height: 200px\n",
    ":align: center\n",
    "```\n",
    "\n",
    "## Potenza del test\n",
    "\n",
    "Ritorniamo ora al concetto di potenza del test. Il livello di significatività e la potenza del test vengono usati per quantificare la qualità dell’inferenza statistica. Idealmente, la procedura di test di ipotesi non dovrebbe giungere alla conclusione sbagliata. Ovvero, non dovrebbe respingere $H_0$ quando essa è vera e dovrebbe respingere $H_0$ in favore dell’alternativa quando $H_1$ è vera. Ma questi sono solo due dei quattro esiti che, in principio, sono possibili, e corrispondono alle probabilità indicate di seguito.\n",
    "\n",
    "```{image} images/potere_statistico.png\n",
    ":height: 140px\n",
    ":align: center\n",
    "```\n",
    "\n",
    "\n",
    "Possiamo pensare a $H_0$ come all’ipotesi che descrive l’evento “nulla di interessante sta succedendo” – ad esempio, “la moneta è bilanciata”, “il trattamento non è migliore del placebo”, ecc. – e pensare ad $H_1$ come al caso contrario, ovvero: “sta accadendo qualcosa di interessante”. Quindi la *potenza del test*, ovvero la probabilità $1 - \\beta$ di rigettare $H_0$ quando essa è falsa, corrisponde alla probabilità di rilevare qualcosa di interessante, quando qualcosa di interessante è effettivamente successo, mentre il *livello di significatività* corrisponde alla probabilità di affermare che qualcosa di interessante si è verificato, quando in realtà non è successo nulla di interessante.\n",
    "\n",
    "Il calcolo della potenza di un test è spesso difficile, perché richiede la conoscenza della distribuzione campionaria di $\\mathcal{G}_n$ quando è vera l’ipotesi alternativa $H_1$. Nella @fig-altopoterestatistico, l’area ombreggiata sotto $f(\\mathcal{G}_n \\mid H_0)$ rappresenta il livello di significatività in un test unilaterale. Ricordiamo che il livello di significatività è la probabilità di rifiutare falsamente l’ipotesi nulla quando essa è vera. Invece, l’area sotto $f(\\mathcal{G}_n \\mid H_1)$ a sinistra della linea verticale che delimita la regione ombreggiata rappresenta la potenza del test, ovvero la probabilità che la statistica del test si trovi nella regione di rifiuto di $H_0$ quando è vera $H_1$. La figura seguente rappresenta il caso in cui la potenza del test è alta.\n",
    "\n",
    "```{image} images/alto_potere_statistico.png\n",
    ":height: 230px\n",
    ":align: center\n",
    "```\n",
    "\n",
    "Nella figura successiva, invece, viene descritta una situazione in cui la potenza del test è bassa. Entrambi i test hanno lo stesso livello di significatività, ma se $f(\\mathcal{G}_n \\mid H_1)$ si sovrappone di molto con $f (\\mathcal{G}_n \\mid H_0)$, allora la potenza del test è bassa.\n",
    "\n",
    "```{image} images/basso_potere_statistico.png\n",
    ":height: 230px\n",
    ":align: center\n",
    "```\n",
    "\n",
    "Tipicamente possiamo aumentare la potenza di un test aumentando la numerosità del campione in maniera tale da diminuire la varianza delle distribuzioni della statistica test condizionate a $H_0$ e ad $H_1$. In un disegno sperimentale è importante determinare in anticipo il numero di prove o dei soggetti necessari per raggiungere la potenza desiderata.\n",
    "\n",
    "## Metodo classico e simulazioni\n",
    "\n",
    "Per concludere questo capitolo aggiungo un esempio proposto da Allen B. Downey. Consideriamo nuovamente la logica del test di ipotesi statistiche che è stata descritta sopra e applichiamola ad un caso molto semplice. Supponiamo di avere osservato 22 risultati \"testa\" in 30 lanci di una moneta. Ci chiediamo se la moneta sia bilanciata (ovvero, se sia plausibile assumere che, per quella specifica moneta, la probabilità di testa è 0.5).\n",
    "\n",
    "La statistica di interesse è il numero di successi in una sequenza di lanci di una moneta. In tali circostanze, l'approccio frequentista si chiede come sia possibile costruire la *distribuzione campionaria* della statistica di interesse. Sappiamo che la risposta è data dalla distribuzione Binomiale, la quale ci dice, dato $p$ = probabilità di successo in una singola prova Bernoulliana, qual è la proabilità di ottenere 0, 1, ..., $n$ successi in $n$ prove Bernoulliane indipendenti. Se poniamo l'ipotesi nulla $p$ = 0.5, allora la distribuzione campionaria della statistica di interesse diventa:\n",
    "\n",
    "$$\n",
    "P(y \\mid p, n) = \\binom{n = 30}{y = 22} p^y (1-p)^{n-y}.\n",
    "$$\n",
    "\n",
    "Un grafico è mostrato di seguito."
   ]
  },
  {
   "cell_type": "code",
   "execution_count": null,
   "metadata": {},
   "outputs": [],
   "source": [
    "import numpy as np\n",
    "import seaborn as sns\n",
    "from scipy.stats import binom\n",
    "import matplotlib.pyplot as plt\n",
    "from scipy.constants import golden"
   ]
  },
  {
   "cell_type": "code",
   "execution_count": null,
   "metadata": {},
   "outputs": [],
   "source": [
    "%matplotlib inline\n",
    "SEED = 123456\n",
    "rng = np.random.default_rng(SEED)\n",
    "sns.set_theme()\n",
    "sns.set_palette(\"colorblind\")\n",
    "plt.rc('figure', figsize=(5.0, 5.0/golden))"
   ]
  },
  {
   "cell_type": "code",
   "execution_count": 2,
   "metadata": {},
   "outputs": [
    {
     "data": {
      "text/plain": [
       "<BarContainer object of 31 artists>"
      ]
     },
     "execution_count": 2,
     "metadata": {},
     "output_type": "execute_result"
    },
    {
     "data": {
      "image/png": "[encoded data removed]",
      "text/plain": [
       "<Figure size 640x480 with 1 Axes>"
      ]
     },
     "metadata": {},
     "output_type": "display_data"
    }
   ],
   "source": [
    "n = 30\n",
    "p = 0.5\n",
    "\n",
    "y_values = list(range(n + 1))\n",
    "# list of pmf values\n",
    "dist = [binom.pmf(y, n, p) for y in y_values ]\n",
    "plt.bar(y_values, dist)"
   ]
  },
  {
   "attachments": {},
   "cell_type": "markdown",
   "metadata": {},
   "source": [
    "L'approccio frequentista si pone la seguente domanda: qual è la probabilità $P(y >= 22 \\mid n=30, p=0.5)$? Usando la distribuzione binomiale otteniamo 0.008."
   ]
  },
  {
   "cell_type": "code",
   "execution_count": 6,
   "metadata": {},
   "outputs": [
    {
     "data": {
      "text/plain": [
       "0.008062400855123997"
      ]
     },
     "execution_count": 6,
     "metadata": {},
     "output_type": "execute_result"
    }
   ],
   "source": [
    "1 - binom.cdf(21, n, p)"
   ]
  },
  {
   "attachments": {},
   "cell_type": "markdown",
   "metadata": {},
   "source": [
    "Dato che il $p$-valore è minore di $\\alpha$ = 0.05 (ovvero, considerato che il risultato osservato, $y$ = 22, o uno più estremo, è molto raro nella distribuzione campionaria costruita assumendo $p$ = 0.05), l'approccio frequentista conclude che è implausibile che la moneta sia bilanciata -- ovvero, rifiuta l'ipotesi nulla.\n",
    "\n",
    "Ma possiamo trovare la stessa risposta senza conoscere la distribuzione campionaria della statistica di interesse e senza neppure conoscere la distribuzione Binomiale.  Una semplice simulazione produce il risultato cercato."
   ]
  },
  {
   "cell_type": "code",
   "execution_count": 15,
   "metadata": {},
   "outputs": [
    {
     "name": "stdout",
     "output_type": "stream",
     "text": [
      "0.0811\n"
     ]
    }
   ],
   "source": [
    "M = 0\n",
    "for i in range(100000):\n",
    "    trials = np.random.randint(2, size = 30) # returns 30 random values 0, 1  \n",
    "    if (trials.sum() >= 22):\n",
    "        M += 1\n",
    "p = M / 10000\n",
    "print(p)"
   ]
  },
  {
   "attachments": {},
   "cell_type": "markdown",
   "metadata": {},
   "source": [
    "Se assumiamo che la moneta sia bilanciata, la proababilità di osservare 22 o più risultati testa in 30 lanci è 0.008.\n",
    "\n",
    "## Neyman e Fisher\n",
    "\n",
    "La procedura di test di ipotesi statistiche descritta sopra combina due approcci teorici diversi, proposti da Sir Ronald Fisher e Jerzy Neyman. La storia di questi due approcci non è lineare, poiché Fisher e Neyman hanno modificato le loro opinioni nel tempo, senza mai fornire una \"verità definitiva\" su come interpretare il loro lavoro. \n",
    "\n",
    "In sintesi, Fisher considerava che il ricercatore avesse un'unica ipotesi (quella nulla) e che lo scopo fosse verificare se i dati fossero coerenti o meno con essa. In questo senso, il valore-$p$ rappresenta la probabilità di osservare, sotto l'ipotesi nulla, il risultato ottenuto o uno ancora più estremo. Se il valore-$p$ è piccolo, Fisher rifiutava l'ipotesi nulla. Tuttavia, poiché non venivano formulate altre ipotesi, non c'era modo di \"accettare l'alternativa\".\n",
    "\n",
    "Al contrario, Neyman adottava un approccio più formale rispetto a Fisher e pensava che lo scopo della verifica delle ipotesi fosse quello di prendere decisioni. Secondo Neyman, il problema era decidere se accettare l'ipotesi nulla o l'alternativa e il test serviva a stabilire quale supporto venisse fornito alle due alternative. Per questo motivo, era fondamentale specificare in modo preciso l'ipotesi alternativa. Nel suo approccio, il valore-$p$ non misurava la probabilità del risultato del test o di uno più estremo sotto l'ipotesi nulla, ma forniva una descrizione astratta dei \"possibili test\" che portavano all'accettazione dell'ipotesi nulla o dell'alternativa.\n",
    "\n",
    "Attualmente ci troviamo in una situazione strana e ambigua, dove sono presenti elementi di entrambi gli approcci. La procedura di verifica di ipotesi statistiche distingue tra un'ipotesi nulla e un'ipotesi alternativa, seguendo la visione di Neyman, ma definisce il valore-$p$ in termini di dati estremi, come avrebbe fatto Fisher, in confronto con un livello $\\alpha$ stabilito da Neyman. Alcuni test statistici specificano in modo chiaro l'ipotesi alternativa, mentre altri sono più vaghi in merito, adottando l'approccio di Fisher. Inoltre, c'è disaccordo tra i ricercatori riguardo alla possibilità di \"accettare l'alternativa\", a seconda che si segua Neyman o Fisher. Questa confusione costituisce il \"peccato originale\" della procedura di verifica di ipotesi statistiche. Tuttavia, ci sono motivi più specifici per cui questo approccio, noto come significatività statistica, viene criticato da molti ricercatori come una delle cause principali della crisi della replicabilità dei risultati della ricerca in psicologia e in altri campi. Nel capitolo {ref}`sec-errors-ms` esploreremo queste ragioni in dettaglio.\n",
    "\n",
    "## Watermark"
   ]
  },
  {
   "cell_type": "code",
   "execution_count": null,
   "metadata": {},
   "outputs": [],
   "source": [
    "%load_ext watermark\n",
    "%watermark -n -u -v -iv -w "
   ]
  }
 ],
 "metadata": {
  "kernelspec": {
   "display_name": "bambi_env",
   "language": "python",
   "name": "python3"
  },
  "language_info": {
   "codemirror_mode": {
    "name": "ipython",
    "version": 3
   },
   "file_extension": ".py",
   "mimetype": "text/x-python",
   "name": "python",
   "nbconvert_exporter": "python",
   "pygments_lexer": "ipython3",
   "version": "3.11.3"
  },
  "orig_nbformat": 4,
  "vscode": {
   "interpreter": {
    "hash": "e957f8d2d9272acec629608affb587206e5d92bb0d8d335f71da72c549770d8b"
   }
  }
 },
 "nbformat": 4,
 "nbformat_minor": 2
}
