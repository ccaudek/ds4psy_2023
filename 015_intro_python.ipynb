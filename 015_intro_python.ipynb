{
 "cells": [
  {
   "attachments": {},
   "cell_type": "markdown",
   "metadata": {},
   "source": [
    "(intro_Python_notebook)=\n",
    "# Introduzione a Python\n",
    "\n",
    "Questo capitolo descrive brevemente alcuni concetti che risultano utili per analizzare dati in modo esplorativo usando Python come linguaggio di programmazione e jupyter come ambiente di elaborazione. Qui fornirò solo dei brevi accenni a questa materia: ci sono tantissime risorse in rete dove potere approfondire questo argomento. Tra le tante, suggerisco [*Python Programming for Data Science*](https://www.tomasbeuzen.com/Python-programming-for-data-science/README.html) di Tomas Beuzen.\n",
    "\n",
    "## Cosa significa \"programmare\"?\n",
    "\n",
    "Python è un linguaggio \"general purpose\", il che significa che può essere utilizzato per scopi molto diversi: dai giochi per computer alla creazione di siti Web (ad esempio, il presente sito web), dalla data science alle applicazioni software; viene persino utilizzato per controllare un elicottero che vola su Marte. Conoscere Python è molto [utile](https://www.apa.org/science/about/psa/2019/07/python-research), anche perché, in seguito, risulta più semplice imparare linguaggi più specializzati come R o JavaScript. I concetti di programmazione di base che discuteremo in questo insegnamento vengono utilizzati in tutti i linguaggi di programmazione. \n",
    "\n",
    "Python ha la fama di essere semplice da capire ma anche divertente da usare. Il suo nome, infatti, è un omaggio ai comici inglesi [Monty Python](https://www.youtube.com/results?search_query=monty+Python). Tuttavia, è anche ovvio che, come tutti i linguaggi di programmazione, richiede tempo ed esercizio per essere appreso. È bene chiarire fin dall'inizio che *nessuno* memorizza neppure la metà di tutte le istruzioni e le regole sintattiche che verranno presentate in questo libro. La maggior parte del tempo che si spende a programmare è in realtà tempo speso a cercare online come risolvere questo o quel problema, a fare il \"debugging\" del codice per trovare gli errori, o a testare il codice. Questo vale per tutti i programmatori, indipendentemente dal loro livello. Lo scopo di ciò che dirò in questa dispensa è presentare **i concetti** di base della programmazione, **non la sintassi precisa** (quella è facile da trovare su web una volta che si è capito *cosa* cercare). Sapere usare Google è dunque una delle abilità più importanti di qualsiasi programmatore. Ricordati: *Google is your friend.*"
   ]
  },
  {
   "attachments": {},
   "cell_type": "markdown",
   "metadata": {},
   "source": [
    "## I tipi di dati semplici e gli operatori\n",
    "\n",
    "Iniziamo a capire che cosa viene manipolato da Python e con quali strumenti. Ovvero, introduciamo i dati semplici e gli operatori. Ogni valore in Python ha un *tipo* che indica il genere di dato che il valore rappresenta. I tipi di dati fondamentali sono quello booleano (`bool`, che fa riferimento alle costanti `True` e `False`), quello intero (`int`) e quello a virgola mobile (`float`). \n",
    "\n",
    "Il tipo di dato intero permette di memorizzare numeri interi. Il tipo di dato a virgola mobile permette di memorizzare numeri decimali. Per esso si utilizza la notazione tipica in ambito informatico per cui si indica il segno, seguito dalle cifre intere, dal carattere `.` e dalle cifre decimali. Nel caso in cui si debbano specificare dei valori molto grandi o molto piccoli si usa la notazione _scientifica_: si indica un valore di _mantissa_ (con o senza virgola) seguito dal carattere `E` (o `e`) e da un numero intero detto _esponente_, e tale espressione genera il valore numerico pari al prodotto della mantissa per `10` elevato all'esponente. Pertanto `1E9` e `1E-9` indicano rispettivamente un miliardo e un miliardesimo.\n",
    "\n",
    "Per vedere il tipo di un valore, si usa la funzione `type()`:"
   ]
  },
  {
   "cell_type": "code",
   "execution_count": 1,
   "metadata": {},
   "outputs": [
    {
     "data": {
      "text/plain": [
       "int"
      ]
     },
     "execution_count": 1,
     "metadata": {},
     "output_type": "execute_result"
    }
   ],
   "source": [
    "type(42)"
   ]
  },
  {
   "cell_type": "code",
   "execution_count": 2,
   "metadata": {},
   "outputs": [
    {
     "data": {
      "text/plain": [
       "float"
      ]
     },
     "execution_count": 2,
     "metadata": {},
     "output_type": "execute_result"
    }
   ],
   "source": [
    "type(3.7)"
   ]
  },
  {
   "cell_type": "code",
   "execution_count": 3,
   "metadata": {},
   "outputs": [
    {
     "data": {
      "text/plain": [
       "bool"
      ]
     },
     "execution_count": 3,
     "metadata": {},
     "output_type": "execute_result"
    }
   ],
   "source": [
    "type(True)"
   ]
  },
  {
   "attachments": {},
   "cell_type": "markdown",
   "metadata": {},
   "source": [
    "Utilizzando i valori booleani, interi o a virgola mobile è possibile costruire espressioni arbitrariamente complesse utilizzando degli _operatori_. Considereremo qui quelli di tipo _binario_ (cioè che si applicano a due argomenti). Gli operatori vengono utilizzati per codificare operazioni logiche e relazioni aritmetiche. La tabella seguente riassume i principali simboli utilizzati in Python per questo tipo di operatori binari.\n",
    "\n",
    "| Operazione         | Simbolo   |\n",
    "|--------------------|-----------|\n",
    "|addizione           | `+`       |\n",
    "|sottrazione         | `-`       |\n",
    "|moltiplicazione     | `*`       |\n",
    "|divisione (reale)   | `/`       |\n",
    "|divisione (intera)  | `//`      |\n",
    "|resto (modulo)      | `%`       |\n",
    "|elevamento a potenza| `**`      |\n",
    "\n",
    "L'applicazione degli operatori aritmetici in Python dipende dalle seguenti regole di precedenza degli operatori, che sono analoghe a quelle usate in algebra.\n",
    "\n",
    "1. Le espressioni tra parentesi vengono valutate per prime. \n",
    "2. Successivamente si valutano gli elevamenti a potenza. \n",
    "3. In seguito, si valutano moltiplicazioni, divisioni e moduli. \n",
    "4. Per ultime vengono valutate somme e sottrazioni. \n",
    "\n",
    "Spendiamo ancora qualche parola sui valori booleani. Il tipo booleano è un tipo di dati i cui unici valori possibili sono `True` e `False`. Esistono due tipi di operazioni associate ai valori booleani: operazioni booleane, in cui vengono combinati i valori booleani esistenti, e operazioni condizionali, che creano un valore booleano quando vengono eseguite.\n",
    "\n",
    "Gli operatori booleani che restituiscono valori booleani sono i seguenti:\n",
    "\n",
    "| Operatore |  Descrizione                     |\n",
    "| :-------: | :------------------------------- |\n",
    "| `x and y` | \"x\" e \"y\" sono entrambi veri?    |\n",
    "| `x or y`  | è vero almeno uno tra `x` e `y`? |\n",
    "| `not x`   | `x` è falso?                     |\n",
    "\n",
    "Questi operatori si comportano come ci possiamo aspettare. \"True and False\" restituisce \"False\":"
   ]
  },
  {
   "cell_type": "code",
   "execution_count": 1,
   "metadata": {},
   "outputs": [
    {
     "data": {
      "text/plain": [
       "False"
      ]
     },
     "execution_count": 1,
     "metadata": {},
     "output_type": "execute_result"
    }
   ],
   "source": [
    "True and False"
   ]
  },
  {
   "attachments": {},
   "cell_type": "markdown",
   "metadata": {},
   "source": [
    "Mentre \"True or False\" restituisce \"True\":"
   ]
  },
  {
   "cell_type": "code",
   "execution_count": 2,
   "metadata": {},
   "outputs": [
    {
     "data": {
      "text/plain": [
       "True"
      ]
     },
     "execution_count": 2,
     "metadata": {},
     "output_type": "execute_result"
    }
   ],
   "source": [
    "True or False"
   ]
  },
  {
   "attachments": {},
   "cell_type": "markdown",
   "metadata": {},
   "source": [
    "C'è anche la parola chiave `not`. Per esempio"
   ]
  },
  {
   "cell_type": "code",
   "execution_count": 3,
   "metadata": {},
   "outputs": [
    {
     "data": {
      "text/plain": [
       "False"
      ]
     },
     "execution_count": 3,
     "metadata": {},
     "output_type": "execute_result"
    }
   ],
   "source": [
    "not True"
   ]
  },
  {
   "attachments": {},
   "cell_type": "markdown",
   "metadata": {},
   "source": [
    "È possibile eseguire le operazioni aritmetiche sui valori booleani: True equivale a 1 e False a 0. Per esempio:"
   ]
  },
  {
   "cell_type": "code",
   "execution_count": 5,
   "metadata": {},
   "outputs": [
    {
     "data": {
      "text/plain": [
       "2"
      ]
     },
     "execution_count": 5,
     "metadata": {},
     "output_type": "execute_result"
    }
   ],
   "source": [
    "True + True + False"
   ]
  },
  {
   "attachments": {},
   "cell_type": "markdown",
   "metadata": {},
   "source": [
    "Una condizione è un'espressione che ritorna un valore booleano. Per esempio:"
   ]
  },
  {
   "cell_type": "code",
   "execution_count": 6,
   "metadata": {},
   "outputs": [
    {
     "data": {
      "text/plain": [
       "False"
      ]
     },
     "execution_count": 6,
     "metadata": {},
     "output_type": "execute_result"
    }
   ],
   "source": [
    "10 == 20"
   ]
  },
  {
   "attachments": {},
   "cell_type": "markdown",
   "metadata": {},
   "source": [
    "L'operatore `==` confronta gli oggetti su entrambi i lati e restituisce `True` se hanno gli stessi *valori* e `False` altrimenti. Ecco una tabella di condizioni che restituiscono valori booleani:\n",
    "\n",
    "| Operatore | Descrizione |\n",
    "| :-------- | :----------------------------------- |\n",
    "| `x == y` | `x` è uguale a `y`? |\n",
    "| `x != y` | `x` non è uguale a `y`? |\n",
    "| `x > y` | `x` è maggiore di `y`? |\n",
    "| `x >= y` | \"x\" è maggiore o uguale a \"y\"? |\n",
    "| `x <y` | `x` è minore di `y`? |\n",
    "| `x <= y` | \"x\" è minore o uguale a \"y\"? |\n",
    "| `x è y` | \"x\" è lo stesso oggetto di \"y\"? |\n",
    "\n",
    "Come si può vedere dalla tabella, l'opposto di `==` è `!=`, che si può leggere come 'non uguale al valore di'. \n",
    "\n",
    "Nella cella seguente si presti attenzione all'uso di `=` e di `==`:"
   ]
  },
  {
   "cell_type": "code",
   "execution_count": 1,
   "metadata": {},
   "outputs": [
    {
     "name": "stdout",
     "output_type": "stream",
     "text": [
      "False\n"
     ]
    }
   ],
   "source": [
    "boolean_condition = 10 == 20\n",
    "print(boolean_condition)"
   ]
  },
  {
   "attachments": {},
   "cell_type": "markdown",
   "metadata": {},
   "source": [
    "L'operatore `=` è un'istruzione di *assegnazione*. Ovvero, crea un nuovo oggetto. Tutte le istruzioni Python in cui vengono creati degli oggetti (istruzioni di *assegnazione*) hanno la stessa forma:\n",
    "\n",
    "```\n",
    "object_name = value\n",
    "```\n",
    "\n",
    "Quando leggiamo l'istruzione precedente possiamo pensare: \"`object_name` ottiene il valore `value`\". Per esempio:"
   ]
  },
  {
   "cell_type": "code",
   "execution_count": 2,
   "metadata": {},
   "outputs": [
    {
     "name": "stdout",
     "output_type": "stream",
     "text": [
      "3\n"
     ]
    }
   ],
   "source": [
    "a = 3\n",
    "print(a)"
   ]
  },
  {
   "attachments": {},
   "cell_type": "markdown",
   "metadata": {},
   "source": [
    "L'operatore `==` valuta invece una condizione logica e ritorna un valore booleano. Per esempio:"
   ]
  },
  {
   "cell_type": "code",
   "execution_count": 4,
   "metadata": {},
   "outputs": [
    {
     "data": {
      "text/plain": [
       "False"
      ]
     },
     "execution_count": 4,
     "metadata": {},
     "output_type": "execute_result"
    }
   ],
   "source": [
    "a == 10"
   ]
  },
  {
   "attachments": {},
   "cell_type": "markdown",
   "metadata": {},
   "source": [
    "È sempre possibile capire cosa contiene un oggetto già creato semplicemente digitando il nome dell'oggetto in una cella di notebook Jupiter:"
   ]
  },
  {
   "cell_type": "code",
   "execution_count": 5,
   "metadata": {},
   "outputs": [
    {
     "data": {
      "text/plain": [
       "3"
      ]
     },
     "execution_count": 5,
     "metadata": {},
     "output_type": "execute_result"
    }
   ],
   "source": [
    "a"
   ]
  },
  {
   "attachments": {},
   "cell_type": "markdown",
   "metadata": {},
   "source": [
    "## I tipi di dati strutturati\n",
    "\n",
    "Oltre ai numeri e ai valori booleani, Python supporta anche un insieme di \"contenitori\", ovvero i seguenti tipi strutturati: le liste, le tuple, le stringhe, gli insiemi e i dizionari. \n",
    "\n",
    "### Le liste\n",
    "Una lista è una struttura dati *eterogenea* contentente una sequenza di elementi che possono essere di tipo diverso. Una lista si indica separando i suoi elementi tramite virgola e racchiudendo il tutto tra parentesi quadre. "
   ]
  },
  {
   "cell_type": "code",
   "execution_count": 8,
   "metadata": {},
   "outputs": [
    {
     "data": {
      "text/plain": [
       "['Pippo', 3, -2.953, [1, 2, 3]]"
      ]
     },
     "execution_count": 8,
     "metadata": {},
     "output_type": "execute_result"
    }
   ],
   "source": [
    "my_list = ['Pippo', 3, -2.953, [1, 2, 3]]\n",
    "my_list"
   ]
  },
  {
   "attachments": {},
   "cell_type": "markdown",
   "metadata": {},
   "source": [
    "La lista `my_list` contiene una stringa ('Pippo'), un numero intero (3), un numero decimale (-2.953) e un'altra lista ([1, 2, 3]). Si noti che l'elemento 'Pippo' (una stringa) è racchiuso tra singoli apici (ma potrebbero anche essere doppi apici). \n",
    "\n",
    "Gli elementi della lista sono ordinati per indice (index), un numero che si riferisce alla loro posizione nella lista. Gli indici delle liste partono da 0 e aumentano di uno. Per accedere ad un elemento della lista per indice si usa la notazione con la parentesi quadra: `list_name[index]`. Per esempio:"
   ]
  },
  {
   "cell_type": "code",
   "execution_count": 9,
   "metadata": {},
   "outputs": [
    {
     "data": {
      "text/plain": [
       "3"
      ]
     },
     "execution_count": 9,
     "metadata": {},
     "output_type": "execute_result"
    }
   ],
   "source": [
    "my_list[1]"
   ]
  },
  {
   "cell_type": "code",
   "execution_count": 10,
   "metadata": {},
   "outputs": [
    {
     "data": {
      "text/plain": [
       "'Pippo'"
      ]
     },
     "execution_count": 10,
     "metadata": {},
     "output_type": "execute_result"
    }
   ],
   "source": [
    "my_list[0]"
   ]
  },
  {
   "attachments": {},
   "cell_type": "markdown",
   "metadata": {},
   "source": [
    "Python prevede alcune funzioni che elaborano liste, come per esempio `len` che restituisce il numero di elementi contenuti in una lista:"
   ]
  },
  {
   "cell_type": "code",
   "execution_count": 11,
   "metadata": {},
   "outputs": [
    {
     "data": {
      "text/plain": [
       "4"
      ]
     },
     "execution_count": 11,
     "metadata": {},
     "output_type": "execute_result"
    }
   ],
   "source": [
    "len(my_list)"
   ]
  },
  {
   "attachments": {},
   "cell_type": "markdown",
   "metadata": {},
   "source": [
    "Python è un linguaggio di programmazione orientato agli oggetti e le liste sono degli oggetti su cui è possibile invocare *metodi*. Supponiamo di voler mettere in ordine alfabetico i nomi che costituiscono gli elementi di una lista: la corrispondente operazione di ordinamento richiede di invocare sulla lista il metodo `sort` usando la _dot notation_:"
   ]
  },
  {
   "cell_type": "code",
   "execution_count": 12,
   "metadata": {},
   "outputs": [],
   "source": [
    "names = ['Carlo', 'Giovanni', 'Giacomo']\n",
    "names.sort()"
   ]
  },
  {
   "attachments": {},
   "cell_type": "markdown",
   "metadata": {},
   "source": [
    "Tale metodo però non restituisce alcun valore, in quanto l'ordinamento è eseguito _in place_: dopo l'invocazione, gli elementi della lista saranno stati riposizionati nell'ordine richiesto.  Visualizziamo la listra trasformata:"
   ]
  },
  {
   "cell_type": "code",
   "execution_count": 13,
   "metadata": {},
   "outputs": [
    {
     "data": {
      "text/plain": [
       "['Carlo', 'Giacomo', 'Giovanni']"
      ]
     },
     "execution_count": 13,
     "metadata": {},
     "output_type": "execute_result"
    }
   ],
   "source": [
    "names"
   ]
  },
  {
   "attachments": {},
   "cell_type": "markdown",
   "metadata": {},
   "source": [
    "L'invocazione di metodi (e di funzioni) prevede anche la possibilità di specificare degli argomenti _opzionali_. Per esempio:"
   ]
  },
  {
   "cell_type": "code",
   "execution_count": 21,
   "metadata": {},
   "outputs": [
    {
     "data": {
      "text/plain": [
       "['Giovanni', 'Giacomo', 'Carlo']"
      ]
     },
     "execution_count": 21,
     "metadata": {},
     "output_type": "execute_result"
    }
   ],
   "source": [
    "names.sort(reverse=True)\n",
    "names"
   ]
  },
  {
   "attachments": {},
   "cell_type": "markdown",
   "metadata": {},
   "source": [
    "### Le tuple\n",
    "Una tupla è una lista immutabile: una volta creata non è possibile modificarne i contenuti. Gli elementi di una tupla, separati da virgole, sono delimitati da parentesi tonde."
   ]
  },
  {
   "cell_type": "code",
   "execution_count": 22,
   "metadata": {},
   "outputs": [
    {
     "data": {
      "text/plain": [
       "('Rosso', 'Nero', 'Bianco')"
      ]
     },
     "execution_count": 22,
     "metadata": {},
     "output_type": "execute_result"
    }
   ],
   "source": [
    "colors = ('Rosso', 'Nero', 'Bianco')\n",
    "colors"
   ]
  },
  {
   "attachments": {},
   "cell_type": "markdown",
   "metadata": {},
   "source": [
    "Le stringhe sono tuple di caratteri. Pertanto non sono modificabili."
   ]
  },
  {
   "attachments": {},
   "cell_type": "markdown",
   "metadata": {},
   "source": [
    "### Gli insiemi\n",
    "Gli insiemi sono una collezione finita di elementi tra loro distinguibili e non memorizzati in un ordine particolare. Non è possibile che un insieme contenga più di un'istanza di un medesimo elemento. "
   ]
  },
  {
   "attachments": {},
   "cell_type": "markdown",
   "metadata": {},
   "source": [
    "###  I dizionari\n",
    "I dizionari servono a memorizzare delle associazioni tra oggetti. Sono costituiti da insiemi di coppie (chiave, valore), dove una data chiave non occorre più di una volta. Un dizionario viene creato indicando ogni coppia come `chiave : valore`, separando le varie coppie con delle virgole e racchiudendo il tutto tra parentesi graffe. Ad esempio:"
   ]
  },
  {
   "cell_type": "code",
   "execution_count": 23,
   "metadata": {},
   "outputs": [],
   "source": [
    "music = {'blues': 'Betty Smith',\n",
    "         'classical': 'Gustav Mahler',\n",
    "         'pop': 'David Bowie'}"
   ]
  },
  {
   "attachments": {},
   "cell_type": "markdown",
   "metadata": {},
   "source": [
    "L'accesso agli elementi di un dizionario viene fatto specificando all'interno di parentesi quadre la chiave per ottenere o modificare il valore corrispondente:"
   ]
  },
  {
   "cell_type": "code",
   "execution_count": 24,
   "metadata": {},
   "outputs": [
    {
     "data": {
      "text/plain": [
       "'David Bowie'"
      ]
     },
     "execution_count": 24,
     "metadata": {},
     "output_type": "execute_result"
    }
   ],
   "source": [
    "music['pop']"
   ]
  },
  {
   "attachments": {},
   "cell_type": "markdown",
   "metadata": {},
   "source": [
    "### Contenitori vuoti\n",
    "\n",
    "A volte è utile creare dei contenitori vuoti. I comandi per creare liste vuote, tuple vuote, dizionari vuoti e insiemi vuoti sono rispettivamente `lst = []`, `tup=()`, `dic={}` e `st = set()`."
   ]
  },
  {
   "attachments": {},
   "cell_type": "markdown",
   "metadata": {},
   "source": [
    "## Funzioni\n",
    "Nella programmazione una funzione ha un input, esegue delle operazioni e restituisce un eventuale output. Python ha un gran numero di funzioni integrate. È possibile importare altre funzioni da pacchetti aggiuntivi o definire nuove funzioni. La cella seguente riporta un esempio in cui importiamo la libreria `numpy`:"
   ]
  },
  {
   "cell_type": "code",
   "execution_count": 14,
   "metadata": {},
   "outputs": [],
   "source": [
    "import numpy as np"
   ]
  },
  {
   "attachments": {},
   "cell_type": "markdown",
   "metadata": {},
   "source": [
    "Calcolo la somma degli elementi di della lista numerica `primes` usando funzione `np.sum()` contenuta nella libreria numpy che ho importato con il nome di `np`:"
   ]
  },
  {
   "cell_type": "code",
   "execution_count": 17,
   "metadata": {},
   "outputs": [
    {
     "data": {
      "text/plain": [
       "42"
      ]
     },
     "execution_count": 17,
     "metadata": {},
     "output_type": "execute_result"
    }
   ],
   "source": [
    "primes = [1, 2, 3, 5, 7, 11, 13]\n",
    "np.sum(primes)"
   ]
  },
  {
   "attachments": {},
   "cell_type": "markdown",
   "metadata": {},
   "source": [
    "Applichiamo la funzione `np.mean()`:"
   ]
  },
  {
   "cell_type": "code",
   "execution_count": 27,
   "metadata": {},
   "outputs": [
    {
     "data": {
      "text/plain": [
       "6.0"
      ]
     },
     "execution_count": 27,
     "metadata": {},
     "output_type": "execute_result"
    }
   ],
   "source": [
    "np.mean(primes)"
   ]
  },
  {
   "attachments": {},
   "cell_type": "markdown",
   "metadata": {},
   "source": [
    "È anche possibile definire nuove funzioni. La definizione di una funzione in Python viene fatta utilizzando la parola chiave `def` seguita dal nome del metodo e dai nomi simbolici per i suoi argomenti, separati da virgole e racchiusi tra parentesi. La definizione procede con un carattere di due punti e dal corpo della funzione le cui istruzioni devono essere indentate di un livello.\n",
    "\n",
    "Per fare un esempio di creazione di una funzione, scrivo la funzione della media, $n^{-1}\\sum_{i=1}^n x_i$:"
   ]
  },
  {
   "cell_type": "code",
   "execution_count": 28,
   "metadata": {},
   "outputs": [],
   "source": [
    "def my_mean(x):\n",
    "    res = np.sum(x) / len(x)\n",
    "    return res"
   ]
  },
  {
   "cell_type": "code",
   "execution_count": 29,
   "metadata": {},
   "outputs": [
    {
     "data": {
      "text/plain": [
       "6.0"
      ]
     },
     "execution_count": 29,
     "metadata": {},
     "output_type": "execute_result"
    }
   ],
   "source": [
    "my_mean(primes)"
   ]
  },
  {
   "attachments": {},
   "cell_type": "markdown",
   "metadata": {},
   "source": [
    "Si notino due cose. 1. È possibile, nel corpo di una funzione, usare altre funzioni. 2. Indentare il codice è una pratica comune in tutti i linguaggi, perché semplifica la lettura del codice e la compresione della sua struttura. In Python, tuttavia, l'indentazione è obbligatoria, nel senso che, nell'esempio precedente, delimita il blocco di codice che costituisce il corpo della funzione. Dunque, indentare in modo incorretto comporta la comparsa di errori.\n",
    "\n",
    "È sempre possibile usare la funzione di `help` su una funzione:"
   ]
  },
  {
   "cell_type": "code",
   "execution_count": 30,
   "metadata": {},
   "outputs": [
    {
     "name": "stdout",
     "output_type": "stream",
     "text": [
      "Help on built-in function sum in module builtins:\n",
      "\n",
      "sum(iterable, /, start=0)\n",
      "    Return the sum of a 'start' value (default: 0) plus an iterable of numbers\n",
      "    \n",
      "    When the iterable is empty, return the start value.\n",
      "    This function is intended specifically for use with numeric values and may\n",
      "    reject non-numeric types.\n",
      "\n"
     ]
    }
   ],
   "source": [
    "help(sum)"
   ]
  },
  {
   "attachments": {},
   "cell_type": "markdown",
   "metadata": {},
   "source": [
    "In Visual Studio Code è sufficiente posizionare il cursore sul nome della funzione.\n",
    "\n",
    "## Il flusso di esecuzione\n",
    "\n",
    "In Python il codice viene eseguito sequenzialmente, partendo dalla prima riga fino a quando non c'è più nulla da eseguire. L'ordine di esecuzione delle varie istruzioni è detto *flusso di esecuzione*. \n",
    "\n",
    "Per esempio la cella seguente crea tre liste, una con nomi di psicologia e le altre due con i corrispondenti anni di nascita e di morte, e le memorizza nelle variabili `names`, `born` e `dead`."
   ]
  },
  {
   "cell_type": "code",
   "execution_count": null,
   "metadata": {},
   "outputs": [],
   "source": [
    "names = ['Sigmund Freud', 'Jean Piaget', 'Burrhus Frederic Skinner', 'Albert Bandura']\n",
    "born = [1856, 1896, 1904, 1925]\n",
    "dead = [1939, 1980, 1990, None]"
   ]
  },
  {
   "attachments": {},
   "cell_type": "markdown",
   "metadata": {},
   "source": [
    "Il valore speciale `None` è stato utilizzato nel caso in cui non risulta disponibile l'anno. In queste situazioni si parla di *valori mancanti* (*missing values*) che di norma vengono indicati con la sigla NA (*not available*). "
   ]
  },
  {
   "attachments": {},
   "cell_type": "markdown",
   "metadata": {},
   "source": [
    "Lo script include istruzioni condizionali che specificano se e quando devono essere eseguiti determinati blocchi di codice.\n",
    "\n",
    "La più semplice istruzione di controllo è l'istruzione `if`. Per esempio:"
   ]
  },
  {
   "cell_type": "code",
   "execution_count": null,
   "metadata": {},
   "outputs": [],
   "source": [
    "name = \"Maria\"\n",
    "grade = 29\n",
    "\n",
    "if name == \"Maria\" and grade > 28:\n",
    "    print(\"Maria, hai ottenuto un ottimo voto all'esame!\")\n",
    "\n",
    "if name == \"Giovanna\" or grade > 28:\n",
    "    print(\"Tu potresti essere Giovanna o potresti avere ottenuto un ottimo voto all'esame.\")\n",
    "\n",
    "if name != \"Giovanna\" and grade > 28:\n",
    "    print(\"Tu non sei Giovanna ma hai ottenuto un ottimo voto all'esame.\")"
   ]
  },
  {
   "attachments": {},
   "cell_type": "markdown",
   "metadata": {},
   "source": [
    "Tutte e tre le condizioni precedenti ritornano `True`, quindi vengono stampati tutti e tre i messaggi. \n",
    "\n",
    "Si noti che `==` e `!=` confrontano *valori*, mentre `is` e `not` confrontano *oggetti*. Per esempio,"
   ]
  },
  {
   "cell_type": "code",
   "execution_count": null,
   "metadata": {},
   "outputs": [],
   "source": [
    "name_list = [\"Maria\", \"Giovanna\"]\n",
    "name_list_two = [\"Marco\", \"Francesco\"]\n",
    "\n",
    "# Compare values\n",
    "print(name_list == name_list_two)\n",
    "\n",
    "# Compare objects\n",
    "print(name_list is name_list_two)"
   ]
  },
  {
   "cell_type": "markdown",
   "metadata": {},
   "source": [
    "Una delle parole chiave condizionali più utili è `in`. Un esempio è il seguente:"
   ]
  },
  {
   "cell_type": "code",
   "execution_count": null,
   "metadata": {},
   "outputs": [],
   "source": [
    "name_list = [\"Maria\", \"Giovanna\", \"Marco\", \"Francesco\"]\n",
    "\n",
    "print(\"Giovanna\" in name_list)\n",
    "print(\"Luca\" in name_list)"
   ]
  },
  {
   "attachments": {},
   "cell_type": "markdown",
   "metadata": {},
   "source": [
    "La condizione opposta è `not in`."
   ]
  },
  {
   "cell_type": "code",
   "execution_count": null,
   "metadata": {},
   "outputs": [],
   "source": [
    "print(\"Luca\" not in name_list)"
   ]
  },
  {
   "attachments": {},
   "cell_type": "markdown",
   "metadata": {},
   "source": [
    "Facciamo un altro esempio."
   ]
  },
  {
   "cell_type": "code",
   "execution_count": null,
   "metadata": {},
   "outputs": [],
   "source": [
    "age = 26\n",
    "if age >= 18:\n",
    "    print(\"Sei maggiorenne\")"
   ]
  },
  {
   "attachments": {},
   "cell_type": "markdown",
   "metadata": {},
   "source": [
    "Una struttura di selezione leggermente più complessa è \"if-else\". La sintassi di questa struttura è la seguente:\n",
    "\n",
    "```\n",
    "if <condizione>:\n",
    "    <istruzione_se_condizione_vera>\n",
    "else:\n",
    "    <istruzione_se_condizione_falsa>\n",
    "```\n",
    "\n",
    "La semantica di \"if-else\" è quella che ci si aspetta: la condizione tra la parola chiave `if` e il carattere di due punti viene valutata: se risulta vera viene eseguita l'istruzione alla linea seguente, altrimenti viene eseguita l'istruzione dopo la parola chiave `else`. Anche in questo caso l'indentazione permette di identificare quali istruzioni devono essere eseguite nei due rami della selezione. Per esempio:"
   ]
  },
  {
   "cell_type": "code",
   "execution_count": 20,
   "metadata": {},
   "outputs": [
    {
     "name": "stdout",
     "output_type": "stream",
     "text": [
      "Sei minorenne\n"
     ]
    }
   ],
   "source": [
    "age = 16\n",
    "if age >= 18:\n",
    "    print(\"Sei maggiorenne\")\n",
    "else:\n",
    "    print(\"Sei minorenne\")"
   ]
  },
  {
   "attachments": {},
   "cell_type": "markdown",
   "metadata": {},
   "source": [
    "In presenza di più di due possibilità mutuamente esclusive ed esaustive possiamo usare l'istruzione `elif`. Per esempio:"
   ]
  },
  {
   "cell_type": "code",
   "execution_count": 21,
   "metadata": {},
   "outputs": [
    {
     "name": "stdout",
     "output_type": "stream",
     "text": [
      "Ripassa tra qualche anno!\n"
     ]
    }
   ],
   "source": [
    "cfu = 36\n",
    "thesis_defense = False\n",
    "\n",
    "if cfu >= 180 and thesis_defense == True:\n",
    "    print(\"Puoi andare a festeggiare!\")\n",
    "elif cfu >= 180 and thesis_defense == False:\n",
    "    print(\"Devi ancora superare la prova finale!\")\n",
    "else:\n",
    "    print(\"Ripassa tra qualche anno!\")"
   ]
  },
  {
   "attachments": {},
   "cell_type": "markdown",
   "metadata": {},
   "source": [
    "### Commenti\n",
    "In Python è possibile usare il carattere # per aggiungere commenti al codice. Ogni riga di commento deve essere preceduta da un #. I commenti non devono spiegare il metodo (cosa fa il codice: quello si vede), ma bensì lo scopo: *quello che noi intendiamo ottenere*. I primi destinatari dei commenti siamo noi stessi tra un po' di tempo, ovvero quando ci saremo dimenticati cosa avevamo in mente quando abbiamo scritto il codice."
   ]
  },
  {
   "cell_type": "code",
   "execution_count": 18,
   "metadata": {},
   "outputs": [],
   "source": [
    "# This is a comment and will not be executed."
   ]
  },
  {
   "attachments": {},
   "cell_type": "markdown",
   "metadata": {},
   "source": [
    "## Cicli\n",
    "\n",
    "### Il ciclo `while`\n",
    "il ciclo `while` permette l'esecuzione di un blocco di codice finché una determinata condizione è True. Per esempio:"
   ]
  },
  {
   "cell_type": "code",
   "execution_count": 31,
   "metadata": {},
   "outputs": [
    {
     "name": "stdout",
     "output_type": "stream",
     "text": [
      "0\n",
      "1\n",
      "2\n",
      "3\n",
      "4\n",
      "5\n",
      "6\n",
      "7\n",
      "8\n",
      "9\n",
      "10\n"
     ]
    }
   ],
   "source": [
    "counter = 0\n",
    "\n",
    "while counter <= 10:\n",
    "    print(counter)\n",
    "    counter += 1"
   ]
  },
  {
   "attachments": {},
   "cell_type": "markdown",
   "metadata": {},
   "source": [
    "Il codice `counter += 1` è equivalente a `counter = counter + 1` e, ogni qualvolta viene eseguito il ciclo, riassegna alla variabile `counter` il valore che aveva in precedenza + 1.\n",
    "\n",
    "L'istruzione `while` controlla se alla variabile `counter` è associato un valore minore o uguale a 10. Nel primo passo del ciclo la condizione è soddisfatta, avendo noi definito `counter = 0`, pertanto il programma entra nel loop, stampa il valore della variabile `counter` e incrementa `counter` di un'unità. \n",
    "\n",
    "Questo comportamento si ripete finché la condizione `counter <= 10` risulta True. Quando il contatore `counter` assume il valore 11 il ciclo `while` si interrompe e il blocco di codice del ciclo non viene più eseguito.\n",
    "\n",
    "### Il ciclo `for`\n",
    "\n",
    "Il ciclo `for` permette di ripetere l'esecuzione di una determinata porzione di codice più volte finché la condizione di controllo resta True:"
   ]
  },
  {
   "cell_type": "code",
   "execution_count": null,
   "metadata": {},
   "outputs": [],
   "source": [
    "for number in range(11):\n",
    "    print(number)"
   ]
  },
  {
   "attachments": {},
   "cell_type": "markdown",
   "metadata": {},
   "source": [
    "La funzione `range()` permette di impostare un intervallo di esecuzione tanto ampio quanto il numero che le passiamo come parametro meno uno. L'indicizzazione Python parte da 0; quindi l'intervallo definito sopra può essere compreso come una lista di 11 elementi, da 0 a 10 inclusi. L'intervallo di `range()` corrisponde al numero di iterazioni che verranno eseguite, ovvero al numero di volte che il ciclo for verrà processato.\n",
    "\n",
    "La funzione range prende tre parametri (start, stop e step), ovvero un punto di inizio dell'intervallo, un punto di fine e un passo di avanzamento. Ad esempio, impostiamo un punto di inizio a 3, il punto di fine a 11 e un passo di 2:"
   ]
  },
  {
   "cell_type": "code",
   "execution_count": null,
   "metadata": {},
   "outputs": [],
   "source": [
    "for number in range(3, 11, 2):\n",
    "    print(number)"
   ]
  },
  {
   "attachments": {},
   "cell_type": "markdown",
   "metadata": {},
   "source": [
    "Esaminiamo un esempio più complesso. Nel seguente ciclo `for`, la parola chiave `enumerate` implicitamente definisce un indice che tiene traccia della posizione degli elementi nella lista:"
   ]
  },
  {
   "cell_type": "code",
   "execution_count": 53,
   "metadata": {},
   "outputs": [
    {
     "name": "stdout",
     "output_type": "stream",
     "text": [
      "Nella lista l'indice 0 è associato al nome Maria\n",
      "Nella lista l'indice 1 è associato al nome Marco\n",
      "Nella lista l'indice 2 è associato al nome Francesco\n",
      "Nella lista l'indice 3 è associato al nome Giovanna\n"
     ]
    }
   ],
   "source": [
    "name_list = [\"Maria\", \"Marco\", \"Francesco\", \"Giovanna\"]\n",
    "\n",
    "for i, name in enumerate(name_list):\n",
    "    print(f\"Nella lista l'indice {i} è associato al nome {name}\")"
   ]
  },
  {
   "attachments": {},
   "cell_type": "markdown",
   "metadata": {},
   "source": [
    "Si noti la formattazione f-string. Le stringhe formattate, chiamate anche f-string, consentono di inserire delle espressioni Python in una stringa di testo, racchiudendole dentro parentesi graffe. Nell'esempio precedente il testo all'interno delle virgolette viene visualizzato esattamente come digitato. Le parentesi graffe sono un segnaposto che contiene variabili Python. Una volta eseguito il codice la funzione `print()` visualizza la parte letterale (il testo) insieme ai valori delle variabili a cui abbiamo fatto riferimento. Si noti anche che il ciclo fa simulteneamente riferimento a due contatori: `i` e `name`.\n",
    "\n",
    "Un altro utile tipo di ciclo `for` fa uso della funzione `zip`. Puoi pensare alla funzione `zip` come a una cerniera lampo, che riunisce gli elementi di due diversi iteratori. Ecco un esempio:"
   ]
  },
  {
   "cell_type": "code",
   "execution_count": 28,
   "metadata": {},
   "outputs": [
    {
     "name": "stdout",
     "output_type": "stream",
     "text": [
      "Maria Blu\n",
      "Marco Giallo\n",
      "Francesco Bianco\n",
      "Giovanna Nero\n"
     ]
    }
   ],
   "source": [
    "first_names = [\"Maria\", \"Marco\", \"Francesco\", \"Giovanna\"]\n",
    "last_names = [\"Blu\", \"Giallo\", \"Bianco\", \"Nero\"]\n",
    "\n",
    "for forename, surname in zip(first_names, last_names):\n",
    "    print(f\"{forename} {surname}\")"
   ]
  },
  {
   "attachments": {},
   "cell_type": "markdown",
   "metadata": {},
   "source": [
    "### List comprehension\n",
    "\n",
    "C'è un secondo modo per eseguire i cicli in Python e, nella maggior parte dei casi, funziona più velocemente. Si chiamano *list comprehensions*.\n",
    "\n",
    "Una *list comprehension* combina un ciclo `for` e (se necessario) una condizione logica in una singola riga di codice. \n",
    "\n",
    "Consideriamo l'esempio di un ciclo `for` che aggiunge '1' a ogni valore di una lista. "
   ]
  },
  {
   "cell_type": "code",
   "execution_count": 23,
   "metadata": {},
   "outputs": [
    {
     "data": {
      "text/plain": [
       "[1, 2, 3, 5, 7, 11, 13]"
      ]
     },
     "execution_count": 23,
     "metadata": {},
     "output_type": "execute_result"
    }
   ],
   "source": [
    "primes"
   ]
  },
  {
   "cell_type": "code",
   "execution_count": 24,
   "metadata": {},
   "outputs": [
    {
     "name": "stdout",
     "output_type": "stream",
     "text": [
      "2\n",
      "3\n",
      "4\n",
      "6\n",
      "8\n",
      "12\n",
      "14\n"
     ]
    }
   ],
   "source": [
    "for prime in primes:\n",
    "    print(prime + 1)"
   ]
  },
  {
   "attachments": {},
   "cell_type": "markdown",
   "metadata": {},
   "source": [
    "Usiamo ora una *list comprehension*:"
   ]
  },
  {
   "cell_type": "code",
   "execution_count": 26,
   "metadata": {},
   "outputs": [
    {
     "data": {
      "text/plain": [
       "[2, 3, 4, 6, 8, 12, 14]"
      ]
     },
     "execution_count": 26,
     "metadata": {},
     "output_type": "execute_result"
    }
   ],
   "source": [
    "[1 + prime for prime in primes]"
   ]
  },
  {
   "attachments": {},
   "cell_type": "markdown",
   "metadata": {},
   "source": [
    "Si noti che la parola `prime` avrebbe potuto essere quasi qualsiasi parola. La possiamo immaginare con la seguente definizione: `...per ogni elemento in ...`. \n",
    "\n",
    "Facciamo un altro esempio usando `range()`:"
   ]
  },
  {
   "cell_type": "code",
   "execution_count": 55,
   "metadata": {},
   "outputs": [
    {
     "data": {
      "text/plain": [
       "[51, 52, 53, 54, 55, 56, 57, 58, 59, 60]"
      ]
     },
     "execution_count": 55,
     "metadata": {},
     "output_type": "execute_result"
    }
   ],
   "source": [
    "num_list = range(50, 60)\n",
    "[1 + num for num in num_list]"
   ]
  },
  {
   "attachments": {},
   "cell_type": "markdown",
   "metadata": {},
   "source": [
    "La sintassi di una *list comprehensions* si legge distinguendo il ciclo `for` da quello che c'è scritto prima. Indichiamo l'operazione da eseguire prima della parola chiave `for`  -- in questo caso, sommare 1. L'operazione si applica all'oggetto indicato da una parola arbitraria (qui `num`) che si riferisce agli elementi della lista indicata (qui `num_range`). \n",
    "\n",
    "In questo esempio vengono selezionati solo i nomi inclusi nella lista `female_names`:"
   ]
  },
  {
   "cell_type": "code",
   "execution_count": 32,
   "metadata": {},
   "outputs": [
    {
     "name": "stdout",
     "output_type": "stream",
     "text": [
      "['Maria', 'Giovanna']\n"
     ]
    }
   ],
   "source": [
    "female_names = [\"Maria\", \"Giovanna\"]\n",
    "female_list = [x for x in first_names if x in female_names]\n",
    "print(female_list)"
   ]
  },
  {
   "attachments": {},
   "cell_type": "markdown",
   "metadata": {},
   "source": [
    "## Librerie e moduli\n",
    "\n",
    "### Importare moduli\n",
    "\n",
    "I moduli (anche conosciuti come librerie in altri linguaggi) sono dei file usati per raggruppare funzioni e altri oggetti. Python include già una lista estensiva di moduli standard (anche conosciuti come Standard Library), ma è anche possibile scaricarne o definirne di nuovi. Prima di potere utilizzare le funzioni non presenti nella Standard Library all'interno dei nostri programmi dobbiamo importare dei moduli aggiuntivi, e per fare ciò usiamo il comando `import`. \n",
    "\n",
    "L'importazione può riguardare un intero modulo oppure solo uno (o più) dei suoi elementi. Consideriamo per esempio la funzione `mean` che abbiamo appena usato. Essa è disponibile nel modulo `numpy`. L'istruzione `import numpy` importa tutto il modulo [numpy](http://www.numpy.org). Dopo che un modulo è stato importato, è possibile accedere a un suo generico elemento usando il nome del modulo, seguito da un punto e dal nome dell'elemento in questione.\n",
    "\n",
    "Indicare il nome di un modulo per poter accedere ai suoi elementi ha spesso l'effetto di allungare il codice, diminuendone al contempo la leggibilità. È per questo motivo che è possibile importare un modulo specificando un nome alternativo, più corto. È quello che succede quando scriviamo l'istruzione `import numpy as np`.\n",
    "\n",
    "I moduli più complessi sono organizzati in strutture gerarchiche chiamate _package_. La seguente cella importa il modulo `pyplot` che è contenuto nel modulo `matplotlib` ([matplotlib](http://matplotlib.org) è la libreria di riferimento in Python per la creazione di grafici)."
   ]
  },
  {
   "cell_type": "code",
   "execution_count": null,
   "metadata": {},
   "outputs": [],
   "source": [
    "import matplotlib.pyplot as plt"
   ]
  },
  {
   "attachments": {},
   "cell_type": "markdown",
   "metadata": {},
   "source": [
    "Nella cella seguente importo `seaborn` con il nome `sns` e uso le sue funzionalità per  impostare uno stile e una palette di colori per la visualizzazione dei grafici."
   ]
  },
  {
   "cell_type": "code",
   "execution_count": null,
   "metadata": {},
   "outputs": [],
   "source": [
    "import seaborn as sns\n",
    "sns.set_theme()\n",
    "sns.set_palette(\"colorblind\")"
   ]
  },
  {
   "attachments": {},
   "cell_type": "markdown",
   "metadata": {},
   "source": [
    "## Leggere dati da file \n",
    "Di solito la quantità di dati da analizzare è tale che non è pensabile di poterli immettere manualmente in una o più liste come abbiamo fatto sopra. Normalmente i dati sono memorizzati su un file ed è necessario leggerli. La lettura (importazione) dei file è il primo fondamentale passo nel processo più generale di analisi dei dati. \n",
    "\n",
    "\n",
    "Per fare un esempio, consideriamo file `penguins.csv` contenuto nella directory `data`. La cella seguente legge i contenuti del file `penguins.csv` e li inserisce nell'oggetto `df` udando la funzione `read_csv()` del modulo pandas."
   ]
  },
  {
   "cell_type": "code",
   "execution_count": 33,
   "metadata": {},
   "outputs": [],
   "source": [
    "import pandas as pd\n",
    "\n",
    "df = pd.read_csv('data/penguins.csv')"
   ]
  },
  {
   "attachments": {},
   "cell_type": "markdown",
   "metadata": {},
   "source": [
    "Nella cella precedente, la funzione `read_csv()` che apre il file accetta come primo argomento il pathname corrispondente. Possiamo visualizzare le prime cinque righe dell'oggetto `df` usando il metodo `.head()`:"
   ]
  },
  {
   "cell_type": "code",
   "execution_count": 36,
   "metadata": {},
   "outputs": [
    {
     "data": {
      "text/html": [
       "<div>\n",
       "<style scoped>\n",
       "    .dataframe tbody tr th:only-of-type {\n",
       "        vertical-align: middle;\n",
       "    }\n",
       "\n",
       "    .dataframe tbody tr th {\n",
       "        vertical-align: top;\n",
       "    }\n",
       "\n",
       "    .dataframe thead th {\n",
       "        text-align: right;\n",
       "    }\n",
       "</style>\n",
       "<table border=\"1\" class=\"dataframe\">\n",
       "  <thead>\n",
       "    <tr style=\"text-align: right;\">\n",
       "      <th></th>\n",
       "      <th>species</th>\n",
       "      <th>island</th>\n",
       "      <th>bill_length_mm</th>\n",
       "      <th>bill_depth_mm</th>\n",
       "      <th>flipper_length_mm</th>\n",
       "      <th>body_mass_g</th>\n",
       "      <th>sex</th>\n",
       "      <th>year</th>\n",
       "    </tr>\n",
       "  </thead>\n",
       "  <tbody>\n",
       "    <tr>\n",
       "      <th>0</th>\n",
       "      <td>Adelie</td>\n",
       "      <td>Torgersen</td>\n",
       "      <td>39.1</td>\n",
       "      <td>18.7</td>\n",
       "      <td>181.0</td>\n",
       "      <td>3750.0</td>\n",
       "      <td>male</td>\n",
       "      <td>2007</td>\n",
       "    </tr>\n",
       "    <tr>\n",
       "      <th>1</th>\n",
       "      <td>Adelie</td>\n",
       "      <td>Torgersen</td>\n",
       "      <td>39.5</td>\n",
       "      <td>17.4</td>\n",
       "      <td>186.0</td>\n",
       "      <td>3800.0</td>\n",
       "      <td>female</td>\n",
       "      <td>2007</td>\n",
       "    </tr>\n",
       "    <tr>\n",
       "      <th>2</th>\n",
       "      <td>Adelie</td>\n",
       "      <td>Torgersen</td>\n",
       "      <td>40.3</td>\n",
       "      <td>18.0</td>\n",
       "      <td>195.0</td>\n",
       "      <td>3250.0</td>\n",
       "      <td>female</td>\n",
       "      <td>2007</td>\n",
       "    </tr>\n",
       "    <tr>\n",
       "      <th>3</th>\n",
       "      <td>Adelie</td>\n",
       "      <td>Torgersen</td>\n",
       "      <td>NaN</td>\n",
       "      <td>NaN</td>\n",
       "      <td>NaN</td>\n",
       "      <td>NaN</td>\n",
       "      <td>NaN</td>\n",
       "      <td>2007</td>\n",
       "    </tr>\n",
       "    <tr>\n",
       "      <th>4</th>\n",
       "      <td>Adelie</td>\n",
       "      <td>Torgersen</td>\n",
       "      <td>36.7</td>\n",
       "      <td>19.3</td>\n",
       "      <td>193.0</td>\n",
       "      <td>3450.0</td>\n",
       "      <td>female</td>\n",
       "      <td>2007</td>\n",
       "    </tr>\n",
       "  </tbody>\n",
       "</table>\n",
       "</div>"
      ],
      "text/plain": [
       "  species     island  bill_length_mm  bill_depth_mm  flipper_length_mm  \\\n",
       "0  Adelie  Torgersen            39.1           18.7              181.0   \n",
       "1  Adelie  Torgersen            39.5           17.4              186.0   \n",
       "2  Adelie  Torgersen            40.3           18.0              195.0   \n",
       "3  Adelie  Torgersen             NaN            NaN                NaN   \n",
       "4  Adelie  Torgersen            36.7           19.3              193.0   \n",
       "\n",
       "   body_mass_g     sex  year  \n",
       "0       3750.0    male  2007  \n",
       "1       3800.0  female  2007  \n",
       "2       3250.0  female  2007  \n",
       "3          NaN     NaN  2007  \n",
       "4       3450.0  female  2007  "
      ]
     },
     "execution_count": 36,
     "metadata": {},
     "output_type": "execute_result"
    }
   ],
   "source": [
    "df.head()"
   ]
  },
  {
   "attachments": {},
   "cell_type": "markdown",
   "metadata": {},
   "source": [
    "Il modulo pandas verrà discusso nel capitolo {ref}`intro_pandas_notebook`.\n",
    "\n",
    "## Watermark"
   ]
  },
  {
   "cell_type": "code",
   "execution_count": null,
   "metadata": {},
   "outputs": [],
   "source": [
    "%load_ext watermark\n",
    "%watermark -n -u -v -iv -w -p pytensor"
   ]
  }
 ],
 "metadata": {
  "kernelspec": {
   "display_name": "pymc",
   "language": "python",
   "name": "python3"
  },
  "language_info": {
   "codemirror_mode": {
    "name": "ipython",
    "version": 3
   },
   "file_extension": ".py",
   "mimetype": "text/x-python",
   "name": "python",
   "nbconvert_exporter": "python",
   "pygments_lexer": "ipython3",
   "version": "3.10.8"
  },
  "latex_envs": {
   "LaTeX_envs_menu_present": false,
   "autoclose": true,
   "autocomplete": true,
   "bibliofile": "biblio.bib",
   "cite_by": "apalike",
   "current_citInitial": 1,
   "eqLabelWithNumbers": true,
   "eqNumInitial": 1,
   "hotkeys": {
    "equation": "Ctrl-E",
    "itemize": "Ctrl-I"
   },
   "labels_anchors": false,
   "latex_user_defs": false,
   "report_style_numbering": true,
   "user_envs_cfg": true
  },
  "toc": {
   "base_numbering": 1,
   "nav_menu": {},
   "number_sections": true,
   "sideBar": false,
   "skip_h1_title": false,
   "title_cell": "Table of Contents",
   "title_sidebar": "Contents",
   "toc_cell": true,
   "toc_position": {},
   "toc_section_display": true,
   "toc_window_display": false
  },
  "vscode": {
   "interpreter": {
    "hash": "030ae53b1150d0ca6a72bb4a7a0454cbd9dab0eb2818ba119bbca0111e46e432"
   }
  }
 },
 "nbformat": 4,
 "nbformat_minor": 2
}
