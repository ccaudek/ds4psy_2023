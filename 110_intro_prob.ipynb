{
 "cells": [
  {
   "attachments": {},
   "cell_type": "markdown",
   "metadata": {},
   "source": [
    "(intro_prob_notebook)=\n",
    "# Introduzione al calcolo delle probabilità"
   ]
  },
  {
   "attachments": {},
   "cell_type": "markdown",
   "metadata": {},
   "source": [
    "In questa parte della dispensa verrà introdotta la teoria delle probabilità. Prima di entrare nei dettagli, cerchiamo di capire perché la probabilità sia così importante per la ricerca scientifica.\n",
    "\n",
    "La teoria delle probabilità è cruciale per la scienza perché la ricerca procede mediante l'inferenza induttiva. Non siamo mai completamente sicuri della verità di una proposizione (ipotesi, teoria): al valore di verità di una proposizione possiamo solo assegnare un grado di certezza probabilistico. L'approccio bayesiano è una scuola di pensiero che usa la probabilità per quantificare il grado di fiducia che può essere attribuito ad una proposizione. L'inferenza statistica bayesiana è un tipo di inferenza induttiva che ha lo scopo di quantificare la fiducia che si ha nell'ipotesi $H$ dopo avere osservato il dato di evidenza $E$. Per quantificare un tale grado di fiducia l'inferenza statistica bayesiana utilizza, appunto, la teoria delle probabilità. Una comprensione dell'inferenza statistica bayesiana richiede dunque, preliminarmente, la conoscenza (di almeno gli elementi di base) della teoria delle probabilità."
   ]
  },
  {
   "cell_type": "code",
   "execution_count": 501,
   "metadata": {},
   "outputs": [],
   "source": [
    "\n",
    "import pandas as pd\n",
    "import itertools as it\n",
    "from matplotlib import pyplot as plt\n",
    "import seaborn as sns\n",
    "import random\n",
    "import math\n",
    "from numpy import random\n",
    "import numpy as np\n",
    "from scipy.stats import bernoulli, binom\n",
    "import empiricaldist\n",
    "from scipy.constants import golden"
   ]
  },
  {
   "cell_type": "code",
   "execution_count": 476,
   "metadata": {},
   "outputs": [],
   "source": [
    "%matplotlib inline\n",
    "sns.set_theme(\n",
    "    context=\"paper\",\n",
    "    style=\"darkgrid\",\n",
    "    palette=\"colorblind\",\n",
    "    rc={'figure.figsize': (5.0, 5.0/golden)},\n",
    ")\n",
    "SEED = 123456\n",
    "rng = np.random.default_rng(SEED)"
   ]
  },
  {
   "attachments": {},
   "cell_type": "markdown",
   "metadata": {},
   "source": [
    "## Che cos'è la probabilità?\n",
    "\n",
    "La definizione della probabilità è un problema estremamente dibattuto ed aperto. Sono state fornite due possibili soluzioni al problema di definire il concetto di probabilità.\n",
    "\n",
    "- La natura della probabilità è \"ontologica\" (ovvero, basata sulla metafisica): la probabilità è una proprietà della della realtà, del mondo, di come sono le cose, indipendentemente dalla nostra esperienza. È una visione che qualcuno chiama \"oggettiva\".\n",
    "- La natura della probabilità è \"epistemica\" (ovvero, basata sulla conoscenza): la probabilità si riferisce alla conoscenza che abbiamo del mondo, non al mondo in sé. Di conseguenza è detta, in contrapposizione alla precedente definizione, \"soggettiva\".\n",
    "\n",
    "Il primo tentativo di definire la probabilità si è servito del calcolo combinatorio ed è attribuito a Pierre-Simon Laplace (1749–1827). Nel suo saggio, Laplace ha definito la probabilità $P$ del verificarsi di un dato evento come il rapporto tra il numero di casi in cui l'evento può verificarsi e il numero totale di eventi possibili. Qui, un evento è definito come qualcosa a cui possiamo assegnare un valore di verità, cioè qualcosa che può essere vero o falso. Un esempio molto semplice di tale definizione può essere fatto usando i dadi. La probabilità di ottenere 3 nel lancio di un singolo dado è 1/6 ≃ 0.17, perché c'è un caso favorevole (il lancio ha portato a 3) su sei casi possibili (i numeri da 1 a 6). Analogamente, la probabilità di estrarre un asso da un mazzo di 54 carte (52 figure e 2 jolly) è 4/54 ≃ 0.074, perché ci sono quattro assi in un mazzo. \n",
    "\n",
    "Una tale definizione è insoddisfacente, perché, per calcolare la probabilità di un evento, dobbiamo assumere che la probabilità di ogni evento sia la stessa, cioè che ogni evento sia equiprobabile. Da un punto di vista formale, inoltre, è circolare definire il concetto di probabilità assumendo che ogni evento abbia la stessa probabilità: è necessario sapere cosa significa \"equiprobabile\" per definire il concetto di probabilità.\n",
    "\n",
    "Un secondo tentativo di definire la probabilità è il cosiddetto approccio frequentista, che può essere attribuito a molti autori (si veda la corrispondente pagina di Wikipedia per un resoconto completo dei contributi). In questo approccio, la probabilità è definita sulla base delle frequenze osservate dell'occorrenza di un evento. La necessità di questa nuova definizione deriva dal fatto che spesso è difficile, se non impossibile, assegnare una probabilità agli eventi assumendo il principio di equiprobabilità, come nel caso dei dadi o delle carte di un mazzo. Chiaramente la probabilità di ottenere 3 come risultato del lancio lancio di un dado è 1/6 se crediamo che il dado sia bilanciato. Se così non fosse (ed è molto probabile che non sia così, a causa delle imperfezioni nella costruzione del dado), non possiamo assegnare la stessa probabilità a tutti i risultati possibili. Tuttavia, possiamo stimare le probabilità come la frequenza $f_3$, definita come\n",
    "\n",
    "$$\n",
    "f_3 = \\frac{n_3}{N},\n",
    "$$\n",
    "\n",
    "dove $n_3$ è il numero di volte in cui un lancio ha prodotto 3 in un insieme di $N$ lanci. Chiaramente, questa è solo un'approssimazione della probabilità. Infatti, se effettuiamo una nuova serie di $N$ lanci, è molto improbabile ottenere lo stesso numero di 3, $n_3$, come in precedenza. Tuttavia, ci aspettiamo che $n_3'$ sia simile a $n_3$ se $N$ è abbastanza grande. Maggiore è $N$, migliore è la stima della probabilità. In linea di principio si può dire che la probabilità di ottenere 3, $P(3)$, è\n",
    "\n",
    "$$\n",
    "𝑃(3)= \\lim_{N \\rightarrow \\infty}\\frac{n_3}{N}.\n",
    "$$\n",
    "\n",
    "Tuttavia, in questo caso, il limite non è un limite matematico ma un limite sperimentale, ed è chiaramente impossibile osservare i risultati di un numero infinito di prove. Anche in questo caso, quindi, la definizione di probabilità non è così ovvia: essa dipende dagli eventi accaduti nel passato, i quali devono essere assunti come rappresentativi dell'intero insieme degli eventi possibili, cioè devono avere la stessa probabilità degli eventi futuri.\n",
    "\n",
    "In entrambi i casi valgono le seguenti regole. Se un evento è impossibile, la sua probabilità è nulla. Se un evento è certo, la sua probabilità è 1.\n",
    "\n",
    "Un approccio più moderno consiste nella cosiddetta probabilità bayesiana, da Thomas Bayes (1701–1761). In questo approccio, la probabilità è considerata una valutazione soggettiva del grado di convinzione che qualcosa accadrà. Spesso è espresso in termini di scommessa. Questa è la caratterizzazione epistemica della probabilità.\n",
    "\n",
    "In termini epistemici, la probabilità fornisce una misura della nostra incertezza sul verificarsi di un evento, alla luce delle informazioni disponibili. Potremmo dire che c'è una \"scala\" naturale che ha per estremi il vero (1: evento certo), da una parte, ed il falso (0: evento impossibile), dall'altra. La probabilità è la quantificazione di questa scala: descrive lo stato della nostra incertezza rispetto al contenuto di verità di una proposizione.\n",
    "\n",
    "L'incertezza nelle nostre previsioni può sorgere per due ragioni fondamentalmente diverse. La prima è dovuta alla nostra ignoranza relativamente alle cause nascoste sottostanti o dei meccanismi che generano i dati. Questa è, appunto, un'incertezza *epistemica*. Il secondo tipo di incertezza deriva invece dalla variabilità intrinseca dei fenomeni, che non può essere ridotta anche se raccogliamo più dati. Questa seconda forma di incertezza è talvolta chiamata *aleatoria*. Come esempio concreto, consideriamo il lancio di una moneta equilibrata. Sappiamo con certezza che la probabilità di testa è $P = 0.5$, quindi non c'è incertezza epistemica, ma non questo non è sufficiente per prevedere con certezza il risultato -- in altre parole, l'incertezza aleatoria persiste anche in assenza di incertezza epistemica.\n",
    "\n",
    "L'interpretazione bayesiana di probabilità si contrappone all'interpretazione frequentista. Nell'interpretazione frequentista, la probabilità $P(E)$ rappresenta la frequenza relativa a lungo termine di un grande numero di ripetizioni di un esperimento casuale sotto le medesime condizioni. Viene stressata qui l'idea che ciò di cui parliamo è qualcosa che emerge nel momento in cui è possibile ripetere l'esperimento casuale tante volte sotto le medesime condizioni -- sono invece esclusi gli eventi unici e irripetibili.\n",
    "\n",
    "L'interpretazione bayesiana della probabilità fa invece ricorso ad una concezione più ampia, non legata al solo evento in sé, ma che include anche il soggetto assegnante la funzione di probabilità. In pratica l'assegnazione di probabilità bayesiana viene effettuata dal decisore, in base alle proprie conoscenze a priori integrate con tutto il generico bagaglio culturale personale. In questo modo, la probabilità non sarà obbligatoriamente la stessa per tutti i soggetti, ma variarierà a seconda delle informazioni a disposizione, dell'esperienza personale e soprattutto del punto di vista proprio di ogni decisore ed è dunque assimilabile al \"grado di fiducia\" -- in inglese *degree of belief* -- di un dato soggetto, in un dato istante e con un dato insieme d'informazioni, circa l'accadere dell'evento $E$.\n",
    "\n",
    "> \\[N\\]essuna scienza ci permetterà di dire: il tale fatto accadrà, andrà così e così, perché ciò è conseguenza di tale legge, e tale legge è una verità assoluta, ma tanto meno ci condurrà a concludere scetticamente: la verità assoluta non esiste, e quindi tale fatto può accadere e può non accadere, può andare così e può andare in tutt'altro modo, nulla io ne so. Quel che si potrà dire è questo: io prevedo che il tale fatto avverrà, e avverrà nel tal modo, perché l'esperienza del passato e l'elaborazione scientifica cui il pensiero dell'uomo l'ha sottoposta mi fanno sembrare ragionevole questa previsione\" (De Finetti, 1931). \n",
    "\n",
    "```{admonition} Nota\n",
    "La caratterizzazione 'epistemica' della nozione di probabilità può essere chiarita facendo riferimento all'esempio prototipico con il quale la probabilità viene solitamente descritta, ovvero come una frequenza relativa. A questo proposito, McElreath ci chiede di riflettere con maggiore attenzione sul fenomeno costituito da una sequenza di lanci di una moneta, ovvero l'esempio tradizionale con il quale si descrive un evento \"aleatorio\". Ingenuamente potremmo pensare che un tale fenomeno sia \"casuale\", nel senso che, all'interno della sequenza, non vi è alcuna informazione negli eventi (lanci) passati che sia utile per prevedere gli eventi futuri. Ma non è così. Il lancio di una moneta è un fenomeno deterministico, regolato dalle leggi fisiche. Infatti, sono state create delle macchine che, applicando la stessa forza ogni volta, sono in grado di ripetere lo stesso esito (testa o croce) in ogni prova. Questo significa che la \"casualità\" della sequenza di lanci non è una proprietà del fenomeno fisico che vorremmo descrivere (i fenomeni fisici sono sempre deterministici in quanto sono regolati dalle leggi della fisica) ma bensì è epistemica, ovvero riguarda lo stato dell'informazione disponibile all'osservatore.\n",
    "```\n",
    "\n",
    "### Formalizzazione dell'incertezza\n",
    "\n",
    "La caratterizzazione della probabilità quale rappresentazione dell'incertezza epistemica è stata formalizzata in ambito bayesiano da Ramsey e de Finetti. De Finetti riconduce l'assegnazione di probabilità allo scommettere sul verificarsi di un evento: la probabilità di un evento $E$ è la quota $p(E)$ che un individuo reputa di dover pagare ad un banco per ricevere \"1\" ovvero \"0\" verificandosi o non verificandosi $E$.\n",
    "\n",
    "In termini formali, secondo De Finetti, le valutazioni di probabilità degli eventi devono rispondere ai principi di equità e coerenza.\n",
    "\n",
    "-   Una scommessa risponde al principio di *equità* se il ruolo di banco e giocatore sono scambiabili in ogni momento del gioco e sempre alle stesse condizioni.\n",
    "-   Una scommessa risponde al principio di *coerenza* se non vi sono combinazioni di scommesse che consentano (sia al banco che al giocatore) di realizzare perdite o vincite certe.\n",
    "\n",
    "L'approccio definettiano dell'impostazione della scommessa si basa dunque sulle assunzioni di razionalità e coerenza del decisore, al quale è fatto esplicito divieto di effettuare scommesse a perdita o guadagno certo. Il decisore, proponendo la scommessa, deve essere disposto a scambiare il posto dello scommettitore con quello del banco.\n",
    "\n",
    "Il metodo della scommessa, oltre che una definizione, fornisce un mezzo operativo di assegnazione della probabilità. Sulla base di questa definizione operativa, che si può ritenere ragionevolmente soddisfatta dal comportamento di un qualunque individuo che agisca in modo razionale in condizioni di incertezza, possono essere agevolmente dimostrate tutte le proprietà classiche della probabilità: essa non può assumere valori negativi, né può essere superiore all'unità; se $E$ è un evento certo, la sua probabilità è 1; se invece $E$ è un evento impossibile, la sua probabilità è 0.\n",
    "\n",
    "I problemi posti dall'approccio definettiano riguardano l'arbitrarietà dell'assegnazione soggettività di probabilità la quale sembra negare la validità dell'intero costrutto teorico. In risposta a tale critica, i bayesiani sostengono che gli approcci oggettivisti alla probabilità nascondono scelte arbitrarie preliminari e sono basate su assunzioni implausibili. È molto più onesto esplicitare subito tutte le scelte arbitrarie effettuate nel corso dell'analisi in modo da controllarne coerenza e razionalità.\n",
    "\n",
    "```{admonition} Nota\n",
    "Per chi desidera approfondire, un'introduzione molto leggibile alle tematiche della definizione della probabilità nella storia della scienza è fornita nel primo capitolo del testo *Bernoulli's fallacy* {cite:p}`clayton2021bernoulli`.\n",
    "```\n",
    "\n",
    "## Variabili casuali e probabilità di un evento\n",
    "\n",
    "Esaminiamo qui di seguito alcuni concetti di base della teoria delle probabilità, la quale può essere intesa come un'estensione della logica.\n",
    "\n",
    "### Eventi e probabilità\n",
    "\n",
    "Nella teoria delle probabilità il risultato \"testa\" nel lancio di una moneta è chiamato *evento*.[^015_prob_intro-1] Un evento, denotato da una variabile binaria, corrisponde ad uno stato del mondo che si verifica oppure no. Ad esempio, $Y$ = 1 può denotare l'evento per cui il lancio di una moneta produce il risultato testa. Il funzionale $P(Y)$ denota la probabilità con cui si ritiene che l'evento $Y$ sia vero (o la proporzione di volte che si verifica tale evento osservando a lungo termine delle ripetizioni indipendenti di un esperimento casuale). Ad esempio, per il lancio di una moneta equilibrata, la probabilità dell'evento \"il risultato del lancio della moneta è testa\" è scritta come $P(Y = 1) = 0.5.$\n",
    "\n",
    "Se la moneta è equilibrata dobbiamo anche avere $P(Y = 0) = 0.5$. I due eventi $Y$ = 1 e $Y$ = 0 sono *mutuamente esclusivi* nel senso che non possono entrambi verificarsi contemporaneamente: $P(Y = 1\\; \\land \\; Y = 0) = 0.$ Gli eventi $Y$ = 1 e $Y$ = 0 di dicono *esaustivi*, nel senso che almeno uno di essi deve verificarsi e nessun altro tipo di evento è possibile. Nella notazione probabilistica, $P(Y = 1\\; \\lor \\; Y = 0) = 1.$ Il connettivo logico \"o\" ($\\lor$) specifica eventi *disgiunti*, ovvero eventi che non possono verificarsi contemporaneamente (eventi *incompatibili*) e per i quali, perciò, la probabilità della loro congiunzione è $P(A \\; \\land \\; B) = 0$. Il connettivo logico \"e\" ($\\land$), invece, specifica eventi *congiunti*, ovvero eventi che possono verificarsi contemporaneamente (eventi *compatibili*) e per i quali, perciò, la probabilità della loro congiunzione è $P(A \\; \\land \\; B) > 0$. La probabilità del verificarsi di due eventi congiunti $A$ e $B$ si può denotare, in maniera equivalente, con la notazione precedente, oppure con $P(A \\cap B)$, oppure con $P(A, B)$.\n",
    "\n",
    "Si richiede che $0 \\leq P(A) \\leq 1$, dove $P(A) = 0$ denota l'evento impossibile e $P(A) = 1$ denota l'evento certo. Scriviamo $P(\\lnot A)$ o $P(\\bar{A})$ per denotare la probabilità che l'evento $A$ non avvenga; questa probabilità è definita come $P(\\bar{A}) = 1 − P(A)$.\n",
    "\n",
    "### Spazio campione e risultati possibili\n",
    "\n",
    "Anche se il lancio di una moneta produce sempre uno specifico risultato nel mondo reale, possiamo anche immaginare i possibili risultati alternativi che si sarebbero potuti osservare. Quindi, anche se in uno specifico lancio la moneta dà testa ($Y$ = 1), possiamo immaginare la possibilità che il lancio possa avere prodotto croce ($Y$ = 0). Tale ragionamento controfattuale è la chiave per comprendere la teoria delle probabilità e l'inferenza statistica.\n",
    "\n",
    "Sia $Y$ il risultato del lancio di moneta equilibrata; non di un generico lancio di una moneta, ma un'istanza specifica del lancio di una specifica moneta in un dato momento. Definita in questo modo, $Y$ è una *variabile casuale*, ovvero una variabile i cui valori non possono essere previsti con esattezza. Se la moneta è equilibrata, c'è una probabilità del 50% che il lancio della moneta dia come risultato \"testa\" e una probabilità del 50% che dia come risultato \"croce\". Per facilitare la trattazione, le variabili casuali assumono solo valori numerici. Per lo specifico lancio della moneta in questione, diciamo, ad esempio, che la variabile casuale $Y$ assume il valore 1 se esce testa e il valore 0 se esce croce.\n",
    "\n",
    "I risultati possibili che si possono osservare come conseguenza del lancio di una moneta determinano i valori possibili che la variabile casuale può assumere. Una variabile casuale può essere *discreta* o *continua*. Una variabile casuale discreta può assumere un numero finito di valori $x_1, \\dots ,x_n$, in corrispondenza degli eventi $E_i, \\dots, E_n$ che si verificano con le rispettive probabilità $p_1, \\dots, p_n$. Un esempio è il punteggio totale di un test psicometrico costituito da item su scala Likert. Invece un esempio di una variabile casuale continua è la distanza tra due punti, che può assumere infiniti valori all'interno di un certo intervallo. \n",
    "\n",
    "L'insieme $\\Omega$ di tutti i risultati possibili, ovvero l'insieme dei valori che la variabile casuale può assumere, è chiamato *spazio campione* (*sample space*). Lo spazio campione può essere concettualizzato come un'urna contenente una pallina per ogni possibile risultato del lancio della moneta. Su ogni pallina è scritto il valore della variabile casuale. Uno specifico lancio di una moneta -- ovvero, l'osservazione di uno specifico valore di una variabile casuale -- è chiamato *esperimento casuale*.\n",
    "\n",
    "Il lancio di un dado ci fornisce l'esempio di un altro esperimento casuale. Supponiamo di essere interessati all'evento \"il lancio del dado produce un numero dispari\". Un *evento* seleziona un sottoinsieme dello spazio campione: in questo caso, l'insieme dei risultati $\\{1, 3, 5\\}$. Se esce 3, per esempio, diciamo che si è verificato l'evento \"dispari\" (ma l'evento \"dispari\" si sarebbe anche verificato anche se fosse uscito 1 o 5).\n",
    "\n",
    "### Variabili casuali multiple\n",
    "\n",
    "Le variabili casuali non esistono isolatamente. Abbiamo iniziato con una sola variabile casuale $Y$ che rappresenta il risultato del lancio di una moneta equlibrata. Ma supponiamo di lanciare la moneta tre volte. I risultati di ciascuno dei tre lanci possono essere rappresentati da una diversa variabile casuale, ad esempio, $Y_1 , Y_2 , Y_3$. Possiamo assumere che ogni lancio sia indipendente, ovvero che non dipenda dal risultato degli altri lanci. Per ciascuna di queste variabili $Y_n$, con $n \\in 1:3$, abbiamo che $P(Y_n =1)=0.5$ e $P(Y_n =0)=0.5$.\n",
    "\n",
    "È possibile combinare più variabili casuali usando le operazioni aritmetiche. Se $Y_1 , Y_2, Y_3$ sono variabili casuali che rappresentano tre lanci di una moneta equilibrata (o, in maniera equivalente, un lancio di tre monete equilibrate), possiamo definire la somma di tali variabili casuali come\n",
    "\n",
    "$$\n",
    "Z = Y_1 + Y_2 + Y_3.\n",
    "$$\n",
    "\n",
    "Una variabile casuale le cui modalità possono essere costituite solo da numeri interi è detta *variabile casuale discreta*:\n",
    "\n",
    "$$\n",
    "\\mathbb{Z} = \\dots, -2, -1, 0, 1, 2, \\dots\n",
    "$$\n",
    "\n",
    "(sec-fun-mass-prob)=\n",
    "## Funzione di massa di probabilità\n",
    "\n",
    "La caratteristica fondamentale di una variabile casuale è data dall'insieme delle probabilità dei suoi valori, detta *distribuzione di probabilità*. Nel seguito useremo la notazione $P(\\cdot)$ per fare riferimento alle distribuzioni di probabilità delle variabili casuali discrete e $p(\\cdot)$ per fare riferimento alla densità di probabilità delle variabili casuali continue. In questo contesto, l'insieme dei valori che la variabile casuale può assumere è detto *supporto* della sua distribuzione di probabilità. Il supporto di una variabile casuale può essere finito (come nel caso di una variabile casuale uniforme di supporto $[a, b]$) o infinito (nel caso di una variabile causale gaussiana il cui supporto coincide con la retta reale).\n",
    "\n",
    "È conveniente avere una funzione che associa una probabilità a ciascun possibile valore di una variabile casuale. In generale, ciò è possibile se e solo se la variabile casuale è discreta, così com'è stata definita nel paragrafo precedente. \n",
    "\n",
    "Consideriamo ora, quale esempio, l'esperiemento casuale del lancio di due dadi equilibrati a 6 facce. Definiamo la variabile casuale $Z = D_1 + D_2$ come la somma dei punti ottenuti dai due lanci. Esaminiamo lo spazio campione:"
   ]
  },
  {
   "cell_type": "code",
   "execution_count": 477,
   "metadata": {},
   "outputs": [
    {
     "data": {
      "text/plain": [
       "[(1, 1),\n",
       " (1, 2),\n",
       " (1, 3),\n",
       " (1, 4),\n",
       " (1, 5),\n",
       " (1, 6),\n",
       " (2, 1),\n",
       " (2, 2),\n",
       " (2, 3),\n",
       " (2, 4),\n",
       " (2, 5),\n",
       " (2, 6),\n",
       " (3, 1),\n",
       " (3, 2),\n",
       " (3, 3),\n",
       " (3, 4),\n",
       " (3, 5),\n",
       " (3, 6),\n",
       " (4, 1),\n",
       " (4, 2),\n",
       " (4, 3),\n",
       " (4, 4),\n",
       " (4, 5),\n",
       " (4, 6),\n",
       " (5, 1),\n",
       " (5, 2),\n",
       " (5, 3),\n",
       " (5, 4),\n",
       " (5, 5),\n",
       " (5, 6),\n",
       " (6, 1),\n",
       " (6, 2),\n",
       " (6, 3),\n",
       " (6, 4),\n",
       " (6, 5),\n",
       " (6, 6)]"
      ]
     },
     "execution_count": 477,
     "metadata": {},
     "output_type": "execute_result"
    }
   ],
   "source": [
    "r = range(1, 7)\n",
    "sample = [(i, j) for i in r for j in r]\n",
    "sample"
   ]
  },
  {
   "attachments": {},
   "cell_type": "markdown",
   "metadata": {},
   "source": [
    "In corrispondenza del primo punto dello spazio campione elencato sopra, $Z$ assume valore 2; corrispondenza del secondo punto assume valore 3, ecc. \n",
    "\n",
    "Le sequenze come (1, 1), (1, 2), ecc. sono chiamate \"eventi elementari\" (ovvero, corrispondono ad un possibile esito dell'esperimento casuale). Lo spazio campione di questo esperimento casuale è costituito da 36 eventi elementari:"
   ]
  },
  {
   "cell_type": "code",
   "execution_count": 9,
   "metadata": {},
   "outputs": [
    {
     "data": {
      "text/plain": [
       "36"
      ]
     },
     "execution_count": 9,
     "metadata": {},
     "output_type": "execute_result"
    }
   ],
   "source": [
    "len(sample)"
   ]
  },
  {
   "attachments": {},
   "cell_type": "markdown",
   "metadata": {},
   "source": [
    "L'evento $Z = u$, con $u \\in 2 \\dots, 12$ è un \"evento composto\", il quale può essere costituito da più eventi elementari. Per esempio, l'evento $Z$ = 2 è composto da un unico evento elementare: (1, 1); l'evento $Z$ = 3 è composto da due eventi elementari: (1, 1) e (1, 2); e così via.\n",
    "\n",
    "Nel nostro esempio costruito usando Python, ogni elemento della lista `sample` è una lista di due elementi. Per trovare il valore della variabile casuale $Z$, dunque, dobbiamo sommare. In corrispondenza del primo punto campione (1, 1) il valore di $Z$ è 2:"
   ]
  },
  {
   "cell_type": "code",
   "execution_count": 20,
   "metadata": {},
   "outputs": [
    {
     "data": {
      "text/plain": [
       "2"
      ]
     },
     "execution_count": 20,
     "metadata": {},
     "output_type": "execute_result"
    }
   ],
   "source": [
    "sum(sample[0])"
   ]
  },
  {
   "attachments": {},
   "cell_type": "markdown",
   "metadata": {},
   "source": [
    "In corrispondenza dell'ultimo punto dello spazio campione (6, 6), il valore di $Z$ è 12:"
   ]
  },
  {
   "cell_type": "code",
   "execution_count": 28,
   "metadata": {},
   "outputs": [
    {
     "data": {
      "text/plain": [
       "12"
      ]
     },
     "execution_count": 28,
     "metadata": {},
     "output_type": "execute_result"
    }
   ],
   "source": [
    "sum(sample[35])"
   ]
  },
  {
   "attachments": {},
   "cell_type": "markdown",
   "metadata": {},
   "source": [
    "Creo ora la lista `z` che memorizza il valore assunto dalla variabile casuale $Z$ in corrispondenza di ciascun punto dello spazio campione:"
   ]
  },
  {
   "cell_type": "code",
   "execution_count": 10,
   "metadata": {},
   "outputs": [
    {
     "data": {
      "text/plain": [
       "[2,\n",
       " 3,\n",
       " 4,\n",
       " 5,\n",
       " 6,\n",
       " 7,\n",
       " 3,\n",
       " 4,\n",
       " 5,\n",
       " 6,\n",
       " 7,\n",
       " 8,\n",
       " 4,\n",
       " 5,\n",
       " 6,\n",
       " 7,\n",
       " 8,\n",
       " 9,\n",
       " 5,\n",
       " 6,\n",
       " 7,\n",
       " 8,\n",
       " 9,\n",
       " 10,\n",
       " 6,\n",
       " 7,\n",
       " 8,\n",
       " 9,\n",
       " 10,\n",
       " 11,\n",
       " 7,\n",
       " 8,\n",
       " 9,\n",
       " 10,\n",
       " 11,\n",
       " 12]"
      ]
     },
     "execution_count": 10,
     "metadata": {},
     "output_type": "execute_result"
    }
   ],
   "source": [
    "z = [sum(point) for point in sample]\n",
    "z"
   ]
  },
  {
   "attachments": {},
   "cell_type": "markdown",
   "metadata": {},
   "source": [
    "Conto ora quante volte si presenta ciascun valore possibile $Z$ nello spazio campione:"
   ]
  },
  {
   "cell_type": "code",
   "execution_count": 51,
   "metadata": {},
   "outputs": [
    {
     "name": "stdout",
     "output_type": "stream",
     "text": [
      "z = 2 : 1 / 36\n",
      "z = 3 : 2 / 36\n",
      "z = 4 : 3 / 36\n",
      "z = 5 : 4 / 36\n",
      "z = 6 : 5 / 36\n",
      "z = 7 : 6 / 36\n",
      "z = 8 : 5 / 36\n",
      "z = 9 : 4 / 36\n",
      "z = 10 : 3 / 36\n",
      "z = 11 : 2 / 36\n",
      "z = 12 : 1 / 36\n"
     ]
    }
   ],
   "source": [
    "r = range(1, 7)\n",
    "sample = [(i, j) for i in r for j in r]\n",
    "\n",
    "for i in range(2, 13):\n",
    "    event = [roll for roll in sample if sum(roll) == i]\n",
    "    print(f\"z = {i} : {len(event)} / {len(sample)}\")"
   ]
  },
  {
   "attachments": {},
   "cell_type": "markdown",
   "metadata": {},
   "source": [
    "La variabile casuale $Z$ assume valore 2 in un solo punto dello spazio capione: (1, 1); assume valore 3 in corrispondenza di due punti dello spazio campione: (1, 2) e (2, 1); e così via. \n",
    "\n",
    "Calcolo ora la *proporzione* di volte in cui ciascun valore $Z$ si presenta nello spazio campione: 1/36, 2/36, ecc.: "
   ]
  },
  {
   "cell_type": "code",
   "execution_count": 11,
   "metadata": {},
   "outputs": [
    {
     "data": {
      "text/plain": [
       "[0.027777777777777776,\n",
       " 0.05555555555555555,\n",
       " 0.08333333333333333,\n",
       " 0.1111111111111111,\n",
       " 0.1388888888888889,\n",
       " 0.16666666666666666,\n",
       " 0.1388888888888889,\n",
       " 0.1111111111111111,\n",
       " 0.08333333333333333,\n",
       " 0.05555555555555555,\n",
       " 0.027777777777777776]"
      ]
     },
     "execution_count": 11,
     "metadata": {},
     "output_type": "execute_result"
    }
   ],
   "source": [
    "px = []\n",
    "\n",
    "for i in range(2, 13):\n",
    "    event = [roll for roll in sample if sum(roll) == i]\n",
    "    px.append(len(event) / len(sample))\n",
    "\n",
    "px\n"
   ]
  },
  {
   "cell_type": "code",
   "execution_count": 12,
   "metadata": {},
   "outputs": [
    {
     "data": {
      "text/plain": [
       "[(2, 0.027777777777777776),\n",
       " (3, 0.05555555555555555),\n",
       " (4, 0.08333333333333333),\n",
       " (5, 0.1111111111111111),\n",
       " (6, 0.1388888888888889),\n",
       " (7, 0.16666666666666666),\n",
       " (8, 0.1388888888888889),\n",
       " (9, 0.1111111111111111),\n",
       " (10, 0.08333333333333333),\n",
       " (11, 0.05555555555555555),\n",
       " (12, 0.027777777777777776)]"
      ]
     },
     "execution_count": 12,
     "metadata": {},
     "output_type": "execute_result"
    }
   ],
   "source": [
    "list(zip(list(range(2, 13)), px))\n"
   ]
  },
  {
   "attachments": {},
   "cell_type": "markdown",
   "metadata": {},
   "source": [
    "La funzione $p_Z$ così ottenuta, ovvero\n",
    "\n",
    "$$\n",
    "\\begin{array}{rclll}\n",
    "p_Z(2) & =&  1/36 \\\\\n",
    "p_Z(3) & = & 2/36 \\\\\n",
    "p_Z(4) & = & 3/36 \\\\\n",
    "p_Z(5) & = & 4/36 \\\\\n",
    "p_Z(6) & = & 5/36 \\\\\n",
    "p_Z(7) & = & 6/36 \\\\\n",
    "p_Z(8) & = & 5/36 \\\\\n",
    "p_Z(9) & = & 4/36 \\\\\n",
    "p_Z(10) & = & 3/36 \\\\\n",
    "p_Z(11) & = & 2/36 \\\\\n",
    "p_Z(12) & = & 1/36 \\\\\n",
    "\\end{array}\n",
    "$$\n",
    "\n",
    "associa a ciascun valore $u$ della variabile casuale $Z$ la probabilità dell'evento $Z = u$. Abbiamo ottenuto le probabilità dividendo il numero di punti dello spazio campione che corrispondono allo stesso valore $D_1 + D_2$ per il numero totale dei punti che costiuiscono lo spazio campione.  Convenzionalmente, queste probabilità sono scritte come\n",
    "\n",
    "$$\n",
    "P_Z(z) = P(Z = z).\n",
    "$$\n",
    "\n",
    "L'espressione $P_Z(z)$ si può leggere come: \"la probabilità che la variabile casuale $Z$ assuma il valore $z$\". Una funzione definita come sopra è detta *funzione di massa di probabilità* della variabile casuale $Z$. Ad ogni variabile casuale discreta è associata un'unica funzione di massa di probabilità.\n",
    "\n",
    "Se $A$ è un sottoinsieme della variabile casuale $Z$, allora denotiamo con $P_{z}(A)$ la probabilità assegnata ad $A$ dalla distribuzione $P_{z}$. Mediante una distribuzione di probabilità $P_{z}$ è possibile determinare la probabilità di ciascun sottoinsieme $A \\subset Z$ come\n",
    "\n",
    "$$\n",
    "P_{z}(A) = \\sum_{z \\in A} P_{z}(Z = z).\n",
    "$$\n",
    "\n",
    "Una funzione di massa di probabilità soddisfa le proprietà\n",
    "\n",
    "-   $0 \\leq P(X=x) \\leq 1$,\n",
    "-   $\\sum_{x \\in X} P(x) = 1$.\n",
    "\n",
    "Per l'esempio relativo al lancio di due dadi, la probabilità che la variabile casuale $Z$ sia un numero dispari è\n",
    "\n",
    "$$\n",
    "\\begin{align}\n",
    "P(\\text{Z è un numero dispari}) &= P_{z}(Z = 3) + P_{z}(Z = 5) + P_{z}(Z = 7) + P_{z}(Z = 11)\\notag\\\\\n",
    "&= \\frac{2}{36} + \\frac{4}{36} + \\frac{6}{36} + \\frac{4}{36} + \\frac{2}{36}\\notag\\\\\n",
    "&= \\frac{1}{2}.\\notag\n",
    "\\end{align}\n",
    "$$\n",
    "\n",
    "### Funzione di ripartizione\n",
    "\n",
    "Data una variabile casuale discreta $X$ possiamo calcolare la probabilità che $X$ non superi un certo valore $x$, ossia la sua *funzione di ripartizione*. Poichè $X$ assume valori discreti possiamo cumulare le probabilità mediante una somma:\n",
    "\n",
    "$$\n",
    "F(x_k) = P(X \\leq x_k) = \\sum_{x \\leq x_k} P(x).\n",
    "$$\n",
    "\n",
    "Per l'esempio relativo al lancio dei due dadi, la funzione di ripartizione della variabile casuale $Z$ è fornita nella tabella seguente.\n",
    "\n",
    "```{table}\n",
    "| z   | p(z) | p(z <= k) |\n",
    "| --- | --- | --------- |\n",
    "| 2   | 1/36 |  1/16    |\n",
    "| 3   | 2/36 |  3/16    |\n",
    "| 4   | 3/36 |  6/16    |\n",
    "| 5   | 4/36 |  10/16   |\n",
    "| 6   | 5/36 |  15/16   |\n",
    "| 7   | 6/36 |  21/16   |\n",
    "| 8   | 5/36 |  26/16   |\n",
    "| 9   | 4/36 |  30/16   |\n",
    "| 10  | 3/36 |  33/16   |\n",
    "| 11  | 2/36 |  35/16   |\n",
    "| 12  | 1/36 |  36/16   |\n",
    "```"
   ]
  },
  {
   "attachments": {},
   "cell_type": "markdown",
   "metadata": {},
   "source": [
    "Ora che abbiamo capito come calcolare la distribuzione di massa di probabilità, usiamo le funzioni di `empiricaldist` che consentono di eseguire le operazioni precedenti con maggiore facilità. Creiamo la distribuzione di massa di probabilità per la variabile casuale corrispondente ai punti ottenuti dal lancio di un dado bilanciato a sei facce."
   ]
  },
  {
   "cell_type": "code",
   "execution_count": 2,
   "metadata": {},
   "outputs": [
    {
     "data": {
      "text/html": [
       "<div>\n",
       "<style scoped>\n",
       "    .dataframe tbody tr th:only-of-type {\n",
       "        vertical-align: middle;\n",
       "    }\n",
       "\n",
       "    .dataframe tbody tr th {\n",
       "        vertical-align: top;\n",
       "    }\n",
       "\n",
       "    .dataframe thead th {\n",
       "        text-align: right;\n",
       "    }\n",
       "</style>\n",
       "<table border=\"1\" class=\"dataframe\">\n",
       "  <thead>\n",
       "    <tr style=\"text-align: right;\">\n",
       "      <th></th>\n",
       "      <th>probs</th>\n",
       "    </tr>\n",
       "  </thead>\n",
       "  <tbody>\n",
       "    <tr>\n",
       "      <th>1</th>\n",
       "      <td>0.166667</td>\n",
       "    </tr>\n",
       "    <tr>\n",
       "      <th>2</th>\n",
       "      <td>0.166667</td>\n",
       "    </tr>\n",
       "    <tr>\n",
       "      <th>3</th>\n",
       "      <td>0.166667</td>\n",
       "    </tr>\n",
       "    <tr>\n",
       "      <th>4</th>\n",
       "      <td>0.166667</td>\n",
       "    </tr>\n",
       "    <tr>\n",
       "      <th>5</th>\n",
       "      <td>0.166667</td>\n",
       "    </tr>\n",
       "    <tr>\n",
       "      <th>6</th>\n",
       "      <td>0.166667</td>\n",
       "    </tr>\n",
       "  </tbody>\n",
       "</table>\n",
       "</div>"
      ],
      "text/plain": [
       "1    0.166667\n",
       "2    0.166667\n",
       "3    0.166667\n",
       "4    0.166667\n",
       "5    0.166667\n",
       "6    0.166667\n",
       "Name: , dtype: float64"
      ]
     },
     "execution_count": 2,
     "metadata": {},
     "output_type": "execute_result"
    }
   ],
   "source": [
    "d1 = empiricaldist.Pmf.from_seq([1,2,3,4,5,6])\n",
    "d1"
   ]
  },
  {
   "attachments": {},
   "cell_type": "markdown",
   "metadata": {},
   "source": [
    "Ora generiamo la distribuzione di massa di probabilità per la somma dei punti ottenuti dal lancio di due dadi equilibrati a sei facce."
   ]
  },
  {
   "cell_type": "code",
   "execution_count": 11,
   "metadata": {},
   "outputs": [
    {
     "data": {
      "text/html": [
       "<div>\n",
       "<style scoped>\n",
       "    .dataframe tbody tr th:only-of-type {\n",
       "        vertical-align: middle;\n",
       "    }\n",
       "\n",
       "    .dataframe tbody tr th {\n",
       "        vertical-align: top;\n",
       "    }\n",
       "\n",
       "    .dataframe thead th {\n",
       "        text-align: right;\n",
       "    }\n",
       "</style>\n",
       "<table border=\"1\" class=\"dataframe\">\n",
       "  <thead>\n",
       "    <tr style=\"text-align: right;\">\n",
       "      <th></th>\n",
       "      <th>probs</th>\n",
       "    </tr>\n",
       "  </thead>\n",
       "  <tbody>\n",
       "    <tr>\n",
       "      <th>2</th>\n",
       "      <td>0.027778</td>\n",
       "    </tr>\n",
       "    <tr>\n",
       "      <th>3</th>\n",
       "      <td>0.055556</td>\n",
       "    </tr>\n",
       "    <tr>\n",
       "      <th>4</th>\n",
       "      <td>0.083333</td>\n",
       "    </tr>\n",
       "    <tr>\n",
       "      <th>5</th>\n",
       "      <td>0.111111</td>\n",
       "    </tr>\n",
       "    <tr>\n",
       "      <th>6</th>\n",
       "      <td>0.138889</td>\n",
       "    </tr>\n",
       "    <tr>\n",
       "      <th>7</th>\n",
       "      <td>0.166667</td>\n",
       "    </tr>\n",
       "    <tr>\n",
       "      <th>8</th>\n",
       "      <td>0.138889</td>\n",
       "    </tr>\n",
       "    <tr>\n",
       "      <th>9</th>\n",
       "      <td>0.111111</td>\n",
       "    </tr>\n",
       "    <tr>\n",
       "      <th>10</th>\n",
       "      <td>0.083333</td>\n",
       "    </tr>\n",
       "    <tr>\n",
       "      <th>11</th>\n",
       "      <td>0.055556</td>\n",
       "    </tr>\n",
       "    <tr>\n",
       "      <th>12</th>\n",
       "      <td>0.027778</td>\n",
       "    </tr>\n",
       "  </tbody>\n",
       "</table>\n",
       "</div>"
      ],
      "text/plain": [
       "2     0.027778\n",
       "3     0.055556\n",
       "4     0.083333\n",
       "5     0.111111\n",
       "6     0.138889\n",
       "7     0.166667\n",
       "8     0.138889\n",
       "9     0.111111\n",
       "10    0.083333\n",
       "11    0.055556\n",
       "12    0.027778\n",
       "Name: , dtype: float64"
      ]
     },
     "execution_count": 11,
     "metadata": {},
     "output_type": "execute_result"
    }
   ],
   "source": [
    "d2 = d1.add_dist(d1)\n",
    "d2"
   ]
  },
  {
   "cell_type": "code",
   "execution_count": 4,
   "metadata": {},
   "outputs": [],
   "source": [
    "def decorate_dice(title):\n",
    "    \"\"\"Labels the axes.\n",
    "    \n",
    "    title: string\n",
    "    \"\"\"\n",
    "    plt.xlabel('Risultato')\n",
    "    plt.ylabel('Distribuzione di massa di probabilità')\n",
    "    plt.title(title)"
   ]
  },
  {
   "cell_type": "code",
   "execution_count": 5,
   "metadata": {},
   "outputs": [
    {
     "data": {
      "image/png": "[encoded data removed]",
      "text/plain": [
       "<Figure size 640x480 with 1 Axes>"
      ]
     },
     "metadata": {},
     "output_type": "display_data"
    }
   ],
   "source": [
    "d1.bar()\n",
    "decorate_dice('Un dado')"
   ]
  },
  {
   "cell_type": "code",
   "execution_count": 8,
   "metadata": {},
   "outputs": [
    {
     "data": {
      "image/png": "[encoded data removed]",
      "text/plain": [
       "<Figure size 640x480 with 1 Axes>"
      ]
     },
     "metadata": {},
     "output_type": "display_data"
    }
   ],
   "source": [
    "d2.bar()\n",
    "decorate_dice('Due dadi')"
   ]
  },
  {
   "attachments": {},
   "cell_type": "markdown",
   "metadata": {},
   "source": [
    "Le probabilità della distribuzione di massa si ottengono con la notazione delle parentesi quadre. Ad esempio:"
   ]
  },
  {
   "cell_type": "code",
   "execution_count": 36,
   "metadata": {},
   "outputs": [
    {
     "data": {
      "text/plain": [
       "0.027777777777777776"
      ]
     },
     "execution_count": 36,
     "metadata": {},
     "output_type": "execute_result"
    }
   ],
   "source": [
    "d2[2]"
   ]
  },
  {
   "attachments": {},
   "cell_type": "markdown",
   "metadata": {},
   "source": [
    "Replichiamo ora il risultato precedente, ovvero troviamo la probabilità di ottenere un valore dispari dalla somma dei due dadi:"
   ]
  },
  {
   "cell_type": "code",
   "execution_count": 35,
   "metadata": {},
   "outputs": [
    {
     "data": {
      "text/plain": [
       "0.5"
      ]
     },
     "execution_count": 35,
     "metadata": {},
     "output_type": "execute_result"
    }
   ],
   "source": [
    "d2[3] + d2[5] + d2[7] + d2[9] + d2[11]"
   ]
  },
  {
   "attachments": {},
   "cell_type": "markdown",
   "metadata": {},
   "source": [
    "### Trovare la probabilità con una simulazione \n",
    "\n",
    "La distribuzione di massa di probabilità che abbiamo trovato in precedenza è esatta ma un risultato molto simile si può ottenere con una simulazione, ovvero generando un grande numero di ripetizioni dell'esperimento casuale.\n",
    "\n",
    "Nel capitolo {ref}`intro-python-notebook` abbiamo visto come creare una funzione che ritorna il risultato del lancio di un dado:"
   ]
  },
  {
   "cell_type": "code",
   "execution_count": 483,
   "metadata": {},
   "outputs": [],
   "source": [
    "def roll_die():\n",
    "    \"\"\"returns a random int between 1 and 6\"\"\"\n",
    "    return random.choice([1, 2, 3, 4, 5, 6])"
   ]
  },
  {
   "attachments": {},
   "cell_type": "markdown",
   "metadata": {},
   "source": [
    "Possiamo ora definire una funzione che ritorna la somma dei punti prodotti dal lancio di due dadi. La funzione ha come argomento il numero di ripetizioni di questo esperimento casuale."
   ]
  },
  {
   "cell_type": "code",
   "execution_count": 484,
   "metadata": {},
   "outputs": [],
   "source": [
    "def roll_two_dice(n):\n",
    "    \"\"\"returns a random int between 2 and 12\"\"\"\n",
    "    rolls = []\n",
    "    for i in range(n):\n",
    "        two_dice = roll_die() + roll_die()\n",
    "        rolls.append(two_dice)\n",
    "    return rolls\n"
   ]
  },
  {
   "attachments": {},
   "cell_type": "markdown",
   "metadata": {},
   "source": [
    "Eseguo 100,000 ripetizioni dell'esperimento casuale e memorizzo i risultati ottenuti."
   ]
  },
  {
   "cell_type": "code",
   "execution_count": 485,
   "metadata": {},
   "outputs": [
    {
     "name": "stdout",
     "output_type": "stream",
     "text": [
      "7 9 7 2 6 11 8 10 8 9 8 7 10 9 10 10 2 7 8 7 5 7 8 7 4 5 11 5 6 3 7 8 6 10 6 3 10 8 10 7 5 2 8 7 9 12 11 8 6 9 4 3 8 6 3 6 6 7 9 12 7 9 10 5 2 4 5 9 7 5 8 8 6 11 10 9 9 11 10 10 7 7 3 10 9 6 7 8 9 9 7 3 7 9 8 11 5 6 12 5 8 11 6 7 6 6 7 10 9 8 9 5 8 8 6 6 7 8 3 6 6 8 12 5 11 7 5 3 6 3 8 10 5 12 8 12 7 9 3 3 7 7 3 7 11 8 7 10 11 5 9 9 10 7 6 6 11 3 10 12 6 3 5 5 6 6 4 6 5 12 7 7 4 5 10 10 9 9 5 11 6 7 9 10 6 8 5 5 8 6 8 4 7 10 7 8 7 8 4\n"
     ]
    }
   ],
   "source": [
    "nrolls = 100000\n",
    "res = roll_two_dice(nrolls)\n",
    "print(*res[1:200])"
   ]
  },
  {
   "attachments": {},
   "cell_type": "markdown",
   "metadata": {},
   "source": [
    "Definisco un DatFrame con al suo interno la variabile `y` che corrisponde ai risultati delle 10,000 ripetizioni dell'esperimento casuale."
   ]
  },
  {
   "cell_type": "code",
   "execution_count": 486,
   "metadata": {},
   "outputs": [],
   "source": [
    "df = pd.DataFrame()\n",
    "df[\"y\"] = res \n"
   ]
  },
  {
   "attachments": {},
   "cell_type": "markdown",
   "metadata": {},
   "source": [
    "Utilizzo ora il metodo `value_counts()`, che può essere applicato ad un DataFrame, come abbiamo visto nel capitolo {ref}`freq-distr-notebook`, per trovare le frequenze assolute di ciascuno dei possibili risultati dell'esperimento casuale (ovvero, 2, 3, ..., 12). Dividendo per il numero totale di ripetizioni trovo poi una stima empirica della probabilità. Si noti che i risultati sono simili a quelli teorici ottenuti in precedenza."
   ]
  },
  {
   "cell_type": "code",
   "execution_count": 487,
   "metadata": {},
   "outputs": [
    {
     "data": {
      "text/plain": [
       "[(2, 0.02751),\n",
       " (3, 0.05553),\n",
       " (4, 0.08347),\n",
       " (5, 0.11015),\n",
       " (6, 0.14201),\n",
       " (7, 0.16622),\n",
       " (8, 0.13829),\n",
       " (9, 0.10955),\n",
       " (10, 0.0829),\n",
       " (11, 0.05567),\n",
       " (12, 0.0287)]"
      ]
     },
     "execution_count": 487,
     "metadata": {},
     "output_type": "execute_result"
    }
   ],
   "source": [
    "abs_freqs = df[\"y\"].value_counts().sort_index()\n",
    "px = abs_freqs / nrolls\n",
    "list(zip(list(range(2, 13)), px))"
   ]
  },
  {
   "attachments": {},
   "cell_type": "markdown",
   "metadata": {},
   "source": [
    "### Il problema del compleanno\n",
    "\n",
    "Il paradosso del compleanno (o problema del compleanno) è un paradosso di teoria della probabilità definito nel 1939 da Richard von Mises. Il paradosso afferma che la probabilità che almeno due persone in un gruppo compiano gli anni lo stesso giorno è largamente superiore a quanto potrebbe dire l'intuito: infatti già in un gruppo di 23 persone la probabilità è circa 0.51 (51%); con 30 persone essa supera 0.70 (70%), con 50 persone tocca addirittura 0.97 (97%). (da Wikipedia)\n",
    "\n",
    "La soluzione è data dalla seguente formula\n",
    "\n",
    "$$\n",
    "P(p)=1-{\\frac  {364!}{365^{{p-1}}(365-p)!}}\n",
    "$$\n",
    "\n",
    "e la spiegazione (non banale) può essere trovata su Wikipedia. Un modo più semplice per risolvere questo problema è mediante una simulazione. Il codice è fornito da {cite:t}`guttag2021introduction`."
   ]
  },
  {
   "cell_type": "code",
   "execution_count": 505,
   "metadata": {},
   "outputs": [
    {
     "name": "stdout",
     "output_type": "stream",
     "text": [
      "For 10 est. prob. of a shared birthday is 0.1155\n",
      "Actual prob. for N = 100 = 0.1166454118039999\n",
      "For 23 est. prob. of a shared birthday is 0.5011\n",
      "Actual prob. for N = 100 = 0.5063230118194599\n",
      "For 30 est. prob. of a shared birthday is 0.6976\n",
      "Actual prob. for N = 100 = 0.7053034120089917\n",
      "For 50 est. prob. of a shared birthday is 0.9696\n",
      "Actual prob. for N = 100 = 0.9700730720955715\n"
     ]
    }
   ],
   "source": [
    "def same_date(num_people, num_same):\n",
    "    # initialize list from 0 to 365\n",
    "    possible_dates = range(366)\n",
    "    # list of zeros\n",
    "    birthdays = [0] * 366\n",
    "    # increments by 1 the days corresponding to to the randomly chosen\n",
    "    # birthdays of num_people individuals\n",
    "    for p in range(num_people):\n",
    "        birth_date = random.choice(possible_dates)\n",
    "        birthdays[birth_date] += 1\n",
    "    # True if at least one day records a number of birthdays >= num_same;\n",
    "    # False otherwise\n",
    "    return max(birthdays) >= num_same\n",
    "\n",
    "\n",
    "def birthday_prob(num_people, num_same, num_trials):\n",
    "    num_hits = 0\n",
    "    # repeat the simulation num_trials times\n",
    "    for t in range(num_trials):\n",
    "        # if same_date() returns True, then increment num_hits by 1\n",
    "        if same_date(num_people, num_same):\n",
    "            num_hits += 1\n",
    "    return num_hits / num_trials\n",
    "\n",
    "\n",
    "for num_people in [10, 23, 30]:\n",
    "    print(\n",
    "        \"For\",\n",
    "        num_people,\n",
    "        \"est. prob. of a shared birthday is\",\n",
    "        birthday_prob(num_people, 2, 10000),\n",
    "    )\n",
    "    numerator = math.factorial(366)\n",
    "    denom = (366**num_people) * math.factorial(366 - num_people)\n",
    "    print(\"Actual prob. for N = 100 =\", 1 - numerator / denom)\n"
   ]
  },
  {
   "attachments": {},
   "cell_type": "markdown",
   "metadata": {},
   "source": [
    "Si noti che, sia la formula che abbiamo usato sia la simulazione, sono delle approssimazioni. Entrambe assumono che i compleanni siano egualmente probabili in tutti i giorni dell'anno. In realtà non è così, come mostrato nella figura successiva.\n",
    "\n",
    "```{image} images/birthdays.png\n",
    ":height: 420px\n",
    ":align: center\n",
    "```\n",
    "\n",
    "In questo caso, così come in tutti i casi nei quali usiamo dei modelli probabilistici per descrivere i fenomeni empirici, la risposta che otteniamo è ragionevole solo nella misura in cui la assunzioni che abbiamo introdotto nei modelli rispecchiano i vincoli presenti nel mondo empirico.\n",
    "\n",
    "\n",
    "### La legge dei grandi numeri\n",
    "\n",
    "Un modo per descrivere ciò che accade all'aumentare del numero $M$ di ripetizioni dell'esperimento casuale consiste nel registrare la stima della probabilità dell'evento $P(Y = y)$ in funzione del numero di ripetizioni dell'esperimento casuale per ogni $m \\in 1:M$. Si può così ottenere una rappresentazione empirica della legge dei grandi numeri. \n",
    "\n",
    "```{admonition} Teorema\n",
    "La *legge dei grandi numeri* dice che, all'aumentare del numero di ripetizioni dell'esperimento casuale, la media dei risultati ottenuti tende al valore teorico, man mano che vengono eseguite più prove. \n",
    "```"
   ]
  },
  {
   "attachments": {},
   "cell_type": "markdown",
   "metadata": {},
   "source": [
    "In con il codice seguente, simuliamo una serie di lanci di un dado generando in maniera casuale dei numeri interi compresi tra 1 e 6. Teniamo traccia della somma cumulativa dei lanci e del numero di lanci. Ad ogni passaggio, calcoliamo il valore medio dividendo la somma cumulativa per il numero di lanci. Infine, visualizziamo il valore medio dopo ogni lancio, insieme a una linea orizzontale che indica il valore atteso di 3.5, che è la media dei punti per un dado a sei facce."
   ]
  },
  {
   "cell_type": "code",
   "execution_count": 500,
   "metadata": {},
   "outputs": [
    {
     "data": {
      "image/png": "[encoded data removed]",
      "text/plain": [
       "<Figure size 500x309.017 with 1 Axes>"
      ]
     },
     "metadata": {},
     "output_type": "display_data"
    }
   ],
   "source": [
    "def simulate_dice_rolls(num_rolls):\n",
    "    \"\"\"Simulate dice rolls and return the average value for each roll.\"\"\"\n",
    "    total = 0\n",
    "    averages = []\n",
    "    for i in range(1, num_rolls + 1):\n",
    "        roll = roll_die()\n",
    "        total += roll\n",
    "        averages.append(total / i)\n",
    "    return averages\n",
    "\n",
    "\n",
    "def plot_dice_rolls(averages, num_rolls):\n",
    "    \"\"\"Plot the average value after each dice roll.\"\"\"\n",
    "    x = range(1, num_rolls + 1)\n",
    "    plt.plot(x, averages, linewidth=2)\n",
    "    plt.hlines(y=3.5, xmin=0, xmax=num_rolls, color=\"red\", label=\"Valore atteso\")\n",
    "    plt.xlabel(\"Numero di lanci\")\n",
    "    plt.ylabel(\"Valore medio\")\n",
    "    plt.title(\"Legge dei grandi numeri\")\n",
    "    plt.legend()\n",
    "    plt.show()\n",
    "\n",
    "\n",
    "if __name__ == \"__main__\":\n",
    "    num_rolls = 10000\n",
    "    averages = simulate_dice_rolls(num_rolls)\n",
    "    plot_dice_rolls(averages, num_rolls)\n"
   ]
  },
  {
   "attachments": {},
   "cell_type": "markdown",
   "metadata": {},
   "source": [
    "## Commenti e considerazioni finali\n",
    "\n",
    "In questo capitolo abbiamo visto come si costruisce lo spazio campione di un esperimento casuale, quali sono le proprietà di base della probabilità e come si assegnano le probabilità agli eventi definiti sopra uno spazio campione discreto. Abbiamo anche introdotto le nozioni di variabile casuale, ovvero di una variabile che assume i suoi valori in maniera casuale. Abbiamo descritto il modo di specificare la probabilità con cui sono una variabile casuale assume i suoi differenti valori, ovvero la funzione di ripartizione $F(X) = P(X < x)$ e la funzione di massa di probabilità. Infine, sono stati forniti alcuni esempi relativi all'uso di vari strumenti del linguaggio Python per calcolare le probabilità: liste, cicli `for`, *list comprehension*, creazione di funzioni, funzioni del modulo `itertools`, ecc. Abbiamo anche introdotto la pratica della simulazione. Le simulazioni, forzandoci a rendere esplicite le computazioni necessarie per riprodurre il risultato osservato, forniscono utili informazioni sui possibili comportamenti del sistema modellato. Mediante le simulazioni possiamo chiederci \"cosa succede se\" e diventa possibile modellare sistemi matematicamente intrattabili. Dobbiamo sempre ricordarci che i modelli sono descrittivi, non prescrittivi, e costituiscono sempre solo un'approssimazione alla realtà.  Questo è uno dei tanti casi in cui vale ripetere la famosa citazione di George Box \"All models are wrong, but some are useful.\" \n",
    "\n",
    "## Watermark"
   ]
  },
  {
   "cell_type": "code",
   "execution_count": null,
   "metadata": {},
   "outputs": [],
   "source": [
    "%load_ext watermark\n",
    "%watermark -n -u -v -iv -w"
   ]
  }
 ],
 "metadata": {
  "kernelspec": {
   "display_name": "pymc",
   "language": "python",
   "name": "python3"
  },
  "language_info": {
   "codemirror_mode": {
    "name": "ipython",
    "version": 3
   },
   "file_extension": ".py",
   "mimetype": "text/x-python",
   "name": "python",
   "nbconvert_exporter": "python",
   "pygments_lexer": "ipython3",
   "version": "3.10.9"
  },
  "orig_nbformat": 4,
  "vscode": {
   "interpreter": {
    "hash": "030ae53b1150d0ca6a72bb4a7a0454cbd9dab0eb2818ba119bbca0111e46e432"
   }
  }
 },
 "nbformat": 4,
 "nbformat_minor": 2
}
