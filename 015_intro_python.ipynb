{
 "cells": [
  {
   "attachments": {},
   "cell_type": "markdown",
   "metadata": {},
   "source": [
    "(intro-python-notebook)=\n",
    "# Introduzione a Python"
   ]
  },
  {
   "attachments": {},
   "cell_type": "markdown",
   "metadata": {},
   "source": [
    "In questo capitolo saranno forniti alcuni concetti utili per l'analisi dei dati utilizzando Python come linguaggio di programmazione e Jupyter come ambiente di sviluppo. Tuttavia, verranno forniti solo brevi accenni sull'argomento poiché esistono numerose risorse online che approfondiscono questo tema. Per coloro che preferiscono una trattazione più completa, si consiglia il libro [A Beginners Guide to Python 3 Programming](https://link.springer.com/book/10.1007/978-3-030-20290-3) di John Hunt (disponibile gratuitamente alla comunità UniFi). Il tutorial ufficiale della documentazione Python, in italiano, è fornito [qui](https://pytutorial-it.readthedocs.io/it/python3.11/index.html).\n",
    "\n",
    "```{image} images/xkcv_python.png\n",
    ":height: 460px\n",
    ":align: center\n",
    "```\n",
    "\n",
    "## Cosa significa \"programmare\"?\n",
    "\n",
    "Python è un linguaggio di programmazione adatto a molteplici scopi, definito \"general purpose\". Grazie alla sua versatilità, può essere utilizzato per la creazione di videogiochi, lo sviluppo di siti web, l'analisi dei dati e la creazione di software. Inoltre, Python è stato applicato con successo anche in ambito spaziale: è stato utilizzato per il controllo del \"Mars Helicopter\", un piccolo elicottero impiegato in una missione di esplorazione su Marte. Conoscere Python è molto [utile](https://www.apa.org/science/about/psa/2019/07/python-research), come evidenziato anche da diversi studi scientifici, poiché una volta acquisite le sue basi, diventa più facile apprendere altri linguaggi di programmazione, come R o JavaScript. I concetti di base della programmazione che saranno trattati in questo corso sono utilizzati in tutti i linguaggi di programmazione.\n",
    "\n",
    "Python è un linguaggio di programmazione noto per essere facile da capire e divertente da utilizzare, con un nome che rende omaggio ai comici inglesi [Monty Python](https://www.youtube.com/results?search_query=monty+Python). Tuttavia, come tutti i linguaggi di programmazione, richiede tempo ed esercizio per essere appreso. È importante sottolineare fin dall'inizio che nessuno memorizza tutte le istruzioni e le regole sintattiche, ma la maggior parte del tempo viene trascorsa cercando online soluzioni a problemi specifici, effettuando il \"debugging\" del codice per trovare gli errori e testando il codice stesso. Questo è il normale processo di lavoro di ogni programmatore, indipendentemente dal loro livello di esperienza. Il nostro obiettivo con questa guida è presentare i concetti fondamentali della programmazione, piuttosto che approfondire la sintassi precisa. Quest'ultima può essere facilmente trovata online una volta compresi i concetti di base. Pertanto, saper utilizzare gli strumenti di ricerca, come Google, è una delle competenze più importanti per ogni programmatore. Ricorda sempre che *Google is your friend* (anche se ovviamente si tratta di un'affermazione ironica).\n",
    "\n",
    "## Espressioni e operatori\n",
    "\n",
    "I programmi sono composti da espressioni che indicano al computer come combinare i dati. Ad esempio, l'espressione di moltiplicazione è costituita dal simbolo * posizionato tra due numeri. Tali espressioni, come ad esempio 3 * 4, vengono valutate dal computer e il risultato della valutazione (ovvero il valore) dell'ultima espressione presente in una cella del notebook Jupyter viene mostrato nella cella successiva.\n",
    "\n",
    "Le regole sintattiche di un linguaggio di programmazione sono rigorose. In Python, il simbolo * non può essere inserito due volte consecutivamente. Se un'espressione ha una struttura diversa da quella prescritta, il computer non tenta di interpretarla e segnala un errore di sintassi (SyntaxError). La sintassi di un linguaggio rappresenta l'insieme di tutte le sue regole grammaticali e un SyntaxError indica che la struttura di un'espressione non rispetta nessuna delle regole del linguaggio. Per esempio:\n",
    "\n",
    "```python\n",
    "3 * * 4\n",
    "```\n",
    "\n",
    "ritorna\n",
    "\n",
    "```bash\n",
    " Cell In[3], line 1\n",
    "    3 * * 4\n",
    "        ^\n",
    "SyntaxError: invalid syntax\n",
    "```\n",
    "\n",
    "Anche piccole modifiche apportate ad un'espressione possono alterarne completamente il significato. Nell'esempio seguente, lo spazio tra i due asterischi * è stato rimosso. Tuttavia, poiché i due asterischi compaiono tra due espressioni numeriche, l'espressione risulta ben formata e indica l'elevamento a potenza del primo numero alla potenza del secondo: 3 elevato alla quarta potenza (3 x 3 x 3 x 3). In programmazione, i simboli come `*` e `**` sono chiamati \"operatori\" e i valori che combinano sono chiamati \"operandi\"."
   ]
  },
  {
   "cell_type": "code",
   "execution_count": 4,
   "metadata": {},
   "outputs": [
    {
     "data": {
      "text/plain": [
       "81"
      ]
     },
     "execution_count": 4,
     "metadata": {},
     "output_type": "execute_result"
    }
   ],
   "source": [
    "3 ** 4"
   ]
  },
  {
   "attachments": {},
   "cell_type": "markdown",
   "metadata": {},
   "source": [
    "La tabella seguente riassume i principali operatori binari utilizzati in Python.\n",
    "\n",
    "| Operazione         | Operatore |\n",
    "|--------------------|-----------|\n",
    "|addizione           | `+`       |\n",
    "|sottrazione         | `-`       |\n",
    "|moltiplicazione     | `*`       |\n",
    "|divisione (reale)   | `/`       |\n",
    "|divisione (intera; rimuove il resto)  | `//` |\n",
    "|resto (modulo)      | `%`       |\n",
    "|elevamento a potenza| `**`      |\n",
    "\n",
    "Le due operazioni che potrebbero essere meno familiari sono `%` (trova il resto di una divisione) e `//` (esegui una divisione scartando il resto). Per esempio, il resto di 3/2 è 1.  La divisione intera (scartando il resto) di 3/2 produce 1.\n",
    "\n",
    "Usando gli operatori precedenti possiamo dunque usare Python come un calcolatore:"
   ]
  },
  {
   "cell_type": "code",
   "execution_count": null,
   "metadata": {},
   "outputs": [],
   "source": [
    "a = 4\n",
    "b = 2\n",
    "\n",
    "print(\"a + b is\", a + b)\n",
    "print(\"a - b is\", a - b)\n",
    "print(\"a * b is\", a * b)\n",
    "print(\"a / b is\", a / b)\n",
    "print(\"a ** b is\", a**b)\n",
    "print(\"9 % 4 is\", 9 % 4)\n",
    "print(\"9 // 4 is\", 9 // 4)\n"
   ]
  },
  {
   "attachments": {},
   "cell_type": "markdown",
   "metadata": {},
   "source": [
    "L'applicazione degli operatori aritmetici in Python dipende dalle seguenti regole di precedenza degli operatori, che sono analoghe a quelle usate in algebra.\n",
    "\n",
    "1. Le espressioni tra parentesi vengono valutate per prime. \n",
    "2. Successivamente si valutano gli elevamenti a potenza. \n",
    "3. In seguito, si valutano moltiplicazioni, divisioni e moduli. \n",
    "4. Per ultime vengono valutate somme e sottrazioni. "
   ]
  },
  {
   "cell_type": "code",
   "execution_count": 1,
   "metadata": {},
   "outputs": [
    {
     "data": {
      "text/plain": [
       "17.555555555555557"
      ]
     },
     "execution_count": 1,
     "metadata": {},
     "output_type": "execute_result"
    }
   ],
   "source": [
    "1 + 2 * 3 * 4 * 5 / 6 ** 3 + 7 + 8 - 9 + 10"
   ]
  },
  {
   "cell_type": "code",
   "execution_count": 2,
   "metadata": {},
   "outputs": [
    {
     "data": {
      "text/plain": [
       "2017.0"
      ]
     },
     "execution_count": 2,
     "metadata": {},
     "output_type": "execute_result"
    }
   ],
   "source": [
    "1 + 2 * (3 * 4 * 5 / 6) ** 3 + 7 + 8 - 9 + 10"
   ]
  },
  {
   "attachments": {},
   "cell_type": "markdown",
   "metadata": {},
   "source": [
    "## Assegnazione\n",
    "\n",
    "In una dichiarazione di assegnazione, si specifica un nome seguito dal simbolo uguale (=) e dall'espressione che si vuole assegnare a tale nome. L'operazione di assegnazione consiste nell'associare il valore dell'espressione a destra dell'uguale al nome a sinistra dell'uguale. Da quel momento in poi, ogni volta che quel nome verrà utilizzato in un'espressione, al suo posto verrà utilizzato il valore associato durante l'assegnazione."
   ]
  },
  {
   "cell_type": "code",
   "execution_count": 9,
   "metadata": {},
   "outputs": [
    {
     "data": {
      "text/plain": [
       "30"
      ]
     },
     "execution_count": 9,
     "metadata": {},
     "output_type": "execute_result"
    }
   ],
   "source": [
    "a = 10\n",
    "b = 20\n",
    "a + b"
   ]
  },
  {
   "cell_type": "code",
   "execution_count": 10,
   "metadata": {},
   "outputs": [
    {
     "data": {
      "text/plain": [
       "0.5"
      ]
     },
     "execution_count": 10,
     "metadata": {},
     "output_type": "execute_result"
    }
   ],
   "source": [
    "a = 1/4\n",
    "b = 2 * a\n",
    "b"
   ]
  },
  {
   "attachments": {},
   "cell_type": "markdown",
   "metadata": {},
   "source": [
    "I nomi devono iniziare con una lettera, ma possono contenere sia lettere che numeri. Un nome non può contenere uno spazio; invece, è comune utilizzare il carattere `_` per sostituire ogni spazio. Sta al programmatore scegliere nomi facili da interpretare.\n",
    "\n",
    "Elenco qui sotto alcuni esempi di nomi di variabili non consentiti:\n",
    "\n",
    "- first-name\n",
    "- first@name\n",
    "- first$name\n",
    "- num-1\n",
    "- 1num\n",
    "- variable name"
   ]
  },
  {
   "attachments": {},
   "cell_type": "markdown",
   "metadata": {},
   "source": [
    "## I tipi dei dati\n",
    "Ogni valore ha un tipo e la funzione `type()` restituisce il tipo del risultato di qualsiasi espressione."
   ]
  },
  {
   "cell_type": "code",
   "execution_count": 11,
   "metadata": {},
   "outputs": [
    {
     "data": {
      "text/plain": [
       "float"
      ]
     },
     "execution_count": 11,
     "metadata": {},
     "output_type": "execute_result"
    }
   ],
   "source": [
    "type(b)"
   ]
  },
  {
   "attachments": {},
   "cell_type": "markdown",
   "metadata": {},
   "source": [
    "### Numeri\n",
    "\n",
    "I computer sono principalmente utilizzati per eseguire calcoli numerici, ma ci sono alcune importanti considerazioni da tenere a mente quando si utilizzano numeri in programmazione. In Python (come nella maggior parte degli altri linguaggi di programmazione) esistono due tipi di numeri distinti: `int` e `float`.\n",
    "\n",
    "- Gli interi, chiamati `int`, possono rappresentare solo numeri interi (positivi, negativi o zero) che non hanno una parte frazionaria.\n",
    "- I numeri reali, chiamati `float` (o numeri in virgola mobile), possono rappresentare sia numeri interi che frazionari, ma hanno alcune limitazioni. Un `float` può rappresentare la mantissa di un numero decimale solo con una precisione di 15 o 16 cifre, e la precisione oltre questo limite è persa. Tuttavia, questa limitazione è sufficiente per la maggior parte delle applicazioni.\n",
    "  \n",
    "In caso si debbano utilizzare numeri molto grandi o molto piccoli, è comune utilizzare la notazione scientifica, ovvero $m \\cdot 10^n$. Di solito, il 10 viene omesso e la lettera `E` viene utilizzata per indicare l'esponente. Quindi, `1E9` rappresenta un miliardo e `1E-9` rappresenta un miliardesimo.\n",
    "\n",
    "Il tipo di un numero può essere facilmente riconosciuto dal modo in cui viene visualizzato: i valori `int` non hanno un punto decimale, mentre i valori `float` hanno sempre un punto decimale."
   ]
  },
  {
   "cell_type": "code",
   "execution_count": 12,
   "metadata": {},
   "outputs": [
    {
     "data": {
      "text/plain": [
       "3"
      ]
     },
     "execution_count": 12,
     "metadata": {},
     "output_type": "execute_result"
    }
   ],
   "source": [
    "3"
   ]
  },
  {
   "cell_type": "code",
   "execution_count": 13,
   "metadata": {},
   "outputs": [
    {
     "data": {
      "text/plain": [
       "3.0"
      ]
     },
     "execution_count": 13,
     "metadata": {},
     "output_type": "execute_result"
    }
   ],
   "source": [
    "3.0"
   ]
  },
  {
   "attachments": {},
   "cell_type": "markdown",
   "metadata": {},
   "source": [
    "### Stringhe\n",
    "Una parte di un testo rappresentato in un computer è chiamata stringa. Una stringa può rappresentare una parola, una frase o persino il contenuto di un libro o di una biblioteca. \n",
    "\n",
    "Il significato di un'espressione dipende sia dalla sua struttura che dai tipi di valori che vengono combinati. Quindi, ad esempio, la somma di due stringhe produce un'altra stringa. Questa espressione è ancora un'espressione di addizione, ma combina un diverso tipo di valore. Per esempio:"
   ]
  },
  {
   "cell_type": "code",
   "execution_count": 14,
   "metadata": {},
   "outputs": [
    {
     "data": {
      "text/plain": [
       "'datascience'"
      ]
     },
     "execution_count": 14,
     "metadata": {},
     "output_type": "execute_result"
    }
   ],
   "source": [
    "\"data\" + \"science\""
   ]
  },
  {
   "cell_type": "code",
   "execution_count": 15,
   "metadata": {},
   "outputs": [
    {
     "data": {
      "text/plain": [
       "'data science'"
      ]
     },
     "execution_count": 15,
     "metadata": {},
     "output_type": "execute_result"
    }
   ],
   "source": [
    "\"data\" + \" \" + \"science\""
   ]
  },
  {
   "attachments": {},
   "cell_type": "markdown",
   "metadata": {},
   "source": [
    "Le virgolette singole e doppie possono essere utilizzate entrambe per creare delle stringhe: \"ciao\" e 'ciao' sono espressioni identiche. Le virgolette doppie sono spesso preferite perché consentono di includere virgolette singole all'interno delle stringhe."
   ]
  },
  {
   "cell_type": "code",
   "execution_count": 17,
   "metadata": {},
   "outputs": [
    {
     "data": {
      "text/plain": [
       "\"Che cos'è una parola?\""
      ]
     },
     "execution_count": 17,
     "metadata": {},
     "output_type": "execute_result"
    }
   ],
   "source": [
    "\"Che cos'è una parola?\""
   ]
  },
  {
   "attachments": {},
   "cell_type": "markdown",
   "metadata": {},
   "source": [
    "L'espressione precedente avrebbe prodotto un `SyntaxError` se fosse stata racchiusa da virgolette singole.\n",
    "\n",
    "#### Metodi\n",
    "\n",
    "Da una stringa esistente, è possibile costruire altre stringhe utilizzando i *metodi* applicabili alle stringhe, che sono funzioni che operano sulle stringhe. Questi metodi vengono chiamati inserendo un punto dopo la stringa, quindi chiamando la funzione. Ad esempio, il metodo seguente genera una versione maiuscola di una stringa."
   ]
  },
  {
   "cell_type": "code",
   "execution_count": 16,
   "metadata": {},
   "outputs": [
    {
     "data": {
      "text/plain": [
       "'LOUD'"
      ]
     },
     "execution_count": 16,
     "metadata": {},
     "output_type": "execute_result"
    }
   ],
   "source": [
    "\"loud\".upper()"
   ]
  },
  {
   "attachments": {},
   "cell_type": "markdown",
   "metadata": {},
   "source": [
    "### Valori booleani e confronti\n",
    "\n",
    "Il tipo booleano è un tipo di dati i cui unici valori possibili sono `True` e `False`. Un valore booleano viene ritornato quando si valuta un confronto. Per esempio:"
   ]
  },
  {
   "cell_type": "code",
   "execution_count": 1,
   "metadata": {},
   "outputs": [
    {
     "data": {
      "text/plain": [
       "True"
      ]
     },
     "execution_count": 1,
     "metadata": {},
     "output_type": "execute_result"
    }
   ],
   "source": [
    "3 > 1 + 1"
   ]
  },
  {
   "attachments": {},
   "cell_type": "markdown",
   "metadata": {},
   "source": [
    "Il valore True indica che il confronto è valido; Python ha confermato questo semplice fatto sulla relazione tra 3 e 1+1. \n",
    "\n",
    "Si noti la regola di precedenza: gli operatori >, <, >=, <=, ==, != hanno la precedenza più bassa (vengono valutati per ultimi), il che significa che nell'espressione precedente viene prima valutato (1 + 1) e poi (3 > 2).\n",
    "\n",
    "#### Operatori di confronto \n",
    "Un operatore di confronto è un operatore che esegue un qualche tipo di confronto e restituisce un valore booleano (True oppure False). Per esempio, l'operatore `==` confronta le espressioni su entrambi i lati e restituisce `True` se hanno gli stessi valori e `False` altrimenti. L'opposto di `==` è `!=`, che si può leggere come 'non uguale al valore di'. Gli operatori di confronto sono elencati qui sotto:\n",
    "\n",
    "| Confronto           | Operatore | \n",
    "|---------------------|-----------|\n",
    "| Minore              | <         |\n",
    "| Maggiore            | >         |\n",
    "| Minore o uguale     | <=        |\n",
    "| Maggiore o uguale   | >=        |\n",
    "| Uguale              | ==        |\n",
    "| Non uguale          | !=        |\n",
    "\n",
    "Ad esempio:"
   ]
  },
  {
   "cell_type": "code",
   "execution_count": 18,
   "metadata": {},
   "outputs": [
    {
     "name": "stdout",
     "output_type": "stream",
     "text": [
      "a > b is True\n",
      "a < b is False\n",
      "a == b is False\n",
      "a >= b is True\n",
      "a <= b is False\n"
     ]
    }
   ],
   "source": [
    "a = 4\n",
    "b = 2\n",
    "\n",
    "print(\"a > b\", \"is\", a > b)\n",
    "print(\"a < b\", \"is\", a < b)\n",
    "print(\"a == b\", \"is\", a == b)\n",
    "print(\"a >= b\", \"is\", a >= b)\n",
    "print(\"a <= b\", \"is\", a <= b)"
   ]
  },
  {
   "attachments": {},
   "cell_type": "markdown",
   "metadata": {},
   "source": [
    "Nella cella seguente si presti attenzione all'uso di `=` e di `==`:"
   ]
  },
  {
   "cell_type": "code",
   "execution_count": null,
   "metadata": {},
   "outputs": [],
   "source": [
    "boolean_condition = 10 == 20\n",
    "print(boolean_condition)"
   ]
  },
  {
   "attachments": {},
   "cell_type": "markdown",
   "metadata": {},
   "source": [
    "L'operatore `=` è un'istruzione di *assegnazione*. Ovvero, crea un nuovo oggetto. L'operatore `==` valuta invece una condizione logica e ritorna un valore booleano. "
   ]
  },
  {
   "attachments": {},
   "cell_type": "markdown",
   "metadata": {},
   "source": [
    "Un'espressione può contenere più confronti e tutti devono essere veri affinché l'intera espressione sia vera. Ad esempio:"
   ]
  },
  {
   "cell_type": "code",
   "execution_count": 2,
   "metadata": {},
   "outputs": [
    {
     "data": {
      "text/plain": [
       "True"
      ]
     },
     "execution_count": 2,
     "metadata": {},
     "output_type": "execute_result"
    }
   ],
   "source": [
    "1 < 1 + 1 < 3"
   ]
  },
  {
   "attachments": {},
   "cell_type": "markdown",
   "metadata": {},
   "source": [
    "#### Operatori Booleani \n",
    "\n",
    "Gli operatori booleani confrontano espressioni (non valori) e ritornano un valore booleano. Ad esempio:"
   ]
  },
  {
   "cell_type": "code",
   "execution_count": 20,
   "metadata": {},
   "outputs": [
    {
     "data": {
      "text/plain": [
       "True"
      ]
     },
     "execution_count": 20,
     "metadata": {},
     "output_type": "execute_result"
    }
   ],
   "source": [
    "a = 2\n",
    "b = 3\n",
    "\n",
    "(a + b > a) and (a + b > b)"
   ]
  },
  {
   "attachments": {},
   "cell_type": "markdown",
   "metadata": {},
   "source": [
    "Nella cella sopra le parentesi tonde sono opzionali ma facilitano la lettura.\n",
    "\n",
    "- `and`  – Ritorna True solo se entrambi le espressioni sono vere, altrimenti ritorna False\n",
    "- `or`  – Ritorna True se almeno una delle due espressioni è vera, altrimenti ritorna False.\n",
    "- `not`  – Ritorna True se l'espressione è falsa, altrimenti ritorna False.\n",
    "\n",
    "Questi operatori si comportano come ci possiamo aspettare. "
   ]
  },
  {
   "cell_type": "code",
   "execution_count": 1,
   "metadata": {},
   "outputs": [
    {
     "data": {
      "text/plain": [
       "False"
      ]
     },
     "execution_count": 1,
     "metadata": {},
     "output_type": "execute_result"
    }
   ],
   "source": [
    "True and False"
   ]
  },
  {
   "cell_type": "code",
   "execution_count": 2,
   "metadata": {},
   "outputs": [
    {
     "data": {
      "text/plain": [
       "True"
      ]
     },
     "execution_count": 2,
     "metadata": {},
     "output_type": "execute_result"
    }
   ],
   "source": [
    "True or False"
   ]
  },
  {
   "cell_type": "code",
   "execution_count": 3,
   "metadata": {},
   "outputs": [
    {
     "data": {
      "text/plain": [
       "False"
      ]
     },
     "execution_count": 3,
     "metadata": {},
     "output_type": "execute_result"
    }
   ],
   "source": [
    "not True"
   ]
  },
  {
   "attachments": {},
   "cell_type": "markdown",
   "metadata": {},
   "source": [
    "È possibile eseguire le operazioni aritmetiche sui valori booleani: True equivale a 1 e False a 0. Per esempio:"
   ]
  },
  {
   "cell_type": "code",
   "execution_count": 5,
   "metadata": {},
   "outputs": [
    {
     "data": {
      "text/plain": [
       "2"
      ]
     },
     "execution_count": 5,
     "metadata": {},
     "output_type": "execute_result"
    }
   ],
   "source": [
    "True + True + False"
   ]
  },
  {
   "attachments": {},
   "cell_type": "markdown",
   "metadata": {},
   "source": [
    "Altri esempi sono i seguenti (si noti l'uso della funzione `len()`):"
   ]
  },
  {
   "cell_type": "code",
   "execution_count": 2,
   "metadata": {},
   "outputs": [
    {
     "name": "stdout",
     "output_type": "stream",
     "text": [
      "True\n",
      "True\n",
      "False\n",
      "True\n",
      "True\n",
      "False\n",
      "True\n",
      "False\n",
      "True\n",
      "True\n",
      "False\n",
      "True\n",
      "True\n",
      "False\n"
     ]
    }
   ],
   "source": [
    "print(3 > 2)     # True, because 3 is greater than 2\n",
    "print(3 >= 2)    # True, because 3 is greater than 2\n",
    "print(3 < 2)     # False,  because 3 is greater than 2\n",
    "print(2 < 3)     # True, because 2 is less than 3\n",
    "print(2 <= 3)    # True, because 2 is less than 3\n",
    "print(3 == 2)    # False, because 3 is not equal to 2\n",
    "print(3 != 2)    # True, because 3 is not equal to 2\n",
    "print(len('mango') == len('avocado'))  # False\n",
    "print(len('mango') != len('avocado'))  # True\n",
    "print(len('mango') < len('avocado'))   # True\n",
    "print(len('milk') != len('meat'))      # False\n",
    "print(len('milk') == len('meat'))      # True\n",
    "print(len('tomato') == len('potato'))  # True\n",
    "print(len('python') > len('dragon'))   # False"
   ]
  },
  {
   "attachments": {},
   "cell_type": "markdown",
   "metadata": {},
   "source": [
    "In Python, gli operatori logici `and`, `or` e `not` sono utilizzati per combinare o invertire le condizioni booleane.\n",
    "\n",
    "L'operatore and restituisce True solo se entrambe le condizioni booleane sono vere. Ad esempio, `True and False` restituirà False perché una delle condizioni è falsa.\n",
    "\n",
    "L'operatore `or` restituisce True se almeno una delle due condizioni booleane è vera. Ad esempio, `True or False` restituirà True perché almeno una delle condizioni è vera.\n",
    "\n",
    "L'operatore `not` viene utilizzato per invertire il valore di verità di una condizione booleana. Ad esempio, `not True` restituirà False e `not False` restituirà True.\n",
    "\n",
    "Ecco alcuni esempi di come questi operatori possono essere utilizzati:"
   ]
  },
  {
   "cell_type": "code",
   "execution_count": 5,
   "metadata": {},
   "outputs": [
    {
     "name": "stdout",
     "output_type": "stream",
     "text": [
      "True\n",
      "False\n",
      "False\n",
      "True and True:  True\n",
      "True\n",
      "True\n",
      "False\n",
      "True or False: True\n",
      "False\n",
      "False\n",
      "True\n",
      "True\n",
      "False\n"
     ]
    }
   ],
   "source": [
    "print(3 > 2 and 4 > 3) # True - because both statements are true\n",
    "print(3 > 2 and 4 < 3) # False - because the second statement is false\n",
    "print(3 < 2 and 4 < 3) # False - because both statements are false\n",
    "print('True and True: ', True and True)\n",
    "print(3 > 2 or 4 > 3)  # True - because both statements are true\n",
    "print(3 > 2 or 4 < 3)  # True - because one of the statements is true\n",
    "print(3 < 2 or 4 < 3)  # False - because both statements are false\n",
    "print('True or False:', True or False)\n",
    "print(not 3 > 2)     # False - because 3 > 2 is true, then not True gives False\n",
    "print(not True)      # False - Negation, the not operator turns true to false\n",
    "print(not False)     # True\n",
    "print(not not True)  # True\n",
    "print(not not False) # False"
   ]
  },
  {
   "attachments": {},
   "cell_type": "markdown",
   "metadata": {},
   "source": [
    "## Sequenze\n",
    "\n",
    "Oltre ai numeri e ai valori booleani, Python supporta anche un insieme di \"contenitori\", ovvero i seguenti tipi strutturati: le liste, le tuple, gli insiemi e i dizionari. \n",
    "\n",
    "### Le liste\n",
    "Una lista è una struttura dati *eterogenea* contentente una sequenza di elementi che possono essere di tipo diverso. Una lista si indica separando i suoi elementi tramite virgola e racchiudendo il tutto tra parentesi quadre. "
   ]
  },
  {
   "cell_type": "code",
   "execution_count": 26,
   "metadata": {},
   "outputs": [
    {
     "data": {
      "text/plain": [
       "['Pippo', 3, -2.953, [1, 2, 3]]"
      ]
     },
     "execution_count": 26,
     "metadata": {},
     "output_type": "execute_result"
    }
   ],
   "source": [
    "my_list = ['Pippo', 3, -2.953, [1, 2, 3]]\n",
    "my_list\n"
   ]
  },
  {
   "cell_type": "code",
   "execution_count": 27,
   "metadata": {},
   "outputs": [
    {
     "data": {
      "text/plain": [
       "list"
      ]
     },
     "execution_count": 27,
     "metadata": {},
     "output_type": "execute_result"
    }
   ],
   "source": [
    "type(my_list)"
   ]
  },
  {
   "attachments": {},
   "cell_type": "markdown",
   "metadata": {},
   "source": [
    "La lista `my_list` contiene una stringa ('Pippo'), un numero intero (3), un numero decimale (-2.953) e un'altra lista ([1, 2, 3]). Si noti che l'elemento 'Pippo' (una stringa) è racchiuso tra singoli apici (ma potrebbero anche essere doppi apici). \n",
    "\n",
    "Gli elementi della lista sono ordinati per indice (index), un numero che si riferisce alla loro posizione nella lista. Gli indici delle liste partono da 0 e aumentano di uno. Per accedere ad un elemento della lista per indice si usa la notazione con la parentesi quadra: `list_name[index]`. Per esempio:"
   ]
  },
  {
   "cell_type": "code",
   "execution_count": 9,
   "metadata": {},
   "outputs": [
    {
     "data": {
      "text/plain": [
       "3"
      ]
     },
     "execution_count": 9,
     "metadata": {},
     "output_type": "execute_result"
    }
   ],
   "source": [
    "my_list[1]"
   ]
  },
  {
   "cell_type": "code",
   "execution_count": 10,
   "metadata": {},
   "outputs": [
    {
     "data": {
      "text/plain": [
       "'Pippo'"
      ]
     },
     "execution_count": 10,
     "metadata": {},
     "output_type": "execute_result"
    }
   ],
   "source": [
    "my_list[0]"
   ]
  },
  {
   "attachments": {},
   "cell_type": "markdown",
   "metadata": {},
   "source": [
    "Python prevede alcune funzioni che elaborano liste, come per esempio `len` che restituisce il numero di elementi contenuti in una lista:"
   ]
  },
  {
   "cell_type": "code",
   "execution_count": 11,
   "metadata": {},
   "outputs": [
    {
     "data": {
      "text/plain": [
       "4"
      ]
     },
     "execution_count": 11,
     "metadata": {},
     "output_type": "execute_result"
    }
   ],
   "source": [
    "len(my_list)"
   ]
  },
  {
   "attachments": {},
   "cell_type": "markdown",
   "metadata": {},
   "source": [
    "Benché questa lista contenga come elemento un'altra lista, tale lista nidificata conta comunque come un singolo elemento. La lunghezza di di `my_list` è quattro.\n",
    "\n",
    "Una lista vuota si crea nel modo seguente:"
   ]
  },
  {
   "cell_type": "code",
   "execution_count": 6,
   "metadata": {},
   "outputs": [
    {
     "data": {
      "text/plain": [
       "0"
      ]
     },
     "execution_count": 6,
     "metadata": {},
     "output_type": "execute_result"
    }
   ],
   "source": [
    "empty_list = []\n",
    "len(empty_list)"
   ]
  },
  {
   "attachments": {},
   "cell_type": "markdown",
   "metadata": {},
   "source": [
    "Ecco alcuni esempi."
   ]
  },
  {
   "cell_type": "code",
   "execution_count": 14,
   "metadata": {},
   "outputs": [
    {
     "name": "stdout",
     "output_type": "stream",
     "text": [
      "Fruits: ['banana', 'orange', 'mango', 'lemon']\n",
      "Number of fruits: 4\n",
      "Vegetables: ['Tomato', 'Potato', 'Cabbage', 'Onion', 'Carrot']\n",
      "Number of vegetables: 5\n"
     ]
    }
   ],
   "source": [
    "fruits = [\"banana\", \"orange\", \"mango\", \"lemon\"]  # list of fruits\n",
    "vegetables = [\"Tomato\", \"Potato\", \"Cabbage\", \"Onion\", \"Carrot\"]  # list of vegetables\n",
    "\n",
    "print(\"Fruits:\", fruits)\n",
    "print(\"Number of fruits:\", len(fruits))\n",
    "print(\"Vegetables:\", vegetables)\n",
    "print(\"Number of vegetables:\", len(vegetables))\n"
   ]
  },
  {
   "attachments": {},
   "cell_type": "markdown",
   "metadata": {},
   "source": [
    "Accediamo ad ogni elemento di una lista utilizzando il loro indice. L'indice di una lista parte da 0 e viene specificato usando le parentesi quadre."
   ]
  },
  {
   "cell_type": "code",
   "execution_count": 15,
   "metadata": {},
   "outputs": [
    {
     "data": {
      "text/plain": [
       "'banana'"
      ]
     },
     "execution_count": 15,
     "metadata": {},
     "output_type": "execute_result"
    }
   ],
   "source": [
    "fruits[0]"
   ]
  },
  {
   "cell_type": "code",
   "execution_count": 16,
   "metadata": {},
   "outputs": [
    {
     "data": {
      "text/plain": [
       "'orange'"
      ]
     },
     "execution_count": 16,
     "metadata": {},
     "output_type": "execute_result"
    }
   ],
   "source": [
    "fruits[1]"
   ]
  },
  {
   "attachments": {},
   "cell_type": "markdown",
   "metadata": {},
   "source": [
    "Python è un linguaggio di programmazione orientato agli oggetti e le liste sono degli oggetti su cui è possibile invocare *metodi*. Supponiamo di voler mettere in ordine alfabetico i nomi che costituiscono gli elementi di una lista: la corrispondente operazione di ordinamento richiede di invocare sulla lista il metodo `sort` usando la _dot notation_:"
   ]
  },
  {
   "cell_type": "code",
   "execution_count": 17,
   "metadata": {},
   "outputs": [],
   "source": [
    "names = ['Carlo', 'Giovanni', 'Giacomo']\n",
    "names.sort()\n"
   ]
  },
  {
   "attachments": {},
   "cell_type": "markdown",
   "metadata": {},
   "source": [
    "Tale metodo però non restituisce alcun valore, in quanto l'ordinamento è eseguito _in place_: dopo l'invocazione, gli elementi della lista saranno stati riposizionati nell'ordine richiesto.  Visualizziamo la listra trasformata:"
   ]
  },
  {
   "cell_type": "code",
   "execution_count": 18,
   "metadata": {},
   "outputs": [
    {
     "data": {
      "text/plain": [
       "['Carlo', 'Giacomo', 'Giovanni']"
      ]
     },
     "execution_count": 18,
     "metadata": {},
     "output_type": "execute_result"
    }
   ],
   "source": [
    "names"
   ]
  },
  {
   "attachments": {},
   "cell_type": "markdown",
   "metadata": {},
   "source": [
    "L'invocazione di metodi (e di funzioni) prevede anche la possibilità di specificare degli argomenti _opzionali_. Per esempio:"
   ]
  },
  {
   "cell_type": "code",
   "execution_count": 19,
   "metadata": {},
   "outputs": [
    {
     "data": {
      "text/plain": [
       "['Giovanni', 'Giacomo', 'Carlo']"
      ]
     },
     "execution_count": 19,
     "metadata": {},
     "output_type": "execute_result"
    }
   ],
   "source": [
    "names.sort(reverse=True)\n",
    "names"
   ]
  },
  {
   "attachments": {},
   "cell_type": "markdown",
   "metadata": {},
   "source": [
    "Il metodo `remove()` può essere usato per rimuovere elementi da una lista."
   ]
  },
  {
   "cell_type": "code",
   "execution_count": 20,
   "metadata": {},
   "outputs": [
    {
     "name": "stdout",
     "output_type": "stream",
     "text": [
      "['banana', 'orange', 'mango', 'lemon']\n",
      "['orange', 'mango', 'lemon']\n"
     ]
    }
   ],
   "source": [
    "print(fruits)\n",
    "fruits.remove(\"banana\")\n",
    "print(fruits)\n"
   ]
  },
  {
   "attachments": {},
   "cell_type": "markdown",
   "metadata": {},
   "source": [
    "Il metodo `insert()` può essere usato per aggiungere elementi ad una lista."
   ]
  },
  {
   "cell_type": "code",
   "execution_count": 21,
   "metadata": {},
   "outputs": [
    {
     "name": "stdout",
     "output_type": "stream",
     "text": [
      "['orange', 'mango', 'lemon']\n",
      "['orange', 'mango', 'watermelon', 'lemon']\n"
     ]
    }
   ],
   "source": [
    "print(fruits)\n",
    "fruits.insert(2, \"watermelon\")\n",
    "print(fruits)"
   ]
  },
  {
   "attachments": {},
   "cell_type": "markdown",
   "metadata": {},
   "source": [
    "È possibile copiare una lista in una nuova variabile:"
   ]
  },
  {
   "cell_type": "code",
   "execution_count": 23,
   "metadata": {},
   "outputs": [
    {
     "name": "stdout",
     "output_type": "stream",
     "text": [
      "['orange', 'mango', 'watermelon', 'lemon']\n"
     ]
    }
   ],
   "source": [
    "print(fruits)\n",
    "new_fruits = fruits.copy()"
   ]
  },
  {
   "cell_type": "code",
   "execution_count": 24,
   "metadata": {},
   "outputs": [
    {
     "name": "stdout",
     "output_type": "stream",
     "text": [
      "['orange', 'mango', 'watermelon', 'lemon']\n"
     ]
    }
   ],
   "source": [
    "print(new_fruits)"
   ]
  },
  {
   "attachments": {},
   "cell_type": "markdown",
   "metadata": {},
   "source": [
    "### Operazioni su liste\n",
    "\n",
    "L'operatore `+` concatena liste:"
   ]
  },
  {
   "cell_type": "code",
   "execution_count": null,
   "metadata": {},
   "outputs": [],
   "source": [
    "a = [1, 2, 3]\n",
    "b = [4, 5, 6]\n",
    "c = a + b\n",
    "print(c)"
   ]
  },
  {
   "attachments": {},
   "cell_type": "markdown",
   "metadata": {},
   "source": [
    "In maniera simile, l'operatore `*` ripete una lista un certo numero di volte:"
   ]
  },
  {
   "cell_type": "code",
   "execution_count": null,
   "metadata": {},
   "outputs": [],
   "source": [
    "[0] * 4\n",
    "[1, 2, 3] * 3"
   ]
  },
  {
   "attachments": {},
   "cell_type": "markdown",
   "metadata": {},
   "source": [
    "Il punto importante è che, essendo una sequenza di elementi *etorogenei* è difficile fare delle operazioni algebriche sulle liste in puro Python. Ad esempio, supponiamo di avere la seguente lista:"
   ]
  },
  {
   "cell_type": "code",
   "execution_count": 2,
   "metadata": {},
   "outputs": [
    {
     "data": {
      "text/plain": [
       "[1, 2, 3]"
      ]
     },
     "execution_count": 2,
     "metadata": {},
     "output_type": "execute_result"
    }
   ],
   "source": [
    "x = [1, 2, 3]\n",
    "x"
   ]
  },
  {
   "attachments": {},
   "cell_type": "markdown",
   "metadata": {},
   "source": [
    "Vogliamo calcolare una cosa semplice, per esempio, la media di `x`. Per farlo dobbiamo seguire una procedura piuttosto articolata. Per esempio:"
   ]
  },
  {
   "cell_type": "code",
   "execution_count": 4,
   "metadata": {},
   "outputs": [
    {
     "name": "stdout",
     "output_type": "stream",
     "text": [
      "2.0\n"
     ]
    }
   ],
   "source": [
    "total = 0\n",
    "counter  = 0\n",
    "\n",
    "for num in x:\n",
    "    counter += 1\n",
    "    total += num\n",
    "\n",
    "avg = total / counter\n",
    "\n",
    "print(avg)"
   ]
  },
  {
   "attachments": {},
   "cell_type": "markdown",
   "metadata": {},
   "source": [
    "Chiaramente, sarebbe preferibile ottenere questo risultato con un approccio più semplice. Successivamente, vedremo che se utilizziamo una sequenza di elementi *omogenei*, il problema può essere risolto in modo molto più facile.\n"
   ]
  },
  {
   "cell_type": "code",
   "execution_count": 6,
   "metadata": {},
   "outputs": [
    {
     "data": {
      "text/plain": [
       "2.0"
      ]
     },
     "execution_count": 6,
     "metadata": {},
     "output_type": "execute_result"
    }
   ],
   "source": [
    "import numpy as np\n",
    "\n",
    "x = np.array([1, 2, 3])\n",
    "np.mean(x)"
   ]
  },
  {
   "attachments": {},
   "cell_type": "markdown",
   "metadata": {},
   "source": [
    "Possiamo contare il numero degli elementi specificati che sono contenuti in una lista usando `count()`."
   ]
  },
  {
   "cell_type": "code",
   "execution_count": 25,
   "metadata": {},
   "outputs": [
    {
     "name": "stdout",
     "output_type": "stream",
     "text": [
      "3\n"
     ]
    }
   ],
   "source": [
    "ages = [22, 19, 24, 25, 26, 24, 25, 24]\n",
    "print(ages.count(24))         "
   ]
  },
  {
   "attachments": {},
   "cell_type": "markdown",
   "metadata": {},
   "source": [
    "Possiamo trovare l'indice di un elemento in una lista con `index()`."
   ]
  },
  {
   "cell_type": "code",
   "execution_count": 26,
   "metadata": {},
   "outputs": [
    {
     "data": {
      "text/plain": [
       "2"
      ]
     },
     "execution_count": 26,
     "metadata": {},
     "output_type": "execute_result"
    }
   ],
   "source": [
    "ages.index(24)  # index of the first occurrence"
   ]
  },
  {
   "attachments": {},
   "cell_type": "markdown",
   "metadata": {},
   "source": [
    "### Operatore slice\n",
    "\n",
    "L'operatore slice può essere applicato alle liste."
   ]
  },
  {
   "cell_type": "code",
   "execution_count": null,
   "metadata": {},
   "outputs": [],
   "source": [
    "t = [\"a\", \"b\", \"c\", \"d\", \"e\", \"f\"]\n",
    "t[1:3]"
   ]
  },
  {
   "cell_type": "code",
   "execution_count": null,
   "metadata": {},
   "outputs": [],
   "source": [
    "t[:4]\n"
   ]
  },
  {
   "cell_type": "code",
   "execution_count": null,
   "metadata": {},
   "outputs": [],
   "source": [
    "t[3:]"
   ]
  },
  {
   "attachments": {},
   "cell_type": "markdown",
   "metadata": {},
   "source": [
    "Se si omette il primo indice, la sezione parte dall'inizio. Se si omette il secondo, la sezione arriva alla fine della lista. Quindi, se si omettono entrambi gli indici, la sezione è una copia dell'intera lista:"
   ]
  },
  {
   "cell_type": "code",
   "execution_count": null,
   "metadata": {},
   "outputs": [],
   "source": [
    "t[:]"
   ]
  },
  {
   "attachments": {},
   "cell_type": "markdown",
   "metadata": {},
   "source": [
    "### Metodi applicati alle liste\n",
    "\n",
    "Python fornisce diversi metodi per operare sulle liste. Ad esempio, il metodo `append` aggiunge un nuovo elemento alla fine della lista."
   ]
  },
  {
   "cell_type": "code",
   "execution_count": null,
   "metadata": {},
   "outputs": [],
   "source": [
    "print(t)"
   ]
  },
  {
   "cell_type": "code",
   "execution_count": null,
   "metadata": {},
   "outputs": [],
   "source": [
    "t.append(\"g\")\n",
    "print(t)"
   ]
  },
  {
   "attachments": {},
   "cell_type": "markdown",
   "metadata": {},
   "source": [
    "Il metodo `sort` ritorna gli elementi della lista in ordine crescente:"
   ]
  },
  {
   "cell_type": "code",
   "execution_count": null,
   "metadata": {},
   "outputs": [],
   "source": [
    "t = [\"d\", \"c\", \"e\", \"b\", \"a\"]\n",
    "t.sort()\n",
    "print(t)"
   ]
  },
  {
   "attachments": {},
   "cell_type": "markdown",
   "metadata": {},
   "source": [
    "### Le tuple\n",
    "\n",
    "Una tupla è una collezione di diversi tipi di dati che è ordinata e immutabile (non modificabile). Le tuple sono scritte tra parentesi tonde, (). Una volta creata una tupla, non è possibile modificarne i contenuti."
   ]
  },
  {
   "cell_type": "code",
   "execution_count": 29,
   "metadata": {},
   "outputs": [
    {
     "data": {
      "text/plain": [
       "('Rosso', 'Nero', 'Bianco')"
      ]
     },
     "execution_count": 29,
     "metadata": {},
     "output_type": "execute_result"
    }
   ],
   "source": [
    "colors = ('Rosso', 'Nero', 'Bianco')\n",
    "colors"
   ]
  },
  {
   "cell_type": "code",
   "execution_count": 30,
   "metadata": {},
   "outputs": [
    {
     "data": {
      "text/plain": [
       "tuple"
      ]
     },
     "execution_count": 30,
     "metadata": {},
     "output_type": "execute_result"
    }
   ],
   "source": [
    "type(colors)"
   ]
  },
  {
   "attachments": {},
   "cell_type": "markdown",
   "metadata": {},
   "source": [
    "Le stringhe sono tuple di caratteri. Pertanto non sono modificabili."
   ]
  },
  {
   "attachments": {},
   "cell_type": "markdown",
   "metadata": {},
   "source": [
    "### Gli insiemi\n",
    "Gli insiemi sono una collezione finita di elementi tra loro distinguibili e non memorizzati in un ordine particolare. Non è possibile che un insieme contenga più di un'istanza di un medesimo elemento.\n",
    "\n",
    "Per creare un insieme si utilizzano le parentesi graffe. Ad esempio:"
   ]
  },
  {
   "cell_type": "code",
   "execution_count": 27,
   "metadata": {},
   "outputs": [
    {
     "data": {
      "text/plain": [
       "{'A', 'B', 'C', 'D', 'E', 'F'}"
      ]
     },
     "execution_count": 27,
     "metadata": {},
     "output_type": "execute_result"
    }
   ],
   "source": [
    "my_set = {\"A\", \"B\", \"C\", \"D\", \"E\", \"F\"}\n",
    "my_set"
   ]
  },
  {
   "cell_type": "code",
   "execution_count": 28,
   "metadata": {},
   "outputs": [
    {
     "data": {
      "text/plain": [
       "set"
      ]
     },
     "execution_count": 28,
     "metadata": {},
     "output_type": "execute_result"
    }
   ],
   "source": [
    "type(my_set)"
   ]
  },
  {
   "attachments": {},
   "cell_type": "markdown",
   "metadata": {},
   "source": [
    "Per verificare se un elemento esiste in un insieme usiamo l'operatore `in`."
   ]
  },
  {
   "cell_type": "code",
   "execution_count": 29,
   "metadata": {},
   "outputs": [
    {
     "name": "stdout",
     "output_type": "stream",
     "text": [
      "Does set my_set contain D?  True\n"
     ]
    }
   ],
   "source": [
    "print(\"Does set my_set contain D? \", \"D\" in my_set)\n"
   ]
  },
  {
   "attachments": {},
   "cell_type": "markdown",
   "metadata": {},
   "source": [
    "Possiamo aggiungere un elemento ad un insieme con il metodo `add()`."
   ]
  },
  {
   "cell_type": "code",
   "execution_count": 30,
   "metadata": {},
   "outputs": [
    {
     "name": "stdout",
     "output_type": "stream",
     "text": [
      "{'E', 'C', 'A', 'D', 'F', 'B', 'G'}\n"
     ]
    }
   ],
   "source": [
    "my_set.add(\"G\")\n",
    "print(my_set)"
   ]
  },
  {
   "attachments": {},
   "cell_type": "markdown",
   "metadata": {},
   "source": [
    "Il metodo `update()` consente di aggiungere elementi multipli ad un insieme. Il metodo `update()` prende come argomento una lista.\n",
    "\n",
    "Possiamo rimuovere un elemento ad un insieme con il metodo `remove()`."
   ]
  },
  {
   "cell_type": "code",
   "execution_count": 31,
   "metadata": {},
   "outputs": [
    {
     "name": "stdout",
     "output_type": "stream",
     "text": [
      "{'E', 'C', 'A', 'D', 'F', 'B', 'G'}\n",
      "{'E', 'C', 'A', 'D', 'F', 'G'}\n"
     ]
    }
   ],
   "source": [
    "print(my_set)\n",
    "my_set.remove(\"B\")\n",
    "print(my_set)"
   ]
  },
  {
   "attachments": {},
   "cell_type": "markdown",
   "metadata": {},
   "source": [
    "L'unione di due insieme si ottiene con `union()`."
   ]
  },
  {
   "cell_type": "code",
   "execution_count": 32,
   "metadata": {},
   "outputs": [
    {
     "name": "stdout",
     "output_type": "stream",
     "text": [
      "{'tomato', 'orange', 'lemon', 'cabbage', 'potato', 'carrot', 'banana', 'mango', 'onion'}\n"
     ]
    }
   ],
   "source": [
    "fruits = {\"banana\", \"orange\", \"mango\", \"lemon\"}\n",
    "vegetables = {\"tomato\", \"potato\", \"cabbage\", \"onion\", \"carrot\"}\n",
    "print(fruits.union(vegetables))\n"
   ]
  },
  {
   "attachments": {},
   "cell_type": "markdown",
   "metadata": {},
   "source": [
    "L'unione di due insieme si trova con `intersection()`."
   ]
  },
  {
   "cell_type": "code",
   "execution_count": 34,
   "metadata": {},
   "outputs": [
    {
     "data": {
      "text/plain": [
       "{'n', 'o'}"
      ]
     },
     "execution_count": 34,
     "metadata": {},
     "output_type": "execute_result"
    }
   ],
   "source": [
    "python = {\"p\", \"y\", \"t\", \"h\", \"o\", \"n\"}\n",
    "dragon = {\"d\", \"r\", \"a\", \"g\", \"o\", \"n\"}\n",
    "python.intersection(dragon)\n"
   ]
  },
  {
   "attachments": {},
   "cell_type": "markdown",
   "metadata": {},
   "source": [
    "Un insieme può essere un sottoinsieme o un sovrainsieme di altri insiemi.\n",
    "\n",
    "Sottoinsieme: `issubset()`\n",
    "Sovrainsieme: `issuperset()`"
   ]
  },
  {
   "cell_type": "code",
   "execution_count": 36,
   "metadata": {},
   "outputs": [
    {
     "data": {
      "text/plain": [
       "True"
      ]
     },
     "execution_count": 36,
     "metadata": {},
     "output_type": "execute_result"
    }
   ],
   "source": [
    "st1 = {\"item1\", \"item2\", \"item3\", \"item4\"}\n",
    "st2 = {\"item2\", \"item3\"}\n",
    "st2.issubset(st1)\n"
   ]
  },
  {
   "cell_type": "code",
   "execution_count": 37,
   "metadata": {},
   "outputs": [
    {
     "data": {
      "text/plain": [
       "True"
      ]
     },
     "execution_count": 37,
     "metadata": {},
     "output_type": "execute_result"
    }
   ],
   "source": [
    "st1.issuperset(st2) "
   ]
  },
  {
   "attachments": {},
   "cell_type": "markdown",
   "metadata": {},
   "source": [
    "La differenza tra due insiemi si ottiene con `difference()`."
   ]
  },
  {
   "cell_type": "code",
   "execution_count": 38,
   "metadata": {},
   "outputs": [
    {
     "data": {
      "text/plain": [
       "{1, 3, 5, 7, 9}"
      ]
     },
     "execution_count": 38,
     "metadata": {},
     "output_type": "execute_result"
    }
   ],
   "source": [
    "whole_numbers = {0, 1, 2, 3, 4, 5, 6, 7, 8, 9, 10}\n",
    "even_numbers = {0, 2, 4, 6, 8, 10}\n",
    "whole_numbers.difference(even_numbers)\n"
   ]
  },
  {
   "attachments": {},
   "cell_type": "markdown",
   "metadata": {},
   "source": [
    "Possiamo verificase se due insiemi sono disgiunti (non hanno elementi in comune) con `isdisjoint()`."
   ]
  },
  {
   "cell_type": "code",
   "execution_count": 39,
   "metadata": {},
   "outputs": [
    {
     "data": {
      "text/plain": [
       "False"
      ]
     },
     "execution_count": 39,
     "metadata": {},
     "output_type": "execute_result"
    }
   ],
   "source": [
    "st1 = {\"item1\", \"item2\", \"item3\", \"item4\"}\n",
    "st2 = {\"item2\", \"item3\"}\n",
    "st2.isdisjoint(st1)\n"
   ]
  },
  {
   "attachments": {},
   "cell_type": "markdown",
   "metadata": {},
   "source": [
    "###  I dizionari\n",
    "I dizionari servono a memorizzare delle associazioni tra oggetti. Sono costituiti da insiemi di coppie (chiave, valore), dove una data chiave non occorre più di una volta. Un dizionario viene creato indicando ogni coppia come `chiave : valore`, separando le varie coppie con delle virgole e racchiudendo il tutto tra parentesi graffe. Ad esempio:"
   ]
  },
  {
   "cell_type": "code",
   "execution_count": 43,
   "metadata": {},
   "outputs": [],
   "source": [
    "music = {\n",
    "    \"blues\": \"Betty Smith\",\n",
    "    \"classical\": \"Gustav Mahler\",\n",
    "    \"pop\": \"David Bowie\",\n",
    "    \"jazz\": \"John Coltrane\",\n",
    "}"
   ]
  },
  {
   "attachments": {},
   "cell_type": "markdown",
   "metadata": {},
   "source": [
    "L'accesso agli elementi di un dizionario viene fatto specificando all'interno di parentesi quadre la chiave per ottenere o modificare il valore corrispondente:"
   ]
  },
  {
   "cell_type": "code",
   "execution_count": 44,
   "metadata": {},
   "outputs": [
    {
     "data": {
      "text/plain": [
       "'David Bowie'"
      ]
     },
     "execution_count": 44,
     "metadata": {},
     "output_type": "execute_result"
    }
   ],
   "source": [
    "music[\"pop\"]"
   ]
  },
  {
   "attachments": {},
   "cell_type": "markdown",
   "metadata": {},
   "source": [
    "Per trovare il numero di coppie `key: value` nel dizionario usiamo `len()`."
   ]
  },
  {
   "cell_type": "code",
   "execution_count": 45,
   "metadata": {},
   "outputs": [
    {
     "name": "stdout",
     "output_type": "stream",
     "text": [
      "4\n"
     ]
    }
   ],
   "source": [
    "print(len(music))"
   ]
  },
  {
   "cell_type": "code",
   "execution_count": 46,
   "metadata": {},
   "outputs": [
    {
     "name": "stdout",
     "output_type": "stream",
     "text": [
      "{'blues': 'Betty Smith', 'classical': 'Gustav Mahler', 'pop': 'David Bowie', 'jazz': 'John Coltrane', 'new music': 'Missy Mazzoli'}\n"
     ]
    }
   ],
   "source": [
    "music['new music'] = 'Missy Mazzoli'\n",
    "print(music)"
   ]
  },
  {
   "attachments": {},
   "cell_type": "markdown",
   "metadata": {},
   "source": [
    "### Contenitori vuoti\n",
    "\n",
    "A volte è utile creare dei contenitori vuoti. I comandi per creare liste vuote, tuple vuote, dizionari vuoti e insiemi vuoti sono rispettivamente `lst = []`, `tup=()`, `dic={}` e `st = set()`."
   ]
  },
  {
   "attachments": {},
   "cell_type": "markdown",
   "metadata": {},
   "source": [
    "## Funzioni\n",
    "\n",
    "Diciamo che, con la programmazione, l'unico limite è la nostra immaginazione. Ma all'aumentare della complessità del problema che vogliamo risolvere aumenta anche la complessità (e la lunghezza) del codice. Più è lungo e complesso è il codice, maggiori sono le possibilità che qualcosa possa andare storto e la correzione degli errori risulta più difficile. È sempre possibile, infatti, che il codice contenga degli errori; dunque, il debugging (ovvero, la correzione degli errori) è una delle attività più importanti che deve svolgere chi scrive il codice. Ma se il codice è molto lungo e complesso, il debugging diventa quasi impossibile: gli errori si propagano e non è semplice scoprirne la causa. I linguaggi di programmazione, perciò, ci forniscono degli strumenti che facilitano il debugging. Il più importante di questi strumenti sono le funzioni.\n",
    "\n",
    "Nella programmazione, una funzione ha un input, esegue delle operazioni e restituisce un eventuale output. Python ha un gran numero di funzioni integrate. È possibile importare altre funzioni da pacchetti aggiuntivi o definire nuove funzioni. Consideriamo la definizione di una nuova funzione. La definizione di una funzione in Python viene fatta utilizzando la parola chiave `def` seguita dal nome della funzione e dai nomi simbolici per i suoi argomenti, separati da virgole e racchiusi tra parentesi. La definizione procede con un carattere di due punti e dal corpo della funzione le cui istruzioni devono essere indentate di un livello. Ciò che viene ritornato dalla funzione è contenuto nell'ultima riga del corpo della funzione ed è indicato dopo la parola chiave `return`."
   ]
  },
  {
   "cell_type": "code",
   "execution_count": 1,
   "metadata": {},
   "outputs": [],
   "source": [
    "def add_numbers(a, b):\n",
    "    \"\"\"\n",
    "    Add two numbers together\n",
    "\n",
    "    Returns\n",
    "    -------\n",
    "    the_sum : type of arguments\n",
    "    \"\"\"\n",
    "    return a + b\n"
   ]
  },
  {
   "attachments": {},
   "cell_type": "markdown",
   "metadata": {},
   "source": [
    "Una volta definita una funzione, è possibile eseguirla (operazione cui ci si riferisce spesso con la locuzione \"chiamata di funzione\"), passando argomenti diversi a seconda della situazione. La funzione `add_numbers` può essere usata per sommare due numeri, per esempio, 20 e 10:"
   ]
  },
  {
   "cell_type": "code",
   "execution_count": 2,
   "metadata": {},
   "outputs": [
    {
     "data": {
      "text/plain": [
       "30"
      ]
     },
     "execution_count": 2,
     "metadata": {},
     "output_type": "execute_result"
    }
   ],
   "source": [
    "add_numbers(20, 10)"
   ]
  },
  {
   "attachments": {},
   "cell_type": "markdown",
   "metadata": {},
   "source": [
    "Consideriamo la funzione `roll_die()`:"
   ]
  },
  {
   "cell_type": "code",
   "execution_count": 3,
   "metadata": {},
   "outputs": [],
   "source": [
    "import random\n",
    "\n",
    "\n",
    "def roll_die():\n",
    "    \"\"\"returns a random int between 1 and 6\"\"\"\n",
    "    return random.choice([1, 2, 3, 4, 5, 6])\n"
   ]
  },
  {
   "attachments": {},
   "cell_type": "markdown",
   "metadata": {},
   "source": [
    "Il corpo della funzione è costituito da un'unica riga di codice nella quale viene utilizzata la funzione `choice()`, della libreria `random` a cui è stata passata una lista. Questo significa che una funzione può utilizzare altre funzioni che sono già state definite. In questo caso, tutto quello che fa questa funzione è specificare l'argomento che viene passato a `choice()`. La funzione `choice()` ritornerà un numero a caso tra quelli specificati in input. Dunque, la funzione `roll_die()` simula il lancio di un dado:"
   ]
  },
  {
   "cell_type": "code",
   "execution_count": 4,
   "metadata": {},
   "outputs": [
    {
     "data": {
      "text/plain": [
       "4"
      ]
     },
     "execution_count": 4,
     "metadata": {},
     "output_type": "execute_result"
    }
   ],
   "source": [
    "roll_die()"
   ]
  },
  {
   "cell_type": "code",
   "execution_count": 5,
   "metadata": {},
   "outputs": [
    {
     "data": {
      "text/plain": [
       "1"
      ]
     },
     "execution_count": 5,
     "metadata": {},
     "output_type": "execute_result"
    }
   ],
   "source": [
    "roll_die()"
   ]
  },
  {
   "attachments": {},
   "cell_type": "markdown",
   "metadata": {},
   "source": [
    "Si noti inoltre la `docstring`, cioè una stringa (in genere racchiusa tra \"\"\"...\"\"\") che si trova come prima istruzione all'interno di una funzione. La `docstring` contiene informazioni sullo scopo e sulle modalità d'uso della funzione. \n",
    "\n",
    "### Introspection\n",
    "\n",
    "Usando un punto interrogativo (?) prima o dopo una variabile è possibile visualizzare alcune informazioni generale su quell'oggetto. Nel caso di una funzione viene stampata la `doc string`."
   ]
  },
  {
   "cell_type": "code",
   "execution_count": 6,
   "metadata": {},
   "outputs": [
    {
     "name": "stdout",
     "output_type": "stream",
     "text": [
      "\u001b[0;31mSignature:\u001b[0m \u001b[0mroll_die\u001b[0m\u001b[0;34m(\u001b[0m\u001b[0;34m)\u001b[0m\u001b[0;34m\u001b[0m\u001b[0;34m\u001b[0m\u001b[0m\n",
      "\u001b[0;31mDocstring:\u001b[0m returns a random int between 1 and 6\n",
      "\u001b[0;31mFile:\u001b[0m      /var/folders/cy/4xdvhqx966nggmk95hsnyzc40000gn/T/ipykernel_9379/2724116746.py\n",
      "\u001b[0;31mType:\u001b[0m      function\n"
     ]
    }
   ],
   "source": [
    "roll_die?"
   ]
  },
  {
   "attachments": {},
   "cell_type": "markdown",
   "metadata": {},
   "source": [
    "### Metodi\n",
    "\n",
    "Le funzioni che sono immagazzinate all'interno di una classe sono chiamate *metodi* (*methods*). Per esempio, nel capitolo {ref}`intro-pandas-notebook` vedremo che i dati possono essere immagazzinati in un oggetto chiamato DataFrame. Un tale oggetto appartiene alla classe `pandas.DataFrame`. Ad un DataFrame, possono essere applicate varie funzioni specifiche per quella classe di oggetti. Ad esempio, se il DataFrame si chiama `df`, il metodo `hist()` con la seguente sintassi `df.hist(column=\"column_name\")` produrrà un istogramma dei valori contenuti nella colonna `column_name`.\n",
    "\n",
    "I metodi sono dunque delle funzioni e vanno distinti dagli *attributi* (*attributes*). Gli attributi vengono invocati con la sintassi `object.name_of_the_attribute`, e restituiscono un valore. Ad esempio, l'attributo `.shape` applicato al DataFrame `df`, `df.shape`, ritorna il numero di righe e di colonne di `df`.\n",
    "\n",
    "### La funzione `lambda`\n",
    "\n",
    "Python offre una sintassi alternativa, che ci permette di dichiarare semplici funzioni *inline*, ovvero in una singola linea di codice. Le funzioni che vengono create in questo modo sono chiamate anonime (non hanno bisogno di essere definite in quanto vengono utilizzate solo al momento) e richiedono la parola chiave `lambda` seguita da un elenco di argomenti, un carattere di due punti, e l'espressione per valutare gli argomenti ed infine il valore in entrata. Nell'esempio seguente sommiamo 1 al valore passato in input:"
   ]
  },
  {
   "cell_type": "code",
   "execution_count": 30,
   "metadata": {},
   "outputs": [
    {
     "data": {
      "text/plain": [
       "3"
      ]
     },
     "execution_count": 30,
     "metadata": {},
     "output_type": "execute_result"
    }
   ],
   "source": [
    "(lambda x : x + 1)(2)"
   ]
  },
  {
   "attachments": {},
   "cell_type": "markdown",
   "metadata": {},
   "source": [
    "In questo esempio sommiamo i due numeri in entrata:"
   ]
  },
  {
   "cell_type": "code",
   "execution_count": 31,
   "metadata": {},
   "outputs": [
    {
     "data": {
      "text/plain": [
       "5"
      ]
     },
     "execution_count": 31,
     "metadata": {},
     "output_type": "execute_result"
    }
   ],
   "source": [
    "(lambda x, y: x + y)(2, 3)\n"
   ]
  },
  {
   "attachments": {},
   "cell_type": "markdown",
   "metadata": {},
   "source": [
    "È anche possibile assegnare un nome alla funzione lambda:"
   ]
  },
  {
   "cell_type": "code",
   "execution_count": 32,
   "metadata": {},
   "outputs": [],
   "source": [
    "myadd = lambda x, y: x + y\n"
   ]
  },
  {
   "cell_type": "code",
   "execution_count": 37,
   "metadata": {},
   "outputs": [
    {
     "data": {
      "text/plain": [
       "30"
      ]
     },
     "execution_count": 37,
     "metadata": {},
     "output_type": "execute_result"
    }
   ],
   "source": [
    "myadd(20, 10)"
   ]
  },
  {
   "attachments": {},
   "cell_type": "markdown",
   "metadata": {},
   "source": [
    "La sintassi seguente è valida in quanto, per l'interprete, il carattere `_` corrisponde all'ultima funzione che è stata valutata:"
   ]
  },
  {
   "cell_type": "code",
   "execution_count": 56,
   "metadata": {},
   "outputs": [
    {
     "data": {
      "text/plain": [
       "<function __main__.<lambda>(x, y)>"
      ]
     },
     "execution_count": 56,
     "metadata": {},
     "output_type": "execute_result"
    }
   ],
   "source": [
    "lambda x, y: x + y"
   ]
  },
  {
   "cell_type": "code",
   "execution_count": 57,
   "metadata": {},
   "outputs": [
    {
     "data": {
      "text/plain": [
       "30"
      ]
     },
     "execution_count": 57,
     "metadata": {},
     "output_type": "execute_result"
    }
   ],
   "source": [
    "_(20, 10)"
   ]
  },
  {
   "attachments": {},
   "cell_type": "markdown",
   "metadata": {},
   "source": [
    "Si noti abbiamo valutato la funzione `lambda x, y: x + y` in una cella precedente a quella che contiene `_(20, 10)`; inserendo le due espressioni in una singola cella si ottiene un `SyntaxError`."
   ]
  },
  {
   "attachments": {},
   "cell_type": "markdown",
   "metadata": {},
   "source": [
    "### Le funzioni `map()` e `filter()`\n",
    "\n",
    "Per gli esercizi che svolgeremo in seguito, risultano utili le funzioni `map()` e `filter()`.\n",
    "\n",
    "La funzione `map()` prende come input una funzione e una lista, e restituisce il risultato dell'applicazione della funzione a ciascun elemento della lista (è anche possibile usare qualsiasi oggetto iterabile al posto della lista). La lista stessa rimane invariata. Ad esempio, la seguente linea di codice eleva al quadrato ciascuno degli elementi della lista `a` e salva il risultato nella lista `b`:"
   ]
  },
  {
   "cell_type": "code",
   "execution_count": 61,
   "metadata": {},
   "outputs": [
    {
     "data": {
      "text/plain": [
       "[1, 4, 9, 16, 25, 36, 49, 64, 81, 100]"
      ]
     },
     "execution_count": 61,
     "metadata": {},
     "output_type": "execute_result"
    }
   ],
   "source": [
    "a = [1, 2, 3, 4, 5, 6, 7, 8, 9, 10]\n",
    "b = list(map(lambda x: x * x, a))\n",
    "b"
   ]
  },
  {
   "attachments": {},
   "cell_type": "markdown",
   "metadata": {},
   "source": [
    "Un'altra funzione molto utile per manipolare gli oggetti iterabili è la funzione `filter()`. Questa funzione filtra un oggetto iterabile selezionando solo gli elementi che rispondono ad un determinato predicato. (Il predicato è una funzione che restituisce un booleano). Per esempio"
   ]
  },
  {
   "cell_type": "code",
   "execution_count": 63,
   "metadata": {},
   "outputs": [
    {
     "data": {
      "text/plain": [
       "[64, 81, 100]"
      ]
     },
     "execution_count": 63,
     "metadata": {},
     "output_type": "execute_result"
    }
   ],
   "source": [
    "c = list(filter(lambda x: x > 50, b))\n",
    "c"
   ]
  },
  {
   "attachments": {},
   "cell_type": "markdown",
   "metadata": {},
   "source": [
    "Sia `map()` che `filter()` restituiscono risultati che non sono ancora stati calcolati. "
   ]
  },
  {
   "cell_type": "code",
   "execution_count": 64,
   "metadata": {},
   "outputs": [
    {
     "data": {
      "text/plain": [
       "<filter at 0x7ff56cea6c50>"
      ]
     },
     "execution_count": 64,
     "metadata": {},
     "output_type": "execute_result"
    }
   ],
   "source": [
    "filter(lambda x: x > 50, b)"
   ]
  },
  {
   "attachments": {},
   "cell_type": "markdown",
   "metadata": {},
   "source": [
    "Possiamo visualizzare il risultato convertendolo in una lista:"
   ]
  },
  {
   "cell_type": "code",
   "execution_count": 65,
   "metadata": {},
   "outputs": [
    {
     "data": {
      "text/plain": [
       "[64, 81, 100]"
      ]
     },
     "execution_count": 65,
     "metadata": {},
     "output_type": "execute_result"
    }
   ],
   "source": [
    "list(filter(lambda x: x > 50, b))"
   ]
  },
  {
   "attachments": {},
   "cell_type": "markdown",
   "metadata": {},
   "source": [
    "### La funzione `zip()`\n",
    "\n",
    "La funzione `zip()` crea una lista di tuple dagli elementi di due contenitori. Come nel caso delle operazioni precedenti, gli elementi vengono calcolati solo quando viene richiesto. Per esempio:"
   ]
  },
  {
   "cell_type": "code",
   "execution_count": 69,
   "metadata": {},
   "outputs": [
    {
     "data": {
      "text/plain": [
       "[0, 1, 2, 3]"
      ]
     },
     "execution_count": 69,
     "metadata": {},
     "output_type": "execute_result"
    }
   ],
   "source": [
    "a = list(range(4))\n",
    "a"
   ]
  },
  {
   "cell_type": "code",
   "execution_count": 75,
   "metadata": {},
   "outputs": [
    {
     "data": {
      "text/plain": [
       "[4, 5, 6, 7]"
      ]
     },
     "execution_count": 75,
     "metadata": {},
     "output_type": "execute_result"
    }
   ],
   "source": [
    "b = list(range(4, 8))\n",
    "b"
   ]
  },
  {
   "cell_type": "code",
   "execution_count": 76,
   "metadata": {},
   "outputs": [
    {
     "data": {
      "text/plain": [
       "<zip at 0x7ff56dedac80>"
      ]
     },
     "execution_count": 76,
     "metadata": {},
     "output_type": "execute_result"
    }
   ],
   "source": [
    "b = zip(a, b)\n",
    "b"
   ]
  },
  {
   "cell_type": "code",
   "execution_count": 77,
   "metadata": {},
   "outputs": [
    {
     "data": {
      "text/plain": [
       "[(0, 4), (1, 5), (2, 6), (3, 7)]"
      ]
     },
     "execution_count": 77,
     "metadata": {},
     "output_type": "execute_result"
    }
   ],
   "source": [
    "list(b)"
   ]
  },
  {
   "attachments": {},
   "cell_type": "markdown",
   "metadata": {},
   "source": [
    "## Il flusso di esecuzione\n",
    "\n",
    "In Python il codice viene eseguito sequenzialmente, partendo dalla prima riga fino a quando non c'è più nulla da eseguire. L'ordine di esecuzione delle varie istruzioni è detto *flusso di esecuzione*. \n",
    "\n",
    "Per esempio la cella seguente prima memorizza la lista `names`, poi la lista `born` e infine la lista `dead`.  "
   ]
  },
  {
   "cell_type": "code",
   "execution_count": null,
   "metadata": {},
   "outputs": [],
   "source": [
    "names = [\"Sigmund Freud\", \"Jean Piaget\", \"Burrhus Frederic Skinner\", \"Albert Bandura\"]\n",
    "born = [1856, 1896, 1904, 1925]\n",
    "dead = [1939, 1980, 1990, None]"
   ]
  },
  {
   "attachments": {},
   "cell_type": "markdown",
   "metadata": {},
   "source": [
    "Ho usato il valore speciale `None` in quanto non risulta disponibile l'anno. In queste situazioni si parla di *valori mancanti* (*missing values*) che, di norma, vengono indicati con la sigla NA (*not available*). \n",
    "\n",
    "La cella seguente include le istruzioni condizionali che specificano se e quando devono essere eseguiti determinati blocchi di codice. La più semplice istruzione di controllo è l'istruzione `if`. Per esempio:"
   ]
  },
  {
   "cell_type": "code",
   "execution_count": 78,
   "metadata": {},
   "outputs": [
    {
     "name": "stdout",
     "output_type": "stream",
     "text": [
      "Maria, hai ottenuto un ottimo voto all'esame!\n",
      "Tu potresti essere Giovanna o potresti avere ottenuto un ottimo voto all'esame.\n",
      "Tu non sei Giovanna ma hai ottenuto un ottimo voto all'esame.\n"
     ]
    }
   ],
   "source": [
    "name = \"Maria\"\n",
    "grade = 29\n",
    "\n",
    "if name == \"Maria\" and grade > 28:\n",
    "    print(\"Maria, hai ottenuto un ottimo voto all'esame!\")\n",
    "\n",
    "if name == \"Giovanna\" or grade > 28:\n",
    "    print(\n",
    "        \"Tu potresti essere Giovanna oppure potresti avere ottenuto un ottimo voto all'esame.\"\n",
    "    )\n",
    "\n",
    "if name != \"Giovanna\" and grade > 28:\n",
    "    print(\"Tu non sei Giovanna ma hai ottenuto un ottimo voto all'esame.\")\n"
   ]
  },
  {
   "attachments": {},
   "cell_type": "markdown",
   "metadata": {},
   "source": [
    "Tutte e tre le condizioni precedenti ritornano `True`, quindi vengono stampati tutti e tre i messaggi. \n",
    "\n",
    "Si noti che `==` e `!=` confrontano *valori*, mentre `is` e `not` confrontano *oggetti*. Per esempio,"
   ]
  },
  {
   "cell_type": "code",
   "execution_count": 79,
   "metadata": {},
   "outputs": [
    {
     "name": "stdout",
     "output_type": "stream",
     "text": [
      "False\n",
      "False\n"
     ]
    }
   ],
   "source": [
    "name_list = [\"Maria\", \"Giovanna\"]\n",
    "name_list_two = [\"Marco\", \"Francesco\"]\n",
    "\n",
    "# Compare values\n",
    "print(name_list == name_list_two)\n",
    "\n",
    "# Compare objects\n",
    "print(name_list is name_list_two)\n"
   ]
  },
  {
   "cell_type": "markdown",
   "metadata": {},
   "source": [
    "Una delle parole chiave condizionali più utili è `in`. Un esempio è il seguente:"
   ]
  },
  {
   "cell_type": "code",
   "execution_count": 11,
   "metadata": {},
   "outputs": [
    {
     "name": "stdout",
     "output_type": "stream",
     "text": [
      "True\n",
      "False\n"
     ]
    }
   ],
   "source": [
    "name_list = [\"Maria\", \"Giovanna\", \"Marco\", \"Francesco\"]\n",
    "\n",
    "print(\"Giovanna\" in name_list)\n",
    "print(\"Luca\" in name_list)"
   ]
  },
  {
   "attachments": {},
   "cell_type": "markdown",
   "metadata": {},
   "source": [
    "La condizione opposta è `not in`."
   ]
  },
  {
   "cell_type": "code",
   "execution_count": null,
   "metadata": {},
   "outputs": [],
   "source": [
    "print(\"Luca\" not in name_list)"
   ]
  },
  {
   "attachments": {},
   "cell_type": "markdown",
   "metadata": {},
   "source": [
    "Facciamo un altro esempio."
   ]
  },
  {
   "cell_type": "code",
   "execution_count": null,
   "metadata": {},
   "outputs": [],
   "source": [
    "age = 26\n",
    "if age >= 18:\n",
    "    print(\"Sei maggiorenne\")"
   ]
  },
  {
   "attachments": {},
   "cell_type": "markdown",
   "metadata": {},
   "source": [
    "Una struttura di selezione leggermente più complessa è \"if-else\". La sintassi di questa struttura è la seguente:\n",
    "\n",
    "```\n",
    "if <condizione>:\n",
    "    <istruzione_se_condizione_vera>\n",
    "else:\n",
    "    <istruzione_se_condizione_falsa>\n",
    "```\n",
    "\n",
    "La semantica di \"if-else\" è quella che ci si aspetta: la condizione tra la parola chiave `if` e il carattere di due punti viene valutata: se risulta vera viene eseguita l'istruzione alla linea seguente, altrimenti viene eseguita l'istruzione dopo la parola chiave `else`. Anche in questo caso l'indentazione permette di identificare quali istruzioni devono essere eseguite nei due rami della selezione. Per esempio:"
   ]
  },
  {
   "cell_type": "code",
   "execution_count": 20,
   "metadata": {},
   "outputs": [
    {
     "name": "stdout",
     "output_type": "stream",
     "text": [
      "Sei minorenne\n"
     ]
    }
   ],
   "source": [
    "age = 16\n",
    "if age >= 18:\n",
    "    print(\"Sei maggiorenne\")\n",
    "else:\n",
    "    print(\"Sei minorenne\")"
   ]
  },
  {
   "attachments": {},
   "cell_type": "markdown",
   "metadata": {},
   "source": [
    "In presenza di più di due possibilità mutuamente esclusive ed esaustive possiamo usare l'istruzione `elif`. Per esempio:"
   ]
  },
  {
   "cell_type": "code",
   "execution_count": 21,
   "metadata": {},
   "outputs": [
    {
     "name": "stdout",
     "output_type": "stream",
     "text": [
      "Ripassa tra qualche anno!\n"
     ]
    }
   ],
   "source": [
    "cfu = 36\n",
    "thesis_defense = False\n",
    "\n",
    "if cfu >= 180 and thesis_defense == True:\n",
    "    print(\"Puoi andare a festeggiare!\")\n",
    "elif cfu >= 180 and thesis_defense == False:\n",
    "    print(\"Devi ancora superare la prova finale!\")\n",
    "else:\n",
    "    print(\"Ripassa tra qualche anno!\")\n"
   ]
  },
  {
   "attachments": {},
   "cell_type": "markdown",
   "metadata": {},
   "source": [
    "### Commenti\n",
    "In Python è possibile usare il carattere # per aggiungere commenti al codice. Ogni riga di commento deve essere preceduta da un #. I commenti non devono spiegare il metodo (cosa fa il codice: quello si vede), ma bensì lo scopo: *quello che noi intendiamo ottenere*. I primi destinatari dei commenti siamo noi stessi tra un po' di tempo, ovvero quando ci saremo dimenticati cosa avevamo in mente quando abbiamo scritto il codice."
   ]
  },
  {
   "cell_type": "code",
   "execution_count": 18,
   "metadata": {},
   "outputs": [],
   "source": [
    "# This is a comment and will not be executed."
   ]
  },
  {
   "attachments": {},
   "cell_type": "markdown",
   "metadata": {},
   "source": [
    "## Cicli\n",
    "\n",
    "### Il ciclo `while`\n",
    "il ciclo `while` permette l'esecuzione di un blocco di codice finché una determinata condizione è True. Per esempio:"
   ]
  },
  {
   "cell_type": "code",
   "execution_count": 31,
   "metadata": {},
   "outputs": [
    {
     "name": "stdout",
     "output_type": "stream",
     "text": [
      "0\n",
      "1\n",
      "2\n",
      "3\n",
      "4\n",
      "5\n",
      "6\n",
      "7\n",
      "8\n",
      "9\n",
      "10\n"
     ]
    }
   ],
   "source": [
    "counter = 0\n",
    "\n",
    "while counter <= 10:\n",
    "    print(counter)\n",
    "    counter += 1"
   ]
  },
  {
   "attachments": {},
   "cell_type": "markdown",
   "metadata": {},
   "source": [
    "Il codice `counter += 1` è equivalente a `counter = counter + 1` e, ogni qualvolta viene eseguito il ciclo, riassegna alla variabile `counter` il valore che aveva in precedenza + 1.\n",
    "\n",
    "L'istruzione `while` controlla se alla variabile `counter` è associato un valore minore o uguale a 10. Nel primo passo del ciclo la condizione è soddisfatta, avendo noi definito `counter = 0`, pertanto il programma entra nel loop, stampa il valore della variabile `counter` e incrementa `counter` di un'unità. \n",
    "\n",
    "Questo comportamento si ripete finché la condizione `counter <= 10` risulta `True`. Quando il contatore `counter` assume il valore 11 il ciclo `while` si interrompe e il blocco di codice del ciclo non viene più eseguito.\n",
    "\n",
    "### Il ciclo `for`\n",
    "\n",
    "Il ciclo `for` è un costrutto di controllo di flusso che viene utilizzato per iterare su una sequenza di valori, come ad esempio una lista, una tupla, una stringa o un dizionario.\n",
    "\n",
    "La sintassi generale di un ciclo for in Python è la seguente:\n",
    "\n",
    "```\n",
    "for element in sequence:\n",
    "    # codice da eseguire\n",
    "```\n",
    "\n",
    "Dove `element` è una variabile temporanea che assume il valore di ciascun elemento della sequenza ad ogni iterazione del ciclo, e `sequence` è la sequenza di valori su cui iterare.\n",
    "\n",
    "Durante l'esecuzione del ciclo, il blocco di codice indentato sotto la linea for viene eseguito una volta per ogni elemento della sequenza. Ad ogni iterazione, la variabile elemento assume il valore dell'elemento corrente della sequenza e il codice all'interno del blocco viene eseguito con questo valore.\n",
    "\n",
    "Il ciclo `for` è spesso utilizzato per eseguire operazioni su ciascun elemento di una sequenza, come ad esempio la somma degli elementi di una lista o la stampa di ciascun carattere di una stringa. Per esempio"
   ]
  },
  {
   "cell_type": "code",
   "execution_count": 1,
   "metadata": {},
   "outputs": [
    {
     "name": "stdout",
     "output_type": "stream",
     "text": [
      "0\n",
      "1\n",
      "2\n",
      "3\n",
      "4\n",
      "5\n",
      "6\n",
      "7\n",
      "8\n",
      "9\n",
      "10\n"
     ]
    }
   ],
   "source": [
    "for number in range(11):\n",
    "    print(number)"
   ]
  },
  {
   "attachments": {},
   "cell_type": "markdown",
   "metadata": {},
   "source": [
    "Sono possibili i cicli `for` annidati, vale a dire un ciclo posto all'interno del corpo di un altro (chiamato ciclo esterno). Al suo primo passo, il ciclo esterno mette in esecuzione quello interno che esegue il proprio blocco di codice fino alla conclusione. Quindi, al secondo passo, il ciclo esterno rimette in esecuzione quello interno. Questo si ripete finché il ciclo esterno non termina. Per esempio:"
   ]
  },
  {
   "cell_type": "code",
   "execution_count": 4,
   "metadata": {},
   "outputs": [
    {
     "name": "stdout",
     "output_type": "stream",
     "text": [
      "(0, 0)\n",
      "(0, 1)\n",
      "(0, 2)\n",
      "(0, 3)\n",
      "(1, 0)\n",
      "(1, 1)\n",
      "(1, 2)\n",
      "(1, 3)\n",
      "(2, 0)\n",
      "(2, 1)\n",
      "(2, 2)\n",
      "(2, 3)\n",
      "(3, 0)\n",
      "(3, 1)\n",
      "(3, 2)\n",
      "(3, 3)\n"
     ]
    }
   ],
   "source": [
    "for i in range(4):\n",
    "    for j in range(4):\n",
    "        print((i, j))\n"
   ]
  },
  {
   "attachments": {},
   "cell_type": "markdown",
   "metadata": {},
   "source": [
    "La funzione `range()` permette di impostare un intervallo di esecuzione tanto ampio quanto il numero che le passiamo come parametro meno uno. L'indicizzazione Python parte da 0; quindi l'intervallo definito sopra può essere inteso come una lista di 11 elementi, da 0 a 10 inclusi. L'intervallo di `range()` corrisponde al numero di iterazioni che verranno eseguite, ovvero al numero di volte che il ciclo for verrà processato.\n",
    "\n",
    "La funzione `range()` prende tre parametri: start (default 0), stop e step (default 1), ovvero un punto di inizio dell'intervallo, un punto di fine e un passo di avanzamento. Ad esempio, impostiamo un punto di inizio a 3, il punto di fine a 11 e un passo di 2:"
   ]
  },
  {
   "cell_type": "code",
   "execution_count": 9,
   "metadata": {},
   "outputs": [
    {
     "name": "stdout",
     "output_type": "stream",
     "text": [
      "3\n",
      "5\n",
      "7\n",
      "9\n"
     ]
    }
   ],
   "source": [
    "for number in range(3, 11, 2):\n",
    "    print(number)"
   ]
  },
  {
   "attachments": {},
   "cell_type": "markdown",
   "metadata": {},
   "source": [
    "Consideriamo ora la funzione `enumerate()`. Tale funzione crea una lista:"
   ]
  },
  {
   "cell_type": "code",
   "execution_count": 12,
   "metadata": {},
   "outputs": [],
   "source": [
    "enum_lst = enumerate(name_list)"
   ]
  },
  {
   "attachments": {},
   "cell_type": "markdown",
   "metadata": {},
   "source": [
    "Visualizziamo la lista creata da `enumerate()`:"
   ]
  },
  {
   "cell_type": "code",
   "execution_count": 13,
   "metadata": {},
   "outputs": [
    {
     "data": {
      "text/plain": [
       "[(0, 'Maria'), (1, 'Giovanna'), (2, 'Marco'), (3, 'Francesco')]"
      ]
     },
     "execution_count": 13,
     "metadata": {},
     "output_type": "execute_result"
    }
   ],
   "source": [
    "list(enum_lst)"
   ]
  },
  {
   "attachments": {},
   "cell_type": "markdown",
   "metadata": {},
   "source": [
    "Iterando sui membri di una lista passata come argomento, `enumerate()` ritorna un'altra lista nella quale ciascun elemento è una lista di due elementi: il primo elemento è un indice sequenziale mentre il secondo elemento corrisponde a ciò che conteneva la lista originaria. Nel seguente ciclo `for`, la funzione `enumerate` crea un indice (`i`) che corrisponde alla posizione degli elementi nella lista:"
   ]
  },
  {
   "cell_type": "code",
   "execution_count": 53,
   "metadata": {},
   "outputs": [
    {
     "name": "stdout",
     "output_type": "stream",
     "text": [
      "Nella lista l'indice 0 è associato al nome Maria\n",
      "Nella lista l'indice 1 è associato al nome Marco\n",
      "Nella lista l'indice 2 è associato al nome Francesco\n",
      "Nella lista l'indice 3 è associato al nome Giovanna\n"
     ]
    }
   ],
   "source": [
    "name_list = [\"Maria\", \"Marco\", \"Francesco\", \"Giovanna\"]\n",
    "\n",
    "for i, name in enumerate(name_list):\n",
    "    print(f\"Nella lista l'indice {i} è associato al nome {name}\")"
   ]
  },
  {
   "attachments": {},
   "cell_type": "markdown",
   "metadata": {},
   "source": [
    "Si noti la formattazione f-string. Le stringhe formattate, chiamate anche f-string, consentono di inserire delle espressioni Python in una stringa di testo, racchiudendole entro parentesi graffe. Nell'esempio precedente il testo all'interno delle virgolette viene visualizzato esattamente come digitato. Le parentesi graffe sono un segnaposto che contiene variabili Python. Una volta eseguito il codice la funzione `print()` visualizza la parte letterale (il testo) insieme ai valori delle variabili a cui abbiamo fatto riferimento. Si noti anche che il ciclo fa simulteneamente riferimento a due iterabili: `i` e `name`.\n",
    "\n",
    "Un altro utile tipo di ciclo `for` fa uso della funzione `zip`. Possiamo pensare alla funzione `zip` come a una cerniera lampo, che riunisce gli elementi di due diversi iteratori. Ecco un esempio:"
   ]
  },
  {
   "cell_type": "code",
   "execution_count": 16,
   "metadata": {},
   "outputs": [
    {
     "name": "stdout",
     "output_type": "stream",
     "text": [
      "Maria Blu\n",
      "Marco Giallo\n",
      "Francesco Bianco\n",
      "Giovanna Nero\n"
     ]
    }
   ],
   "source": [
    "first_names = [\"Maria\", \"Marco\", \"Francesco\", \"Giovanna\"]\n",
    "last_names = [\"Blu\", \"Giallo\", \"Bianco\", \"Nero\"]\n",
    "\n",
    "for forename, surname in zip(first_names, last_names):\n",
    "    print(f\"{forename} {surname}\")"
   ]
  },
  {
   "attachments": {},
   "cell_type": "markdown",
   "metadata": {},
   "source": [
    "Il ciclo `for` è il modo più comune per scorrere gli elementi di una lista, come abbiamo fatto in precedenza."
   ]
  },
  {
   "cell_type": "code",
   "execution_count": 17,
   "metadata": {},
   "outputs": [
    {
     "name": "stdout",
     "output_type": "stream",
     "text": [
      "Maria\n",
      "Marco\n",
      "Francesco\n",
      "Giovanna\n"
     ]
    }
   ],
   "source": [
    "for name in first_names:\n",
    "    print(name)"
   ]
  },
  {
   "attachments": {},
   "cell_type": "markdown",
   "metadata": {},
   "source": [
    "Questo approccio funziona se abbiamo solo bisogno di leggere gli elementi della lista. "
   ]
  },
  {
   "cell_type": "code",
   "execution_count": 8,
   "metadata": {},
   "outputs": [
    {
     "name": "stdout",
     "output_type": "stream",
     "text": [
      "8\n"
     ]
    }
   ],
   "source": [
    "numbers = [2, -4, 1, 6, 3]\n",
    "\n",
    "total = 0\n",
    "for num in numbers:\n",
    "    total += num\n",
    "\n",
    "print(total)"
   ]
  },
  {
   "attachments": {},
   "cell_type": "markdown",
   "metadata": {},
   "source": [
    "Ma se vogliamo scrivere o aggiornare gli elementi, dobbiamo usare gli indici. Un modo comune per farlo è combinare le funzioni `range` e `len`:"
   ]
  },
  {
   "cell_type": "code",
   "execution_count": 1,
   "metadata": {},
   "outputs": [
    {
     "name": "stdout",
     "output_type": "stream",
     "text": [
      "[4, -8, 2, 12, 6]\n"
     ]
    }
   ],
   "source": [
    "numbers = [2, -4, 1, 6, 3]\n",
    "\n",
    "for i in range(len(numbers)):\n",
    "    numbers[i] = numbers[i] * 2\n",
    "\n",
    "print(numbers)"
   ]
  },
  {
   "attachments": {},
   "cell_type": "markdown",
   "metadata": {},
   "source": [
    "Questo ciclo scorre gli elementi della lista e aggiorna ciascun elemento. La funzione `len()` restituisce il numero di elementi nella lista. la funzione `range()` restituisce una lista di indici da 0 a `n−1`, dove `n` è la lunghezza della lista. La prima volta che il ciclo viene eseguito, `i` vale 0 e `numbers[i]` fa riferimento al primo elemento della lista; la seconda volta che il ciclo viene eseguito, `i` vale 1 e `numbers[i]` fa riferimento al secondo elemento della lista; e così via. L'istruzione di assegnazione nel corpo del ciclo usa `i` per leggere il vecchio valore dell'elemento e per assegnare il nuovo valore."
   ]
  },
  {
   "attachments": {},
   "cell_type": "markdown",
   "metadata": {},
   "source": [
    "Un ciclo `for` su una lista vuota non esegue mai il corpo del ciclo:"
   ]
  },
  {
   "cell_type": "code",
   "execution_count": null,
   "metadata": {},
   "outputs": [],
   "source": [
    "for x in []:\n",
    "    print(\"This never happens.\")"
   ]
  },
  {
   "attachments": {},
   "cell_type": "markdown",
   "metadata": {},
   "source": [
    "### List comprehension\n",
    "\n",
    "Una *list comprehension* è un modo conciso di creare una lista. Accade speso di dover creare una lista dove ciascun elemento è il risultato di un'operazione condotta sugli elementi di un'altra lista o iterabile; oppure, di dover estrarre gli elementi che soddisfano una certa condizione.\n",
    "\n",
    "Per esempio, vogliamo sommare una costante ad una lista di numeri:"
   ]
  },
  {
   "cell_type": "code",
   "execution_count": 7,
   "metadata": {},
   "outputs": [
    {
     "data": {
      "text/plain": [
       "[10, 11, 12, 13, 14, 15, 16, 17, 18, 19]"
      ]
     },
     "execution_count": 7,
     "metadata": {},
     "output_type": "execute_result"
    }
   ],
   "source": [
    "new_list = []\n",
    "k = 10\n",
    "for x in range(10):\n",
    "    new_list.append(x + k)\n",
    "\n",
    "new_list"
   ]
  },
  {
   "attachments": {},
   "cell_type": "markdown",
   "metadata": {},
   "source": [
    "Lo stesso risultato si può ottenere usando la funzione `lambda`:"
   ]
  },
  {
   "cell_type": "code",
   "execution_count": null,
   "metadata": {},
   "outputs": [],
   "source": [
    "new_list = list(map(lambda x: x + k, range(10)))\n",
    "new_list"
   ]
  },
  {
   "attachments": {},
   "cell_type": "markdown",
   "metadata": {},
   "source": [
    "Oppure, in maniera più semplice, possiamo usare una *list comprehension*:"
   ]
  },
  {
   "cell_type": "code",
   "execution_count": null,
   "metadata": {},
   "outputs": [],
   "source": [
    "new_list = [x + k for x in range(10)]\n",
    "new_list"
   ]
  },
  {
   "attachments": {},
   "cell_type": "markdown",
   "metadata": {},
   "source": [
    "Una *list comprehension* è racchiusa tra parentesi quadre; contiene un'espressione, seguita da una clausola `for`, seguita da zero o più clausole `for` o `if`. La sintassi è la seguente:\n",
    "\n",
    "```\n",
    "[ <expression> for item in iterable <if optional_condition> ]\n",
    "```\n",
    "\n",
    "Il risultato è una nuova lista costruita valutando l'espressione nel contesto delle clausole `for` e `if` che la seguono. Una *list comprehension* combina dunque un ciclo `for` e (se necessario) una o più condizioni logiche in una singola riga di codice. \n",
    "\n",
    "Esaminiamo una variante dell'esempio precedente."
   ]
  },
  {
   "cell_type": "code",
   "execution_count": 1,
   "metadata": {},
   "outputs": [
    {
     "name": "stdout",
     "output_type": "stream",
     "text": [
      "list1: [1, 2, 3, 4, 5, 6]\n",
      "list2: [2, 3, 4, 5, 6, 7]\n"
     ]
    }
   ],
   "source": [
    "list1 = [1, 2, 3, 4, 5, 6]\n",
    "print(\"list1:\", list1)\n",
    "\n",
    "list2 = [item + 1 for item in list1]\n",
    "print(\"list2:\", list2)"
   ]
  },
  {
   "attachments": {},
   "cell_type": "markdown",
   "metadata": {},
   "source": [
    "Si noti che la parola `item` avrebbe potuto essere quasi qualsiasi stringa (in precedenza abbiamo usato `x`). La possiamo immaginare con la seguente definizione: `...per ogni elemento in ...`. Nel seguente esempio, sommiamo 1 agli elementi di `list1` solo se sono pari:"
   ]
  },
  {
   "cell_type": "code",
   "execution_count": 2,
   "metadata": {},
   "outputs": [
    {
     "name": "stdout",
     "output_type": "stream",
     "text": [
      "list3: [3, 5, 7]\n"
     ]
    }
   ],
   "source": [
    "list3 = [item + 1 for item in list1 if item % 2 == 0] \n",
    "print('list3:', list3)"
   ]
  },
  {
   "attachments": {},
   "cell_type": "markdown",
   "metadata": {},
   "source": [
    "Facciamo un altro esempio usando `range()`:"
   ]
  },
  {
   "cell_type": "code",
   "execution_count": 55,
   "metadata": {},
   "outputs": [
    {
     "data": {
      "text/plain": [
       "[51, 52, 53, 54, 55, 56, 57, 58, 59, 60]"
      ]
     },
     "execution_count": 55,
     "metadata": {},
     "output_type": "execute_result"
    }
   ],
   "source": [
    "num_list = range(50, 60)\n",
    "[1 + num for num in num_list]"
   ]
  },
  {
   "attachments": {},
   "cell_type": "markdown",
   "metadata": {},
   "source": [
    "In questo esempio vengono selezionati solo i nomi inclusi nella lista `female_names`:"
   ]
  },
  {
   "cell_type": "code",
   "execution_count": 41,
   "metadata": {},
   "outputs": [
    {
     "name": "stdout",
     "output_type": "stream",
     "text": [
      "['Maria', 'Giovanna']\n"
     ]
    }
   ],
   "source": [
    "female_names = [\"Maria\", \"Giovanna\"]\n",
    "female_list = [name for name in first_names if name in female_names]\n",
    "print(female_list)"
   ]
  },
  {
   "attachments": {},
   "cell_type": "markdown",
   "metadata": {},
   "source": [
    "Nel seguente esempio viene estratta l'iniziale di ciascuno dei nomi che compongono una lista:"
   ]
  },
  {
   "cell_type": "code",
   "execution_count": 43,
   "metadata": {},
   "outputs": [
    {
     "data": {
      "text/plain": [
       "['M', 'M', 'F', 'G']"
      ]
     },
     "execution_count": 43,
     "metadata": {},
     "output_type": "execute_result"
    }
   ],
   "source": [
    "letters = [name[0] for name in first_names] \n",
    "letters"
   ]
  },
  {
   "attachments": {},
   "cell_type": "markdown",
   "metadata": {},
   "source": [
    "Possiamo anche eseguire più iterazioni simultaneamente:"
   ]
  },
  {
   "cell_type": "code",
   "execution_count": 44,
   "metadata": {},
   "outputs": [
    {
     "data": {
      "text/plain": [
       "[(0, 0),\n",
       " (0, 1),\n",
       " (0, 2),\n",
       " (0, 3),\n",
       " (1, 0),\n",
       " (1, 1),\n",
       " (1, 2),\n",
       " (1, 3),\n",
       " (2, 0),\n",
       " (2, 1),\n",
       " (2, 2),\n",
       " (2, 3)]"
      ]
     },
     "execution_count": 44,
     "metadata": {},
     "output_type": "execute_result"
    }
   ],
   "source": [
    "[(i, j) for i in range(3) for j in range(4)]"
   ]
  },
  {
   "attachments": {},
   "cell_type": "markdown",
   "metadata": {},
   "source": [
    "Qui selezioniamo solo i numeri pari (oltre allo zero):"
   ]
  },
  {
   "cell_type": "code",
   "execution_count": 45,
   "metadata": {},
   "outputs": [
    {
     "data": {
      "text/plain": [
       "[0, 2, 4, 6, 8, 10]"
      ]
     },
     "execution_count": 45,
     "metadata": {},
     "output_type": "execute_result"
    }
   ],
   "source": [
    "[i for i in range(11) if i % 2 == 0]"
   ]
  },
  {
   "attachments": {},
   "cell_type": "markdown",
   "metadata": {},
   "source": [
    "Specificando una condizione, possiamo cambiare il segno solo dei numeri dispari nella lista:"
   ]
  },
  {
   "cell_type": "code",
   "execution_count": 46,
   "metadata": {},
   "outputs": [
    {
     "data": {
      "text/plain": [
       "[0, -1, 2, -3, 4, -5, 6, -7, 8, -9, 10]"
      ]
     },
     "execution_count": 46,
     "metadata": {},
     "output_type": "execute_result"
    }
   ],
   "source": [
    "[-i if i % 2 else i for i in range(11)]"
   ]
  },
  {
   "attachments": {},
   "cell_type": "markdown",
   "metadata": {},
   "source": [
    "## Librerie e moduli\n",
    "\n",
    "### Importare moduli\n",
    "\n",
    "I moduli (anche conosciuti come librerie in altri linguaggi) sono dei file usati per raggruppare funzioni e altri oggetti. Python include già una lista estensiva di moduli standard (anche conosciuti come Standard Library), ma è anche possibile scaricarne o definirne di nuovi. Prima di potere utilizzare le funzioni non presenti nella Standard Library all'interno dei nostri programmi dobbiamo importare dei moduli aggiuntivi, e per fare ciò usiamo il comando `import`. \n",
    "\n",
    "L'importazione può riguardare un intero modulo oppure solo uno (o più) dei suoi elementi. Consideriamo per esempio la funzione `mean` che abbiamo appena usato. Essa è disponibile nel modulo `numpy`. L'istruzione `import numpy` importa tutto il modulo [numpy](http://www.numpy.org). Dopo che un modulo è stato importato, è possibile accedere a un suo generico elemento usando il nome del modulo, seguito da un punto e dal nome dell'elemento in questione.\n",
    "\n",
    "Indicare il nome di un modulo per poter accedere ai suoi elementi ha spesso l'effetto di allungare il codice, diminuendone al contempo la leggibilità. È per questo motivo che è possibile importare un modulo specificando un nome alternativo, più corto. È quello che succede quando scriviamo l'istruzione `import numpy as np`.\n",
    "\n",
    "I moduli più complessi sono organizzati in strutture gerarchiche chiamate _package_. La seguente cella importa il modulo `pyplot` che è contenuto nel package `matplotlib` ([matplotlib](http://matplotlib.org) è la libreria di riferimento in Python per la creazione di grafici). "
   ]
  },
  {
   "cell_type": "code",
   "execution_count": null,
   "metadata": {},
   "outputs": [],
   "source": [
    "import matplotlib.pyplot as plt"
   ]
  },
  {
   "attachments": {},
   "cell_type": "markdown",
   "metadata": {},
   "source": [
    "Qui di seguito sono descritte tutte le possibilità:"
   ]
  },
  {
   "cell_type": "code",
   "execution_count": 8,
   "metadata": {},
   "outputs": [
    {
     "data": {
      "text/plain": [
       "0.9405997945352496"
      ]
     },
     "execution_count": 8,
     "metadata": {},
     "output_type": "execute_result"
    }
   ],
   "source": [
    "# import everything from library\n",
    "import random\n",
    "# call function by\n",
    "random.random()\n",
    "\n",
    "#import everything, but change name\n",
    "import random as rnd\n",
    "# call function by\n",
    "rnd.random()\n",
    "\n",
    "# select what to import from library\n",
    "from random import random\n",
    "#call function by\n",
    "random()\n",
    "\n",
    "# import everything from library\n",
    "from random import *\n",
    "# call function by\n",
    "random()"
   ]
  },
  {
   "attachments": {},
   "cell_type": "markdown",
   "metadata": {},
   "source": [
    "Nella cella seguente importo `seaborn` con il nome `sns` e uso le sue funzionalità per  impostare uno stile e una palette di colori per la visualizzazione dei grafici."
   ]
  },
  {
   "cell_type": "code",
   "execution_count": null,
   "metadata": {},
   "outputs": [],
   "source": [
    "import seaborn as sns\n",
    "sns.set_theme()\n",
    "sns.set_palette(\"colorblind\")"
   ]
  },
  {
   "attachments": {},
   "cell_type": "markdown",
   "metadata": {},
   "source": [
    "Nell'esempio seguente calcolo la somma degli elementi della lista numerica `primes` usando funzione `sum()` contenuta nella libreria NumPy che ho importato con il nome di `np`:"
   ]
  },
  {
   "cell_type": "code",
   "execution_count": 9,
   "metadata": {},
   "outputs": [
    {
     "data": {
      "text/plain": [
       "42"
      ]
     },
     "execution_count": 9,
     "metadata": {},
     "output_type": "execute_result"
    }
   ],
   "source": [
    "import numpy as np\n",
    "\n",
    "primes = [1, 2, 3, 5, 7, 11, 13]\n",
    "np.sum(primes)"
   ]
  },
  {
   "attachments": {},
   "cell_type": "markdown",
   "metadata": {},
   "source": [
    "Calcolo la media:"
   ]
  },
  {
   "cell_type": "code",
   "execution_count": 10,
   "metadata": {},
   "outputs": [
    {
     "data": {
      "text/plain": [
       "6.0"
      ]
     },
     "execution_count": 10,
     "metadata": {},
     "output_type": "execute_result"
    }
   ],
   "source": [
    "np.mean(primes)"
   ]
  },
  {
   "attachments": {},
   "cell_type": "markdown",
   "metadata": {},
   "source": [
    "Scrivo una nuova funzione per la media, $\\bar{x} = n^{-1}\\sum_{i=1}^n x_i$:"
   ]
  },
  {
   "cell_type": "code",
   "execution_count": null,
   "metadata": {},
   "outputs": [],
   "source": [
    "def my_mean(x):\n",
    "    res = np.sum(x) / len(x)\n",
    "    return res"
   ]
  },
  {
   "cell_type": "code",
   "execution_count": null,
   "metadata": {},
   "outputs": [],
   "source": [
    "my_mean(primes)"
   ]
  },
  {
   "attachments": {},
   "cell_type": "markdown",
   "metadata": {},
   "source": [
    "Si notino due cose. (1) È possibile, nel corpo di una funzione, usare altre funzioni. (2) Indentare il codice è una pratica comune in tutti i linguaggi, perché semplifica la lettura del codice e la compresione della sua struttura. In Python, tuttavia, l'indentazione è obbligatoria, nel senso che, nell'esempio precedente, delimita il blocco di codice che costituisce il corpo della funzione. Dunque, indentare in modo incorretto comporta la comparsa di errori.\n",
    "\n",
    "È sempre possibile usare la funzione di `help` su una funzione:"
   ]
  },
  {
   "cell_type": "code",
   "execution_count": 14,
   "metadata": {},
   "outputs": [
    {
     "name": "stdout",
     "output_type": "stream",
     "text": [
      "Help on built-in function sum in module builtins:\n",
      "\n",
      "sum(iterable, /, start=0)\n",
      "    Return the sum of a 'start' value (default: 0) plus an iterable of numbers\n",
      "    \n",
      "    When the iterable is empty, return the start value.\n",
      "    This function is intended specifically for use with numeric values and may\n",
      "    reject non-numeric types.\n",
      "\n"
     ]
    }
   ],
   "source": [
    "help(sum)"
   ]
  },
  {
   "attachments": {},
   "cell_type": "markdown",
   "metadata": {},
   "source": [
    "In Visual Studio Code è sufficiente posizionare il cursore sul nome della funzione.\n",
    "\n",
    "## Leggere dati da file \n",
    "Di solito la quantità di dati da analizzare è tale che non è pensabile di poterli immettere manualmente in una o più liste come abbiamo fatto sopra. Normalmente i dati sono memorizzati su un file ed è necessario leggerli. La lettura (importazione) dei file è il primo fondamentale passo nel processo più generale di analisi dei dati. \n",
    "\n",
    "\n",
    "Per fare un esempio, consideriamo file `penguins.csv` contenuto nella directory `data`. La cella seguente legge i contenuti del file `penguins.csv` e li inserisce nell'oggetto `df` udando la funzione `read_csv()` del modulo pandas."
   ]
  },
  {
   "cell_type": "code",
   "execution_count": 33,
   "metadata": {},
   "outputs": [],
   "source": [
    "import pandas as pd\n",
    "\n",
    "df = pd.read_csv('data/penguins.csv')"
   ]
  },
  {
   "attachments": {},
   "cell_type": "markdown",
   "metadata": {},
   "source": [
    "Nella cella precedente, la funzione `read_csv()` che apre il file accetta come primo argomento il pathname corrispondente. Possiamo visualizzare le prime cinque righe dell'oggetto `df` usando il metodo `.head()`:"
   ]
  },
  {
   "cell_type": "code",
   "execution_count": 36,
   "metadata": {},
   "outputs": [
    {
     "data": {
      "text/html": [
       "<div>\n",
       "<style scoped>\n",
       "    .dataframe tbody tr th:only-of-type {\n",
       "        vertical-align: middle;\n",
       "    }\n",
       "\n",
       "    .dataframe tbody tr th {\n",
       "        vertical-align: top;\n",
       "    }\n",
       "\n",
       "    .dataframe thead th {\n",
       "        text-align: right;\n",
       "    }\n",
       "</style>\n",
       "<table border=\"1\" class=\"dataframe\">\n",
       "  <thead>\n",
       "    <tr style=\"text-align: right;\">\n",
       "      <th></th>\n",
       "      <th>species</th>\n",
       "      <th>island</th>\n",
       "      <th>bill_length_mm</th>\n",
       "      <th>bill_depth_mm</th>\n",
       "      <th>flipper_length_mm</th>\n",
       "      <th>body_mass_g</th>\n",
       "      <th>sex</th>\n",
       "      <th>year</th>\n",
       "    </tr>\n",
       "  </thead>\n",
       "  <tbody>\n",
       "    <tr>\n",
       "      <th>0</th>\n",
       "      <td>Adelie</td>\n",
       "      <td>Torgersen</td>\n",
       "      <td>39.1</td>\n",
       "      <td>18.7</td>\n",
       "      <td>181.0</td>\n",
       "      <td>3750.0</td>\n",
       "      <td>male</td>\n",
       "      <td>2007</td>\n",
       "    </tr>\n",
       "    <tr>\n",
       "      <th>1</th>\n",
       "      <td>Adelie</td>\n",
       "      <td>Torgersen</td>\n",
       "      <td>39.5</td>\n",
       "      <td>17.4</td>\n",
       "      <td>186.0</td>\n",
       "      <td>3800.0</td>\n",
       "      <td>female</td>\n",
       "      <td>2007</td>\n",
       "    </tr>\n",
       "    <tr>\n",
       "      <th>2</th>\n",
       "      <td>Adelie</td>\n",
       "      <td>Torgersen</td>\n",
       "      <td>40.3</td>\n",
       "      <td>18.0</td>\n",
       "      <td>195.0</td>\n",
       "      <td>3250.0</td>\n",
       "      <td>female</td>\n",
       "      <td>2007</td>\n",
       "    </tr>\n",
       "    <tr>\n",
       "      <th>3</th>\n",
       "      <td>Adelie</td>\n",
       "      <td>Torgersen</td>\n",
       "      <td>NaN</td>\n",
       "      <td>NaN</td>\n",
       "      <td>NaN</td>\n",
       "      <td>NaN</td>\n",
       "      <td>NaN</td>\n",
       "      <td>2007</td>\n",
       "    </tr>\n",
       "    <tr>\n",
       "      <th>4</th>\n",
       "      <td>Adelie</td>\n",
       "      <td>Torgersen</td>\n",
       "      <td>36.7</td>\n",
       "      <td>19.3</td>\n",
       "      <td>193.0</td>\n",
       "      <td>3450.0</td>\n",
       "      <td>female</td>\n",
       "      <td>2007</td>\n",
       "    </tr>\n",
       "  </tbody>\n",
       "</table>\n",
       "</div>"
      ],
      "text/plain": [
       "  species     island  bill_length_mm  bill_depth_mm  flipper_length_mm  \\\n",
       "0  Adelie  Torgersen            39.1           18.7              181.0   \n",
       "1  Adelie  Torgersen            39.5           17.4              186.0   \n",
       "2  Adelie  Torgersen            40.3           18.0              195.0   \n",
       "3  Adelie  Torgersen             NaN            NaN                NaN   \n",
       "4  Adelie  Torgersen            36.7           19.3              193.0   \n",
       "\n",
       "   body_mass_g     sex  year  \n",
       "0       3750.0    male  2007  \n",
       "1       3800.0  female  2007  \n",
       "2       3250.0  female  2007  \n",
       "3          NaN     NaN  2007  \n",
       "4       3450.0  female  2007  "
      ]
     },
     "execution_count": 36,
     "metadata": {},
     "output_type": "execute_result"
    }
   ],
   "source": [
    "df.head()"
   ]
  },
  {
   "attachments": {},
   "cell_type": "markdown",
   "metadata": {},
   "source": [
    "Il modulo pandas verrà discusso nel capitolo {ref}`intro-pandas-notebook`.\n",
    "\n",
    "\n",
    "## Formattazione del codice\n",
    "\n",
    "<br>\n",
    "\n",
    "```{image} images/code_quality_2x.png\n",
    ":align: center\n",
    "```\n",
    "\n",
    "<br>\n",
    "\n",
    "## Watermark"
   ]
  },
  {
   "cell_type": "code",
   "execution_count": null,
   "metadata": {},
   "outputs": [],
   "source": [
    "%load_ext watermark\n",
    "%watermark -n -u -v -iv -w -p pytensor"
   ]
  }
 ],
 "metadata": {
  "kernelspec": {
   "display_name": "pymc",
   "language": "python",
   "name": "python3"
  },
  "language_info": {
   "codemirror_mode": {
    "name": "ipython",
    "version": 3
   },
   "file_extension": ".py",
   "mimetype": "text/x-python",
   "name": "python",
   "nbconvert_exporter": "python",
   "pygments_lexer": "ipython3",
   "version": "3.10.9"
  },
  "latex_envs": {
   "LaTeX_envs_menu_present": false,
   "autoclose": true,
   "autocomplete": true,
   "bibliofile": "biblio.bib",
   "cite_by": "apalike",
   "current_citInitial": 1,
   "eqLabelWithNumbers": true,
   "eqNumInitial": 1,
   "hotkeys": {
    "equation": "Ctrl-E",
    "itemize": "Ctrl-I"
   },
   "labels_anchors": false,
   "latex_user_defs": false,
   "report_style_numbering": true,
   "user_envs_cfg": true
  },
  "toc": {
   "base_numbering": 1,
   "nav_menu": {},
   "number_sections": true,
   "sideBar": false,
   "skip_h1_title": false,
   "title_cell": "Table of Contents",
   "title_sidebar": "Contents",
   "toc_cell": true,
   "toc_position": {},
   "toc_section_display": true,
   "toc_window_display": false
  },
  "vscode": {
   "interpreter": {
    "hash": "cbb367cc0128e23b7454d788d5a4229ca1f9848fd2e857f4797fbd26ab3b0776"
   }
  }
 },
 "nbformat": 4,
 "nbformat_minor": 2
}
