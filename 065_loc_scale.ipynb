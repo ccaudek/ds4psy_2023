{
 "cells": [
  {
   "attachments": {},
   "cell_type": "markdown",
   "id": "6649e8c4",
   "metadata": {},
   "source": [
    "(loc-scale-notebook)=\n",
    "# Indici di posizione e di scala"
   ]
  },
  {
   "attachments": {},
   "cell_type": "markdown",
   "id": "9316b2b9",
   "metadata": {},
   "source": [
    "La visualizzazione grafica dei dati rappresenta il pilastro fondamentale di ogni analisi quantitativa. Grazie alle rappresentazioni grafiche adeguate, è possibile individuare importanti caratteristiche di una distribuzione, quali la simmetria o l'asimmetria, nonché la presenza di una o più mode. Successivamente, al fine di descrivere sinteticamente le principali caratteristiche dei dati, si rende necessario l'utilizzo di specifici indici numerici. In questo capitolo, verranno presentati i principali indicatori della statistica descrittiva.\n",
    "\n",
    "## Indici di tendenza centrale\n",
    "\n",
    "Tra le misure utilizzate per indicare il valore centrale di un insieme di dati, la più diffusa è la media aritmetica. Essa fornisce informazioni riguardo ai valori intorno ai quali i dati del campione sono concentrati."
   ]
  },
  {
   "cell_type": "code",
   "execution_count": 1,
   "id": "6f5d5aa9",
   "metadata": {},
   "outputs": [],
   "source": [
    "import pandas as pd\n",
    "from matplotlib import pyplot as plt\n",
    "import seaborn as sns\n",
    "from scipy import stats\n",
    "import numpy as np\n",
    "import scipy.stats as st\n",
    "import arviz as az\n",
    "from scipy.constants import golden"
   ]
  },
  {
   "cell_type": "code",
   "execution_count": 2,
   "id": "2cd342e8",
   "metadata": {},
   "outputs": [],
   "source": [
    "%matplotlib inline\n",
    "%config InlineBackend.figure_format = 'retina'\n",
    "# Initialize random number generator\n",
    "RANDOM_SEED = 8927\n",
    "rng = np.random.default_rng(RANDOM_SEED)\n",
    "\n",
    "plt.style.use(\"bmh\")\n",
    "plt.rcParams[\"figure.figsize\"] = [10, 6]\n",
    "plt.rcParams[\"figure.dpi\"] = 100\n",
    "plt.rcParams[\"figure.facecolor\"] = \"white\"\n",
    "\n",
    "sns.set_theme(palette=\"colorblind\")\n",
    "\n",
    "%load_ext autoreload\n",
    "%autoreload 2\n",
    "%config InlineBackend.figure_format = \"svg\""
   ]
  },
  {
   "attachments": {},
   "cell_type": "markdown",
   "id": "49535799",
   "metadata": {},
   "source": [
    "Per un’introduzione “soft” alla nozione di tendenza centrale di una\n",
    "distribuzione statistica si segua il\n",
    "[link](https://tinystats.github.io/teacups-giraffes-and-statistics/03_mean.html).\n",
    "\n",
    "### Media\n",
    "\n",
    "La media aritmetica di un insieme di valori ${x_1, x_2, \\dots, x_n}$ è il valore medio ottenuto dalla somma di tutti i valori divisa per il numero totale di valori:\n",
    "\n",
    "$$\n",
    "\\bar{x}=\\frac{1}{n}\\sum_{i=1}^n x_i.\n",
    "$$ (eq-mean)\n",
    "\n",
    "Questa formula è comunemente utilizzata in statistica per calcolare il valore centrale di un insieme di dati. Per esempio, se abbiamo i valori $3, 5, 7, 10$ e vogliamo calcolare la media, possiamo utilizzare la formula sopra riportata:\n",
    "\n",
    "$$\n",
    "\\bar{x}=\\frac{1}{4} (3+5+7+10) = \\frac{25}{4}.\n",
    "$$\n",
    "\n",
    "La media ha una proprietà importante, ovvero la somma degli scarti tra ciascun valore $x_i$ e la media aritmetica $\\bar{x}$ è uguale a zero, cioè:\n",
    "\n",
    "$$\n",
    "\\sum_{i=1}^n (x_i - \\bar{x}) = 0.\\notag\n",
    "$$ (eq-diffmeansumzero)\n",
    "\n",
    "Infatti,\n",
    "\n",
    "$$\n",
    "\\begin{aligned}\n",
    "\\sum_{i=1}^n (x_i - \\bar{x}) &= \\sum_i x_i - \\sum_i \\bar{x}\\notag\\\\\n",
    "&= \\sum_i x_i - n \\bar{x}\\notag\\\\\n",
    "&= \\sum_i x_i - \\sum_i x_i = 0.\\notag\n",
    "\\end{aligned}\n",
    "$$\n",
    "\n",
    "Questa proprietà implica che la media aritmetica rappresenta un valore attorno al quale i dati sono equamente distribuiti in positivo e in negativo rispetto alla media stessa.\n",
    "\n",
    "Un’altra proprietà della media è la seguente: la somma dei quadrati degli scarti tra ciascuna modalità $x_i$ e una costante arbitraria $a$, cioè $\\varphi(a) = \\sum_{i=1}^n (x_i - a)^2$, è minima per $a = \\bar{x}$.\n",
    "\n",
    "La definizione di media aritmetica ha spesso ispirato battute ironiche, come ad esempio la constatazione che in media ogni persona ha meno di due gambe o che ha un solo testicolo. Tuttavia, la media presenta alcune limitazioni: non sempre rappresenta l'indice che meglio descrive la tendenza centrale della distribuzione, soprattutto in presenza di asimmetria o di valori anomali (outlier). In questi casi, è preferibile utilizzare la mediana o la media spuntata (vedi oltre).\n",
    "\n",
    "Se abbiamo un piccolo numero di valori, possiamo calcolare la media in Python come su qualunque calcolatore. Supponiamo che i valori siano 12, 44, 21, 62, 24. La media è"
   ]
  },
  {
   "cell_type": "code",
   "execution_count": 1,
   "id": "94332902",
   "metadata": {},
   "outputs": [
    {
     "data": {
      "text/plain": [
       "32.6"
      ]
     },
     "execution_count": 1,
     "metadata": {},
     "output_type": "execute_result"
    }
   ],
   "source": [
    "(12 + 44 + 21 + 62 + 24) / 5"
   ]
  },
  {
   "attachments": {},
   "cell_type": "markdown",
   "id": "67f7a583",
   "metadata": {},
   "source": [
    "ovvero"
   ]
  },
  {
   "cell_type": "code",
   "execution_count": 6,
   "id": "0d64148c",
   "metadata": {},
   "outputs": [
    {
     "data": {
      "text/plain": [
       "array([12, 44, 21, 62, 24])"
      ]
     },
     "execution_count": 6,
     "metadata": {},
     "output_type": "execute_result"
    }
   ],
   "source": [
    "x = np.array([12, 44, 21, 62, 24])\n",
    "x"
   ]
  },
  {
   "cell_type": "code",
   "execution_count": 7,
   "id": "d48f2995",
   "metadata": {},
   "outputs": [
    {
     "data": {
      "text/plain": [
       "32.6"
      ]
     },
     "execution_count": 7,
     "metadata": {},
     "output_type": "execute_result"
    }
   ],
   "source": [
    "np.mean(x)"
   ]
  },
  {
   "attachments": {},
   "cell_type": "markdown",
   "id": "f5a6b260",
   "metadata": {},
   "source": [
    "Molto spesso però i nostri dati sono contenuti in file e inserire i dati manualmente non è fattibile. Per fare un esempio, poniamoci il problema di calcolare la media dei valori BDI-II separatamente per ciascuno dei due gruppi di soggetti esaminati da {cite:t}`zetsche_2019future`.\n",
    "\n",
    "Iniziamo ad importare i dati, a selezionare le colonne appropriate, a eliminare i duplicati e a rimuovere il dato mancante (come abbiamo fatto in precedenza). Otteniamo così un DataFrame di 66 righe e 3 colonne."
   ]
  },
  {
   "cell_type": "code",
   "execution_count": 9,
   "id": "7abb23c9",
   "metadata": {},
   "outputs": [
    {
     "data": {
      "text/plain": [
       "(66, 3)"
      ]
     },
     "execution_count": 9,
     "metadata": {},
     "output_type": "execute_result"
    }
   ],
   "source": [
    "df = pd.read_csv(\"data/data.mood.csv\", index_col=0)\n",
    "df = df[[\"esm_id\", \"group\", \"bdi\"]]\n",
    "df = df.drop_duplicates(keep=\"first\")\n",
    "df = df[pd.notnull(df[\"bdi\"])]\n",
    "df.shape\n"
   ]
  },
  {
   "attachments": {},
   "cell_type": "markdown",
   "id": "2f0f8a4c",
   "metadata": {},
   "source": [
    "Esaminiamo la numerosità di ciascun gruppo."
   ]
  },
  {
   "cell_type": "code",
   "execution_count": 10,
   "id": "f3b5bf49",
   "metadata": {},
   "outputs": [
    {
     "data": {
      "text/plain": [
       "group\n",
       "ctl    36\n",
       "mdd    30\n",
       "dtype: int64"
      ]
     },
     "execution_count": 10,
     "metadata": {},
     "output_type": "execute_result"
    }
   ],
   "source": [
    "df.groupby(\"group\").size()"
   ]
  },
  {
   "attachments": {},
   "cell_type": "markdown",
   "id": "53f47e41",
   "metadata": {},
   "source": [
    "Creiamo uno stripplot per esaminare i dati grezzi."
   ]
  },
  {
   "cell_type": "code",
   "execution_count": 11,
   "id": "084fdc9a",
   "metadata": {},
   "outputs": [
    {
     "data": {
      "image/png": "[encoded data removed]",
      "text/plain": [
       "<Figure size 500x309.017 with 1 Axes>"
      ]
     },
     "metadata": {},
     "output_type": "display_data"
    }
   ],
   "source": [
    "_ = sns.stripplot(x=\"bdi\", data=df, jitter=0.1, hue=\"group\", alpha=0.9)"
   ]
  },
  {
   "attachments": {},
   "cell_type": "markdown",
   "id": "d5c03af8",
   "metadata": {},
   "source": [
    "Calcoliamo ora le medie dei valori BDI-II nei due gruppi. La funzione `round(2)` semplifica la risposta stampando solo 2 valori decimali."
   ]
  },
  {
   "cell_type": "code",
   "execution_count": 7,
   "id": "ee558672",
   "metadata": {},
   "outputs": [
    {
     "data": {
      "text/plain": [
       "group\n",
       "ctl     1.61\n",
       "mdd    30.93\n",
       "Name: bdi, dtype: float64"
      ]
     },
     "execution_count": 7,
     "metadata": {},
     "output_type": "execute_result"
    }
   ],
   "source": [
    "df.groupby(\"group\")[\"bdi\"].mean().round(2)"
   ]
  },
  {
   "attachments": {},
   "cell_type": "markdown",
   "id": "38d06352",
   "metadata": {},
   "source": [
    "In alternativa, possiamo usare il metodo `.describe()`:"
   ]
  },
  {
   "cell_type": "code",
   "execution_count": 8,
   "id": "dfb5ea96",
   "metadata": {},
   "outputs": [
    {
     "data": {
      "text/html": [
       "<div>\n",
       "<style scoped>\n",
       "    .dataframe tbody tr th:only-of-type {\n",
       "        vertical-align: middle;\n",
       "    }\n",
       "\n",
       "    .dataframe tbody tr th {\n",
       "        vertical-align: top;\n",
       "    }\n",
       "\n",
       "    .dataframe thead th {\n",
       "        text-align: right;\n",
       "    }\n",
       "</style>\n",
       "<table border=\"1\" class=\"dataframe\">\n",
       "  <thead>\n",
       "    <tr style=\"text-align: right;\">\n",
       "      <th></th>\n",
       "      <th>count</th>\n",
       "      <th>mean</th>\n",
       "      <th>std</th>\n",
       "      <th>min</th>\n",
       "      <th>25%</th>\n",
       "      <th>50%</th>\n",
       "      <th>75%</th>\n",
       "      <th>max</th>\n",
       "    </tr>\n",
       "    <tr>\n",
       "      <th>group</th>\n",
       "      <th></th>\n",
       "      <th></th>\n",
       "      <th></th>\n",
       "      <th></th>\n",
       "      <th></th>\n",
       "      <th></th>\n",
       "      <th></th>\n",
       "      <th></th>\n",
       "    </tr>\n",
       "  </thead>\n",
       "  <tbody>\n",
       "    <tr>\n",
       "      <th>ctl</th>\n",
       "      <td>36.0</td>\n",
       "      <td>1.6</td>\n",
       "      <td>2.7</td>\n",
       "      <td>0.0</td>\n",
       "      <td>0.0</td>\n",
       "      <td>1.0</td>\n",
       "      <td>2.0</td>\n",
       "      <td>12.0</td>\n",
       "    </tr>\n",
       "    <tr>\n",
       "      <th>mdd</th>\n",
       "      <td>30.0</td>\n",
       "      <td>30.9</td>\n",
       "      <td>6.6</td>\n",
       "      <td>19.0</td>\n",
       "      <td>26.0</td>\n",
       "      <td>30.0</td>\n",
       "      <td>35.0</td>\n",
       "      <td>44.0</td>\n",
       "    </tr>\n",
       "  </tbody>\n",
       "</table>\n",
       "</div>"
      ],
      "text/plain": [
       "       count  mean  std   min   25%   50%   75%   max\n",
       "group                                                \n",
       "ctl     36.0   1.6  2.7   0.0   0.0   1.0   2.0  12.0\n",
       "mdd     30.0  30.9  6.6  19.0  26.0  30.0  35.0  44.0"
      ]
     },
     "execution_count": 8,
     "metadata": {},
     "output_type": "execute_result"
    }
   ],
   "source": [
    "df.groupby(\"group\")[\"bdi\"].describe().round(1)"
   ]
  },
  {
   "attachments": {},
   "cell_type": "markdown",
   "id": "48935ec0",
   "metadata": {},
   "source": [
    "### Media spuntata\n",
    "\n",
    "La *media spuntata* $\\bar{x}_t$ (o *trimmed mean*) è ottenuta calcolando la media dei dati dopo aver eliminato una determinata percentuale di dati estremi. In genere, si elimina il 10% dei dati, ovvero il 5% all'inizio e alla fine della distribuzione. Per ottenere la media spuntata, i dati vengono ordinati in modo crescente, $x_1 \\leq x_2 \\leq x_3 \\leq \\dots \\leq x_n$, e poi viene eliminato il primo 5% e l'ultimo 5% dei dati nella sequenza ordinata. La media spuntata è quindi calcolata come la media aritmetica dei dati rimanenti. La media spuntata è utile quando ci sono valori anomali o quando la distribuzione è asimmetrica e la media aritmetica non è rappresentativa della tendenza centrale dei dati.\n",
    "\n",
    "Per fare un esempio, calcoliamo la media spuntata dei valori BDI-II per i due gruppi di soggetti esaminati da {cite:t}`zetsche_2019future` escludendo il 10% dei valori più estremi. "
   ]
  },
  {
   "cell_type": "code",
   "execution_count": 10,
   "id": "b26b1be9",
   "metadata": {},
   "outputs": [
    {
     "data": {
      "text/plain": [
       "30.625"
      ]
     },
     "execution_count": 10,
     "metadata": {},
     "output_type": "execute_result"
    }
   ],
   "source": [
    "bdi_mdd = df[df[\"group\"] == \"mdd\"].bdi\n",
    "stats.trim_mean(bdi_mdd, 0.10)"
   ]
  },
  {
   "cell_type": "code",
   "execution_count": 11,
   "id": "00eb0085",
   "metadata": {},
   "outputs": [
    {
     "data": {
      "text/plain": [
       "1.0"
      ]
     },
     "execution_count": 11,
     "metadata": {},
     "output_type": "execute_result"
    }
   ],
   "source": [
    "bdi_ctl = df[df[\"group\"] == \"ctl\"].bdi\n",
    "stats.trim_mean(bdi_ctl, 0.10)"
   ]
  },
  {
   "attachments": {},
   "cell_type": "markdown",
   "id": "22800a13",
   "metadata": {},
   "source": [
    "### Moda e mediana\n",
    "\n",
    "In precedenza abbiamo già incontrato altri due popolari indici di\n",
    "tendenza centrale: la *moda* (*Mo*), ovvero il valore centrale della\n",
    "classe con la frequenza massima (può succedere che una distribuzione\n",
    "abbia più mode; in tal caso si dice *multimodale* e questo operatore\n",
    "perde il suo significato di indice di tendenza centrale) e la *mediana*\n",
    "$\\tilde{x}$.\n",
    "\n",
    "Calcoliamo ora i quantili di ordine 0.10 e 0.90 dei valori BDI-II per\n",
    "i due gruppi di {cite:t}`zetsche_2019future`."
   ]
  },
  {
   "cell_type": "code",
   "execution_count": 12,
   "id": "4fd3e5d9",
   "metadata": {},
   "outputs": [
    {
     "data": {
      "text/html": [
       "<div>\n",
       "<style scoped>\n",
       "    .dataframe tbody tr th:only-of-type {\n",
       "        vertical-align: middle;\n",
       "    }\n",
       "\n",
       "    .dataframe tbody tr th {\n",
       "        vertical-align: top;\n",
       "    }\n",
       "\n",
       "    .dataframe thead tr th {\n",
       "        text-align: left;\n",
       "    }\n",
       "\n",
       "    .dataframe thead tr:last-of-type th {\n",
       "        text-align: right;\n",
       "    }\n",
       "</style>\n",
       "<table border=\"1\" class=\"dataframe\">\n",
       "  <thead>\n",
       "    <tr>\n",
       "      <th></th>\n",
       "      <th colspan=\"2\" halign=\"left\">bdi</th>\n",
       "    </tr>\n",
       "    <tr>\n",
       "      <th></th>\n",
       "      <th>q1</th>\n",
       "      <th>q3</th>\n",
       "    </tr>\n",
       "    <tr>\n",
       "      <th>group</th>\n",
       "      <th></th>\n",
       "      <th></th>\n",
       "    </tr>\n",
       "  </thead>\n",
       "  <tbody>\n",
       "    <tr>\n",
       "      <th>ctl</th>\n",
       "      <td>0.0</td>\n",
       "      <td>4.0</td>\n",
       "    </tr>\n",
       "    <tr>\n",
       "      <th>mdd</th>\n",
       "      <td>23.8</td>\n",
       "      <td>41.2</td>\n",
       "    </tr>\n",
       "  </tbody>\n",
       "</table>\n",
       "</div>"
      ],
      "text/plain": [
       "        bdi      \n",
       "         q1    q3\n",
       "group            \n",
       "ctl     0.0   4.0\n",
       "mdd    23.8  41.2"
      ]
     },
     "execution_count": 12,
     "metadata": {},
     "output_type": "execute_result"
    }
   ],
   "source": [
    "# Create functions to calculate 0.10 and 0.90 quantiles\n",
    "def q1(x):\n",
    "    return x.quantile(0.10)\n",
    "\n",
    "\n",
    "def q3(x):\n",
    "    return x.quantile(0.90)\n",
    "\n",
    "\n",
    "# Calculate quantiles by group\n",
    "vals = {\"bdi\": [q1, q3]}\n",
    "df.groupby(\"group\").aggregate(vals)\n"
   ]
  },
  {
   "attachments": {},
   "cell_type": "markdown",
   "id": "eaba2869",
   "metadata": {},
   "source": [
    "Si noti che solitamente i software restituiscono un valore *interpolato*\n",
    "del $p$-esimo quantile $q_p$ $(0 < p < 1)$, il quale viene calcolato\n",
    "mediante specifiche procedure. Il risultato fornito dai software,\n",
    "dunque, non sarà identico a quello trovato utilizzando la definizione\n",
    "non interpolata di quantile che abbiamo presentato in precedenza. Se,\n",
    "per qualche ragione, vogliamo conoscere l’algoritmo usato per la\n",
    "determinazione dei quantili interpolati, dobbiamo leggere la\n",
    "documentazione del software.\n",
    "\n",
    "### Quando usare media, moda, mediana\n",
    "\n",
    "La moda può essere utilizzata per dati a livello nominale o ordinale, ed è l'unica tra le tre statistiche che può essere calcolata in questi casi.\n",
    "La media è una buona misura di tendenza centrale solo se la distribuzione dei dati è simmetrica, ovvero se i valori sono distribuiti uniformemente a sinistra e a destra della media. Tuttavia, se ci sono valori anomali o se la distribuzione è asimmetrica, la media può essere influenzata in modo significativo, e quindi potrebbe non essere la scelta migliore come misura di tendenza centrale.\n",
    "In questi casi, la mediana può fornire una misura migliore di tendenza centrale rispetto alla media, poiché la mediana è meno influenzata dai valori anomali e si basa esclusivamente sul valore centrale dell'insieme di dati. Pertanto, la scelta tra media e mediana dipende dal tipo di distribuzione dei dati e dallo scopo dell'analisi.\n",
    "\n",
    "## Indici di dispersione\n",
    "\n",
    "Le misure di posizione descritte in precedenza come le medie e gli indici di posizione, forniscono una sintesi dei dati che mettono in evidenza la tendenza centrale delle osservazioni. Tuttavia, non tengono conto di un aspetto importante della distribuzione dei dati, ovvero la variabilità dei valori numerici della variabile statistica. Pertanto, è necessario sintetizzare la distribuzione di una variabile statistica anche tramite l'utilizzo di indicatori che valutino la dispersione delle unità statistiche.\n",
    "\n",
    "Per un’introduzione “soft” al tema degli indici di dispersione si segua\n",
    "il\n",
    "[link](https://tinystats.github.io/teacups-giraffes-and-statistics/04_variance.html).\n",
    "\n",
    "### Indici basati sull’ordinamento dei dati\n",
    "\n",
    "Per valutare la variabilità dei dati è possibile utilizzare indici basati sull'ordinamento dei dati. L'indice più ovvio è l'intervallo di variazione, che corrisponde alla differenza tra il valore massimo e il valore minimo di una distribuzione di modalità. Tuttavia, questo indice presenta il limite di essere calcolato sulla base di soli due valori della distribuzione, e non tiene conto di tutte le informazioni disponibili. Inoltre, l'intervallo di variazione può essere pesantemente influenzato dalla presenza di valori anomali. Un altro indice basato sull'ordinamento dei dati è la differenza interquartile, già incontrata in precedenza. Anche se questo indice utilizza più informazioni rispetto all'intervallo di variazione, presenta comunque il limite di essere calcolato sulla base di soli due valori della distribuzione ($x_{0.25}$ e $x_{0.75}$). Per valutare la variabilità in modo più completo, è necessario utilizzare altri indici di variabilità che tengano conto di tutti i dati disponibili.\n",
    "\n",
    "### Varianza\n",
    "\n",
    "Data la limitazione delle statistiche descritte in precedenza, è più comune utilizzare una misura di variabilità che tenga conto della dispersione dei dati intorno ad un indice di tendenza centrale. La varianza è la misura di variabilità più utilizzata per valutare la variabilità di una variabile statistica. Essa è definita come la media dei quadrati degli scarti $x_i - \\bar{x}$ tra ogni valore e la media della distribuzione, come segue:\n",
    "\n",
    "$$\n",
    "\\begin{equation}\n",
    "S^2 = \\frac{1}{n} \\sum_{i=1}^n (x_i - \\bar{x})^2.\n",
    "\\end{equation}\n",
    "$$ (eq-var-descr)\n",
    "\n",
    "La varianza è una misura di dispersione più complessa rispetto a quelle descritte in precedenza. Essa è appropriata solo nel caso di distribuzioni simmetriche e, come le altre misure di dispersione, è fortemente influenzata dai valori anomali. Inoltre, la varianza è espressa in un'unità di misura che è il quadrato dell'unità di misura dei dati originari e, pertanto, non può essere interpretata in modo intuitivo.\n",
    "\n",
    "Calcoliamo la varianza dei valori BDI-II per i dati di {cite:t}`zetsche_2019future`. Applicando l'eq. {eq}`eq-var-descr`, per tutto il campione abbiamo"
   ]
  },
  {
   "cell_type": "code",
   "execution_count": 27,
   "id": "d84b8699",
   "metadata": {},
   "outputs": [
    {
     "data": {
      "text/plain": [
       "236.23875114784224"
      ]
     },
     "execution_count": 27,
     "metadata": {},
     "output_type": "execute_result"
    }
   ],
   "source": [
    "sum((df[\"bdi\"] - np.mean(df[\"bdi\"])) ** 2) / len(df[\"bdi\"])"
   ]
  },
  {
   "attachments": {},
   "cell_type": "markdown",
   "id": "36e3a57a",
   "metadata": {},
   "source": [
    "Più semplicemente, possiamo usare la funzione `np.var()`:"
   ]
  },
  {
   "cell_type": "code",
   "execution_count": 29,
   "id": "16f5f8da",
   "metadata": {},
   "outputs": [
    {
     "data": {
      "text/plain": [
       "236.23875114784207"
      ]
     },
     "execution_count": 29,
     "metadata": {},
     "output_type": "execute_result"
    }
   ],
   "source": [
    "np.var(df[\"bdi\"])"
   ]
  },
  {
   "attachments": {},
   "cell_type": "markdown",
   "id": "67e69cb3",
   "metadata": {},
   "source": [
    "#### Stima della varianza della popolazione\n",
    "\n",
    "Si noti il denominatore della formula della varianza. Nell'eq.{eq}`eq-var-descr`\n",
    "ho usato $n$ (l’ampiezza campionaria, ovvero il numero di osservazioni\n",
    "del campione). In questo modo ottengo la varianza quale *statistica\n",
    "descrittiva* del campione. In alternativa, è possibile usare $n-1$ al\n",
    "denominatore:\n",
    "\n",
    "$$\n",
    "\\begin{equation}\n",
    "s^2 = \\frac{1}{n-1} \\sum_{i=1}^n (x_i - \\bar{x})^2\n",
    "\\end{equation}\n",
    "$$ (eq-var-stimatore)\n",
    "\n",
    "In questo secondo modo si trova la varianza quale *stimatore* della\n",
    "varianza della popolazione. Si può dimostrare che l'eq.{eq}`eq-var-stimatore`\n",
    "fornisce una stima corretta (ovvero, non distorta) della varianza della\n",
    "popolazione da cui abbiamo ottenuto il campione, mentre invece l'eq.{eq}`eq-var-descr` fornisce (in media) una stima troppo piccola della\n",
    "varianza della popolazione. Si presti attenzione alla notazione: $S^2$\n",
    "per la varianza quale statistica descrittiva, $s^2$ per la varianza\n",
    "quale stimatore.\n",
    "\n",
    "Per illustrare questo punto svolgiamo una simulazione. Consideriamo qui la distribuzione dei punteggi del quoziente di intelligenza (QI). I valori del QI seguono una particolare distribuzione chiamata *distribuzione normale* di media 100 e deviazione standard 15. La forma di questa distribuzione è illustrata nella figura seguente."
   ]
  },
  {
   "cell_type": "code",
   "execution_count": 3,
   "id": "ca24a3fd",
   "metadata": {},
   "outputs": [
    {
     "data": {
      "image/png": "[encoded data removed]",
      "text/plain": [
       "<Figure size 500x309.017 with 1 Axes>"
      ]
     },
     "metadata": {},
     "output_type": "display_data"
    }
   ],
   "source": [
    "x = np.arange(100 - 4 * 15, 100 + 4 * 15, 0.001)\n",
    "\n",
    "mu = 100\n",
    "sigma = 15\n",
    "\n",
    "pdf = st.norm.pdf(x, mu, sigma)\n",
    "plt.plot(x, pdf)\n",
    "plt.xlabel(\"x\")\n",
    "plt.ylabel(\"f(x)\")\n",
    "plt.show()\n"
   ]
  },
  {
   "attachments": {},
   "cell_type": "markdown",
   "id": "faef88de",
   "metadata": {},
   "source": [
    "Supponiamo di estrarre un campione casuale di 4 osservazioni dalla popolazione del quoziente di intelligenza -- in altre parole, supponiamo di misurare il quoziente di intelligenza di 4 persone prese a caso dalla popolazione."
   ]
  },
  {
   "cell_type": "code",
   "execution_count": 6,
   "id": "b9375641",
   "metadata": {},
   "outputs": [
    {
     "name": "stdout",
     "output_type": "stream",
     "text": [
      "[ 98.86985039  88.88673022  79.48310947 109.73339203]\n"
     ]
    }
   ],
   "source": [
    "x = rng.normal(loc=100, scale=15, size=4)\n",
    "print(x)"
   ]
  },
  {
   "attachments": {},
   "cell_type": "markdown",
   "id": "a379691f",
   "metadata": {},
   "source": [
    "Calcoliamo la varianza usando $n$ al denominatore. Si noti che la vera varianza del quoziente di intelligenza è $15^2$ = 225."
   ]
  },
  {
   "cell_type": "code",
   "execution_count": 7,
   "id": "ca74a27b",
   "metadata": {},
   "outputs": [
    {
     "data": {
      "text/plain": [
       "126.97599598691752"
      ]
     },
     "execution_count": 7,
     "metadata": {},
     "output_type": "execute_result"
    }
   ],
   "source": [
    "np.var(x)"
   ]
  },
  {
   "attachments": {},
   "cell_type": "markdown",
   "id": "5c5a3294",
   "metadata": {},
   "source": [
    "Consideriamo ora 10 campioni casuali del QI, ciascuno di ampiezza 4."
   ]
  },
  {
   "cell_type": "code",
   "execution_count": 31,
   "id": "a076381c",
   "metadata": {},
   "outputs": [],
   "source": [
    "mu = 100\n",
    "sigma = 15\n",
    "size = 4\n",
    "niter = 10\n",
    "random_samples = []\n",
    "\n",
    "for i in range(niter):\n",
    "    one_sample = rng.normal(loc=mu, scale=sigma, size=size)\n",
    "    random_samples.append(one_sample)"
   ]
  },
  {
   "attachments": {},
   "cell_type": "markdown",
   "id": "107fd4b2",
   "metadata": {},
   "source": [
    "Il primo campione è"
   ]
  },
  {
   "cell_type": "code",
   "execution_count": 15,
   "id": "a800f254",
   "metadata": {},
   "outputs": [
    {
     "data": {
      "text/plain": [
       "array([ 78.64262445, 118.95592687,  86.94007393,  96.11240148])"
      ]
     },
     "execution_count": 15,
     "metadata": {},
     "output_type": "execute_result"
    }
   ],
   "source": [
    "random_samples[0]"
   ]
  },
  {
   "attachments": {},
   "cell_type": "markdown",
   "id": "d5e1d7b9",
   "metadata": {},
   "source": [
    "Il decimo campione è"
   ]
  },
  {
   "cell_type": "code",
   "execution_count": null,
   "id": "82febd4c",
   "metadata": {},
   "outputs": [],
   "source": [
    "random_samples[9]"
   ]
  },
  {
   "attachments": {},
   "cell_type": "markdown",
   "id": "bc6b8e28",
   "metadata": {},
   "source": [
    "Stampiamo i valori di tutti i 10 campioni."
   ]
  },
  {
   "cell_type": "code",
   "execution_count": 16,
   "id": "642d8f4c",
   "metadata": {},
   "outputs": [
    {
     "data": {
      "text/plain": [
       "array([[ 78.64262445, 118.95592687,  86.94007393,  96.11240148],\n",
       "       [ 98.86985039,  88.88673022,  79.48310947, 109.73339203],\n",
       "       [105.4158717 ,  70.70705405, 135.21114482, 114.52745359],\n",
       "       [ 88.60919229, 113.53297411,  92.9957024 ,  99.08965722],\n",
       "       [111.83266517,  81.149978  , 108.63786272, 120.98468492],\n",
       "       [119.83447091,  95.50452227, 113.54379012,  75.67625899],\n",
       "       [ 97.62716109, 106.74225898,  79.84598391,  98.77468614],\n",
       "       [125.87109898, 139.2723914 , 111.66042016, 112.42949793],\n",
       "       [ 85.6151753 ,  81.8591757 ,  78.8156198 , 108.12320245],\n",
       "       [111.27909093,  90.11859521,  81.56987522, 103.86336653]])"
      ]
     },
     "execution_count": 16,
     "metadata": {},
     "output_type": "execute_result"
    }
   ],
   "source": [
    "rs = np.array(random_samples)\n",
    "rs"
   ]
  },
  {
   "attachments": {},
   "cell_type": "markdown",
   "id": "f7c06045",
   "metadata": {},
   "source": [
    "Per ciascun campione (ovvero, per ciascuna riga della matrice\n",
    "precedente), calcoliamo la varianza usando la formula con $n$ al denominatore.\n",
    "Otteniamo così 10 stime della varianza della popolazione del QI."
   ]
  },
  {
   "cell_type": "code",
   "execution_count": 17,
   "id": "5cf6390c",
   "metadata": {},
   "outputs": [
    {
     "name": "stdout",
     "output_type": "stream",
     "text": [
      "[226.88601335 126.97599599 542.76884186  88.61260836 220.63907623\n",
      " 295.87449185  96.60998017 127.86050222 132.80934429 134.02475959]\n"
     ]
    }
   ],
   "source": [
    "x_var = np.var(rs, axis=1)  # applichiamo la funzione su ciascuna riga\n",
    "print(x_var)"
   ]
  },
  {
   "attachments": {},
   "cell_type": "markdown",
   "id": "d31c42c1",
   "metadata": {},
   "source": [
    "Notiamo due cose: \n",
    "\n",
    "- le stime sono molto diverse tra loro; questo fenomeno è noto con il nome di *variabilità campionaria*;\n",
    "- in media le stime sembrano troppo piccole.\n",
    "\n",
    "Per aumentare la sicurezza riguardo al secondo punto menzionato in precedenza, ripeteremo la simulazione utilizzando un numero di iterazioni maggiore."
   ]
  },
  {
   "cell_type": "code",
   "execution_count": 33,
   "id": "e63c1187",
   "metadata": {},
   "outputs": [],
   "source": [
    "mu = 100\n",
    "sigma = 15\n",
    "size = 4\n",
    "niter = 10000\n",
    "random_samples = []\n",
    "\n",
    "for i in range(niter):\n",
    "    one_sample = rng.normal(loc=mu, scale=sigma, size=size)\n",
    "    random_samples.append(one_sample)\n",
    "\n",
    "rs = np.array(random_samples)\n",
    "x_var = np.var(rs, axis=1)"
   ]
  },
  {
   "attachments": {},
   "cell_type": "markdown",
   "id": "4584fb15",
   "metadata": {},
   "source": [
    "Esaminiamo la distribuzione dei valori ottenuti."
   ]
  },
  {
   "cell_type": "code",
   "execution_count": 34,
   "id": "3e3059a8",
   "metadata": {},
   "outputs": [
    {
     "data": {
      "image/png": "[encoded data removed]",
      "text/plain": [
       "<Figure size 500x309.017 with 1 Axes>"
      ]
     },
     "metadata": {},
     "output_type": "display_data"
    }
   ],
   "source": [
    "_ = sns.histplot(x_var)"
   ]
  },
  {
   "attachments": {},
   "cell_type": "markdown",
   "id": "d49804a4",
   "metadata": {},
   "source": [
    "La stima più verosimile della varianza del QI è dato dalla media di\n",
    "questa distribuzione."
   ]
  },
  {
   "cell_type": "code",
   "execution_count": 35,
   "id": "c871ead1",
   "metadata": {},
   "outputs": [
    {
     "data": {
      "text/plain": [
       "168.30207939405307"
      ]
     },
     "execution_count": 35,
     "metadata": {},
     "output_type": "execute_result"
    }
   ],
   "source": [
    "np.mean(x_var)"
   ]
  },
  {
   "attachments": {},
   "cell_type": "markdown",
   "id": "cfa0fef7",
   "metadata": {},
   "source": [
    "Si noti che il nostro spospetto è stato confermato: il valore medio della stima della varianza ottenuta con l'eq.{eq}`eq-var-descr` è troppo piccolo rispetto al valore corretto di $15^2 = 225$. \n",
    "\n",
    "Ripetiamo ora la simulazione usando la formula della varianza con $n-1$ al denominatore."
   ]
  },
  {
   "cell_type": "code",
   "execution_count": 50,
   "id": "68e19e67",
   "metadata": {},
   "outputs": [
    {
     "data": {
      "text/plain": [
       "222.76145265731117"
      ]
     },
     "execution_count": 50,
     "metadata": {},
     "output_type": "execute_result"
    }
   ],
   "source": [
    "mu = 100\n",
    "sigma = 15\n",
    "size = 4\n",
    "niter = 10000\n",
    "random_samples = []\n",
    "\n",
    "for i in range(niter):\n",
    "    one_sample = rng.normal(loc=mu, scale=sigma, size=size)\n",
    "    random_samples.append(one_sample)\n",
    "\n",
    "rs = np.array(random_samples)\n",
    "x_var = np.var(rs, ddof=1, axis=1)\n",
    "\n",
    "np.mean(x_var)"
   ]
  },
  {
   "attachments": {},
   "cell_type": "markdown",
   "id": "919df257",
   "metadata": {},
   "source": [
    "Nel secondo caso, se si utilizza $n-1$ come denominatore per calcolare la stima della varianza, il valore atteso di questa stima è molto vicino al valore corretto di 225. Se il numero di campioni fosse stato infinito, i due valori sarebbero stati identici.\n",
    "\n",
    "In conclusione, le due formule della varianza hanno scopi diversi. La formula della varianza con $n$ al denominatore viene utilizzata come statistica descrittiva per descrivere la variabilità di un particolare campione di osservazioni. Al contrario, la formula della varianza con $n-1$ al denominatore viene utilizzata come stimatore per ottenere la migliore stima della varianza della popolazione da cui quel campione è stato estratto.\n",
    "\n",
    "### Precisione\n",
    "\n",
    "La *precisione* è definita come l'inverso della varianza:\n",
    "\n",
    "$$\n",
    "\\tau = \\frac{1}{\\sigma^2}.\n",
    "$$ (eq-precision)\n",
    "\n",
    "Gli esperti ritengono che la precisione sia una misura più \"intuitiva\" della varianza, in quanto indica quanto i valori sono concentrati attorno alla media, piuttosto che quanto sono dispersi. In altre parole, la precisione è un'indicazione di quanto le misurazioni siano accurate. Se i valori sono molto dispersi attorno alla media (alta varianza), la precisione è bassa (poca accuratezza); se invece la varianza è bassa, la precisione è alta.\n",
    "\n",
    "La precisione è uno dei due parametri naturali della distribuzione normale, insieme alla media. Nei termini dell'eq. {eq}`eq-precision`, la distribuzione normale\n",
    "(si veda il Capitolo {ref}`cont-rv-distr-notebook`) può essere espressa nel modo seguente\n",
    "\n",
    "$$\n",
    "{\\displaystyle f(y)=\\sqrt{\\frac{\\tau}{2\\pi}} e^{-{\\frac {1}{2}}\\tau\\left({y-\\mu }\\right)^{2}}},\n",
    "$$\n",
    "\n",
    "anziché come\n",
    "\n",
    "$$\n",
    "{\\displaystyle f(y)={\\frac {1}{\\sigma {\\sqrt {2\\pi }}}}e^{-{\\frac {1}{2}}\\left({\\frac {y-\\mu }{\\sigma }}\\right)^{2}}}.\n",
    "$$\n",
    "\n",
    "### Deviazione standard\n",
    "\n",
    "Per interpretare la varianza in modo più intuitivo, si può calcolare la deviazione standard (o scarto quadratico medio o scarto tipo) prendendo la radice quadrata della varianza. La deviazione standard è espressa nell'unità di misura originaria dei dati, a differenza della varianza che è espressa nel quadrato dell'unità di misura dei dati. La deviazione standard fornisce una misura della dispersione dei dati attorno alla media, rendendo più facile la comprensione della variabilità dei dati. La *deviazione standard* (o *scarto quadratico medio*, o *scarto tipo*)[1] è definita come:\n",
    "\n",
    "$$\n",
    "s^2 = \\sqrt{(n-1)^{-1} \\sum_{i=1}^n (x_i - \\bar{x})^2}\n",
    "$$ (eq-sd-stimatore)\n",
    "\n",
    "Quando tutte le osservazioni sono uguali, $s = 0$, altrimenti $s > 0$.\n",
    "\n",
    "```{admonition} Nota\n",
    "Il termine *standard deviation* è stato introdotto in statistica da Pearson nel 1894 assieme alla lettera greca $\\sigma$ che lo rappresenta. Il termine italiano \"deviazione standard\" ne è la traduzione più utilizzata nel linguaggio comune; il termine dell’[Ente Nazionale Italiano di Unificazione](https://it.wikipedia.org/wiki/Ente_nazionale_italiano_di_unificazione)\n",
    "è tuttavia “scarto tipo”, definito come la radice quadrata positiva della varianza.\n",
    "```\n",
    "\n",
    "La deviazione standard $s$ dovrebbe essere utilizzata solo quando la media è una misura appropriata per descrivere il centro della distribuzione, ad esempio nel caso di distribuzioni simmetriche. Come la media $\\bar{x}$, infatti, anche la deviazione standard è fortemente influenzata dalla presenza di dati anomali, ovvero pochi valori che si discostano notevolmente dalla media rispetto agli altri dati della distribuzione.\n",
    "\n",
    "Per fare un esempio, calcoliamo la deviazione standard per i valori BDI-II del campione di\n",
    "{cite:t}`zetsche_2019future`.\n",
    "\n",
    "Applicando l'eq. {eq}`eq-sd-stimatore`, per tutto il campione abbiamo"
   ]
  },
  {
   "cell_type": "code",
   "execution_count": 51,
   "id": "39892d7a",
   "metadata": {},
   "outputs": [
    {
     "data": {
      "text/plain": [
       "15.370060219395436"
      ]
     },
     "execution_count": 51,
     "metadata": {},
     "output_type": "execute_result"
    }
   ],
   "source": [
    "np.std(df.bdi)"
   ]
  },
  {
   "attachments": {},
   "cell_type": "markdown",
   "id": "b90a6b95",
   "metadata": {},
   "source": [
    "Per ciascun gruppo, abbiamo:"
   ]
  },
  {
   "cell_type": "code",
   "execution_count": 52,
   "id": "a8824979",
   "metadata": {},
   "outputs": [
    {
     "data": {
      "text/plain": [
       "group\n",
       "ctl    2.707427\n",
       "mdd    6.606858\n",
       "Name: bdi, dtype: float64"
      ]
     },
     "execution_count": 52,
     "metadata": {},
     "output_type": "execute_result"
    }
   ],
   "source": [
    "df.groupby(\"group\")[\"bdi\"].std()"
   ]
  },
  {
   "attachments": {},
   "cell_type": "markdown",
   "id": "2be26e5d",
   "metadata": {},
   "source": [
    "#### Interpretazione\n",
    "\n",
    "La deviazione standard può essere interpretata in modo semplice: essa è simile allo scarto semplice medio campionario, cioè alla media aritmetica dei valori assoluti degli scarti dalla media, anche se non identica. La deviazione standard ci fornisce quindi un'indicazione di quanto le singole osservazioni si discostino, in media, dal centro della distribuzione. Una spiegazione più accurata del significato della deviazione standard sarà fornita nel paragrafo successivo.\n",
    "\n",
    "Si verifichi l’interpretazione della deviazione standard fornita sopra\n",
    "usando i valori BDI-II del campione di {cite:t}`zetsche_2019future`.\n",
    "\n",
    "Per questi dati la deviazione standard è"
   ]
  },
  {
   "cell_type": "code",
   "execution_count": 53,
   "id": "ba8c9505",
   "metadata": {},
   "outputs": [
    {
     "data": {
      "text/plain": [
       "15.370060219395436"
      ]
     },
     "execution_count": 53,
     "metadata": {},
     "output_type": "execute_result"
    }
   ],
   "source": [
    "np.std(df.bdi)"
   ]
  },
  {
   "attachments": {},
   "cell_type": "markdown",
   "id": "0ed80166",
   "metadata": {},
   "source": [
    "Lo scarto semplice medio campionario è"
   ]
  },
  {
   "attachments": {},
   "cell_type": "markdown",
   "id": "913bf080",
   "metadata": {},
   "source": [
    "### Deviazione mediana assoluta\n",
    "\n",
    "Una misura robusta della dispersione statistica di un campione è la\n",
    "*deviazione mediana assoluta* (*Median Absolute Deviation*, MAD)\n",
    "definita come la mediana del valore assoluto delle deviazioni dei dati\n",
    "dalla mediana, ovvero:\n",
    "\n",
    "$$\n",
    "{\\displaystyle \\operatorname {MAD} =\\operatorname {median} \\left(\\ \\left|X_{i}-\\operatorname {median} (X)\\right|\\ \\right)}\n",
    "$$ (eq-mad-def)\n",
    "\n",
    "Nel caso di una distribuzione dei dati unimodale simmetrica di forma\n",
    "campanulare (ovvero, normale) si ha che\n",
    "\n",
    "$$\n",
    "{\\displaystyle \\text{deviazione standard} \\approx 1.4826\\ \\operatorname {MAD} .\\,}\n",
    "$$\n",
    "\n",
    "Pertanto, solitamente i software restituiscono il valore MAD\n",
    "moltiplicato per una tale costante.\n",
    "\n",
    "I dati di {cite:t}`zetsche_2019future` seguono una distribuzione bimodale, per cui\n",
    "il vincolo precedente non si applica. Verifichiamo dunque il principio\n",
    "precedente usando un campione di dati estratto da una popolazione\n",
    "normale. Usiamo, ad esempio, la distribuzione $\\mathcal{N}(100, 15)$:"
   ]
  },
  {
   "cell_type": "code",
   "execution_count": 54,
   "id": "da48339f",
   "metadata": {},
   "outputs": [
    {
     "data": {
      "text/plain": [
       "14.539944903581269"
      ]
     },
     "execution_count": 54,
     "metadata": {},
     "output_type": "execute_result"
    }
   ],
   "source": [
    "np.mean(np.abs(df.bdi - np.mean(df.bdi)))"
   ]
  },
  {
   "cell_type": "code",
   "execution_count": 56,
   "id": "3fe5bc55",
   "metadata": {},
   "outputs": [
    {
     "data": {
      "text/plain": [
       "14.944719064806087"
      ]
     },
     "execution_count": 56,
     "metadata": {},
     "output_type": "execute_result"
    }
   ],
   "source": [
    "x = np.random.normal(loc=100, scale=15, size=10000)\n",
    "1.4826 * np.median(np.abs(x - np.median(x)))"
   ]
  },
  {
   "attachments": {},
   "cell_type": "markdown",
   "id": "03afb420-7657-4a26-be29-8d760c24719a",
   "metadata": {},
   "source": [
    "### Quando usare la deviazione standard e MAD\n",
    "\n",
    "La deviazione standard e la MAD sono entrambe misure di dispersione che indicano quanto i dati in un insieme si discostano dalla tendenza centrale. Tuttavia, ci sono alcune differenze tra le due misure e situazioni in cui può essere più appropriato utilizzare una rispetto all'altra.\n",
    "\n",
    "- Deviazione standard: la deviazione standard è particolarmente utile per descrivere la dispersione dei dati in una distribuzione normale. In generale, la deviazione standard è una buona scelta se si vuole sapere quanto i dati sono distribuiti intorno alla media, o se si vuole confrontare la dispersione di due o più set di dati.\n",
    "- Deviazione mediana assoluta (MAD): la MAD è meno sensibile ai valori anomali rispetto alla deviazione standard, il che la rende una scelta migliore quando ci sono valori anomali nell'insieme di dati. Inoltre, la MAD può essere una buona scelta quando si utilizzano dati non normalmente distribuiti.\n",
    "\n",
    "In sintesi, se si lavora con dati normalmente distribuiti, la deviazione standard è la misura di dispersione più appropriata. Se si lavora con dati non normalmente distribuiti o si hanno valori anomali nell'insieme di dati, la MAD può essere una scelta migliore. In ogni caso, la scelta tra le due misure dipende dal tipo di dati che si sta analizzando e dall'obiettivo dell'analisi.\n",
    "\n",
    "### Indici di variabilità relativi\n",
    "\n",
    "A volte può essere interessante effettuare un confronto fra due misure\n",
    "di variabilità di grandezze incommensurabili, ovvero di caratteri\n",
    "rilevati mediante differenti unità di misura. In questi casi, le misure\n",
    "di variabilità precedentemente descritte si rivelano inadeguate in\n",
    "quanto dipendono dall’unità di misura adottata. Diventa dunque\n",
    "necessario ricorrere a particolari numeri adimensionali detti *indici\n",
    "relativi di variabilità*. Il più importante di tali indici è il\n",
    "*coefficiente di variazione*, ovvero il numero puro\n",
    "\n",
    "$$\n",
    "C_v = \\frac{\\sigma}{\\bar{x}}\n",
    "$$ (eq-cv-def)\n",
    "\n",
    "ottenuto dal rapporto tra la deviazione standard e la media dei dati.\n",
    "\n",
    "Un altro indice relativo di variabilità è la differenza interquartile\n",
    "rapportata al primo quartile, oppure al terzo quartile, oppure alla\n",
    "mediana, cioè:\n",
    "\n",
    "$$\n",
    "\\frac{x_{0.75} - x_{0.25}}{x_{0.25}}, \\qquad \\frac{x_{0.75} - x_{0.25}}{x_{0.75}}, \\qquad \\frac{x_{0.75} - x_{0.25}}{x_{0.50}}.\n",
    "$$\n",
    "\n",
    "## Commenti e considerazioni finali\n",
    "\n",
    "Le statistiche descrittive consentono di ottenere degli indici sintetici che riassumono i dati, sia per l'intera popolazione che per un campione estratto da essa. Questi indici includono le misure di tendenza centrale, come la media, la mediana e la moda, che indicano la posizione centrale dei dati. Inoltre, ci sono anche gli indici di dispersione, come la deviazione standard e la varianza, che indicano quanto i dati sono distribuiti attorno alla tendenza centrale. È importante notare che la curtosi e l'asimmetria sono indici di dispersione che si applicano solo alle distribuzioni normali e verranno approfonditi in quel contesto.\n",
    "\n",
    "## Watermark"
   ]
  },
  {
   "cell_type": "code",
   "execution_count": null,
   "id": "baa663c8",
   "metadata": {},
   "outputs": [],
   "source": [
    "%load_ext watermark\n",
    "%watermark -n -u -v -iv -w "
   ]
  }
 ],
 "metadata": {
  "kernelspec": {
   "display_name": "Python 3",
   "language": "python",
   "name": "python3"
  },
  "language_info": {
   "codemirror_mode": {
    "name": "ipython",
    "version": 3
   },
   "file_extension": ".py",
   "mimetype": "text/x-python",
   "name": "python",
   "nbconvert_exporter": "python",
   "pygments_lexer": "ipython3",
   "version": "3.11.0"
  },
  "vscode": {
   "interpreter": {
    "hash": "2fb22ef73048ab480306a3a8971dd9d9ae74918bef9be9e93ea3e01644b9825e"
   }
  }
 },
 "nbformat": 4,
 "nbformat_minor": 5
}
