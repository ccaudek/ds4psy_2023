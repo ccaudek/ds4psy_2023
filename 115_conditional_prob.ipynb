{
 "cells": [
  {
   "attachments": {},
   "cell_type": "markdown",
   "metadata": {},
   "source": [
    "(cond_prob_notebook)=\n",
    "# Probabilità condizionata"
   ]
  },
  {
   "attachments": {},
   "cell_type": "markdown",
   "metadata": {},
   "source": [
    "Definiamo i seguenti concetti:\n",
    "\n",
    "- La *probabilità congiunta* è la probabilità del verificarsi simultaneo di due eventi. È importante rendersi conto che, qui, \"simultaneo\" significa che gli eventi fanno parte dello stesso evento, anche se i due eventi si verificano in momenti diversi. Ad esempio, potremmo essere interessati alla probabilità congiunta di estrarre una pallina rossa e una verde.\n",
    "- La *probabilità marginale* è definita come la probabilità di un singolo evento, indipendentemente da tutti gli altri eventi. Ad esempio, possiamo calcolare la probabilità marginale di estrarre una pallina verde da un'urna.\n",
    "- La *probabilità condizionata* è la probabilità di un evento dato il verificarsi di un altro evento. Se, ad esempio, estraiamo una pallina verde da un'urna, possiamo chiederci quanto è grande la probabilità di estrarre una seconda pallina verde dalla stessa urna.\n",
    "\n",
    "In questo capitolo esamineremo la nozione di probabilità condizionata e i principali teoremi ad essa associati.\n",
    "\n",
    "## Il paradosso di Monty Hall\n",
    "\n",
    "Un'ottima intruduzione alla proabilità condizionata, che dovrebbe farci capire come l'acquisizione di nuove informazioni, alle volte, ci porta ad una completa rivalutazione dei termini del problema, \"condizionatamente alle informazioni acquisite\", è fornita da un famoso problema di teoria della probabilità, il paradosso di Monty Hall. Il problema è legato al gioco a premi statunitense *Let's Make a Deal* e prende il nome da quello del conduttore dello show, Monte Halprin, noto con lo pseudonimo di Monty Hall. \n",
    "\n",
    "![Monty Hall](images/monty-hall.jpg)\n",
    "\n",
    "Nel gioco vengono mostrate al concorrente tre porte chiuse; dietro ad una si trova un'automobile, mentre ciascuna delle altre due nasconde una capra. Il giocatore può scegliere una delle tre porte, vincendo il premio corrispondente. Dopo che il giocatore ha selezionato una porta, ma non l'ha ancora aperta, il conduttore dello show – che conosce ciò che si trova dietro ogni porta – apre una delle altre due, rivelando una delle due capre, e offre al giocatore la possibilità di cambiare la propria scelta iniziale, passando all'unica porta restante. Il paradosso deriva dal fatto che cambiare la porta migliora le chance del giocatore di vincere l'automobile, portandole da 1/3 a 2/3. (da Wikipedia) Per convincervi di questo, vi invito a scrivere una simulazione in Python in cui vengono immaginati due scenari (ripetuti migliaia di volte): uno in cui il giocatore rimane con la sua scelta iniziale e uno in cui il giocatore cambia la propria scelta dopo che Monty Hall ha aperto una porta dietro di cui si nascondeva una capra.\n",
    "\n",
    "(sec-bayes-cancer)=\n",
    "## Probabilità condizionata su altri eventi \n",
    "\n",
    "L'attribuzione di una probabilità ad un evento è sempre condizionata dalle conoscenze che abbiamo a disposizione. Per un determinato stato di conoscenze, attribuiamo ad un dato evento una certa probabilità di verificarsi; ma se il nostro stato di conoscenze cambia, allora cambierà anche la probabilità che attribuiremo all'evento in questione. Infatti, si può pensare che tutte le probabilità siano probabilità condizionate, anche se l'evento condizionante non è sempre esplicitamente menzionato. Arriviamo così alla seguente definizione.\n",
    "\n",
    "```{admonition} Definizione\n",
    "Siano $A$ e $B$ due eventi definiti sullo spazio campione $S$. Supponiamo di sapere che l'evento $B$ si è verificato. Si chiama *probabilità condizionata* di $A$ dato $B$ il numero\n",
    "\n",
    "$$\n",
    "P(A \\mid B) = \\frac{P(A \\cap B)}{P(B)}, \\quad \\text{con}\\, P(B) > 0,\n",
    "$$ (eq-probcond)\n",
    "\n",
    "dove $P(A\\cap B)$ è la *probabilità congiunta* dei due eventi, ovvero la probabilità che si verifichino entrambi.\n",
    "```\n",
    "\n",
    "Si noti che $P(A \\mid B)$ non è definita se $P(B) = 0$.\n",
    "\n",
    "\n",
    "\n",
    "Possiamo pensare alla probabilità condizionata come a un cambiamento dello spazio campionario da\n",
    "$S$ a $B$. Per semplici spazi campione abbiamo dunque\n",
    "\n",
    "$$\n",
    "P(A \\mid B) = \\frac{\\mid A \\cap B \\mid}{\\mid B \\mid}.\n",
    "$$\n",
    "\n",
    "Consideriamo un esempio. Sappiamo che la somma del lancio di due dadi ha prodotto un risultato dispari. Qual è la probabilità che la somma sia minore di 8?"
   ]
  },
  {
   "cell_type": "code",
   "execution_count": 4,
   "metadata": {},
   "outputs": [
    {
     "data": {
      "text/plain": [
       "[(1, 2),\n",
       " (1, 4),\n",
       " (1, 6),\n",
       " (2, 1),\n",
       " (2, 3),\n",
       " (2, 5),\n",
       " (3, 2),\n",
       " (3, 4),\n",
       " (3, 6),\n",
       " (4, 1),\n",
       " (4, 3),\n",
       " (4, 5),\n",
       " (5, 2),\n",
       " (5, 4),\n",
       " (5, 6),\n",
       " (6, 1),\n",
       " (6, 3),\n",
       " (6, 5)]"
      ]
     },
     "execution_count": 4,
     "metadata": {},
     "output_type": "execute_result"
    }
   ],
   "source": [
    "r = range(1, 7)\n",
    "sample = [(i, j) for i in r for j in r]\n",
    "sample_odd = [roll for roll in sample if (sum(roll) % 2) != 0]\n",
    "sample_odd"
   ]
  },
  {
   "cell_type": "code",
   "execution_count": 5,
   "metadata": {},
   "outputs": [
    {
     "name": "stdout",
     "output_type": "stream",
     "text": [
      "12 / 18\n"
     ]
    }
   ],
   "source": [
    "event = [roll for roll in sample_odd if sum(roll) < 8]\n",
    "print(f\"{len(event)} / {len(sample_odd)}\")\n"
   ]
  },
  {
   "attachments": {},
   "cell_type": "markdown",
   "metadata": {},
   "source": [
    "Se applichiamo l'eq. {eq}`eq-probcond`, abbiamo: $P(A \\cap B)$ = 12/36, $P(B)$ = 18/36 e \n",
    "\n",
    "$$\n",
    "P(A \\mid B) = \\frac{12}{18}.\n",
    "$$"
   ]
  },
  {
   "attachments": {},
   "cell_type": "markdown",
   "metadata": {},
   "source": [
    "(sec-mammografia)=\n",
    "### Mammografia e cancro al seno\n",
    "\n",
    "Consideriamo un altro esempio. Supponiamo che lo screening per la diagnosi precoce del tumore mammario si avvalga di un test che è accurato al 90%, nel senso che classifica correttamente il 90% delle donne colpite dal cancro e il 90% delle donne che non hanno il cancro al seno. Supponiamo che l'1% delle donne sottoposte allo screening abbia effettivamente il cancro al seno (e d'altra parte, il 99% non lo ha). Ci chiediamo: (1) qual è la probabilità che una donna scelta a caso ottenga una mammografia positiva, e (2) se la mammografia è positiva, qual è la probabilità che vi sia effettivamente un tumore al seno?\n",
    "\n",
    "Per risolvere questo problema, supponiamo che il test in questione venga somministrato ad un grande campione di donne, diciamo a 1000 donne. Di queste 1000 donne, 10 (ovvero, l'1%) hanno il cancro al seno. Per queste 10 donne, il test darà un risultato positivo in 9 casi (ovvero, nel 90% dei casi). Per le rimanenti 990 donne che non hanno il cancro al seno, il test darà un risultato positivo in 99 casi (se la probabilità di un vero positivo è del 90%, la probabilità di un falso positivo è del 10%). Questa situazione è rappresentata nella figura seguente.  \n",
    "\n",
    "```{image} images/mammografia.png\n",
    ":height: 165px\n",
    ":name: mammografia\n",
    "``` \n",
    "\n",
    "Combinando i due risultati precedenti, vediamo che il test dà un risultato positivo per 9 donne che hanno effettivamente il cancro al seno e per 99 donne che non ce l'hanno, per un totale di 108 risultati positivi. Dunque, la probabilità di ottenere un risultato positivo al test è $\\frac{108}{1000}$ = 11%. Ma delle 108 donne che hanno ottenuto un risultato positivo al test, solo 9 hanno il cancro al seno. Dunque, la probabilità di essere una donna che ha veramente il cancro al seno, dato un risultato positivo al test (che ha le proprietà descritte sopra), è pari a $\\frac{9}{108}$ = 8%.\n",
    "\n",
    "In questo esercizio, la probabilità dell'evento \"ottenere un risultato positivo al test\" è una probabilità non condizionata, mentre la probabilità dell'evento \"avere il cancro al seno, dato che il test ha prodotto un risultato positivo\" è una probabilità condizionata.\n",
    "\n",
    "\n",
    "## Teorema della probabilità composta\n",
    "\n",
    "È possibile scrivere l'eq. {eq}`eq-probcond` nella forma:\n",
    "\n",
    "$$\n",
    "P(A \\cap B) = P(B)P(A \\mid B) = P(A)P(B \\mid A).\n",
    "$$ (eq-probcondinv)\n",
    "\n",
    "Questo secondo modo di scrivere l'eq. {eq}`eq-probcond` è chiamato *teorema della probabilità composta* (o regola moltiplicativa, o regola della catena). La legge della probabilità composta ci dice che la probabilità che si verifichino due eventi $A$ e $B$ è pari alla probabilità di uno dei due eventi moltiplicato con la probabilità dell'altro evento condizionato al verificarsi del primo. \n",
    "\n",
    "L'eq. {eq}`eq-probcondinv` si estende al caso di $n$ eventi $A_1, \\dots, A_n$ nella forma seguente:\n",
    "\n",
    "$$\n",
    "P\\left( \\bigcap_{k=1}^n A_k \\right) = \\prod_{k=1}^n P\\left(  A_k  \\ \\Biggl\\lvert \\ \\bigcap_{j=1}^{k-1} A_j \\right)\n",
    "$$ (eq-probcomposte)\n",
    "\n",
    "Per esempio, nel caso di quattro eventi abbiamo\n",
    "\n",
    "$$\n",
    "\\begin{split}\n",
    "P(A_1 \\cap A_2 \\cap A_3 \\cap A_4) = {}& P(A_1) \\cdot P(A_2 \\mid A_1) \\cdot  P(A_3 \\mid A_1 \\cap A_2) \\cdot \\\\\n",
    " & P(A_4 \\mid A_1 \\cap A_2 \\cap A_{3}).\\notag\n",
    "\\end{split}\n",
    "$$\n",
    "\n",
    "Per fare un esempio, consideriamo il problema seguente. Da un'urna contenente 6 palline bianche e 4 nere si estrae una pallina per volta, senza reintrodurla nell'urna. Indichiamo con $B_i$ l'evento: \"esce una pallina bianca alla $i$-esima estrazione\" e con $N_i$ l'estrazione di una pallina nera. L'evento: \"escono due palline bianche nelle prime due estrazioni\" è rappresentato dalla intersezione $\\{B_1 \\cap B_2\\}$ e, per l'eq. {eq}`eq-probcondinv`, la sua probabilità vale\n",
    "\n",
    "$$\n",
    "P(B_1 \\cap B_2) = P(B_1)P(B_2 \\mid B_1).\n",
    "$$\n",
    "\n",
    "$P(B_1)$ vale 6/10, perché nella prima estrazione $\\Omega$ è costituito da 10 elementi: 6 palline bianche e 4 nere. La probabilità condizionata $P(B_2 \\mid B_1)$ vale 5/9, perché nella seconda estrazione, se è verificato l'evento $B_1$, lo spazio campionario consiste di 5 palline bianche e 4 nere. Si ricava pertanto:\n",
    "\n",
    "$$\n",
    "P(B_1 \\cap B_2) = \\frac{6}{10} \\cdot \\frac{5}{9} = \\frac{1}{3}.\n",
    "$$\n",
    "\n",
    "In modo analogo si ha che\n",
    "\n",
    "$$\n",
    "P(N_1 \\cap N_2) = P(N_1)P(N_2 \\mid N_1) = \\frac{4}{10} \\cdot \\frac{3}{9} = \\frac{4}{30}.\n",
    "$$\n",
    "\n",
    "Se l'esperimento consiste nell'estrazione successiva di 3 palline, la probabilità che queste siano tutte bianche, per l'eq. {eq}`eq-probcomposte`, vale\n",
    "\n",
    "$$\n",
    "P(B_1 \\cap B_2 \\cap B_3)=P(B_1)P(B_2 \\mid B_1)P(B_3 \\mid B_1 \\cap B_2),\n",
    "$$\n",
    "\n",
    "dove la probabilità $P(B_3 \\mid B_1 \\cap B_2)$ si calcola supponendo che si sia verificato l'evento condizionante $\\{B_1 \\cap B_2\\}$. Lo spazio campionario per questa probabilità condizionata è costituito da 4 palline bianche e 4 nere, per cui $P(B_3 \\mid B_1 \\cap B_2) = 1/2$ e quindi:\n",
    "\n",
    "$$\n",
    "P (B_1 \\cap B_2 \\cap B_3) = \\frac{6}{10}\\cdot\\frac{5}{9} \\cdot\\frac{4}{8}  = \\frac{1}{6}.\n",
    "$$\n",
    "\n",
    "La probabilità dell'estrazione di tre palline nere è invece:\n",
    "\n",
    "$$\n",
    "\\begin{aligned}\n",
    "P(N_1 \\cap N_2 \\cap N_3) &= P(N_1)P(N_2 \\mid N_1)P(N_3 \\mid N_1 \\cap N_2)\\notag\\\\ \n",
    "&= \\frac{4}{10} \\cdot \\frac{3}{9} \\cdot \\frac{2}{8} = \\frac{1}{30}.\\notag\n",
    "\\end{aligned}\n",
    "$$\n",
    "\n",
    "\n",
    "## Il teorema della probabilità totale\n",
    "Il *teorema della probabilità totale* (detto anche teorema delle partizioni) consente di calcolare la probabilità di un evento $E$ di cui sono note le probabilità condizionate rispetto ad altri eventi $(H_i)_{i\\geq 1}$, a condizione che essi costituiscano una partizione dell'evento certo $\\Omega$.\n",
    "\n",
    "Il caso più semplice è quello di una partizione dello spazio campione in due sottoinsiemi:\n",
    "\n",
    "$$\n",
    "P(E) = P(E \\cap H_1) + P(E \\cap H_2).\n",
    "$$\n",
    "\n",
    "```{image} images/bayes_theorem.png\n",
    ":height: 250px\n",
    ":name: image-bayes-theorem\n",
    "```\n",
    "\n",
    "In tali circostanza abbiamo che\n",
    "\n",
    "$$\n",
    "P(E) = P(E \\mid H_1) P(H_1) + P(E \\mid H_2) P(H_2).\n",
    "$$ \n",
    "\n",
    "Nella sua forma generale, il risultato che abbiamo ottenuto può essere espresso nel modo seguente.\n",
    "\n",
    "```{admonition} Teorema\n",
    "Sia\n",
    "\n",
    "1.  $\\bigcup_{i=1}^\\infty H_i = \\Omega$;\n",
    "2.  $H_j \\cap H_j = \\emptyset, i\\neq j$;\n",
    "3.  $P(H_i) > 0, i = 1, \\dots, \\infty$.\n",
    "\n",
    "Per qualunque evento $E$ definito in $\\Omega$, abbiamo che \n",
    "\n",
    "$$\n",
    "P(E) = \\sum_i P(E \\mid H_i) P(H_i).\n",
    "$$ (eq-prob-tot)\n",
    "```\n",
    "\n",
    "L'eq. {eq}`eq-prob-tot` è utile per calcolare $P(E)$, se $P(E \\mid H_i)$ e $P(H_i)$ sono facili da trovare. Quale esempio, consideriamo il seguente problema. Abbiamo tre urne, ciascuna delle quali contiene 100 palline:\n",
    "\n",
    "-   Urna 1: 75 palline rosse e 25 palline blu,\n",
    "-   Urna 2: 60 palline rosse e 40 palline blu,\n",
    "-   Urna 3: 45 palline rosse e 55 palline blu.\n",
    "\n",
    "Una pallina viene estratta a caso da un'urna anch'essa scelta a caso. Qual è la probabilità che la pallina estratta sia di colore rosso?\n",
    "\n",
    "Sia $R$ l'evento \"la pallina estratta è rossa\" e sia $U_i$ l'evento che corrisponde alla scelta dell'$i$-esima urna. Sappiamo che\n",
    "\n",
    "$$\n",
    "P(R \\mid U_1) = 0.75, \\quad P(R \\mid U_2) = 0.60, \\quad P(R \\mid U_3) = 0.45.\n",
    "$$\n",
    "\n",
    "Gli eventi $U_1$, $U_2$ e $U_3$ costituiscono una partizione dello spazio campione in quanto $U_1$, $U_2$ e $U_3$ sono eventi mutualmente esclusivi ed esaustivi, ovvero $P(U_1 \\cup U_2 \\cup U_3) = 1.0$. In base al teorema della probabilità totale, la probabilità di estrarre una pallina rossa è dunque\n",
    "\n",
    "$$\n",
    "\\begin{split}\n",
    "P(R) &= P(R \\mid U_1)P(U_1) + P(R \\mid U_2)P(U_2) + P(R \\mid U_3)P(U_3) \\\\\n",
    "&= 0.75 \\cdot \\frac{1}{3}+0.60 \\cdot \\frac{1}{3}+0.45 \\cdot \\frac{1}{3} \\\\\n",
    "&=0.60.\n",
    "\\end{split}\n",
    "$$\n",
    "\n",
    "## L'indipendendenza stocastica\n",
    "\n",
    "Un concetto molto importante per le applicazioni statistiche della probabilità è quello dell'indipendenza stocastica. L'eq. {eq}`eq-probcond` consente di esprimere il concetto di indipendenza di un evento da un altro in forma intuitiva: se $A$ e $B$ sono eventi indipendenti, allora il verificarsi di $A$ non influisce sulla probabilità del verificarsi di $B$, ovvero non la condiziona, e il verificarsi di $B$ non influisce sulla probabilità del verificarsi di $A$. Infatti, per l'eq. {eq}`eq-probcond`, si ha che, se $A$ e $B$ sono due eventi indipendenti, risulta:\n",
    "\n",
    "$$\n",
    "P(A \\mid B) = \\frac{P(A)P(B)}{P(B)} = P(A),\n",
    "$$\n",
    "\n",
    "$$\n",
    "P(B \\mid A) = \\frac{P(A)P(B)}{P(A)} = P(B).\n",
    "$$\n",
    "\n",
    "Possiamo dunque dire che due eventi $A$ e $B$ sono indipendenti se\n",
    "\n",
    "$$\n",
    "\\begin{split}\n",
    "P(A \\mid B) &= P(A), \\\\\n",
    "P(B \\mid A) &= P(B).\n",
    "\\end{split}\n",
    "$$\n",
    "\n",
    "Tre eventi, $A$, $B$ e $C$ sono indipendenti se venongno soddisfatte le seguenti condizioni:\n",
    "\n",
    "$$\n",
    "\\begin{align}\n",
    "P(A \\cap B) &= P(A) P(B) \\notag\\\\\n",
    "P(A \\cap C) &= P(A) P(C) \\notag\\\\\n",
    "P(B \\cap C) &= P(B) P(C) \\notag\\\\\n",
    "P(A \\cap B \\cap C) &= P(A) P(B) P(C). \\notag\n",
    "\\end{align}\n",
    "$$\n",
    "\n",
    "Se solo le prime tre condizioni vengono soddisfatte, allora gli eventi si dicono indipendenti a due a due.\n",
    "\n",
    "Consideriamo il seguente problema. Nel lancio di due dadi non truccati, si considerino gli eventi: $A$ = \"esce un 1 o un 2 nel primo lancio\" e $B$ = \"il punteggio totale è 8\". Gli eventi $A$ e $B$ sono indipendenti?"
   ]
  },
  {
   "attachments": {},
   "cell_type": "markdown",
   "metadata": {},
   "source": [
    "Calcoliamo $P(A)$:"
   ]
  },
  {
   "cell_type": "code",
   "execution_count": 6,
   "metadata": {},
   "outputs": [
    {
     "name": "stdout",
     "output_type": "stream",
     "text": [
      "12 / 36\n"
     ]
    }
   ],
   "source": [
    "r = range(1, 7)\n",
    "sample = [(i, j) for i in r for j in r]\n",
    "A = [roll for roll in sample if roll[0] == 1 or roll[0] == 2]\n",
    "print(f\"{len(A)} / {len(sample)}\")"
   ]
  },
  {
   "attachments": {},
   "cell_type": "markdown",
   "metadata": {},
   "source": [
    "Calcoliamo $P(B)$:"
   ]
  },
  {
   "cell_type": "code",
   "execution_count": 7,
   "metadata": {},
   "outputs": [
    {
     "name": "stdout",
     "output_type": "stream",
     "text": [
      "5 / 36\n"
     ]
    }
   ],
   "source": [
    "B = [roll for roll in sample if roll[0] + roll[1] == 8]\n",
    "print(f\"{len(B)} / {len(sample)}\")"
   ]
  },
  {
   "attachments": {},
   "cell_type": "markdown",
   "metadata": {},
   "source": [
    "Calcoliamo $P(A \\cap B)$:"
   ]
  },
  {
   "cell_type": "code",
   "execution_count": 8,
   "metadata": {},
   "outputs": [
    {
     "name": "stdout",
     "output_type": "stream",
     "text": [
      "1 / 36\n"
     ]
    }
   ],
   "source": [
    "I = [\n",
    "    roll\n",
    "    for roll in sample\n",
    "    if (roll[0] == 1 or roll[0] == 2) and (roll[0] + roll[1] == 8)\n",
    "]\n",
    "print(f\"{len(I)} / {len(sample)}\")"
   ]
  },
  {
   "attachments": {},
   "cell_type": "markdown",
   "metadata": {},
   "source": [
    "Gli eventi $A$ e $B$ non sono statisticamente indipendenti dato che $P(A \\cap B) \\neq P(A)P(B)$:"
   ]
  },
  {
   "cell_type": "code",
   "execution_count": 9,
   "metadata": {},
   "outputs": [
    {
     "data": {
      "text/plain": [
       "False"
      ]
     },
     "execution_count": 9,
     "metadata": {},
     "output_type": "execute_result"
    }
   ],
   "source": [
    "12/36 * 5/36 == 1/36"
   ]
  },
  {
   "attachments": {},
   "cell_type": "markdown",
   "metadata": {},
   "source": [
    "## Esercizio di ricapitolazione con Python\n",
    "\n",
    "Seguendo l'approccio di {cite:t}`downey2021think`, per promuovere una comprensione più intuitiva delle leggi della probabilità che abbiamo descritto finora, utilizzeremo ora una semplice definizione di probabilità, adeguata per il presente esercizio, ovvero considereremo la probabilità come la *proporzione* di un insieme finito.\n",
    "\n",
    "Esaminiamo qui il dataset `penguins` come un insieme finito sul quale definire di vari eventi. Iniziamo ad importare i dati ed escludiamo i dati mancanti."
   ]
  },
  {
   "cell_type": "code",
   "execution_count": 1,
   "metadata": {},
   "outputs": [
    {
     "name": "stdout",
     "output_type": "stream",
     "text": [
      "<class 'pandas.core.frame.DataFrame'>\n",
      "Int64Index: 333 entries, 0 to 343\n",
      "Data columns (total 8 columns):\n",
      " #   Column             Non-Null Count  Dtype  \n",
      "---  ------             --------------  -----  \n",
      " 0   species            333 non-null    object \n",
      " 1   island             333 non-null    object \n",
      " 2   bill_length_mm     333 non-null    float64\n",
      " 3   bill_depth_mm      333 non-null    float64\n",
      " 4   flipper_length_mm  333 non-null    float64\n",
      " 5   body_mass_g        333 non-null    float64\n",
      " 6   sex                333 non-null    object \n",
      " 7   year               333 non-null    int64  \n",
      "dtypes: float64(4), int64(1), object(3)\n",
      "memory usage: 23.4+ KB\n"
     ]
    }
   ],
   "source": [
    "import pandas as pd\n",
    "\n",
    "df = pd.read_csv('data/penguins.csv')\n",
    "\n",
    "df.dropna(inplace=True)\n",
    "df.info()"
   ]
  },
  {
   "attachments": {},
   "cell_type": "markdown",
   "metadata": {},
   "source": [
    "L'istruzione seguente ritorna un oggetto Pandas `Series` booleano che è `True` se il pinguino vive sull'isola Dream."
   ]
  },
  {
   "cell_type": "code",
   "execution_count": 2,
   "metadata": {},
   "outputs": [
    {
     "data": {
      "text/plain": [
       "0    False\n",
       "1    False\n",
       "2    False\n",
       "4    False\n",
       "5    False\n",
       "Name: island, dtype: bool"
      ]
     },
     "execution_count": 2,
     "metadata": {},
     "output_type": "execute_result"
    }
   ],
   "source": [
    "on_dream = df['island'] == \"Dream\"\n",
    "on_dream.head()"
   ]
  },
  {
   "attachments": {},
   "cell_type": "markdown",
   "metadata": {},
   "source": [
    "In totale ci sono 123 pinguini sull'isola Dream."
   ]
  },
  {
   "cell_type": "code",
   "execution_count": 3,
   "metadata": {},
   "outputs": [
    {
     "data": {
      "text/plain": [
       "123"
      ]
     },
     "execution_count": 3,
     "metadata": {},
     "output_type": "execute_result"
    }
   ],
   "source": [
    "on_dream.sum()"
   ]
  },
  {
   "attachments": {},
   "cell_type": "markdown",
   "metadata": {},
   "source": [
    "La proporzione di pinguini sull'isola Dream, sul totale di 333 pinguini, si trova facendo la media dei valori 0 e 1 della `Series` precedente."
   ]
  },
  {
   "cell_type": "code",
   "execution_count": 4,
   "metadata": {},
   "outputs": [
    {
     "data": {
      "text/plain": [
       "0.36936936936936937"
      ]
     },
     "execution_count": 4,
     "metadata": {},
     "output_type": "execute_result"
    }
   ],
   "source": [
    "on_dream.mean()"
   ]
  },
  {
   "attachments": {},
   "cell_type": "markdown",
   "metadata": {},
   "source": [
    "Circa il 36.9% di tutti i pinguini considerati vive sull'isola Dream. Quindi, se scegliamo un pinguino a caso da questo insieme, la probabilità che viva sull'isola Dream è 0.369.\n",
    "\n",
    "Possiamo inserire il codice precedente in una funzione che ritorna la probabilità, se riceve in input una `Series` di valori booleani."
   ]
  },
  {
   "cell_type": "code",
   "execution_count": 5,
   "metadata": {},
   "outputs": [],
   "source": [
    "def prob(A):\n",
    "    \"\"\"Computes the probability of a proposition, A.\"\"\" \n",
    "    return A.mean()"
   ]
  },
  {
   "attachments": {},
   "cell_type": "markdown",
   "metadata": {},
   "source": [
    "Verifichiamo."
   ]
  },
  {
   "cell_type": "code",
   "execution_count": 6,
   "metadata": {},
   "outputs": [
    {
     "data": {
      "text/plain": [
       "0.36936936936936937"
      ]
     },
     "execution_count": 6,
     "metadata": {},
     "output_type": "execute_result"
    }
   ],
   "source": [
    "prob(on_dream)"
   ]
  },
  {
   "attachments": {},
   "cell_type": "markdown",
   "metadata": {},
   "source": [
    "Troviamo ora la probabilità che un pinguino sia di genere femminile."
   ]
  },
  {
   "cell_type": "code",
   "execution_count": 7,
   "metadata": {},
   "outputs": [
    {
     "data": {
      "text/plain": [
       "0.4954954954954955"
      ]
     },
     "execution_count": 7,
     "metadata": {},
     "output_type": "execute_result"
    }
   ],
   "source": [
    "female = df[\"sex\"] == \"female\"\n",
    "prob(female)"
   ]
  },
  {
   "attachments": {},
   "cell_type": "markdown",
   "metadata": {},
   "source": []
  },
  {
   "cell_type": "code",
   "execution_count": 8,
   "metadata": {},
   "outputs": [
    {
     "data": {
      "text/plain": [
       "0.30930930930930933"
      ]
     },
     "execution_count": 8,
     "metadata": {},
     "output_type": "execute_result"
    }
   ],
   "source": []
  },
  {
   "attachments": {},
   "cell_type": "markdown",
   "metadata": {},
   "source": [
    "### Intersezione di eventi (congiunzione)\n",
    "\n",
    "L'intersezione tra insiemi corrisponde all'operazione logica della congiunzione. Date due proposizioni $p$ e $q$, la loro congiunzione è vera solo se entrambe sono vere. Se abbiamo due oggetti Series booleani, possiamo usare l'operatore `&` per trovare la loro congiunzione.\n",
    "\n",
    "Defininiamo ora un nuovo evento, \"small\", che identifica i pinguini la cui massa corporea è inferiore al quantile di ordine 1/3."
   ]
  },
  {
   "cell_type": "code",
   "execution_count": null,
   "metadata": {},
   "outputs": [],
   "source": [
    "small = df[\"body_mass_g\"] < df[\"body_mass_g\"].quantile(1/3)\n",
    "prob(small)"
   ]
  },
  {
   "attachments": {},
   "cell_type": "markdown",
   "metadata": {},
   "source": [
    "Troviamo ora la probabilità che un pinguino sia di genere femminile e, insieme, appartenga alla categoria \"small\"."
   ]
  },
  {
   "cell_type": "code",
   "execution_count": 9,
   "metadata": {},
   "outputs": [
    {
     "data": {
      "text/plain": [
       "0.2552552552552553"
      ]
     },
     "execution_count": 9,
     "metadata": {},
     "output_type": "execute_result"
    }
   ],
   "source": [
    "prob(female & small)"
   ]
  },
  {
   "attachments": {},
   "cell_type": "markdown",
   "metadata": {},
   "source": [
    "Come ci possiamo aspettare la probabilità dell'intersezione è minore della probabilità di \"small\" dato che non tutti i pinguini più piccoli sono di genere femminile.\n",
    "\n",
    "### Probabilità condizionata\n",
    "Abbiamo visto che la probabilità condizionata è la probabilità calcolata su un insieme ristretto. Per selezionare un sottoinsieme usiamo la notazione delle parentesi quadre. Nell'istruzione seguente selezioniamo solo i pinguini di genere femminile tra quelli che sono \"small\"."
   ]
  },
  {
   "cell_type": "code",
   "execution_count": 13,
   "metadata": {},
   "outputs": [
    {
     "data": {
      "text/plain": [
       "0.5803108808290155"
      ]
     },
     "execution_count": 13,
     "metadata": {},
     "output_type": "execute_result"
    }
   ],
   "source": [
    "selected = female[small]\n",
    "prob(selected)"
   ]
  },
  {
   "attachments": {},
   "cell_type": "markdown",
   "metadata": {},
   "source": [
    "Scriviamo ora una funzione a cui vengono passati due oggetti Series booleani, `proposition` e `given`. La funzione ritorna la probabilità di `proposition` condizionato a `given`."
   ]
  },
  {
   "cell_type": "code",
   "execution_count": 11,
   "metadata": {},
   "outputs": [],
   "source": [
    "def conditional(proposition, given): \n",
    "    return prob(proposition[given])\n"
   ]
  },
  {
   "attachments": {},
   "cell_type": "markdown",
   "metadata": {},
   "source": [
    "Troviamo ora la probabilità condizionata di essere di genere femminile, se consideriamo solo i pinguini \"small\"."
   ]
  },
  {
   "cell_type": "code",
   "execution_count": 12,
   "metadata": {},
   "outputs": [
    {
     "data": {
      "text/plain": [
       "0.8252427184466019"
      ]
     },
     "execution_count": 12,
     "metadata": {},
     "output_type": "execute_result"
    }
   ],
   "source": [
    "conditional(female, given=small)"
   ]
  },
  {
   "attachments": {},
   "cell_type": "markdown",
   "metadata": {},
   "source": [
    "Troviamo ora la probabilità di essere di genere femminile, se consideriamo solo i pinguini sull'isola Dream, $P(\\text{female} \\mid \\text{Dream})$."
   ]
  },
  {
   "cell_type": "code",
   "execution_count": 13,
   "metadata": {},
   "outputs": [
    {
     "data": {
      "text/plain": [
       "0.4959349593495935"
      ]
     },
     "execution_count": 13,
     "metadata": {},
     "output_type": "execute_result"
    }
   ],
   "source": [
    "conditional(female, given=on_dream)"
   ]
  },
  {
   "attachments": {},
   "cell_type": "markdown",
   "metadata": {},
   "source": [
    "Lo stesso risultato si ottiene applicando la definizione di probabilità condizionata."
   ]
  },
  {
   "cell_type": "code",
   "execution_count": 14,
   "metadata": {},
   "outputs": [
    {
     "data": {
      "text/plain": [
       "0.49593495934959353"
      ]
     },
     "execution_count": 14,
     "metadata": {},
     "output_type": "execute_result"
    }
   ],
   "source": [
    "prob(female & on_dream) / prob(on_dream)"
   ]
  },
  {
   "attachments": {},
   "cell_type": "markdown",
   "metadata": {},
   "source": [
    "Troviamo la probabilità che, estreanod un pinguio a caso, troviamo un pinguino di genere femminile che vive sull'isola Dream."
   ]
  },
  {
   "cell_type": "code",
   "execution_count": 15,
   "metadata": {},
   "outputs": [
    {
     "data": {
      "text/plain": [
       "0.1831831831831832"
      ]
     },
     "execution_count": 15,
     "metadata": {},
     "output_type": "execute_result"
    }
   ],
   "source": [
    "prob(female & on_dream) "
   ]
  },
  {
   "attachments": {},
   "cell_type": "markdown",
   "metadata": {},
   "source": [
    "Lo stesso risultato si trova usando la probabilità condizionata per trovare la probabilità dell'intersezione tra due eventi."
   ]
  },
  {
   "cell_type": "code",
   "execution_count": 17,
   "metadata": {},
   "outputs": [
    {
     "data": {
      "text/plain": [
       "0.18318318318318316"
      ]
     },
     "execution_count": 17,
     "metadata": {},
     "output_type": "execute_result"
    }
   ],
   "source": [
    "conditional(female, given=on_dream) * prob(on_dream)"
   ]
  },
  {
   "attachments": {},
   "cell_type": "markdown",
   "metadata": {},
   "source": [
    "### Teorema di Bayes"
   ]
  },
  {
   "cell_type": "code",
   "execution_count": 24,
   "metadata": {},
   "outputs": [
    {
     "data": {
      "text/plain": [
       "0.49193548387096775"
      ]
     },
     "execution_count": 24,
     "metadata": {},
     "output_type": "execute_result"
    }
   ],
   "source": [
    "conditional(female, given=on_dream)"
   ]
  },
  {
   "cell_type": "code",
   "execution_count": 25,
   "metadata": {},
   "outputs": [
    {
     "data": {
      "text/plain": [
       "0.4919354838709678"
      ]
     },
     "execution_count": 25,
     "metadata": {},
     "output_type": "execute_result"
    }
   ],
   "source": [
    "conditional(on_dream, given=female) * prob(female) / prob(on_dream)"
   ]
  },
  {
   "attachments": {},
   "cell_type": "markdown",
   "metadata": {},
   "source": [
    "## Commenti e considerazioni finali \n",
    "\n",
    "La probabilità condizionata è importante perché ci fornisce uno strumento per precisare il concetto di indipendenza statistica. Una delle domande più importanti delle analisi statistiche è infatti quella che si chiede se due variabili siano associate tra loro oppure no. In questo capitolo abbiamo discusso il concetto di indipendenza (come contrapposto al concetto di associazione); in seguito vedremo come sia possibile fare inferenza sull'associazione tra variabili."
   ]
  }
 ],
 "metadata": {
  "kernelspec": {
   "display_name": "pymc",
   "language": "python",
   "name": "python3"
  },
  "language_info": {
   "codemirror_mode": {
    "name": "ipython",
    "version": 3
   },
   "file_extension": ".py",
   "mimetype": "text/x-python",
   "name": "python",
   "nbconvert_exporter": "python",
   "pygments_lexer": "ipython3",
   "version": "3.10.9"
  },
  "orig_nbformat": 4,
  "vscode": {
   "interpreter": {
    "hash": "cbb367cc0128e23b7454d788d5a4229ca1f9848fd2e857f4797fbd26ab3b0776"
   }
  }
 },
 "nbformat": 4,
 "nbformat_minor": 2
}
