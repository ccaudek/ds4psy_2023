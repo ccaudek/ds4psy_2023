{
 "cells": [
  {
   "attachments": {},
   "cell_type": "markdown",
   "metadata": {},
   "source": [
    "(discr_prob_exercises_notebook)=\n",
    "# Esercizi di probabilità discreta"
   ]
  },
  {
   "cell_type": "code",
   "execution_count": 1,
   "metadata": {},
   "outputs": [],
   "source": [
    "import matplotlib.pyplot as plt\n",
    "import numpy as np\n",
    "import pandas as pd\n",
    "import math\n",
    "import seaborn as sns\n",
    "from collections import defaultdict\n",
    "from scipy.constants import golden"
   ]
  },
  {
   "cell_type": "code",
   "execution_count": 2,
   "metadata": {},
   "outputs": [],
   "source": [
    "%matplotlib inline\n",
    "sns.set_theme(\n",
    "    context=\"paper\",\n",
    "    style=\"darkgrid\",\n",
    "    palette=\"colorblind\",\n",
    "    rc={\"figure.figsize\": (5.0, 5.0 / golden)},\n",
    ")\n",
    "\n",
    "SEED = 12345\n",
    "rng = np.random.default_rng(SEED)"
   ]
  },
  {
   "attachments": {},
   "cell_type": "markdown",
   "metadata": {},
   "source": [
    "Considereremo qui alcuni esempi che illustrano come, generando delle liste che corrispondono a spazi campione ed eventi, sia possibile calcolare la probabilità associata agli eventi definiti sullo spazio campione di un esperimento casuale. In questo capitolo ci focalizzeremo su tre esperimenti casuali che producono uno spazio campione discreto: lancio di monete, lancio di dadi, estrazione di carte da un mazzo ben mescolato. Inizieremo ad esaminare il caso del lancio di uno o più dadi e i giochi di carte. In seguito esamineremo delle funzioni specializzate che possono essere usate per modellare l'esperimento casuale corrispondene ad una serie di lanci di una moneta. Prima di fare questo, però, esamineremo alcune funzioni Python utili per il calcolo delle probabilità.\n",
    "\n",
    "**Probabilità di ottenere un numero minore di 4 dal lancio di un dado**\n",
    "\n",
    "Abbiamo già visto in precedenza come generare lo spazio campione dell'esperimento aleatorio che corrisponde al lancio di un dado equilibrato a 6 facce."
   ]
  },
  {
   "cell_type": "code",
   "execution_count": 11,
   "metadata": {},
   "outputs": [
    {
     "data": {
      "text/plain": [
       "[1, 2, 3, 4, 5, 6]"
      ]
     },
     "execution_count": 11,
     "metadata": {},
     "output_type": "execute_result"
    }
   ],
   "source": [
    "sample = [dice1 for dice1 in range(1, 7)]\n",
    "list(sample)"
   ]
  },
  {
   "attachments": {},
   "cell_type": "markdown",
   "metadata": {},
   "source": [
    "Su tale spazio campione definiamo un evento."
   ]
  },
  {
   "cell_type": "code",
   "execution_count": 12,
   "metadata": {},
   "outputs": [
    {
     "name": "stdout",
     "output_type": "stream",
     "text": [
      "[1, 2, 3]\n"
     ]
    }
   ],
   "source": [
    "event = [roll for roll in sample if roll < 4]\n",
    "print(list(event))"
   ]
  },
  {
   "attachments": {},
   "cell_type": "markdown",
   "metadata": {},
   "source": [
    "Calcoliamo la probabilità di osservare l'evento che abbiamo definito."
   ]
  },
  {
   "cell_type": "code",
   "execution_count": 13,
   "metadata": {},
   "outputs": [
    {
     "name": "stdout",
     "output_type": "stream",
     "text": [
      "La probabilità dell'evento è 3/6.\n"
     ]
    }
   ],
   "source": [
    "print(f\"La probabilità dell'evento è {len(event)}/{len(sample)}.\")"
   ]
  },
  {
   "attachments": {},
   "cell_type": "markdown",
   "metadata": {},
   "source": [
    "**La probabilità di ottenere almeno un 6 dal lancio di due dadi**\n",
    "\n",
    "Consideriamo un caso un po' più complesso, ma che abbiamo già incontrato in precedenza. Iniziamo nuovamente a definire lo spazio campione dell'esperimento casuale. Si noti la sintassi della *list comprehension*."
   ]
  },
  {
   "cell_type": "code",
   "execution_count": 14,
   "metadata": {},
   "outputs": [
    {
     "data": {
      "text/plain": [
       "{(1, 1),\n",
       " (1, 2),\n",
       " (1, 3),\n",
       " (1, 4),\n",
       " (1, 5),\n",
       " (1, 6),\n",
       " (2, 1),\n",
       " (2, 2),\n",
       " (2, 3),\n",
       " (2, 4),\n",
       " (2, 5),\n",
       " (2, 6),\n",
       " (3, 1),\n",
       " (3, 2),\n",
       " (3, 3),\n",
       " (3, 4),\n",
       " (3, 5),\n",
       " (3, 6),\n",
       " (4, 1),\n",
       " (4, 2),\n",
       " (4, 3),\n",
       " (4, 4),\n",
       " (4, 5),\n",
       " (4, 6),\n",
       " (5, 1),\n",
       " (5, 2),\n",
       " (5, 3),\n",
       " (5, 4),\n",
       " (5, 5),\n",
       " (5, 6),\n",
       " (6, 1),\n",
       " (6, 2),\n",
       " (6, 3),\n",
       " (6, 4),\n",
       " (6, 5),\n",
       " (6, 6)}"
      ]
     },
     "execution_count": 14,
     "metadata": {},
     "output_type": "execute_result"
    }
   ],
   "source": [
    "sample = [(dice1, dice2) for dice1 in range(1, 7) for dice2 in range(1, 7)]\n",
    "sample"
   ]
  },
  {
   "attachments": {},
   "cell_type": "markdown",
   "metadata": {},
   "source": [
    "L'evento definito dal problema si verifica se è vera la condizione `roll[0] == 6` (si ottiene un 6 con il primo dado) oppure se si verifica la condizione `roll[1]` (si ottiene un 6 con il secondo dado), oppure se si verificano entrambe. Si noti il connettivo logico `or`."
   ]
  },
  {
   "cell_type": "code",
   "execution_count": 20,
   "metadata": {},
   "outputs": [
    {
     "data": {
      "text/plain": [
       "{(1, 6),\n",
       " (2, 6),\n",
       " (3, 6),\n",
       " (4, 6),\n",
       " (5, 6),\n",
       " (6, 1),\n",
       " (6, 2),\n",
       " (6, 3),\n",
       " (6, 4),\n",
       " (6, 5),\n",
       " (6, 6)}"
      ]
     },
     "execution_count": 20,
     "metadata": {},
     "output_type": "execute_result"
    }
   ],
   "source": [
    "event = [roll for roll in sample if roll[0] == 6 or roll[1] == 6]\n",
    "event"
   ]
  },
  {
   "cell_type": "code",
   "execution_count": 21,
   "metadata": {},
   "outputs": [
    {
     "name": "stdout",
     "output_type": "stream",
     "text": [
      "11 / 36\n"
     ]
    }
   ],
   "source": [
    "print(f\"{len(event)} / {len(sample)}\")"
   ]
  },
  {
   "attachments": {},
   "cell_type": "markdown",
   "metadata": {},
   "source": [
    "**La probabilità di non ottenere neppure un 6 dal lancio di due dadi**\n",
    "\n",
    "La soluzione di questo problema richiede che si neghino le due condizioni definite in precedenza."
   ]
  },
  {
   "cell_type": "code",
   "execution_count": 22,
   "metadata": {},
   "outputs": [
    {
     "data": {
      "text/plain": [
       "[(3, 4),\n",
       " (4, 3),\n",
       " (3, 1),\n",
       " (5, 4),\n",
       " (5, 1),\n",
       " (2, 2),\n",
       " (2, 5),\n",
       " (1, 3),\n",
       " (4, 2),\n",
       " (4, 5),\n",
       " (3, 3),\n",
       " (5, 3),\n",
       " (2, 4),\n",
       " (1, 2),\n",
       " (2, 1),\n",
       " (1, 5),\n",
       " (3, 2),\n",
       " (4, 1),\n",
       " (3, 5),\n",
       " (5, 2),\n",
       " (4, 4),\n",
       " (5, 5),\n",
       " (1, 1),\n",
       " (1, 4),\n",
       " (2, 3)]"
      ]
     },
     "execution_count": 22,
     "metadata": {},
     "output_type": "execute_result"
    }
   ],
   "source": [
    "event = [roll for roll in sample if roll[0] != 6 and roll[1] != 6]\n",
    "event"
   ]
  },
  {
   "cell_type": "code",
   "execution_count": 23,
   "metadata": {},
   "outputs": [
    {
     "name": "stdout",
     "output_type": "stream",
     "text": [
      "25 / 36\n"
     ]
    }
   ],
   "source": [
    "print(f\"{len(event)} / {len(sample)}\")"
   ]
  },
  {
   "attachments": {},
   "cell_type": "markdown",
   "metadata": {},
   "source": [
    "In maniera equivalente, la soluzione è data dalla probabilità dell'evento complementare a quello definito dal problema precedente: 1 - 11/36.\n",
    "\n",
    "**La probabilità che lanciando contemporaneamente due dadi a 6 facce la somma faccia 4**\n",
    "\n",
    "In questo caso la condizione logica che viene definita nella *list comprehension* è `if sum(roll) == 4`."
   ]
  },
  {
   "cell_type": "code",
   "execution_count": 24,
   "metadata": {},
   "outputs": [
    {
     "data": {
      "text/plain": [
       "[(3, 1), (2, 2), (1, 3)]"
      ]
     },
     "execution_count": 24,
     "metadata": {},
     "output_type": "execute_result"
    }
   ],
   "source": [
    "event = [roll for roll in sample if sum(roll) == 4]\n",
    "event"
   ]
  },
  {
   "attachments": {},
   "cell_type": "markdown",
   "metadata": {},
   "source": [
    "Troviamo la probabilità."
   ]
  },
  {
   "cell_type": "code",
   "execution_count": 25,
   "metadata": {},
   "outputs": [
    {
     "name": "stdout",
     "output_type": "stream",
     "text": [
      "3 / 36\n"
     ]
    }
   ],
   "source": [
    "print(f\"{len(event)} / {len(sample)}\")"
   ]
  },
  {
   "attachments": {},
   "cell_type": "markdown",
   "metadata": {},
   "source": [
    "**La probabilità che lanciando contemporaneamente tre dadi a 6 facce la somma faccia 10**\n",
    "\n",
    "Questo problema è solo una variante del problema precedente.  L'unica differenza di rilievo è che dobbiamo costruire uno spazio campione corrispondente al prodotto cartesiano dell'insieme dei punti di un dado elevato alla terza potenza."
   ]
  },
  {
   "cell_type": "code",
   "execution_count": 26,
   "metadata": {},
   "outputs": [
    {
     "name": "stdout",
     "output_type": "stream",
     "text": [
      "27 / 216\n"
     ]
    }
   ],
   "source": [
    "r = range(1, 7)\n",
    "sample = [(i, j, k) for i in r for j in r for k in r]\n",
    "event = [roll for roll in sample if sum(roll) == 10]\n",
    "print(event)\n",
    "print(f\"{len(event)} / {len(sample)}\")"
   ]
  },
  {
   "attachments": {},
   "cell_type": "markdown",
   "metadata": {},
   "source": [
    "**La probabilità che lanciando contemporaneamente quattro dadi a 6 facce la somma faccia 13**\n",
    "\n",
    "La struttura logica è identica alla precedente, aumenta solo la dimensione dello spazio campione."
   ]
  },
  {
   "cell_type": "code",
   "execution_count": 27,
   "metadata": {},
   "outputs": [
    {
     "name": "stdout",
     "output_type": "stream",
     "text": [
      "140 / 1296\n"
     ]
    }
   ],
   "source": [
    "r = range(1, 7)\n",
    "sample = [(i, j, k, l) for i in r for j in r for k in r for l in r]\n",
    "event = [roll for roll in sample if sum(roll) == 13]\n",
    "print(f\"{len(event)} / {len(sample)}\")"
   ]
  },
  {
   "attachments": {},
   "cell_type": "markdown",
   "metadata": {},
   "source": [
    "**La probabilità di ottenere un 6 e un altro numero (diverso da 6) nel lancio di due dadi a 6 facce**\n",
    "\n",
    "Questo problema introduce un nuovo modo per valutare una condizione logica in riferimento allo spazio campione.  Il problema dice che dobbiamo ottenere solo un 6, con il primo o con il secondo dado, ma non con entrambi. Dobbiamo dunque esaminare ciascun punto dello spazio campione (una tupla di due elementi) e verificare se contiene un solo 6. Per fare questo definiamo la funzione `numsix()` che prende come argomento una tupla e ritorna il numero di 6 che ha trovato. Avendo definito questa funzione, la applichiamo a tutti i punti dello spazio campione e estraiamo gli elementi nei quali la funzione ritorna 1 (ovvero, i punti campione nei quali c'è un solo 6)."
   ]
  },
  {
   "cell_type": "code",
   "execution_count": 31,
   "metadata": {},
   "outputs": [
    {
     "name": "stdout",
     "output_type": "stream",
     "text": [
      "[(1, 6), (2, 6), (3, 6), (4, 6), (5, 6), (6, 1), (6, 2), (6, 3), (6, 4), (6, 5)]\n"
     ]
    }
   ],
   "source": [
    "\n",
    "sample = [(i, j) for i in r for j in r]\n",
    "\n",
    "\n",
    "def numsix(roll):\n",
    "    return len([dice for dice in roll if dice == 6])\n",
    "\n",
    "\n",
    "event = [roll for roll in sample if numsix(roll) == 1]\n",
    "print(event)"
   ]
  },
  {
   "attachments": {},
   "cell_type": "markdown",
   "metadata": {},
   "source": [
    "La probabilità cercata è dunque 10/36."
   ]
  },
  {
   "cell_type": "code",
   "execution_count": 30,
   "metadata": {},
   "outputs": [
    {
     "name": "stdout",
     "output_type": "stream",
     "text": [
      "10 / 36\n"
     ]
    }
   ],
   "source": [
    "print(f\"{len(event)} / {len(sample)}\")"
   ]
  },
  {
   "attachments": {},
   "cell_type": "markdown",
   "metadata": {},
   "source": [
    "**La probabilità di ottenere un 6 e un altro numero (diverso da 6) nel lancio di quattro dadi a 6 facce**\n",
    "\n",
    "Questo problema è simile al precedente, ma considera uno spazio campione più grande."
   ]
  },
  {
   "cell_type": "code",
   "execution_count": 32,
   "metadata": {},
   "outputs": [
    {
     "name": "stdout",
     "output_type": "stream",
     "text": [
      "500 / 1296\n"
     ]
    }
   ],
   "source": [
    "sample = [(i, j, k, l) for i in r for j in r for k in r for l in r]\n",
    "\n",
    "event = [roll for roll in sample if numsix(roll) == 1]\n",
    "print(f\"{len(event)} / {len(sample)}\")"
   ]
  },
  {
   "attachments": {},
   "cell_type": "markdown",
   "metadata": {},
   "source": [
    "**La probabilità di ottenere tre 6 e un altro numero (diverso da 6) nel lancio di quattro dadi a 6 facce**\n",
    "\n",
    "Qui cambia solo la quantificazione della condizione logica usata prima."
   ]
  },
  {
   "cell_type": "code",
   "execution_count": 33,
   "metadata": {},
   "outputs": [
    {
     "name": "stdout",
     "output_type": "stream",
     "text": [
      "20 / 1296\n"
     ]
    }
   ],
   "source": [
    "event = [roll for roll in sample if numsix(roll)==3]\n",
    "print(f\"{len(event)} / {len(sample)}\")"
   ]
  },
  {
   "attachments": {},
   "cell_type": "markdown",
   "metadata": {},
   "source": [
    "Esaminiamo ora alcuni esempio relativi ai giochi di carte. Per questi scopi abbiamo bisogno di generare degli spazi campione che corrispondono a selezioni di elementi nelle quali l'ordine non conta e gli elementi non possono essere ripetuti. Questa è la definizione di una combinazione semplice -- si veda la sezione {ref}`combinazione-semplice-section`. Importiamo la funzione `combinations` da `itertools`."
   ]
  },
  {
   "cell_type": "code",
   "execution_count": 34,
   "metadata": {},
   "outputs": [],
   "source": [
    "from itertools import combinations, product\n"
   ]
  },
  {
   "attachments": {},
   "cell_type": "markdown",
   "metadata": {},
   "source": [
    "Per chiarire la procedura, iniziamo a considerare un mazzo di carte molto piccolo, in cui abbiamo solo due semi e tre numeri. Generiamo il mazzo di carte."
   ]
  },
  {
   "cell_type": "code",
   "execution_count": 35,
   "metadata": {},
   "outputs": [
    {
     "data": {
      "text/plain": [
       "[(1, 1), (1, 2), (1, 3), (2, 1), (2, 2), (2, 3)]"
      ]
     },
     "execution_count": 35,
     "metadata": {},
     "output_type": "execute_result"
    }
   ],
   "source": [
    "cards = list(product(range(1,3), range(1,4)))\n",
    "cards"
   ]
  },
  {
   "attachments": {},
   "cell_type": "markdown",
   "metadata": {},
   "source": [
    "Diciamo che il primo valore di ciascuna delle precedenti coppie di numeri corrisponde al seme e il secondo valore corrisponde al numero. Se vogliamo, possiamo immaginare cuori e picche con i numeri 1, 2, 3. \n",
    "\n",
    "Iniziamo a chiederci quante mani di due carte siano possibili per questo mazzo di carte. Ci sono 15 possibilità. Usiamo la formula delle combinazioni semplici."
   ]
  },
  {
   "cell_type": "code",
   "execution_count": 38,
   "metadata": {},
   "outputs": [
    {
     "data": {
      "text/plain": [
       "15"
      ]
     },
     "execution_count": 38,
     "metadata": {},
     "output_type": "execute_result"
    }
   ],
   "source": [
    "math.comb(6, 2)"
   ]
  },
  {
   "attachments": {},
   "cell_type": "markdown",
   "metadata": {},
   "source": [
    "Elenchiamo tutte le possibili combinazioni semplici."
   ]
  },
  {
   "cell_type": "code",
   "execution_count": 39,
   "metadata": {},
   "outputs": [
    {
     "data": {
      "text/plain": [
       "[((1, 1), (1, 2)),\n",
       " ((1, 1), (1, 3)),\n",
       " ((1, 1), (2, 1)),\n",
       " ((1, 1), (2, 2)),\n",
       " ((1, 1), (2, 3)),\n",
       " ((1, 2), (1, 3)),\n",
       " ((1, 2), (2, 1)),\n",
       " ((1, 2), (2, 2)),\n",
       " ((1, 2), (2, 3)),\n",
       " ((1, 3), (2, 1)),\n",
       " ((1, 3), (2, 2)),\n",
       " ((1, 3), (2, 3)),\n",
       " ((2, 1), (2, 2)),\n",
       " ((2, 1), (2, 3)),\n",
       " ((2, 2), (2, 3))]"
      ]
     },
     "execution_count": 39,
     "metadata": {},
     "output_type": "execute_result"
    }
   ],
   "source": [
    "sample = list(combinations(cards, 2))\n",
    "sample"
   ]
  },
  {
   "cell_type": "code",
   "execution_count": 40,
   "metadata": {},
   "outputs": [
    {
     "data": {
      "text/plain": [
       "15"
      ]
     },
     "execution_count": 40,
     "metadata": {},
     "output_type": "execute_result"
    }
   ],
   "source": [
    "len(sample)"
   ]
  },
  {
   "attachments": {},
   "cell_type": "markdown",
   "metadata": {},
   "source": [
    "Chiediamoci ora quale sia la probabilità di una coppia di assi. Ovviamente nello spazio campione precedente c'è solo un modo di ottenere una coppia di assi: ((1, 1), (2, 1)). Ma poniamoci il problema di trovare questa soluzione in maniera algoritmica."
   ]
  },
  {
   "cell_type": "code",
   "execution_count": 42,
   "metadata": {},
   "outputs": [
    {
     "name": "stdout",
     "output_type": "stream",
     "text": [
      "1 / 15\n"
     ]
    }
   ],
   "source": [
    "def numval(hand, val):\n",
    "    return len([card for card in hand if card[1] == val])\n",
    "\n",
    "\n",
    "def numace(hand):\n",
    "    return numval(hand, 1)\n",
    "\n",
    "\n",
    "event = [hand for hand in sample if numace(hand) == 2]\n",
    "print(f\"{len(event)} / {len(sample)}\")"
   ]
  },
  {
   "attachments": {},
   "cell_type": "markdown",
   "metadata": {},
   "source": [
    "**La probabilità di un pocker d'assi**\n",
    "\n",
    "Ora che abbiamo capito come fare, possiamo usare la procedura descritta sopra per calcolare un evento più interessante, ovvero la probabilità di ottenere un pocker d'assi in un regolare mazzo da pocker di 52 carte. Iniziamo trovando il numero di possibili di mani di 5 carte:"
   ]
  },
  {
   "cell_type": "code",
   "execution_count": 43,
   "metadata": {},
   "outputs": [
    {
     "data": {
      "text/plain": [
       "2598960"
      ]
     },
     "execution_count": 43,
     "metadata": {},
     "output_type": "execute_result"
    }
   ],
   "source": [
    "cards = list(product(range(1,5), range(1,14)))\n",
    "sample = list(combinations(cards, 5))\n",
    "len(sample)"
   ]
  },
  {
   "attachments": {},
   "cell_type": "markdown",
   "metadata": {},
   "source": [
    "Troviamo ora la probabilità di un pocker d'assi."
   ]
  },
  {
   "cell_type": "code",
   "execution_count": 44,
   "metadata": {},
   "outputs": [
    {
     "name": "stdout",
     "output_type": "stream",
     "text": [
      "48 / 2598960\n"
     ]
    }
   ],
   "source": [
    "event = [hand for hand in sample if numace(hand) == 4]\n",
    "print(f\"{len(event)} / {len(sample)}\")"
   ]
  },
  {
   "attachments": {},
   "cell_type": "markdown",
   "metadata": {},
   "source": [
    "**La probabilità di una coppia d'assi e una coppia di Jack**\n",
    "\n",
    "In una variante di questo problema, troviamo la probabilità di una coppia d'assi e una coppia di Jack:"
   ]
  },
  {
   "cell_type": "code",
   "execution_count": 45,
   "metadata": {},
   "outputs": [
    {
     "name": "stdout",
     "output_type": "stream",
     "text": [
      "1584 / 2598960\n"
     ]
    }
   ],
   "source": [
    "def numjack(hand):\n",
    "    return numval(hand, 11)\n",
    "\n",
    "\n",
    "event = [hand for hand in sample if numace(hand) == 2 and numjack(hand) == 2]\n",
    "print(f\"{len(event)} / {len(sample)}\")"
   ]
  },
  {
   "attachments": {},
   "cell_type": "markdown",
   "metadata": {},
   "source": [
    "Concludiamo con alcuni esempi discussi nel secondo capitolo del testo di {cite:t}`unpingco2022python`.\n",
    "\n",
    "Consideriamo nuovamente l'esperimento casuale corrispondente al lancio di due dati equilibrati. Sia $X$ la v.c. corrispondente alla somma dei punti prodotti dai due lanci. Poniamoci il problema di trovare la distribuzione di massa di probabilità di $X$ e la probabilità associata a diversi eventi. Vedremo qui una procedura alternativa per risolvere questo problema rispetto quella discussa in precedenza.\n",
    "\n",
    "Per affrontare questo problema, {cite:t}`unpingco2022python` inizia a costruire un dizionario Python i cui elementi sono i punti del prodotto cartesiano i cui elementi sono della forma (a,b), dove $a$ appartiene ad $A$ = {1, 2, 3, 4, 5, 6} (punti del primo dado) e $b$ appartiene a $B$ = {1, 2, 3, 4, 5, 6} (punti del secondo dado). "
   ]
  },
  {
   "cell_type": "code",
   "execution_count": 17,
   "metadata": {},
   "outputs": [
    {
     "data": {
      "text/plain": [
       "{(1, 1): 2,\n",
       " (1, 2): 3,\n",
       " (1, 3): 4,\n",
       " (1, 4): 5,\n",
       " (1, 5): 6,\n",
       " (1, 6): 7,\n",
       " (2, 1): 3,\n",
       " (2, 2): 4,\n",
       " (2, 3): 5,\n",
       " (2, 4): 6,\n",
       " (2, 5): 7,\n",
       " (2, 6): 8,\n",
       " (3, 1): 4,\n",
       " (3, 2): 5,\n",
       " (3, 3): 6,\n",
       " (3, 4): 7,\n",
       " (3, 5): 8,\n",
       " (3, 6): 9,\n",
       " (4, 1): 5,\n",
       " (4, 2): 6,\n",
       " (4, 3): 7,\n",
       " (4, 4): 8,\n",
       " (4, 5): 9,\n",
       " (4, 6): 10,\n",
       " (5, 1): 6,\n",
       " (5, 2): 7,\n",
       " (5, 3): 8,\n",
       " (5, 4): 9,\n",
       " (5, 5): 10,\n",
       " (5, 6): 11,\n",
       " (6, 1): 7,\n",
       " (6, 2): 8,\n",
       " (6, 3): 9,\n",
       " (6, 4): 10,\n",
       " (6, 5): 11,\n",
       " (6, 6): 12}"
      ]
     },
     "execution_count": 17,
     "metadata": {},
     "output_type": "execute_result"
    }
   ],
   "source": [
    "d = {(i, j): i + j for i in range(1, 7) for j in range(1, 7)}\n",
    "d"
   ]
  },
  {
   "attachments": {},
   "cell_type": "markdown",
   "metadata": {},
   "source": [
    "Il passo successivo è quello di raccogliere tutte le coppie (a,b) la cui somma corrisponde a ciascuno dei possibili valori da 2 a 12. Per fare questo, {cite:t}`unpingco2022python` utilizza la funzione `defaultdict()`:"
   ]
  },
  {
   "cell_type": "code",
   "execution_count": 7,
   "metadata": {},
   "outputs": [
    {
     "data": {
      "text/plain": [
       "defaultdict(list,\n",
       "            {2: [(1, 1)],\n",
       "             3: [(1, 2), (2, 1)],\n",
       "             4: [(1, 3), (2, 2), (3, 1)],\n",
       "             5: [(1, 4), (2, 3), (3, 2), (4, 1)],\n",
       "             6: [(1, 5), (2, 4), (3, 3), (4, 2), (5, 1)],\n",
       "             7: [(1, 6), (2, 5), (3, 4), (4, 3), (5, 2), (6, 1)],\n",
       "             8: [(2, 6), (3, 5), (4, 4), (5, 3), (6, 2)],\n",
       "             9: [(3, 6), (4, 5), (5, 4), (6, 3)],\n",
       "             10: [(4, 6), (5, 5), (6, 4)],\n",
       "             11: [(5, 6), (6, 5)],\n",
       "             12: [(6, 6)]})"
      ]
     },
     "execution_count": 7,
     "metadata": {},
     "output_type": "execute_result"
    }
   ],
   "source": [
    "dinv = defaultdict(list)\n",
    "for i, j in d.items():\n",
    "    dinv[j].append(i)\n",
    "\n",
    "dinv"
   ]
  },
  {
   "attachments": {},
   "cell_type": "markdown",
   "metadata": {},
   "source": [
    "A questo punto è possibile ottenere una lista di tutte le coppie la cui somma è 7, per esempio:"
   ]
  },
  {
   "cell_type": "code",
   "execution_count": 8,
   "metadata": {},
   "outputs": [
    {
     "data": {
      "text/plain": [
       "[(1, 6), (2, 5), (3, 4), (4, 3), (5, 2), (6, 1)]"
      ]
     },
     "execution_count": 8,
     "metadata": {},
     "output_type": "execute_result"
    }
   ],
   "source": [
    "dinv[7]"
   ]
  },
  {
   "attachments": {},
   "cell_type": "markdown",
   "metadata": {},
   "source": [
    "Il passo successivo consiste nel calcolare la probabilità misurata per ciascun elemento di `dinv`. Utilizzando l'ipotesi di indipendenza, ciò significa che dobbiamo calcolare la somma dei prodotti delle probabilità dei singoli elementi in dinv. Poiché sappiamo che ogni risultato è ugualmente probabile, la probabilità di ogni termine nella somma è uguale a 1/36. Pertanto, tutto ciò che dobbiamo fare è contare il numero di elementi nell'elenco corrispondente per ogni key in `dinv` e dividere per 36. Ad esempio, `dinv[11]` contiene [(5, 6), (6, 5)]. La probabilità di 5+6=6+5=11 è la probabilità di questo insieme, che è composto dalla somma delle probabilità dei singoli elementi {(5,6),(6,5)}. In questo caso, abbiamo P(11) = P({(5, 6)}) + P({(6, 5)}) = 1/36 + 1/36 = 2/36. Ripetendo questa procedura per tutti gli elementi, deriviamo la funzione di massa di probabilità come mostrato di seguito:"
   ]
  },
  {
   "cell_type": "code",
   "execution_count": 11,
   "metadata": {},
   "outputs": [
    {
     "data": {
      "text/plain": [
       "{2: 0.027777777777777776,\n",
       " 3: 0.05555555555555555,\n",
       " 4: 0.08333333333333333,\n",
       " 5: 0.1111111111111111,\n",
       " 6: 0.1388888888888889,\n",
       " 7: 0.16666666666666666,\n",
       " 8: 0.1388888888888889,\n",
       " 9: 0.1111111111111111,\n",
       " 10: 0.08333333333333333,\n",
       " 11: 0.05555555555555555,\n",
       " 12: 0.027777777777777776}"
      ]
     },
     "execution_count": 11,
     "metadata": {},
     "output_type": "execute_result"
    }
   ],
   "source": [
    "X = {i: len(j) / 36.0 for i, j in dinv.items()}\n",
    "X\n"
   ]
  },
  {
   "attachments": {},
   "cell_type": "markdown",
   "metadata": {},
   "source": [
    "{cite:t}`unpingco2022python` afferma che questo esempio mostra quali sono gli elementi della teoria della probabilità che sono in gioco in questo semplice problema, sopprimendo deliberatamente alcuni dei dettagli tecnici più fastidiosi. \n",
    "\n",
    "Esaminiamo con più attenzione la funzione `defaultdict()`. Si noti che, nell'esempio sopra, essa prende come argomento `list`. Consideriamo con il seguente problema. Vogliamo contare quante volte ciascuna parola compare in un testo. Un primo modo per affrontare il problema è il seguente: creiamo un dizionario a cui aggiungiamo come key ciascuna parola (se non è già presente nel dizionario) e, come valore, il numero di occorrenze:"
   ]
  },
  {
   "cell_type": "code",
   "execution_count": 22,
   "metadata": {},
   "outputs": [
    {
     "data": {
      "text/plain": [
       "{'Suppose': 1,\n",
       " 'I': 2,\n",
       " 'need': 1,\n",
       " 'to': 2,\n",
       " 'count': 1,\n",
       " 'the': 1,\n",
       " 'number': 1,\n",
       " 'of': 1,\n",
       " 'word': 1,\n",
       " 'occurrences': 1,\n",
       " 'in': 1,\n",
       " 'a': 1,\n",
       " 'text.': 1,\n",
       " 'How': 1,\n",
       " 'could': 1,\n",
       " 'do': 2,\n",
       " 'that?': 1,\n",
       " 'Python': 1,\n",
       " 'provides': 1,\n",
       " 'us': 1,\n",
       " 'with': 1,\n",
       " 'multiple': 1,\n",
       " 'ways': 1,\n",
       " 'this': 1,\n",
       " 'same': 1,\n",
       " 'thing.': 1}"
      ]
     },
     "execution_count": 22,
     "metadata": {},
     "output_type": "execute_result"
    }
   ],
   "source": [
    "text = \"Suppose I need to count the number of word occurrences in a text. How could I do that? Python provides us with multiple ways to do this same thing.\"\n",
    "word_count_dict = {}\n",
    "for w in text.split(\" \"):\n",
    "    if w in word_count_dict:\n",
    "        word_count_dict[w]+=1\n",
    "    else:\n",
    "        word_count_dict[w]=1\n",
    "\n",
    "word_count_dict"
   ]
  },
  {
   "attachments": {},
   "cell_type": "markdown",
   "metadata": {},
   "source": [
    "Lo stesso risultato si ottiene con `defaultdict()`. In questo caso"
   ]
  },
  {
   "cell_type": "code",
   "execution_count": 23,
   "metadata": {},
   "outputs": [
    {
     "data": {
      "text/plain": [
       "defaultdict(int,\n",
       "            {'Suppose': 1,\n",
       "             'I': 2,\n",
       "             'need': 1,\n",
       "             'to': 2,\n",
       "             'count': 1,\n",
       "             'the': 1,\n",
       "             'number': 1,\n",
       "             'of': 1,\n",
       "             'word': 1,\n",
       "             'occurrences': 1,\n",
       "             'in': 1,\n",
       "             'a': 1,\n",
       "             'text.': 1,\n",
       "             'How': 1,\n",
       "             'could': 1,\n",
       "             'do': 2,\n",
       "             'that?': 1,\n",
       "             'Python': 1,\n",
       "             'provides': 1,\n",
       "             'us': 1,\n",
       "             'with': 1,\n",
       "             'multiple': 1,\n",
       "             'ways': 1,\n",
       "             'this': 1,\n",
       "             'same': 1,\n",
       "             'thing.': 1})"
      ]
     },
     "execution_count": 23,
     "metadata": {},
     "output_type": "execute_result"
    }
   ],
   "source": [
    "word_count_dict = defaultdict(int)\n",
    "for w in text.split(\" \"):\n",
    "    word_count_dict[w] += 1\n",
    "\n",
    "word_count_dict\n"
   ]
  },
  {
   "attachments": {},
   "cell_type": "markdown",
   "metadata": {},
   "source": [
    "Ciò rende chiaro che, in questo caso, `defaultdict()` viene usato per creare un dizionario dove associamo a ciascuna key la frequenza con la quale essa è presente nell'oggetto `text`. In questo secondo esempio, `defaultdict()` prende come argomento `int` perché ritornerà un integer.\n",
    "\n",
    "Nel caso del lancio dei due dadi, invece, l'argomento di `defaultdict()` è `list`, perché a ciascuna key verrà associata una lista. `d.items()` sono i `dict_items`."
   ]
  },
  {
   "cell_type": "code",
   "execution_count": 25,
   "metadata": {},
   "outputs": [
    {
     "data": {
      "text/plain": [
       "dict_items([((1, 1), 2), ((1, 2), 3), ((1, 3), 4), ((1, 4), 5), ((1, 5), 6), ((1, 6), 7), ((2, 1), 3), ((2, 2), 4), ((2, 3), 5), ((2, 4), 6), ((2, 5), 7), ((2, 6), 8), ((3, 1), 4), ((3, 2), 5), ((3, 3), 6), ((3, 4), 7), ((3, 5), 8), ((3, 6), 9), ((4, 1), 5), ((4, 2), 6), ((4, 3), 7), ((4, 4), 8), ((4, 5), 9), ((4, 6), 10), ((5, 1), 6), ((5, 2), 7), ((5, 3), 8), ((5, 4), 9), ((5, 5), 10), ((5, 6), 11), ((6, 1), 7), ((6, 2), 8), ((6, 3), 9), ((6, 4), 10), ((6, 5), 11), ((6, 6), 12)])"
      ]
     },
     "execution_count": 25,
     "metadata": {},
     "output_type": "execute_result"
    }
   ],
   "source": [
    "d.items()"
   ]
  },
  {
   "attachments": {},
   "cell_type": "markdown",
   "metadata": {},
   "source": [
    "Il ciclo `for i, j in d.items():` fa riferimento a ciascuno degli elementi del dizionario `d`."
   ]
  },
  {
   "cell_type": "code",
   "execution_count": 36,
   "metadata": {},
   "outputs": [
    {
     "name": "stdout",
     "output_type": "stream",
     "text": [
      "(1, 1) 2\n",
      "(1, 2) 3\n",
      "(1, 3) 4\n",
      "(1, 4) 5\n",
      "(1, 5) 6\n",
      "(1, 6) 7\n",
      "(2, 1) 3\n",
      "(2, 2) 4\n",
      "(2, 3) 5\n",
      "(2, 4) 6\n",
      "(2, 5) 7\n",
      "(2, 6) 8\n",
      "(3, 1) 4\n",
      "(3, 2) 5\n",
      "(3, 3) 6\n",
      "(3, 4) 7\n",
      "(3, 5) 8\n",
      "(3, 6) 9\n",
      "(4, 1) 5\n",
      "(4, 2) 6\n",
      "(4, 3) 7\n",
      "(4, 4) 8\n",
      "(4, 5) 9\n",
      "(4, 6) 10\n",
      "(5, 1) 6\n",
      "(5, 2) 7\n",
      "(5, 3) 8\n",
      "(5, 4) 9\n",
      "(5, 5) 10\n",
      "(5, 6) 11\n",
      "(6, 1) 7\n",
      "(6, 2) 8\n",
      "(6, 3) 9\n",
      "(6, 4) 10\n",
      "(6, 5) 11\n",
      "(6, 6) 12\n"
     ]
    }
   ],
   "source": [
    "for i, j in d.items():\n",
    "    print(i,j)"
   ]
  },
  {
   "attachments": {},
   "cell_type": "markdown",
   "metadata": {},
   "source": [
    "L'indice `i` indica le coppie"
   ]
  },
  {
   "cell_type": "code",
   "execution_count": 37,
   "metadata": {},
   "outputs": [
    {
     "name": "stdout",
     "output_type": "stream",
     "text": [
      "(1, 1)\n",
      "(1, 2)\n",
      "(1, 3)\n",
      "(1, 4)\n",
      "(1, 5)\n",
      "(1, 6)\n",
      "(2, 1)\n",
      "(2, 2)\n",
      "(2, 3)\n",
      "(2, 4)\n",
      "(2, 5)\n",
      "(2, 6)\n",
      "(3, 1)\n",
      "(3, 2)\n",
      "(3, 3)\n",
      "(3, 4)\n",
      "(3, 5)\n",
      "(3, 6)\n",
      "(4, 1)\n",
      "(4, 2)\n",
      "(4, 3)\n",
      "(4, 4)\n",
      "(4, 5)\n",
      "(4, 6)\n",
      "(5, 1)\n",
      "(5, 2)\n",
      "(5, 3)\n",
      "(5, 4)\n",
      "(5, 5)\n",
      "(5, 6)\n",
      "(6, 1)\n",
      "(6, 2)\n",
      "(6, 3)\n",
      "(6, 4)\n",
      "(6, 5)\n",
      "(6, 6)\n"
     ]
    }
   ],
   "source": [
    "for i, j in d.items():\n",
    "    print(i)\n"
   ]
  },
  {
   "attachments": {},
   "cell_type": "markdown",
   "metadata": {},
   "source": [
    "Mentre `j` fa riferimento alla somma"
   ]
  },
  {
   "cell_type": "code",
   "execution_count": 38,
   "metadata": {},
   "outputs": [
    {
     "name": "stdout",
     "output_type": "stream",
     "text": [
      "2\n",
      "3\n",
      "4\n",
      "5\n",
      "6\n",
      "7\n",
      "3\n",
      "4\n",
      "5\n",
      "6\n",
      "7\n",
      "8\n",
      "4\n",
      "5\n",
      "6\n",
      "7\n",
      "8\n",
      "9\n",
      "5\n",
      "6\n",
      "7\n",
      "8\n",
      "9\n",
      "10\n",
      "6\n",
      "7\n",
      "8\n",
      "9\n",
      "10\n",
      "11\n",
      "7\n",
      "8\n",
      "9\n",
      "10\n",
      "11\n",
      "12\n"
     ]
    }
   ],
   "source": [
    "for i, j in d.items():\n",
    "    print(j)"
   ]
  },
  {
   "attachments": {},
   "cell_type": "markdown",
   "metadata": {},
   "source": [
    "Ora possiamo usare `defaultdict(list)`. Per ciascun valore della somma (`j`), appendiamo alla lista ad esso associata gli elementi (`i`) che producono tale somma:"
   ]
  },
  {
   "cell_type": "code",
   "execution_count": 39,
   "metadata": {},
   "outputs": [],
   "source": [
    "dinv = defaultdict(list)\n",
    "for i, j in d.items():\n",
    "    dinv[j].append(i)"
   ]
  },
  {
   "attachments": {},
   "cell_type": "markdown",
   "metadata": {},
   "source": [
    "Avendo ottenuto il risultato riportato sopra, {cite:t}`unpingco2022python` si pone un altra domanda: qual è la probabilità che la metà del prodotto dei punti prodotti da tre dadi superi la loro somma? Possiamo risolverlo usando lo stesso metodo del seguente. Innanzitutto, si crea lo spazio campione dell'esperimento casuale, ovvero un dizionario a cui, per ciascun punto dello spazio campione si aggiunge una variabile booleana che è True se la condizione specificata è soddisfatta ed è False altrimenti."
   ]
  },
  {
   "cell_type": "code",
   "execution_count": 42,
   "metadata": {},
   "outputs": [
    {
     "data": {
      "text/plain": [
       "{(1, 1, 1): False,\n",
       " (1, 1, 2): False,\n",
       " (1, 1, 3): False,\n",
       " (1, 1, 4): False,\n",
       " (1, 1, 5): False,\n",
       " (1, 1, 6): False,\n",
       " (1, 2, 1): False,\n",
       " (1, 2, 2): False,\n",
       " (1, 2, 3): False,\n",
       " (1, 2, 4): False,\n",
       " (1, 2, 5): False,\n",
       " (1, 2, 6): False,\n",
       " (1, 3, 1): False,\n",
       " (1, 3, 2): False,\n",
       " (1, 3, 3): False,\n",
       " (1, 3, 4): False,\n",
       " (1, 3, 5): False,\n",
       " (1, 3, 6): False,\n",
       " (1, 4, 1): False,\n",
       " (1, 4, 2): False,\n",
       " (1, 4, 3): False,\n",
       " (1, 4, 4): False,\n",
       " (1, 4, 5): False,\n",
       " (1, 4, 6): True,\n",
       " (1, 5, 1): False,\n",
       " (1, 5, 2): False,\n",
       " (1, 5, 3): False,\n",
       " (1, 5, 4): False,\n",
       " (1, 5, 5): True,\n",
       " (1, 5, 6): True,\n",
       " (1, 6, 1): False,\n",
       " (1, 6, 2): False,\n",
       " (1, 6, 3): False,\n",
       " (1, 6, 4): True,\n",
       " (1, 6, 5): True,\n",
       " (1, 6, 6): True,\n",
       " (2, 1, 1): False,\n",
       " (2, 1, 2): False,\n",
       " (2, 1, 3): False,\n",
       " (2, 1, 4): False,\n",
       " (2, 1, 5): False,\n",
       " (2, 1, 6): False,\n",
       " (2, 2, 1): False,\n",
       " (2, 2, 2): False,\n",
       " (2, 2, 3): False,\n",
       " (2, 2, 4): False,\n",
       " (2, 2, 5): True,\n",
       " (2, 2, 6): True,\n",
       " (2, 3, 1): False,\n",
       " (2, 3, 2): False,\n",
       " (2, 3, 3): True,\n",
       " (2, 3, 4): True,\n",
       " (2, 3, 5): True,\n",
       " (2, 3, 6): True,\n",
       " (2, 4, 1): False,\n",
       " (2, 4, 2): False,\n",
       " (2, 4, 3): True,\n",
       " (2, 4, 4): True,\n",
       " (2, 4, 5): True,\n",
       " (2, 4, 6): True,\n",
       " (2, 5, 1): False,\n",
       " (2, 5, 2): True,\n",
       " (2, 5, 3): True,\n",
       " (2, 5, 4): True,\n",
       " (2, 5, 5): True,\n",
       " (2, 5, 6): True,\n",
       " (2, 6, 1): False,\n",
       " (2, 6, 2): True,\n",
       " (2, 6, 3): True,\n",
       " (2, 6, 4): True,\n",
       " (2, 6, 5): True,\n",
       " (2, 6, 6): True,\n",
       " (3, 1, 1): False,\n",
       " (3, 1, 2): False,\n",
       " (3, 1, 3): False,\n",
       " (3, 1, 4): False,\n",
       " (3, 1, 5): False,\n",
       " (3, 1, 6): False,\n",
       " (3, 2, 1): False,\n",
       " (3, 2, 2): False,\n",
       " (3, 2, 3): True,\n",
       " (3, 2, 4): True,\n",
       " (3, 2, 5): True,\n",
       " (3, 2, 6): True,\n",
       " (3, 3, 1): False,\n",
       " (3, 3, 2): True,\n",
       " (3, 3, 3): True,\n",
       " (3, 3, 4): True,\n",
       " (3, 3, 5): True,\n",
       " (3, 3, 6): True,\n",
       " (3, 4, 1): False,\n",
       " (3, 4, 2): True,\n",
       " (3, 4, 3): True,\n",
       " (3, 4, 4): True,\n",
       " (3, 4, 5): True,\n",
       " (3, 4, 6): True,\n",
       " (3, 5, 1): False,\n",
       " (3, 5, 2): True,\n",
       " (3, 5, 3): True,\n",
       " (3, 5, 4): True,\n",
       " (3, 5, 5): True,\n",
       " (3, 5, 6): True,\n",
       " (3, 6, 1): False,\n",
       " (3, 6, 2): True,\n",
       " (3, 6, 3): True,\n",
       " (3, 6, 4): True,\n",
       " (3, 6, 5): True,\n",
       " (3, 6, 6): True,\n",
       " (4, 1, 1): False,\n",
       " (4, 1, 2): False,\n",
       " (4, 1, 3): False,\n",
       " (4, 1, 4): False,\n",
       " (4, 1, 5): False,\n",
       " (4, 1, 6): True,\n",
       " (4, 2, 1): False,\n",
       " (4, 2, 2): False,\n",
       " (4, 2, 3): True,\n",
       " (4, 2, 4): True,\n",
       " (4, 2, 5): True,\n",
       " (4, 2, 6): True,\n",
       " (4, 3, 1): False,\n",
       " (4, 3, 2): True,\n",
       " (4, 3, 3): True,\n",
       " (4, 3, 4): True,\n",
       " (4, 3, 5): True,\n",
       " (4, 3, 6): True,\n",
       " (4, 4, 1): False,\n",
       " (4, 4, 2): True,\n",
       " (4, 4, 3): True,\n",
       " (4, 4, 4): True,\n",
       " (4, 4, 5): True,\n",
       " (4, 4, 6): True,\n",
       " (4, 5, 1): False,\n",
       " (4, 5, 2): True,\n",
       " (4, 5, 3): True,\n",
       " (4, 5, 4): True,\n",
       " (4, 5, 5): True,\n",
       " (4, 5, 6): True,\n",
       " (4, 6, 1): True,\n",
       " (4, 6, 2): True,\n",
       " (4, 6, 3): True,\n",
       " (4, 6, 4): True,\n",
       " (4, 6, 5): True,\n",
       " (4, 6, 6): True,\n",
       " (5, 1, 1): False,\n",
       " (5, 1, 2): False,\n",
       " (5, 1, 3): False,\n",
       " (5, 1, 4): False,\n",
       " (5, 1, 5): True,\n",
       " (5, 1, 6): True,\n",
       " (5, 2, 1): False,\n",
       " (5, 2, 2): True,\n",
       " (5, 2, 3): True,\n",
       " (5, 2, 4): True,\n",
       " (5, 2, 5): True,\n",
       " (5, 2, 6): True,\n",
       " (5, 3, 1): False,\n",
       " (5, 3, 2): True,\n",
       " (5, 3, 3): True,\n",
       " (5, 3, 4): True,\n",
       " (5, 3, 5): True,\n",
       " (5, 3, 6): True,\n",
       " (5, 4, 1): False,\n",
       " (5, 4, 2): True,\n",
       " (5, 4, 3): True,\n",
       " (5, 4, 4): True,\n",
       " (5, 4, 5): True,\n",
       " (5, 4, 6): True,\n",
       " (5, 5, 1): True,\n",
       " (5, 5, 2): True,\n",
       " (5, 5, 3): True,\n",
       " (5, 5, 4): True,\n",
       " (5, 5, 5): True,\n",
       " (5, 5, 6): True,\n",
       " (5, 6, 1): True,\n",
       " (5, 6, 2): True,\n",
       " (5, 6, 3): True,\n",
       " (5, 6, 4): True,\n",
       " (5, 6, 5): True,\n",
       " (5, 6, 6): True,\n",
       " (6, 1, 1): False,\n",
       " (6, 1, 2): False,\n",
       " (6, 1, 3): False,\n",
       " (6, 1, 4): True,\n",
       " (6, 1, 5): True,\n",
       " (6, 1, 6): True,\n",
       " (6, 2, 1): False,\n",
       " (6, 2, 2): True,\n",
       " (6, 2, 3): True,\n",
       " (6, 2, 4): True,\n",
       " (6, 2, 5): True,\n",
       " (6, 2, 6): True,\n",
       " (6, 3, 1): False,\n",
       " (6, 3, 2): True,\n",
       " (6, 3, 3): True,\n",
       " (6, 3, 4): True,\n",
       " (6, 3, 5): True,\n",
       " (6, 3, 6): True,\n",
       " (6, 4, 1): True,\n",
       " (6, 4, 2): True,\n",
       " (6, 4, 3): True,\n",
       " (6, 4, 4): True,\n",
       " (6, 4, 5): True,\n",
       " (6, 4, 6): True,\n",
       " (6, 5, 1): True,\n",
       " (6, 5, 2): True,\n",
       " (6, 5, 3): True,\n",
       " (6, 5, 4): True,\n",
       " (6, 5, 5): True,\n",
       " (6, 5, 6): True,\n",
       " (6, 6, 1): True,\n",
       " (6, 6, 2): True,\n",
       " (6, 6, 3): True,\n",
       " (6, 6, 4): True,\n",
       " (6, 6, 5): True,\n",
       " (6, 6, 6): True}"
      ]
     },
     "execution_count": 42,
     "metadata": {},
     "output_type": "execute_result"
    }
   ],
   "source": [
    "d = {\n",
    "    (i, j, k): ((i * j * k) / 2 > i + j + k)\n",
    "    for i in range(1, 7)\n",
    "    for j in range(1, 7)\n",
    "    for k in range(1, 7)\n",
    "}\n",
    "d"
   ]
  },
  {
   "cell_type": "code",
   "execution_count": 43,
   "metadata": {},
   "outputs": [
    {
     "data": {
      "text/plain": [
       "defaultdict(list,\n",
       "            {False: [(1, 1, 1),\n",
       "              (1, 1, 2),\n",
       "              (1, 1, 3),\n",
       "              (1, 1, 4),\n",
       "              (1, 1, 5),\n",
       "              (1, 1, 6),\n",
       "              (1, 2, 1),\n",
       "              (1, 2, 2),\n",
       "              (1, 2, 3),\n",
       "              (1, 2, 4),\n",
       "              (1, 2, 5),\n",
       "              (1, 2, 6),\n",
       "              (1, 3, 1),\n",
       "              (1, 3, 2),\n",
       "              (1, 3, 3),\n",
       "              (1, 3, 4),\n",
       "              (1, 3, 5),\n",
       "              (1, 3, 6),\n",
       "              (1, 4, 1),\n",
       "              (1, 4, 2),\n",
       "              (1, 4, 3),\n",
       "              (1, 4, 4),\n",
       "              (1, 4, 5),\n",
       "              (1, 5, 1),\n",
       "              (1, 5, 2),\n",
       "              (1, 5, 3),\n",
       "              (1, 5, 4),\n",
       "              (1, 6, 1),\n",
       "              (1, 6, 2),\n",
       "              (1, 6, 3),\n",
       "              (2, 1, 1),\n",
       "              (2, 1, 2),\n",
       "              (2, 1, 3),\n",
       "              (2, 1, 4),\n",
       "              (2, 1, 5),\n",
       "              (2, 1, 6),\n",
       "              (2, 2, 1),\n",
       "              (2, 2, 2),\n",
       "              (2, 2, 3),\n",
       "              (2, 2, 4),\n",
       "              (2, 3, 1),\n",
       "              (2, 3, 2),\n",
       "              (2, 4, 1),\n",
       "              (2, 4, 2),\n",
       "              (2, 5, 1),\n",
       "              (2, 6, 1),\n",
       "              (3, 1, 1),\n",
       "              (3, 1, 2),\n",
       "              (3, 1, 3),\n",
       "              (3, 1, 4),\n",
       "              (3, 1, 5),\n",
       "              (3, 1, 6),\n",
       "              (3, 2, 1),\n",
       "              (3, 2, 2),\n",
       "              (3, 3, 1),\n",
       "              (3, 4, 1),\n",
       "              (3, 5, 1),\n",
       "              (3, 6, 1),\n",
       "              (4, 1, 1),\n",
       "              (4, 1, 2),\n",
       "              (4, 1, 3),\n",
       "              (4, 1, 4),\n",
       "              (4, 1, 5),\n",
       "              (4, 2, 1),\n",
       "              (4, 2, 2),\n",
       "              (4, 3, 1),\n",
       "              (4, 4, 1),\n",
       "              (4, 5, 1),\n",
       "              (5, 1, 1),\n",
       "              (5, 1, 2),\n",
       "              (5, 1, 3),\n",
       "              (5, 1, 4),\n",
       "              (5, 2, 1),\n",
       "              (5, 3, 1),\n",
       "              (5, 4, 1),\n",
       "              (6, 1, 1),\n",
       "              (6, 1, 2),\n",
       "              (6, 1, 3),\n",
       "              (6, 2, 1),\n",
       "              (6, 3, 1)],\n",
       "             True: [(1, 4, 6),\n",
       "              (1, 5, 5),\n",
       "              (1, 5, 6),\n",
       "              (1, 6, 4),\n",
       "              (1, 6, 5),\n",
       "              (1, 6, 6),\n",
       "              (2, 2, 5),\n",
       "              (2, 2, 6),\n",
       "              (2, 3, 3),\n",
       "              (2, 3, 4),\n",
       "              (2, 3, 5),\n",
       "              (2, 3, 6),\n",
       "              (2, 4, 3),\n",
       "              (2, 4, 4),\n",
       "              (2, 4, 5),\n",
       "              (2, 4, 6),\n",
       "              (2, 5, 2),\n",
       "              (2, 5, 3),\n",
       "              (2, 5, 4),\n",
       "              (2, 5, 5),\n",
       "              (2, 5, 6),\n",
       "              (2, 6, 2),\n",
       "              (2, 6, 3),\n",
       "              (2, 6, 4),\n",
       "              (2, 6, 5),\n",
       "              (2, 6, 6),\n",
       "              (3, 2, 3),\n",
       "              (3, 2, 4),\n",
       "              (3, 2, 5),\n",
       "              (3, 2, 6),\n",
       "              (3, 3, 2),\n",
       "              (3, 3, 3),\n",
       "              (3, 3, 4),\n",
       "              (3, 3, 5),\n",
       "              (3, 3, 6),\n",
       "              (3, 4, 2),\n",
       "              (3, 4, 3),\n",
       "              (3, 4, 4),\n",
       "              (3, 4, 5),\n",
       "              (3, 4, 6),\n",
       "              (3, 5, 2),\n",
       "              (3, 5, 3),\n",
       "              (3, 5, 4),\n",
       "              (3, 5, 5),\n",
       "              (3, 5, 6),\n",
       "              (3, 6, 2),\n",
       "              (3, 6, 3),\n",
       "              (3, 6, 4),\n",
       "              (3, 6, 5),\n",
       "              (3, 6, 6),\n",
       "              (4, 1, 6),\n",
       "              (4, 2, 3),\n",
       "              (4, 2, 4),\n",
       "              (4, 2, 5),\n",
       "              (4, 2, 6),\n",
       "              (4, 3, 2),\n",
       "              (4, 3, 3),\n",
       "              (4, 3, 4),\n",
       "              (4, 3, 5),\n",
       "              (4, 3, 6),\n",
       "              (4, 4, 2),\n",
       "              (4, 4, 3),\n",
       "              (4, 4, 4),\n",
       "              (4, 4, 5),\n",
       "              (4, 4, 6),\n",
       "              (4, 5, 2),\n",
       "              (4, 5, 3),\n",
       "              (4, 5, 4),\n",
       "              (4, 5, 5),\n",
       "              (4, 5, 6),\n",
       "              (4, 6, 1),\n",
       "              (4, 6, 2),\n",
       "              (4, 6, 3),\n",
       "              (4, 6, 4),\n",
       "              (4, 6, 5),\n",
       "              (4, 6, 6),\n",
       "              (5, 1, 5),\n",
       "              (5, 1, 6),\n",
       "              (5, 2, 2),\n",
       "              (5, 2, 3),\n",
       "              (5, 2, 4),\n",
       "              (5, 2, 5),\n",
       "              (5, 2, 6),\n",
       "              (5, 3, 2),\n",
       "              (5, 3, 3),\n",
       "              (5, 3, 4),\n",
       "              (5, 3, 5),\n",
       "              (5, 3, 6),\n",
       "              (5, 4, 2),\n",
       "              (5, 4, 3),\n",
       "              (5, 4, 4),\n",
       "              (5, 4, 5),\n",
       "              (5, 4, 6),\n",
       "              (5, 5, 1),\n",
       "              (5, 5, 2),\n",
       "              (5, 5, 3),\n",
       "              (5, 5, 4),\n",
       "              (5, 5, 5),\n",
       "              (5, 5, 6),\n",
       "              (5, 6, 1),\n",
       "              (5, 6, 2),\n",
       "              (5, 6, 3),\n",
       "              (5, 6, 4),\n",
       "              (5, 6, 5),\n",
       "              (5, 6, 6),\n",
       "              (6, 1, 4),\n",
       "              (6, 1, 5),\n",
       "              (6, 1, 6),\n",
       "              (6, 2, 2),\n",
       "              (6, 2, 3),\n",
       "              (6, 2, 4),\n",
       "              (6, 2, 5),\n",
       "              (6, 2, 6),\n",
       "              (6, 3, 2),\n",
       "              (6, 3, 3),\n",
       "              (6, 3, 4),\n",
       "              (6, 3, 5),\n",
       "              (6, 3, 6),\n",
       "              (6, 4, 1),\n",
       "              (6, 4, 2),\n",
       "              (6, 4, 3),\n",
       "              (6, 4, 4),\n",
       "              (6, 4, 5),\n",
       "              (6, 4, 6),\n",
       "              (6, 5, 1),\n",
       "              (6, 5, 2),\n",
       "              (6, 5, 3),\n",
       "              (6, 5, 4),\n",
       "              (6, 5, 5),\n",
       "              (6, 5, 6),\n",
       "              (6, 6, 1),\n",
       "              (6, 6, 2),\n",
       "              (6, 6, 3),\n",
       "              (6, 6, 4),\n",
       "              (6, 6, 5),\n",
       "              (6, 6, 6)]})"
      ]
     },
     "execution_count": 43,
     "metadata": {},
     "output_type": "execute_result"
    }
   ],
   "source": [
    "dinv = defaultdict(list)\n",
    "for i, j in d.items():\n",
    "    dinv[j].append(i)\n",
    "\n",
    "dinv"
   ]
  },
  {
   "cell_type": "code",
   "execution_count": 44,
   "metadata": {},
   "outputs": [
    {
     "name": "stdout",
     "output_type": "stream",
     "text": [
      "{False: 0.37037037037037035, True: 0.6296296296296297}\n"
     ]
    }
   ],
   "source": [
    "X = {i: len(j) / 6.0**3 for i, j in dinv.items()}\n",
    "print(X)\n"
   ]
  },
  {
   "cell_type": "code",
   "execution_count": 15,
   "metadata": {},
   "outputs": [
    {
     "data": {
      "text/html": [
       "<div>\n",
       "<style scoped>\n",
       "    .dataframe tbody tr th:only-of-type {\n",
       "        vertical-align: middle;\n",
       "    }\n",
       "\n",
       "    .dataframe tbody tr th {\n",
       "        vertical-align: top;\n",
       "    }\n",
       "\n",
       "    .dataframe thead th {\n",
       "        text-align: right;\n",
       "    }\n",
       "</style>\n",
       "<table border=\"1\" class=\"dataframe\">\n",
       "  <thead>\n",
       "    <tr style=\"text-align: right;\">\n",
       "      <th></th>\n",
       "      <th>sm</th>\n",
       "      <th>d1</th>\n",
       "      <th>d2</th>\n",
       "      <th>pd1</th>\n",
       "      <th>pd2</th>\n",
       "      <th>p</th>\n",
       "    </tr>\n",
       "  </thead>\n",
       "  <tbody>\n",
       "    <tr>\n",
       "      <th>(1, 1)</th>\n",
       "      <td>NaN</td>\n",
       "      <td>NaN</td>\n",
       "      <td>NaN</td>\n",
       "      <td>NaN</td>\n",
       "      <td>NaN</td>\n",
       "      <td>NaN</td>\n",
       "    </tr>\n",
       "    <tr>\n",
       "      <th>(1, 2)</th>\n",
       "      <td>NaN</td>\n",
       "      <td>NaN</td>\n",
       "      <td>NaN</td>\n",
       "      <td>NaN</td>\n",
       "      <td>NaN</td>\n",
       "      <td>NaN</td>\n",
       "    </tr>\n",
       "    <tr>\n",
       "      <th>(1, 3)</th>\n",
       "      <td>NaN</td>\n",
       "      <td>NaN</td>\n",
       "      <td>NaN</td>\n",
       "      <td>NaN</td>\n",
       "      <td>NaN</td>\n",
       "      <td>NaN</td>\n",
       "    </tr>\n",
       "    <tr>\n",
       "      <th>(1, 4)</th>\n",
       "      <td>NaN</td>\n",
       "      <td>NaN</td>\n",
       "      <td>NaN</td>\n",
       "      <td>NaN</td>\n",
       "      <td>NaN</td>\n",
       "      <td>NaN</td>\n",
       "    </tr>\n",
       "    <tr>\n",
       "      <th>(1, 5)</th>\n",
       "      <td>NaN</td>\n",
       "      <td>NaN</td>\n",
       "      <td>NaN</td>\n",
       "      <td>NaN</td>\n",
       "      <td>NaN</td>\n",
       "      <td>NaN</td>\n",
       "    </tr>\n",
       "    <tr>\n",
       "      <th>(1, 6)</th>\n",
       "      <td>NaN</td>\n",
       "      <td>NaN</td>\n",
       "      <td>NaN</td>\n",
       "      <td>NaN</td>\n",
       "      <td>NaN</td>\n",
       "      <td>NaN</td>\n",
       "    </tr>\n",
       "    <tr>\n",
       "      <th>(2, 1)</th>\n",
       "      <td>NaN</td>\n",
       "      <td>NaN</td>\n",
       "      <td>NaN</td>\n",
       "      <td>NaN</td>\n",
       "      <td>NaN</td>\n",
       "      <td>NaN</td>\n",
       "    </tr>\n",
       "    <tr>\n",
       "      <th>(2, 2)</th>\n",
       "      <td>NaN</td>\n",
       "      <td>NaN</td>\n",
       "      <td>NaN</td>\n",
       "      <td>NaN</td>\n",
       "      <td>NaN</td>\n",
       "      <td>NaN</td>\n",
       "    </tr>\n",
       "    <tr>\n",
       "      <th>(2, 3)</th>\n",
       "      <td>NaN</td>\n",
       "      <td>NaN</td>\n",
       "      <td>NaN</td>\n",
       "      <td>NaN</td>\n",
       "      <td>NaN</td>\n",
       "      <td>NaN</td>\n",
       "    </tr>\n",
       "    <tr>\n",
       "      <th>(2, 4)</th>\n",
       "      <td>NaN</td>\n",
       "      <td>NaN</td>\n",
       "      <td>NaN</td>\n",
       "      <td>NaN</td>\n",
       "      <td>NaN</td>\n",
       "      <td>NaN</td>\n",
       "    </tr>\n",
       "    <tr>\n",
       "      <th>(2, 5)</th>\n",
       "      <td>NaN</td>\n",
       "      <td>NaN</td>\n",
       "      <td>NaN</td>\n",
       "      <td>NaN</td>\n",
       "      <td>NaN</td>\n",
       "      <td>NaN</td>\n",
       "    </tr>\n",
       "    <tr>\n",
       "      <th>(2, 6)</th>\n",
       "      <td>NaN</td>\n",
       "      <td>NaN</td>\n",
       "      <td>NaN</td>\n",
       "      <td>NaN</td>\n",
       "      <td>NaN</td>\n",
       "      <td>NaN</td>\n",
       "    </tr>\n",
       "    <tr>\n",
       "      <th>(3, 1)</th>\n",
       "      <td>NaN</td>\n",
       "      <td>NaN</td>\n",
       "      <td>NaN</td>\n",
       "      <td>NaN</td>\n",
       "      <td>NaN</td>\n",
       "      <td>NaN</td>\n",
       "    </tr>\n",
       "    <tr>\n",
       "      <th>(3, 2)</th>\n",
       "      <td>NaN</td>\n",
       "      <td>NaN</td>\n",
       "      <td>NaN</td>\n",
       "      <td>NaN</td>\n",
       "      <td>NaN</td>\n",
       "      <td>NaN</td>\n",
       "    </tr>\n",
       "    <tr>\n",
       "      <th>(3, 3)</th>\n",
       "      <td>NaN</td>\n",
       "      <td>NaN</td>\n",
       "      <td>NaN</td>\n",
       "      <td>NaN</td>\n",
       "      <td>NaN</td>\n",
       "      <td>NaN</td>\n",
       "    </tr>\n",
       "    <tr>\n",
       "      <th>(3, 4)</th>\n",
       "      <td>NaN</td>\n",
       "      <td>NaN</td>\n",
       "      <td>NaN</td>\n",
       "      <td>NaN</td>\n",
       "      <td>NaN</td>\n",
       "      <td>NaN</td>\n",
       "    </tr>\n",
       "    <tr>\n",
       "      <th>(3, 5)</th>\n",
       "      <td>NaN</td>\n",
       "      <td>NaN</td>\n",
       "      <td>NaN</td>\n",
       "      <td>NaN</td>\n",
       "      <td>NaN</td>\n",
       "      <td>NaN</td>\n",
       "    </tr>\n",
       "    <tr>\n",
       "      <th>(3, 6)</th>\n",
       "      <td>NaN</td>\n",
       "      <td>NaN</td>\n",
       "      <td>NaN</td>\n",
       "      <td>NaN</td>\n",
       "      <td>NaN</td>\n",
       "      <td>NaN</td>\n",
       "    </tr>\n",
       "    <tr>\n",
       "      <th>(4, 1)</th>\n",
       "      <td>NaN</td>\n",
       "      <td>NaN</td>\n",
       "      <td>NaN</td>\n",
       "      <td>NaN</td>\n",
       "      <td>NaN</td>\n",
       "      <td>NaN</td>\n",
       "    </tr>\n",
       "    <tr>\n",
       "      <th>(4, 2)</th>\n",
       "      <td>NaN</td>\n",
       "      <td>NaN</td>\n",
       "      <td>NaN</td>\n",
       "      <td>NaN</td>\n",
       "      <td>NaN</td>\n",
       "      <td>NaN</td>\n",
       "    </tr>\n",
       "    <tr>\n",
       "      <th>(4, 3)</th>\n",
       "      <td>NaN</td>\n",
       "      <td>NaN</td>\n",
       "      <td>NaN</td>\n",
       "      <td>NaN</td>\n",
       "      <td>NaN</td>\n",
       "      <td>NaN</td>\n",
       "    </tr>\n",
       "    <tr>\n",
       "      <th>(4, 4)</th>\n",
       "      <td>NaN</td>\n",
       "      <td>NaN</td>\n",
       "      <td>NaN</td>\n",
       "      <td>NaN</td>\n",
       "      <td>NaN</td>\n",
       "      <td>NaN</td>\n",
       "    </tr>\n",
       "    <tr>\n",
       "      <th>(4, 5)</th>\n",
       "      <td>NaN</td>\n",
       "      <td>NaN</td>\n",
       "      <td>NaN</td>\n",
       "      <td>NaN</td>\n",
       "      <td>NaN</td>\n",
       "      <td>NaN</td>\n",
       "    </tr>\n",
       "    <tr>\n",
       "      <th>(4, 6)</th>\n",
       "      <td>NaN</td>\n",
       "      <td>NaN</td>\n",
       "      <td>NaN</td>\n",
       "      <td>NaN</td>\n",
       "      <td>NaN</td>\n",
       "      <td>NaN</td>\n",
       "    </tr>\n",
       "    <tr>\n",
       "      <th>(5, 1)</th>\n",
       "      <td>NaN</td>\n",
       "      <td>NaN</td>\n",
       "      <td>NaN</td>\n",
       "      <td>NaN</td>\n",
       "      <td>NaN</td>\n",
       "      <td>NaN</td>\n",
       "    </tr>\n",
       "    <tr>\n",
       "      <th>(5, 2)</th>\n",
       "      <td>NaN</td>\n",
       "      <td>NaN</td>\n",
       "      <td>NaN</td>\n",
       "      <td>NaN</td>\n",
       "      <td>NaN</td>\n",
       "      <td>NaN</td>\n",
       "    </tr>\n",
       "    <tr>\n",
       "      <th>(5, 3)</th>\n",
       "      <td>NaN</td>\n",
       "      <td>NaN</td>\n",
       "      <td>NaN</td>\n",
       "      <td>NaN</td>\n",
       "      <td>NaN</td>\n",
       "      <td>NaN</td>\n",
       "    </tr>\n",
       "    <tr>\n",
       "      <th>(5, 4)</th>\n",
       "      <td>NaN</td>\n",
       "      <td>NaN</td>\n",
       "      <td>NaN</td>\n",
       "      <td>NaN</td>\n",
       "      <td>NaN</td>\n",
       "      <td>NaN</td>\n",
       "    </tr>\n",
       "    <tr>\n",
       "      <th>(5, 5)</th>\n",
       "      <td>NaN</td>\n",
       "      <td>NaN</td>\n",
       "      <td>NaN</td>\n",
       "      <td>NaN</td>\n",
       "      <td>NaN</td>\n",
       "      <td>NaN</td>\n",
       "    </tr>\n",
       "    <tr>\n",
       "      <th>(5, 6)</th>\n",
       "      <td>NaN</td>\n",
       "      <td>NaN</td>\n",
       "      <td>NaN</td>\n",
       "      <td>NaN</td>\n",
       "      <td>NaN</td>\n",
       "      <td>NaN</td>\n",
       "    </tr>\n",
       "    <tr>\n",
       "      <th>(6, 1)</th>\n",
       "      <td>NaN</td>\n",
       "      <td>NaN</td>\n",
       "      <td>NaN</td>\n",
       "      <td>NaN</td>\n",
       "      <td>NaN</td>\n",
       "      <td>NaN</td>\n",
       "    </tr>\n",
       "    <tr>\n",
       "      <th>(6, 2)</th>\n",
       "      <td>NaN</td>\n",
       "      <td>NaN</td>\n",
       "      <td>NaN</td>\n",
       "      <td>NaN</td>\n",
       "      <td>NaN</td>\n",
       "      <td>NaN</td>\n",
       "    </tr>\n",
       "    <tr>\n",
       "      <th>(6, 3)</th>\n",
       "      <td>NaN</td>\n",
       "      <td>NaN</td>\n",
       "      <td>NaN</td>\n",
       "      <td>NaN</td>\n",
       "      <td>NaN</td>\n",
       "      <td>NaN</td>\n",
       "    </tr>\n",
       "    <tr>\n",
       "      <th>(6, 4)</th>\n",
       "      <td>NaN</td>\n",
       "      <td>NaN</td>\n",
       "      <td>NaN</td>\n",
       "      <td>NaN</td>\n",
       "      <td>NaN</td>\n",
       "      <td>NaN</td>\n",
       "    </tr>\n",
       "    <tr>\n",
       "      <th>(6, 5)</th>\n",
       "      <td>NaN</td>\n",
       "      <td>NaN</td>\n",
       "      <td>NaN</td>\n",
       "      <td>NaN</td>\n",
       "      <td>NaN</td>\n",
       "      <td>NaN</td>\n",
       "    </tr>\n",
       "    <tr>\n",
       "      <th>(6, 6)</th>\n",
       "      <td>NaN</td>\n",
       "      <td>NaN</td>\n",
       "      <td>NaN</td>\n",
       "      <td>NaN</td>\n",
       "      <td>NaN</td>\n",
       "      <td>NaN</td>\n",
       "    </tr>\n",
       "  </tbody>\n",
       "</table>\n",
       "</div>"
      ],
      "text/plain": [
       "         sm   d1   d2  pd1  pd2    p\n",
       "(1, 1)  NaN  NaN  NaN  NaN  NaN  NaN\n",
       "(1, 2)  NaN  NaN  NaN  NaN  NaN  NaN\n",
       "(1, 3)  NaN  NaN  NaN  NaN  NaN  NaN\n",
       "(1, 4)  NaN  NaN  NaN  NaN  NaN  NaN\n",
       "(1, 5)  NaN  NaN  NaN  NaN  NaN  NaN\n",
       "(1, 6)  NaN  NaN  NaN  NaN  NaN  NaN\n",
       "(2, 1)  NaN  NaN  NaN  NaN  NaN  NaN\n",
       "(2, 2)  NaN  NaN  NaN  NaN  NaN  NaN\n",
       "(2, 3)  NaN  NaN  NaN  NaN  NaN  NaN\n",
       "(2, 4)  NaN  NaN  NaN  NaN  NaN  NaN\n",
       "(2, 5)  NaN  NaN  NaN  NaN  NaN  NaN\n",
       "(2, 6)  NaN  NaN  NaN  NaN  NaN  NaN\n",
       "(3, 1)  NaN  NaN  NaN  NaN  NaN  NaN\n",
       "(3, 2)  NaN  NaN  NaN  NaN  NaN  NaN\n",
       "(3, 3)  NaN  NaN  NaN  NaN  NaN  NaN\n",
       "(3, 4)  NaN  NaN  NaN  NaN  NaN  NaN\n",
       "(3, 5)  NaN  NaN  NaN  NaN  NaN  NaN\n",
       "(3, 6)  NaN  NaN  NaN  NaN  NaN  NaN\n",
       "(4, 1)  NaN  NaN  NaN  NaN  NaN  NaN\n",
       "(4, 2)  NaN  NaN  NaN  NaN  NaN  NaN\n",
       "(4, 3)  NaN  NaN  NaN  NaN  NaN  NaN\n",
       "(4, 4)  NaN  NaN  NaN  NaN  NaN  NaN\n",
       "(4, 5)  NaN  NaN  NaN  NaN  NaN  NaN\n",
       "(4, 6)  NaN  NaN  NaN  NaN  NaN  NaN\n",
       "(5, 1)  NaN  NaN  NaN  NaN  NaN  NaN\n",
       "(5, 2)  NaN  NaN  NaN  NaN  NaN  NaN\n",
       "(5, 3)  NaN  NaN  NaN  NaN  NaN  NaN\n",
       "(5, 4)  NaN  NaN  NaN  NaN  NaN  NaN\n",
       "(5, 5)  NaN  NaN  NaN  NaN  NaN  NaN\n",
       "(5, 6)  NaN  NaN  NaN  NaN  NaN  NaN\n",
       "(6, 1)  NaN  NaN  NaN  NaN  NaN  NaN\n",
       "(6, 2)  NaN  NaN  NaN  NaN  NaN  NaN\n",
       "(6, 3)  NaN  NaN  NaN  NaN  NaN  NaN\n",
       "(6, 4)  NaN  NaN  NaN  NaN  NaN  NaN\n",
       "(6, 5)  NaN  NaN  NaN  NaN  NaN  NaN\n",
       "(6, 6)  NaN  NaN  NaN  NaN  NaN  NaN"
      ]
     },
     "execution_count": 15,
     "metadata": {},
     "output_type": "execute_result"
    }
   ],
   "source": [
    "d = pd.DataFrame(\n",
    "    index=[(i, j) for i in range(1, 7) for j in range(1, 7)],\n",
    "    columns=[\"sm\", \"d1\", \"d2\", \"pd1\", \"pd2\", \"p\"],\n",
    ")\n",
    "d"
   ]
  },
  {
   "cell_type": "code",
   "execution_count": 16,
   "metadata": {},
   "outputs": [
    {
     "data": {
      "text/plain": [
       "(         sm  d1  d2  pd1  pd2    p\n",
       " (1, 1)  NaN   1   1  NaN  NaN  NaN\n",
       " (1, 2)  NaN   1   2  NaN  NaN  NaN\n",
       " (1, 3)  NaN   1   3  NaN  NaN  NaN\n",
       " (1, 4)  NaN   1   4  NaN  NaN  NaN\n",
       " (1, 5)  NaN   1   5  NaN  NaN  NaN,\n",
       "          sm  d1  d2  pd1  pd2    p\n",
       " (6, 2)  NaN   6   2  NaN  NaN  NaN\n",
       " (6, 3)  NaN   6   3  NaN  NaN  NaN\n",
       " (6, 4)  NaN   6   4  NaN  NaN  NaN\n",
       " (6, 5)  NaN   6   5  NaN  NaN  NaN\n",
       " (6, 6)  NaN   6   6  NaN  NaN  NaN)"
      ]
     },
     "execution_count": 16,
     "metadata": {},
     "output_type": "execute_result"
    }
   ],
   "source": [
    "d.d1 = [i[0] for i in d.index]\n",
    "d.d2 = [i[1] for i in d.index]\n",
    "\n",
    "d.head(), d.tail()"
   ]
  },
  {
   "cell_type": "code",
   "execution_count": 17,
   "metadata": {},
   "outputs": [
    {
     "data": {
      "text/html": [
       "<div>\n",
       "<style scoped>\n",
       "    .dataframe tbody tr th:only-of-type {\n",
       "        vertical-align: middle;\n",
       "    }\n",
       "\n",
       "    .dataframe tbody tr th {\n",
       "        vertical-align: top;\n",
       "    }\n",
       "\n",
       "    .dataframe thead th {\n",
       "        text-align: right;\n",
       "    }\n",
       "</style>\n",
       "<table border=\"1\" class=\"dataframe\">\n",
       "  <thead>\n",
       "    <tr style=\"text-align: right;\">\n",
       "      <th></th>\n",
       "      <th>sm</th>\n",
       "      <th>d1</th>\n",
       "      <th>d2</th>\n",
       "      <th>pd1</th>\n",
       "      <th>pd2</th>\n",
       "      <th>p</th>\n",
       "    </tr>\n",
       "  </thead>\n",
       "  <tbody>\n",
       "    <tr>\n",
       "      <th>(1, 1)</th>\n",
       "      <td>2</td>\n",
       "      <td>1</td>\n",
       "      <td>1</td>\n",
       "      <td>NaN</td>\n",
       "      <td>NaN</td>\n",
       "      <td>NaN</td>\n",
       "    </tr>\n",
       "    <tr>\n",
       "      <th>(1, 2)</th>\n",
       "      <td>3</td>\n",
       "      <td>1</td>\n",
       "      <td>2</td>\n",
       "      <td>NaN</td>\n",
       "      <td>NaN</td>\n",
       "      <td>NaN</td>\n",
       "    </tr>\n",
       "    <tr>\n",
       "      <th>(1, 3)</th>\n",
       "      <td>4</td>\n",
       "      <td>1</td>\n",
       "      <td>3</td>\n",
       "      <td>NaN</td>\n",
       "      <td>NaN</td>\n",
       "      <td>NaN</td>\n",
       "    </tr>\n",
       "    <tr>\n",
       "      <th>(1, 4)</th>\n",
       "      <td>5</td>\n",
       "      <td>1</td>\n",
       "      <td>4</td>\n",
       "      <td>NaN</td>\n",
       "      <td>NaN</td>\n",
       "      <td>NaN</td>\n",
       "    </tr>\n",
       "    <tr>\n",
       "      <th>(1, 5)</th>\n",
       "      <td>6</td>\n",
       "      <td>1</td>\n",
       "      <td>5</td>\n",
       "      <td>NaN</td>\n",
       "      <td>NaN</td>\n",
       "      <td>NaN</td>\n",
       "    </tr>\n",
       "  </tbody>\n",
       "</table>\n",
       "</div>"
      ],
      "text/plain": [
       "        sm  d1  d2  pd1  pd2    p\n",
       "(1, 1)   2   1   1  NaN  NaN  NaN\n",
       "(1, 2)   3   1   2  NaN  NaN  NaN\n",
       "(1, 3)   4   1   3  NaN  NaN  NaN\n",
       "(1, 4)   5   1   4  NaN  NaN  NaN\n",
       "(1, 5)   6   1   5  NaN  NaN  NaN"
      ]
     },
     "execution_count": 17,
     "metadata": {},
     "output_type": "execute_result"
    }
   ],
   "source": [
    "d[\"sm\"] = d[\"d1\"] + d[\"d2\"]\n",
    "d.head()"
   ]
  },
  {
   "cell_type": "code",
   "execution_count": 19,
   "metadata": {},
   "outputs": [
    {
     "data": {
      "text/html": [
       "<div>\n",
       "<style scoped>\n",
       "    .dataframe tbody tr th:only-of-type {\n",
       "        vertical-align: middle;\n",
       "    }\n",
       "\n",
       "    .dataframe tbody tr th {\n",
       "        vertical-align: top;\n",
       "    }\n",
       "\n",
       "    .dataframe thead th {\n",
       "        text-align: right;\n",
       "    }\n",
       "</style>\n",
       "<table border=\"1\" class=\"dataframe\">\n",
       "  <thead>\n",
       "    <tr style=\"text-align: right;\">\n",
       "      <th></th>\n",
       "      <th>sm</th>\n",
       "      <th>d1</th>\n",
       "      <th>d2</th>\n",
       "      <th>pd1</th>\n",
       "      <th>pd2</th>\n",
       "      <th>p</th>\n",
       "    </tr>\n",
       "  </thead>\n",
       "  <tbody>\n",
       "    <tr>\n",
       "      <th>(1, 1)</th>\n",
       "      <td>2</td>\n",
       "      <td>1</td>\n",
       "      <td>1</td>\n",
       "      <td>0.166667</td>\n",
       "      <td>0.166667</td>\n",
       "      <td>0.027778</td>\n",
       "    </tr>\n",
       "    <tr>\n",
       "      <th>(1, 2)</th>\n",
       "      <td>3</td>\n",
       "      <td>1</td>\n",
       "      <td>2</td>\n",
       "      <td>0.166667</td>\n",
       "      <td>0.166667</td>\n",
       "      <td>0.027778</td>\n",
       "    </tr>\n",
       "    <tr>\n",
       "      <th>(1, 3)</th>\n",
       "      <td>4</td>\n",
       "      <td>1</td>\n",
       "      <td>3</td>\n",
       "      <td>0.166667</td>\n",
       "      <td>0.166667</td>\n",
       "      <td>0.027778</td>\n",
       "    </tr>\n",
       "    <tr>\n",
       "      <th>(1, 4)</th>\n",
       "      <td>5</td>\n",
       "      <td>1</td>\n",
       "      <td>4</td>\n",
       "      <td>0.166667</td>\n",
       "      <td>0.166667</td>\n",
       "      <td>0.027778</td>\n",
       "    </tr>\n",
       "    <tr>\n",
       "      <th>(1, 5)</th>\n",
       "      <td>6</td>\n",
       "      <td>1</td>\n",
       "      <td>5</td>\n",
       "      <td>0.166667</td>\n",
       "      <td>0.166667</td>\n",
       "      <td>0.027778</td>\n",
       "    </tr>\n",
       "  </tbody>\n",
       "</table>\n",
       "</div>"
      ],
      "text/plain": [
       "        sm  d1  d2       pd1       pd2         p\n",
       "(1, 1)   2   1   1  0.166667  0.166667  0.027778\n",
       "(1, 2)   3   1   2  0.166667  0.166667  0.027778\n",
       "(1, 3)   4   1   3  0.166667  0.166667  0.027778\n",
       "(1, 4)   5   1   4  0.166667  0.166667  0.027778\n",
       "(1, 5)   6   1   5  0.166667  0.166667  0.027778"
      ]
     },
     "execution_count": 19,
     "metadata": {},
     "output_type": "execute_result"
    }
   ],
   "source": [
    "d[\"pd1\"] = 1/6\n",
    "d[\"pd2\"] = 1/6\n",
    "d[\"p\"] = d[\"pd1\"] * d[\"pd2\"]\n",
    "d.head()"
   ]
  },
  {
   "cell_type": "code",
   "execution_count": 20,
   "metadata": {},
   "outputs": [
    {
     "data": {
      "text/plain": [
       "1.0"
      ]
     },
     "execution_count": 20,
     "metadata": {},
     "output_type": "execute_result"
    }
   ],
   "source": [
    "d[\"p\"].sum()"
   ]
  },
  {
   "cell_type": "code",
   "execution_count": 21,
   "metadata": {},
   "outputs": [
    {
     "data": {
      "text/plain": [
       "sm\n",
       "2     0.027778\n",
       "3     0.055556\n",
       "4     0.083333\n",
       "5     0.111111\n",
       "6     0.138889\n",
       "7     0.166667\n",
       "8     0.138889\n",
       "9     0.111111\n",
       "10    0.083333\n",
       "11    0.055556\n",
       "12    0.027778\n",
       "Name: p, dtype: float64"
      ]
     },
     "execution_count": 21,
     "metadata": {},
     "output_type": "execute_result"
    }
   ],
   "source": [
    "d.groupby('sm')['p'].sum()"
   ]
  },
  {
   "attachments": {},
   "cell_type": "markdown",
   "metadata": {},
   "source": [
    "## Watermark"
   ]
  },
  {
   "cell_type": "code",
   "execution_count": null,
   "metadata": {},
   "outputs": [],
   "source": [
    "%load_ext watermark\n",
    "%watermark -n -u -v -iv -w"
   ]
  }
 ],
 "metadata": {
  "kernelspec": {
   "display_name": "pymc",
   "language": "python",
   "name": "python3"
  },
  "language_info": {
   "codemirror_mode": {
    "name": "ipython",
    "version": 3
   },
   "file_extension": ".py",
   "mimetype": "text/x-python",
   "name": "python",
   "nbconvert_exporter": "python",
   "pygments_lexer": "ipython3",
   "version": "3.10.9"
  },
  "orig_nbformat": 4
 },
 "nbformat": 4,
 "nbformat_minor": 2
}
