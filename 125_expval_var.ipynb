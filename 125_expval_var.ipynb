{
 "cells": [
  {
   "attachments": {},
   "cell_type": "markdown",
   "metadata": {},
   "source": [
    "<a target=\"_blank\" rel=\"noopener noreferrer\" href=\"https://colab.research.google.com/github/ccaudek/ds4psy_2023/blob/main/125_expval_var.ipynb\">![Open In Colab](https://colab.research.google.com/assets/colab-badge.svg)</a>\n",
    "\n",
    "\n",
    "(random_variables_notebook)=\n",
    "# Variabili casuali "
   ]
  },
  {
   "attachments": {},
   "cell_type": "markdown",
   "metadata": {},
   "source": [
    "Una variabile casuale è una funzione che associa un numero a ciascun evento elementare nello spazio campione. In altre parole, la variabile casuale è una regola che mappa gli eventi elementari a dei numeri. Ad esempio, consideriamo lo spazio campione di lanciare una moneta. Gli eventi elementari sono \"testa\" e \"croce\". Possiamo definire una variabile casuale che assegna il valore 1 all'evento elementare \"testa\" e il valore 0 all'evento elementare \"croce\". Quindi, la variabile casuale in questo caso è una funzione che associa gli eventi elementari \"testa\" e \"croce\" ai numeri 1 e 0, rispettivamente. In sintesi, una variabile casuale è una funzione matematica che rappresenta la misura di una quantità associata a un evento casuale, ovvero un valore numerico che descrive il risultato dell'esperimento casuale.\n",
    "\n",
    "Spesso è utile sintetizzare la distribuzione di una variabile casuale tramite indicatori caratteristici.  Questi indicatori permettono di cogliere le caratteristiche principali della distribuzione, come la posizione (cioè il baricentro) e la variabilità (cioè la dispersione attorno ad un centro). In questo modo, si può avere una descrizione sintetica della distribuzione di probabilità della variabile casuale. In questo capitolo introdurremo i concetti di valore atteso e di varianza di una variabile casule. \n",
    "\n",
    "## Valore atteso\n",
    "\n",
    "Quando vogliamo conoscere il comportamento tipico di una variabile casuale spesso vogliamo sapere qual è il suo \"valore tipico\". La nozione di \"valore tipico\", tuttavia, è ambigua. Infatti, essa può essere definita in almeno tre modi diversi:\n",
    "\n",
    "-   la *media* (somma dei valori divisa per il numero dei valori),\n",
    "-   la *mediana* (il valore centrale della distribuzione, quando la variabile è ordinata in senso crescente o decrescente),\n",
    "-   la *moda* (il valore che ricorre più spesso).\n",
    "\n",
    "Per esempio, la media di $\\{3, 1, 4, 1, 5\\}$ è $\\frac{3+1+4+1+5}{5} = 2.8$, la mediana è $3$ e la moda è $1$. Tuttavia, la teoria delle probabilità si occupa di variabili casuali piuttosto che di sequenze di numeri. Diventa dunque necessario precisare che cosa intendiamo per \"valore tipico\" quando facciamo riferimento alle variabili casuali. Giungiamo così alla seguente definizione.\n",
    "\n",
    "```{admonition} Definizione\n",
    "Sia $Y$ è una variabile casuale discreta che assume i valori $y_1, \\dots, y_n$ con distribuzione $P(Y = y_i) = p(y_i)$. Per definizione il *valore atteso* di $Y$, $\\mathbb{E}(Y)$, è\n",
    "\n",
    "$$\n",
    "\\mathbb{E}(Y) = \\sum_{i=1}^n y_i \\cdot p(y_i).\n",
    "$$ (eq-expval-discr)\n",
    "```\n",
    "\n",
    "A parole: il valore atteso (o speranza matematica, o aspettazione, o valor medio) di una variabile casuale è definito come la somma di tutti i valori che la variabile casuale può prendere, ciascuno pesato dalla probabilità con cui il valore è preso.\n",
    "\n",
    "Per fare un esempio, calcoliamo il valore atteso della variabile casuale $Y$ corrispondente al lancio di una moneta equilibrata (testa: *Y* = 1; croce: *Y* = 0):\n",
    "\n",
    "$$\n",
    "\\mathbb{E}(Y) = \\sum_{i=1}^{2} y_i \\cdot P(y_i) = 0 \\cdot \\frac{1}{5} + 1 \\cdot \\frac{1}{5} = 0.5.\n",
    "$$\n",
    "\n",
    "In un altro esempio, calcoliamo il valore atteso della variabile casuale $X$ corrispondente alla somma dei punti ottenuti dal lancio di due dadi equilibrati a sei facce. \n",
    "\n",
    "Abbiamo visto nel capitolo {ref}`intro_prob_notebook` che $X$ può assumere i valori [2, 3, 4, 5, 6, 7, 8, 9, 10, 11, 12] con distribuzione di massa di probabilità pari a [1/36, 2/36, 3/36, 4/36, 5/36, 6/36, 5/36, 4/36, 3/36, 2/36, 1/36]. Applicando l'eq. {eq}`eq-expval-discr` otteniamo:\n",
    "\n",
    "$$\n",
    "\\mathbb{E}(X) = \\sum_{i=1}^{11} x_i \\cdot P(x_i) = 2 \\cdot \\frac{1}{36} + 3 \\cdot \\frac{2}{36} + \\dots + 12 \\cdot \\frac{1}{36} = 7.0.\n",
    "$$\n",
    "\n",
    "Svolgiamo ora l'esercizio in Python. "
   ]
  },
  {
   "cell_type": "code",
   "execution_count": 1,
   "metadata": {},
   "outputs": [],
   "source": [
    "import numpy as np\n",
    "from scipy import stats as st\n",
    "import matplotlib.pyplot as plt\n",
    "import seaborn as sns\n",
    "import arviz as az\n",
    "from scipy.constants import golden"
   ]
  },
  {
   "cell_type": "code",
   "execution_count": 2,
   "metadata": {},
   "outputs": [],
   "source": [
    "%matplotlib inline\n",
    "%config InlineBackend.figure_format = 'retina'\n",
    "# Initialize random number generator\n",
    "RANDOM_SEED = 8927\n",
    "rng = np.random.default_rng(RANDOM_SEED)\n",
    "sns.set(color_codes=True)\n",
    "az.style.use(\"arviz-darkgrid\")\n",
    "sns.set_theme(\n",
    "    context=\"paper\",\n",
    "    palette=\"colorblind\",\n",
    ")"
   ]
  },
  {
   "attachments": {},
   "cell_type": "markdown",
   "metadata": {},
   "source": [
    "Definisco i valori della variabile casuale $X$ e li trasformiamo in un array NumPy:"
   ]
  },
  {
   "cell_type": "code",
   "execution_count": 53,
   "metadata": {},
   "outputs": [
    {
     "data": {
      "text/plain": [
       "array([ 2,  3,  4,  5,  6,  7,  8,  9, 10, 11, 12])"
      ]
     },
     "execution_count": 53,
     "metadata": {},
     "output_type": "execute_result"
    }
   ],
   "source": [
    "x = np.array(list(range(2, 13)))\n",
    "x"
   ]
  },
  {
   "attachments": {},
   "cell_type": "markdown",
   "metadata": {},
   "source": [
    "Per trovare la distribuzione di massa della variabile $X$ ripeto qui il codice che abbiamo usato nel capitolo {ref}`intro_prob_notebook`."
   ]
  },
  {
   "cell_type": "code",
   "execution_count": 54,
   "metadata": {},
   "outputs": [
    {
     "data": {
      "text/plain": [
       "array([0.02777778, 0.05555556, 0.08333333, 0.11111111, 0.13888889,\n",
       "       0.16666667, 0.13888889, 0.11111111, 0.08333333, 0.05555556,\n",
       "       0.02777778])"
      ]
     },
     "execution_count": 54,
     "metadata": {},
     "output_type": "execute_result"
    }
   ],
   "source": [
    "r = range(1, 7)\n",
    "sample = [(i, j) for i in r for j in r]\n",
    "\n",
    "px = []\n",
    "\n",
    "for i in range(2, 13):\n",
    "    event = [roll for roll in sample if sum(roll) == i]\n",
    "    px.append(len(event) / len(sample))\n",
    "\n",
    "px = np.array(px)\n",
    "px"
   ]
  },
  {
   "attachments": {},
   "cell_type": "markdown",
   "metadata": {},
   "source": [
    "Calcolo ora il valore atteso della $X$ usando l'eq. {eq}`eq-expval-discr`:"
   ]
  },
  {
   "cell_type": "code",
   "execution_count": 79,
   "metadata": {},
   "outputs": [
    {
     "data": {
      "text/plain": [
       "7.0"
      ]
     },
     "execution_count": 79,
     "metadata": {},
     "output_type": "execute_result"
    }
   ],
   "source": [
    "ex = np.sum(x * px)\n",
    "ex.round(3)"
   ]
  },
  {
   "attachments": {},
   "cell_type": "markdown",
   "metadata": {},
   "source": [
    "In alternativa, posso usare le funzioni del modulo `rv_discrete` della libreria `stats`:"
   ]
  },
  {
   "cell_type": "code",
   "execution_count": 97,
   "metadata": {},
   "outputs": [],
   "source": [
    "x = np.arange(2, 13)\n",
    "px = np.array([1/36, 2/36, 3/36, 4/36, 5/36, 6/36, 5/36, 4/36, 3/36, 2/36, 1/36])\n",
    "X = st.rv_discrete(values=(x, px))"
   ]
  },
  {
   "attachments": {},
   "cell_type": "markdown",
   "metadata": {},
   "source": [
    "Una volta definito l'oggetto $X$ con `rv_discrete()`, il valore atteso viene ritornato dalla funzione `expect()`:"
   ]
  },
  {
   "cell_type": "code",
   "execution_count": 94,
   "metadata": {},
   "outputs": [
    {
     "data": {
      "text/plain": [
       "7.0"
      ]
     },
     "execution_count": 94,
     "metadata": {},
     "output_type": "execute_result"
    }
   ],
   "source": [
    "x_ev = X.expect()\n",
    "round(x_ev, 3)"
   ]
  },
  {
   "attachments": {},
   "cell_type": "markdown",
   "metadata": {},
   "source": [
    "### Interpretazione\n",
    "\n",
    "Il valore atteso corrisponde alla media aritmetica di un grande numero di realizzazioni indipendenti della variabile casuale.\n",
    "\n",
    "Per fare un esempio, ritorniamo all'esempio precedente relativo al lancio di due dadi bilanciati a sei facce nel quale $X$ rappresenta la \"somma dei due dadi\". Per interpretare il valore atteso, simuliamo un grande numero di realizzazioni indipendenti della $X$ mediante la funzione `random.choice()` della libreria NumPy. Tale funzione prende come argomenti i valori della variabile casuale, il numero di ripetizioni indipedenti (qui 1,000,000) e la distribuzione di massa di probabilità:"
   ]
  },
  {
   "cell_type": "code",
   "execution_count": 95,
   "metadata": {},
   "outputs": [],
   "source": [
    "x_samples = np.random.choice(x, size=1000000, p=px)"
   ]
  },
  {
   "attachments": {},
   "cell_type": "markdown",
   "metadata": {},
   "source": [
    "L'istruzione `np.random.choice(x, size=1000000, p=px)` utilizza la libreria NumPy per generare un array di 1.000.000 di elementi (parametro `size`), scelti casualmente dall'array `x` con le probabilità specificate nell'array `px`. In particolare, `x` è l'array di cui si vuole effettuare una scelta casuale e `px` è un array che contiene le probabilità associate ad ogni elemento di `x`. \n",
    "\n",
    "Come ci aspettavamo, per un grande numero di realizzazioni indipendenti della $X$, la media aritmetica approssima il valore atteso:"
   ]
  },
  {
   "cell_type": "code",
   "execution_count": 96,
   "metadata": {},
   "outputs": [
    {
     "data": {
      "text/plain": [
       "7.0"
      ]
     },
     "execution_count": 96,
     "metadata": {},
     "output_type": "execute_result"
    }
   ],
   "source": [
    "np.mean(x_samples).round(3)"
   ]
  },
  {
   "attachments": {},
   "cell_type": "markdown",
   "metadata": {},
   "source": [
    "### Proprietà del valore atteso\n",
    "\n",
    "La proprietà più importante del valore atteso è la linearità: il valore atteso di una somma di variabili casuali è uguale alla somma dei lori rispettivi valori attesi:\n",
    "\n",
    "$$\n",
    "\\mathbb{E}(X + Y) = \\mathbb{E}(X) + \\mathbb{E}(Y).\n",
    "$$ (eq-prop-expval-linearity)\n",
    "\n",
    "L'eq. {eq}`eq-prop-expval-linearity` sembra ragionevole quando $X$ e $Y$ sono indipendenti, ma è anche vera quando $X$ e $Y$ sono associati. Abbiamo anche che\n",
    "\n",
    "$$\n",
    "\\mathbb{E}(cY) = c \\mathbb{E}(Y).\n",
    "$$ (eq-prop-expval-const)\n",
    "\n",
    "L'eq. {eq}`eq-prop-expval-const` ci dice che possiamo estrarre una costante dall'operatore di valore atteso. Tale proprietà si estende a qualunque numero di variabili casuali. Infine, se due variabili casuali $X$ e $Y$ sono indipendenti, abbiamo che\n",
    "\n",
    "$$\n",
    "\\mathbb{E}(X Y) = \\mathbb{E}(X) \\mathbb{E}(Y). \n",
    "$$ (eq-expval-prod-ind-rv)\n",
    "\n",
    "La media aritmetica $\\textstyle {\\bar  {X}}={\\frac  {X_{1}+\\ldots +X_{n}}{n}}$ di $n$ variabili casuali indipendenti aventi la medesima distribuzione di media $\\mu$ ha valore atteso \n",
    "\n",
    "$$\n",
    "\\mathbb{E}(\\bar{X}) = \\frac{1}{n} \\mathbb{E}(X_1)+ \\dots \\mathbb{E}(X_n) = \\frac{1}{n} n \\mathbb{E}(X) = \\mu.\n",
    "$$\n",
    "\n",
    "\n",
    "Facciamo un esempio considerando il seguente esperimento casuale. Sia $Y$ il numero che si ottiene dal lancio di un dado equilibrato a sei facce e $Y$ il numero di teste prodotto dal lancio di una moneta equilibrata (0 oppure 1). Troviamo il valore atteso di $X+Y$.\n",
    "\n",
    "Per risolvere il problema iniziamo a costruire lo spazio campione dell'esperimento casuale.\n",
    "\n",
    "| $x /\\ y$ |   1    |   2    |   3    |   4    |   5    |   6    |\n",
    "|:--------------------:|:------:|:------:|:------:|:------:|:------:|:------:|\n",
    "|          0           | (0, 1) | (0, 2) | (0, 3) | (0, 4) | (0, 5) | (0, 6) |\n",
    "|          1           | (1, 1) | (1, 2) | (1, 3) | (1, 4) | (1, 5) | (1, 6) |\n",
    "\n",
    "ovvero\n",
    "\n",
    "| $x /\\ y$ |  1  |  2  |  3  |  4  |  5  |  6  |\n",
    "|:--------------------:|:---:|:---:|:---:|:---:|:---:|:---:|\n",
    "|          0           |  1  |  2  |  3  |  4  |  5  |  6  |\n",
    "|          1           |  2  |  3  |  4  |  5  |  6  |  7  |\n",
    "\n",
    "Il risultato del lancio del dado è indipendente dal risultato del lancio della moneta. Pertanto, ciascun evento elementare dello spazio campione avrà la stessa probabilità di verificarsi, ovvero $P(\\omega) = \\frac{1}{12}$. Il valore atteso di $X+Y$ è dunque uguale a:\n",
    "\n",
    "$$\n",
    "\\mathbb{E}(X+Y) = 1 \\cdot \\frac{1}{12} + 2 \\cdot \\frac{1}{12} + \\dots + 7 \\cdot \\frac{1}{12} = 4.0.\n",
    "$$\n",
    "\n",
    "Si ottiene lo stesso risultato usando l'eq. {eq}`eq-prop-expval-linearity`:\n",
    "\n",
    "$$\n",
    "\\mathbb{E}(X+Y) = \\mathbb{E}(X) + E(Y) = 3.5 + 0.5 = 4.0.\n",
    "$$\n"
   ]
  },
  {
   "attachments": {},
   "cell_type": "markdown",
   "metadata": {},
   "source": [
    "Svolgiamo ora l'esercizio in Python."
   ]
  },
  {
   "cell_type": "code",
   "execution_count": 102,
   "metadata": {},
   "outputs": [
    {
     "data": {
      "text/plain": [
       "[(0, 1),\n",
       " (0, 2),\n",
       " (0, 3),\n",
       " (0, 4),\n",
       " (0, 5),\n",
       " (0, 6),\n",
       " (1, 1),\n",
       " (1, 2),\n",
       " (1, 3),\n",
       " (1, 4),\n",
       " (1, 5),\n",
       " (1, 6)]"
      ]
     },
     "execution_count": 102,
     "metadata": {},
     "output_type": "execute_result"
    }
   ],
   "source": [
    "coin = range(0, 2)\n",
    "die = range(1, 7)\n",
    "\n",
    "sample = [(c, d) for c in coin for d in die]\n",
    "list(sample)"
   ]
  },
  {
   "cell_type": "code",
   "execution_count": 114,
   "metadata": {},
   "outputs": [
    {
     "name": "stdout",
     "output_type": "stream",
     "text": [
      "P(X + Y = 1) = 1 / 12\n",
      "P(X + Y = 2) = 2 / 12\n",
      "P(X + Y = 3) = 2 / 12\n",
      "P(X + Y = 4) = 2 / 12\n",
      "P(X + Y = 5) = 2 / 12\n",
      "P(X + Y = 6) = 2 / 12\n",
      "P(X + Y = 7) = 1 / 12\n"
     ]
    }
   ],
   "source": [
    "px = []\n",
    "for i in range(1, 8):\n",
    "    event = [roll for roll in sample if sum(roll) == i]\n",
    "    px.append(len(event) / len(sample))\n",
    "    print(f\"P(X + Y = {i}) = {len(event)} / {len(sample)}\")\n"
   ]
  },
  {
   "cell_type": "code",
   "execution_count": 111,
   "metadata": {},
   "outputs": [
    {
     "data": {
      "text/plain": [
       "4.0"
      ]
     },
     "execution_count": 111,
     "metadata": {},
     "output_type": "execute_result"
    }
   ],
   "source": [
    "x = np.arange(1, 8)\n",
    "sum(x * px)"
   ]
  },
  {
   "attachments": {},
   "cell_type": "markdown",
   "metadata": {},
   "source": [
    "Facciamo un altro esempio. Consideriamo le variabili casuali $X$ e $Y$ definite nel caso del lancio di tre monete equilibrate, dove $X$ conta il numero delle teste nei tre lanci e $Y$ conta il numero delle teste al primo lancio. Si calcoli il valore atteso di $Z = X \\cdot Y$.\n",
    "\n",
    "La distribuzione di probabilità congiunta $P(X, Y)$ è fornita nella tabella seguente.\n",
    "\n",
    "| $x /\\ y$ |  0  |  1  | $p(Y)$ |\n",
    "|:--------------------:|:---:|:---:|:------:|\n",
    "|          0           | 1/8 |  0  |  1/8   |\n",
    "|          1           | 2/8 | 1/8 |  3/8   |\n",
    "|          2           | 1/8 | 2/8 |  3/8   |\n",
    "|          3           |  0  | 1/8 |  1/8   |\n",
    "|        $p(y)$        | 4/8 | 4/8 |  1.0   |\n",
    "\n",
    "Il calcolo del valore atteso di $XY$ si riduce a\n",
    "\n",
    "$$\n",
    "\\mathbb{E}(Z) = 1 \\cdot \\frac{1}{8} + 2 \\cdot \\frac{2}{8} + 3 \\cdot \\frac{1}{8} = 1.0.\n",
    "$$\n",
    "\n",
    "Si noti che le variabili casuali $Y$ e $Y$ non sono indipendenti. Dunque non possiamo usare l'eq. {eq}`eq-expval-prod-ind-rv`. Infatti, il valore atteso di $X$ è\n",
    "\n",
    "$$\n",
    "\\mathbb{E}(X) = 1 \\cdot \\frac{3}{8} + 2 \\cdot \\frac{3}{8} + 3 \\cdot \\frac{1}{8} = 1.5\n",
    "$$\n",
    "\n",
    "e il valore atteso di $Y$ è\n",
    "\n",
    "$$\n",
    "\\mathbb{E}(Y) = 0 \\cdot \\frac{4}{8} + 1 \\cdot \\frac{4}{8} = 0.5.\n",
    "$$\n",
    "\n",
    "Perciò\n",
    "\n",
    "$$\n",
    "1.5 \\cdot 0.5 \\neq 1.0.\n",
    "$$\n",
    "\n",
    "Svolgiamo l'esercizio in Python."
   ]
  },
  {
   "cell_type": "code",
   "execution_count": 119,
   "metadata": {},
   "outputs": [
    {
     "name": "stdout",
     "output_type": "stream",
     "text": [
      "P(Z = 0) : 4 / 8\n",
      "P(Z = 1) : 1 / 8\n",
      "P(Z = 2) : 2 / 8\n",
      "P(Z = 3) : 1 / 8\n"
     ]
    }
   ],
   "source": [
    "r = range(0, 2)\n",
    "sample = [(i, j, w) for i in r for j in r for w in r]\n",
    "\n",
    "for i in range(0, 4):\n",
    "    event = [toss for toss in sample if sum(toss) * toss[0] == i]\n",
    "    print(f\"P(Z = {i}) : {len(event)} / {len(sample)}\")\n"
   ]
  },
  {
   "cell_type": "code",
   "execution_count": 120,
   "metadata": {},
   "outputs": [
    {
     "data": {
      "text/plain": [
       "1.0"
      ]
     },
     "execution_count": 120,
     "metadata": {},
     "output_type": "execute_result"
    }
   ],
   "source": [
    "z = np.array([0, 1, 2, 3])\n",
    "pz = np.array([4/8, 1/8, 2/8, 1/8])\n",
    "sum(z * pz)"
   ]
  },
  {
   "attachments": {},
   "cell_type": "markdown",
   "metadata": {},
   "source": [
    "### Variabili casuali continue\n",
    "\n",
    "Nel caso di una variabile casuale continua $Y$ il valore atteso diventa:\n",
    "\n",
    "$$\n",
    "\\mathbb{E}(Y) = \\int_{-\\infty}^{+\\infty} y p(y) \\,\\operatorname{d}\\!y.\n",
    "$$ (eq-def-ev-rv-cont)\n",
    "\n",
    "Anche in questo caso il valore atteso è una media ponderata della $y$, nella quale ciascun possibile valore $y$ è ponderato per il corrispondente valore della densità $p(y)$. Possiamo leggere l'integrale pensando che $y$ rappresenti l'ampiezza delle barre infinitamente strette di un istogramma, con la densità $p(y)$ che corrisponde all'altezza di tali barre e la notazione $\\int_{-\\infty}^{+\\infty}$ che corrisponde ad una somma.[^018_expval_var-1]\n",
    "\n",
    "[^018_expval_var-1]: Per il significato della notazione di integrale, si veda l'appendice {ref}`calculus-appendix`.\n",
    "\n",
    "#### Moda\n",
    "\n",
    "Un'altra misura di tendenza centrale delle variabili casuali continue è la moda. La moda di $Y$ individua il valore $y$ più plausibile, ovvero il valore $y$ che massimizza la funzione di densità $p(y)$:\n",
    "\n",
    "$$\n",
    "Mo(Y) = \\text{argmax}_y p(y).\n",
    "$$ (eq-def-mode)\n",
    "\n",
    "```{note}\n",
    "La notazione $\\text{argmax}_y p(y)$ significa: il valore $y$ tale per cui la funzione $p(y)$ assume il suo valore massimo.\n",
    "```"
   ]
  },
  {
   "attachments": {},
   "cell_type": "markdown",
   "metadata": {},
   "source": [
    "## Varianza\n",
    "\n",
    "La seconda più importante proprietà di una variabile casuale, dopo che conosciamo il suo valore atteso, è la *varianza*.\n",
    "\n",
    "```{admonition} Definizione\n",
    "Se $Y$ è una variabile casuale discreta con distribuzione $p(y)$, per definizione la varianza di $Y$, $\\mathbb{V}(Y)$, è\n",
    "\n",
    "$$\n",
    "\\mathbb{V}(Y) = \\mathbb{E}\\Big[\\big(Y - \\mathbb{E}(Y)\\big)^2\\Big].\n",
    "$$ (eq-def-var-rv)\n",
    "```\n",
    "\n",
    "A parole: la varianza è la deviazione media quadratica della variabile dalla sua media.[^018_expval_var-2] Se denotiamo $\\mathbb{E}(Y) = \\mu$, la varianza $\\mathbb{V}(Y)$ diventa il valore atteso di $(Y - \\mu)^2$.\n",
    "\n",
    "[^018_expval_var-2]: Data una variabile casuale $Y$ con valore atteso $\\mathbb{E}(Y)$, le \"distanze\" tra i valori di $Y$ e il valore atteso $\\mathbb{E}(Y)$ definiscono la variabile casuale $Y - \\mathbb{E}(Y)$ chiamata *scarto*, oppure *deviazione* oppure *variabile casuale centrata*. La variabile $Y - \\mathbb{E}(Y)$ equivale ad una traslazione di sistema di riferimento che porta il valore atteso nell'origine degli assi. Si può dimostrare facilmente che il valore atteso della variabile scarto $Y - \\mathbb{E}(Y)$ vale zero, dunque la media di tale variabile non può essere usata per quantificare la \"dispersione\" dei valori di $Y$ relativamente al suo valore medio. Occorre rendere sempre positivi i valori di $Y - \\mathbb{E}(Y)$ e tale risultato viene ottenuto considerando la variabile casuale $\\left(Y - \\mathbb{E}(Y)\\right)^2$.\n"
   ]
  },
  {
   "attachments": {},
   "cell_type": "markdown",
   "metadata": {},
   "source": [
    "Consideriamo un esempio. Posta $S$ uguale alla somma dei punti ottenuti nel lancio di due dadi equilibrati, si calcoli la varianza di $S$.\n",
    "\n",
    "La variabile casuale $S$ ha la seguente distribuzione di probabilità:\n",
    "\n",
    "|    $s$     |       2        |       3        |       4        |       5        |       6        |       7        |       8        |       9        |       10       |       11       |       12       |\n",
    "|:----------:|:--------------:|:--------------:|:--------------:|:--------------:|:--------------:|:--------------:|:--------------:|:--------------:|:--------------:|:--------------:|:--------------:|\n",
    "| $P(S = s)$ | $\\frac{1}{36}$ | $\\frac{2}{36}$ | $\\frac{3}{36}$ | $\\frac{4}{36}$ | $\\frac{5}{36}$ | $\\frac{6}{36}$ | $\\frac{5}{36}$ | $\\frac{4}{36}$ | $\\frac{3}{36}$ | $\\frac{2}{36}$ | $\\frac{1}{36}$ |\n",
    "\n",
    "Essendo $\\mathbb{E}(S) = 7$, la varianza diventa\n",
    "\n",
    "$$\n",
    "\\begin{align}\n",
    "\\mathbb{V}(S) &= \\sum \\left(s - \\mathbb{E}(S)\\right)^2 \\cdot P(s) \\notag\\\\\n",
    "&= (2 - 7)^2 \\cdot \\frac{1}{36} + (3-7)^2 \\cdot \\frac{3}{36} + \\dots + (12 - 7)^2 \\cdot \\frac{1}{36} \\notag\\\\\n",
    "&= 5.8333.\\notag\n",
    "\\end{align}\n",
    "$$\n",
    "\n",
    "Svolgiamo l'esercizio in Python."
   ]
  },
  {
   "cell_type": "code",
   "execution_count": 126,
   "metadata": {},
   "outputs": [
    {
     "data": {
      "text/plain": [
       "6.999999999999998"
      ]
     },
     "execution_count": 126,
     "metadata": {},
     "output_type": "execute_result"
    }
   ],
   "source": [
    "x = np.arange(2, 13)\n",
    "px = np.array(\n",
    "    [\n",
    "        1 / 36,\n",
    "        2 / 36,\n",
    "        3 / 36,\n",
    "        4 / 36,\n",
    "        5 / 36,\n",
    "        6 / 36,\n",
    "        5 / 36,\n",
    "        4 / 36,\n",
    "        3 / 36,\n",
    "        2 / 36,\n",
    "        1 / 36,\n",
    "    ]\n",
    ")\n",
    "X = st.rv_discrete(values=(x, px))\n",
    "ex = X.expect()\n",
    "ex\n"
   ]
  },
  {
   "attachments": {},
   "cell_type": "markdown",
   "metadata": {},
   "source": [
    "Applichiamo l'eq. {eq}`eq-def-var-rv`:"
   ]
  },
  {
   "cell_type": "code",
   "execution_count": 127,
   "metadata": {},
   "outputs": [
    {
     "data": {
      "text/plain": [
       "5.833333333333333"
      ]
     },
     "execution_count": 127,
     "metadata": {},
     "output_type": "execute_result"
    }
   ],
   "source": [
    "((x - ex) ** 2 * px).sum()\n"
   ]
  },
  {
   "attachments": {},
   "cell_type": "markdown",
   "metadata": {},
   "source": [
    "Usiamo la funzione `var()` di `rv_discrete`:"
   ]
  },
  {
   "cell_type": "code",
   "execution_count": 125,
   "metadata": {},
   "outputs": [
    {
     "data": {
      "text/plain": [
       "5.833333333333364"
      ]
     },
     "execution_count": 125,
     "metadata": {},
     "output_type": "execute_result"
    }
   ],
   "source": [
    "X.var()"
   ]
  },
  {
   "attachments": {},
   "cell_type": "markdown",
   "metadata": {},
   "source": [
    "### Formula alternativa per la varianza\n",
    "\n",
    "C'è un modo più semplice per calcolare la varianza:\n",
    "\n",
    "$$\n",
    "\\begin{align}\n",
    "\\mathbb{E}\\Big[\\big(Y - \\mathbb{E}(Y)\\big)^2\\Big] &= \\mathbb{E}\\big(Y^2 - 2Y\\mathbb{E}(Y) + \\mathbb{E}(Y)^2\\big)\\notag\\\\\n",
    "&= \\mathbb{E}(Y^2) - 2\\mathbb{E}(Y)\\mathbb{E}(Y) + \\mathbb{E}(Y)^2,\n",
    "\\end{align}\n",
    "$$\n",
    "\n",
    "dato che $\\mathbb{E}(Y)$ è una costante. Pertanto\n",
    "\n",
    "$$\n",
    "\\mathbb{V}(Y) = \\mathbb{E}(Y^2) - \\big(\\mathbb{E}(Y) \\big)^2.\n",
    "$$ (eq-def-alt-var-rv)\n",
    "\n",
    "A parole: la varianza è la media dei quadrati meno il quadrato della media della variabile.\n"
   ]
  },
  {
   "attachments": {},
   "cell_type": "markdown",
   "metadata": {},
   "source": [
    "Facciamo un esempio. Consideriamo la variabile casuale $Y$ che corrisponde al numero di teste che si osservano nel lancio di una moneta truccata con probabilità di testa uguale a 0.8. Si trovi la varianza di $Y$.\n",
    "\n",
    "Il valore atteso di $Y$ è\n",
    "\n",
    "$$\n",
    "\\mathbb{E}(Y) = 0 \\cdot 0.2 + 1 \\cdot 0.8 = 0.8.\n",
    "$$\n",
    "\n",
    "Usando la formula tradizionale della varianza otteniamo:\n",
    "\n",
    "$$\n",
    "\\mathbb{V}(Y) = (0 - 0.8)^2 \\cdot 0.2 + (1 - 0.8)^2 \\cdot 0.8 = 0.16.\n",
    "$$\n",
    "\n",
    "Lo stesso risultato si trova con la formula alternativa della varianza. Il valore atteso di $Y^2$ è\n",
    "\n",
    "$$\n",
    "\\mathbb{E}(Y^2) = 0^2 \\cdot 0.2 + 1^2 \\cdot 0.8 = 0.8.\n",
    "$$\n",
    "\n",
    "e la varianza diventa\n",
    "\n",
    "$$\n",
    "\\mathbb{V}(Y) = \\mathbb{E}(Y^2) - \\big(\\mathbb{E}(Y) \\big)^2 = 0.8 - 0.8^2 = 0.16.\n",
    "$$\n",
    "\n",
    "Svolgiamo l'esercizio in Python:"
   ]
  },
  {
   "cell_type": "code",
   "execution_count": 129,
   "metadata": {},
   "outputs": [
    {
     "data": {
      "text/plain": [
       "0.15999999999999992"
      ]
     },
     "execution_count": 129,
     "metadata": {},
     "output_type": "execute_result"
    }
   ],
   "source": [
    "y = np.array([0, 1])\n",
    "py = np.array([0.2, 0.8])\n",
    "\n",
    "sum(y**2 * py) - (sum(y * py)) ** 2\n"
   ]
  },
  {
   "attachments": {},
   "cell_type": "markdown",
   "metadata": {},
   "source": [
    "### Proprietà\n",
    "\n",
    "**Segno della varianza.** La varianza di una variabile aleatoria non è mai negativa, ed è zero solamente quando la variabile assume  un solo valore.\n",
    "\n",
    "**Invarianza per traslazione.** La varianza è invariante per traslazione, che lascia fisse le distanze dalla media, e cambia quadraticamente per riscalamento:\n",
    "  \n",
    "$$\n",
    "\\mathbb{V}(a + bX) = b^2\\mathbb{V}(X).\n",
    "$$\n",
    "\n",
    "*Dimostrazione.* Iniziamo a scrivere\n",
    "\n",
    "$$\n",
    "(aX+b)-{\\mathbb{E}}[aX+b]=aX+b-a{\\mathbb{E}}[X]-b=a(X-{\\mathbb  {E}}[X]).\n",
    "$$\n",
    "\n",
    "Quindi\n",
    "\n",
    "$$\n",
    "\\sigma _{{aX+b}}^{2}={\\mathbb{E}}[a^{2}(X-{\\mathbb  {E}}[X])^{2}]=a^{2}\\sigma _{X}^{2}.\n",
    "$$\n"
   ]
  },
  {
   "attachments": {},
   "cell_type": "markdown",
   "metadata": {},
   "source": [
    "Esaminiamo una dimostrazione numerica."
   ]
  },
  {
   "cell_type": "code",
   "execution_count": 5,
   "metadata": {},
   "outputs": [
    {
     "data": {
      "text/plain": [
       "True"
      ]
     },
     "execution_count": 5,
     "metadata": {},
     "output_type": "execute_result"
    }
   ],
   "source": [
    "x = np.array([2, 1, 4, 7])\n",
    "y = 100 + 2 * x\n",
    "\n",
    "np.var(y) == 2**2 * np.var(x)"
   ]
  },
  {
   "attachments": {},
   "cell_type": "markdown",
   "metadata": {},
   "source": [
    "**Varianza della somma di due variabili indipendenti.** La varianza della somma di due variabili indipendenti o anche solo incorrelate è pari alla somma delle loro varianze:\n",
    "\n",
    "$$\n",
    "\\mathbb{V}(X+Y) = \\mathbb{V}(X) + \\mathbb{V}(Y).\n",
    "$$\n",
    "\n",
    "*Dimostrazione.* Se $\\mathbb{E}(X) = \\mathbb{E}(Y) = 0$, allora $\\mathbb{E}(X+Y) = 0$ e \n",
    "\n",
    "$$\\mathbb{V}(X+Y) = \\mathbb{E}((X+Y)^2) = \\mathbb{E}(X^2) + 2 \\mathbb{E}(XY) + \\mathbb{E}(Y^2).$$ \n",
    "\n",
    "Siccome le variabili sono indipendenti risulta $\\mathbb{E}(XY) = \\mathbb{E}(X)\\mathbb{E}(Y) = 0$. "
   ]
  },
  {
   "attachments": {},
   "cell_type": "markdown",
   "metadata": {},
   "source": [
    "**Varianza della differenza di due variabili indipendenti.** La varianza della differenza di due variabili indipendenti è pari alla somma delle loro varianze:\n",
    "\n",
    "$$\n",
    "\\mathbb{V}(X-Y) = \\mathbb{V}(X) + \\mathbb{V}(Y).\n",
    "$$\n",
    "\n",
    "*Dimostrazione.*\n",
    "\n",
    "$$\n",
    "\\mathbb{V}(X-Y) = \\mathbb{V}(X +(-Y)) = \\mathbb{V}(X) + \\mathbb{V}(-Y) = \\mathbb{V}(X) + \\mathbb{V}(Y).\n",
    "$$"
   ]
  },
  {
   "attachments": {},
   "cell_type": "markdown",
   "metadata": {},
   "source": [
    "**Varianza della somma di due variabili non indipendenti.** Se $X$ e $Y$ non sono indipendenti, la formula viene corretta dalla loro covarianza:\n",
    "\n",
    "$$\n",
    "\\mathbb{V}(X+Y) = \\mathbb{V}(X) + \\mathbb{V}(Y) + 2 Cov(X,Y),\n",
    "$$\n",
    "\n",
    "dove $Cov(X,Y) = \\mathbb{E}(XY) - \\mathbb{E}(X)\\mathbb{E}(Y)$.\n",
    "\n",
    "Una dimostrazione numerica di questo principio è fornita sotto."
   ]
  },
  {
   "cell_type": "code",
   "execution_count": 19,
   "metadata": {},
   "outputs": [
    {
     "data": {
      "text/plain": [
       "35.25"
      ]
     },
     "execution_count": 19,
     "metadata": {},
     "output_type": "execute_result"
    }
   ],
   "source": [
    "x = np.array([2, 1, 4, 7])\n",
    "y = np.array([1, 3, 5, 11])\n",
    "\n",
    "np.var(x + y, ddof=0)"
   ]
  },
  {
   "cell_type": "code",
   "execution_count": 18,
   "metadata": {},
   "outputs": [
    {
     "data": {
      "text/plain": [
       "35.25"
      ]
     },
     "execution_count": 18,
     "metadata": {},
     "output_type": "execute_result"
    }
   ],
   "source": [
    "np.var(x, ddof=0) + np.var(y, ddof=0) + 2 * np.cov(x, y, ddof=0)[0, 1]"
   ]
  },
  {
   "attachments": {},
   "cell_type": "markdown",
   "metadata": {},
   "source": [
    "**Varianza della media di variabili indipendenti.** La media aritmetica \n",
    "$\\textstyle {\\bar  {X}}={\\frac  {X_{1}+\\ldots +X_{n}}{n}}$ di $n$ variabili casuali indipendenti aventi la medesima distribuzione, ha varianza \n",
    "\n",
    "$$\n",
    "\\mathbb{V}(\\bar{X}) = \\frac{1}{n^2} \\mathbb{V}(X_1)+ \\dots \\mathbb{V}(X_n) = \\frac{1}{n^2} n \\mathbb{V}(X) = \\frac{1}{n} \\mathbb{V}(X).\n",
    "$$"
   ]
  },
  {
   "attachments": {},
   "cell_type": "markdown",
   "metadata": {},
   "source": [
    "Il principio precedente è illustrato dalla seguente simulazione."
   ]
  },
  {
   "cell_type": "code",
   "execution_count": 22,
   "metadata": {},
   "outputs": [
    {
     "data": {
      "text/plain": [
       "1.8134872999951361"
      ]
     },
     "execution_count": 22,
     "metadata": {},
     "output_type": "execute_result"
    }
   ],
   "source": [
    "# Set up the population distribution\n",
    "population = np.random.normal(loc=50, scale=10, size=10000)\n",
    "\n",
    "# Set up the sample size and number of samples\n",
    "sample_size = 30\n",
    "num_samples = 100000\n",
    "\n",
    "# Create an array to hold the sample means\n",
    "sample_means = np.zeros(num_samples)\n",
    "\n",
    "# Generate the samples and compute their means\n",
    "for i in range(num_samples):\n",
    "    sample = np.random.choice(population, size=sample_size)\n",
    "    sample_means[i] = np.mean(sample)\n",
    "\n",
    "# Calculate the variance of the sample means\n",
    "sampling_dist_mean_var = np.var(sample_means)\n",
    "sampling_dist_mean_var"
   ]
  },
  {
   "attachments": {},
   "cell_type": "markdown",
   "metadata": {},
   "source": [
    "Il valore teorico della varianza della distribuzione campionaria della media è"
   ]
  },
  {
   "cell_type": "code",
   "execution_count": 21,
   "metadata": {},
   "outputs": [
    {
     "data": {
      "text/plain": [
       "1.8257418583505538"
      ]
     },
     "execution_count": 21,
     "metadata": {},
     "output_type": "execute_result"
    }
   ],
   "source": [
    "10**2 / 30"
   ]
  },
  {
   "attachments": {},
   "cell_type": "markdown",
   "metadata": {},
   "source": [
    "### Variabili casuali continue\n",
    "\n",
    "Nel caso di una variabile casuale continua $Y$, la varianza diventa:\n",
    "\n",
    "$$\n",
    "\\mathbb{V}(Y) = \\int_{-\\infty}^{+\\infty} \\large[y - \\mathbb{E}(Y)\\large]^2 p(y) \\,\\operatorname {d}\\!y.\n",
    "$$ (eq-def-var-rv-cont)\n",
    "\n",
    "Come nel caso discreto, la varianza di una v.c. continua $Y$ misura approssimativamente la distanza al quadrato tipica o prevista dei possibili valori $y$ dalla loro media.\n",
    "\n",
    "## Deviazione standard\n",
    "\n",
    "Quando lavoriamo con le varianze, i termini sono innalzati al quadrato e quindi i numeri possono diventare molto grandi (o molto piccoli). Per trasformare nuovamente i valori nell'unità di misura della scala originaria si prende la radice quadrata. Il valore risultante viene chiamato *deviazione standard* e solitamente è denotato dalla lettera greca $\\sigma$.\n",
    "\n",
    "```{admonition} Definizione\n",
    "Si definisce scarto quadratico medio (o deviazione standard o scarto tipo) la radice quadrata della varianza:\n",
    "\n",
    "$$\n",
    "\\sigma_Y = \\sqrt{\\mathbb{V}(Y)}.\n",
    "$$ (eq-def-sd)\n",
    "```\n",
    "\n",
    "Come nella statistica descrittiva, la deviazione standard di una variabile casuale misura approssimativamente la distanza tipica o prevista dei possibili valori $y$ dalla loro media.\n",
    "\n",
    "Per i dadi equilibrati dell'esemio precedebte, la deviazione standard della variabile casuale $S$ è uguale a $\\sqrt{5.833} = 2.415$."
   ]
  },
  {
   "attachments": {},
   "cell_type": "markdown",
   "metadata": {},
   "source": [
    "## Standardizzazione\n",
    "\n",
    "```{admonition} Definizione\n",
    "Data una variabile casuale $Y$, si dice *variabile standardizzata* di $Y$ l'espressione\n",
    "\n",
    "$$\n",
    "Z = \\frac{Y - \\mathbb{E}(Y)}{\\sigma_Y}.\n",
    "$$ (eq-standardization)\n",
    "```\n",
    "\n",
    "Solitamente, una variabile standardizzata viene denotata con la lettera $Z$."
   ]
  },
  {
   "attachments": {},
   "cell_type": "markdown",
   "metadata": {},
   "source": [
    "## Momenti di variabili casuali\n",
    "\n",
    "```{admonition} Definizione\n",
    "Si chiama *momento* di ordine $q$ di una v.c. $X$, dotata di densità $p(x)$, la quantità\n",
    "\n",
    "$$\n",
    "\\mathbb{E}(X^q) = \\int_{-\\infty}^{+\\infty} x^q p(x) \\; dx.\n",
    "$$ (eq-moments-cont)\n",
    "\n",
    "Se $X$ è una v.c. discreta, i suoi momenti valgono:\n",
    "\n",
    "$$\n",
    "\\mathbb{E}(X^q) = \\sum_i x_i^q P(x_i).\n",
    "$$ (eq-moments-discr)\n",
    "```\n",
    "\n",
    "I momenti sono importanti parametri indicatori di certe proprietà di $X$. I più noti sono senza dubbio quelli per $q = 1$ e $q = 2$. Il momento del primo ordine corrisponde al valore atteso di $X$. Spesso i momenti di ordine superiore al primo vengono calcolati rispetto al valor medio di $X$, operando una traslazione $x_0 = x − \\mathbb{E}(X)$ che individua lo scarto dalla media. Ne deriva che il momento centrale di ordine 2 corrisponde alla varianza.\n",
    "\n",
    "## Alcuni esempi in Python\n",
    "\n",
    "Usando il modulo `stats` di `scipy` è possibile semplificare i calcoli del valore atteso e della varianza di variabili casuali discrete.\n",
    "\n",
    "Supponiamo che la variabile casuale $X$ abbia valori 0, 1, 2, 3, 4, 5, 6 con la seguente distribuzione di massa di probabilità: 0.1, 0.2, 0.3, 0.1, 0.1, 0.0, 0.2. Vogliamo rappresentare la distribuzione di massa di probabilità di $X$ con un grafico.\n",
    "\n",
    "Iniziamo a definire un vettore che contiene i valori della v.c.:"
   ]
  },
  {
   "cell_type": "code",
   "execution_count": 6,
   "metadata": {},
   "outputs": [
    {
     "name": "stdout",
     "output_type": "stream",
     "text": [
      "[0 1 2 3 4 5 6]\n"
     ]
    }
   ],
   "source": [
    "x = np.arange(7)\n",
    "print(x)"
   ]
  },
  {
   "attachments": {},
   "cell_type": "markdown",
   "metadata": {},
   "source": [
    "Il vettore `px` conterrà le probabilità associate ai valori `x`:"
   ]
  },
  {
   "cell_type": "code",
   "execution_count": 8,
   "metadata": {},
   "outputs": [
    {
     "name": "stdout",
     "output_type": "stream",
     "text": [
      "(0.1, 0.2, 0.3, 0.1, 0.1, 0.0, 0.2)\n"
     ]
    }
   ],
   "source": [
    "px = (0.1, 0.2, 0.3, 0.1, 0.1, 0.0, 0.2)\n",
    "print(px)"
   ]
  },
  {
   "attachments": {},
   "cell_type": "markdown",
   "metadata": {},
   "source": [
    "Controllo che la somma sia 1:"
   ]
  },
  {
   "cell_type": "code",
   "execution_count": 9,
   "metadata": {},
   "outputs": [
    {
     "data": {
      "text/plain": [
       "1.0"
      ]
     },
     "execution_count": 9,
     "metadata": {},
     "output_type": "execute_result"
    }
   ],
   "source": [
    "np.sum(px)"
   ]
  },
  {
   "attachments": {},
   "cell_type": "markdown",
   "metadata": {},
   "source": [
    "Usiamo ora la funzione `rv_discrete()` che è una funzione della libreria `stats` di Python. Tale funzione viene utilizzata per creare una distribuzione discreta personalizzata. La funzione richiede che vengano forniti dei valori discreti (ossia interi) e le rispettive probabilità di occorrenza.\n",
    "\n",
    "Una volta definita la distribuzione discreta, `rv_discrete()` permette di eseguire operazioni come la generazione di numeri casuali dalla distribuzione, il calcolo della funzione di probabilità cumulativa (CDF) e della funzione di densità di probabilità (PDF), e la valutazione della media, della varianza e di altre statistiche della distribuzione.\n",
    "\n",
    "La sintassi di base della funzione rv_discrete() è la seguente:\n",
    "\n",
    "```\n",
    "rv = stats.rv_discrete(name='rv', values=(xk, pk))\n",
    "```\n",
    "\n",
    "dove `name` è il nome della distribuzione discreta, `xk` sono i valori discreti e `pk` sono le rispettive probabilità di occorrenza. Ad esempio, creiamo la variabile casuale `X`:"
   ]
  },
  {
   "cell_type": "code",
   "execution_count": 12,
   "metadata": {},
   "outputs": [],
   "source": [
    "X = st.rv_discrete(name='rv', values=(x, px))"
   ]
  },
  {
   "cell_type": "code",
   "execution_count": 13,
   "metadata": {},
   "outputs": [
    {
     "name": "stdout",
     "output_type": "stream",
     "text": [
      "[0.1 0.2 0.3 0.1 0.1 0.  0.2]\n"
     ]
    }
   ],
   "source": [
    "# Distribuzione di massa di probabilità di X.\n",
    "print(X.pmf(x))"
   ]
  },
  {
   "cell_type": "code",
   "execution_count": 14,
   "metadata": {},
   "outputs": [
    {
     "name": "stdout",
     "output_type": "stream",
     "text": [
      "[0.1 0.3 0.6 0.7 0.8 0.8 1. ]\n"
     ]
    }
   ],
   "source": [
    "# Distribuzione comulativa di probabilità di X.\n",
    "print(X.cdf(x))"
   ]
  },
  {
   "attachments": {},
   "cell_type": "markdown",
   "metadata": {},
   "source": [
    "Generiamo un grafico che rappresenta la distribuzione di massa con Matplotlib."
   ]
  },
  {
   "cell_type": "code",
   "execution_count": 15,
   "metadata": {},
   "outputs": [
    {
     "data": {
      "image/png": "[encoded data removed]",
      "text/plain": [
       "<Figure size 500x309.017 with 1 Axes>"
      ]
     },
     "metadata": {},
     "output_type": "display_data"
    }
   ],
   "source": [
    "fig, ax = plt.subplots(1, 1)\n",
    "ax.plot(x, X.pmf(x), \"ro\", ms=6, mec=\"r\")\n",
    "ax.vlines(x, 0, X.pmf(x), colors=\"r\", lw=2)\n",
    "plt.show()\n"
   ]
  },
  {
   "attachments": {},
   "cell_type": "markdown",
   "metadata": {},
   "source": [
    "Calcolo il valore atteso di $X$ implementando la formula del valore atteso, utilizzando i vettori `x` e `px`."
   ]
  },
  {
   "cell_type": "code",
   "execution_count": 16,
   "metadata": {},
   "outputs": [
    {
     "data": {
      "text/plain": [
       "2.7"
      ]
     },
     "execution_count": 16,
     "metadata": {},
     "output_type": "execute_result"
    }
   ],
   "source": [
    "x_ev = (x * px).sum()\n",
    "x_ev"
   ]
  },
  {
   "attachments": {},
   "cell_type": "markdown",
   "metadata": {},
   "source": [
    "Lo stesso risultato si ottience applicando il metodo `.expect()` all'oggetto `X`."
   ]
  },
  {
   "cell_type": "code",
   "execution_count": 17,
   "metadata": {},
   "outputs": [
    {
     "data": {
      "text/plain": [
       "2.7"
      ]
     },
     "execution_count": 17,
     "metadata": {},
     "output_type": "execute_result"
    }
   ],
   "source": [
    "x_ev = X.expect()\n",
    "x_ev"
   ]
  },
  {
   "attachments": {},
   "cell_type": "markdown",
   "metadata": {},
   "source": [
    "Calcolo ora la varianza di $X$ usando i vettori `x` e `px`."
   ]
  },
  {
   "cell_type": "code",
   "execution_count": 19,
   "metadata": {},
   "outputs": [
    {
     "data": {
      "text/plain": [
       "3.8100000000000005"
      ]
     },
     "execution_count": 19,
     "metadata": {},
     "output_type": "execute_result"
    }
   ],
   "source": [
    "x_var = ((x - x_ev)**2 * X.pmf(x)).sum()\n",
    "x_var"
   ]
  },
  {
   "attachments": {},
   "cell_type": "markdown",
   "metadata": {},
   "source": [
    "Ottengo lo stesso risultato applicando il metodo `.var()` all'oggetto `X`."
   ]
  },
  {
   "cell_type": "code",
   "execution_count": 21,
   "metadata": {},
   "outputs": [
    {
     "data": {
      "text/plain": [
       "3.8099999999999987"
      ]
     },
     "execution_count": 21,
     "metadata": {},
     "output_type": "execute_result"
    }
   ],
   "source": [
    "X.var()"
   ]
  },
  {
   "attachments": {},
   "cell_type": "markdown",
   "metadata": {},
   "source": [
    "Calcolo ora la deviazione standard di $X$ prendento la radice quadrata della varianza."
   ]
  },
  {
   "cell_type": "code",
   "execution_count": 22,
   "metadata": {},
   "outputs": [
    {
     "data": {
      "text/plain": [
       "1.9519221295943137"
      ]
     },
     "execution_count": 22,
     "metadata": {},
     "output_type": "execute_result"
    }
   ],
   "source": [
    "np.sqrt(x_var)"
   ]
  },
  {
   "attachments": {},
   "cell_type": "markdown",
   "metadata": {},
   "source": [
    "Oppure, in maniera equivalente, applico il metodo `.std()` all'oggetto `X`."
   ]
  },
  {
   "cell_type": "code",
   "execution_count": 23,
   "metadata": {},
   "outputs": [
    {
     "data": {
      "text/plain": [
       "1.9519221295943132"
      ]
     },
     "execution_count": 23,
     "metadata": {},
     "output_type": "execute_result"
    }
   ],
   "source": [
    "X.std()"
   ]
  },
  {
   "attachments": {},
   "cell_type": "markdown",
   "metadata": {},
   "source": [
    "## Commenti e considerazioni finali \n",
    "\n",
    "L'inferenza bayesiana mira a descrivere la distribuzione a posteriori di variabili casuali che rappresentano i parametri di un modello statistico. Nel capitolo precedente, abbiamo esaminato le caratteristiche principali delle variabili casuali, concentrandoci sul caso discreto. In questo capitolo, abbiamo approfondito le proprietà di una singola variabile casuale. Nel prossimo capitolo, invece, esploreremo il problema di descrivere il verificarsi congiunto di due o più variabili casuali.\n",
    "\n",
    "## Watermark"
   ]
  },
  {
   "cell_type": "code",
   "execution_count": null,
   "metadata": {},
   "outputs": [],
   "source": [
    "%load_ext watermark\n",
    "%watermark -n -u -v -iv -w -p pytensor"
   ]
  }
 ],
 "metadata": {
  "kernelspec": {
   "display_name": "Python 3",
   "language": "python",
   "name": "python3"
  },
  "language_info": {
   "codemirror_mode": {
    "name": "ipython",
    "version": 3
   },
   "file_extension": ".py",
   "mimetype": "text/x-python",
   "name": "python",
   "nbconvert_exporter": "python",
   "pygments_lexer": "ipython3",
   "version": "3.11.0"
  },
  "orig_nbformat": 4,
  "vscode": {
   "interpreter": {
    "hash": "2fb22ef73048ab480306a3a8971dd9d9ae74918bef9be9e93ea3e01644b9825e"
   }
  }
 },
 "nbformat": 4,
 "nbformat_minor": 2
}
