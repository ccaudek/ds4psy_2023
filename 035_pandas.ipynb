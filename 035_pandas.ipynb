{
 "cells": [
  {
   "attachments": {},
   "cell_type": "markdown",
   "metadata": {},
   "source": [
    "(useful_pandas_notebook)=\n",
    "# Comandi utili in Pandas"
   ]
  },
  {
   "attachments": {},
   "cell_type": "markdown",
   "metadata": {},
   "source": [
    "In questo Notebook presento una serie di utili comandi per l'analisi e la manipolazione di dati con Pandas. Inizio a importare le librerie necessarie."
   ]
  },
  {
   "cell_type": "code",
   "execution_count": 1,
   "metadata": {},
   "outputs": [],
   "source": [
    "from pathlib import Path\n",
    "import pandas as pd\n",
    "import numpy as np\n",
    "import matplotlib.pyplot as plt\n",
    "import arviz as az"
   ]
  },
  {
   "cell_type": "code",
   "execution_count": 2,
   "metadata": {},
   "outputs": [],
   "source": [
    "# To render higher resolution images and to control the plot style.\n",
    "%config InlineBackend.figure_format = 'retina'\n",
    "# To enable the drawing of matplotlib figures in the IPython environment.\n",
    "%matplotlib inline\n",
    "az.style.use(\"arviz-darkgrid\")\n",
    "plt.style.use('tableau-colorblind10')"
   ]
  },
  {
   "attachments": {},
   "cell_type": "markdown",
   "metadata": {},
   "source": [
    "## Inserire array Numpy in un DataFrame \n",
    "\n",
    "Nel capitolo {ref}`numpy_ndarray_notebook` abbiamo visto come creare array Numpy. Gli array Numpy possono essere utilizzati per popolare un DataFrame pandas."
   ]
  },
  {
   "cell_type": "code",
   "execution_count": 17,
   "metadata": {},
   "outputs": [
    {
     "name": "stdout",
     "output_type": "stream",
     "text": [
      "   column_a  column_b\n",
      "0         1         6\n",
      "1         2         7\n",
      "2         3         8\n",
      "3         4         9\n",
      "4         5        10\n"
     ]
    }
   ],
   "source": [
    "x1 = np.array([1, 2, 3, 4, 5])\n",
    "x2 = np.array([6, 7, 8, 9, 10])\n",
    "\n",
    "df = pd.DataFrame()\n",
    "df['column_a'] = x1\n",
    "df['column_b'] = x2\n",
    "print(df)"
   ]
  },
  {
   "attachments": {},
   "cell_type": "markdown",
   "metadata": {},
   "source": [
    "In maniera equivalente, possiamo passare a `pd.DataFrame` la trasposta di un array 2-D:"
   ]
  },
  {
   "cell_type": "code",
   "execution_count": 25,
   "metadata": {},
   "outputs": [
    {
     "data": {
      "text/plain": [
       "(2, 5)"
      ]
     },
     "execution_count": 25,
     "metadata": {},
     "output_type": "execute_result"
    }
   ],
   "source": [
    "my_array = np.array([x1, x2])\n",
    "np.shape(my_array)"
   ]
  },
  {
   "cell_type": "code",
   "execution_count": 27,
   "metadata": {},
   "outputs": [
    {
     "name": "stdout",
     "output_type": "stream",
     "text": [
      "   column_a  column_b\n",
      "0         1         6\n",
      "1         2         7\n",
      "2         3         8\n",
      "3         4         9\n",
      "4         5        10\n"
     ]
    }
   ],
   "source": [
    "df = pd.DataFrame(my_array.transpose(), columns = ['column_a','column_b'])\n",
    "print(df)"
   ]
  },
  {
   "attachments": {},
   "cell_type": "markdown",
   "metadata": {},
   "source": [
    "## Leggere i dati da un file esterno\n",
    "\n",
    "È anche possibile creare un DataFrame importando un file esterno. In questo esempio userò nuovamente i dati [palmerpenguins](https://allisonhorst.github.io/palmerpenguins/) messi a disposizione da Allison Horst. Per creare un pandas DataFrame uso la funzione `pd.read_csv` a cui passo l'indirizzo di un file csv disponibile su internet:"
   ]
  },
  {
   "cell_type": "code",
   "execution_count": 3,
   "metadata": {},
   "outputs": [],
   "source": [
    "data_url = 'https://raw.githubusercontent.com/allisonhorst/palmerpenguins/master/inst/extdata/'\n",
    "file_name = 'penguins.csv'\n",
    "file_url = data_url + \"/\" + file_name\n",
    "df = pd.read_csv(file_url)"
   ]
  },
  {
   "attachments": {},
   "cell_type": "markdown",
   "metadata": {},
   "source": [
    "## Esaminare il DataFrame\n",
    "\n",
    "Ottengo il nome delle colonne di `df` con il metodo `.columns`:"
   ]
  },
  {
   "cell_type": "code",
   "execution_count": 4,
   "metadata": {},
   "outputs": [
    {
     "data": {
      "text/plain": [
       "Index(['species', 'island', 'bill_length_mm', 'bill_depth_mm',\n",
       "       'flipper_length_mm', 'body_mass_g', 'sex', 'year'],\n",
       "      dtype='object')"
      ]
     },
     "execution_count": 4,
     "metadata": {},
     "output_type": "execute_result"
    }
   ],
   "source": [
    "df.columns"
   ]
  },
  {
   "attachments": {},
   "cell_type": "markdown",
   "metadata": {},
   "source": [
    "Visualizzo le prime 5 righe di `df` con `.head()`:"
   ]
  },
  {
   "cell_type": "code",
   "execution_count": 5,
   "metadata": {},
   "outputs": [
    {
     "name": "stdout",
     "output_type": "stream",
     "text": [
      "  species     island  bill_length_mm  bill_depth_mm  flipper_length_mm  \\\n",
      "0  Adelie  Torgersen            39.1           18.7              181.0   \n",
      "1  Adelie  Torgersen            39.5           17.4              186.0   \n",
      "2  Adelie  Torgersen            40.3           18.0              195.0   \n",
      "3  Adelie  Torgersen             NaN            NaN                NaN   \n",
      "4  Adelie  Torgersen            36.7           19.3              193.0   \n",
      "\n",
      "   body_mass_g     sex  year  \n",
      "0       3750.0    male  2007  \n",
      "1       3800.0  female  2007  \n",
      "2       3250.0  female  2007  \n",
      "3          NaN     NaN  2007  \n",
      "4       3450.0  female  2007  \n"
     ]
    }
   ],
   "source": [
    "print(df.head())"
   ]
  },
  {
   "attachments": {},
   "cell_type": "markdown",
   "metadata": {},
   "source": [
    "Visualizzo le ultime 5 righe:"
   ]
  },
  {
   "cell_type": "code",
   "execution_count": 6,
   "metadata": {},
   "outputs": [
    {
     "name": "stdout",
     "output_type": "stream",
     "text": [
      "       species island  bill_length_mm  bill_depth_mm  flipper_length_mm  \\\n",
      "339  Chinstrap  Dream            55.8           19.8              207.0   \n",
      "340  Chinstrap  Dream            43.5           18.1              202.0   \n",
      "341  Chinstrap  Dream            49.6           18.2              193.0   \n",
      "342  Chinstrap  Dream            50.8           19.0              210.0   \n",
      "343  Chinstrap  Dream            50.2           18.7              198.0   \n",
      "\n",
      "     body_mass_g     sex  year  \n",
      "339       4000.0    male  2009  \n",
      "340       3400.0  female  2009  \n",
      "341       3775.0    male  2009  \n",
      "342       4100.0    male  2009  \n",
      "343       3775.0  female  2009  \n"
     ]
    }
   ],
   "source": [
    "print(df.tail())"
   ]
  },
  {
   "attachments": {},
   "cell_type": "markdown",
   "metadata": {},
   "source": [
    "La funzione `.describe()` fornisce delle informazioni descrittive del dataset. Queste informazioni includono delle statistiche che riassumono la tendenza centrale della variabile, la loro dispersione, la presenza di valori vuoti e la loro forma:"
   ]
  },
  {
   "cell_type": "code",
   "execution_count": 7,
   "metadata": {},
   "outputs": [
    {
     "data": {
      "text/html": [
       "<div>\n",
       "<style scoped>\n",
       "    .dataframe tbody tr th:only-of-type {\n",
       "        vertical-align: middle;\n",
       "    }\n",
       "\n",
       "    .dataframe tbody tr th {\n",
       "        vertical-align: top;\n",
       "    }\n",
       "\n",
       "    .dataframe thead th {\n",
       "        text-align: right;\n",
       "    }\n",
       "</style>\n",
       "<table border=\"1\" class=\"dataframe\">\n",
       "  <thead>\n",
       "    <tr style=\"text-align: right;\">\n",
       "      <th></th>\n",
       "      <th>bill_length_mm</th>\n",
       "      <th>bill_depth_mm</th>\n",
       "      <th>flipper_length_mm</th>\n",
       "      <th>body_mass_g</th>\n",
       "      <th>year</th>\n",
       "    </tr>\n",
       "  </thead>\n",
       "  <tbody>\n",
       "    <tr>\n",
       "      <th>count</th>\n",
       "      <td>342.0</td>\n",
       "      <td>342.0</td>\n",
       "      <td>342.0</td>\n",
       "      <td>342.0</td>\n",
       "      <td>344.0</td>\n",
       "    </tr>\n",
       "    <tr>\n",
       "      <th>mean</th>\n",
       "      <td>43.9</td>\n",
       "      <td>17.2</td>\n",
       "      <td>200.9</td>\n",
       "      <td>4201.8</td>\n",
       "      <td>2008.0</td>\n",
       "    </tr>\n",
       "    <tr>\n",
       "      <th>std</th>\n",
       "      <td>5.5</td>\n",
       "      <td>2.0</td>\n",
       "      <td>14.1</td>\n",
       "      <td>802.0</td>\n",
       "      <td>0.8</td>\n",
       "    </tr>\n",
       "    <tr>\n",
       "      <th>min</th>\n",
       "      <td>32.1</td>\n",
       "      <td>13.1</td>\n",
       "      <td>172.0</td>\n",
       "      <td>2700.0</td>\n",
       "      <td>2007.0</td>\n",
       "    </tr>\n",
       "    <tr>\n",
       "      <th>25%</th>\n",
       "      <td>39.2</td>\n",
       "      <td>15.6</td>\n",
       "      <td>190.0</td>\n",
       "      <td>3550.0</td>\n",
       "      <td>2007.0</td>\n",
       "    </tr>\n",
       "    <tr>\n",
       "      <th>50%</th>\n",
       "      <td>44.4</td>\n",
       "      <td>17.3</td>\n",
       "      <td>197.0</td>\n",
       "      <td>4050.0</td>\n",
       "      <td>2008.0</td>\n",
       "    </tr>\n",
       "    <tr>\n",
       "      <th>75%</th>\n",
       "      <td>48.5</td>\n",
       "      <td>18.7</td>\n",
       "      <td>213.0</td>\n",
       "      <td>4750.0</td>\n",
       "      <td>2009.0</td>\n",
       "    </tr>\n",
       "    <tr>\n",
       "      <th>max</th>\n",
       "      <td>59.6</td>\n",
       "      <td>21.5</td>\n",
       "      <td>231.0</td>\n",
       "      <td>6300.0</td>\n",
       "      <td>2009.0</td>\n",
       "    </tr>\n",
       "  </tbody>\n",
       "</table>\n",
       "</div>"
      ],
      "text/plain": [
       "       bill_length_mm  bill_depth_mm  flipper_length_mm  body_mass_g    year\n",
       "count           342.0          342.0              342.0        342.0   344.0\n",
       "mean             43.9           17.2              200.9       4201.8  2008.0\n",
       "std               5.5            2.0               14.1        802.0     0.8\n",
       "min              32.1           13.1              172.0       2700.0  2007.0\n",
       "25%              39.2           15.6              190.0       3550.0  2007.0\n",
       "50%              44.4           17.3              197.0       4050.0  2008.0\n",
       "75%              48.5           18.7              213.0       4750.0  2009.0\n",
       "max              59.6           21.5              231.0       6300.0  2009.0"
      ]
     },
     "execution_count": 7,
     "metadata": {},
     "output_type": "execute_result"
    }
   ],
   "source": [
    "df.describe().round(1)"
   ]
  },
  {
   "attachments": {},
   "cell_type": "markdown",
   "metadata": {},
   "source": [
    "La funzione `.info()` restituisce informazioni sul tipo di dato, valori non nulli e utilizzo di memoria:"
   ]
  },
  {
   "cell_type": "code",
   "execution_count": 10,
   "metadata": {},
   "outputs": [
    {
     "name": "stdout",
     "output_type": "stream",
     "text": [
      "<class 'pandas.core.frame.DataFrame'>\n",
      "RangeIndex: 344 entries, 0 to 343\n",
      "Data columns (total 8 columns):\n",
      " #   Column             Non-Null Count  Dtype  \n",
      "---  ------             --------------  -----  \n",
      " 0   species            344 non-null    object \n",
      " 1   island             344 non-null    object \n",
      " 2   bill_length_mm     342 non-null    float64\n",
      " 3   bill_depth_mm      342 non-null    float64\n",
      " 4   flipper_length_mm  342 non-null    float64\n",
      " 5   body_mass_g        342 non-null    float64\n",
      " 6   sex                333 non-null    object \n",
      " 7   year               344 non-null    int64  \n",
      "dtypes: float64(4), int64(1), object(3)\n",
      "memory usage: 21.6+ KB\n"
     ]
    }
   ],
   "source": [
    "df.info()"
   ]
  },
  {
   "attachments": {},
   "cell_type": "markdown",
   "metadata": {},
   "source": [
    "Se applico il metodo `.shape` sul dataset, Pandas restituisce una coppia di numeri che rappresentano la dimensionalità del dataset: il numero di righe e il numero di colonne."
   ]
  },
  {
   "cell_type": "code",
   "execution_count": 11,
   "metadata": {},
   "outputs": [
    {
     "name": "stdout",
     "output_type": "stream",
     "text": [
      "(344, 8)\n"
     ]
    }
   ],
   "source": [
    "print(df.values.shape)"
   ]
  },
  {
   "attachments": {},
   "cell_type": "markdown",
   "metadata": {},
   "source": [
    "Ci sono 344 righe e 8 colonne.\n",
    "\n",
    "Se le operazioni di manipolazione del dataset richiedono molto tempo (non nel caso presente), è utile avere una copia del dataset originale, nel caso di errori di vario tipo (cancellare per sbaglio una colonna o trasformarla in maniera diversa da quella desiderata)."
   ]
  },
  {
   "cell_type": "code",
   "execution_count": 220,
   "metadata": {},
   "outputs": [],
   "source": [
    "df2 = df.copy()"
   ]
  },
  {
   "attachments": {},
   "cell_type": "markdown",
   "metadata": {},
   "source": [
    "## Visualizzare le modalità di una variabile\n",
    "\n",
    "La funzione `unique()` resituisce le modalità di una variabile:"
   ]
  },
  {
   "cell_type": "code",
   "execution_count": 8,
   "metadata": {},
   "outputs": [
    {
     "data": {
      "text/plain": [
       "array(['Adelie', 'Gentoo', 'Chinstrap'], dtype=object)"
      ]
     },
     "execution_count": 8,
     "metadata": {},
     "output_type": "execute_result"
    }
   ],
   "source": [
    "df['species'].unique()"
   ]
  },
  {
   "attachments": {},
   "cell_type": "markdown",
   "metadata": {},
   "source": [
    "La funzione `value_counts()` restituisce la distribuzione di frequenza assoluta di una variabile del DataFrame. Per la variabile `species` ottengo:"
   ]
  },
  {
   "cell_type": "code",
   "execution_count": 12,
   "metadata": {},
   "outputs": [
    {
     "data": {
      "text/plain": [
       "Adelie       152\n",
       "Gentoo       124\n",
       "Chinstrap     68\n",
       "Name: species, dtype: int64"
      ]
     },
     "execution_count": 12,
     "metadata": {},
     "output_type": "execute_result"
    }
   ],
   "source": [
    "df['species'].value_counts(normalize=False)"
   ]
  },
  {
   "attachments": {},
   "cell_type": "markdown",
   "metadata": {},
   "source": [
    "Le frequenze relative si ottengono ponendo `normalize=True`:"
   ]
  },
  {
   "cell_type": "code",
   "execution_count": 13,
   "metadata": {},
   "outputs": [
    {
     "data": {
      "text/plain": [
       "Adelie       0.441860\n",
       "Gentoo       0.360465\n",
       "Chinstrap    0.197674\n",
       "Name: species, dtype: float64"
      ]
     },
     "execution_count": 13,
     "metadata": {},
     "output_type": "execute_result"
    }
   ],
   "source": [
    "df['species'].value_counts(normalize=True)"
   ]
  },
  {
   "attachments": {},
   "cell_type": "markdown",
   "metadata": {},
   "source": [
    "Come abbiamo già visto nel capitolo {ref}`edaquickstart_notebook`, è semplice costruire un diagramma a barre per la distribuzione di frequenza:"
   ]
  },
  {
   "cell_type": "code",
   "execution_count": 9,
   "metadata": {},
   "outputs": [
    {
     "data": {
      "text/plain": [
       "<AxesSubplot: >"
      ]
     },
     "execution_count": 9,
     "metadata": {},
     "output_type": "execute_result"
    },
    {
     "data": {
      "image/png": "[encoded data removed]",
      "text/plain": [
       "<Figure size 720x480 with 1 Axes>"
      ]
     },
     "metadata": {
      "image/png": {
       "height": 491,
       "width": 731
      }
     },
     "output_type": "display_data"
    }
   ],
   "source": [
    "df.species.value_counts(normalize=True).plot(kind=\"barh\")"
   ]
  },
  {
   "attachments": {},
   "cell_type": "markdown",
   "metadata": {},
   "source": [
    "In maniera simile, è possibile applicare il metodo `.hist()` ad una colonna numerica del DataFrame per ottenere un istogramma. Per esempio:"
   ]
  },
  {
   "cell_type": "code",
   "execution_count": 27,
   "metadata": {},
   "outputs": [
    {
     "data": {
      "text/plain": [
       "<AxesSubplot: >"
      ]
     },
     "execution_count": 27,
     "metadata": {},
     "output_type": "execute_result"
    },
    {
     "data": {
      "image/png": "[encoded data removed]",
      "text/plain": [
       "<Figure size 720x480 with 1 Axes>"
      ]
     },
     "metadata": {
      "image/png": {
       "height": 491,
       "width": 731
      }
     },
     "output_type": "display_data"
    }
   ],
   "source": [
    "df['bill_depth_mm'].hist()"
   ]
  },
  {
   "attachments": {},
   "cell_type": "markdown",
   "metadata": {},
   "source": [
    "Dato che la funzione `hist()` utilizza `matplotlib`, possiamo passare a `hist()` gli argomenti che sono disponibili in `matplotlib`. Per esempio:"
   ]
  },
  {
   "cell_type": "code",
   "execution_count": 28,
   "metadata": {},
   "outputs": [
    {
     "data": {
      "text/plain": [
       "<AxesSubplot: >"
      ]
     },
     "execution_count": 28,
     "metadata": {},
     "output_type": "execute_result"
    },
    {
     "data": {
      "image/png": "[encoded data removed]",
      "text/plain": [
       "<Figure size 720x480 with 1 Axes>"
      ]
     },
     "metadata": {
      "image/png": {
       "height": 491,
       "width": 731
      }
     },
     "output_type": "display_data"
    }
   ],
   "source": [
    "df['bill_depth_mm'].hist(density=True)"
   ]
  },
  {
   "attachments": {},
   "cell_type": "markdown",
   "metadata": {},
   "source": [
    "Consideriamo nuovamente la grossezza (depth) del becco.\n",
    "\n",
    "![](images/culmen_depth.png)\n",
    "\n",
    "Calcoliamo la proporzione di pinguini per i quali la grossezza del becco è minore della media:"
   ]
  },
  {
   "cell_type": "code",
   "execution_count": 29,
   "metadata": {},
   "outputs": [
    {
     "name": "stdout",
     "output_type": "stream",
     "text": [
      "46.5% of penguins are below the mean\n"
     ]
    }
   ],
   "source": [
    "mean_bill_depth = np.mean(df['bill_depth_mm'])\n",
    "frac_below_mean = (df['bill_depth_mm'] < mean_bill_depth).mean()\n",
    "print(f\"{frac_below_mean:2.1%} of penguins are below the mean\")"
   ]
  },
  {
   "attachments": {},
   "cell_type": "markdown",
   "metadata": {},
   "source": [
    "Usando le funzioni di `matplotlib.pyplot`, creo un istogramma della grossezza (depth) del becco che riporta l'indicazione della media:"
   ]
  },
  {
   "cell_type": "code",
   "execution_count": 30,
   "metadata": {},
   "outputs": [
    {
     "data": {
      "text/plain": [
       "<matplotlib.legend.Legend at 0x7ff64e20d130>"
      ]
     },
     "execution_count": 30,
     "metadata": {},
     "output_type": "execute_result"
    },
    {
     "data": {
      "image/png": "[encoded data removed]",
      "text/plain": [
       "<Figure size 720x480 with 1 Axes>"
      ]
     },
     "metadata": {
      "image/png": {
       "height": 491,
       "width": 731
      }
     },
     "output_type": "display_data"
    }
   ],
   "source": [
    "plt.hist(df['bill_depth_mm'], density=True)\n",
    "plt.xlabel(\"Bill depth (mm)\")\n",
    "plt.ylabel(\"Density\")\n",
    "plt.axvline(mean_bill_depth, color=\"orange\", label=\"Mean bill depth\")\n",
    "plt.legend()\n"
   ]
  },
  {
   "attachments": {},
   "cell_type": "markdown",
   "metadata": {},
   "source": [
    "## Selezionare le colonne con `filter`\n",
    "\n",
    "Molto spesso è necessario concentrarci su un sottoinsieme delle colonne del dataset.  Per esempio qui di seguito seleziono unicamente due colonne:"
   ]
  },
  {
   "cell_type": "code",
   "execution_count": 205,
   "metadata": {},
   "outputs": [
    {
     "data": {
      "text/html": [
       "<div>\n",
       "<style scoped>\n",
       "    .dataframe tbody tr th:only-of-type {\n",
       "        vertical-align: middle;\n",
       "    }\n",
       "\n",
       "    .dataframe tbody tr th {\n",
       "        vertical-align: top;\n",
       "    }\n",
       "\n",
       "    .dataframe thead th {\n",
       "        text-align: right;\n",
       "    }\n",
       "</style>\n",
       "<table border=\"1\" class=\"dataframe\">\n",
       "  <thead>\n",
       "    <tr style=\"text-align: right;\">\n",
       "      <th></th>\n",
       "      <th>bill_length_mm</th>\n",
       "      <th>bill_depth_mm</th>\n",
       "    </tr>\n",
       "  </thead>\n",
       "  <tbody>\n",
       "    <tr>\n",
       "      <th>0</th>\n",
       "      <td>39.1</td>\n",
       "      <td>18.7</td>\n",
       "    </tr>\n",
       "    <tr>\n",
       "      <th>1</th>\n",
       "      <td>39.5</td>\n",
       "      <td>17.4</td>\n",
       "    </tr>\n",
       "    <tr>\n",
       "      <th>2</th>\n",
       "      <td>40.3</td>\n",
       "      <td>18.0</td>\n",
       "    </tr>\n",
       "    <tr>\n",
       "      <th>3</th>\n",
       "      <td>NaN</td>\n",
       "      <td>NaN</td>\n",
       "    </tr>\n",
       "    <tr>\n",
       "      <th>4</th>\n",
       "      <td>36.7</td>\n",
       "      <td>19.3</td>\n",
       "    </tr>\n",
       "  </tbody>\n",
       "</table>\n",
       "</div>"
      ],
      "text/plain": [
       "   bill_length_mm  bill_depth_mm\n",
       "0            39.1           18.7\n",
       "1            39.5           17.4\n",
       "2            40.3           18.0\n",
       "3             NaN            NaN\n",
       "4            36.7           19.3"
      ]
     },
     "execution_count": 205,
     "metadata": {},
     "output_type": "execute_result"
    }
   ],
   "source": [
    "keep_cols = ['bill_length_mm', 'bill_depth_mm']\n",
    "df_v2 = df.filter(keep_cols)\n",
    "df_v2.head()"
   ]
  },
  {
   "attachments": {},
   "cell_type": "markdown",
   "metadata": {},
   "source": [
    "Oppure è possibile che si vogliano eliminare una o più colonne:"
   ]
  },
  {
   "cell_type": "code",
   "execution_count": 221,
   "metadata": {},
   "outputs": [
    {
     "data": {
      "text/html": [
       "<div>\n",
       "<style scoped>\n",
       "    .dataframe tbody tr th:only-of-type {\n",
       "        vertical-align: middle;\n",
       "    }\n",
       "\n",
       "    .dataframe tbody tr th {\n",
       "        vertical-align: top;\n",
       "    }\n",
       "\n",
       "    .dataframe thead th {\n",
       "        text-align: right;\n",
       "    }\n",
       "</style>\n",
       "<table border=\"1\" class=\"dataframe\">\n",
       "  <thead>\n",
       "    <tr style=\"text-align: right;\">\n",
       "      <th></th>\n",
       "      <th>species</th>\n",
       "      <th>island</th>\n",
       "      <th>bill_length_mm</th>\n",
       "      <th>bill_depth_mm</th>\n",
       "      <th>flipper_length_mm</th>\n",
       "      <th>body_mass_g</th>\n",
       "    </tr>\n",
       "  </thead>\n",
       "  <tbody>\n",
       "    <tr>\n",
       "      <th>0</th>\n",
       "      <td>Adelie</td>\n",
       "      <td>Torgersen</td>\n",
       "      <td>39.1</td>\n",
       "      <td>18.7</td>\n",
       "      <td>181.0</td>\n",
       "      <td>3750.0</td>\n",
       "    </tr>\n",
       "    <tr>\n",
       "      <th>1</th>\n",
       "      <td>Adelie</td>\n",
       "      <td>Torgersen</td>\n",
       "      <td>39.5</td>\n",
       "      <td>17.4</td>\n",
       "      <td>186.0</td>\n",
       "      <td>3800.0</td>\n",
       "    </tr>\n",
       "  </tbody>\n",
       "</table>\n",
       "</div>"
      ],
      "text/plain": [
       "  species     island  bill_length_mm  bill_depth_mm  flipper_length_mm  \\\n",
       "0  Adelie  Torgersen            39.1           18.7              181.0   \n",
       "1  Adelie  Torgersen            39.5           17.4              186.0   \n",
       "\n",
       "   body_mass_g  \n",
       "0       3750.0  \n",
       "1       3800.0  "
      ]
     },
     "execution_count": 221,
     "metadata": {},
     "output_type": "execute_result"
    }
   ],
   "source": [
    "drop_cols = ['sex', 'year']\n",
    "df2.drop(drop_cols, axis=1, inplace=True)\n",
    "df2.head(2)"
   ]
  },
  {
   "attachments": {},
   "cell_type": "markdown",
   "metadata": {},
   "source": [
    "Si noti che `axis=1` si riferisce alle colonne mentre `axis=0` fa riferimento alle righe. L'argomento `inplace` impostato su `True` aggiorna l'oggetto originale in maniera permanente.\n",
    "\n",
    "## Selezionare le righe con `isin`\n",
    "\n",
    "Un'operazione molto comune nell'analisi dei dati corrisponde alla selezione di un insieme di righe dal DataFrame. Supponiamo di volere escludere tutte le osservazioni (righe) che si riferiscono all'isola `Torgersen`. Per prima cosa stampo le modalità di `island`:"
   ]
  },
  {
   "cell_type": "code",
   "execution_count": 19,
   "metadata": {},
   "outputs": [
    {
     "data": {
      "text/plain": [
       "array(['Torgersen', 'Biscoe', 'Dream'], dtype=object)"
      ]
     },
     "execution_count": 19,
     "metadata": {},
     "output_type": "execute_result"
    }
   ],
   "source": [
    "df.island.unique()"
   ]
  },
  {
   "attachments": {},
   "cell_type": "markdown",
   "metadata": {},
   "source": [
    "Ora elenco le modalità che voglio mantenere:"
   ]
  },
  {
   "cell_type": "code",
   "execution_count": null,
   "metadata": {},
   "outputs": [],
   "source": [
    "filtered_list = ['Biscoe', 'Dream']"
   ]
  },
  {
   "attachments": {},
   "cell_type": "markdown",
   "metadata": {},
   "source": [
    "Infine, applico il medoto `.isin()`:"
   ]
  },
  {
   "cell_type": "code",
   "execution_count": 20,
   "metadata": {},
   "outputs": [
    {
     "data": {
      "text/plain": [
       "array(['Biscoe', 'Dream'], dtype=object)"
      ]
     },
     "execution_count": 20,
     "metadata": {},
     "output_type": "execute_result"
    }
   ],
   "source": [
    "check1 = df[df['island'].isin(filtered_list)]\n",
    "check1['island'].unique()"
   ]
  },
  {
   "attachments": {},
   "cell_type": "markdown",
   "metadata": {},
   "source": [
    "## Ordinare le colonne\n",
    "\n",
    "Talvolta è utile avere nel DataFrame le colonne in un certo ordine."
   ]
  },
  {
   "cell_type": "code",
   "execution_count": 21,
   "metadata": {},
   "outputs": [
    {
     "data": {
      "text/html": [
       "<div>\n",
       "<style scoped>\n",
       "    .dataframe tbody tr th:only-of-type {\n",
       "        vertical-align: middle;\n",
       "    }\n",
       "\n",
       "    .dataframe tbody tr th {\n",
       "        vertical-align: top;\n",
       "    }\n",
       "\n",
       "    .dataframe thead th {\n",
       "        text-align: right;\n",
       "    }\n",
       "</style>\n",
       "<table border=\"1\" class=\"dataframe\">\n",
       "  <thead>\n",
       "    <tr style=\"text-align: right;\">\n",
       "      <th></th>\n",
       "      <th>species</th>\n",
       "      <th>island</th>\n",
       "      <th>bill_length_mm</th>\n",
       "      <th>bill_depth_mm</th>\n",
       "      <th>flipper_length_mm</th>\n",
       "      <th>body_mass_g</th>\n",
       "      <th>sex</th>\n",
       "      <th>year</th>\n",
       "    </tr>\n",
       "  </thead>\n",
       "  <tbody>\n",
       "    <tr>\n",
       "      <th>0</th>\n",
       "      <td>Adelie</td>\n",
       "      <td>Torgersen</td>\n",
       "      <td>39.1</td>\n",
       "      <td>18.7</td>\n",
       "      <td>181.0</td>\n",
       "      <td>3750.0</td>\n",
       "      <td>male</td>\n",
       "      <td>2007</td>\n",
       "    </tr>\n",
       "    <tr>\n",
       "      <th>1</th>\n",
       "      <td>Adelie</td>\n",
       "      <td>Torgersen</td>\n",
       "      <td>39.5</td>\n",
       "      <td>17.4</td>\n",
       "      <td>186.0</td>\n",
       "      <td>3800.0</td>\n",
       "      <td>female</td>\n",
       "      <td>2007</td>\n",
       "    </tr>\n",
       "  </tbody>\n",
       "</table>\n",
       "</div>"
      ],
      "text/plain": [
       "  species     island  bill_length_mm  bill_depth_mm  flipper_length_mm  \\\n",
       "0  Adelie  Torgersen            39.1           18.7              181.0   \n",
       "1  Adelie  Torgersen            39.5           17.4              186.0   \n",
       "\n",
       "   body_mass_g     sex  year  \n",
       "0       3750.0    male  2007  \n",
       "1       3800.0  female  2007  "
      ]
     },
     "execution_count": 21,
     "metadata": {},
     "output_type": "execute_result"
    }
   ],
   "source": [
    "df.head(2)"
   ]
  },
  {
   "attachments": {},
   "cell_type": "markdown",
   "metadata": {},
   "source": [
    "Ora cambio l'ordine delle colonne applicando il metodo `.reindex()`:"
   ]
  },
  {
   "cell_type": "code",
   "execution_count": 23,
   "metadata": {},
   "outputs": [
    {
     "data": {
      "text/html": [
       "<div>\n",
       "<style scoped>\n",
       "    .dataframe tbody tr th:only-of-type {\n",
       "        vertical-align: middle;\n",
       "    }\n",
       "\n",
       "    .dataframe tbody tr th {\n",
       "        vertical-align: top;\n",
       "    }\n",
       "\n",
       "    .dataframe thead th {\n",
       "        text-align: right;\n",
       "    }\n",
       "</style>\n",
       "<table border=\"1\" class=\"dataframe\">\n",
       "  <thead>\n",
       "    <tr style=\"text-align: right;\">\n",
       "      <th></th>\n",
       "      <th>species</th>\n",
       "      <th>island</th>\n",
       "      <th>sex</th>\n",
       "      <th>year</th>\n",
       "      <th>flipper_length_mm</th>\n",
       "      <th>body_mass_g</th>\n",
       "      <th>bill_length_mm</th>\n",
       "      <th>bill_depth_mm</th>\n",
       "    </tr>\n",
       "  </thead>\n",
       "  <tbody>\n",
       "    <tr>\n",
       "      <th>0</th>\n",
       "      <td>Adelie</td>\n",
       "      <td>Torgersen</td>\n",
       "      <td>male</td>\n",
       "      <td>2007</td>\n",
       "      <td>181.0</td>\n",
       "      <td>3750.0</td>\n",
       "      <td>39.1</td>\n",
       "      <td>18.7</td>\n",
       "    </tr>\n",
       "    <tr>\n",
       "      <th>1</th>\n",
       "      <td>Adelie</td>\n",
       "      <td>Torgersen</td>\n",
       "      <td>female</td>\n",
       "      <td>2007</td>\n",
       "      <td>186.0</td>\n",
       "      <td>3800.0</td>\n",
       "      <td>39.5</td>\n",
       "      <td>17.4</td>\n",
       "    </tr>\n",
       "  </tbody>\n",
       "</table>\n",
       "</div>"
      ],
      "text/plain": [
       "  species     island     sex  year  flipper_length_mm  body_mass_g  \\\n",
       "0  Adelie  Torgersen    male  2007              181.0       3750.0   \n",
       "1  Adelie  Torgersen  female  2007              186.0       3800.0   \n",
       "\n",
       "   bill_length_mm  bill_depth_mm  \n",
       "0            39.1           18.7  \n",
       "1            39.5           17.4  "
      ]
     },
     "execution_count": 23,
     "metadata": {},
     "output_type": "execute_result"
    }
   ],
   "source": [
    "new_order = ['species', 'island', 'sex', 'year', 'flipper_length_mm', 'body_mass_g', \n",
    "             'bill_length_mm', 'bill_depth_mm']\n",
    "df_new = df.reindex(new_order, axis=1)\n",
    "df_new.head(2)"
   ]
  },
  {
   "attachments": {},
   "cell_type": "markdown",
   "metadata": {},
   "source": [
    "## Rinominare le colonne \n",
    "\n",
    "Molto spesso succede di volere rinominare le colonne del DataFrame. A questo fine è possibile usare il metodo `.rename()`. Si presti attenzione alla sintassi `'old_name': 'new_name'`:"
   ]
  },
  {
   "cell_type": "code",
   "execution_count": 25,
   "metadata": {},
   "outputs": [
    {
     "data": {
      "text/html": [
       "<div>\n",
       "<style scoped>\n",
       "    .dataframe tbody tr th:only-of-type {\n",
       "        vertical-align: middle;\n",
       "    }\n",
       "\n",
       "    .dataframe tbody tr th {\n",
       "        vertical-align: top;\n",
       "    }\n",
       "\n",
       "    .dataframe thead th {\n",
       "        text-align: right;\n",
       "    }\n",
       "</style>\n",
       "<table border=\"1\" class=\"dataframe\">\n",
       "  <thead>\n",
       "    <tr style=\"text-align: right;\">\n",
       "      <th></th>\n",
       "      <th>species</th>\n",
       "      <th>island</th>\n",
       "      <th>sex</th>\n",
       "      <th>year</th>\n",
       "      <th>flipper_length_mm</th>\n",
       "      <th>body_mass_g</th>\n",
       "      <th>bill_length</th>\n",
       "      <th>bill_depth</th>\n",
       "    </tr>\n",
       "  </thead>\n",
       "  <tbody>\n",
       "    <tr>\n",
       "      <th>0</th>\n",
       "      <td>Adelie</td>\n",
       "      <td>Torgersen</td>\n",
       "      <td>male</td>\n",
       "      <td>2007</td>\n",
       "      <td>181.0</td>\n",
       "      <td>3750.0</td>\n",
       "      <td>39.1</td>\n",
       "      <td>18.7</td>\n",
       "    </tr>\n",
       "    <tr>\n",
       "      <th>1</th>\n",
       "      <td>Adelie</td>\n",
       "      <td>Torgersen</td>\n",
       "      <td>female</td>\n",
       "      <td>2007</td>\n",
       "      <td>186.0</td>\n",
       "      <td>3800.0</td>\n",
       "      <td>39.5</td>\n",
       "      <td>17.4</td>\n",
       "    </tr>\n",
       "  </tbody>\n",
       "</table>\n",
       "</div>"
      ],
      "text/plain": [
       "  species     island     sex  year  flipper_length_mm  body_mass_g  \\\n",
       "0  Adelie  Torgersen    male  2007              181.0       3750.0   \n",
       "1  Adelie  Torgersen  female  2007              186.0       3800.0   \n",
       "\n",
       "   bill_length  bill_depth  \n",
       "0         39.1        18.7  \n",
       "1         39.5        17.4  "
      ]
     },
     "execution_count": 25,
     "metadata": {},
     "output_type": "execute_result"
    }
   ],
   "source": [
    "df_new = df_new.rename(\n",
    "    # 'old_name': 'new_name'\n",
    "    columns={'bill_length_mm': 'bill_length',\n",
    "             'bill_depth_mm': 'bill_depth'\n",
    "            })\n",
    "df_new.head(2)\n"
   ]
  },
  {
   "attachments": {},
   "cell_type": "markdown",
   "metadata": {},
   "source": [
    "## Convertire un DataFrame in formato *long*\n",
    "\n",
    "Capita spesso che i dati siano in formato *wide*, ovvero con le misurazioni (per esempio, temporali) dello stesso soggetto (o unità statistica) poste su diverse colonne. Quasi sempre vogliamo però che i dati siano in formato *tidy* (in questo caso, *long*), con tutti i dati della stessa variabile nella stessa colonna. È dunque necessario convertire un DataFrame dal formato *wide* a *long*.\n",
    "\n",
    "Per mostrare come si fa, creo un DataFrame più piccolo. Supponiamo che vi siano 4 soggetti, ciascuno identificato da un codice (`subj_idx`), i quali sono stati esaminati in 2 condizioni (`A`, `B`). I soggetti sono stati esaminati in tre momenti temporali diversi (`t_1`, `t_2`, `t_3`). Qui sotto presento i dati nel formato *wide*, nel quale le misurazioni (`t_1`, `t_2`, `t_3`) sono presenti su tre colonne:"
   ]
  },
  {
   "cell_type": "code",
   "execution_count": 222,
   "metadata": {},
   "outputs": [
    {
     "data": {
      "text/html": [
       "<div>\n",
       "<style scoped>\n",
       "    .dataframe tbody tr th:only-of-type {\n",
       "        vertical-align: middle;\n",
       "    }\n",
       "\n",
       "    .dataframe tbody tr th {\n",
       "        vertical-align: top;\n",
       "    }\n",
       "\n",
       "    .dataframe thead th {\n",
       "        text-align: right;\n",
       "    }\n",
       "</style>\n",
       "<table border=\"1\" class=\"dataframe\">\n",
       "  <thead>\n",
       "    <tr style=\"text-align: right;\">\n",
       "      <th></th>\n",
       "      <th>subj_idx</th>\n",
       "      <th>condition</th>\n",
       "      <th>t_1</th>\n",
       "      <th>t_2</th>\n",
       "      <th>t_3</th>\n",
       "    </tr>\n",
       "  </thead>\n",
       "  <tbody>\n",
       "    <tr>\n",
       "      <th>0</th>\n",
       "      <td>h38g18</td>\n",
       "      <td>A</td>\n",
       "      <td>10.2</td>\n",
       "      <td>1.1</td>\n",
       "      <td>2.5</td>\n",
       "    </tr>\n",
       "    <tr>\n",
       "      <th>1</th>\n",
       "      <td>hjds36</td>\n",
       "      <td>B</td>\n",
       "      <td>9.6</td>\n",
       "      <td>3.5</td>\n",
       "      <td>1.3</td>\n",
       "    </tr>\n",
       "    <tr>\n",
       "      <th>2</th>\n",
       "      <td>ghs41j</td>\n",
       "      <td>A</td>\n",
       "      <td>8.8</td>\n",
       "      <td>NaN</td>\n",
       "      <td>1.7</td>\n",
       "    </tr>\n",
       "    <tr>\n",
       "      <th>3</th>\n",
       "      <td>d33gjz</td>\n",
       "      <td>A</td>\n",
       "      <td>5.2</td>\n",
       "      <td>66.0</td>\n",
       "      <td>NaN</td>\n",
       "    </tr>\n",
       "  </tbody>\n",
       "</table>\n",
       "</div>"
      ],
      "text/plain": [
       "  subj_idx condition   t_1   t_2  t_3\n",
       "0   h38g18         A  10.2   1.1  2.5\n",
       "1   hjds36         B   9.6   3.5  1.3\n",
       "2   ghs41j         A   8.8   NaN  1.7\n",
       "3   d33gjz         A   5.2  66.0  NaN"
      ]
     },
     "execution_count": 222,
     "metadata": {},
     "output_type": "execute_result"
    }
   ],
   "source": [
    "mydf = pd.DataFrame({\"subj_idx\": ['h38g18', 'hjds36', 'ghs41j', 'd33gjz'],\n",
    "                     \"condition\": ['A', 'B', 'A', 'A'],\n",
    "                     \"t_1\": [10.2, 9.6, 8.8, 5.2],\n",
    "                     \"t_2\": [1.1, 3.5, None, 66.],\n",
    "                     \"t_3\": [2.5, 1.3, 1.7, None]})\n",
    "mydf"
   ]
  },
  {
   "attachments": {},
   "cell_type": "markdown",
   "metadata": {},
   "source": [
    "Si noti che ho costruito il DataFrame utilizzando la sintassi del dizionario. In maniera equivalente, posso procedere nel modo seguente:"
   ]
  },
  {
   "cell_type": "code",
   "execution_count": 231,
   "metadata": {},
   "outputs": [
    {
     "data": {
      "text/html": [
       "<div>\n",
       "<style scoped>\n",
       "    .dataframe tbody tr th:only-of-type {\n",
       "        vertical-align: middle;\n",
       "    }\n",
       "\n",
       "    .dataframe tbody tr th {\n",
       "        vertical-align: top;\n",
       "    }\n",
       "\n",
       "    .dataframe thead th {\n",
       "        text-align: right;\n",
       "    }\n",
       "</style>\n",
       "<table border=\"1\" class=\"dataframe\">\n",
       "  <thead>\n",
       "    <tr style=\"text-align: right;\">\n",
       "      <th></th>\n",
       "      <th>subj_idx</th>\n",
       "      <th>condition</th>\n",
       "      <th>t_1</th>\n",
       "      <th>t_2</th>\n",
       "      <th>t_3</th>\n",
       "    </tr>\n",
       "  </thead>\n",
       "  <tbody>\n",
       "    <tr>\n",
       "      <th>0</th>\n",
       "      <td>h38g18</td>\n",
       "      <td>A</td>\n",
       "      <td>10.2</td>\n",
       "      <td>1.1</td>\n",
       "      <td>2.5</td>\n",
       "    </tr>\n",
       "    <tr>\n",
       "      <th>1</th>\n",
       "      <td>hjds36</td>\n",
       "      <td>B</td>\n",
       "      <td>9.6</td>\n",
       "      <td>3.5</td>\n",
       "      <td>1.3</td>\n",
       "    </tr>\n",
       "    <tr>\n",
       "      <th>2</th>\n",
       "      <td>ghs41j</td>\n",
       "      <td>A</td>\n",
       "      <td>8.8</td>\n",
       "      <td>NaN</td>\n",
       "      <td>1.7</td>\n",
       "    </tr>\n",
       "    <tr>\n",
       "      <th>3</th>\n",
       "      <td>d33gjz</td>\n",
       "      <td>A</td>\n",
       "      <td>5.2</td>\n",
       "      <td>66.0</td>\n",
       "      <td>NaN</td>\n",
       "    </tr>\n",
       "  </tbody>\n",
       "</table>\n",
       "</div>"
      ],
      "text/plain": [
       "  subj_idx condition   t_1   t_2  t_3\n",
       "0   h38g18         A  10.2   1.1  2.5\n",
       "1   hjds36         B   9.6   3.5  1.3\n",
       "2   ghs41j         A   8.8   NaN  1.7\n",
       "3   d33gjz         A   5.2  66.0  NaN"
      ]
     },
     "execution_count": 231,
     "metadata": {},
     "output_type": "execute_result"
    }
   ],
   "source": [
    "mydf = pd.DataFrame()\n",
    "\n",
    "subj_idx = ['h38g18', 'hjds36', 'ghs41j', 'd33gjz']\n",
    "condition = ['A', 'B', 'A', 'A']\n",
    "t_1 = [10.2, 9.6, 8.8, 5.2]\n",
    "t_2 = [1.1, 3.5, None, 66.]\n",
    "t_3 = [2.5, 1.3, 1.7, None]\n",
    "\n",
    "mydf['subj_idx'] = subj_idx\n",
    "mydf['condition'] = condition\n",
    "mydf['t_1'] = t_1\n",
    "mydf['t_2'] = t_2\n",
    "mydf['t_3'] = t_3\n",
    "\n",
    "mydf"
   ]
  },
  {
   "attachments": {},
   "cell_type": "markdown",
   "metadata": {},
   "source": [
    "Per molte analisi dei dati è necessario che i dati siano in formato *long*, ovvero, per l'esempio presente, nella forma di un DataFrame in cui è presente una colonna con tre modalità (`t_1`, `t_2`, `t_3`) e una colonna che riporta i valori che originariamenete erano nelle tre colonne `t_1`, `t_2`, `t_3` del DataFrame `mydf`. Il risultato desiderato si ottiene con il metodo `.melt()`:"
   ]
  },
  {
   "cell_type": "code",
   "execution_count": 225,
   "metadata": {},
   "outputs": [
    {
     "data": {
      "text/html": [
       "<div>\n",
       "<style scoped>\n",
       "    .dataframe tbody tr th:only-of-type {\n",
       "        vertical-align: middle;\n",
       "    }\n",
       "\n",
       "    .dataframe tbody tr th {\n",
       "        vertical-align: top;\n",
       "    }\n",
       "\n",
       "    .dataframe thead th {\n",
       "        text-align: right;\n",
       "    }\n",
       "</style>\n",
       "<table border=\"1\" class=\"dataframe\">\n",
       "  <thead>\n",
       "    <tr style=\"text-align: right;\">\n",
       "      <th></th>\n",
       "      <th>subj_idx</th>\n",
       "      <th>condition</th>\n",
       "      <th>variable</th>\n",
       "      <th>value</th>\n",
       "    </tr>\n",
       "  </thead>\n",
       "  <tbody>\n",
       "    <tr>\n",
       "      <th>0</th>\n",
       "      <td>h38g18</td>\n",
       "      <td>A</td>\n",
       "      <td>t_1</td>\n",
       "      <td>10.2</td>\n",
       "    </tr>\n",
       "    <tr>\n",
       "      <th>1</th>\n",
       "      <td>hjds36</td>\n",
       "      <td>B</td>\n",
       "      <td>t_1</td>\n",
       "      <td>9.6</td>\n",
       "    </tr>\n",
       "    <tr>\n",
       "      <th>2</th>\n",
       "      <td>ghs41j</td>\n",
       "      <td>A</td>\n",
       "      <td>t_1</td>\n",
       "      <td>8.8</td>\n",
       "    </tr>\n",
       "    <tr>\n",
       "      <th>3</th>\n",
       "      <td>d33gjz</td>\n",
       "      <td>A</td>\n",
       "      <td>t_1</td>\n",
       "      <td>5.2</td>\n",
       "    </tr>\n",
       "    <tr>\n",
       "      <th>4</th>\n",
       "      <td>h38g18</td>\n",
       "      <td>A</td>\n",
       "      <td>t_2</td>\n",
       "      <td>1.1</td>\n",
       "    </tr>\n",
       "    <tr>\n",
       "      <th>5</th>\n",
       "      <td>hjds36</td>\n",
       "      <td>B</td>\n",
       "      <td>t_2</td>\n",
       "      <td>3.5</td>\n",
       "    </tr>\n",
       "    <tr>\n",
       "      <th>6</th>\n",
       "      <td>ghs41j</td>\n",
       "      <td>A</td>\n",
       "      <td>t_2</td>\n",
       "      <td>NaN</td>\n",
       "    </tr>\n",
       "    <tr>\n",
       "      <th>7</th>\n",
       "      <td>d33gjz</td>\n",
       "      <td>A</td>\n",
       "      <td>t_2</td>\n",
       "      <td>66.0</td>\n",
       "    </tr>\n",
       "    <tr>\n",
       "      <th>8</th>\n",
       "      <td>h38g18</td>\n",
       "      <td>A</td>\n",
       "      <td>t_3</td>\n",
       "      <td>2.5</td>\n",
       "    </tr>\n",
       "    <tr>\n",
       "      <th>9</th>\n",
       "      <td>hjds36</td>\n",
       "      <td>B</td>\n",
       "      <td>t_3</td>\n",
       "      <td>1.3</td>\n",
       "    </tr>\n",
       "    <tr>\n",
       "      <th>10</th>\n",
       "      <td>ghs41j</td>\n",
       "      <td>A</td>\n",
       "      <td>t_3</td>\n",
       "      <td>1.7</td>\n",
       "    </tr>\n",
       "    <tr>\n",
       "      <th>11</th>\n",
       "      <td>d33gjz</td>\n",
       "      <td>A</td>\n",
       "      <td>t_3</td>\n",
       "      <td>NaN</td>\n",
       "    </tr>\n",
       "  </tbody>\n",
       "</table>\n",
       "</div>"
      ],
      "text/plain": [
       "   subj_idx condition variable  value\n",
       "0    h38g18         A      t_1   10.2\n",
       "1    hjds36         B      t_1    9.6\n",
       "2    ghs41j         A      t_1    8.8\n",
       "3    d33gjz         A      t_1    5.2\n",
       "4    h38g18         A      t_2    1.1\n",
       "5    hjds36         B      t_2    3.5\n",
       "6    ghs41j         A      t_2    NaN\n",
       "7    d33gjz         A      t_2   66.0\n",
       "8    h38g18         A      t_3    2.5\n",
       "9    hjds36         B      t_3    1.3\n",
       "10   ghs41j         A      t_3    1.7\n",
       "11   d33gjz         A      t_3    NaN"
      ]
     },
     "execution_count": 225,
     "metadata": {},
     "output_type": "execute_result"
    }
   ],
   "source": [
    "mydf_long = mydf.melt(id_vars=['subj_idx', 'condition'])\n",
    "mydf_long"
   ]
  },
  {
   "attachments": {},
   "cell_type": "markdown",
   "metadata": {},
   "source": [
    "Per chiarezza rinomino le due nuove colonne:"
   ]
  },
  {
   "cell_type": "code",
   "execution_count": 226,
   "metadata": {},
   "outputs": [
    {
     "data": {
      "text/html": [
       "<div>\n",
       "<style scoped>\n",
       "    .dataframe tbody tr th:only-of-type {\n",
       "        vertical-align: middle;\n",
       "    }\n",
       "\n",
       "    .dataframe tbody tr th {\n",
       "        vertical-align: top;\n",
       "    }\n",
       "\n",
       "    .dataframe thead th {\n",
       "        text-align: right;\n",
       "    }\n",
       "</style>\n",
       "<table border=\"1\" class=\"dataframe\">\n",
       "  <thead>\n",
       "    <tr style=\"text-align: right;\">\n",
       "      <th></th>\n",
       "      <th>subj_idx</th>\n",
       "      <th>condition</th>\n",
       "      <th>time</th>\n",
       "      <th>y</th>\n",
       "    </tr>\n",
       "  </thead>\n",
       "  <tbody>\n",
       "    <tr>\n",
       "      <th>0</th>\n",
       "      <td>h38g18</td>\n",
       "      <td>A</td>\n",
       "      <td>t_1</td>\n",
       "      <td>10.2</td>\n",
       "    </tr>\n",
       "    <tr>\n",
       "      <th>1</th>\n",
       "      <td>hjds36</td>\n",
       "      <td>B</td>\n",
       "      <td>t_1</td>\n",
       "      <td>9.6</td>\n",
       "    </tr>\n",
       "    <tr>\n",
       "      <th>2</th>\n",
       "      <td>ghs41j</td>\n",
       "      <td>A</td>\n",
       "      <td>t_1</td>\n",
       "      <td>8.8</td>\n",
       "    </tr>\n",
       "    <tr>\n",
       "      <th>3</th>\n",
       "      <td>d33gjz</td>\n",
       "      <td>A</td>\n",
       "      <td>t_1</td>\n",
       "      <td>5.2</td>\n",
       "    </tr>\n",
       "    <tr>\n",
       "      <th>4</th>\n",
       "      <td>h38g18</td>\n",
       "      <td>A</td>\n",
       "      <td>t_2</td>\n",
       "      <td>1.1</td>\n",
       "    </tr>\n",
       "    <tr>\n",
       "      <th>5</th>\n",
       "      <td>hjds36</td>\n",
       "      <td>B</td>\n",
       "      <td>t_2</td>\n",
       "      <td>3.5</td>\n",
       "    </tr>\n",
       "    <tr>\n",
       "      <th>6</th>\n",
       "      <td>ghs41j</td>\n",
       "      <td>A</td>\n",
       "      <td>t_2</td>\n",
       "      <td>NaN</td>\n",
       "    </tr>\n",
       "    <tr>\n",
       "      <th>7</th>\n",
       "      <td>d33gjz</td>\n",
       "      <td>A</td>\n",
       "      <td>t_2</td>\n",
       "      <td>66.0</td>\n",
       "    </tr>\n",
       "    <tr>\n",
       "      <th>8</th>\n",
       "      <td>h38g18</td>\n",
       "      <td>A</td>\n",
       "      <td>t_3</td>\n",
       "      <td>2.5</td>\n",
       "    </tr>\n",
       "    <tr>\n",
       "      <th>9</th>\n",
       "      <td>hjds36</td>\n",
       "      <td>B</td>\n",
       "      <td>t_3</td>\n",
       "      <td>1.3</td>\n",
       "    </tr>\n",
       "    <tr>\n",
       "      <th>10</th>\n",
       "      <td>ghs41j</td>\n",
       "      <td>A</td>\n",
       "      <td>t_3</td>\n",
       "      <td>1.7</td>\n",
       "    </tr>\n",
       "    <tr>\n",
       "      <th>11</th>\n",
       "      <td>d33gjz</td>\n",
       "      <td>A</td>\n",
       "      <td>t_3</td>\n",
       "      <td>NaN</td>\n",
       "    </tr>\n",
       "  </tbody>\n",
       "</table>\n",
       "</div>"
      ],
      "text/plain": [
       "   subj_idx condition time     y\n",
       "0    h38g18         A  t_1  10.2\n",
       "1    hjds36         B  t_1   9.6\n",
       "2    ghs41j         A  t_1   8.8\n",
       "3    d33gjz         A  t_1   5.2\n",
       "4    h38g18         A  t_2   1.1\n",
       "5    hjds36         B  t_2   3.5\n",
       "6    ghs41j         A  t_2   NaN\n",
       "7    d33gjz         A  t_2  66.0\n",
       "8    h38g18         A  t_3   2.5\n",
       "9    hjds36         B  t_3   1.3\n",
       "10   ghs41j         A  t_3   1.7\n",
       "11   d33gjz         A  t_3   NaN"
      ]
     },
     "execution_count": 226,
     "metadata": {},
     "output_type": "execute_result"
    }
   ],
   "source": [
    "mydf_long = mydf_long.rename(\n",
    "    # 'old_name': 'new_name'\n",
    "    columns={'variable': 'time',\n",
    "             'value': 'y'\n",
    "             })\n",
    "mydf_long\n"
   ]
  },
  {
   "attachments": {},
   "cell_type": "markdown",
   "metadata": {},
   "source": [
    "## Salvare un file csv"
   ]
  },
  {
   "attachments": {},
   "cell_type": "markdown",
   "metadata": {},
   "source": [
    "Se vogliamo salvare i dati contenuti in un DataFrame usiamo il metodo `.to_csv()`. Ad esempio, salvo nella cartella `data` il file `my_new_file.csv` che contiene i dati `mydf_long`:"
   ]
  },
  {
   "cell_type": "code",
   "execution_count": 56,
   "metadata": {},
   "outputs": [],
   "source": [
    "mydf_long.to_csv('data/my_new_file.csv')"
   ]
  },
  {
   "attachments": {},
   "cell_type": "markdown",
   "metadata": {},
   "source": [
    "Per controllare che abbia funzionato, esamino i file della cartella `data`:"
   ]
  },
  {
   "cell_type": "code",
   "execution_count": 57,
   "metadata": {},
   "outputs": [
    {
     "name": "stdout",
     "output_type": "stream",
     "text": [
      "total 1472\n",
      "drwxr-xr-x  15 corrado  staff     480 Jan  6 07:31 .\n",
      "drwxr-xr-x  60 corrado  staff    1920 Jan  6 07:55 ..\n",
      "-rw-r--r--@  1 corrado  staff    6148 Jan  4 09:47 .DS_Store\n",
      "-rw-r--r--   1 corrado  staff   44762 Nov 20 08:11 MehrSongSpelke_exp_1.csv\n",
      "-rw-r--r--   1 corrado  staff  382365 Nov 20 08:11 data.mood.csv\n",
      "-rw-rw-r--@  1 corrado  staff   59084 Nov  8  2021 datasaurus.csv\n",
      "-rwxr-xr-x   1 corrado  staff   52843 Nov 20 08:11 heights.RDS\n",
      "-rwxr-xr-x   1 corrado  staff   53636 Nov 20 08:11 heights.csv\n",
      "-rwxr-xr-x   1 corrado  staff   13078 Nov 20 08:11 kidiq.dta\n",
      "-rw-r--r--   1 corrado  staff    1392 Nov 20 08:11 kilpisjarvi-summer-temp.csv\n",
      "-rw-r--r--@  1 corrado  staff     256 Jan  6 07:58 my_new_file.csv\n",
      "-rw-rw-r--   1 corrado  staff   15241 Dec 25 05:06 penguins.csv\n",
      "-rw-r--r--   1 corrado  staff   81099 Nov 20 08:11 pone.0201581.s001.sav\n",
      "-rw-r--r--   1 corrado  staff   12587 Nov 20 08:11 psicometria_2021.txt\n",
      "-rwxr-xr-x   1 corrado  staff     761 Nov 20 08:11 seaice.csv\n",
      "0\n"
     ]
    }
   ],
   "source": [
    "import os\n",
    "print(os.system(\"ls -al data\"))"
   ]
  },
  {
   "attachments": {},
   "cell_type": "markdown",
   "metadata": {},
   "source": [
    "Si noti che ho usato il metodo `os.system()` il quale prende come argomento una stringa contenente le normali istruzioni che vengono usate sulla console del sistema operativo (nel mio caso, comandi Unix)."
   ]
  },
  {
   "attachments": {},
   "cell_type": "markdown",
   "metadata": {},
   "source": [
    "## Cambiare i valori del DataFrame\n",
    "\n",
    "Per cambiare i valori di un DataFrame uso il metodo `.mask()` che dipende dalle condizioni logiche specificate. Per fare un esempio, uso nuovamente il DataFrame più piccolo creato sopra:"
   ]
  },
  {
   "cell_type": "code",
   "execution_count": 227,
   "metadata": {},
   "outputs": [
    {
     "data": {
      "text/html": [
       "<div>\n",
       "<style scoped>\n",
       "    .dataframe tbody tr th:only-of-type {\n",
       "        vertical-align: middle;\n",
       "    }\n",
       "\n",
       "    .dataframe tbody tr th {\n",
       "        vertical-align: top;\n",
       "    }\n",
       "\n",
       "    .dataframe thead th {\n",
       "        text-align: right;\n",
       "    }\n",
       "</style>\n",
       "<table border=\"1\" class=\"dataframe\">\n",
       "  <thead>\n",
       "    <tr style=\"text-align: right;\">\n",
       "      <th></th>\n",
       "      <th>subj_idx</th>\n",
       "      <th>condition</th>\n",
       "      <th>t_1</th>\n",
       "      <th>t_2</th>\n",
       "      <th>t_3</th>\n",
       "    </tr>\n",
       "  </thead>\n",
       "  <tbody>\n",
       "    <tr>\n",
       "      <th>0</th>\n",
       "      <td>h38g18</td>\n",
       "      <td>A</td>\n",
       "      <td>10.2</td>\n",
       "      <td>1.1</td>\n",
       "      <td>2.5</td>\n",
       "    </tr>\n",
       "    <tr>\n",
       "      <th>1</th>\n",
       "      <td>hjds36</td>\n",
       "      <td>B</td>\n",
       "      <td>9.6</td>\n",
       "      <td>3.5</td>\n",
       "      <td>1.3</td>\n",
       "    </tr>\n",
       "    <tr>\n",
       "      <th>2</th>\n",
       "      <td>ghs41j</td>\n",
       "      <td>A</td>\n",
       "      <td>8.8</td>\n",
       "      <td>NaN</td>\n",
       "      <td>1.7</td>\n",
       "    </tr>\n",
       "    <tr>\n",
       "      <th>3</th>\n",
       "      <td>d33gjz</td>\n",
       "      <td>A</td>\n",
       "      <td>5.2</td>\n",
       "      <td>66.0</td>\n",
       "      <td>NaN</td>\n",
       "    </tr>\n",
       "  </tbody>\n",
       "</table>\n",
       "</div>"
      ],
      "text/plain": [
       "  subj_idx condition   t_1   t_2  t_3\n",
       "0   h38g18         A  10.2   1.1  2.5\n",
       "1   hjds36         B   9.6   3.5  1.3\n",
       "2   ghs41j         A   8.8   NaN  1.7\n",
       "3   d33gjz         A   5.2  66.0  NaN"
      ]
     },
     "execution_count": 227,
     "metadata": {},
     "output_type": "execute_result"
    }
   ],
   "source": [
    "mydf"
   ]
  },
  {
   "attachments": {},
   "cell_type": "markdown",
   "metadata": {},
   "source": [
    "Per identificare la cella del DataFrame che voglio cambiare, specifico (ad esempio) due condizioni logiche:\n",
    "\n",
    "- `mydf['subj_idx'] == 'hjds36'`\n",
    "- `mydf['condition'] == 'B'`\n",
    "\n",
    "Se entrambe queste condizioni logiche sono soddisfatte (ovvero, quando ho identificato la cella di interesse), allora cambio il valore della colonna `t_2` che da 3.0 deve diventare 100.0:"
   ]
  },
  {
   "cell_type": "code",
   "execution_count": 232,
   "metadata": {},
   "outputs": [
    {
     "data": {
      "text/html": [
       "<div>\n",
       "<style scoped>\n",
       "    .dataframe tbody tr th:only-of-type {\n",
       "        vertical-align: middle;\n",
       "    }\n",
       "\n",
       "    .dataframe tbody tr th {\n",
       "        vertical-align: top;\n",
       "    }\n",
       "\n",
       "    .dataframe thead th {\n",
       "        text-align: right;\n",
       "    }\n",
       "</style>\n",
       "<table border=\"1\" class=\"dataframe\">\n",
       "  <thead>\n",
       "    <tr style=\"text-align: right;\">\n",
       "      <th></th>\n",
       "      <th>subj_idx</th>\n",
       "      <th>condition</th>\n",
       "      <th>t_1</th>\n",
       "      <th>t_2</th>\n",
       "      <th>t_3</th>\n",
       "    </tr>\n",
       "  </thead>\n",
       "  <tbody>\n",
       "    <tr>\n",
       "      <th>0</th>\n",
       "      <td>h38g18</td>\n",
       "      <td>A</td>\n",
       "      <td>10.2</td>\n",
       "      <td>1.1</td>\n",
       "      <td>2.5</td>\n",
       "    </tr>\n",
       "    <tr>\n",
       "      <th>1</th>\n",
       "      <td>hjds36</td>\n",
       "      <td>B</td>\n",
       "      <td>9.6</td>\n",
       "      <td>100.0</td>\n",
       "      <td>1.3</td>\n",
       "    </tr>\n",
       "    <tr>\n",
       "      <th>2</th>\n",
       "      <td>ghs41j</td>\n",
       "      <td>A</td>\n",
       "      <td>8.8</td>\n",
       "      <td>NaN</td>\n",
       "      <td>1.7</td>\n",
       "    </tr>\n",
       "    <tr>\n",
       "      <th>3</th>\n",
       "      <td>d33gjz</td>\n",
       "      <td>A</td>\n",
       "      <td>5.2</td>\n",
       "      <td>66.0</td>\n",
       "      <td>NaN</td>\n",
       "    </tr>\n",
       "  </tbody>\n",
       "</table>\n",
       "</div>"
      ],
      "text/plain": [
       "  subj_idx condition   t_1    t_2  t_3\n",
       "0   h38g18         A  10.2    1.1  2.5\n",
       "1   hjds36         B   9.6  100.0  1.3\n",
       "2   ghs41j         A   8.8    NaN  1.7\n",
       "3   d33gjz         A   5.2   66.0  NaN"
      ]
     },
     "execution_count": 232,
     "metadata": {},
     "output_type": "execute_result"
    }
   ],
   "source": [
    "mydf['t_2'].mask(\n",
    "    (mydf['subj_idx'] == 'hjds36') & (mydf['condition'] == 'B'),\n",
    "    100.0, inplace=True)\n",
    "mydf"
   ]
  },
  {
   "attachments": {},
   "cell_type": "markdown",
   "metadata": {},
   "source": [
    "Il metodo `.mask()` può anche essere usato per creare una nuova colonna. Per esempio, aggiungo la misurazione `t_4` al soggetto `ghs41j` nella condizione `A`:"
   ]
  },
  {
   "cell_type": "code",
   "execution_count": 233,
   "metadata": {},
   "outputs": [
    {
     "data": {
      "text/html": [
       "<div>\n",
       "<style scoped>\n",
       "    .dataframe tbody tr th:only-of-type {\n",
       "        vertical-align: middle;\n",
       "    }\n",
       "\n",
       "    .dataframe tbody tr th {\n",
       "        vertical-align: top;\n",
       "    }\n",
       "\n",
       "    .dataframe thead th {\n",
       "        text-align: right;\n",
       "    }\n",
       "</style>\n",
       "<table border=\"1\" class=\"dataframe\">\n",
       "  <thead>\n",
       "    <tr style=\"text-align: right;\">\n",
       "      <th></th>\n",
       "      <th>subj_idx</th>\n",
       "      <th>condition</th>\n",
       "      <th>t_1</th>\n",
       "      <th>t_2</th>\n",
       "      <th>t_3</th>\n",
       "      <th>t_4</th>\n",
       "    </tr>\n",
       "  </thead>\n",
       "  <tbody>\n",
       "    <tr>\n",
       "      <th>0</th>\n",
       "      <td>h38g18</td>\n",
       "      <td>A</td>\n",
       "      <td>10.2</td>\n",
       "      <td>1.1</td>\n",
       "      <td>2.5</td>\n",
       "      <td></td>\n",
       "    </tr>\n",
       "    <tr>\n",
       "      <th>1</th>\n",
       "      <td>hjds36</td>\n",
       "      <td>B</td>\n",
       "      <td>9.6</td>\n",
       "      <td>100.0</td>\n",
       "      <td>1.3</td>\n",
       "      <td></td>\n",
       "    </tr>\n",
       "    <tr>\n",
       "      <th>2</th>\n",
       "      <td>ghs41j</td>\n",
       "      <td>A</td>\n",
       "      <td>8.8</td>\n",
       "      <td>NaN</td>\n",
       "      <td>1.7</td>\n",
       "      <td>9.3</td>\n",
       "    </tr>\n",
       "    <tr>\n",
       "      <th>3</th>\n",
       "      <td>d33gjz</td>\n",
       "      <td>A</td>\n",
       "      <td>5.2</td>\n",
       "      <td>66.0</td>\n",
       "      <td>NaN</td>\n",
       "      <td></td>\n",
       "    </tr>\n",
       "  </tbody>\n",
       "</table>\n",
       "</div>"
      ],
      "text/plain": [
       "  subj_idx condition   t_1    t_2  t_3  t_4\n",
       "0   h38g18         A  10.2    1.1  2.5     \n",
       "1   hjds36         B   9.6  100.0  1.3     \n",
       "2   ghs41j         A   8.8    NaN  1.7  9.3\n",
       "3   d33gjz         A   5.2   66.0  NaN     "
      ]
     },
     "execution_count": 233,
     "metadata": {},
     "output_type": "execute_result"
    }
   ],
   "source": [
    "mydf['t_4'] = \"\"\n",
    "mydf['t_4'].mask(\n",
    "    (mydf['subj_idx'] == 'ghs41j') & (mydf['condition'] == 'A'),\n",
    "    9.3, inplace=True)\n",
    "mydf"
   ]
  },
  {
   "attachments": {},
   "cell_type": "markdown",
   "metadata": {},
   "source": [
    "## Cambiare il tipo di dato di una variabile"
   ]
  },
  {
   "attachments": {},
   "cell_type": "markdown",
   "metadata": {},
   "source": [
    "Talvolta i valori di una colonna del DataFrame sono stati inseriti come stringhe di testo anche se sono dei numeri. Si noti l'uso degli apici (potrebbero essere, in maniera equivalente, delle virgolette):"
   ]
  },
  {
   "cell_type": "code",
   "execution_count": 234,
   "metadata": {},
   "outputs": [
    {
     "data": {
      "text/html": [
       "<div>\n",
       "<style scoped>\n",
       "    .dataframe tbody tr th:only-of-type {\n",
       "        vertical-align: middle;\n",
       "    }\n",
       "\n",
       "    .dataframe tbody tr th {\n",
       "        vertical-align: top;\n",
       "    }\n",
       "\n",
       "    .dataframe thead th {\n",
       "        text-align: right;\n",
       "    }\n",
       "</style>\n",
       "<table border=\"1\" class=\"dataframe\">\n",
       "  <thead>\n",
       "    <tr style=\"text-align: right;\">\n",
       "      <th></th>\n",
       "      <th>subj_idx</th>\n",
       "      <th>condition</th>\n",
       "      <th>t_1</th>\n",
       "      <th>t_2</th>\n",
       "      <th>t_3</th>\n",
       "      <th>t_4</th>\n",
       "      <th>new_vals</th>\n",
       "    </tr>\n",
       "  </thead>\n",
       "  <tbody>\n",
       "    <tr>\n",
       "      <th>0</th>\n",
       "      <td>h38g18</td>\n",
       "      <td>A</td>\n",
       "      <td>10.2</td>\n",
       "      <td>1.1</td>\n",
       "      <td>2.5</td>\n",
       "      <td></td>\n",
       "      <td>2</td>\n",
       "    </tr>\n",
       "    <tr>\n",
       "      <th>1</th>\n",
       "      <td>hjds36</td>\n",
       "      <td>B</td>\n",
       "      <td>9.6</td>\n",
       "      <td>100.0</td>\n",
       "      <td>1.3</td>\n",
       "      <td></td>\n",
       "      <td>1</td>\n",
       "    </tr>\n",
       "    <tr>\n",
       "      <th>2</th>\n",
       "      <td>ghs41j</td>\n",
       "      <td>A</td>\n",
       "      <td>8.8</td>\n",
       "      <td>NaN</td>\n",
       "      <td>1.7</td>\n",
       "      <td>9.3</td>\n",
       "      <td>2</td>\n",
       "    </tr>\n",
       "    <tr>\n",
       "      <th>3</th>\n",
       "      <td>d33gjz</td>\n",
       "      <td>A</td>\n",
       "      <td>5.2</td>\n",
       "      <td>66.0</td>\n",
       "      <td>NaN</td>\n",
       "      <td></td>\n",
       "      <td>1</td>\n",
       "    </tr>\n",
       "  </tbody>\n",
       "</table>\n",
       "</div>"
      ],
      "text/plain": [
       "  subj_idx condition   t_1    t_2  t_3  t_4 new_vals\n",
       "0   h38g18         A  10.2    1.1  2.5             2\n",
       "1   hjds36         B   9.6  100.0  1.3             1\n",
       "2   ghs41j         A   8.8    NaN  1.7  9.3        2\n",
       "3   d33gjz         A   5.2   66.0  NaN             1"
      ]
     },
     "execution_count": 234,
     "metadata": {},
     "output_type": "execute_result"
    }
   ],
   "source": [
    "mydf['new_vals'] = ['2', '1', '2', '1']\n",
    "mydf"
   ]
  },
  {
   "attachments": {},
   "cell_type": "markdown",
   "metadata": {},
   "source": [
    "Il linguaggio Python utilizza la *tipizzazione dinamica* delle variabili. Ciò significa che, in Python, non occorre dichiarare il tipo di una variabile prima di usarla. L'interprete riconosce automaticamente il dato e assegna alla variabile il tipo di dato (numerica, stringa, booleana). Esaminiamo il tipo di dato per `new_val`:"
   ]
  },
  {
   "cell_type": "code",
   "execution_count": 115,
   "metadata": {},
   "outputs": [
    {
     "name": "stdout",
     "output_type": "stream",
     "text": [
      "<class 'pandas.core.frame.DataFrame'>\n",
      "RangeIndex: 4 entries, 0 to 3\n",
      "Data columns (total 7 columns):\n",
      " #   Column     Non-Null Count  Dtype  \n",
      "---  ------     --------------  -----  \n",
      " 0   subj_idx   4 non-null      object \n",
      " 1   condition  4 non-null      object \n",
      " 2   t_1        4 non-null      float64\n",
      " 3   t_2        3 non-null      float64\n",
      " 4   t_3        3 non-null      float64\n",
      " 5   t_4        4 non-null      object \n",
      " 6   new_vals   4 non-null      object \n",
      "dtypes: float64(3), object(4)\n",
      "memory usage: 352.0+ bytes\n"
     ]
    }
   ],
   "source": [
    "mydf.info()"
   ]
  },
  {
   "attachments": {},
   "cell_type": "markdown",
   "metadata": {},
   "source": [
    "La variabile `new_val` è di tipo `object`, ovvero un tipo di dato non specificato. Calcolo la media di `new_val`:"
   ]
  },
  {
   "cell_type": "code",
   "execution_count": 116,
   "metadata": {},
   "outputs": [
    {
     "data": {
      "text/plain": [
       "530.25"
      ]
     },
     "execution_count": 116,
     "metadata": {},
     "output_type": "execute_result"
    }
   ],
   "source": [
    "mydf['new_vals'].mean()"
   ]
  },
  {
   "attachments": {},
   "cell_type": "markdown",
   "metadata": {},
   "source": [
    "Ottengo un risultato sbagliato, perché la media non è stata calcolata sui valori numerici 2, 1, 2, 1, ma bensì sui valori numerici associati alle stringhe inserite nel DataFrame (quali che essi siano). Prima di calcolare la media è quindi necessario cambiare il tipo di dato della variabile `new_val`, trasformandola in `float` (numero decimale). A questo fino uso il metodo `.astype()`:"
   ]
  },
  {
   "cell_type": "code",
   "execution_count": 235,
   "metadata": {},
   "outputs": [],
   "source": [
    "mydf['new_vals'] = mydf['new_vals'].astype(float)"
   ]
  },
  {
   "cell_type": "code",
   "execution_count": 119,
   "metadata": {},
   "outputs": [
    {
     "name": "stdout",
     "output_type": "stream",
     "text": [
      "<class 'pandas.core.frame.DataFrame'>\n",
      "RangeIndex: 4 entries, 0 to 3\n",
      "Data columns (total 7 columns):\n",
      " #   Column     Non-Null Count  Dtype  \n",
      "---  ------     --------------  -----  \n",
      " 0   subj_idx   4 non-null      object \n",
      " 1   condition  4 non-null      object \n",
      " 2   t_1        4 non-null      float64\n",
      " 3   t_2        3 non-null      float64\n",
      " 4   t_3        3 non-null      float64\n",
      " 5   t_4        4 non-null      object \n",
      " 6   new_vals   4 non-null      float64\n",
      "dtypes: float64(4), object(3)\n",
      "memory usage: 352.0+ bytes\n"
     ]
    }
   ],
   "source": [
    "mydf.info()\n"
   ]
  },
  {
   "attachments": {},
   "cell_type": "markdown",
   "metadata": {},
   "source": [
    "Ora si ottiene la media corretta:"
   ]
  },
  {
   "cell_type": "code",
   "execution_count": 236,
   "metadata": {},
   "outputs": [
    {
     "data": {
      "text/plain": [
       "1.5"
      ]
     },
     "execution_count": 236,
     "metadata": {},
     "output_type": "execute_result"
    }
   ],
   "source": [
    "mydf['new_vals'].mean()"
   ]
  },
  {
   "attachments": {},
   "cell_type": "markdown",
   "metadata": {},
   "source": [
    "## Il trattamento dei dati mancanti \n",
    "\n",
    "Molto spesso i dati psicologici includono dei dati mancanti, per varie ragioni. La trattazione dei dati mancanti (NaN) è un tema complesso. Presento qui alcune soluzioni semplici (ma non le soluzioni migliori che richiederebbero una discussione molto più lunga). "
   ]
  },
  {
   "cell_type": "code",
   "execution_count": 237,
   "metadata": {},
   "outputs": [
    {
     "name": "stdout",
     "output_type": "stream",
     "text": [
      "  subj_idx condition   t_1    t_2  t_3  t_4  new_vals\n",
      "0   h38g18         A  10.2    1.1  2.5            2.0\n",
      "1   hjds36         B   9.6  100.0  1.3            1.0\n",
      "2   ghs41j         A   8.8    NaN  1.7  9.3       2.0\n",
      "3   d33gjz         A   5.2   66.0  NaN            1.0\n"
     ]
    }
   ],
   "source": [
    "print(mydf)"
   ]
  },
  {
   "attachments": {},
   "cell_type": "markdown",
   "metadata": {},
   "source": [
    "Inizio calcolando la media delle colonne del DataFrame ignorando i dati mancanti. In `.mean()`, se l'argomento `numeric_only` è impostato su `True`, vengono elaborati solo le colonne numeriche. L'argomento `skipna` impostato su `True` ignora le righe contenenti i dati mancanti. "
   ]
  },
  {
   "cell_type": "code",
   "execution_count": 238,
   "metadata": {},
   "outputs": [
    {
     "name": "stdout",
     "output_type": "stream",
     "text": [
      "t_1          8.450000\n",
      "t_2         55.700000\n",
      "t_3          1.833333\n",
      "new_vals     1.500000\n",
      "dtype: float64\n"
     ]
    }
   ],
   "source": [
    "val = mydf.mean(axis=0, numeric_only=True, skipna=True)\n",
    "print(val)"
   ]
  },
  {
   "attachments": {},
   "cell_type": "markdown",
   "metadata": {},
   "source": [
    "Ora sostituisco tutti i valori mancanti con lo stesso valore (ad esempio, 0):"
   ]
  },
  {
   "cell_type": "code",
   "execution_count": 239,
   "metadata": {},
   "outputs": [
    {
     "data": {
      "text/html": [
       "<div>\n",
       "<style scoped>\n",
       "    .dataframe tbody tr th:only-of-type {\n",
       "        vertical-align: middle;\n",
       "    }\n",
       "\n",
       "    .dataframe tbody tr th {\n",
       "        vertical-align: top;\n",
       "    }\n",
       "\n",
       "    .dataframe thead th {\n",
       "        text-align: right;\n",
       "    }\n",
       "</style>\n",
       "<table border=\"1\" class=\"dataframe\">\n",
       "  <thead>\n",
       "    <tr style=\"text-align: right;\">\n",
       "      <th></th>\n",
       "      <th>subj_idx</th>\n",
       "      <th>condition</th>\n",
       "      <th>t_1</th>\n",
       "      <th>t_2</th>\n",
       "      <th>t_3</th>\n",
       "      <th>t_4</th>\n",
       "      <th>new_vals</th>\n",
       "    </tr>\n",
       "  </thead>\n",
       "  <tbody>\n",
       "    <tr>\n",
       "      <th>0</th>\n",
       "      <td>h38g18</td>\n",
       "      <td>A</td>\n",
       "      <td>10.2</td>\n",
       "      <td>1.1</td>\n",
       "      <td>2.5</td>\n",
       "      <td></td>\n",
       "      <td>2.0</td>\n",
       "    </tr>\n",
       "    <tr>\n",
       "      <th>1</th>\n",
       "      <td>hjds36</td>\n",
       "      <td>B</td>\n",
       "      <td>9.6</td>\n",
       "      <td>100.0</td>\n",
       "      <td>1.3</td>\n",
       "      <td></td>\n",
       "      <td>1.0</td>\n",
       "    </tr>\n",
       "    <tr>\n",
       "      <th>2</th>\n",
       "      <td>ghs41j</td>\n",
       "      <td>A</td>\n",
       "      <td>8.8</td>\n",
       "      <td>0.0</td>\n",
       "      <td>1.7</td>\n",
       "      <td>9.3</td>\n",
       "      <td>2.0</td>\n",
       "    </tr>\n",
       "    <tr>\n",
       "      <th>3</th>\n",
       "      <td>d33gjz</td>\n",
       "      <td>A</td>\n",
       "      <td>5.2</td>\n",
       "      <td>66.0</td>\n",
       "      <td>0.0</td>\n",
       "      <td></td>\n",
       "      <td>1.0</td>\n",
       "    </tr>\n",
       "  </tbody>\n",
       "</table>\n",
       "</div>"
      ],
      "text/plain": [
       "  subj_idx condition   t_1    t_2  t_3  t_4  new_vals\n",
       "0   h38g18         A  10.2    1.1  2.5            2.0\n",
       "1   hjds36         B   9.6  100.0  1.3            1.0\n",
       "2   ghs41j         A   8.8    0.0  1.7  9.3       2.0\n",
       "3   d33gjz         A   5.2   66.0  0.0            1.0"
      ]
     },
     "execution_count": 239,
     "metadata": {},
     "output_type": "execute_result"
    }
   ],
   "source": [
    "temp = mydf.fillna(0)\n",
    "temp"
   ]
  },
  {
   "attachments": {},
   "cell_type": "markdown",
   "metadata": {},
   "source": [
    "Con questa sostituzione (che non ha alcun motivo di essere applicata) le medie delle colonne sono diverse da prima (e sono prive di senso):"
   ]
  },
  {
   "cell_type": "code",
   "execution_count": 240,
   "metadata": {},
   "outputs": [
    {
     "name": "stdout",
     "output_type": "stream",
     "text": [
      "t_1          8.450\n",
      "t_2         41.775\n",
      "t_3          1.375\n",
      "new_vals     1.500\n",
      "dtype: float64\n"
     ]
    }
   ],
   "source": [
    "val = temp.mean(axis=0, numeric_only=True)\n",
    "print(val)"
   ]
  },
  {
   "attachments": {},
   "cell_type": "markdown",
   "metadata": {},
   "source": [
    "Sostituisco ora i valori mancanti con valori diversi per ogni colonna:"
   ]
  },
  {
   "cell_type": "code",
   "execution_count": 241,
   "metadata": {},
   "outputs": [
    {
     "name": "stdout",
     "output_type": "stream",
     "text": [
      "  subj_idx condition   t_1    t_2  t_3  t_4  new_vals\n",
      "0   h38g18         A  10.2    1.1  2.5            2.0\n",
      "1   hjds36         B   9.6  100.0  1.3            1.0\n",
      "2   ghs41j         A   8.8    NaN  1.7  9.3       2.0\n",
      "3   d33gjz         A   5.2   66.0  NaN            1.0\n"
     ]
    }
   ],
   "source": [
    "print(mydf)"
   ]
  },
  {
   "attachments": {},
   "cell_type": "markdown",
   "metadata": {},
   "source": [
    "Uso dei valori arbitrari:"
   ]
  },
  {
   "cell_type": "code",
   "execution_count": 242,
   "metadata": {},
   "outputs": [
    {
     "name": "stdout",
     "output_type": "stream",
     "text": [
      "  subj_idx condition   t_1    t_2   t_3  t_4  new_vals\n",
      "0   h38g18         A  10.2    1.1   2.5            2.0\n",
      "1   hjds36         B   9.6  100.0   1.3            1.0\n",
      "2   ghs41j         A   8.8    5.0   1.7  9.3       2.0\n",
      "3   d33gjz         A   5.2   66.0  10.0            1.0\n"
     ]
    }
   ],
   "source": [
    "print(mydf.fillna({\n",
    "    't_2': 5.0, \n",
    "    't_3': 10\n",
    "    })\n",
    ")"
   ]
  },
  {
   "attachments": {},
   "cell_type": "markdown",
   "metadata": {},
   "source": [
    "In maniera più sensato, possiamo sostituire i valori mancanti con valori diversi per ciascuna colonna e corrispondenti alla media di colonna:"
   ]
  },
  {
   "cell_type": "code",
   "execution_count": 243,
   "metadata": {},
   "outputs": [
    {
     "data": {
      "text/html": [
       "<div>\n",
       "<style scoped>\n",
       "    .dataframe tbody tr th:only-of-type {\n",
       "        vertical-align: middle;\n",
       "    }\n",
       "\n",
       "    .dataframe tbody tr th {\n",
       "        vertical-align: top;\n",
       "    }\n",
       "\n",
       "    .dataframe thead th {\n",
       "        text-align: right;\n",
       "    }\n",
       "</style>\n",
       "<table border=\"1\" class=\"dataframe\">\n",
       "  <thead>\n",
       "    <tr style=\"text-align: right;\">\n",
       "      <th></th>\n",
       "      <th>subj_idx</th>\n",
       "      <th>condition</th>\n",
       "      <th>t_1</th>\n",
       "      <th>t_2</th>\n",
       "      <th>t_3</th>\n",
       "      <th>t_4</th>\n",
       "      <th>new_vals</th>\n",
       "    </tr>\n",
       "  </thead>\n",
       "  <tbody>\n",
       "    <tr>\n",
       "      <th>0</th>\n",
       "      <td>h38g18</td>\n",
       "      <td>A</td>\n",
       "      <td>10.2</td>\n",
       "      <td>1.1</td>\n",
       "      <td>2.500000</td>\n",
       "      <td></td>\n",
       "      <td>2.0</td>\n",
       "    </tr>\n",
       "    <tr>\n",
       "      <th>1</th>\n",
       "      <td>hjds36</td>\n",
       "      <td>B</td>\n",
       "      <td>9.6</td>\n",
       "      <td>100.0</td>\n",
       "      <td>1.300000</td>\n",
       "      <td></td>\n",
       "      <td>1.0</td>\n",
       "    </tr>\n",
       "    <tr>\n",
       "      <th>2</th>\n",
       "      <td>ghs41j</td>\n",
       "      <td>A</td>\n",
       "      <td>8.8</td>\n",
       "      <td>55.7</td>\n",
       "      <td>1.700000</td>\n",
       "      <td>9.3</td>\n",
       "      <td>2.0</td>\n",
       "    </tr>\n",
       "    <tr>\n",
       "      <th>3</th>\n",
       "      <td>d33gjz</td>\n",
       "      <td>A</td>\n",
       "      <td>5.2</td>\n",
       "      <td>66.0</td>\n",
       "      <td>1.833333</td>\n",
       "      <td></td>\n",
       "      <td>1.0</td>\n",
       "    </tr>\n",
       "  </tbody>\n",
       "</table>\n",
       "</div>"
      ],
      "text/plain": [
       "  subj_idx condition   t_1    t_2       t_3  t_4  new_vals\n",
       "0   h38g18         A  10.2    1.1  2.500000            2.0\n",
       "1   hjds36         B   9.6  100.0  1.300000            1.0\n",
       "2   ghs41j         A   8.8   55.7  1.700000  9.3       2.0\n",
       "3   d33gjz         A   5.2   66.0  1.833333            1.0"
      ]
     },
     "execution_count": 243,
     "metadata": {},
     "output_type": "execute_result"
    }
   ],
   "source": [
    "temp = mydf.fillna(mydf.mean(numeric_only=True))\n",
    "temp"
   ]
  },
  {
   "attachments": {},
   "cell_type": "markdown",
   "metadata": {},
   "source": [
    "Ora le medie delle colonne sono identiche a quelle che avevamo ottenuto ignorando i dati mancanti. Il vantaggio è che non abbiamo più celle del DataFrame in cui sono presenti dati mancanti -- molte analisi statistiche richiedono l'assenza di dati mancanti."
   ]
  },
  {
   "cell_type": "code",
   "execution_count": 244,
   "metadata": {},
   "outputs": [
    {
     "name": "stdout",
     "output_type": "stream",
     "text": [
      "t_1          8.450000\n",
      "t_2         55.700000\n",
      "t_3          1.833333\n",
      "new_vals     1.500000\n",
      "dtype: float64\n"
     ]
    }
   ],
   "source": [
    "val = temp.mean(axis=0, numeric_only=True)\n",
    "print(val)"
   ]
  },
  {
   "attachments": {},
   "cell_type": "markdown",
   "metadata": {},
   "source": [
    "In maniera simile è possibile sostituire i valori mancanti con la mediana:"
   ]
  },
  {
   "cell_type": "code",
   "execution_count": 245,
   "metadata": {},
   "outputs": [
    {
     "data": {
      "text/html": [
       "<div>\n",
       "<style scoped>\n",
       "    .dataframe tbody tr th:only-of-type {\n",
       "        vertical-align: middle;\n",
       "    }\n",
       "\n",
       "    .dataframe tbody tr th {\n",
       "        vertical-align: top;\n",
       "    }\n",
       "\n",
       "    .dataframe thead th {\n",
       "        text-align: right;\n",
       "    }\n",
       "</style>\n",
       "<table border=\"1\" class=\"dataframe\">\n",
       "  <thead>\n",
       "    <tr style=\"text-align: right;\">\n",
       "      <th></th>\n",
       "      <th>subj_idx</th>\n",
       "      <th>condition</th>\n",
       "      <th>t_1</th>\n",
       "      <th>t_2</th>\n",
       "      <th>t_3</th>\n",
       "      <th>t_4</th>\n",
       "      <th>new_vals</th>\n",
       "    </tr>\n",
       "  </thead>\n",
       "  <tbody>\n",
       "    <tr>\n",
       "      <th>0</th>\n",
       "      <td>h38g18</td>\n",
       "      <td>A</td>\n",
       "      <td>10.2</td>\n",
       "      <td>1.1</td>\n",
       "      <td>2.5</td>\n",
       "      <td></td>\n",
       "      <td>2.0</td>\n",
       "    </tr>\n",
       "    <tr>\n",
       "      <th>1</th>\n",
       "      <td>hjds36</td>\n",
       "      <td>B</td>\n",
       "      <td>9.6</td>\n",
       "      <td>100.0</td>\n",
       "      <td>1.3</td>\n",
       "      <td></td>\n",
       "      <td>1.0</td>\n",
       "    </tr>\n",
       "    <tr>\n",
       "      <th>2</th>\n",
       "      <td>ghs41j</td>\n",
       "      <td>A</td>\n",
       "      <td>8.8</td>\n",
       "      <td>66.0</td>\n",
       "      <td>1.7</td>\n",
       "      <td>9.3</td>\n",
       "      <td>2.0</td>\n",
       "    </tr>\n",
       "    <tr>\n",
       "      <th>3</th>\n",
       "      <td>d33gjz</td>\n",
       "      <td>A</td>\n",
       "      <td>5.2</td>\n",
       "      <td>66.0</td>\n",
       "      <td>1.7</td>\n",
       "      <td></td>\n",
       "      <td>1.0</td>\n",
       "    </tr>\n",
       "  </tbody>\n",
       "</table>\n",
       "</div>"
      ],
      "text/plain": [
       "  subj_idx condition   t_1    t_2  t_3  t_4  new_vals\n",
       "0   h38g18         A  10.2    1.1  2.5            2.0\n",
       "1   hjds36         B   9.6  100.0  1.3            1.0\n",
       "2   ghs41j         A   8.8   66.0  1.7  9.3       2.0\n",
       "3   d33gjz         A   5.2   66.0  1.7            1.0"
      ]
     },
     "execution_count": 245,
     "metadata": {},
     "output_type": "execute_result"
    }
   ],
   "source": [
    "temp = mydf.fillna(mydf.median(numeric_only=True))\n",
    "temp"
   ]
  },
  {
   "cell_type": "code",
   "execution_count": 246,
   "metadata": {},
   "outputs": [
    {
     "name": "stdout",
     "output_type": "stream",
     "text": [
      "t_1          8.450\n",
      "t_2         58.275\n",
      "t_3          1.800\n",
      "new_vals     1.500\n",
      "dtype: float64\n"
     ]
    }
   ],
   "source": [
    "val = temp.mean(axis=0, numeric_only=True)\n",
    "print(val)"
   ]
  },
  {
   "attachments": {},
   "cell_type": "markdown",
   "metadata": {},
   "source": [
    "Se ci sono pochissimi dati mancanti è possibile eliminare tute le righe che contengono dati mancanti usando `.dropna()`. Per l'esempio presente, elimino tutte le righe in cui è presente un dato mancante su qualsiasi colonna:"
   ]
  },
  {
   "cell_type": "code",
   "execution_count": 151,
   "metadata": {},
   "outputs": [
    {
     "name": "stdout",
     "output_type": "stream",
     "text": [
      "  subj_idx condition   t_1    t_2  t_3  t_4  new_vals\n",
      "0   h38g18         A  10.2    1.1  2.5            2.0\n",
      "1   hjds36         B   9.6  100.0  1.3            1.0\n",
      "2   ghs41j         A   8.8    NaN  1.7  9.3       2.0\n",
      "3   d33gjz         A   5.2   66.0  NaN            1.0\n"
     ]
    }
   ],
   "source": [
    "print(mydf)"
   ]
  },
  {
   "cell_type": "code",
   "execution_count": 152,
   "metadata": {},
   "outputs": [
    {
     "name": "stdout",
     "output_type": "stream",
     "text": [
      "  subj_idx condition   t_1    t_2  t_3 t_4  new_vals\n",
      "0   h38g18         A  10.2    1.1  2.5           2.0\n",
      "1   hjds36         B   9.6  100.0  1.3           1.0\n"
     ]
    }
   ],
   "source": [
    "print(mydf.dropna(axis=0))"
   ]
  },
  {
   "attachments": {},
   "cell_type": "markdown",
   "metadata": {},
   "source": [
    "Per rimuovere le righe in base a colonne specifiche è necessario specificare un elenco di etichette (nomi) di colonne nell'argomento `subset()`. Per esempio, rimuovo le righe del DataFrame solo se sono presenti dati mancanti nella colonna `t_3`:"
   ]
  },
  {
   "cell_type": "code",
   "execution_count": 154,
   "metadata": {},
   "outputs": [
    {
     "name": "stdout",
     "output_type": "stream",
     "text": [
      "  subj_idx condition   t_1    t_2  t_3  t_4  new_vals\n",
      "0   h38g18         A  10.2    1.1  2.5            2.0\n",
      "1   hjds36         B   9.6  100.0  1.3            1.0\n",
      "2   ghs41j         A   8.8    NaN  1.7  9.3       2.0\n"
     ]
    }
   ],
   "source": [
    "print(mydf.dropna(subset=['t_3']))"
   ]
  },
  {
   "attachments": {},
   "cell_type": "markdown",
   "metadata": {},
   "source": [
    "Questo è utile, per esempio, se vogliamo analizzare i dati di `t_3` in funzione di `condition`. Come abbiamo visto in precedenza, se impostiamo l'argomento `inplace` su `True`, l'oggetto originale viene aggiornato."
   ]
  },
  {
   "attachments": {},
   "cell_type": "markdown",
   "metadata": {},
   "source": [
    "## Statistica descrittiva di dati ragruppati\n",
    "\n",
    "Ritorniamo al DataFrame `df`. Succede molto spesso di volere calcolare delle statistiche descrittive (es., media, deviazione standard, ecc.) per diversi gruppi di dati. Supponiamo di volere trovare la media di `body_mass_g` per ciascuna specie di pinguini:"
   ]
  },
  {
   "cell_type": "code",
   "execution_count": 171,
   "metadata": {},
   "outputs": [
    {
     "data": {
      "text/html": [
       "<div>\n",
       "<style scoped>\n",
       "    .dataframe tbody tr th:only-of-type {\n",
       "        vertical-align: middle;\n",
       "    }\n",
       "\n",
       "    .dataframe tbody tr th {\n",
       "        vertical-align: top;\n",
       "    }\n",
       "\n",
       "    .dataframe thead tr th {\n",
       "        text-align: left;\n",
       "    }\n",
       "\n",
       "    .dataframe thead tr:last-of-type th {\n",
       "        text-align: right;\n",
       "    }\n",
       "</style>\n",
       "<table border=\"1\" class=\"dataframe\">\n",
       "  <thead>\n",
       "    <tr>\n",
       "      <th></th>\n",
       "      <th colspan=\"3\" halign=\"left\">body_mass_g</th>\n",
       "    </tr>\n",
       "    <tr>\n",
       "      <th></th>\n",
       "      <th>mean</th>\n",
       "      <th>std</th>\n",
       "      <th>count</th>\n",
       "    </tr>\n",
       "    <tr>\n",
       "      <th>species</th>\n",
       "      <th></th>\n",
       "      <th></th>\n",
       "      <th></th>\n",
       "    </tr>\n",
       "  </thead>\n",
       "  <tbody>\n",
       "    <tr>\n",
       "      <th>Adelie</th>\n",
       "      <td>3700.662252</td>\n",
       "      <td>458.566126</td>\n",
       "      <td>151</td>\n",
       "    </tr>\n",
       "    <tr>\n",
       "      <th>Chinstrap</th>\n",
       "      <td>3733.088235</td>\n",
       "      <td>384.335081</td>\n",
       "      <td>68</td>\n",
       "    </tr>\n",
       "    <tr>\n",
       "      <th>Gentoo</th>\n",
       "      <td>5076.016260</td>\n",
       "      <td>504.116237</td>\n",
       "      <td>123</td>\n",
       "    </tr>\n",
       "  </tbody>\n",
       "</table>\n",
       "</div>"
      ],
      "text/plain": [
       "           body_mass_g                  \n",
       "                  mean         std count\n",
       "species                                 \n",
       "Adelie     3700.662252  458.566126   151\n",
       "Chinstrap  3733.088235  384.335081    68\n",
       "Gentoo     5076.016260  504.116237   123"
      ]
     },
     "execution_count": 171,
     "metadata": {},
     "output_type": "execute_result"
    }
   ],
   "source": [
    "summary_stats = (df.loc[:, ['species', 'body_mass_g']]\n",
    "                         .groupby('species')\n",
    "                         .aggregate(['mean', 'std', 'count']))\n",
    "summary_stats"
   ]
  },
  {
   "attachments": {},
   "cell_type": "markdown",
   "metadata": {},
   "source": [
    "Nell'istruzione precedente `df.loc[:, ['species', 'body_mass_g']]` seleziona tutte le righe (`:`) delle due colonne di interesse. L'istruzione `.groupby('species')` ragruppa le righe secondo le modalità della variabile `species`. Infine `.aggregate(['mean', 'std', 'count'])` applica i metodi statistici elencati a ciascun gruppo di righe. Con questa sintassi la sequenza delle operazioni da eseguire diventa molto intuitiva.\n",
    "\n",
    "È facile estendere l'esempio precedente a casi più complessi. Per esempio, possiamo analizzare simultaneamente i dati di più colonne, dopo avere ragruppato i dati in base alle modalità specificate da colonne multiple. Per l'esempio presente, calcolo le statistiche descrittive delle variabili `body_mass_g` e `bill_length_mm` separatamente per ciascuna isola e per ciascuna specie:"
   ]
  },
  {
   "cell_type": "code",
   "execution_count": 177,
   "metadata": {},
   "outputs": [
    {
     "data": {
      "text/html": [
       "<div>\n",
       "<style scoped>\n",
       "    .dataframe tbody tr th:only-of-type {\n",
       "        vertical-align: middle;\n",
       "    }\n",
       "\n",
       "    .dataframe tbody tr th {\n",
       "        vertical-align: top;\n",
       "    }\n",
       "\n",
       "    .dataframe thead tr th {\n",
       "        text-align: left;\n",
       "    }\n",
       "\n",
       "    .dataframe thead tr:last-of-type th {\n",
       "        text-align: right;\n",
       "    }\n",
       "</style>\n",
       "<table border=\"1\" class=\"dataframe\">\n",
       "  <thead>\n",
       "    <tr>\n",
       "      <th></th>\n",
       "      <th></th>\n",
       "      <th colspan=\"3\" halign=\"left\">body_mass_g</th>\n",
       "      <th colspan=\"3\" halign=\"left\">bill_length_mm</th>\n",
       "    </tr>\n",
       "    <tr>\n",
       "      <th></th>\n",
       "      <th></th>\n",
       "      <th>mean</th>\n",
       "      <th>std</th>\n",
       "      <th>count</th>\n",
       "      <th>mean</th>\n",
       "      <th>std</th>\n",
       "      <th>count</th>\n",
       "    </tr>\n",
       "    <tr>\n",
       "      <th>species</th>\n",
       "      <th>island</th>\n",
       "      <th></th>\n",
       "      <th></th>\n",
       "      <th></th>\n",
       "      <th></th>\n",
       "      <th></th>\n",
       "      <th></th>\n",
       "    </tr>\n",
       "  </thead>\n",
       "  <tbody>\n",
       "    <tr>\n",
       "      <th rowspan=\"3\" valign=\"top\">Adelie</th>\n",
       "      <th>Biscoe</th>\n",
       "      <td>3709.7</td>\n",
       "      <td>487.7</td>\n",
       "      <td>44</td>\n",
       "      <td>39.0</td>\n",
       "      <td>2.5</td>\n",
       "      <td>44</td>\n",
       "    </tr>\n",
       "    <tr>\n",
       "      <th>Dream</th>\n",
       "      <td>3688.4</td>\n",
       "      <td>455.1</td>\n",
       "      <td>56</td>\n",
       "      <td>38.5</td>\n",
       "      <td>2.5</td>\n",
       "      <td>56</td>\n",
       "    </tr>\n",
       "    <tr>\n",
       "      <th>Torgersen</th>\n",
       "      <td>3706.4</td>\n",
       "      <td>445.1</td>\n",
       "      <td>51</td>\n",
       "      <td>39.0</td>\n",
       "      <td>3.0</td>\n",
       "      <td>51</td>\n",
       "    </tr>\n",
       "    <tr>\n",
       "      <th>Chinstrap</th>\n",
       "      <th>Dream</th>\n",
       "      <td>3733.1</td>\n",
       "      <td>384.3</td>\n",
       "      <td>68</td>\n",
       "      <td>48.8</td>\n",
       "      <td>3.3</td>\n",
       "      <td>68</td>\n",
       "    </tr>\n",
       "    <tr>\n",
       "      <th>Gentoo</th>\n",
       "      <th>Biscoe</th>\n",
       "      <td>5076.0</td>\n",
       "      <td>504.1</td>\n",
       "      <td>123</td>\n",
       "      <td>47.5</td>\n",
       "      <td>3.1</td>\n",
       "      <td>123</td>\n",
       "    </tr>\n",
       "  </tbody>\n",
       "</table>\n",
       "</div>"
      ],
      "text/plain": [
       "                    body_mass_g              bill_length_mm           \n",
       "                           mean    std count           mean  std count\n",
       "species   island                                                      \n",
       "Adelie    Biscoe         3709.7  487.7    44           39.0  2.5    44\n",
       "          Dream          3688.4  455.1    56           38.5  2.5    56\n",
       "          Torgersen      3706.4  445.1    51           39.0  3.0    51\n",
       "Chinstrap Dream          3733.1  384.3    68           48.8  3.3    68\n",
       "Gentoo    Biscoe         5076.0  504.1   123           47.5  3.1   123"
      ]
     },
     "execution_count": 177,
     "metadata": {},
     "output_type": "execute_result"
    }
   ],
   "source": [
    "summary_stats = (df.loc[:, ['species', 'island', 'body_mass_g', 'bill_length_mm']]\n",
    "                         .groupby(['species', 'island'])\n",
    "                         .aggregate(['mean', 'std', 'count']))\n",
    "summary_stats.round(1)"
   ]
  },
  {
   "attachments": {},
   "cell_type": "markdown",
   "metadata": {},
   "source": [
    "## Watermark"
   ]
  },
  {
   "cell_type": "code",
   "execution_count": null,
   "metadata": {},
   "outputs": [],
   "source": [
    "%load_ext watermark\n",
    "%watermark -n -u -v -iv -w"
   ]
  }
 ],
 "metadata": {
  "kernelspec": {
   "display_name": "bambi_env",
   "language": "python",
   "name": "python3"
  },
  "language_info": {
   "codemirror_mode": {
    "name": "ipython",
    "version": 3
   },
   "file_extension": ".py",
   "mimetype": "text/x-python",
   "name": "python",
   "nbconvert_exporter": "python",
   "pygments_lexer": "ipython3",
   "version": "3.8.15"
  },
  "orig_nbformat": 4,
  "vscode": {
   "interpreter": {
    "hash": "e957f8d2d9272acec629608affb587206e5d92bb0d8d335f71da72c549770d8b"
   }
  }
 },
 "nbformat": 4,
 "nbformat_minor": 2
}
