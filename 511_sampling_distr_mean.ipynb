{
 "cells": [
  {
   "attachments": {},
   "cell_type": "markdown",
   "metadata": {},
   "source": [
    "(sampling-distr-mean-notebook)=\n",
    "# Distribuzione campionaria della media e test t di Student"
   ]
  },
  {
   "cell_type": "code",
   "execution_count": 11,
   "metadata": {},
   "outputs": [],
   "source": [
    "import pandas as pd\n",
    "import itertools\n",
    "import numpy as np\n",
    "import scipy.stats as stats\n",
    "import matplotlib.pyplot as plt\n",
    "import arviz as az\n",
    "import seaborn as sns\n"
   ]
  },
  {
   "cell_type": "code",
   "execution_count": 3,
   "metadata": {},
   "outputs": [],
   "source": [
    "# Initialize random number generator\n",
    "RANDOM_SEED = 8927\n",
    "rng = np.random.default_rng(RANDOM_SEED)\n",
    "\n",
    "plt.style.use(\"bmh\")\n",
    "plt.rcParams[\"figure.figsize\"] = [10, 6]\n",
    "plt.rcParams[\"figure.dpi\"] = 100\n",
    "plt.rcParams[\"figure.facecolor\"] = \"white\"\n",
    "\n",
    "sns.set_theme(palette=\"colorblind\")\n",
    "\n",
    "%load_ext autoreload\n",
    "%autoreload 2\n",
    "%matplotlib inline\n",
    "%config InlineBackend.figure_format = 'retina'\n",
    "%config InlineBackend.figure_format = \"svg\""
   ]
  },
  {
   "attachments": {},
   "cell_type": "markdown",
   "metadata": {},
   "source": [
    "## Test dell'ipotesi nulla\n",
    "\n",
    "Con queste informazioni possiamo standardizzare la media osservata *all'interno della distribuzione campionaria delle medie*."
   ]
  },
  {
   "cell_type": "code",
   "execution_count": 39,
   "metadata": {},
   "outputs": [
    {
     "name": "stdout",
     "output_type": "stream",
     "text": [
      "5.0\n"
     ]
    }
   ],
   "source": [
    "null_mean = 4.0\n",
    "T = (sample_mean - null_mean) / (sample_sd / np.sqrt(2))\n",
    "print(T)"
   ]
  },
  {
   "attachments": {},
   "cell_type": "markdown",
   "metadata": {},
   "source": [
    "Un importante teorema statistico afferma che la statistica calcolata segue una distribuzione nota, chiamata distribuzione $t$ di Student con $\\nu = n - 1$ gradi di libertà.\n",
    "\n",
    "L'obiettivo è comprendere quanto il valore osservato della statistica $T$ si discosti dal valore atteso. Nella distribuzione $t$ di Student, il valore atteso è 0. Per valutare questa differenza, viene calcolata la probabilità di osservare un valore di $T$ uguale a quello trovato nel campione o anche più estremo, nelle due code della distribuzione $T$ con $\\nu = n - 1$ gradi di libertà.\n",
    "\n",
    "Iniziamo calcolando la probabilità nella coda sinistra. "
   ]
  },
  {
   "cell_type": "code",
   "execution_count": 42,
   "metadata": {},
   "outputs": [
    {
     "data": {
      "text/plain": [
       "0.06283295818900117"
      ]
     },
     "execution_count": 42,
     "metadata": {},
     "output_type": "execute_result"
    }
   ],
   "source": [
    "df = 1 # gradi di libertà\n",
    "# Calcolo della probabilità nella coda a sinistra\n",
    "stats.t.cdf(-T, df)"
   ]
  },
  {
   "attachments": {},
   "cell_type": "markdown",
   "metadata": {},
   "source": [
    "Dato che la distribuzione $t$ di Student è simmetrica, la probabilità nelle due code è uguale a "
   ]
  },
  {
   "cell_type": "code",
   "execution_count": 43,
   "metadata": {},
   "outputs": [
    {
     "data": {
      "text/plain": [
       "0.12566591637800234"
      ]
     },
     "execution_count": 43,
     "metadata": {},
     "output_type": "execute_result"
    }
   ],
   "source": [
    "2 * stats.t.cdf(-T, df)"
   ]
  },
  {
   "attachments": {},
   "cell_type": "markdown",
   "metadata": {},
   "source": [
    "## Test t di Student\n",
    "\n",
    "Il valore-p ottenuto indica la probabilità di ottenere una media campionaria uguale o ancora più estrema di quella osservata nel campione, se l'ipotesi nulla fosse vera. Si utilizza la distribuzione campionaria delle medie di campioni di ampiezza $n$ = 2 estratti dalla popolazione di interesse per calcolare il valore-p. L'ipotesi nulla specifica la media della popolazione e la varianza campionaria viene utilizzata come stima della varianza.\n",
    "\n",
    "Se il valore-p è basso, significa che la statistica test ha prodotto un risultato molto estremo, ovvero molto diverso dal valore atteso previsto dall'ipotesi nulla. In questo caso, se il valore-p è inferiore a 0.05, il risultato del test statistico è considerato \"statisticamente significativo\" e l'ipotesi nulla viene rigettata. Ciò suggerisce che l'ipotesi nulla non è plausibile sulla base dei dati campionari.\n",
    "\n",
    "Il test statistico che abbiamo eseguito è il test $t$ di Student per un campione, che viene utilizzato per confrontare le medie di due gruppi di dati appaiati, ad esempio pre e post-trattamento. Questo tipo di test può aiutare a valutare l'efficacia del trattamento e la differenza media tra le due misurazioni.\n",
    "\n",
    "L'ipotesi nulla in questo caso è che il trattamento non abbia alcun effetto, e quindi la media delle differenze sia uguale a zero. Se il valore-p ottenuto dal test è inferiore a 0.05, il ricercatore può concludere che il trattamento è efficace (se la media post-trattamento è inferiore alla media pre-trattamento).\n",
    "\n",
    "## Test $t$ di Student con `scipy.stats`\n",
    "\n",
    "Verifichiamo il risultato numerico ottenuto usando la funzione `ttest_1samp` di `scipy.stats`."
   ]
  },
  {
   "cell_type": "code",
   "execution_count": 57,
   "metadata": {},
   "outputs": [
    {
     "data": {
      "text/plain": [
       "TtestResult(statistic=5.0, pvalue=0.12566591637800234, df=1)"
      ]
     },
     "execution_count": 57,
     "metadata": {},
     "output_type": "execute_result"
    }
   ],
   "source": [
    "null_mean = 4.0\n",
    "stats.ttest_1samp(observed_sample, null_mean)"
   ]
  },
  {
   "attachments": {},
   "cell_type": "markdown",
   "metadata": {},
   "source": [
    "Abbiamo impostato la media dell'ipotesi nulla a 4.0. Successivamente, chiamiamo la funzione `ttest_1samp`, passando come argomenti l'array di dati `observed_sample` e il valore della media sotto l'ipotesi nulla `null_mean`. La funzione restituisce la statistica $t$ e il valore-p corrispondente. \n",
    "\n",
    "Si noti che la funzione `ttest_1samp` assume che i dati siano distribuiti normalmente. Se questa ipotesi viene violata, i risultati del test t non sono validi. \n",
    "\n",
    "## Considerazioni conclusive\n",
    "\n",
    "In questo tutorial abbiamo parlato di tre distribuzioni che sono alla base dell'inferenza frequentista:\n",
    "\n",
    "1. La distribuzione della popolazione, con media $\\mu$ e varianza $\\sigma^2$. Questi valori sono spesso ignoti nella pratica.\n",
    "2. La distribuzione del campione, con media $\\bar{x}$ e varianza $s^2$. Questi valori sono noti.\n",
    "3. La distribuzione campionaria della media, con media $\\mu_{\\bar{X}} = \\mu$ e varianza $\\frac{\\sigma^2}{n}$. Anche questi valori sono spesso ignoti nella pratica.\n",
    "\n",
    "Nell'approccio frequentista, la distribuzione campionaria della media viene costruita assumendo una media specificata dall'ipotesi nulla e utilizzando la varianza del campione per stimare la varianza della popolazione. Questo ci permette di specificare completamente la distribuzione campionaria della statistica di interesse. Se il campione è abbastanza grande, la distribuzione campionaria sarà approssimativamente normale grazie al teorema del limite centrale.\n",
    "\n",
    "Una volta specificata la distribuzione campionaria della statistica di interesse (in questo caso, la media del campione), l'approccio frequentista calcola il valore \"standardizzato\" della media del campione all'interno della distribuzione campionaria costruita assumendo vera l'ipotesi nulla.\n",
    "\n",
    "Il test di ipotesi consiste nel confronto tra il valore \"standardizzato\" della media del campione e la media della distribuzione campionaria costruita assumendo vera l'ipotesi nulla. Se la distanza tra questi due valori è grande, l'approccio frequentista conclude che l'ipotesi nulla non è plausibile.\n",
    "\n",
    "\n"
   ]
  }
 ],
 "metadata": {
  "kernelspec": {
   "display_name": "pymc_env",
   "language": "python",
   "name": "python3"
  },
  "language_info": {
   "codemirror_mode": {
    "name": "ipython",
    "version": 3
   },
   "file_extension": ".py",
   "mimetype": "text/x-python",
   "name": "python",
   "nbconvert_exporter": "python",
   "pygments_lexer": "ipython3",
   "version": "3.11.3"
  },
  "orig_nbformat": 4
 },
 "nbformat": 4,
 "nbformat_minor": 2
}
