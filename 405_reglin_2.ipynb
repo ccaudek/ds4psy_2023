{
 "cells": [
  {
   "attachments": {},
   "cell_type": "markdown",
   "metadata": {},
   "source": [
    "(reglin_2_notebook)=\n",
    "# Regressione lineare bivariata"
   ]
  },
  {
   "attachments": {},
   "cell_type": "markdown",
   "metadata": {},
   "source": [
    "In questo capitolo verrà discusso il modello di regressione bivariata, ovvero il modello che, mediante una relazione lineare, predice una variabile continua $y$ a partire da un solo predittore continuo $x$. Ciò corrisponde ad adattare ai dati ($x_i, y_i$) la retta di regressione $y_i = a + bx_i + e_i$, con $i=1, \\dots, n$. Usando dei dati reali, vedremo come stimare i coefficienti di regressione $a$ e $b$, e come essi possono essere interpretati. Vedremo anche come descrivere la bontà di adattamento del modello ai dati."
   ]
  },
  {
   "cell_type": "code",
   "execution_count": 1,
   "metadata": {},
   "outputs": [],
   "source": [
    "import arviz as az\n",
    "import matplotlib.pyplot as plt\n",
    "import numpy as np\n",
    "import pandas as pd\n",
    "import seaborn as sns\n",
    "from scipy import stats\n",
    "import statistics\n",
    "import statsmodels.api as sm\n",
    "from scipy import optimize\n",
    "from scipy.constants import golden\n",
    "import warnings\n",
    "\n",
    "warnings.filterwarnings(\"ignore\")\n",
    "warnings.simplefilter(\"ignore\")\n"
   ]
  },
  {
   "cell_type": "code",
   "execution_count": 6,
   "metadata": {},
   "outputs": [],
   "source": [
    "%matplotlib inline\n",
    "sns.set_theme(\n",
    "    context=\"paper\",\n",
    "    style=\"darkgrid\",\n",
    "    palette=\"colorblind\",\n",
    "    rc={\"figure.figsize\": (5.0, 5.0 / golden)},\n",
    ")\n",
    "\n",
    "SEED = 12345\n",
    "rng = np.random.default_rng(SEED)"
   ]
  },
  {
   "attachments": {},
   "cell_type": "markdown",
   "metadata": {},
   "source": [
    "Nell'esempio che discuteremo verranno usati i dati `kidiq` {cite}`gelman2020regression`:\n",
    "\n",
    "> Data from a survey of adult American women and their children (a subsample from the National Longitudinal Survey of Youth).\n",
    "\n",
    "-   kid_score Child's IQ score\n",
    "-   mom_hs Indicator for whether the mother has a high school degree\n",
    "-   mom_iq Mother's IQ score\n",
    "-   mom_age Mother's age\n",
    "\n",
    "Esamineremo la relazione tra l'intelligenza del bambino (`kid_score`) e l'intelligenza della madre (`mom_iq`). Ci chiederemo se, e in che misura, l'intelligenza della madre sia in grado di predire l'intelligenza del bambino. Per iniziare, leggiamo i dati."
   ]
  },
  {
   "cell_type": "code",
   "execution_count": 7,
   "metadata": {},
   "outputs": [
    {
     "data": {
      "text/html": [
       "<div>\n",
       "<style scoped>\n",
       "    .dataframe tbody tr th:only-of-type {\n",
       "        vertical-align: middle;\n",
       "    }\n",
       "\n",
       "    .dataframe tbody tr th {\n",
       "        vertical-align: top;\n",
       "    }\n",
       "\n",
       "    .dataframe thead th {\n",
       "        text-align: right;\n",
       "    }\n",
       "</style>\n",
       "<table border=\"1\" class=\"dataframe\">\n",
       "  <thead>\n",
       "    <tr style=\"text-align: right;\">\n",
       "      <th></th>\n",
       "      <th>kid_score</th>\n",
       "      <th>mom_hs</th>\n",
       "      <th>mom_iq</th>\n",
       "      <th>mom_work</th>\n",
       "      <th>mom_age</th>\n",
       "    </tr>\n",
       "  </thead>\n",
       "  <tbody>\n",
       "    <tr>\n",
       "      <th>0</th>\n",
       "      <td>65</td>\n",
       "      <td>1.0</td>\n",
       "      <td>121.117529</td>\n",
       "      <td>4</td>\n",
       "      <td>27</td>\n",
       "    </tr>\n",
       "    <tr>\n",
       "      <th>1</th>\n",
       "      <td>98</td>\n",
       "      <td>1.0</td>\n",
       "      <td>89.361882</td>\n",
       "      <td>4</td>\n",
       "      <td>25</td>\n",
       "    </tr>\n",
       "    <tr>\n",
       "      <th>2</th>\n",
       "      <td>85</td>\n",
       "      <td>1.0</td>\n",
       "      <td>115.443165</td>\n",
       "      <td>4</td>\n",
       "      <td>27</td>\n",
       "    </tr>\n",
       "    <tr>\n",
       "      <th>3</th>\n",
       "      <td>83</td>\n",
       "      <td>1.0</td>\n",
       "      <td>99.449639</td>\n",
       "      <td>3</td>\n",
       "      <td>25</td>\n",
       "    </tr>\n",
       "    <tr>\n",
       "      <th>4</th>\n",
       "      <td>115</td>\n",
       "      <td>1.0</td>\n",
       "      <td>92.745710</td>\n",
       "      <td>4</td>\n",
       "      <td>27</td>\n",
       "    </tr>\n",
       "  </tbody>\n",
       "</table>\n",
       "</div>"
      ],
      "text/plain": [
       "   kid_score  mom_hs      mom_iq  mom_work  mom_age\n",
       "0         65     1.0  121.117529         4       27\n",
       "1         98     1.0   89.361882         4       25\n",
       "2         85     1.0  115.443165         4       27\n",
       "3         83     1.0   99.449639         3       25\n",
       "4        115     1.0   92.745710         4       27"
      ]
     },
     "execution_count": 7,
     "metadata": {},
     "output_type": "execute_result"
    }
   ],
   "source": [
    "kidiq = pd.read_stata(\"data/kidiq.dta\")\n",
    "kidiq.head()\n"
   ]
  },
  {
   "attachments": {},
   "cell_type": "markdown",
   "metadata": {},
   "source": [
    "Un diagramma a dispersione per i dati di questo campione suggerisce la presenza di un'associazione positiva tra l'intelligenza del bambino (`kid_score`) e l'intelligenza della madre (`mom_iq`)."
   ]
  },
  {
   "cell_type": "code",
   "execution_count": 8,
   "metadata": {},
   "outputs": [
    {
     "data": {
      "text/plain": [
       "Text(0, 0.5, 'QI del bambino')"
      ]
     },
     "execution_count": 8,
     "metadata": {},
     "output_type": "execute_result"
    },
    {
     "data": {
      "image/png": "[encoded data removed]",
      "text/plain": [
       "<Figure size 500x309.017 with 1 Axes>"
      ]
     },
     "metadata": {},
     "output_type": "display_data"
    }
   ],
   "source": [
    "_, ax = plt.subplots()\n",
    "ax.plot(kidiq[\"mom_iq\"], kidiq[\"kid_score\"], \"o\", alpha=0.4)\n",
    "ax.set_xlabel(\"QI della madre\")\n",
    "ax.set_ylabel(\"QI del bambino\")\n"
   ]
  },
  {
   "attachments": {},
   "cell_type": "markdown",
   "metadata": {},
   "source": [
    "Il modello di regressione lineare descrive questa associazione mediante una retta."
   ]
  },
  {
   "cell_type": "code",
   "execution_count": 9,
   "metadata": {},
   "outputs": [
    {
     "data": {
      "text/plain": [
       "Text(0, 0.5, 'QI del bambino')"
      ]
     },
     "execution_count": 9,
     "metadata": {},
     "output_type": "execute_result"
    },
    {
     "data": {
      "image/png": "[encoded data removed]",
      "text/plain": [
       "<Figure size 500x309.017 with 1 Axes>"
      ]
     },
     "metadata": {},
     "output_type": "display_data"
    }
   ],
   "source": [
    "_, ax = plt.subplots()\n",
    "ax.plot(kidiq[\"mom_iq\"], kidiq[\"kid_score\"], \"o\", alpha=0.4)\n",
    "# obtain m (slope) and b(intercept) of linear regression line\n",
    "b, a = np.polyfit(kidiq[\"mom_iq\"], kidiq[\"kid_score\"], 1)\n",
    "# add linear regression line to scatterplot\n",
    "plt.plot(kidiq[\"mom_iq\"], a + b * kidiq[\"mom_iq\"])\n",
    "ax.set_xlabel(\"QI della madre\")\n",
    "ax.set_ylabel(\"QI del bambino\")\n"
   ]
  },
  {
   "attachments": {},
   "cell_type": "markdown",
   "metadata": {},
   "source": [
    "Ci sono però infinite rette che, in linea di principio, possono essere usate per \"approssimare\" la nube di punti nel diagramma a dispersione. È dunque necessario introdurre dei vincoli per selezionare una di queste possibili rette. Il vincolo che viene introdotto dal modello di regressione è quello di costringere la retta a passare per il punto $(\\bar{x}, \\bar{y})$."
   ]
  },
  {
   "cell_type": "code",
   "execution_count": 10,
   "metadata": {},
   "outputs": [
    {
     "data": {
      "text/plain": [
       "Text(0, 0.5, 'QI del bambino')"
      ]
     },
     "execution_count": 10,
     "metadata": {},
     "output_type": "execute_result"
    },
    {
     "data": {
      "image/png": "[encoded data removed]",
      "text/plain": [
       "<Figure size 500x309.017 with 1 Axes>"
      ]
     },
     "metadata": {},
     "output_type": "display_data"
    }
   ],
   "source": [
    "_, ax = plt.subplots()\n",
    "ax.plot(kidiq[\"mom_iq\"], kidiq[\"kid_score\"], \"o\", alpha=0.4)\n",
    "# obtain m (slope) and b(intercept) of linear regression line\n",
    "b, a = np.polyfit(kidiq[\"mom_iq\"], kidiq[\"kid_score\"], 1)\n",
    "# add linear regression line to scatterplot\n",
    "plt.plot(kidiq[\"mom_iq\"], a + b * kidiq[\"mom_iq\"])\n",
    "plt.scatter([np.mean(kidiq.mom_iq)], [np.mean(kidiq.kid_score)], s=90, c=\"r\")\n",
    "ax.set_xlabel(\"QI della madre\")\n",
    "ax.set_ylabel(\"QI del bambino\")\n"
   ]
  },
  {
   "attachments": {},
   "cell_type": "markdown",
   "metadata": {},
   "source": [
    "Una retta che passa per il punto $(\\bar{x}, \\bar{y})$ (evidenziato in rosso nella figura precedente) ha delle desiderabili proprietà statistiche che verranno descritte in seguito.\n",
    "\n",
    "Il campione è costituito da $n$ coppie di osservazioni ($x, y$). Per ciascuna coppia di valori $x_i, y_i$, il modello di regressione si aspetta che il valore $y_i$ sia associato al corrispondente valore $x_i$ come indicato dalla seguente equazione:\n",
    "\n",
    "\\begin{equation}\n",
    "y_i = a + b x_i + e_i.\n",
    "\\end{equation}\n",
    "\n",
    "I valori $y_i$ corrispondono, nell'esempio che stiamo discutendo, alla variabile `kid_score`. I primi 10 valori della variabile $y$ sono i seguenti:"
   ]
  },
  {
   "cell_type": "code",
   "execution_count": 11,
   "metadata": {},
   "outputs": [
    {
     "data": {
      "text/plain": [
       "0     65\n",
       "1     98\n",
       "2     85\n",
       "3     83\n",
       "4    115\n",
       "5     98\n",
       "6     69\n",
       "7    106\n",
       "8    102\n",
       "9     95\n",
       "Name: kid_score, dtype: int32"
      ]
     },
     "execution_count": 11,
     "metadata": {},
     "output_type": "execute_result"
    }
   ],
   "source": [
    "kidiq[\"kid_score\"][0:10]\n"
   ]
  },
  {
   "attachments": {},
   "cell_type": "markdown",
   "metadata": {},
   "source": [
    "Per fare riferimento a ciascuna osservazione usiamo l'indice $i$. Quindi, ad esempio, $y_3$ è uguale a"
   ]
  },
  {
   "cell_type": "code",
   "execution_count": 12,
   "metadata": {},
   "outputs": [
    {
     "name": "stdout",
     "output_type": "stream",
     "text": [
      "85\n"
     ]
    }
   ],
   "source": [
    "print(kidiq[\"kid_score\"][2])\n"
   ]
  },
  {
   "attachments": {},
   "cell_type": "markdown",
   "metadata": {},
   "source": [
    "Il modello di regressione bivariata, descritto dall'equazione precedente, ci dice che ciascun valore $y$ è dato dalla somma di due componenti: una componente deterministica e una componente aleatoria. Consideriamo il primo valore $y$ del campione. Per esso, il modello di regressione diventa\n",
    "\n",
    "$$\n",
    "y_1 = a + b x_1 + e_1,\n",
    "$$\n",
    "\n",
    "laddove $a + b x_1$ è la componente deterministica, denotata con $\\hat{y}$, e $e_1$ è la componente aleatoria.\n",
    "\n",
    "La componente deterministica è la *componente* di ciascun valore $y_i$ che è possibile prevedere conoscendo $x_i$. Tuttavia, non è possibile prevedere *perfettamente* i valori $y$ -- ciò si verificherebbe soltanto se tutti punti del diagramma a dispersione fossero disposti su una retta. Ma non lo sono mai nella pratica concreta: la retta è solo un'approssimazione della relazione lineare tra $x$ e $y$. Pertanto, conoscendo $x_i$ possiamo solo prevedere una porzione (o \"componente\") del corrispondente valore $y_i$.\n",
    "\n",
    "Cosa significa che possiamo prevedere solo una componente di ciascuna osservazione $y_i$? Significa che il valore osservato $y_i$ sarà diverso dal valore $\\hat{y}_i$ previsto dal modello. Ciascun valore osservato $y_i$ sarà dunque dato dalla seguente somma: $y_i = \\hat{y}_i + e_i$, laddove $e_i$, detto \"residuo\" è la componente di $y_i$ non predicibile dal modello lineare.\n",
    "\n",
    "Ci possiamo dunque porre due domande:\n",
    "\n",
    "-   come è possibile trovare i coefficienti $a$ e $b$ che consentono di predire una componente della $y$ conoscendo la $x$?\n",
    "-   quant'è grande la porzione della $y$ che può essere predetta conoscendo $x$? In altre parole, quant'è accurata la predizione della $y$ fornita dal modello di regressione lineare?\n",
    "\n",
    "Rispondere a tali due domanda definisce i primi due obiettivi del modello statistico della regressione lineare. Il terzo obiettivo è quello dell'inferenza, ovvero quello di capire che relazioni ci sono tra la relazione tra $x$ e $y$ osservata nel campione e la la relazione tra le due variabili nella popolazione.\n",
    "\n",
    "## Stima dei coefficienti di regressione\n",
    "\n",
    "Iniziamo con il primo obiettivo, ovvero quello di trovare i coefficienti $a$ e $b$ che consentono di predire una componente di ciascuna osservazione $y$ conoscendo $x$. Quindi, nel caso presente, ci chiediamo quanto segue. Il primo bambino del campione ha un QI uguale a 65. Sua madre ha un QI di 121.12. Qual è la predizione migliore del QI del bambino che possiamo ottenere conoscendo il QI della madre?\n",
    "\n",
    "È chiaro, guardando i dati del campione, che non c'è una corrispondenza perfetta tra QI della madre e QI del bambino, tutt'altro! Infatti, se guardiamo il diagramma di dispersione ci rendiamo conto che i punti sono piuttosto lontani dalla retta che abbiamo sovrapposto alla nube di punti $x_i, y_i$. Tuttavia, il diagramma di dispersione ci suggerisce che, al di là del rumore, c'è comunque una relazione tra le due variabili. Il nostro obiettivo è trovare un metodo quantitativo per descrivere una tale relazione.\n",
    "\n",
    "Abbiamo detto che è possibile prevedere una componente di $y_i$ conoscendo $x_i$. La componente $y_i$ predicibile da $x_i$ viene denotata da $\\hat{y}_i$ e, nei termini del modello di regressione lineare è uguale a\n",
    "\n",
    "$$\n",
    "\\hat{y}_i = a_i + bx_i.\n",
    "$$\n",
    "\n",
    "L'equazione precedente è un'*equazione lineare* e, dal punto di vista geometrico, corrisponde ad una retta. Ci sono infinite equazioni che, in linea di principio, possiamo usare per descrivere la relazione tra $x$ e $y$. Abbiamo scelto la relazione lineare perché è la più semplice. Se guardiamo il diagramma di dispersione, infatti, non ci sono ragioni per descrivere la relazione tra il QI del bambino e il QI della madre con qualche curva, anziché con una retta. In altri campioni, una curva potrebbe essere più sensata di una retta, quale descrizione della relazione *media* tra $x$ e $y$, ma non nel caso presente. Ricordiamo il principio del rasoio di Occam (ovvero, il principio che sta alla base del pensiero scientifico moderno): se un modello semplice funziona, non c'è ragione di usare un modello più complesso.\n",
    "\n",
    "Dunque, abbiamo capito che vogliamo descrivere la *relazione media* tra $x$ e $y$ con una retta, ovvero, mediante l'equazione lineare\n",
    "\n",
    "$$\n",
    "\\hat{y}_i = a + b x_i.\n",
    "$$\n",
    "\n",
    "L'equazione precedente ci dice che il modello lineare $a + b x_i$ *non è in grado di prevedere completamente* i valori $y_i$. Questo, in generale, non è mai possibile (ovvero, è possibile solo in un caso specifico che, nella realtà empirica, non si verifica mai). L'equazione precedente ci dice che possiamo prevedere solo una componente di ciascuna osservazione $y_i$, ovvero quella componente che abbiamo denotato con $\\hat{y}_i$. La componente che non possiamo prevedere con l'equazione $a + b x_i$ viene detta *residuo* e si denota con $e_i$:\n",
    "\n",
    "$$\n",
    "e_i = y_i - \\hat{y}_i = y_i - (a + bx_i).\n",
    "$$\n",
    "\n",
    "Dal punto di vista geometrico, la componente erratica del modello, $e_i$, corrisponde alla distanza verticale tra ciascun punto del diagramma a dispersione e la retta di regressione $a + bx$. La retta di regressione, dunque, scompone ciascuna $y_i$ in due componenti, ovvero\n",
    "\n",
    "$$\n",
    "y_i = \\hat{y}_i + e_i = (a + bx_i) + e_i. \n",
    "$$\n",
    "\n",
    "Il primo obiettivo del modello di regressione è quello di trovare i coefficienti dell'equazione\n",
    "\n",
    "$$\n",
    " a + b x_i\n",
    " $$\n",
    "\n",
    "che consente di trovare $\\hat{y}_i$ conoscendo $x_i$. Questi due coefficienti sono detti *coefficienti di regressione*.\n",
    "\n",
    "Per trovare i coefficienti di regressione dobbiamo introdurre dei vincoli per limitare lo spazio delle possibili soluzioni. Il primo di tali vincoli è stato introdotto in precedenza: vogliamo che la retta $\\hat{y}_i = a + b x_i$ passi per il punto $(\\bar{x}, \\bar{y})$. Il punto $(\\bar{x}, \\bar{y})$ corrisponde al *baricentro* del diagramma a dispersione.\n",
    "\n",
    "Ci sono però infinite rette che passano per i punto $(\\bar{x}, \\bar{y})$. Tutte queste rette soddisfano la seguente proprietà:\n",
    "\n",
    "$$\n",
    "\\sum_{i=1}^n e_i = 0,\n",
    "$$\n",
    "\n",
    "ovvero, fanno in modo che la somma dei residui (positivi, per i punti che si trovano al di sopra della retta di regressione, negativi, per punti che si trovano al di sotto della retta di regressione) sia uguale a zero.\n",
    "\n",
    "Questo significa che non possiamo selezionare una tra le infinite rette che passano per il punto $(\\bar{x}, \\bar{y})$ usando il criterio che ci porta a scegliere la retta che rende la più piccola possibile (ovvero, minimizza) la somma dei residui. Infatti, tutte le rette passanti per il punto $(\\bar{x}, \\bar{y})$ soddisfano questo requisito (rendono uguale a zero la somma dei residui). Dunque, dobbiamo trovare qualche altri criterio per scegliere una tra le infinite rette che passano per il punto $(\\bar{x}, \\bar{y})$.\n",
    "\n",
    "Il criterio che viene normalmente scelto è quello di *minimizzare la somma dei quadrati dei residui* $(y_i - \\hat{y}_i)^2$. In altri termini, vogliamo trovare i coefficienti $a$ e $b$ tali per cui la quantità\n",
    "\n",
    "$$\n",
    "\\sum_{i=1}^{n}{(y_i - (a + b x_i))^2}\n",
    "$$\n",
    "\n",
    "assume il suo valore minimo. I coefficienti $a$ e $b$ che soddisfano questa proprietà si chiamano *coefficienti dei minimi quadrati*.\n",
    "\n",
    "Questo problema ha una soluzione analitica. La soluzione analitica si trova riconoscendo il fatto che l'equazione precedente definisce una superficie e il problema diventa quello di trovare il punto di minimo di questa superficie. Il punto cercato è quello per cui il piano tangente alla superficie (nelle due direzioni $a$ e $b$) è piatto (le tangenti nelle due direzioni sono uguali a zero). Rendere uguale a zero la tangente ad una curva significa porre uguali a zero la derivata della curva. Nel caso presente, abbiamo una superficie, dunque due tangenti ortogonali e quindi dobbiamo rendere uguali a zero le derivate parziali rispetto ad $a$ e $b$. Così facendo si definisce un sistema di equazioni lineari con due incognite, $a$ e $b$. La soluzione di tali equazioni, che si chiamano *equazioni normali*, è la seguente:\n",
    "\n",
    "$$\n",
    "a = \\bar{y} - b \\bar{x},\n",
    "$$\n",
    "\n",
    "$$\n",
    "b = \\frac{Cov(x, y)}{Var(x)}.\n",
    "$$\n",
    "\n",
    "Le due precedenti equazioni corrispondono alla *stima dei minimi quadrati* dei coefficienti di regressione della retta che minimizza la somma dei quadrati dei residui.\n",
    "\n",
    "Nel caso dell'esempio presente, tali coefficienti sono uguali a:"
   ]
  },
  {
   "cell_type": "code",
   "execution_count": 13,
   "metadata": {},
   "outputs": [
    {
     "data": {
      "text/plain": [
       "0.609974571730785"
      ]
     },
     "execution_count": 13,
     "metadata": {},
     "output_type": "execute_result"
    }
   ],
   "source": [
    "cov_xy = np.cov(kidiq[\"kid_score\"], kidiq[\"mom_iq\"], ddof=1)[0][1]\n",
    "var_x = np.var(kidiq[\"mom_iq\"], ddof=1)\n",
    "b = cov_xy / var_x\n",
    "b\n"
   ]
  },
  {
   "cell_type": "code",
   "execution_count": 14,
   "metadata": {},
   "outputs": [
    {
     "data": {
      "text/plain": [
       "25.799777849962986"
      ]
     },
     "execution_count": 14,
     "metadata": {},
     "output_type": "execute_result"
    }
   ],
   "source": [
    "a = np.mean(kidiq[\"kid_score\"]) - b * np.mean(kidiq[\"mom_iq\"])\n",
    "a\n"
   ]
  },
  {
   "attachments": {},
   "cell_type": "markdown",
   "metadata": {},
   "source": [
    "Verifichiamo i risultati trovati usando funzione `optimize.curve_fit`. Questa è una funzione molto potente, in quanto può adattarsi non solo alle funzioni lineari, ma anche alle funzioni non lineari. Qui la usiamo per la retta di regressione."
   ]
  },
  {
   "cell_type": "code",
   "execution_count": 16,
   "metadata": {},
   "outputs": [
    {
     "data": {
      "text/plain": [
       "array([25.7997779 ,  0.60997457])"
      ]
     },
     "execution_count": 16,
     "metadata": {},
     "output_type": "execute_result"
    }
   ],
   "source": [
    "def func(x, a, b):\n",
    "    y = a + b*x\n",
    "    return y\n",
    "  \n",
    "optimize.curve_fit(func, xdata = kidiq.mom_iq, ydata = kidiq.kid_score)[0]"
   ]
  },
  {
   "attachments": {},
   "cell_type": "markdown",
   "metadata": {},
   "source": [
    "In precedenza abbiamo soltanto accennato al problema di come si possono trovano i coefficienti dei minimi quadrati; ritorneremo su questo punto in seguito, con una simulazione. Per ora, chiediamoci cosa significano i due coefficienti che abbiamo appena trovato.\n",
    "\n",
    "Il coefficiente $a$ si chiama *intercetta*. L'intercetta, all'interno del diagramma a dispersione, specifica il punto in cui la retta di regressione interseca l'asse $y$ del sistema di assi cartesiani.\n",
    "\n",
    "Nel caso presente questo valore non è di alcun interesse, perché corrisponde al valore della retta di regressione quando $x = 0$, ovvero quando l'intelligenza della madre è uguale a 0. Vedremo in seguito come, trasformando i dati, è possibile assegnare al coefficiente $a$ un'interpretazione più utile. Per ora mi limito a fornire l'interpretazione del coefficiente.\n",
    "\n",
    "Passando a $b$, possiamo dire che questo secondo coefficiente va sotto il nome di *pendenza* della retta di regressione. Ovvero ci dice di quanto aumenta (se $b$ è positivo) o diminuisce (se $b$ è negativo) la retta di regressione in corrispondenza di un aumento di 1 punto della variabile $x$.\n",
    "\n",
    "Nel caso presente, il coefficiente $b$ ci dice che, se il QI delle madri aumenta di 1 punto, il QI dei bambini aumenta **in media** di 0.61 punti.\n",
    "\n",
    "È importante capire cosa significa che, in base ai risultati della regressione, $y$ aumenta *in media* di $b$ punti per ciascun aumento unitario di $x$.\n",
    "\n",
    "Il modello statistico di regressione *ipotizza* che, per ciascun valore osservato $x$ (per esempio, il valore del QI della prima madre del campione, ovvero $x = 121.11753$) ci sia una distribuzione di valori $y$ nella popolazione, di cui solo uno è stato osservato nel campione. Possiamo facilmente capire che, se consideriamo tutte le madri con QI di 121.12, il punteggio del QI dei loro figli non sia costante, ma assuma tanti valori possibili. Questa distribuzione di valori possibili si chiama distribuzione $y$ condizionata a $x$, ovvero $p(y \\mid x_i)$.\n",
    "\n",
    "Il modello statistico della regressione lineare non può in alcun modo prevedere il valore assunto da ciascuna delle possibili osservazioni che fanno parte della distribuzione $p(y \\mid x_i)$. Il modello della regressione lineare ha un obiettivo più limitato, ovvero si propone di prevedere *le medie* delle distribuzioni $p(y \\mid x_i)$ conoscendo i valori $x$.\n",
    "\n",
    "Dunque, quando il coefficiente $b$ è uguale a 0.61, questo significa che il modello di regressione predice che *la medie* della distribuzione condizionata $p(y \\mid x_i)$ aumenta di 0.61 punti se la variabile $x$ (QI delle madri) aumenta di un punto. Questo significa che il modello di regressione non fa una predizione sul punteggio di ciascun valore $y_i$ (in funzione di $x$), ma solo della media delle distribuzioni condizionate $p(y \\mid x_i)$ di cui il valore osservato $y_i$ è una realizzazione casuale.\n",
    "\n",
    "Possiamo dire la stessa cosa con parole diverse dicendo che il modello di regressione fa delle predizioni sulla componente deterministica di ciascuna osservazione. È più semplice capire questo aspetto se rappresentiamo in maniera grafica la componente \"deterministica\" $\\hat{y}_i = a + b x_i$ predetta dal modello di regressione."
   ]
  },
  {
   "cell_type": "code",
   "execution_count": 17,
   "metadata": {},
   "outputs": [
    {
     "data": {
      "text/plain": [
       "[<matplotlib.lines.Line2D at 0x7ff4330ec370>]"
      ]
     },
     "execution_count": 17,
     "metadata": {},
     "output_type": "execute_result"
    },
    {
     "data": {
      "image/png": "[encoded data removed]",
      "text/plain": [
       "<Figure size 500x309.017 with 1 Axes>"
      ]
     },
     "metadata": {},
     "output_type": "display_data"
    }
   ],
   "source": [
    "_, ax = plt.subplots()\n",
    "ax.plot(kidiq[\"mom_iq\"], a + b * kidiq[\"mom_iq\"], \"o\", alpha=0.4)\n"
   ]
  },
  {
   "attachments": {},
   "cell_type": "markdown",
   "metadata": {},
   "source": [
    "Il diagramma precedente presenta ciascun valore $\\hat{y}_i = a + b x_i$ in funzione di $x_i$. Si vede che i valori predetti dal modello di regressione sono i punti che stanno sulla retta di regressione.\n",
    "\n",
    "In precedenza abbiamo detto che il residuo, ovvero la componente di ciascuna osservazione $y_i$ che non viene predetta dal modello di regressione, corrisponde alla *distanza verticale* tra il valore $y_i$ osservato e il valore $\\hat{y}_i$ predetto dal modello di regressione:\n",
    "\n",
    "$$\n",
    "e_i = y_i - (a + b x_i).\n",
    "$$\n",
    "\n",
    "Nel caso nella prima osservazione, ad esempio abbiamo:\n",
    "\n",
    "$$\n",
    "y_1 = (a + b x_1) + e_1\n",
    "$$\n",
    "\n",
    "Consideriamo il punteggio osservato del QI del primo bambino."
   ]
  },
  {
   "cell_type": "code",
   "execution_count": 18,
   "metadata": {},
   "outputs": [
    {
     "name": "stdout",
     "output_type": "stream",
     "text": [
      "65\n"
     ]
    }
   ],
   "source": [
    "print(kidiq[\"kid_score\"][0])\n"
   ]
  },
  {
   "attachments": {},
   "cell_type": "markdown",
   "metadata": {},
   "source": [
    "Per questo punteggio, il valore predetto dal modello di regressione è"
   ]
  },
  {
   "cell_type": "code",
   "execution_count": 19,
   "metadata": {},
   "outputs": [
    {
     "data": {
      "text/plain": [
       "99.67839048842711"
      ]
     },
     "execution_count": 19,
     "metadata": {},
     "output_type": "execute_result"
    }
   ],
   "source": [
    "a + b * kidiq[\"mom_iq\"][0]\n"
   ]
  },
  {
   "attachments": {},
   "cell_type": "markdown",
   "metadata": {},
   "source": [
    "Per questa osservazione, il residuo (ovvero, l'errore che compiamo utilizzando il modello di regression per predire il QI del bambino) è"
   ]
  },
  {
   "cell_type": "code",
   "execution_count": 20,
   "metadata": {},
   "outputs": [
    {
     "data": {
      "text/plain": [
       "-34.67839048842711"
      ]
     },
     "execution_count": 20,
     "metadata": {},
     "output_type": "execute_result"
    }
   ],
   "source": [
    "kidiq[\"kid_score\"][0] - (a + b * kidiq[\"mom_iq\"][0])\n"
   ]
  },
  {
   "attachments": {},
   "cell_type": "markdown",
   "metadata": {},
   "source": [
    "Per tutte le osservazioni abbiamo"
   ]
  },
  {
   "cell_type": "code",
   "execution_count": 21,
   "metadata": {},
   "outputs": [
    {
     "data": {
      "text/plain": [
       "0     -34.678390\n",
       "1      17.691747\n",
       "2     -11.217173\n",
       "3      -3.461529\n",
       "4      32.627697\n",
       "         ...    \n",
       "429    16.427159\n",
       "430    -6.521552\n",
       "431   -33.661788\n",
       "432     3.120144\n",
       "433   -11.461993\n",
       "Length: 434, dtype: float64"
      ]
     },
     "execution_count": 21,
     "metadata": {},
     "output_type": "execute_result"
    }
   ],
   "source": [
    "res = kidiq[\"kid_score\"] - (a + b * kidiq[\"mom_iq\"])\n",
    "res\n"
   ]
  },
  {
   "attachments": {},
   "cell_type": "markdown",
   "metadata": {},
   "source": [
    "È una proprietà del modello di regressione (calcolato con il metodo dei minimi quadrati) che la somma dei residui sia uguale a zero."
   ]
  },
  {
   "cell_type": "code",
   "execution_count": 22,
   "metadata": {},
   "outputs": [
    {
     "data": {
      "text/plain": [
       "-3.183231456205249e-12"
      ]
     },
     "execution_count": 22,
     "metadata": {},
     "output_type": "execute_result"
    }
   ],
   "source": [
    "np.sum(res)\n"
   ]
  },
  {
   "attachments": {},
   "cell_type": "markdown",
   "metadata": {},
   "source": [
    "Ciò significa che ciascuno dei valore osservato $y_i$ viene scomposto dal modello di regressione in due componenti. La componente deterministica $\\hat{y}_i$, predicibile da $x_i$, è $\\hat{y}_i = a + b x_i$. Il residuo è $e_i = y_i - \\hat{y}_i$. La somma della componente deterministica e della componente erratica, ovviamente, riproduce il valore osservato.\n",
    "\n",
    "### Trasformazione dei dati\n",
    "\n",
    "In generale, per variabili a livello di scala ad intervalli, non è possibile assegnare un'interpretazione utile all'intercetta del modello di regressione lineare. L'intercetta ci dice infatti qual è il valore atteso della $y$ quando $x = 0$. Ma, se la variabile $x$ è misurata su scala ad intervalli, il valore $x = 0$ è arbitrario e non corrisponde \"all'assenza di intensità\" della variabile $x$. Un valore pari a 0 del QI della madre non vuol dire che l'intelligenza della madre sia nulla (un'affermazione, questa, che è difficile da capire), ma semplicemente che il punteggio del test usato per misurare il QI della madre assume valore 0 (qualcosa che, comunque, in pratica non succederà mai). Quindi è di poco interesse sapere qual è il valore medio del QI del bambino quando test usato per misurare il QI della madre ha valore 0. Per potere fornire all'intercetta del modello di regressione un'interpretazione più utile dobbiamo trasformare le osservazioni $x$.\n",
    "\n",
    "Esprimiamo $x$ come differenza dalla media. Chiamiamo questa nuova variabile $xd$:"
   ]
  },
  {
   "cell_type": "code",
   "execution_count": 23,
   "metadata": {},
   "outputs": [
    {
     "data": {
      "text/html": [
       "<div>\n",
       "<style scoped>\n",
       "    .dataframe tbody tr th:only-of-type {\n",
       "        vertical-align: middle;\n",
       "    }\n",
       "\n",
       "    .dataframe tbody tr th {\n",
       "        vertical-align: top;\n",
       "    }\n",
       "\n",
       "    .dataframe thead th {\n",
       "        text-align: right;\n",
       "    }\n",
       "</style>\n",
       "<table border=\"1\" class=\"dataframe\">\n",
       "  <thead>\n",
       "    <tr style=\"text-align: right;\">\n",
       "      <th></th>\n",
       "      <th>kid_score</th>\n",
       "      <th>mom_hs</th>\n",
       "      <th>mom_iq</th>\n",
       "      <th>mom_work</th>\n",
       "      <th>mom_age</th>\n",
       "      <th>xd</th>\n",
       "    </tr>\n",
       "  </thead>\n",
       "  <tbody>\n",
       "    <tr>\n",
       "      <th>0</th>\n",
       "      <td>65</td>\n",
       "      <td>1.0</td>\n",
       "      <td>121.117529</td>\n",
       "      <td>4</td>\n",
       "      <td>27</td>\n",
       "      <td>21.117529</td>\n",
       "    </tr>\n",
       "    <tr>\n",
       "      <th>1</th>\n",
       "      <td>98</td>\n",
       "      <td>1.0</td>\n",
       "      <td>89.361882</td>\n",
       "      <td>4</td>\n",
       "      <td>25</td>\n",
       "      <td>-10.638118</td>\n",
       "    </tr>\n",
       "    <tr>\n",
       "      <th>2</th>\n",
       "      <td>85</td>\n",
       "      <td>1.0</td>\n",
       "      <td>115.443165</td>\n",
       "      <td>4</td>\n",
       "      <td>27</td>\n",
       "      <td>15.443165</td>\n",
       "    </tr>\n",
       "    <tr>\n",
       "      <th>3</th>\n",
       "      <td>83</td>\n",
       "      <td>1.0</td>\n",
       "      <td>99.449639</td>\n",
       "      <td>3</td>\n",
       "      <td>25</td>\n",
       "      <td>-0.550361</td>\n",
       "    </tr>\n",
       "    <tr>\n",
       "      <th>4</th>\n",
       "      <td>115</td>\n",
       "      <td>1.0</td>\n",
       "      <td>92.745710</td>\n",
       "      <td>4</td>\n",
       "      <td>27</td>\n",
       "      <td>-7.254290</td>\n",
       "    </tr>\n",
       "    <tr>\n",
       "      <th>...</th>\n",
       "      <td>...</td>\n",
       "      <td>...</td>\n",
       "      <td>...</td>\n",
       "      <td>...</td>\n",
       "      <td>...</td>\n",
       "      <td>...</td>\n",
       "    </tr>\n",
       "    <tr>\n",
       "      <th>429</th>\n",
       "      <td>94</td>\n",
       "      <td>0.0</td>\n",
       "      <td>84.877412</td>\n",
       "      <td>4</td>\n",
       "      <td>21</td>\n",
       "      <td>-15.122588</td>\n",
       "    </tr>\n",
       "    <tr>\n",
       "      <th>430</th>\n",
       "      <td>76</td>\n",
       "      <td>1.0</td>\n",
       "      <td>92.990392</td>\n",
       "      <td>4</td>\n",
       "      <td>23</td>\n",
       "      <td>-7.009608</td>\n",
       "    </tr>\n",
       "    <tr>\n",
       "      <th>431</th>\n",
       "      <td>50</td>\n",
       "      <td>0.0</td>\n",
       "      <td>94.859708</td>\n",
       "      <td>2</td>\n",
       "      <td>24</td>\n",
       "      <td>-5.140292</td>\n",
       "    </tr>\n",
       "    <tr>\n",
       "      <th>432</th>\n",
       "      <td>88</td>\n",
       "      <td>1.0</td>\n",
       "      <td>96.856624</td>\n",
       "      <td>2</td>\n",
       "      <td>21</td>\n",
       "      <td>-3.143376</td>\n",
       "    </tr>\n",
       "    <tr>\n",
       "      <th>433</th>\n",
       "      <td>70</td>\n",
       "      <td>1.0</td>\n",
       "      <td>91.253336</td>\n",
       "      <td>2</td>\n",
       "      <td>25</td>\n",
       "      <td>-8.746664</td>\n",
       "    </tr>\n",
       "  </tbody>\n",
       "</table>\n",
       "<p>434 rows × 6 columns</p>\n",
       "</div>"
      ],
      "text/plain": [
       "     kid_score  mom_hs      mom_iq  mom_work  mom_age         xd\n",
       "0           65     1.0  121.117529         4       27  21.117529\n",
       "1           98     1.0   89.361882         4       25 -10.638118\n",
       "2           85     1.0  115.443165         4       27  15.443165\n",
       "3           83     1.0   99.449639         3       25  -0.550361\n",
       "4          115     1.0   92.745710         4       27  -7.254290\n",
       "..         ...     ...         ...       ...      ...        ...\n",
       "429         94     0.0   84.877412         4       21 -15.122588\n",
       "430         76     1.0   92.990392         4       23  -7.009608\n",
       "431         50     0.0   94.859708         2       24  -5.140292\n",
       "432         88     1.0   96.856624         2       21  -3.143376\n",
       "433         70     1.0   91.253336         2       25  -8.746664\n",
       "\n",
       "[434 rows x 6 columns]"
      ]
     },
     "execution_count": 23,
     "metadata": {},
     "output_type": "execute_result"
    }
   ],
   "source": [
    "kidiq[\"xd\"] = kidiq[\"mom_iq\"] - np.mean(kidiq[\"mom_iq\"])\n",
    "kidiq\n"
   ]
  },
  {
   "attachments": {},
   "cell_type": "markdown",
   "metadata": {},
   "source": [
    "Se ora usiamo le coppie di osservazioni $(xd_i, y_i)$, il diagramma a dispersione assume la forma seguente."
   ]
  },
  {
   "cell_type": "code",
   "execution_count": 24,
   "metadata": {},
   "outputs": [
    {
     "data": {
      "text/plain": [
       "Text(0, 0.5, 'QI del bambino')"
      ]
     },
     "execution_count": 24,
     "metadata": {},
     "output_type": "execute_result"
    },
    {
     "data": {
      "image/png": "[encoded data removed]",
      "text/plain": [
       "<Figure size 500x309.017 with 1 Axes>"
      ]
     },
     "metadata": {},
     "output_type": "display_data"
    }
   ],
   "source": [
    "_, ax = plt.subplots()\n",
    "ax.plot(kidiq[\"xd\"], kidiq[\"kid_score\"], \"o\", alpha=0.4)\n",
    "b, a = np.polyfit(kidiq[\"xd\"], kidiq[\"kid_score\"], 1)\n",
    "plt.plot(kidiq[\"xd\"], a + b * kidiq[\"xd\"])\n",
    "ax.set_xlabel(\"QI della madre (scarti dalla media)\")\n",
    "ax.set_ylabel(\"QI del bambino\")\n"
   ]
  },
  {
   "attachments": {},
   "cell_type": "markdown",
   "metadata": {},
   "source": [
    "Quello che abbiamo fatto è stato di *traslare rigidamente* la nube di punti sul piano cartesiano di una quantità pari alla distanza tra $\\bar{x}$ e l'origine. Dunque, le *relazioni spaziali* tra i punti del diagramma a dispersione restano immutate. Di conseguenza, la pendenza della retta di regressione calcolata sui dati trasformati è uguale a quella che si trova nel caso dei dati non trasformati. Ciò che cambia è solo il valore dell'intercetta."
   ]
  },
  {
   "cell_type": "code",
   "execution_count": 25,
   "metadata": {},
   "outputs": [
    {
     "data": {
      "text/plain": [
       "(86.79723502304148, 0.6099745717307852)"
      ]
     },
     "execution_count": 25,
     "metadata": {},
     "output_type": "execute_result"
    }
   ],
   "source": [
    "result = stats.linregress(kidiq.xd, kidiq.kid_score)\n",
    "result.intercept, result.slope\n"
   ]
  },
  {
   "attachments": {},
   "cell_type": "markdown",
   "metadata": {},
   "source": [
    "L'intercetta corrisponde al punto sull'asse $y$ dove la retta di regressione interseca l'ordinata. Ma, nel caso dei dati trasformati, dato che abbiamo traslato i punti di una quantità pari a $x - \\bar{x}$, il valore $xd = 0$ corrisponde a $x = \\bar{x}$ nel caso dei dati grezzi. Dunque, per i dati trasformati $xd_i, y_i$, l'intercetta corrisponderà al valore atteso della $y$ in corrispondenza del valore medio della variabile $x$ sulla scala dei dati non trasformati (ovvero $\\bar{x}$). In altre parole, l'intercetta del modello di regressione lineare calcolata sui dati trasformati corrisponde al QI medio dei bambini in corrispondenza del QI medio delle madri.\n",
    "\n",
    "### Il metodo dei minimi quadrati\n",
    "\n",
    "Ora che abbiamo visto come interpretare il coefficienti di regressione, chiediamoci come vengono calcolati. La procedura generale è stata brevemente descritta in precedenza. Vediamo ora come si giunge alla conclusione descritta sopra usando una simulazione.\n",
    "\n",
    "Il problema è di trovare i valori $a$ e $b$ tali per cui la quantità $\\sum_{i=1}^{n}{(y_i - (a + b x_i))^2}$ assume il valore minore possibile. Questo è un problema di minimizzazione rispetto a due parametri. Per dare un'idea di come si fa, semplifichiamo il problema e supponiamo che uno dei due parametri sia noto, ad esempio $a$, così ci resta una sola incognita.\n",
    "\n",
    "Credo una griglia di valori `b_grid` possibili, ad esempio:"
   ]
  },
  {
   "cell_type": "code",
   "execution_count": 26,
   "metadata": {},
   "outputs": [],
   "source": [
    "b_grid = np.linspace(0, 1, 1001)\n"
   ]
  },
  {
   "attachments": {},
   "cell_type": "markdown",
   "metadata": {},
   "source": [
    "Definisco una funzione che calcola la quantità $\\sum_{i=1}^{n}{(y_i - (a + b x_i))^2}$:"
   ]
  },
  {
   "cell_type": "code",
   "execution_count": 27,
   "metadata": {},
   "outputs": [],
   "source": [
    "def sse(a, b, x, y):\n",
    "    return np.sum((y - (a + b * x)) ** 2)\n"
   ]
  },
  {
   "attachments": {},
   "cell_type": "markdown",
   "metadata": {},
   "source": [
    "Calcolo la somma degli errori quadratici per ciascun possibile valore `b_grid`, fissando $a = 25.79978$."
   ]
  },
  {
   "cell_type": "code",
   "execution_count": 28,
   "metadata": {},
   "outputs": [],
   "source": [
    "a = 25.79978\n",
    "sse_vals = [sse(a, b, kidiq[\"mom_iq\"], kidiq[\"kid_score\"]) for b in b_grid]\n"
   ]
  },
  {
   "attachments": {},
   "cell_type": "markdown",
   "metadata": {},
   "source": [
    "Esaminiamo il risultato ottenuto.\n"
   ]
  },
  {
   "cell_type": "code",
   "execution_count": 29,
   "metadata": {},
   "outputs": [
    {
     "data": {
      "text/plain": [
       "Text(0, 0.5, 'SSE')"
      ]
     },
     "execution_count": 29,
     "metadata": {},
     "output_type": "execute_result"
    },
    {
     "data": {
      "image/png": "[encoded data removed]",
      "text/plain": [
       "<Figure size 500x309.017 with 1 Axes>"
      ]
     },
     "metadata": {},
     "output_type": "display_data"
    }
   ],
   "source": [
    "_, ax = plt.subplots()\n",
    "ax.plot(b_grid, sse_vals)\n",
    "ax.set_xlabel(\"Valori possibili del coefficiente b\")\n",
    "ax.set_ylabel(\"SSE\")\n"
   ]
  },
  {
   "attachments": {},
   "cell_type": "markdown",
   "metadata": {},
   "source": [
    "Il risultato ottenuto con la simulazione riproduce quello ottenuto per via analitica.\n"
   ]
  },
  {
   "cell_type": "code",
   "execution_count": 30,
   "metadata": {},
   "outputs": [
    {
     "data": {
      "text/html": [
       "<div>\n",
       "<style scoped>\n",
       "    .dataframe tbody tr th:only-of-type {\n",
       "        vertical-align: middle;\n",
       "    }\n",
       "\n",
       "    .dataframe tbody tr th {\n",
       "        vertical-align: top;\n",
       "    }\n",
       "\n",
       "    .dataframe thead th {\n",
       "        text-align: right;\n",
       "    }\n",
       "</style>\n",
       "<table border=\"1\" class=\"dataframe\">\n",
       "  <thead>\n",
       "    <tr style=\"text-align: right;\">\n",
       "      <th></th>\n",
       "      <th>x</th>\n",
       "      <th>y</th>\n",
       "    </tr>\n",
       "  </thead>\n",
       "  <tbody>\n",
       "    <tr>\n",
       "      <th>0</th>\n",
       "      <td>0.000</td>\n",
       "      <td>1.795165e+06</td>\n",
       "    </tr>\n",
       "    <tr>\n",
       "      <th>1</th>\n",
       "      <td>0.001</td>\n",
       "      <td>1.789756e+06</td>\n",
       "    </tr>\n",
       "    <tr>\n",
       "      <th>2</th>\n",
       "      <td>0.002</td>\n",
       "      <td>1.784356e+06</td>\n",
       "    </tr>\n",
       "    <tr>\n",
       "      <th>3</th>\n",
       "      <td>0.003</td>\n",
       "      <td>1.778965e+06</td>\n",
       "    </tr>\n",
       "    <tr>\n",
       "      <th>4</th>\n",
       "      <td>0.004</td>\n",
       "      <td>1.773583e+06</td>\n",
       "    </tr>\n",
       "    <tr>\n",
       "      <th>...</th>\n",
       "      <td>...</td>\n",
       "      <td>...</td>\n",
       "    </tr>\n",
       "    <tr>\n",
       "      <th>996</th>\n",
       "      <td>0.996</td>\n",
       "      <td>8.053831e+05</td>\n",
       "    </tr>\n",
       "    <tr>\n",
       "      <th>997</th>\n",
       "      <td>0.997</td>\n",
       "      <td>8.088135e+05</td>\n",
       "    </tr>\n",
       "    <tr>\n",
       "      <th>998</th>\n",
       "      <td>0.998</td>\n",
       "      <td>8.122527e+05</td>\n",
       "    </tr>\n",
       "    <tr>\n",
       "      <th>999</th>\n",
       "      <td>0.999</td>\n",
       "      <td>8.157008e+05</td>\n",
       "    </tr>\n",
       "    <tr>\n",
       "      <th>1000</th>\n",
       "      <td>1.000</td>\n",
       "      <td>8.191578e+05</td>\n",
       "    </tr>\n",
       "  </tbody>\n",
       "</table>\n",
       "<p>1001 rows × 2 columns</p>\n",
       "</div>"
      ],
      "text/plain": [
       "          x             y\n",
       "0     0.000  1.795165e+06\n",
       "1     0.001  1.789756e+06\n",
       "2     0.002  1.784356e+06\n",
       "3     0.003  1.778965e+06\n",
       "4     0.004  1.773583e+06\n",
       "...     ...           ...\n",
       "996   0.996  8.053831e+05\n",
       "997   0.997  8.088135e+05\n",
       "998   0.998  8.122527e+05\n",
       "999   0.999  8.157008e+05\n",
       "1000  1.000  8.191578e+05\n",
       "\n",
       "[1001 rows x 2 columns]"
      ]
     },
     "execution_count": 30,
     "metadata": {},
     "output_type": "execute_result"
    }
   ],
   "source": [
    "df = pd.DataFrame({\"x\": b_grid, \"y\": sse_vals})\n",
    "df\n"
   ]
  },
  {
   "cell_type": "code",
   "execution_count": 31,
   "metadata": {},
   "outputs": [
    {
     "data": {
      "text/html": [
       "<div>\n",
       "<style scoped>\n",
       "    .dataframe tbody tr th:only-of-type {\n",
       "        vertical-align: middle;\n",
       "    }\n",
       "\n",
       "    .dataframe tbody tr th {\n",
       "        vertical-align: top;\n",
       "    }\n",
       "\n",
       "    .dataframe thead th {\n",
       "        text-align: right;\n",
       "    }\n",
       "</style>\n",
       "<table border=\"1\" class=\"dataframe\">\n",
       "  <thead>\n",
       "    <tr style=\"text-align: right;\">\n",
       "      <th></th>\n",
       "      <th>x</th>\n",
       "      <th>y</th>\n",
       "    </tr>\n",
       "  </thead>\n",
       "  <tbody>\n",
       "    <tr>\n",
       "      <th>610</th>\n",
       "      <td>0.61</td>\n",
       "      <td>144137.339359</td>\n",
       "    </tr>\n",
       "  </tbody>\n",
       "</table>\n",
       "</div>"
      ],
      "text/plain": [
       "        x              y\n",
       "610  0.61  144137.339359"
      ]
     },
     "execution_count": 31,
     "metadata": {},
     "output_type": "execute_result"
    }
   ],
   "source": [
    "df[df.y == df.y.min()]\n"
   ]
  },
  {
   "attachments": {},
   "cell_type": "markdown",
   "metadata": {},
   "source": [
    "Una simulazione simile, ma computazionalmente più complessa, può essere usata per stimare simultaneamente entrambi i coefficienti del modello lineare. Ci siamo limitati qui ad una *proof of concept* del caso più semplice."
   ]
  },
  {
   "attachments": {},
   "cell_type": "markdown",
   "metadata": {},
   "source": [
    "### L'errore standard della regressione\n",
    "\n",
    "Il secondo obiettivo del modello statistico di regressione lineare è quello di stabilire *quanto sia grande la componente* $y$ predicibile da $x$, per ciascuna osservazione. Un indice assoluto della bontà di adattamento è fornito dalla deviazione standard dei residui, $s_e$, chiamata anche *errore standard della stima*. Uno stimatore non distorto della varianza dei residui nella popolazione è dato da\n",
    "\n",
    "$$\n",
    "s^2_e = \\frac{1}{n-2}\\sum e_i^2\n",
    "$$\n",
    "\n",
    "e quindi l'errore standard della stima sarà\n",
    "\n",
    "$$\n",
    "s_e = \\sqrt{\\frac{1}{n-2}\\sum e_i^2}.\n",
    "$$\n",
    "\n",
    "Si noti che questa è la stessa formula della varianza (dato che la media dei residui è zero), tranne per il fatto che al denominatore abbiamo $n-2$. Dato che, per calcolare $\\hat{y}$ abbiamo usato due coefficienti ($a$ e $b$), si dice che \"abbiamo perso due gradi di libertà\".\n",
    "\n",
    "Dato che $s_e$ possiede la stessa unità di misura della variabile $y$, l'errore standard della stima può essere considerato come una sorta di \"residuo medio.\" -- usando la stessa interpretazione che diamo alla deviazione standard in generale. Si noti che la formula precedente non fornisce la \"deviazione standard dei residui nel campione\" (quella formula avrebbe $n$ al denominatore). Invece, fornisce una *stima* della deviazione standard dei residui nella popolazione da cui il campione è stato estratto.\n",
    "\n",
    "Verifichiamo quanto detto con i dati a disposizione. I residui possono essere trovati nel modo seguente."
   ]
  },
  {
   "cell_type": "code",
   "execution_count": 32,
   "metadata": {},
   "outputs": [
    {
     "data": {
      "text/plain": [
       "1    17.691744\n",
       "2   -11.217175\n",
       "3    -3.461531\n",
       "4    32.627695\n",
       "5     6.382843\n",
       "6   -41.521043\n",
       "7     3.864879\n",
       "8    26.414384\n",
       "9    11.208066\n",
       "dtype: float64"
      ]
     },
     "execution_count": 32,
     "metadata": {},
     "output_type": "execute_result"
    }
   ],
   "source": [
    "e = kidiq.kid_score - (a + b * kidiq.mom_iq)\n",
    "e[1:10]\n"
   ]
  },
  {
   "attachments": {},
   "cell_type": "markdown",
   "metadata": {},
   "source": [
    "Calcolo il residuo medio, prendendo il valore assoluto.\n"
   ]
  },
  {
   "cell_type": "code",
   "execution_count": 98,
   "metadata": {},
   "outputs": [
    {
     "data": {
      "text/plain": [
       "14.46860267547228"
      ]
     },
     "execution_count": 98,
     "metadata": {},
     "output_type": "execute_result"
    }
   ],
   "source": [
    "np.mean(np.abs(e))\n"
   ]
  },
  {
   "attachments": {},
   "cell_type": "markdown",
   "metadata": {},
   "source": [
    "L'errore standard della regressione è\n"
   ]
  },
  {
   "cell_type": "code",
   "execution_count": 33,
   "metadata": {},
   "outputs": [
    {
     "data": {
      "text/plain": [
       "18.2661227922994"
      ]
     },
     "execution_count": 33,
     "metadata": {},
     "output_type": "execute_result"
    }
   ],
   "source": [
    "np.sqrt(sum(e**2) / (len(e) - 2))\n"
   ]
  },
  {
   "attachments": {},
   "cell_type": "markdown",
   "metadata": {},
   "source": [
    "I due numeri non sono uguali, ma hanno lo stesso ordine di grandezza.\n",
    "\n",
    "## Indice di determinazione\n",
    "\n",
    "Un importante risultato dei minimi quadrati riguarda la cosiddetta *scomposizione della devianza* mediante la quale si definisce l'indice di determinazione, il quale fornisce una misura relativa della bontà di adattamento del modello di regressione ai dati del campione. Per una generica osservazione $x_i, y_i$, la variazione di $y_i$ rispetto alla media $\\bar{y}$ può essere descritta come la somma di due componenti: il residuo $e_i=y_i- \\hat{y}_i$ e lo scarto di $\\hat{y}_i$ rispetto alla media $\\bar{y}$:\n",
    "\n",
    "$$\n",
    "y_i - \\bar{y} = (y_i- \\hat{y}_i) + (\\hat{y}_i - \\bar{y}) = e_i + (\\hat{y}_i - \\bar{y}).\n",
    "$$\n",
    "\n",
    "Se consideriamo tutte le osservazioni, la devianza delle $y$ può essere scomposta nel seguente modo:\n",
    "\n",
    "$$\n",
    "\\begin{align}\n",
    " \\sum (y_i - \\bar{y})^2 &= \\sum \\left[ e_i + (\\hat{y}_i - \\bar{y})\n",
    " \\right]^2 \n",
    " = \\sum e_i^2 + \\sum (\\hat{y}_i - \\bar{y})^2 + 2 \\sum e_i (\\hat{y}_i -\n",
    " \\bar{y}) \\notag\n",
    "\\end{align}\n",
    "$$\n",
    "\n",
    "Per i vincoli imposti sul modello statistico di regressione, il doppio prodotto si annulla, infatti\n",
    "\n",
    "$$\n",
    "\\begin{align}\n",
    "\\sum e_i (\\hat{y}_i - \\bar{y}) &= \\sum e_i \\hat{y}_i - \\bar{y}\\sum e_i = \\sum e_i (a + b x_i) \\notag \\\\\n",
    "&= a \\sum e_i + b \\sum e_i x_i = 0 \\notag\n",
    "\\end{align}\n",
    "$$\n",
    "\n",
    "Il termine $b \\sum e_i x_i$ è uguale a zero perché, come vedremo in seguito, i coefficienti di regressione vengono calcolati in modo tale da rendere nulla $Cov(e, x)$. Di conseguenza, il termine precedente deve essere nullo.\n",
    "\n",
    "Possiamo dunque concludere che la devianza totale ($dev_T$) si scompone nella somma di devianza d'errore (o devianza non spiegata) ($dev_E$) e devianza di regressione (o devianza spiegata) ($dev_T$):\n",
    "\n",
    "$$\n",
    "\\begin{align}\n",
    "\\underbrace{\\sum_{i=1}^n (y_i - \\bar{y})^2}_{\\tiny{\\text{Devianza\n",
    "totale}}} &= \\underbrace{\\sum_{i=1}^n e_i^2}_{\\tiny{\\text{Devianza\n",
    "di dispersione}}} + \\underbrace{\\sum_{i=1}^n  (\\hat{y}_i -\n",
    "\\bar{y})^2}_{\\tiny{\\text{Devianza di regressione}}} \\notag\n",
    "\\end{align}\n",
    "$$\n",
    "\n",
    "La devianza di regressione, $dev_R = dev_T - dev_E$, indica dunque la riduzione degli errori al quadrato che è imputabile alla regressione lineare. Il rapporto $dev_R/dev_T$, detto *indice di determinazione*, esprime tale riduzione degli errori in termini proporzionali e definisce il coefficiente di correlazione al quadrato:\n",
    "\n",
    "$$\n",
    "R^2 = \\frac{dev_R}{dev_T} = 1 - \\frac{dev_E}{dev_T}.\n",
    "$$\n",
    "\n",
    "Quando l'insieme di tutte le deviazioni della $y$ dalla media è spiegato dall'insieme di tutte le deviazioni della variabile teorica $\\hat{y}$ dalla media, si ha che l'adattamento (o accostamento) del modello al campione di dati è perfetto, la devianza residua è nulla ed $r^2 = 1$; nel caso opposto, la variabilità totale coincide con quella residua, per cui $r^2 = 0$. Tra questi due estremi, $r$ indica l'intensità della relazione lineare tra le due variabili e $r^2$, con $0 \\leq r^2 \\leq 1$, esprime la porzione della devianza totale della $y$ che è spiegata dalla regressione lineare sulla $x$.\n",
    "\n",
    "Per l'esempio in discussione abbiamo quanto segue. La devianza totale è"
   ]
  },
  {
   "cell_type": "code",
   "execution_count": 34,
   "metadata": {},
   "outputs": [
    {
     "data": {
      "text/plain": [
       "180386.15668202768"
      ]
     },
     "execution_count": 34,
     "metadata": {},
     "output_type": "execute_result"
    }
   ],
   "source": [
    "dev_t = np.sum((kidiq.kid_score - np.mean(kidiq.kid_score)) ** 2)\n",
    "dev_t\n"
   ]
  },
  {
   "attachments": {},
   "cell_type": "markdown",
   "metadata": {},
   "source": [
    "La devianza spiegata è"
   ]
  },
  {
   "cell_type": "code",
   "execution_count": 35,
   "metadata": {},
   "outputs": [
    {
     "data": {
      "text/plain": [
       "36248.820197060355"
      ]
     },
     "execution_count": 35,
     "metadata": {},
     "output_type": "execute_result"
    }
   ],
   "source": [
    "dev_r = np.sum(((a + b * kidiq.mom_iq) - np.mean(kidiq.kid_score)) ** 2)\n",
    "dev_r\n"
   ]
  },
  {
   "attachments": {},
   "cell_type": "markdown",
   "metadata": {},
   "source": [
    "L'indice di determinazione è\n"
   ]
  },
  {
   "cell_type": "code",
   "execution_count": 36,
   "metadata": {},
   "outputs": [
    {
     "data": {
      "text/plain": [
       "0.201"
      ]
     },
     "execution_count": 36,
     "metadata": {},
     "output_type": "execute_result"
    }
   ],
   "source": [
    "R2 = dev_r / dev_t\n",
    "round(R2, 3)\n"
   ]
  },
  {
   "attachments": {},
   "cell_type": "markdown",
   "metadata": {},
   "source": [
    "Verifichiamo."
   ]
  },
  {
   "cell_type": "code",
   "execution_count": 37,
   "metadata": {},
   "outputs": [
    {
     "data": {
      "text/html": [
       "<table class=\"simpletable\">\n",
       "<caption>OLS Regression Results</caption>\n",
       "<tr>\n",
       "  <th>Dep. Variable:</th>        <td>kid_score</td>    <th>  R-squared:         </th> <td>   0.201</td>\n",
       "</tr>\n",
       "<tr>\n",
       "  <th>Model:</th>                   <td>OLS</td>       <th>  Adj. R-squared:    </th> <td>   0.199</td>\n",
       "</tr>\n",
       "<tr>\n",
       "  <th>Method:</th>             <td>Least Squares</td>  <th>  F-statistic:       </th> <td>   108.6</td>\n",
       "</tr>\n",
       "<tr>\n",
       "  <th>Date:</th>             <td>Sat, 04 Feb 2023</td> <th>  Prob (F-statistic):</th> <td>7.66e-23</td>\n",
       "</tr>\n",
       "<tr>\n",
       "  <th>Time:</th>                 <td>08:05:17</td>     <th>  Log-Likelihood:    </th> <td> -1875.6</td>\n",
       "</tr>\n",
       "<tr>\n",
       "  <th>No. Observations:</th>      <td>   434</td>      <th>  AIC:               </th> <td>   3755.</td>\n",
       "</tr>\n",
       "<tr>\n",
       "  <th>Df Residuals:</th>          <td>   432</td>      <th>  BIC:               </th> <td>   3763.</td>\n",
       "</tr>\n",
       "<tr>\n",
       "  <th>Df Model:</th>              <td>     1</td>      <th>                     </th>     <td> </td>   \n",
       "</tr>\n",
       "<tr>\n",
       "  <th>Covariance Type:</th>      <td>nonrobust</td>    <th>                     </th>     <td> </td>   \n",
       "</tr>\n",
       "</table>\n",
       "<table class=\"simpletable\">\n",
       "<tr>\n",
       "     <td></td>       <th>coef</th>     <th>std err</th>      <th>t</th>      <th>P>|t|</th>  <th>[0.025</th>    <th>0.975]</th>  \n",
       "</tr>\n",
       "<tr>\n",
       "  <th>const</th>  <td>   25.7998</td> <td>    5.917</td> <td>    4.360</td> <td> 0.000</td> <td>   14.169</td> <td>   37.430</td>\n",
       "</tr>\n",
       "<tr>\n",
       "  <th>mom_iq</th> <td>    0.6100</td> <td>    0.059</td> <td>   10.423</td> <td> 0.000</td> <td>    0.495</td> <td>    0.725</td>\n",
       "</tr>\n",
       "</table>\n",
       "<table class=\"simpletable\">\n",
       "<tr>\n",
       "  <th>Omnibus:</th>       <td> 7.545</td> <th>  Durbin-Watson:     </th> <td>   1.645</td>\n",
       "</tr>\n",
       "<tr>\n",
       "  <th>Prob(Omnibus):</th> <td> 0.023</td> <th>  Jarque-Bera (JB):  </th> <td>   7.735</td>\n",
       "</tr>\n",
       "<tr>\n",
       "  <th>Skew:</th>          <td>-0.324</td> <th>  Prob(JB):          </th> <td>  0.0209</td>\n",
       "</tr>\n",
       "<tr>\n",
       "  <th>Kurtosis:</th>      <td> 2.919</td> <th>  Cond. No.          </th> <td>    682.</td>\n",
       "</tr>\n",
       "</table><br/><br/>Notes:<br/>[1] Standard Errors assume that the covariance matrix of the errors is correctly specified."
      ],
      "text/plain": [
       "<class 'statsmodels.iolib.summary.Summary'>\n",
       "\"\"\"\n",
       "                            OLS Regression Results                            \n",
       "==============================================================================\n",
       "Dep. Variable:              kid_score   R-squared:                       0.201\n",
       "Model:                            OLS   Adj. R-squared:                  0.199\n",
       "Method:                 Least Squares   F-statistic:                     108.6\n",
       "Date:                Sat, 04 Feb 2023   Prob (F-statistic):           7.66e-23\n",
       "Time:                        08:05:17   Log-Likelihood:                -1875.6\n",
       "No. Observations:                 434   AIC:                             3755.\n",
       "Df Residuals:                     432   BIC:                             3763.\n",
       "Df Model:                           1                                         \n",
       "Covariance Type:            nonrobust                                         \n",
       "==============================================================================\n",
       "                 coef    std err          t      P>|t|      [0.025      0.975]\n",
       "------------------------------------------------------------------------------\n",
       "const         25.7998      5.917      4.360      0.000      14.169      37.430\n",
       "mom_iq         0.6100      0.059     10.423      0.000       0.495       0.725\n",
       "==============================================================================\n",
       "Omnibus:                        7.545   Durbin-Watson:                   1.645\n",
       "Prob(Omnibus):                  0.023   Jarque-Bera (JB):                7.735\n",
       "Skew:                          -0.324   Prob(JB):                       0.0209\n",
       "Kurtosis:                       2.919   Cond. No.                         682.\n",
       "==============================================================================\n",
       "\n",
       "Notes:\n",
       "[1] Standard Errors assume that the covariance matrix of the errors is correctly specified.\n",
       "\"\"\""
      ]
     },
     "execution_count": 37,
     "metadata": {},
     "output_type": "execute_result"
    }
   ],
   "source": [
    "X = sm.add_constant(kidiq[\"mom_iq\"])\n",
    "mod = sm.OLS(kidiq[\"kid_score\"], X)\n",
    "res = mod.fit()\n",
    "res.summary()\n"
   ]
  },
  {
   "attachments": {},
   "cell_type": "markdown",
   "metadata": {},
   "source": [
    "Il risultato ottenuto si può interpretare dicendo che circa il 20% della variabilità dei punteggi del QI dei bambini può essere predetto conoscendo il QI delle madri.\n",
    "\n",
    "### Inferenza sul modello di regressione\n",
    "\n",
    "La discussione precedente era tutta basata sulla trattazione \"classica\" del modello lineare, ovvero una trattazione basata sulle stime di massima verosimiglianza (se $y \\sim \\mathcal{N}(\\alpha + \\beta x, \\sigma)$, allora le stime dei minimi quadrati coincidono con le stime di massima verosimiglianza). In altre parole, nella discussione precedente non abbiamo considerato in alcun modo le distribuzioni a priori dei parametri $\\alpha$ e $\\beta$. I risultati precedenti si confermano, in un contesto bayesiano, se e solo se imponiamo sui parametri delle distribuzioni a priori non informative (cioè, uniformi). In tali circostanze, le stime di massima verosimiglianza risultano identiche al massimo a posteriori bayesiano.\n",
    "\n",
    "Detto questo, il tema dell'inferenza viene trattato dall'approccio frequentista costruendo la \"distribuzione campionaria\" dei parametri (ovvero la distribuzione dei valori che i parametri otterrebbero in infiniti campioni casuali ($x, y$) di ampiezza $n$ estratti dalla medesima popolazione) e poi calcolando gli errori standard dei parametri e gli intervalli di fiducia dei parametri. Una domanda frequente è, per esempio, se la pendenza della retta di regressione sia maggiore di zero. Per rispondere a tale domanda l'approccio frequentista calcola l'intervallo di fiducia al 95% per il parametro $\\beta$. Se tale intervallo non include lo zero, e se il limite inferiore di tale intervallo è maggiore di zero, allora si conclude, con un grado di confidenza del 95%, che il vero parametro $\\beta$ nella popolazione è maggiore di zero. Ovvero, si conclude che vi sono evidenze di un'associazione lineare positiva tra $x$ e $y$.\n",
    "\n",
    "Alla stessa conclusione si può arrivare calcolando, in un ottica bayesiana, l'intervallo di credibilità al 95% per il parametro $\\beta$. I due intervalli sono identici se usiamo una distribuzione a priori piatta. Sono invece diversi se usiamo una distribuzione a priori debolmente informativa, oppure informativa.\n",
    "\n",
    "Solitamente si usa una distribuzione a priori debolmente informativa centrata sullo zero. In tali circostanze, l'uso della distribuzione a priori ha solo un effetto di *regolarizzazione*, ovvero di riduzione del peso delle osservazioni estreme -- un tale risultato statistico è molto desiderabile, ma è difficile da ottenere in un contesto frequentista. Vedremo nel prossimo capitolo come può essere svolta l'inferenza sui coefficienti del modello di regressione lineare in un contesto bayesiano.\n",
    "\n",
    "## Commenti e considerazioni finali\n",
    "\n",
    "Il modello lineare bivariato viene usato per descrivere la relazione tra due variabili e per determinare il segno e l'intensità di tale relazione. Inoltre, il modello lineare ci consente di prevedere il valore della variabile dipendente in base al valore assunto dalla variabile indipendente."
   ]
  },
  {
   "attachments": {},
   "cell_type": "markdown",
   "metadata": {},
   "source": [
    "## Watermark"
   ]
  },
  {
   "cell_type": "code",
   "execution_count": 104,
   "metadata": {},
   "outputs": [
    {
     "name": "stdout",
     "output_type": "stream",
     "text": [
      "The watermark extension is already loaded. To reload it, use:\n",
      "  %reload_ext watermark\n",
      "Last updated: Mon Dec 26 2022\n",
      "\n",
      "Python implementation: CPython\n",
      "Python version       : 3.8.15\n",
      "IPython version      : 8.7.0\n",
      "\n",
      "pytensor: 2.8.10\n",
      "\n",
      "debugpy    : 1.5.1\n",
      "scipy      : 1.9.3\n",
      "seaborn    : 0.12.1\n",
      "arviz      : 0.14.0\n",
      "sys        : 3.8.15 (default, Nov 24 2022, 09:04:07) \n",
      "[Clang 14.0.6 ]\n",
      "numpy      : 1.24.0\n",
      "pandas     : 1.5.2\n",
      "statsmodels: 0.13.5\n",
      "ipykernel  : 6.15.2\n",
      "matplotlib : 3.6.2\n",
      "\n",
      "Watermark: 2.3.1\n",
      "\n"
     ]
    }
   ],
   "source": [
    "%load_ext watermark\n",
    "%watermark -n -u -v -iv -w -p pytensor"
   ]
  }
 ],
 "metadata": {
  "kernelspec": {
   "display_name": "pymc",
   "language": "python",
   "name": "python3"
  },
  "language_info": {
   "codemirror_mode": {
    "name": "ipython",
    "version": 3
   },
   "file_extension": ".py",
   "mimetype": "text/x-python",
   "name": "python",
   "nbconvert_exporter": "python",
   "pygments_lexer": "ipython3",
   "version": "3.10.9"
  },
  "orig_nbformat": 4,
  "vscode": {
   "interpreter": {
    "hash": "030ae53b1150d0ca6a72bb4a7a0454cbd9dab0eb2818ba119bbca0111e46e432"
   }
  }
 },
 "nbformat": 4,
 "nbformat_minor": 2
}
